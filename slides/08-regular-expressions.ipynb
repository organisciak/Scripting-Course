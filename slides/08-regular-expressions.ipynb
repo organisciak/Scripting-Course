{
 "cells": [
  {
   "attachments": {},
   "cell_type": "markdown",
   "metadata": {
    "slideshow": {
     "slide_type": "slide"
    }
   },
   "source": [
    "# Regular Expressions"
   ]
  },
  {
   "attachments": {},
   "cell_type": "markdown",
   "metadata": {
    "slideshow": {
     "slide_type": "subslide"
    }
   },
   "source": [
    "## Announcements"
   ]
  },
  {
   "attachments": {},
   "cell_type": "markdown",
   "metadata": {
    "slideshow": {
     "slide_type": "subslide"
    }
   },
   "source": [
    "## Final project discussion"
   ]
  },
  {
   "attachments": {},
   "cell_type": "markdown",
   "metadata": {
    "slideshow": {
     "slide_type": "subslide"
    }
   },
   "source": [
    "## Review"
   ]
  },
  {
   "attachments": {},
   "cell_type": "markdown",
   "metadata": {
    "slideshow": {
     "slide_type": "subslide"
    }
   },
   "source": [
    "## Looking Back"
   ]
  },
  {
   "attachments": {},
   "cell_type": "markdown",
   "metadata": {
    "slideshow": {
     "slide_type": "fragment"
    }
   },
   "source": [
    "- SQL, Relational Databases\n",
    "   - Selecting, sorting, limiting, joins\n",
    "   - Using SQLite in Colab with `%%sql`"
   ]
  },
  {
   "attachments": {},
   "cell_type": "markdown",
   "metadata": {
    "slideshow": {
     "slide_type": "subslide"
    }
   },
   "source": [
    "- Data manipulation with Pandas\n",
    "   - DataFrames and Series's\n",
    "   - Import/Exporting to SQL\n",
    "   - Pulling tables from web\n",
    "   - Selection, sorting, counting"
   ]
  },
  {
   "attachments": {},
   "cell_type": "markdown",
   "metadata": {
    "slideshow": {
     "slide_type": "fragment"
    }
   },
   "source": [
    "- Split-Apply-Combine\n",
    "   - Groupby in Pandas e.g. `.groupby('column').mean()`"
   ]
  },
  {
   "attachments": {},
   "cell_type": "markdown",
   "metadata": {
    "slideshow": {
     "slide_type": "subslide"
    }
   },
   "source": [
    "- Visualization"
   ]
  },
  {
   "attachments": {},
   "cell_type": "markdown",
   "metadata": {
    "slideshow": {
     "slide_type": "fragment"
    }
   },
   "source": [
    "- String pattern matching and extraction with regular expressions"
   ]
  },
  {
   "attachments": {},
   "cell_type": "markdown",
   "metadata": {
    "slideshow": {
     "slide_type": "slide"
    }
   },
   "source": [
    "## <center>Regular Expressions</center>\n",
    "### <center>aka *regex*</center>"
   ]
  },
  {
   "attachments": {},
   "cell_type": "markdown",
   "metadata": {
    "slideshow": {
     "slide_type": "subslide"
    }
   },
   "source": [
    "### Overview\n",
    "\n",
    "Regular Expressions help you work with strings"
   ]
  },
  {
   "attachments": {},
   "cell_type": "markdown",
   "metadata": {
    "slideshow": {
     "slide_type": "fragment"
    }
   },
   "source": [
    "*Pattern Matching*\n",
    "\n",
    "e.g. Find all phone numbers on a web page"
   ]
  },
  {
   "attachments": {},
   "cell_type": "markdown",
   "metadata": {
    "slideshow": {
     "slide_type": "fragment"
    }
   },
   "source": [
    "*Manipulation*\n",
    "\n",
    "e.g. Match \"{Lastname}, {Firstname}\" in a set of records and rewrite it as \"{Firstname} {Lastname}\""
   ]
  },
  {
   "attachments": {},
   "cell_type": "markdown",
   "metadata": {
    "slideshow": {
     "slide_type": "subslide"
    }
   },
   "source": [
    "## Why?\n",
    "\n",
    "- Checking whether an input is valid (i.e. password, phone number, email, etc.)\n",
    "- Cleaning data\n",
    "- More complex data subsetting\n",
    "- Working with user inputs or other unstructured data"
   ]
  },
  {
   "attachments": {},
   "cell_type": "markdown",
   "metadata": {
    "slideshow": {
     "slide_type": "subslide"
    }
   },
   "source": [
    "### Q: Where can you use regular expressions?"
   ]
  },
  {
   "attachments": {},
   "cell_type": "markdown",
   "metadata": {
    "slideshow": {
     "slide_type": "fragment"
    }
   },
   "source": [
    "### A: Many, many places!"
   ]
  },
  {
   "attachments": {},
   "cell_type": "markdown",
   "metadata": {
    "slideshow": {
     "slide_type": "subslide"
    }
   },
   "source": [
    "## In Python"
   ]
  },
  {
   "cell_type": "code",
   "execution_count": 1,
   "metadata": {},
   "outputs": [],
   "source": [
    "import re\n",
    "comment = \"It was a dark and stormy night.\" "
   ]
  },
  {
   "attachments": {},
   "cell_type": "markdown",
   "metadata": {
    "slideshow": {
     "slide_type": "fragment"
    }
   },
   "source": [
    "Find a simple string:"
   ]
  },
  {
   "cell_type": "code",
   "execution_count": 26,
   "metadata": {},
   "outputs": [
    {
     "data": {
      "text/plain": [
       "['dark']"
      ]
     },
     "execution_count": 26,
     "metadata": {},
     "output_type": "execute_result"
    }
   ],
   "source": [
    "re.findall('dark', comment)"
   ]
  },
  {
   "attachments": {},
   "cell_type": "markdown",
   "metadata": {
    "slideshow": {
     "slide_type": "fragment"
    }
   },
   "source": [
    "Find all sequences of one or more word characters:"
   ]
  },
  {
   "cell_type": "code",
   "execution_count": 9,
   "metadata": {},
   "outputs": [
    {
     "data": {
      "text/plain": [
       "['It', 'was', 'a', 'dark', 'and', 'stormy', 'night']"
      ]
     },
     "execution_count": 9,
     "metadata": {},
     "output_type": "execute_result"
    }
   ],
   "source": [
    "re.findall(r'\\w+', comment)"
   ]
  },
  {
   "cell_type": "markdown",
   "metadata": {},
   "source": [
    "*(What does the `r` mean *before* the start of the string? That tells Python to use the 'raw' string. If your regular expression uses backslashes, it's generally less messy to include that `r'...'`)*"
   ]
  },
  {
   "attachments": {},
   "cell_type": "markdown",
   "metadata": {
    "slideshow": {
     "slide_type": "subslide"
    }
   },
   "source": [
    "## In SQL\n",
    "\n",
    "SQLite doesn't support it, but most 'bigger' databases do. e.g."
   ]
  },
  {
   "attachments": {},
   "cell_type": "markdown",
   "metadata": {
    "slideshow": {
     "slide_type": "fragment"
    }
   },
   "source": [
    "**MySQL**\n",
    "\n",
    "Select columns that match alphanumeric characters only:\n",
    "\n",
    "```\n",
    "SELECT * FROM table WHERE column REGEXP '^[A-Za-z0-9]+$';\n",
    "```\n",
    "\n",
    "**Postgresql**\n",
    "\n",
    "Match strings that include foo, bar, or baz:\n",
    "\n",
    "```\n",
    "SELECT * FROM table WHERE value ~ 'foo|bar|baz';\n",
    "```"
   ]
  },
  {
   "attachments": {},
   "cell_type": "markdown",
   "metadata": {
    "slideshow": {
     "slide_type": "subslide"
    }
   },
   "source": [
    "## In Pandas"
   ]
  },
  {
   "cell_type": "code",
   "execution_count": 10,
   "metadata": {},
   "outputs": [
    {
     "data": {
      "text/html": [
       "<div>\n",
       "<style scoped>\n",
       "    .dataframe tbody tr th:only-of-type {\n",
       "        vertical-align: middle;\n",
       "    }\n",
       "\n",
       "    .dataframe tbody tr th {\n",
       "        vertical-align: top;\n",
       "    }\n",
       "\n",
       "    .dataframe thead th {\n",
       "        text-align: right;\n",
       "    }\n",
       "</style>\n",
       "<table border=\"1\" class=\"dataframe\">\n",
       "  <thead>\n",
       "    <tr style=\"text-align: right;\">\n",
       "      <th></th>\n",
       "      <th>userId</th>\n",
       "      <th>rating</th>\n",
       "      <th>title</th>\n",
       "      <th>genres</th>\n",
       "      <th>timestamp</th>\n",
       "      <th>year</th>\n",
       "    </tr>\n",
       "  </thead>\n",
       "  <tbody>\n",
       "    <tr>\n",
       "      <th>69472</th>\n",
       "      <td>262</td>\n",
       "      <td>3.0</td>\n",
       "      <td>Tenebre</td>\n",
       "      <td>Horror</td>\n",
       "      <td>1433901090</td>\n",
       "      <td>1982</td>\n",
       "    </tr>\n",
       "  </tbody>\n",
       "</table>\n",
       "</div>"
      ],
      "text/plain": [
       "       userId  rating    title  genres   timestamp  year\n",
       "69472     262     3.0  Tenebre  Horror  1433901090  1982"
      ]
     },
     "execution_count": 10,
     "metadata": {},
     "output_type": "execute_result"
    }
   ],
   "source": [
    "import pandas as pd\n",
    "movies = pd.read_csv('https://raw.githubusercontent.com/organisciak/Scripting-Course/master/data/movielens_small.csv')\n",
    "movies.sample()"
   ]
  },
  {
   "attachments": {},
   "cell_type": "markdown",
   "metadata": {
    "slideshow": {
     "slide_type": "subslide"
    }
   },
   "source": [
    "Find movies where there is a digit (`\\d`) right before the end of the string (`$`):"
   ]
  },
  {
   "cell_type": "code",
   "execution_count": 12,
   "metadata": {
    "slideshow": {
     "slide_type": "fragment"
    }
   },
   "outputs": [
    {
     "data": {
      "text/html": [
       "<div>\n",
       "<style scoped>\n",
       "    .dataframe tbody tr th:only-of-type {\n",
       "        vertical-align: middle;\n",
       "    }\n",
       "\n",
       "    .dataframe tbody tr th {\n",
       "        vertical-align: top;\n",
       "    }\n",
       "\n",
       "    .dataframe thead th {\n",
       "        text-align: right;\n",
       "    }\n",
       "</style>\n",
       "<table border=\"1\" class=\"dataframe\">\n",
       "  <thead>\n",
       "    <tr style=\"text-align: right;\">\n",
       "      <th></th>\n",
       "      <th>userId</th>\n",
       "      <th>rating</th>\n",
       "      <th>title</th>\n",
       "      <th>genres</th>\n",
       "      <th>timestamp</th>\n",
       "      <th>year</th>\n",
       "    </tr>\n",
       "  </thead>\n",
       "  <tbody>\n",
       "    <tr>\n",
       "      <th>36747</th>\n",
       "      <td>199</td>\n",
       "      <td>3.5</td>\n",
       "      <td>Kill Bill: Vol. 2</td>\n",
       "      <td>Action</td>\n",
       "      <td>1215033850</td>\n",
       "      <td>2004</td>\n",
       "    </tr>\n",
       "    <tr>\n",
       "      <th>36603</th>\n",
       "      <td>320</td>\n",
       "      <td>4.0</td>\n",
       "      <td>Kill Bill: Vol. 1</td>\n",
       "      <td>Action</td>\n",
       "      <td>1460751900</td>\n",
       "      <td>2003</td>\n",
       "    </tr>\n",
       "    <tr>\n",
       "      <th>2121</th>\n",
       "      <td>317</td>\n",
       "      <td>4.0</td>\n",
       "      <td>Apollo 13</td>\n",
       "      <td>Adventure</td>\n",
       "      <td>847633374</td>\n",
       "      <td>1995</td>\n",
       "    </tr>\n",
       "    <tr>\n",
       "      <th>49323</th>\n",
       "      <td>306</td>\n",
       "      <td>3.0</td>\n",
       "      <td>Scream 2</td>\n",
       "      <td>Comedy</td>\n",
       "      <td>939901609</td>\n",
       "      <td>1997</td>\n",
       "    </tr>\n",
       "    <tr>\n",
       "      <th>61316</th>\n",
       "      <td>176</td>\n",
       "      <td>3.5</td>\n",
       "      <td>Shrek 2</td>\n",
       "      <td>Adventure</td>\n",
       "      <td>1341056045</td>\n",
       "      <td>2004</td>\n",
       "    </tr>\n",
       "    <tr>\n",
       "      <th>61311</th>\n",
       "      <td>146</td>\n",
       "      <td>3.0</td>\n",
       "      <td>Shrek 2</td>\n",
       "      <td>Adventure</td>\n",
       "      <td>1256071512</td>\n",
       "      <td>2004</td>\n",
       "    </tr>\n",
       "    <tr>\n",
       "      <th>12698</th>\n",
       "      <td>426</td>\n",
       "      <td>2.5</td>\n",
       "      <td>Spider-Man 2</td>\n",
       "      <td>Action</td>\n",
       "      <td>1310374343</td>\n",
       "      <td>2004</td>\n",
       "    </tr>\n",
       "    <tr>\n",
       "      <th>82146</th>\n",
       "      <td>654</td>\n",
       "      <td>4.0</td>\n",
       "      <td>Wayne's World 2</td>\n",
       "      <td>Comedy</td>\n",
       "      <td>1145393760</td>\n",
       "      <td>1993</td>\n",
       "    </tr>\n",
       "    <tr>\n",
       "      <th>36600</th>\n",
       "      <td>309</td>\n",
       "      <td>4.5</td>\n",
       "      <td>Kill Bill: Vol. 1</td>\n",
       "      <td>Action</td>\n",
       "      <td>1114567270</td>\n",
       "      <td>2003</td>\n",
       "    </tr>\n",
       "    <tr>\n",
       "      <th>61341</th>\n",
       "      <td>378</td>\n",
       "      <td>0.5</td>\n",
       "      <td>Shrek 2</td>\n",
       "      <td>Adventure</td>\n",
       "      <td>1443625509</td>\n",
       "      <td>2004</td>\n",
       "    </tr>\n",
       "  </tbody>\n",
       "</table>\n",
       "</div>"
      ],
      "text/plain": [
       "       userId  rating              title     genres   timestamp  year\n",
       "36747     199     3.5  Kill Bill: Vol. 2     Action  1215033850  2004\n",
       "36603     320     4.0  Kill Bill: Vol. 1     Action  1460751900  2003\n",
       "2121      317     4.0          Apollo 13  Adventure   847633374  1995\n",
       "49323     306     3.0           Scream 2     Comedy   939901609  1997\n",
       "61316     176     3.5            Shrek 2  Adventure  1341056045  2004\n",
       "61311     146     3.0            Shrek 2  Adventure  1256071512  2004\n",
       "12698     426     2.5       Spider-Man 2     Action  1310374343  2004\n",
       "82146     654     4.0    Wayne's World 2     Comedy  1145393760  1993\n",
       "36600     309     4.5  Kill Bill: Vol. 1     Action  1114567270  2003\n",
       "61341     378     0.5            Shrek 2  Adventure  1443625509  2004"
      ]
     },
     "execution_count": 12,
     "metadata": {},
     "output_type": "execute_result"
    }
   ],
   "source": [
    "matches = movies['title'].str.contains(r'\\d$')\n",
    "movies[matches].sample(10)"
   ]
  },
  {
   "attachments": {},
   "cell_type": "markdown",
   "metadata": {
    "slideshow": {
     "slide_type": "subslide"
    }
   },
   "source": [
    "Find movies where the substring ' Part ' exists:"
   ]
  },
  {
   "cell_type": "code",
   "execution_count": 25,
   "metadata": {
    "slideshow": {
     "slide_type": "fragment"
    }
   },
   "outputs": [
    {
     "data": {
      "text/html": [
       "<div>\n",
       "<style scoped>\n",
       "    .dataframe tbody tr th:only-of-type {\n",
       "        vertical-align: middle;\n",
       "    }\n",
       "\n",
       "    .dataframe tbody tr th {\n",
       "        vertical-align: top;\n",
       "    }\n",
       "\n",
       "    .dataframe thead th {\n",
       "        text-align: right;\n",
       "    }\n",
       "</style>\n",
       "<table border=\"1\" class=\"dataframe\">\n",
       "  <thead>\n",
       "    <tr style=\"text-align: right;\">\n",
       "      <th></th>\n",
       "      <th>userId</th>\n",
       "      <th>rating</th>\n",
       "      <th>title</th>\n",
       "      <th>genres</th>\n",
       "      <th>timestamp</th>\n",
       "      <th>year</th>\n",
       "    </tr>\n",
       "  </thead>\n",
       "  <tbody>\n",
       "    <tr>\n",
       "      <th>85818</th>\n",
       "      <td>212</td>\n",
       "      <td>2.0</td>\n",
       "      <td>Karate Kid, Part II, The</td>\n",
       "      <td>Action</td>\n",
       "      <td>1253932268</td>\n",
       "      <td>1986</td>\n",
       "    </tr>\n",
       "    <tr>\n",
       "      <th>50145</th>\n",
       "      <td>30</td>\n",
       "      <td>4.0</td>\n",
       "      <td>Back to the Future Part II</td>\n",
       "      <td>Adventure</td>\n",
       "      <td>945294811</td>\n",
       "      <td>1989</td>\n",
       "    </tr>\n",
       "    <tr>\n",
       "      <th>85816</th>\n",
       "      <td>157</td>\n",
       "      <td>2.5</td>\n",
       "      <td>Karate Kid, Part II, The</td>\n",
       "      <td>Action</td>\n",
       "      <td>1291598091</td>\n",
       "      <td>1986</td>\n",
       "    </tr>\n",
       "    <tr>\n",
       "      <th>41353</th>\n",
       "      <td>501</td>\n",
       "      <td>3.0</td>\n",
       "      <td>Harry Potter and the Deathly Hallows: Part 1</td>\n",
       "      <td>Action</td>\n",
       "      <td>1307129483</td>\n",
       "      <td>2010</td>\n",
       "    </tr>\n",
       "    <tr>\n",
       "      <th>41371</th>\n",
       "      <td>157</td>\n",
       "      <td>3.5</td>\n",
       "      <td>Harry Potter and the Deathly Hallows: Part 2</td>\n",
       "      <td>Action</td>\n",
       "      <td>1369334443</td>\n",
       "      <td>2011</td>\n",
       "    </tr>\n",
       "    <tr>\n",
       "      <th>43892</th>\n",
       "      <td>416</td>\n",
       "      <td>3.0</td>\n",
       "      <td>Hot Shots! Part Deux</td>\n",
       "      <td>Action</td>\n",
       "      <td>841446959</td>\n",
       "      <td>1993</td>\n",
       "    </tr>\n",
       "    <tr>\n",
       "      <th>25997</th>\n",
       "      <td>388</td>\n",
       "      <td>4.0</td>\n",
       "      <td>Godfather: Part III, The</td>\n",
       "      <td>Crime</td>\n",
       "      <td>946528959</td>\n",
       "      <td>1990</td>\n",
       "    </tr>\n",
       "    <tr>\n",
       "      <th>50222</th>\n",
       "      <td>560</td>\n",
       "      <td>5.0</td>\n",
       "      <td>Back to the Future Part II</td>\n",
       "      <td>Adventure</td>\n",
       "      <td>1452849491</td>\n",
       "      <td>1989</td>\n",
       "    </tr>\n",
       "    <tr>\n",
       "      <th>43874</th>\n",
       "      <td>232</td>\n",
       "      <td>3.0</td>\n",
       "      <td>Hot Shots! Part Deux</td>\n",
       "      <td>Action</td>\n",
       "      <td>955086058</td>\n",
       "      <td>1993</td>\n",
       "    </tr>\n",
       "    <tr>\n",
       "      <th>25111</th>\n",
       "      <td>130</td>\n",
       "      <td>4.0</td>\n",
       "      <td>Godfather: Part II, The</td>\n",
       "      <td>Crime</td>\n",
       "      <td>1139003651</td>\n",
       "      <td>1974</td>\n",
       "    </tr>\n",
       "  </tbody>\n",
       "</table>\n",
       "</div>"
      ],
      "text/plain": [
       "       userId  rating                                         title  \\\n",
       "85818     212     2.0                      Karate Kid, Part II, The   \n",
       "50145      30     4.0                    Back to the Future Part II   \n",
       "85816     157     2.5                      Karate Kid, Part II, The   \n",
       "41353     501     3.0  Harry Potter and the Deathly Hallows: Part 1   \n",
       "41371     157     3.5  Harry Potter and the Deathly Hallows: Part 2   \n",
       "43892     416     3.0                          Hot Shots! Part Deux   \n",
       "25997     388     4.0                      Godfather: Part III, The   \n",
       "50222     560     5.0                    Back to the Future Part II   \n",
       "43874     232     3.0                          Hot Shots! Part Deux   \n",
       "25111     130     4.0                       Godfather: Part II, The   \n",
       "\n",
       "          genres   timestamp  year  \n",
       "85818     Action  1253932268  1986  \n",
       "50145  Adventure   945294811  1989  \n",
       "85816     Action  1291598091  1986  \n",
       "41353     Action  1307129483  2010  \n",
       "41371     Action  1369334443  2011  \n",
       "43892     Action   841446959  1993  \n",
       "25997      Crime   946528959  1990  \n",
       "50222  Adventure  1452849491  1989  \n",
       "43874     Action   955086058  1993  \n",
       "25111      Crime  1139003651  1974  "
      ]
     },
     "execution_count": 25,
     "metadata": {},
     "output_type": "execute_result"
    }
   ],
   "source": [
    "matches = movies.title.str.contains(' Part ')\n",
    "movies[matches].sample(10)"
   ]
  },
  {
   "attachments": {},
   "cell_type": "markdown",
   "metadata": {
    "slideshow": {
     "slide_type": "subslide"
    }
   },
   "source": [
    "Find movies that are named \"The ... of ...\""
   ]
  },
  {
   "cell_type": "code",
   "execution_count": 24,
   "metadata": {
    "scrolled": false,
    "slideshow": {
     "slide_type": "fragment"
    }
   },
   "outputs": [
    {
     "data": {
      "text/html": [
       "<div>\n",
       "<style scoped>\n",
       "    .dataframe tbody tr th:only-of-type {\n",
       "        vertical-align: middle;\n",
       "    }\n",
       "\n",
       "    .dataframe tbody tr th {\n",
       "        vertical-align: top;\n",
       "    }\n",
       "\n",
       "    .dataframe thead th {\n",
       "        text-align: right;\n",
       "    }\n",
       "</style>\n",
       "<table border=\"1\" class=\"dataframe\">\n",
       "  <thead>\n",
       "    <tr style=\"text-align: right;\">\n",
       "      <th></th>\n",
       "      <th>userId</th>\n",
       "      <th>rating</th>\n",
       "      <th>title</th>\n",
       "      <th>genres</th>\n",
       "      <th>timestamp</th>\n",
       "      <th>year</th>\n",
       "    </tr>\n",
       "  </thead>\n",
       "  <tbody>\n",
       "    <tr>\n",
       "      <th>68278</th>\n",
       "      <td>371</td>\n",
       "      <td>2.0</td>\n",
       "      <td>The Hobbit: The Battle of the Five Armies</td>\n",
       "      <td>Adventure</td>\n",
       "      <td>1462738278</td>\n",
       "      <td>2014</td>\n",
       "    </tr>\n",
       "    <tr>\n",
       "      <th>68479</th>\n",
       "      <td>15</td>\n",
       "      <td>3.0</td>\n",
       "      <td>The Age of Adaline</td>\n",
       "      <td>Drama</td>\n",
       "      <td>1458506026</td>\n",
       "      <td>2015</td>\n",
       "    </tr>\n",
       "    <tr>\n",
       "      <th>36103</th>\n",
       "      <td>353</td>\n",
       "      <td>3.5</td>\n",
       "      <td>The Count of Monte Cristo</td>\n",
       "      <td>Action</td>\n",
       "      <td>1113052800</td>\n",
       "      <td>2002</td>\n",
       "    </tr>\n",
       "    <tr>\n",
       "      <th>92516</th>\n",
       "      <td>564</td>\n",
       "      <td>4.0</td>\n",
       "      <td>The Golden Voyage of Sinbad</td>\n",
       "      <td>Action</td>\n",
       "      <td>974713375</td>\n",
       "      <td>1973</td>\n",
       "    </tr>\n",
       "    <tr>\n",
       "      <th>92515</th>\n",
       "      <td>346</td>\n",
       "      <td>5.0</td>\n",
       "      <td>The Golden Voyage of Sinbad</td>\n",
       "      <td>Action</td>\n",
       "      <td>1044651633</td>\n",
       "      <td>1973</td>\n",
       "    </tr>\n",
       "    <tr>\n",
       "      <th>68276</th>\n",
       "      <td>287</td>\n",
       "      <td>5.0</td>\n",
       "      <td>The Hobbit: The Battle of the Five Armies</td>\n",
       "      <td>Adventure</td>\n",
       "      <td>1469162192</td>\n",
       "      <td>2014</td>\n",
       "    </tr>\n",
       "    <tr>\n",
       "      <th>68248</th>\n",
       "      <td>72</td>\n",
       "      <td>3.5</td>\n",
       "      <td>The Theory of Everything</td>\n",
       "      <td>Drama</td>\n",
       "      <td>1461784635</td>\n",
       "      <td>2014</td>\n",
       "    </tr>\n",
       "    <tr>\n",
       "      <th>96814</th>\n",
       "      <td>380</td>\n",
       "      <td>5.0</td>\n",
       "      <td>The Jinx: The Life and Deaths of Robert Durst</td>\n",
       "      <td>Documentary</td>\n",
       "      <td>1465156469</td>\n",
       "      <td>2015</td>\n",
       "    </tr>\n",
       "    <tr>\n",
       "      <th>68256</th>\n",
       "      <td>378</td>\n",
       "      <td>3.5</td>\n",
       "      <td>The Theory of Everything</td>\n",
       "      <td>Drama</td>\n",
       "      <td>1443292443</td>\n",
       "      <td>2014</td>\n",
       "    </tr>\n",
       "    <tr>\n",
       "      <th>68275</th>\n",
       "      <td>270</td>\n",
       "      <td>3.0</td>\n",
       "      <td>The Hobbit: The Battle of the Five Armies</td>\n",
       "      <td>Adventure</td>\n",
       "      <td>1469306927</td>\n",
       "      <td>2014</td>\n",
       "    </tr>\n",
       "  </tbody>\n",
       "</table>\n",
       "</div>"
      ],
      "text/plain": [
       "       userId  rating                                          title  \\\n",
       "68278     371     2.0      The Hobbit: The Battle of the Five Armies   \n",
       "68479      15     3.0                             The Age of Adaline   \n",
       "36103     353     3.5                      The Count of Monte Cristo   \n",
       "92516     564     4.0                    The Golden Voyage of Sinbad   \n",
       "92515     346     5.0                    The Golden Voyage of Sinbad   \n",
       "68276     287     5.0      The Hobbit: The Battle of the Five Armies   \n",
       "68248      72     3.5                       The Theory of Everything   \n",
       "96814     380     5.0  The Jinx: The Life and Deaths of Robert Durst   \n",
       "68256     378     3.5                       The Theory of Everything   \n",
       "68275     270     3.0      The Hobbit: The Battle of the Five Armies   \n",
       "\n",
       "            genres   timestamp  year  \n",
       "68278    Adventure  1462738278  2014  \n",
       "68479        Drama  1458506026  2015  \n",
       "36103       Action  1113052800  2002  \n",
       "92516       Action   974713375  1973  \n",
       "92515       Action  1044651633  1973  \n",
       "68276    Adventure  1469162192  2014  \n",
       "68248        Drama  1461784635  2014  \n",
       "96814  Documentary  1465156469  2015  \n",
       "68256        Drama  1443292443  2014  \n",
       "68275    Adventure  1469306927  2014  "
      ]
     },
     "execution_count": 24,
     "metadata": {},
     "output_type": "execute_result"
    }
   ],
   "source": [
    "matches = movies.title.str.contains('^The .+ of ')\n",
    "movies[matches].sample(10)"
   ]
  },
  {
   "attachments": {},
   "cell_type": "markdown",
   "metadata": {
    "slideshow": {
     "slide_type": "subslide"
    }
   },
   "source": [
    "## In MongoDB"
   ]
  },
  {
   "cell_type": "code",
   "execution_count": 41,
   "metadata": {},
   "outputs": [],
   "source": [
    "from pymongo import MongoClient\n",
    "with open('credentials.txt', mode='r') as f:\n",
    "    user, mongopw, cluster_url = [l.strip() for l in f.readlines()]\n",
    "client = MongoClient(\"mongodb+srv://{}:{}@{}/test?retryWrites=true&w=majority\".format(user, mongopw, cluster_url))\n",
    "db = client.scripting\n",
    "collection = db.cooking"
   ]
  },
  {
   "attachments": {},
   "cell_type": "markdown",
   "metadata": {
    "slideshow": {
     "slide_type": "subslide"
    }
   },
   "source": [
    "Find an recipe with an ingredient called \"yellow ...\""
   ]
  },
  {
   "cell_type": "code",
   "execution_count": 42,
   "metadata": {
    "slideshow": {
     "slide_type": "fragment"
    }
   },
   "outputs": [
    {
     "data": {
      "text/plain": [
       "{'_id': ObjectId('682b56f789dffff004d7c273'),\n",
       " 'id': 25693,\n",
       " 'cuisine': 'southern_us',\n",
       " 'ingredients': ['plain flour',\n",
       "  'ground pepper',\n",
       "  'salt',\n",
       "  'tomatoes',\n",
       "  'ground black pepper',\n",
       "  'thyme',\n",
       "  'eggs',\n",
       "  'green tomatoes',\n",
       "  'yellow corn meal',\n",
       "  'milk',\n",
       "  'vegetable oil']}"
      ]
     },
     "execution_count": 42,
     "metadata": {},
     "output_type": "execute_result"
    }
   ],
   "source": [
    "db.cooking.find_one({\n",
    "    \"ingredients\": {\"$regex\": \"yellow .*\"}\n",
    "})"
   ]
  },
  {
   "attachments": {},
   "cell_type": "markdown",
   "metadata": {
    "slideshow": {
     "slide_type": "subslide"
    }
   },
   "source": [
    "After unwinding the recipes to one doc per ingredient, find ingredients with a qualified salt:"
   ]
  },
  {
   "cell_type": "code",
   "execution_count": 43,
   "metadata": {
    "slideshow": {
     "slide_type": "fragment"
    }
   },
   "outputs": [
    {
     "data": {
      "text/plain": [
       "[{'ingredients': 'sea salt'},\n",
       " {'ingredients': 'kosher salt'},\n",
       " {'ingredients': 'fine sea salt'},\n",
       " {'ingredients': 'kosher salt'},\n",
       " {'ingredients': 'kosher salt'}]"
      ]
     },
     "execution_count": 43,
     "metadata": {},
     "output_type": "execute_result"
    }
   ],
   "source": [
    "pipeline = [\n",
    "    { \"$unwind\": \"$ingredients\" },\n",
    "    { \"$project\": {\"ingredients\": 1, \"_id\":0} },\n",
    "    { \"$match\":{\n",
    "        \"ingredients\": {\"$regex\": \"^.+ salt\" }\n",
    "        }\n",
    "    },\n",
    "    { \"$limit\": 5 }\n",
    "]\n",
    "results = collection.aggregate(pipeline)\n",
    "list(results)"
   ]
  },
  {
   "attachments": {},
   "cell_type": "markdown",
   "metadata": {
    "slideshow": {
     "slide_type": "subslide"
    }
   },
   "source": [
    "Count the qualified salt types:"
   ]
  },
  {
   "cell_type": "code",
   "execution_count": 44,
   "metadata": {
    "slideshow": {
     "slide_type": "fragment"
    }
   },
   "outputs": [
    {
     "data": {
      "text/plain": [
       "[{'_id': 'kosher salt', 'count': 3113},\n",
       " {'_id': 'sea salt', 'count': 940},\n",
       " {'_id': 'coarse salt', 'count': 578},\n",
       " {'_id': 'fine sea salt', 'count': 285},\n",
       " {'_id': 'garlic salt', 'count': 240},\n",
       " {'_id': 'seasoning salt', 'count': 131},\n",
       " {'_id': 'table salt', 'count': 79},\n",
       " {'_id': 'coarse sea salt', 'count': 68},\n",
       " {'_id': 'coarse kosher salt', 'count': 64},\n",
       " {'_id': 'celery salt', 'count': 52},\n",
       " {'_id': 'fine salt', 'count': 24},\n",
       " {'_id': 'onion salt', 'count': 15},\n",
       " {'_id': 'rock salt', 'count': 14},\n",
       " {'_id': 'pickling salt', 'count': 12},\n",
       " {'_id': 'black salt', 'count': 12},\n",
       " {'_id': 'Himalayan salt', 'count': 11},\n",
       " {'_id': 'celtic salt', 'count': 9},\n",
       " {'_id': 'maldon sea salt', 'count': 8},\n",
       " {'_id': 'smoked sea salt', 'count': 6},\n",
       " {'_id': 'iodized salt', 'count': 4}]"
      ]
     },
     "execution_count": 44,
     "metadata": {},
     "output_type": "execute_result"
    }
   ],
   "source": [
    "pipeline = [\n",
    "    { \"$unwind\": \"$ingredients\" },\n",
    "    { \"$project\": {\"ingredients\": 1, \"_id\":0} },\n",
    "    { \"$match\":{ \"ingredients\": {\"$regex\": \"^.+ salt$\" } } },\n",
    "    { \"$group\":{\n",
    "        \"_id\": \"$ingredients\", \"count\": {\"$sum\": 1} } \n",
    "    },\n",
    "    { \"$sort\": { \"count\": -1} },\n",
    "    { \"$limit\": 20 }\n",
    "]\n",
    "results = collection.aggregate(pipeline)\n",
    "list(results)"
   ]
  },
  {
   "attachments": {},
   "cell_type": "markdown",
   "metadata": {
    "slideshow": {
     "slide_type": "subslide"
    }
   },
   "source": [
    "### Note on variation\n",
    "\n",
    "- Regular Expressions are *close* to standard, but different implementations are slightly different."
   ]
  },
  {
   "attachments": {},
   "cell_type": "markdown",
   "metadata": {
    "slideshow": {
     "slide_type": "subslide"
    }
   },
   "source": [
    "## Basics of Regular Expressions"
   ]
  },
  {
   "attachments": {},
   "cell_type": "markdown",
   "metadata": {
    "slideshow": {
     "slide_type": "-"
    }
   },
   "source": [
    "In this class: we'll cover the basics, practiced in Python and Pandas."
   ]
  },
  {
   "attachments": {},
   "cell_type": "markdown",
   "metadata": {
    "slideshow": {
     "slide_type": "fragment"
    }
   },
   "source": [
    "To follow along:"
   ]
  },
  {
   "cell_type": "code",
   "execution_count": 45,
   "metadata": {
    "slideshow": {
     "slide_type": "-"
    }
   },
   "outputs": [],
   "source": [
    "import re"
   ]
  },
  {
   "cell_type": "code",
   "execution_count": 47,
   "metadata": {},
   "outputs": [
    {
     "data": {
      "text/plain": [
       "['it', 'was', 'a', 'dark', 'and', 'stormy', 'night']"
      ]
     },
     "execution_count": 47,
     "metadata": {},
     "output_type": "execute_result"
    }
   ],
   "source": [
    "text = \"it was a dark and stormy night.\"\n",
    "re.findall(r'\\w+', text)"
   ]
  },
  {
   "attachments": {},
   "cell_type": "markdown",
   "metadata": {
    "slideshow": {
     "slide_type": "subslide"
    }
   },
   "source": [
    "## Wild Cards"
   ]
  },
  {
   "attachments": {},
   "cell_type": "markdown",
   "metadata": {
    "slideshow": {
     "slide_type": "subslide"
    }
   },
   "source": [
    "`a` - Match the letter 'a'. Same for most other characters"
   ]
  },
  {
   "cell_type": "code",
   "execution_count": 48,
   "metadata": {
    "slideshow": {
     "slide_type": "fragment"
    }
   },
   "outputs": [
    {
     "data": {
      "text/plain": [
       "['o', 'o', 'o']"
      ]
     },
     "execution_count": 48,
     "metadata": {},
     "output_type": "execute_result"
    }
   ],
   "source": [
    "text = \"Colorado\"\n",
    "re.findall('o', text)"
   ]
  },
  {
   "cell_type": "code",
   "execution_count": 49,
   "metadata": {
    "scrolled": false,
    "slideshow": {
     "slide_type": "fragment"
    }
   },
   "outputs": [
    {
     "data": {
      "text/plain": [
       "['Buffalo buffalo', 'Buffalo buffalo', 'Buffalo buffalo']"
      ]
     },
     "execution_count": 49,
     "metadata": {},
     "output_type": "execute_result"
    }
   ],
   "source": [
    "text = \"Buffalo buffalo Buffalo buffalo buffalo buffalo Buffalo buffalo\"\n",
    "re.findall('Buffalo buffalo', text)"
   ]
  },
  {
   "attachments": {},
   "cell_type": "markdown",
   "metadata": {
    "slideshow": {
     "slide_type": "subslide"
    }
   },
   "source": [
    "`.` - Match any single character"
   ]
  },
  {
   "cell_type": "code",
   "execution_count": 50,
   "metadata": {
    "slideshow": {
     "slide_type": "fragment"
    }
   },
   "outputs": [
    {
     "data": {
      "text/plain": [
       "['who', 'wha', 'whe', 'why']"
      ]
     },
     "execution_count": 50,
     "metadata": {},
     "output_type": "execute_result"
    }
   ],
   "source": [
    "text = \"who, what, where, why, and how\"\n",
    "re.findall('wh.', text)"
   ]
  },
  {
   "cell_type": "code",
   "execution_count": 51,
   "metadata": {
    "slideshow": {
     "slide_type": "fragment"
    }
   },
   "outputs": [
    {
     "data": {
      "text/plain": [
       "['who,', 'why,']"
      ]
     },
     "execution_count": 51,
     "metadata": {},
     "output_type": "execute_result"
    }
   ],
   "source": [
    "text = \"who, what, where, why, and how\"\n",
    "re.findall('wh.,', text)"
   ]
  },
  {
   "attachments": {},
   "cell_type": "markdown",
   "metadata": {
    "slideshow": {
     "slide_type": "subslide"
    }
   },
   "source": [
    "- `\\w` - Match any word character (letters, number... support for non-English characters varies)\n",
    "- `\\W` - Match any non-word characters"
   ]
  },
  {
   "cell_type": "code",
   "execution_count": 53,
   "metadata": {
    "slideshow": {
     "slide_type": "fragment"
    }
   },
   "outputs": [
    {
     "data": {
      "text/plain": [
       "['Who,', 'hat,', 'ere,', 'why,']"
      ]
     },
     "execution_count": 53,
     "metadata": {},
     "output_type": "execute_result"
    }
   ],
   "source": [
    "text = \"Who, what, where, why, and how\"\n",
    "re.findall(r'\\w\\w\\w,', text)"
   ]
  },
  {
   "cell_type": "code",
   "execution_count": 54,
   "metadata": {
    "slideshow": {
     "slide_type": "fragment"
    }
   },
   "outputs": [
    {
     "data": {
      "text/plain": [
       "['W',\n",
       " 'h',\n",
       " 'o',\n",
       " 'w',\n",
       " 'h',\n",
       " 'a',\n",
       " 't',\n",
       " 'w',\n",
       " 'h',\n",
       " 'e',\n",
       " 'r',\n",
       " 'e',\n",
       " 'w',\n",
       " 'h',\n",
       " 'y',\n",
       " 'a',\n",
       " 'n',\n",
       " 'd',\n",
       " 'h',\n",
       " 'o',\n",
       " 'w']"
      ]
     },
     "execution_count": 54,
     "metadata": {},
     "output_type": "execute_result"
    }
   ],
   "source": [
    "text = \"Who, what, where, why, and how\"\n",
    "re.findall(r'\\w', text)"
   ]
  },
  {
   "attachments": {},
   "cell_type": "markdown",
   "metadata": {
    "slideshow": {
     "slide_type": "subslide"
    }
   },
   "source": [
    "`\\d` - Match any digit"
   ]
  },
  {
   "cell_type": "code",
   "execution_count": 56,
   "metadata": {
    "slideshow": {
     "slide_type": "fragment"
    }
   },
   "outputs": [
    {
     "data": {
      "text/plain": [
       "['1', '9', '9', '9']"
      ]
     },
     "execution_count": 56,
     "metadata": {},
     "output_type": "execute_result"
    }
   ],
   "source": [
    "text = \"Party like it's 1999\"\n",
    "re.findall(r'\\d', text)"
   ]
  },
  {
   "cell_type": "code",
   "execution_count": 57,
   "metadata": {
    "scrolled": true,
    "slideshow": {
     "slide_type": "fragment"
    }
   },
   "outputs": [
    {
     "data": {
      "text/plain": [
       "['1999']"
      ]
     },
     "execution_count": 57,
     "metadata": {},
     "output_type": "execute_result"
    }
   ],
   "source": [
    "text = \"Party like it's 1999\"\n",
    "re.findall(r'\\d\\d\\d\\d', text)"
   ]
  },
  {
   "attachments": {},
   "cell_type": "markdown",
   "metadata": {
    "slideshow": {
     "slide_type": "subslide"
    }
   },
   "source": [
    "### *What if I want to match an actual backslash or period?*"
   ]
  },
  {
   "attachments": {},
   "cell_type": "markdown",
   "metadata": {
    "slideshow": {
     "slide_type": "-"
    }
   },
   "source": [
    "This is a problem:"
   ]
  },
  {
   "cell_type": "code",
   "execution_count": 58,
   "metadata": {
    "slideshow": {
     "slide_type": "-"
    }
   },
   "outputs": [
    {
     "data": {
      "text/plain": [
       "['Dr.', 'Dri']"
      ]
     },
     "execution_count": 58,
     "metadata": {},
     "output_type": "execute_result"
    }
   ],
   "source": [
    "text = \"Dr. Jones Drinks Too Much\"\n",
    "re.findall('Dr.', text)"
   ]
  },
  {
   "attachments": {},
   "cell_type": "markdown",
   "metadata": {
    "slideshow": {
     "slide_type": "fragment"
    }
   },
   "source": [
    "Precede the character with a backslash\n",
    "\n",
    "E.g.\n",
    "\n",
    "- `.` - Matches *any* character\n",
    "- `\\.` - Matches a literal period"
   ]
  },
  {
   "cell_type": "code",
   "execution_count": 60,
   "metadata": {
    "slideshow": {
     "slide_type": "-"
    }
   },
   "outputs": [
    {
     "data": {
      "text/plain": [
       "['Dr.']"
      ]
     },
     "execution_count": 60,
     "metadata": {},
     "output_type": "execute_result"
    }
   ],
   "source": [
    "re.findall(r'Dr\\.', text)"
   ]
  },
  {
   "attachments": {},
   "cell_type": "markdown",
   "metadata": {
    "slideshow": {
     "slide_type": "subslide"
    }
   },
   "source": [
    "## Reference (so far)\n",
    "- `a` - Match the letter 'a'. Same for most other characters\n",
    "- `\\w` - Match any word character (letters, number... support for non-English characters varies)\n",
    "- `\\W` - Match any non-word characters\n",
    "- `\\d` - Match any digit\n",
    "- `.` - Matches *any* character\n",
    "- `\\.` - Matches a literal period\n",
    "\n",
    "Let's try the first few lab questions - 1.1. to 1.4."
   ]
  },
  {
   "attachments": {},
   "cell_type": "markdown",
   "metadata": {
    "slideshow": {
     "slide_type": "subslide"
    }
   },
   "source": [
    "`\\s` - Match any whitespace character (space, tabs, line breaks sometimes)"
   ]
  },
  {
   "attachments": {},
   "cell_type": "markdown",
   "metadata": {
    "slideshow": {
     "slide_type": "fragment"
    }
   },
   "source": [
    "*What will this return?*"
   ]
  },
  {
   "cell_type": "code",
   "execution_count": 61,
   "metadata": {
    "slideshow": {
     "slide_type": "fragment"
    }
   },
   "outputs": [
    {
     "data": {
      "text/plain": [
       "[' over ', ' lazy ']"
      ]
     },
     "execution_count": 61,
     "metadata": {},
     "output_type": "execute_result"
    }
   ],
   "source": [
    "text = \"The quick brown fox jumped over the lazy yellow dog\"\n",
    "re.findall(r'\\s....\\s', text)"
   ]
  },
  {
   "attachments": {},
   "cell_type": "markdown",
   "metadata": {
    "slideshow": {
     "slide_type": "subslide"
    }
   },
   "source": [
    "`[ab]` - Group of multiple possible characters - in this case 'a' or 'b'"
   ]
  },
  {
   "cell_type": "code",
   "execution_count": 62,
   "metadata": {
    "slideshow": {
     "slide_type": "fragment"
    }
   },
   "outputs": [
    {
     "data": {
      "text/plain": [
       "['The', 'the']"
      ]
     },
     "execution_count": 62,
     "metadata": {},
     "output_type": "execute_result"
    }
   ],
   "source": [
    "text = \"The quick brown fox jumped over the lazy yellow dog\"\n",
    "re.findall(r'[Tt]he', text)"
   ]
  },
  {
   "attachments": {},
   "cell_type": "markdown",
   "metadata": {
    "slideshow": {
     "slide_type": "subslide"
    }
   },
   "source": [
    "- `[a-z]` matches any character from a to z\n",
    "- `[A-Z]` matches any character from A to Z"
   ]
  },
  {
   "cell_type": "code",
   "execution_count": 64,
   "metadata": {
    "slideshow": {
     "slide_type": "fragment"
    }
   },
   "outputs": [
    {
     "data": {
      "text/plain": [
       "['SPAM']"
      ]
     },
     "execution_count": 64,
     "metadata": {},
     "output_type": "execute_result"
    }
   ],
   "source": [
    "text = \"text 1-800-SPAM for more information\"\n",
    "re.findall('[A-Z][A-Z][A-Z][A-Z]', text)"
   ]
  },
  {
   "attachments": {},
   "cell_type": "markdown",
   "metadata": {
    "slideshow": {
     "slide_type": "fragment"
    }
   },
   "source": [
    "Those square brackets are same as before, so you can group A-Z with other matches.\n",
    "\n",
    "e.g. Match capital letters, digits, or hyphens:"
   ]
  },
  {
   "cell_type": "code",
   "execution_count": 65,
   "metadata": {},
   "outputs": [
    {
     "data": {
      "text/plain": [
       "['1-800-SPAM']"
      ]
     },
     "execution_count": 65,
     "metadata": {},
     "output_type": "execute_result"
    }
   ],
   "source": [
    "text = \"text 1-800-SPAM for more information\"\n",
    "re.findall(r'[\\d\\-A-Z]+', text)"
   ]
  },
  {
   "attachments": {},
   "cell_type": "markdown",
   "metadata": {
    "slideshow": {
     "slide_type": "fragment"
    }
   },
   "source": [
    "*Note above that a hyphen is another special character, so matching for a literal `-` is done with `\\-`.*"
   ]
  },
  {
   "attachments": {},
   "cell_type": "markdown",
   "metadata": {
    "slideshow": {
     "slide_type": "subslide"
    }
   },
   "source": [
    "Returning to the earlier data."
   ]
  },
  {
   "cell_type": "code",
   "execution_count": 66,
   "metadata": {},
   "outputs": [],
   "source": [
    "titles = movies.title.drop_duplicates()"
   ]
  },
  {
   "attachments": {},
   "cell_type": "markdown",
   "metadata": {
    "slideshow": {
     "slide_type": "fragment"
    }
   },
   "source": [
    "\"The (single word) of ...\""
   ]
  },
  {
   "cell_type": "code",
   "execution_count": 67,
   "metadata": {
    "slideshow": {
     "slide_type": "-"
    }
   },
   "outputs": [
    {
     "name": "stderr",
     "output_type": "stream",
     "text": [
      "<>:1: SyntaxWarning: invalid escape sequence '\\w'\n",
      "<>:1: SyntaxWarning: invalid escape sequence '\\w'\n",
      "/var/folders/k2/vg86l2h54czgjfzlmd6fkz908bdx0t/T/ipykernel_42911/1822075410.py:1: SyntaxWarning: invalid escape sequence '\\w'\n",
      "  matches = titles.str.contains('^The \\w+ of ')\n"
     ]
    },
    {
     "data": {
      "text/plain": [
       "88980               The Earrings of Madame de...\n",
       "68702                       The Legend of Tarzan\n",
       "94735                  The Plague of the Zombies\n",
       "36095                  The Count of Monte Cristo\n",
       "94869             The Possession of Michael King\n",
       "97199                           The Book of Life\n",
       "68247                   The Theory of Everything\n",
       "99821                       The Face of an Angel\n",
       "96669    The Disappearance of Eleanor Rigby: Her\n",
       "99139                        The End of the Tour\n",
       "Name: title, dtype: object"
      ]
     },
     "execution_count": 67,
     "metadata": {},
     "output_type": "execute_result"
    }
   ],
   "source": [
    "matches = titles.str.contains('^The \\w+ of ')\n",
    "titles[matches].sample(10)"
   ]
  },
  {
   "cell_type": "code",
   "execution_count": 68,
   "metadata": {
    "slideshow": {
     "slide_type": "subslide"
    }
   },
   "outputs": [
    {
     "data": {
      "text/plain": [
       "84673     Friday the 13th Part VIII: Jason Takes Manhattan\n",
       "87329    Dragon Ball Z: The Return of Cooler (Doragon b...\n",
       "87634                            Babylon 5: A Call to Arms\n",
       "84625                        Amityville II: The Possession\n",
       "87124    Fullmetal Alchemist the Movie: Conqueror of Sh...\n",
       "83682       Nightmare on Elm Street 2: Freddy's Revenge, A\n",
       "82362        Vampire Hunter D: Bloodlust (Banpaia hantâ D)\n",
       "65723                          G.I. Joe: The Rise of Cobra\n",
       "99229                         Amityville: A New Generation\n",
       "84541    Going Clear: Scientology and the Prison of Belief\n",
       "Name: title, dtype: object"
      ]
     },
     "execution_count": 68,
     "metadata": {},
     "output_type": "execute_result"
    }
   ],
   "source": [
    "matches = titles.str.contains(':')\n",
    "titles[matches].sample(10)"
   ]
  },
  {
   "cell_type": "code",
   "execution_count": 69,
   "metadata": {
    "slideshow": {
     "slide_type": "subslide"
    }
   },
   "outputs": [
    {
     "name": "stderr",
     "output_type": "stream",
     "text": [
      "<>:1: SyntaxWarning: invalid escape sequence '\\w'\n",
      "<>:1: SyntaxWarning: invalid escape sequence '\\w'\n",
      "/var/folders/k2/vg86l2h54czgjfzlmd6fkz908bdx0t/T/ipykernel_42911/2805260181.py:1: SyntaxWarning: invalid escape sequence '\\w'\n",
      "  matches = titles.str.contains(\"^\\w+\\-\\w+$\")\n"
     ]
    },
    {
     "data": {
      "text/plain": [
       "259                  Ben-Hur\n",
       "12000             Spider-Man\n",
       "40269                  X-Men\n",
       "55032                  U-571\n",
       "58796             Scooby-Doo\n",
       "61252              Fail-Safe\n",
       "65729                G-Force\n",
       "66092               Kick-Ass\n",
       "68396                Ant-Man\n",
       "69332            Re-Animator\n",
       "69765    Slaughterhouse-Five\n",
       "81831                  K-PAX\n",
       "83228                 BURN-E\n",
       "83394               Non-Stop\n",
       "83908               Bio-Dome\n",
       "89557            Topsy-Turvy\n",
       "93256               Cry-Baby\n",
       "94106              She-Devil\n",
       "95079               Kon-Tiki\n",
       "96155              De-Lovely\n",
       "96602               Catch-22\n",
       "96617                Ben-hur\n",
       "96717               Semi-Pro\n",
       "98638                  T-Men\n",
       "99056     Shakespeare-Wallah\n",
       "99971        Straight-Jacket\n",
       "Name: title, dtype: object"
      ]
     },
     "execution_count": 69,
     "metadata": {},
     "output_type": "execute_result"
    }
   ],
   "source": [
    "matches = titles.str.contains(\"^\\w+\\-\\w+$\")\n",
    "titles[matches]"
   ]
  },
  {
   "attachments": {},
   "cell_type": "markdown",
   "metadata": {
    "slideshow": {
     "slide_type": "subslide"
    }
   },
   "source": [
    "## Reference (so far)\n",
    "- `a` - Match the letter `a`. Same for most other characters\n",
    "- `.` - Match any single character\n",
    "- `\\w` - Match any word character (letters, number... support for non-English characters varies)\n",
    "- `\\W` - Match any non-word characters\n",
    "- `\\d` - Match any digit\n",
    "- `.` - Matches *any* character\n",
    "- `\\.` - Matches a literal period\n",
    "- `\\s` - Match any whitespace character (space, tabs, line breaks sometimes)\n",
    "- `[ab]` - Group of multiple possible characters - in this case `a` or `b`\n",
    "- `[a-z]` matches any character from a to z\n",
    "- `[A-Z]` matches any character from A to Z\n",
    "- `[A-Zab]` matches any character from A to Z (`A-Z`), *or* `a` *or* `b`"
   ]
  },
  {
   "attachments": {},
   "cell_type": "markdown",
   "metadata": {
    "slideshow": {
     "slide_type": "slide"
    }
   },
   "source": [
    "## Repetition"
   ]
  },
  {
   "attachments": {},
   "cell_type": "markdown",
   "metadata": {
    "slideshow": {
     "slide_type": "subslide"
    }
   },
   "source": [
    "`?` - One or zero of the preceding match"
   ]
  },
  {
   "cell_type": "code",
   "execution_count": 70,
   "metadata": {
    "slideshow": {
     "slide_type": "fragment"
    }
   },
   "outputs": [
    {
     "data": {
      "text/plain": [
       "['color', 'colour']"
      ]
     },
     "execution_count": 70,
     "metadata": {},
     "output_type": "execute_result"
    }
   ],
   "source": [
    "text = \"color colour\"\n",
    "re.findall('colou?r', text)"
   ]
  },
  {
   "attachments": {},
   "cell_type": "markdown",
   "metadata": {
    "slideshow": {
     "slide_type": "subslide"
    }
   },
   "source": [
    "- `+` - One or more of the preceding match\n",
    "- `*` - Zero or more of the preceding match"
   ]
  },
  {
   "cell_type": "code",
   "execution_count": 71,
   "metadata": {},
   "outputs": [
    {
     "data": {
      "text/plain": [
       "['GOAL', 'GOOOOOOOOOAAAAAAL']"
      ]
     },
     "execution_count": 71,
     "metadata": {},
     "output_type": "execute_result"
    }
   ],
   "source": [
    "text = \"GOAL GOOOOOOOOOAAAAAAL GAL\"\n",
    "re.findall('GO+A+L', text)"
   ]
  },
  {
   "cell_type": "code",
   "execution_count": 72,
   "metadata": {},
   "outputs": [
    {
     "data": {
      "text/plain": [
       "['GOAL']"
      ]
     },
     "execution_count": 72,
     "metadata": {},
     "output_type": "execute_result"
    }
   ],
   "source": [
    "text = \"GOAL\"\n",
    "re.findall('GO+A+L', text)"
   ]
  },
  {
   "attachments": {},
   "cell_type": "markdown",
   "metadata": {
    "slideshow": {
     "slide_type": "subslide"
    }
   },
   "source": [
    "`*` and `+` are *greedy* in Python. They will grab as much as possible. "
   ]
  },
  {
   "cell_type": "code",
   "execution_count": 73,
   "metadata": {},
   "outputs": [
    {
     "data": {
      "text/plain": [
       "['<p>Something or other</p><p>Yet more junk.</p>']"
      ]
     },
     "execution_count": 73,
     "metadata": {},
     "output_type": "execute_result"
    }
   ],
   "source": [
    "text = \"<p>Something or other</p><p>Yet more junk.</p>\" \n",
    "re.findall('<p>.*</p>', text)"
   ]
  },
  {
   "cell_type": "code",
   "execution_count": 74,
   "metadata": {
    "scrolled": true
   },
   "outputs": [
    {
     "name": "stderr",
     "output_type": "stream",
     "text": [
      "<>:2: SyntaxWarning: invalid escape sequence '\\w'\n",
      "<>:2: SyntaxWarning: invalid escape sequence '\\w'\n",
      "/var/folders/k2/vg86l2h54czgjfzlmd6fkz908bdx0t/T/ipykernel_42911/1872619659.py:2: SyntaxWarning: invalid escape sequence '\\w'\n",
      "  re.findall('\\w.*@gmail.com', text)\n"
     ]
    },
    {
     "data": {
      "text/plain": [
       "['foo1@gmail.com;b-a-r@gmail.com;baz@gmail.com']"
      ]
     },
     "execution_count": 74,
     "metadata": {},
     "output_type": "execute_result"
    }
   ],
   "source": [
    "text = \"foo1@gmail.com;b-a-r@gmail.com;baz@gmail.com\" \n",
    "re.findall('\\w.*@gmail.com', text)"
   ]
  },
  {
   "attachments": {},
   "cell_type": "markdown",
   "metadata": {
    "slideshow": {
     "slide_type": "fragment"
    }
   },
   "source": [
    "`*?` is the *lazy* alternative, it will grab as little as possible."
   ]
  },
  {
   "cell_type": "code",
   "execution_count": null,
   "metadata": {},
   "outputs": [],
   "source": []
  },
  {
   "cell_type": "code",
   "execution_count": 76,
   "metadata": {
    "slideshow": {
     "slide_type": "fragment"
    }
   },
   "outputs": [
    {
     "data": {
      "text/plain": [
       "['foo1@gmail.com', 'b-a-r@gmail.com', 'baz@gmail.com']"
      ]
     },
     "execution_count": 76,
     "metadata": {},
     "output_type": "execute_result"
    }
   ],
   "source": [
    "re.findall(r'\\w.*?@gmail.com', text)"
   ]
  },
  {
   "attachments": {},
   "cell_type": "markdown",
   "metadata": {
    "slideshow": {
     "slide_type": "subslide"
    }
   },
   "source": [
    "## Reference (so far)\n",
    "\n",
    "**Matching characters**\n",
    "- `a` - Match the letter `a`. Same for most other characters\n",
    "- `.` - Match any single character\n",
    "- `\\w` - Match any word character (letters, number... support for non-English characters varies)\n",
    "- `\\W` - Match any non-word characters\n",
    "- `\\d` - Match any digit\n",
    "- `.` - Matches *any* character\n",
    "- `\\.` - Matches a literal period\n",
    "- `\\s` - Match any whitespace character (space, tabs, line breaks sometimes)\n",
    "\n",
    "**Multiple Matches**\n",
    "- `[ab]` - Group of multiple possible characters - in this case `a` or `b`\n",
    "- `[a-z]` matches any character from a to z\n",
    "- `[A-Z]` matches any character from A to Z\n",
    "- `[A-Zab]` matches any character from A to Z (`A-Z`), *or* `a` *or* `b`\n",
    "\n",
    "**Repeating**\n",
    "\n",
    "*'greedy' means that it captures as much as it can, 'lazy' means it captures as little as possible.*\n",
    "- `?` - One or zero of the preceding match\n",
    "- `+` - One or more of the preceding match (greedy)\n",
    "- `*` - Zero or more of the preceding match (greedy)\n",
    "- `*?`, `+?`  - Lazy versions of `*` and `+`"
   ]
  },
  {
   "attachments": {},
   "cell_type": "markdown",
   "metadata": {
    "slideshow": {
     "slide_type": "slide"
    }
   },
   "source": [
    "## Start and End of Line"
   ]
  },
  {
   "attachments": {},
   "cell_type": "markdown",
   "metadata": {
    "slideshow": {
     "slide_type": "subslide"
    }
   },
   "source": [
    "`^` - Start of line"
   ]
  },
  {
   "cell_type": "code",
   "execution_count": 77,
   "metadata": {
    "slideshow": {
     "slide_type": "fragment"
    }
   },
   "outputs": [
    {
     "data": {
      "text/plain": [
       "['The']"
      ]
     },
     "execution_count": 77,
     "metadata": {},
     "output_type": "execute_result"
    }
   ],
   "source": [
    "text = \"The quick brown fox jumped over the lazy yellow dog\"\n",
    "re.findall('^The', text)"
   ]
  },
  {
   "cell_type": "code",
   "execution_count": 78,
   "metadata": {
    "slideshow": {
     "slide_type": "fragment"
    }
   },
   "outputs": [
    {
     "data": {
      "text/plain": [
       "['The']"
      ]
     },
     "execution_count": 78,
     "metadata": {},
     "output_type": "execute_result"
    }
   ],
   "source": [
    "re.findall('^The', text)"
   ]
  },
  {
   "cell_type": "code",
   "execution_count": 79,
   "metadata": {
    "slideshow": {
     "slide_type": "fragment"
    }
   },
   "outputs": [
    {
     "data": {
      "text/plain": [
       "['The quick brown fox']"
      ]
     },
     "execution_count": 79,
     "metadata": {},
     "output_type": "execute_result"
    }
   ],
   "source": [
    "re.findall('^.*fox', text)"
   ]
  },
  {
   "attachments": {},
   "cell_type": "markdown",
   "metadata": {
    "slideshow": {
     "slide_type": "subslide"
    }
   },
   "source": [
    "`$` - End of line"
   ]
  },
  {
   "cell_type": "code",
   "execution_count": 80,
   "metadata": {
    "scrolled": true,
    "slideshow": {
     "slide_type": "fragment"
    }
   },
   "outputs": [
    {
     "data": {
      "text/plain": [
       "['low dog']"
      ]
     },
     "execution_count": 80,
     "metadata": {},
     "output_type": "execute_result"
    }
   ],
   "source": [
    "text = \"The quick brown fox jumped over the lazy yellow dog\"\n",
    "re.findall('.......$', text)"
   ]
  },
  {
   "cell_type": "code",
   "execution_count": 81,
   "metadata": {
    "slideshow": {
     "slide_type": "subslide"
    }
   },
   "outputs": [
    {
     "data": {
      "text/plain": [
       "['The quick brown fox jumped over the lazy yellow dog']"
      ]
     },
     "execution_count": 81,
     "metadata": {},
     "output_type": "execute_result"
    }
   ],
   "source": [
    "text = \"The quick brown fox jumped over the lazy yellow dog\"\n",
    "re.findall(\"^.*$\", text)"
   ]
  },
  {
   "attachments": {},
   "cell_type": "markdown",
   "metadata": {
    "slideshow": {
     "slide_type": "subslide"
    }
   },
   "source": [
    "## Reference\n",
    "\n",
    "**Matching characters**\n",
    "- `a` - Match the letter `a`. Same for most other characters\n",
    "- `.` - Match any single character\n",
    "- `\\w` - Match any word character (letters, number... support for non-English characters varies)\n",
    "- `\\W` - Match any non-word characters\n",
    "- `\\d` - Match any digit\n",
    "- `.` - Matches *any* character\n",
    "- `\\.` - Matches a literal period\n",
    "- `\\s` - Match any whitespace character (space, tabs, line breaks sometimes)\n",
    "\n",
    "**Multiple Matches**\n",
    "- `[ab]` - Group of multiple possible characters - in this case `a` or `b`\n",
    "- `[a-z]` matches any character from a to z\n",
    "- `[A-Z]` matches any character from A to Z\n",
    "- `[A-Zab]` matches any character from A to Z (`A-Z`), *or* `a` *or* `b`\n",
    "\n",
    "**Repeating**\n",
    "\n",
    "*'greedy' means that it captures as much as it can, 'lazy' means it captures as little as possible.*\n",
    "- `?` - One or zero of the preceding match\n",
    "- `+` - One or more of the preceding match (greedy)\n",
    "- `*` - Zero or more of the preceding match (greedy)\n",
    "- `*?`, `+?`  - Lazy versions of `*` and `+`\n",
    "\n",
    "**Position**\n",
    "- `^` - Start of line\n",
    "- `$` - End of line"
   ]
  },
  {
   "attachments": {},
   "cell_type": "markdown",
   "metadata": {
    "slideshow": {
     "slide_type": "slide"
    }
   },
   "source": [
    "# Additional tips\n",
    "\n",
    "Choose a range for repetition with `{min,max}`. e.g."
   ]
  },
  {
   "cell_type": "code",
   "execution_count": 82,
   "metadata": {},
   "outputs": [
    {
     "data": {
      "text/plain": [
       "<re.Match object; span=(0, 4), match='YOLO'>"
      ]
     },
     "execution_count": 82,
     "metadata": {},
     "output_type": "execute_result"
    }
   ],
   "source": [
    "text = \"YOLO\"\n",
    "re.search('YOLO{1,3}$', text) "
   ]
  },
  {
   "cell_type": "code",
   "execution_count": 83,
   "metadata": {},
   "outputs": [
    {
     "data": {
      "text/plain": [
       "<re.Match object; span=(0, 6), match='YOLOOO'>"
      ]
     },
     "execution_count": 83,
     "metadata": {},
     "output_type": "execute_result"
    }
   ],
   "source": [
    "text = \"YOLOOO\"\n",
    "re.search('YOLO{1,3}$', text)"
   ]
  },
  {
   "cell_type": "code",
   "execution_count": 84,
   "metadata": {},
   "outputs": [],
   "source": [
    "text = \"YOLOOOOOO\"\n",
    "re.search('YOLO{1,3}$', text)"
   ]
  },
  {
   "attachments": {},
   "cell_type": "markdown",
   "metadata": {
    "slideshow": {
     "slide_type": "subslide"
    }
   },
   "source": [
    "*Negation*\n",
    "    \n",
    "Use the caret in square brackets: `[^aeiou]` means *not* a, e, i, o, or u"
   ]
  },
  {
   "attachments": {},
   "cell_type": "markdown",
   "metadata": {
    "slideshow": {
     "slide_type": "fragment"
    }
   },
   "source": [
    "*Groups*\n",
    "    \n",
    "Treat multiple characters together, like if they were a single character.\n",
    "\n",
    "Use parentheses. e.g:"
   ]
  },
  {
   "cell_type": "code",
   "execution_count": 85,
   "metadata": {},
   "outputs": [
    {
     "data": {
      "text/plain": [
       "['na']"
      ]
     },
     "execution_count": 85,
     "metadata": {},
     "output_type": "execute_result"
    }
   ],
   "source": [
    "text = \"banana\"\n",
    "re.findall('^ba(na)+$', text)"
   ]
  },
  {
   "cell_type": "code",
   "execution_count": 86,
   "metadata": {},
   "outputs": [
    {
     "data": {
      "text/plain": [
       "['ol']"
      ]
     },
     "execution_count": 86,
     "metadata": {},
     "output_type": "execute_result"
    }
   ],
   "source": [
    "text = \"lololololololololololol\"\n",
    "re.findall('^l(ol)+$', text)"
   ]
  },
  {
   "attachments": {},
   "cell_type": "markdown",
   "metadata": {
    "slideshow": {
     "slide_type": "subslide"
    }
   },
   "source": [
    "Capturing groups:"
   ]
  },
  {
   "cell_type": "code",
   "execution_count": 87,
   "metadata": {},
   "outputs": [
    {
     "data": {
      "text/plain": [
       "['Ketch', 'Cats']"
      ]
     },
     "execution_count": 87,
     "metadata": {},
     "output_type": "execute_result"
    }
   ],
   "source": [
    "text = \"Ketchup Catsup\"\n",
    "re.findall('(Ketch|Cats)up', text)"
   ]
  },
  {
   "cell_type": "markdown",
   "metadata": {
    "slideshow": {
     "slide_type": "slide"
    }
   },
   "source": [
    "## Regex Crosswords\n",
    "\n",
    "Try https://regexcrossword.com for a Puzzle Game"
   ]
  }
 ],
 "metadata": {
  "celltoolbar": "Slideshow",
  "kernelspec": {
   "display_name": "Python 3",
   "language": "python",
   "name": "python3"
  },
  "language_info": {
   "codemirror_mode": {
    "name": "ipython",
    "version": 3
   },
   "file_extension": ".py",
   "mimetype": "text/x-python",
   "name": "python",
   "nbconvert_exporter": "python",
   "pygments_lexer": "ipython3",
   "version": "3.13.1"
  }
 },
 "nbformat": 4,
 "nbformat_minor": 2
}
