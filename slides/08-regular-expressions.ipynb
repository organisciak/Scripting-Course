{
 "cells": [
  {
   "attachments": {},
   "cell_type": "markdown",
   "metadata": {
    "slideshow": {
     "slide_type": "slide"
    }
   },
   "source": [
    "# Regular Expressions"
   ]
  },
  {
   "attachments": {},
   "cell_type": "markdown",
   "metadata": {
    "slideshow": {
     "slide_type": "subslide"
    }
   },
   "source": [
    "## Announcements"
   ]
  },
  {
   "attachments": {},
   "cell_type": "markdown",
   "metadata": {
    "slideshow": {
     "slide_type": "subslide"
    }
   },
   "source": [
    "## Final project discussion"
   ]
  },
  {
   "attachments": {},
   "cell_type": "markdown",
   "metadata": {
    "slideshow": {
     "slide_type": "subslide"
    }
   },
   "source": [
    "## Review"
   ]
  },
  {
   "attachments": {},
   "cell_type": "markdown",
   "metadata": {
    "slideshow": {
     "slide_type": "subslide"
    }
   },
   "source": [
    "## Looking Back"
   ]
  },
  {
   "attachments": {},
   "cell_type": "markdown",
   "metadata": {
    "slideshow": {
     "slide_type": "fragment"
    }
   },
   "source": [
    "- SQL, Relational Databases\n",
    "   - Selecting, sorting, limiting, joins\n",
    "   - Using SQLite in Colab with `%%sql`"
   ]
  },
  {
   "attachments": {},
   "cell_type": "markdown",
   "metadata": {
    "slideshow": {
     "slide_type": "subslide"
    }
   },
   "source": [
    "- Data manipulation with Pandas\n",
    "   - DataFrames and Series's\n",
    "   - Import/Exporting to SQL\n",
    "   - Pulling tables from web\n",
    "   - Selection, sorting, counting"
   ]
  },
  {
   "attachments": {},
   "cell_type": "markdown",
   "metadata": {
    "slideshow": {
     "slide_type": "fragment"
    }
   },
   "source": [
    "- Split-Apply-Combine\n",
    "   - Groupby in Pandas e.g. `.groupby('column').mean()`"
   ]
  },
  {
   "attachments": {},
   "cell_type": "markdown",
   "metadata": {
    "slideshow": {
     "slide_type": "subslide"
    }
   },
   "source": [
    "- Visualization"
   ]
  },
  {
   "attachments": {},
   "cell_type": "markdown",
   "metadata": {
    "slideshow": {
     "slide_type": "fragment"
    }
   },
   "source": [
    "- String pattern matching and extraction with regular expressions"
   ]
  },
  {
   "attachments": {},
   "cell_type": "markdown",
   "metadata": {
    "slideshow": {
     "slide_type": "fragment"
    }
   },
   "source": [
    "- Semi-Structured data in MongoDB\n",
    "    - JSON\n",
    "    - selection, sorting\n",
    "    - Aggregations\n",
    "    - MapReduce concepts"
   ]
  },
  {
   "attachments": {},
   "cell_type": "markdown",
   "metadata": {
    "slideshow": {
     "slide_type": "slide"
    }
   },
   "source": [
    "## <center>Regular Expressions</center>\n",
    "### <center>aka *regex*</center>"
   ]
  },
  {
   "attachments": {},
   "cell_type": "markdown",
   "metadata": {
    "slideshow": {
     "slide_type": "subslide"
    }
   },
   "source": [
    "### Overview\n",
    "\n",
    "Regular Expressions help you work with strings"
   ]
  },
  {
   "attachments": {},
   "cell_type": "markdown",
   "metadata": {
    "slideshow": {
     "slide_type": "fragment"
    }
   },
   "source": [
    "*Pattern Matching*\n",
    "\n",
    "e.g. Find all phone numbers on a web page"
   ]
  },
  {
   "attachments": {},
   "cell_type": "markdown",
   "metadata": {
    "slideshow": {
     "slide_type": "fragment"
    }
   },
   "source": [
    "*Manipulation*\n",
    "\n",
    "e.g. Match \"{Lastname}, {Firstname}\" in a set of records and rewrite it as \"{Firstname} {Lastname}\""
   ]
  },
  {
   "attachments": {},
   "cell_type": "markdown",
   "metadata": {
    "slideshow": {
     "slide_type": "subslide"
    }
   },
   "source": [
    "## Why?\n",
    "\n",
    "- Checking whether an input is valid (i.e. password, phone number, email, etc.)\n",
    "- Cleaning data\n",
    "- More complex data subsetting\n",
    "- Working with user inputs or other unstructured data"
   ]
  },
  {
   "attachments": {},
   "cell_type": "markdown",
   "metadata": {
    "slideshow": {
     "slide_type": "subslide"
    }
   },
   "source": [
    "### Q: Where can you use regular expressions?"
   ]
  },
  {
   "attachments": {},
   "cell_type": "markdown",
   "metadata": {
    "slideshow": {
     "slide_type": "fragment"
    }
   },
   "source": [
    "### A: Many, many places!"
   ]
  },
  {
   "attachments": {},
   "cell_type": "markdown",
   "metadata": {
    "slideshow": {
     "slide_type": "subslide"
    }
   },
   "source": [
    "## In Python"
   ]
  },
  {
   "cell_type": "code",
   "execution_count": 2,
   "metadata": {},
   "outputs": [],
   "source": [
    "import re\n",
    "comment = \"It was a dark and stormy night.\" "
   ]
  },
  {
   "attachments": {},
   "cell_type": "markdown",
   "metadata": {
    "slideshow": {
     "slide_type": "fragment"
    }
   },
   "source": [
    "Find a simple string:"
   ]
  },
  {
   "cell_type": "code",
   "execution_count": 3,
   "metadata": {},
   "outputs": [
    {
     "data": {
      "text/plain": [
       "['dark']"
      ]
     },
     "execution_count": 3,
     "metadata": {},
     "output_type": "execute_result"
    }
   ],
   "source": [
    "re.findall('dark', comment)"
   ]
  },
  {
   "attachments": {},
   "cell_type": "markdown",
   "metadata": {
    "slideshow": {
     "slide_type": "fragment"
    }
   },
   "source": [
    "Find all sequences of one or more word characters:"
   ]
  },
  {
   "cell_type": "code",
   "execution_count": 4,
   "metadata": {},
   "outputs": [
    {
     "data": {
      "text/plain": [
       "['It', 'was', 'a', 'dark', 'and', 'stormy', 'night']"
      ]
     },
     "execution_count": 4,
     "metadata": {},
     "output_type": "execute_result"
    }
   ],
   "source": [
    "re.findall('\\w+', comment)"
   ]
  },
  {
   "attachments": {},
   "cell_type": "markdown",
   "metadata": {
    "slideshow": {
     "slide_type": "subslide"
    }
   },
   "source": [
    "## In SQL\n",
    "\n",
    "SQLite doesn't support it, but most 'bigger' databases do. e.g."
   ]
  },
  {
   "attachments": {},
   "cell_type": "markdown",
   "metadata": {
    "slideshow": {
     "slide_type": "fragment"
    }
   },
   "source": [
    "**MySQL**\n",
    "\n",
    "Select columns that match alphanumeric characters only:\n",
    "\n",
    "```\n",
    "SELECT * FROM table WHERE column REGEXP '^[A-Za-z0-9]+$';\n",
    "```\n",
    "\n",
    "**Postgresql**\n",
    "\n",
    "Match strings that include foo, bar, or baz:\n",
    "\n",
    "```\n",
    "SELECT * FROM table WHERE value ~ 'foo|bar|baz';\n",
    "```"
   ]
  },
  {
   "attachments": {},
   "cell_type": "markdown",
   "metadata": {
    "slideshow": {
     "slide_type": "subslide"
    }
   },
   "source": [
    "## In Pandas"
   ]
  },
  {
   "cell_type": "code",
   "execution_count": 5,
   "metadata": {},
   "outputs": [
    {
     "data": {
      "text/html": [
       "<div>\n",
       "<style scoped>\n",
       "    .dataframe tbody tr th:only-of-type {\n",
       "        vertical-align: middle;\n",
       "    }\n",
       "\n",
       "    .dataframe tbody tr th {\n",
       "        vertical-align: top;\n",
       "    }\n",
       "\n",
       "    .dataframe thead th {\n",
       "        text-align: right;\n",
       "    }\n",
       "</style>\n",
       "<table border=\"1\" class=\"dataframe\">\n",
       "  <thead>\n",
       "    <tr style=\"text-align: right;\">\n",
       "      <th></th>\n",
       "      <th>userId</th>\n",
       "      <th>rating</th>\n",
       "      <th>title</th>\n",
       "      <th>genres</th>\n",
       "      <th>timestamp</th>\n",
       "      <th>year</th>\n",
       "    </tr>\n",
       "  </thead>\n",
       "  <tbody>\n",
       "    <tr>\n",
       "      <th>70502</th>\n",
       "      <td>318</td>\n",
       "      <td>4.0</td>\n",
       "      <td>Tin Cup</td>\n",
       "      <td>Comedy</td>\n",
       "      <td>862902803</td>\n",
       "      <td>1996</td>\n",
       "    </tr>\n",
       "  </tbody>\n",
       "</table>\n",
       "</div>"
      ],
      "text/plain": [
       "       userId  rating    title  genres  timestamp  year\n",
       "70502     318     4.0  Tin Cup  Comedy  862902803  1996"
      ]
     },
     "execution_count": 5,
     "metadata": {},
     "output_type": "execute_result"
    }
   ],
   "source": [
    "import pandas as pd\n",
    "movies = pd.read_csv('https://raw.githubusercontent.com/organisciak/Scripting-Course/master/data/movielens_small.csv')\n",
    "movies.sample()"
   ]
  },
  {
   "attachments": {},
   "cell_type": "markdown",
   "metadata": {
    "slideshow": {
     "slide_type": "subslide"
    }
   },
   "source": [
    "Find movies where there is a digit (`\\d`) right before the end of the string (`$`):"
   ]
  },
  {
   "cell_type": "code",
   "execution_count": 6,
   "metadata": {
    "slideshow": {
     "slide_type": "fragment"
    }
   },
   "outputs": [
    {
     "data": {
      "text/html": [
       "<div>\n",
       "<style scoped>\n",
       "    .dataframe tbody tr th:only-of-type {\n",
       "        vertical-align: middle;\n",
       "    }\n",
       "\n",
       "    .dataframe tbody tr th {\n",
       "        vertical-align: top;\n",
       "    }\n",
       "\n",
       "    .dataframe thead th {\n",
       "        text-align: right;\n",
       "    }\n",
       "</style>\n",
       "<table border=\"1\" class=\"dataframe\">\n",
       "  <thead>\n",
       "    <tr style=\"text-align: right;\">\n",
       "      <th></th>\n",
       "      <th>userId</th>\n",
       "      <th>rating</th>\n",
       "      <th>title</th>\n",
       "      <th>genres</th>\n",
       "      <th>timestamp</th>\n",
       "      <th>year</th>\n",
       "    </tr>\n",
       "  </thead>\n",
       "  <tbody>\n",
       "    <tr>\n",
       "      <th>12634</th>\n",
       "      <td>577</td>\n",
       "      <td>3.5</td>\n",
       "      <td>Fahrenheit 9/11</td>\n",
       "      <td>Documentary</td>\n",
       "      <td>1111551742</td>\n",
       "      <td>2004</td>\n",
       "    </tr>\n",
       "    <tr>\n",
       "      <th>26664</th>\n",
       "      <td>493</td>\n",
       "      <td>4.0</td>\n",
       "      <td>Toy Story 2</td>\n",
       "      <td>Adventure</td>\n",
       "      <td>954684761</td>\n",
       "      <td>1999</td>\n",
       "    </tr>\n",
       "    <tr>\n",
       "      <th>2210</th>\n",
       "      <td>602</td>\n",
       "      <td>3.0</td>\n",
       "      <td>Apollo 13</td>\n",
       "      <td>Adventure</td>\n",
       "      <td>842355955</td>\n",
       "      <td>1995</td>\n",
       "    </tr>\n",
       "    <tr>\n",
       "      <th>49320</th>\n",
       "      <td>289</td>\n",
       "      <td>0.5</td>\n",
       "      <td>Scream 2</td>\n",
       "      <td>Comedy</td>\n",
       "      <td>1328935429</td>\n",
       "      <td>1997</td>\n",
       "    </tr>\n",
       "    <tr>\n",
       "      <th>36620</th>\n",
       "      <td>418</td>\n",
       "      <td>1.5</td>\n",
       "      <td>Kill Bill: Vol. 1</td>\n",
       "      <td>Action</td>\n",
       "      <td>1132696099</td>\n",
       "      <td>2003</td>\n",
       "    </tr>\n",
       "    <tr>\n",
       "      <th>36567</th>\n",
       "      <td>88</td>\n",
       "      <td>4.0</td>\n",
       "      <td>Kill Bill: Vol. 1</td>\n",
       "      <td>Action</td>\n",
       "      <td>1239756823</td>\n",
       "      <td>2003</td>\n",
       "    </tr>\n",
       "    <tr>\n",
       "      <th>91830</th>\n",
       "      <td>564</td>\n",
       "      <td>1.0</td>\n",
       "      <td>House Party 2</td>\n",
       "      <td>Comedy</td>\n",
       "      <td>974838601</td>\n",
       "      <td>1991</td>\n",
       "    </tr>\n",
       "    <tr>\n",
       "      <th>26678</th>\n",
       "      <td>585</td>\n",
       "      <td>4.0</td>\n",
       "      <td>Toy Story 2</td>\n",
       "      <td>Adventure</td>\n",
       "      <td>974607441</td>\n",
       "      <td>1999</td>\n",
       "    </tr>\n",
       "    <tr>\n",
       "      <th>2127</th>\n",
       "      <td>353</td>\n",
       "      <td>2.0</td>\n",
       "      <td>Apollo 13</td>\n",
       "      <td>Adventure</td>\n",
       "      <td>1112268690</td>\n",
       "      <td>1995</td>\n",
       "    </tr>\n",
       "    <tr>\n",
       "      <th>65864</th>\n",
       "      <td>402</td>\n",
       "      <td>3.0</td>\n",
       "      <td>2012</td>\n",
       "      <td>Action</td>\n",
       "      <td>1443394856</td>\n",
       "      <td>2009</td>\n",
       "    </tr>\n",
       "  </tbody>\n",
       "</table>\n",
       "</div>"
      ],
      "text/plain": [
       "       userId  rating              title       genres   timestamp  year\n",
       "12634     577     3.5    Fahrenheit 9/11  Documentary  1111551742  2004\n",
       "26664     493     4.0        Toy Story 2    Adventure   954684761  1999\n",
       "2210      602     3.0          Apollo 13    Adventure   842355955  1995\n",
       "49320     289     0.5           Scream 2       Comedy  1328935429  1997\n",
       "36620     418     1.5  Kill Bill: Vol. 1       Action  1132696099  2003\n",
       "36567      88     4.0  Kill Bill: Vol. 1       Action  1239756823  2003\n",
       "91830     564     1.0      House Party 2       Comedy   974838601  1991\n",
       "26678     585     4.0        Toy Story 2    Adventure   974607441  1999\n",
       "2127      353     2.0          Apollo 13    Adventure  1112268690  1995\n",
       "65864     402     3.0               2012       Action  1443394856  2009"
      ]
     },
     "execution_count": 6,
     "metadata": {},
     "output_type": "execute_result"
    }
   ],
   "source": [
    "matches = movies['title'].str.contains('\\d$')\n",
    "movies[matches].sample(10)"
   ]
  },
  {
   "attachments": {},
   "cell_type": "markdown",
   "metadata": {
    "slideshow": {
     "slide_type": "subslide"
    }
   },
   "source": [
    "Find movies where the substring ' Part ' exists:"
   ]
  },
  {
   "cell_type": "code",
   "execution_count": 7,
   "metadata": {
    "slideshow": {
     "slide_type": "fragment"
    }
   },
   "outputs": [
    {
     "data": {
      "text/html": [
       "<div>\n",
       "<style scoped>\n",
       "    .dataframe tbody tr th:only-of-type {\n",
       "        vertical-align: middle;\n",
       "    }\n",
       "\n",
       "    .dataframe tbody tr th {\n",
       "        vertical-align: top;\n",
       "    }\n",
       "\n",
       "    .dataframe thead th {\n",
       "        text-align: right;\n",
       "    }\n",
       "</style>\n",
       "<table border=\"1\" class=\"dataframe\">\n",
       "  <thead>\n",
       "    <tr style=\"text-align: right;\">\n",
       "      <th></th>\n",
       "      <th>userId</th>\n",
       "      <th>rating</th>\n",
       "      <th>title</th>\n",
       "      <th>genres</th>\n",
       "      <th>timestamp</th>\n",
       "      <th>year</th>\n",
       "    </tr>\n",
       "  </thead>\n",
       "  <tbody>\n",
       "    <tr>\n",
       "      <th>41900</th>\n",
       "      <td>162</td>\n",
       "      <td>4.0</td>\n",
       "      <td>Father of the Bride Part II</td>\n",
       "      <td>Comedy</td>\n",
       "      <td>852791965</td>\n",
       "      <td>1995</td>\n",
       "    </tr>\n",
       "    <tr>\n",
       "      <th>25155</th>\n",
       "      <td>406</td>\n",
       "      <td>3.0</td>\n",
       "      <td>Godfather: Part II, The</td>\n",
       "      <td>Crime</td>\n",
       "      <td>1447951463</td>\n",
       "      <td>1974</td>\n",
       "    </tr>\n",
       "    <tr>\n",
       "      <th>25999</th>\n",
       "      <td>404</td>\n",
       "      <td>4.0</td>\n",
       "      <td>Godfather: Part III, The</td>\n",
       "      <td>Crime</td>\n",
       "      <td>1026927893</td>\n",
       "      <td>1990</td>\n",
       "    </tr>\n",
       "    <tr>\n",
       "      <th>41934</th>\n",
       "      <td>624</td>\n",
       "      <td>3.0</td>\n",
       "      <td>Father of the Bride Part II</td>\n",
       "      <td>Comedy</td>\n",
       "      <td>1019128415</td>\n",
       "      <td>1995</td>\n",
       "    </tr>\n",
       "    <tr>\n",
       "      <th>25127</th>\n",
       "      <td>232</td>\n",
       "      <td>5.0</td>\n",
       "      <td>Godfather: Part II, The</td>\n",
       "      <td>Crime</td>\n",
       "      <td>955086697</td>\n",
       "      <td>1974</td>\n",
       "    </tr>\n",
       "    <tr>\n",
       "      <th>41903</th>\n",
       "      <td>212</td>\n",
       "      <td>2.5</td>\n",
       "      <td>Father of the Bride Part II</td>\n",
       "      <td>Comedy</td>\n",
       "      <td>1218955060</td>\n",
       "      <td>1995</td>\n",
       "    </tr>\n",
       "    <tr>\n",
       "      <th>50257</th>\n",
       "      <td>134</td>\n",
       "      <td>3.5</td>\n",
       "      <td>Back to the Future Part III</td>\n",
       "      <td>Adventure</td>\n",
       "      <td>1361245906</td>\n",
       "      <td>1990</td>\n",
       "    </tr>\n",
       "    <tr>\n",
       "      <th>90790</th>\n",
       "      <td>353</td>\n",
       "      <td>1.0</td>\n",
       "      <td>Friday the 13th Part 3: 3D</td>\n",
       "      <td>Horror</td>\n",
       "      <td>1113053076</td>\n",
       "      <td>1982</td>\n",
       "    </tr>\n",
       "    <tr>\n",
       "      <th>84658</th>\n",
       "      <td>554</td>\n",
       "      <td>3.0</td>\n",
       "      <td>Friday the 13th Part 2</td>\n",
       "      <td>Horror</td>\n",
       "      <td>1012753261</td>\n",
       "      <td>1981</td>\n",
       "    </tr>\n",
       "    <tr>\n",
       "      <th>85816</th>\n",
       "      <td>157</td>\n",
       "      <td>2.5</td>\n",
       "      <td>Karate Kid, Part II, The</td>\n",
       "      <td>Action</td>\n",
       "      <td>1291598091</td>\n",
       "      <td>1986</td>\n",
       "    </tr>\n",
       "  </tbody>\n",
       "</table>\n",
       "</div>"
      ],
      "text/plain": [
       "       userId  rating                        title     genres   timestamp  \\\n",
       "41900     162     4.0  Father of the Bride Part II     Comedy   852791965   \n",
       "25155     406     3.0      Godfather: Part II, The      Crime  1447951463   \n",
       "25999     404     4.0     Godfather: Part III, The      Crime  1026927893   \n",
       "41934     624     3.0  Father of the Bride Part II     Comedy  1019128415   \n",
       "25127     232     5.0      Godfather: Part II, The      Crime   955086697   \n",
       "41903     212     2.5  Father of the Bride Part II     Comedy  1218955060   \n",
       "50257     134     3.5  Back to the Future Part III  Adventure  1361245906   \n",
       "90790     353     1.0   Friday the 13th Part 3: 3D     Horror  1113053076   \n",
       "84658     554     3.0       Friday the 13th Part 2     Horror  1012753261   \n",
       "85816     157     2.5     Karate Kid, Part II, The     Action  1291598091   \n",
       "\n",
       "       year  \n",
       "41900  1995  \n",
       "25155  1974  \n",
       "25999  1990  \n",
       "41934  1995  \n",
       "25127  1974  \n",
       "41903  1995  \n",
       "50257  1990  \n",
       "90790  1982  \n",
       "84658  1981  \n",
       "85816  1986  "
      ]
     },
     "execution_count": 7,
     "metadata": {},
     "output_type": "execute_result"
    }
   ],
   "source": [
    "matches = movies.title.str.contains(' Part ')\n",
    "movies[matches].sample(10)"
   ]
  },
  {
   "attachments": {},
   "cell_type": "markdown",
   "metadata": {
    "slideshow": {
     "slide_type": "subslide"
    }
   },
   "source": [
    "Find movies that are named \"The ... of ...\""
   ]
  },
  {
   "cell_type": "code",
   "execution_count": 8,
   "metadata": {
    "scrolled": false,
    "slideshow": {
     "slide_type": "fragment"
    }
   },
   "outputs": [
    {
     "data": {
      "text/html": [
       "<div>\n",
       "<style scoped>\n",
       "    .dataframe tbody tr th:only-of-type {\n",
       "        vertical-align: middle;\n",
       "    }\n",
       "\n",
       "    .dataframe tbody tr th {\n",
       "        vertical-align: top;\n",
       "    }\n",
       "\n",
       "    .dataframe thead th {\n",
       "        text-align: right;\n",
       "    }\n",
       "</style>\n",
       "<table border=\"1\" class=\"dataframe\">\n",
       "  <thead>\n",
       "    <tr style=\"text-align: right;\">\n",
       "      <th></th>\n",
       "      <th>userId</th>\n",
       "      <th>rating</th>\n",
       "      <th>title</th>\n",
       "      <th>genres</th>\n",
       "      <th>timestamp</th>\n",
       "      <th>year</th>\n",
       "    </tr>\n",
       "  </thead>\n",
       "  <tbody>\n",
       "    <tr>\n",
       "      <th>36099</th>\n",
       "      <td>212</td>\n",
       "      <td>4.0</td>\n",
       "      <td>The Count of Monte Cristo</td>\n",
       "      <td>Action</td>\n",
       "      <td>1228789284</td>\n",
       "      <td>2002</td>\n",
       "    </tr>\n",
       "    <tr>\n",
       "      <th>68253</th>\n",
       "      <td>324</td>\n",
       "      <td>3.5</td>\n",
       "      <td>The Theory of Everything</td>\n",
       "      <td>Drama</td>\n",
       "      <td>1451526024</td>\n",
       "      <td>2014</td>\n",
       "    </tr>\n",
       "    <tr>\n",
       "      <th>97198</th>\n",
       "      <td>402</td>\n",
       "      <td>4.0</td>\n",
       "      <td>The Best of Me</td>\n",
       "      <td>Drama</td>\n",
       "      <td>1462948242</td>\n",
       "      <td>2014</td>\n",
       "    </tr>\n",
       "    <tr>\n",
       "      <th>75357</th>\n",
       "      <td>23</td>\n",
       "      <td>3.0</td>\n",
       "      <td>The Importance of Being Earnest</td>\n",
       "      <td>Comedy</td>\n",
       "      <td>1148669643</td>\n",
       "      <td>1952</td>\n",
       "    </tr>\n",
       "    <tr>\n",
       "      <th>68479</th>\n",
       "      <td>15</td>\n",
       "      <td>3.0</td>\n",
       "      <td>The Age of Adaline</td>\n",
       "      <td>Drama</td>\n",
       "      <td>1458506026</td>\n",
       "      <td>2015</td>\n",
       "    </tr>\n",
       "    <tr>\n",
       "      <th>36107</th>\n",
       "      <td>431</td>\n",
       "      <td>3.5</td>\n",
       "      <td>The Count of Monte Cristo</td>\n",
       "      <td>Action</td>\n",
       "      <td>1165548739</td>\n",
       "      <td>2002</td>\n",
       "    </tr>\n",
       "    <tr>\n",
       "      <th>96816</th>\n",
       "      <td>630</td>\n",
       "      <td>4.5</td>\n",
       "      <td>The Jinx: The Life and Deaths of Robert Durst</td>\n",
       "      <td>Documentary</td>\n",
       "      <td>1443807954</td>\n",
       "      <td>2015</td>\n",
       "    </tr>\n",
       "    <tr>\n",
       "      <th>97199</th>\n",
       "      <td>402</td>\n",
       "      <td>4.5</td>\n",
       "      <td>The Book of Life</td>\n",
       "      <td>Adventure</td>\n",
       "      <td>1443394238</td>\n",
       "      <td>2014</td>\n",
       "    </tr>\n",
       "    <tr>\n",
       "      <th>68255</th>\n",
       "      <td>371</td>\n",
       "      <td>5.0</td>\n",
       "      <td>The Theory of Everything</td>\n",
       "      <td>Drama</td>\n",
       "      <td>1462737932</td>\n",
       "      <td>2014</td>\n",
       "    </tr>\n",
       "    <tr>\n",
       "      <th>68251</th>\n",
       "      <td>149</td>\n",
       "      <td>4.0</td>\n",
       "      <td>The Theory of Everything</td>\n",
       "      <td>Drama</td>\n",
       "      <td>1437091480</td>\n",
       "      <td>2014</td>\n",
       "    </tr>\n",
       "  </tbody>\n",
       "</table>\n",
       "</div>"
      ],
      "text/plain": [
       "       userId  rating                                          title  \\\n",
       "36099     212     4.0                      The Count of Monte Cristo   \n",
       "68253     324     3.5                       The Theory of Everything   \n",
       "97198     402     4.0                                 The Best of Me   \n",
       "75357      23     3.0                The Importance of Being Earnest   \n",
       "68479      15     3.0                             The Age of Adaline   \n",
       "36107     431     3.5                      The Count of Monte Cristo   \n",
       "96816     630     4.5  The Jinx: The Life and Deaths of Robert Durst   \n",
       "97199     402     4.5                               The Book of Life   \n",
       "68255     371     5.0                       The Theory of Everything   \n",
       "68251     149     4.0                       The Theory of Everything   \n",
       "\n",
       "            genres   timestamp  year  \n",
       "36099       Action  1228789284  2002  \n",
       "68253        Drama  1451526024  2014  \n",
       "97198        Drama  1462948242  2014  \n",
       "75357       Comedy  1148669643  1952  \n",
       "68479        Drama  1458506026  2015  \n",
       "36107       Action  1165548739  2002  \n",
       "96816  Documentary  1443807954  2015  \n",
       "97199    Adventure  1443394238  2014  \n",
       "68255        Drama  1462737932  2014  \n",
       "68251        Drama  1437091480  2014  "
      ]
     },
     "execution_count": 8,
     "metadata": {},
     "output_type": "execute_result"
    }
   ],
   "source": [
    "matches = movies.title.str.contains('^The .+ of ')\n",
    "movies[matches].sample(10)"
   ]
  },
  {
   "attachments": {},
   "cell_type": "markdown",
   "metadata": {
    "slideshow": {
     "slide_type": "subslide"
    }
   },
   "source": [
    "## In MongoDB"
   ]
  },
  {
   "cell_type": "code",
   "execution_count": null,
   "metadata": {},
   "outputs": [],
   "source": [
    "from pymongo import MongoClient\n",
    "client = MongoClient()\n",
    "db = client.week7\n",
    "collection = db.cooking"
   ]
  },
  {
   "attachments": {},
   "cell_type": "markdown",
   "metadata": {
    "slideshow": {
     "slide_type": "subslide"
    }
   },
   "source": [
    "Find an recipe with an ingredient called \"yellow ...\""
   ]
  },
  {
   "cell_type": "code",
   "execution_count": 10,
   "metadata": {
    "slideshow": {
     "slide_type": "fragment"
    }
   },
   "outputs": [
    {
     "data": {
      "text/plain": [
       "{'_id': ObjectId('5cedb796db075a25e4ac71b5'),\n",
       " 'cuisine': 'southern_us',\n",
       " 'id': 25693,\n",
       " 'ingredients': ['plain flour',\n",
       "  'ground pepper',\n",
       "  'salt',\n",
       "  'tomatoes',\n",
       "  'ground black pepper',\n",
       "  'thyme',\n",
       "  'eggs',\n",
       "  'green tomatoes',\n",
       "  'yellow corn meal',\n",
       "  'milk',\n",
       "  'vegetable oil']}"
      ]
     },
     "execution_count": 10,
     "metadata": {},
     "output_type": "execute_result"
    }
   ],
   "source": [
    "collection.find_one({\n",
    "    \"ingredients\": {\"$regex\": \"yellow .*\"}\n",
    "})"
   ]
  },
  {
   "attachments": {},
   "cell_type": "markdown",
   "metadata": {
    "slideshow": {
     "slide_type": "subslide"
    }
   },
   "source": [
    "After unwinding the recipes to one doc per ingredient, find ingredients with a qualified salt:"
   ]
  },
  {
   "cell_type": "code",
   "execution_count": 24,
   "metadata": {
    "slideshow": {
     "slide_type": "fragment"
    }
   },
   "outputs": [
    {
     "data": {
      "text/plain": [
       "[{'ingredients': 'sea salt'},\n",
       " {'ingredients': 'kosher salt'},\n",
       " {'ingredients': 'fine sea salt'},\n",
       " {'ingredients': 'kosher salt'},\n",
       " {'ingredients': 'kosher salt'}]"
      ]
     },
     "execution_count": 24,
     "metadata": {},
     "output_type": "execute_result"
    }
   ],
   "source": [
    "pipeline = [\n",
    "    { \"$unwind\": \"$ingredients\" },\n",
    "    { \"$project\": {\"ingredients\": 1, \"_id\":0} },\n",
    "    { \"$match\":{\n",
    "        \"ingredients\": {\"$regex\": \"^.+ salt\" }\n",
    "        }\n",
    "    },\n",
    "    { \"$limit\": 5 }\n",
    "]\n",
    "results = collection.aggregate(pipeline)\n",
    "list(results)"
   ]
  },
  {
   "attachments": {},
   "cell_type": "markdown",
   "metadata": {
    "slideshow": {
     "slide_type": "subslide"
    }
   },
   "source": [
    "Count the qualified salt types:"
   ]
  },
  {
   "cell_type": "code",
   "execution_count": 25,
   "metadata": {
    "slideshow": {
     "slide_type": "fragment"
    }
   },
   "outputs": [
    {
     "data": {
      "text/plain": [
       "[{'_id': 'kosher salt', 'count': 3113},\n",
       " {'_id': 'sea salt', 'count': 940},\n",
       " {'_id': 'coarse salt', 'count': 578},\n",
       " {'_id': 'fine sea salt', 'count': 285},\n",
       " {'_id': 'garlic salt', 'count': 240},\n",
       " {'_id': 'seasoning salt', 'count': 131},\n",
       " {'_id': 'table salt', 'count': 79},\n",
       " {'_id': 'coarse sea salt', 'count': 68},\n",
       " {'_id': 'coarse kosher salt', 'count': 64},\n",
       " {'_id': 'celery salt', 'count': 52},\n",
       " {'_id': 'fine salt', 'count': 24},\n",
       " {'_id': 'onion salt', 'count': 15},\n",
       " {'_id': 'rock salt', 'count': 14},\n",
       " {'_id': 'black salt', 'count': 12},\n",
       " {'_id': 'pickling salt', 'count': 12},\n",
       " {'_id': 'Himalayan salt', 'count': 11},\n",
       " {'_id': 'celtic salt', 'count': 9},\n",
       " {'_id': 'maldon sea salt', 'count': 8},\n",
       " {'_id': 'smoked sea salt', 'count': 6},\n",
       " {'_id': 'iodized salt', 'count': 4}]"
      ]
     },
     "execution_count": 25,
     "metadata": {},
     "output_type": "execute_result"
    }
   ],
   "source": [
    "pipeline = [\n",
    "    { \"$unwind\": \"$ingredients\" },\n",
    "    { \"$project\": {\"ingredients\": 1, \"_id\":0} },\n",
    "    { \"$match\":{ \"ingredients\": {\"$regex\": \"^.+ salt$\" } } },\n",
    "    { \"$group\":{\n",
    "        \"_id\": \"$ingredients\", \"count\": {\"$sum\": 1} } \n",
    "    },\n",
    "    { \"$sort\": { \"count\": -1} },\n",
    "    { \"$limit\": 20 }\n",
    "]\n",
    "results = collection.aggregate(pipeline)\n",
    "list(results)"
   ]
  },
  {
   "attachments": {},
   "cell_type": "markdown",
   "metadata": {
    "slideshow": {
     "slide_type": "subslide"
    }
   },
   "source": [
    "### Note on variation\n",
    "\n",
    "- Regular Expressions are *close* to standard, but different implementations are slightly different."
   ]
  },
  {
   "attachments": {},
   "cell_type": "markdown",
   "metadata": {
    "slideshow": {
     "slide_type": "subslide"
    }
   },
   "source": [
    "## Basics of Regular Expressions"
   ]
  },
  {
   "attachments": {},
   "cell_type": "markdown",
   "metadata": {
    "slideshow": {
     "slide_type": "-"
    }
   },
   "source": [
    "In this class: we'll cover the basics, practiced in Python and Pandas."
   ]
  },
  {
   "attachments": {},
   "cell_type": "markdown",
   "metadata": {
    "slideshow": {
     "slide_type": "fragment"
    }
   },
   "source": [
    "To follow along:"
   ]
  },
  {
   "cell_type": "code",
   "execution_count": 9,
   "metadata": {
    "slideshow": {
     "slide_type": "-"
    }
   },
   "outputs": [],
   "source": [
    "import re"
   ]
  },
  {
   "cell_type": "code",
   "execution_count": 10,
   "metadata": {},
   "outputs": [
    {
     "data": {
      "text/plain": [
       "['it', 'was', 'a', 'dark', 'and', 'stormy', 'night']"
      ]
     },
     "execution_count": 10,
     "metadata": {},
     "output_type": "execute_result"
    }
   ],
   "source": [
    "text = \"it was a dark and stormy night.\"\n",
    "re.findall('\\w+', text)"
   ]
  },
  {
   "attachments": {},
   "cell_type": "markdown",
   "metadata": {
    "slideshow": {
     "slide_type": "subslide"
    }
   },
   "source": [
    "## Wild Cards"
   ]
  },
  {
   "attachments": {},
   "cell_type": "markdown",
   "metadata": {
    "slideshow": {
     "slide_type": "subslide"
    }
   },
   "source": [
    "`a` - Match the letter 'a'. Same for most other characters"
   ]
  },
  {
   "cell_type": "code",
   "execution_count": 11,
   "metadata": {
    "slideshow": {
     "slide_type": "fragment"
    }
   },
   "outputs": [
    {
     "data": {
      "text/plain": [
       "['o', 'o', 'o']"
      ]
     },
     "execution_count": 11,
     "metadata": {},
     "output_type": "execute_result"
    }
   ],
   "source": [
    "text = \"Colorado\"\n",
    "re.findall('o', text)"
   ]
  },
  {
   "cell_type": "code",
   "execution_count": 12,
   "metadata": {
    "scrolled": false,
    "slideshow": {
     "slide_type": "fragment"
    }
   },
   "outputs": [
    {
     "data": {
      "text/plain": [
       "['Buffalo buffalo', 'Buffalo buffalo', 'Buffalo buffalo']"
      ]
     },
     "execution_count": 12,
     "metadata": {},
     "output_type": "execute_result"
    }
   ],
   "source": [
    "text = \"Buffalo buffalo Buffalo buffalo buffalo buffalo Buffalo buffalo\"\n",
    "re.findall('Buffalo buffalo', text)"
   ]
  },
  {
   "attachments": {},
   "cell_type": "markdown",
   "metadata": {
    "slideshow": {
     "slide_type": "subslide"
    }
   },
   "source": [
    "`.` - Match any single character"
   ]
  },
  {
   "cell_type": "code",
   "execution_count": 13,
   "metadata": {
    "slideshow": {
     "slide_type": "fragment"
    }
   },
   "outputs": [
    {
     "data": {
      "text/plain": [
       "['who', 'wha', 'whe', 'why']"
      ]
     },
     "execution_count": 13,
     "metadata": {},
     "output_type": "execute_result"
    }
   ],
   "source": [
    "text = \"who, what, where, why, and how\"\n",
    "re.findall('wh.', text)"
   ]
  },
  {
   "cell_type": "code",
   "execution_count": 14,
   "metadata": {
    "slideshow": {
     "slide_type": "fragment"
    }
   },
   "outputs": [
    {
     "data": {
      "text/plain": [
       "['who,', 'why,']"
      ]
     },
     "execution_count": 14,
     "metadata": {},
     "output_type": "execute_result"
    }
   ],
   "source": [
    "text = \"who, what, where, why, and how\"\n",
    "re.findall('wh.,', text)"
   ]
  },
  {
   "attachments": {},
   "cell_type": "markdown",
   "metadata": {
    "slideshow": {
     "slide_type": "subslide"
    }
   },
   "source": [
    "- `\\w` - Match any word character (letters, number... support for non-English characters varies)\n",
    "- `\\W` - Match any non-word characters"
   ]
  },
  {
   "cell_type": "code",
   "execution_count": 15,
   "metadata": {
    "slideshow": {
     "slide_type": "fragment"
    }
   },
   "outputs": [
    {
     "data": {
      "text/plain": [
       "['Who,', 'hat,', 'ere,', 'why,']"
      ]
     },
     "execution_count": 15,
     "metadata": {},
     "output_type": "execute_result"
    }
   ],
   "source": [
    "text = \"Who, what, where, why, and how\"\n",
    "re.findall('\\w\\w\\w,', text)"
   ]
  },
  {
   "cell_type": "code",
   "execution_count": 16,
   "metadata": {
    "slideshow": {
     "slide_type": "fragment"
    }
   },
   "outputs": [
    {
     "data": {
      "text/plain": [
       "['W',\n",
       " 'h',\n",
       " 'o',\n",
       " 'w',\n",
       " 'h',\n",
       " 'a',\n",
       " 't',\n",
       " 'w',\n",
       " 'h',\n",
       " 'e',\n",
       " 'r',\n",
       " 'e',\n",
       " 'w',\n",
       " 'h',\n",
       " 'y',\n",
       " 'a',\n",
       " 'n',\n",
       " 'd',\n",
       " 'h',\n",
       " 'o',\n",
       " 'w']"
      ]
     },
     "execution_count": 16,
     "metadata": {},
     "output_type": "execute_result"
    }
   ],
   "source": [
    "text = \"Who, what, where, why, and how\"\n",
    "re.findall('\\w', text)"
   ]
  },
  {
   "attachments": {},
   "cell_type": "markdown",
   "metadata": {
    "slideshow": {
     "slide_type": "subslide"
    }
   },
   "source": [
    "`\\d` - Match any digit"
   ]
  },
  {
   "cell_type": "code",
   "execution_count": 17,
   "metadata": {
    "slideshow": {
     "slide_type": "fragment"
    }
   },
   "outputs": [
    {
     "data": {
      "text/plain": [
       "['1', '9', '9', '9']"
      ]
     },
     "execution_count": 17,
     "metadata": {},
     "output_type": "execute_result"
    }
   ],
   "source": [
    "text = \"Party like it's 1999\"\n",
    "re.findall('\\d', text)"
   ]
  },
  {
   "cell_type": "code",
   "execution_count": 18,
   "metadata": {
    "scrolled": true,
    "slideshow": {
     "slide_type": "fragment"
    }
   },
   "outputs": [
    {
     "data": {
      "text/plain": [
       "['1999']"
      ]
     },
     "execution_count": 18,
     "metadata": {},
     "output_type": "execute_result"
    }
   ],
   "source": [
    "text = \"Party like it's 1999\"\n",
    "re.findall('\\d\\d\\d\\d', text)"
   ]
  },
  {
   "attachments": {},
   "cell_type": "markdown",
   "metadata": {
    "slideshow": {
     "slide_type": "subslide"
    }
   },
   "source": [
    "### *What if I want to match an actual backslash or period?*"
   ]
  },
  {
   "attachments": {},
   "cell_type": "markdown",
   "metadata": {
    "slideshow": {
     "slide_type": "-"
    }
   },
   "source": [
    "This is a problem:"
   ]
  },
  {
   "cell_type": "code",
   "execution_count": 19,
   "metadata": {
    "slideshow": {
     "slide_type": "-"
    }
   },
   "outputs": [
    {
     "data": {
      "text/plain": [
       "['Dr.', 'Dri']"
      ]
     },
     "execution_count": 19,
     "metadata": {},
     "output_type": "execute_result"
    }
   ],
   "source": [
    "text = \"Dr. Jones Drinks Too Much\"\n",
    "re.findall('Dr.', text)"
   ]
  },
  {
   "attachments": {},
   "cell_type": "markdown",
   "metadata": {
    "slideshow": {
     "slide_type": "fragment"
    }
   },
   "source": [
    "Precede the character with a backslash\n",
    "\n",
    "E.g.\n",
    "\n",
    "- `.` - Matches *any* character\n",
    "- `\\.` - Matches a literal period"
   ]
  },
  {
   "cell_type": "code",
   "execution_count": 20,
   "metadata": {
    "slideshow": {
     "slide_type": "-"
    }
   },
   "outputs": [
    {
     "data": {
      "text/plain": [
       "['Dr.']"
      ]
     },
     "execution_count": 20,
     "metadata": {},
     "output_type": "execute_result"
    }
   ],
   "source": [
    "re.findall('Dr\\.', text)"
   ]
  },
  {
   "attachments": {},
   "cell_type": "markdown",
   "metadata": {
    "slideshow": {
     "slide_type": "subslide"
    }
   },
   "source": [
    "## Reference (so far)\n",
    "- `a` - Match the letter 'a'. Same for most other characters\n",
    "- `\\w` - Match any word character (letters, number... support for non-English characters varies)\n",
    "- `\\W` - Match any non-word characters\n",
    "- `\\d` - Match any digit\n",
    "- `.` - Matches *any* character\n",
    "- `\\.` - Matches a literal period\n",
    "\n",
    "Let's try the first few lab questions - 1.1. to 1.4."
   ]
  },
  {
   "attachments": {},
   "cell_type": "markdown",
   "metadata": {
    "slideshow": {
     "slide_type": "subslide"
    }
   },
   "source": [
    "`\\s` - Match any whitespace character (space, tabs, line breaks sometimes)"
   ]
  },
  {
   "attachments": {},
   "cell_type": "markdown",
   "metadata": {
    "slideshow": {
     "slide_type": "fragment"
    }
   },
   "source": [
    "*What will this return?*"
   ]
  },
  {
   "cell_type": "code",
   "execution_count": null,
   "metadata": {
    "slideshow": {
     "slide_type": "fragment"
    }
   },
   "outputs": [],
   "source": [
    "text = \"The quick brown fox jumped over the lazy yellow dog\"\n",
    "re.findall('\\s....\\s', text)"
   ]
  },
  {
   "attachments": {},
   "cell_type": "markdown",
   "metadata": {
    "slideshow": {
     "slide_type": "subslide"
    }
   },
   "source": [
    "`[ab]` - Group of multiple possible characters - in this case 'a' or 'b'"
   ]
  },
  {
   "cell_type": "code",
   "execution_count": 21,
   "metadata": {
    "slideshow": {
     "slide_type": "fragment"
    }
   },
   "outputs": [
    {
     "data": {
      "text/plain": [
       "['The', 'the']"
      ]
     },
     "execution_count": 21,
     "metadata": {},
     "output_type": "execute_result"
    }
   ],
   "source": [
    "text = \"The quick brown fox jumped over the lazy yellow dog\"\n",
    "re.findall('[Tt]he', text)"
   ]
  },
  {
   "attachments": {},
   "cell_type": "markdown",
   "metadata": {
    "slideshow": {
     "slide_type": "subslide"
    }
   },
   "source": [
    "- `[a-z]` matches any character from a to z\n",
    "- `[A-Z]` matches any character from A to Z"
   ]
  },
  {
   "cell_type": "code",
   "execution_count": 16,
   "metadata": {
    "slideshow": {
     "slide_type": "fragment"
    }
   },
   "outputs": [
    {
     "data": {
      "text/plain": [
       "['SPAM']"
      ]
     },
     "execution_count": 16,
     "metadata": {},
     "output_type": "execute_result"
    }
   ],
   "source": [
    "text = \"text 1-800-SPAM for more information\"\n",
    "re.findall('[A-Z][A-Z][A-Z][A-Z]', text)"
   ]
  },
  {
   "attachments": {},
   "cell_type": "markdown",
   "metadata": {
    "slideshow": {
     "slide_type": "fragment"
    }
   },
   "source": [
    "Those square brackets are same as before, so you can group A-Z with other matches.\n",
    "\n",
    "e.g. Match capital letters, digits, or hyphens:"
   ]
  },
  {
   "cell_type": "code",
   "execution_count": 23,
   "metadata": {},
   "outputs": [
    {
     "data": {
      "text/plain": [
       "['1-800-SPAM']"
      ]
     },
     "execution_count": 23,
     "metadata": {},
     "output_type": "execute_result"
    }
   ],
   "source": [
    "text = \"text 1-800-SPAM for more information\"\n",
    "re.findall('[\\d\\-A-Z]+', text)"
   ]
  },
  {
   "attachments": {},
   "cell_type": "markdown",
   "metadata": {
    "slideshow": {
     "slide_type": "fragment"
    }
   },
   "source": [
    "*Note above that a hyphen is another special character, so matching for a literal `-` is done with `\\-`.*"
   ]
  },
  {
   "attachments": {},
   "cell_type": "markdown",
   "metadata": {
    "slideshow": {
     "slide_type": "subslide"
    }
   },
   "source": [
    "Returning to the earlier data."
   ]
  },
  {
   "cell_type": "code",
   "execution_count": 17,
   "metadata": {},
   "outputs": [],
   "source": [
    "titles = movies.title.drop_duplicates()"
   ]
  },
  {
   "attachments": {},
   "cell_type": "markdown",
   "metadata": {
    "slideshow": {
     "slide_type": "fragment"
    }
   },
   "source": [
    "\"The (single word) of ...\""
   ]
  },
  {
   "cell_type": "code",
   "execution_count": 18,
   "metadata": {
    "slideshow": {
     "slide_type": "-"
    }
   },
   "outputs": [
    {
     "data": {
      "text/plain": [
       "99821                       The Face of an Angel\n",
       "99139                        The End of the Tour\n",
       "75357            The Importance of Being Earnest\n",
       "68247                   The Theory of Everything\n",
       "94869             The Possession of Michael King\n",
       "93216                    The Diary of Anne Frank\n",
       "96669    The Disappearance of Eleanor Rigby: Her\n",
       "36095                  The Count of Monte Cristo\n",
       "94735                  The Plague of the Zombies\n",
       "97199                           The Book of Life\n",
       "Name: title, dtype: object"
      ]
     },
     "execution_count": 18,
     "metadata": {},
     "output_type": "execute_result"
    }
   ],
   "source": [
    "matches = titles.str.contains('^The \\w+ of ')\n",
    "titles[matches].sample(10)"
   ]
  },
  {
   "cell_type": "code",
   "execution_count": 19,
   "metadata": {
    "slideshow": {
     "slide_type": "subslide"
    }
   },
   "outputs": [
    {
     "data": {
      "text/plain": [
       "85974                          Carnosaur 3: Primal Species\n",
       "44442                        Kids in the Hall: Brain Candy\n",
       "97936                                 Imagine: John Lennon\n",
       "87777                                Underworld: Evolution\n",
       "48488                              Speed 2: Cruise Control\n",
       "94916                               Madonna: Truth or Dare\n",
       "85005               Children of the Corn IV: The Gathering\n",
       "88472                  The Butterfly Effect 3: Revelations\n",
       "85954    Teenage Mutant Ninja Turtles II: The Secret of...\n",
       "73527                         History of the World: Part I\n",
       "Name: title, dtype: object"
      ]
     },
     "execution_count": 19,
     "metadata": {},
     "output_type": "execute_result"
    }
   ],
   "source": [
    "matches = titles.str.contains(':')\n",
    "titles[matches].sample(10)"
   ]
  },
  {
   "cell_type": "code",
   "execution_count": 25,
   "metadata": {
    "slideshow": {
     "slide_type": "subslide"
    }
   },
   "outputs": [
    {
     "data": {
      "text/plain": [
       "259                  Ben-Hur\n",
       "12000             Spider-Man\n",
       "40269                  X-Men\n",
       "55032                  U-571\n",
       "58796             Scooby-Doo\n",
       "61252              Fail-Safe\n",
       "65729                G-Force\n",
       "66092               Kick-Ass\n",
       "68396                Ant-Man\n",
       "69332            Re-Animator\n",
       "69765    Slaughterhouse-Five\n",
       "81831                  K-PAX\n",
       "83228                 BURN-E\n",
       "83394               Non-Stop\n",
       "83908               Bio-Dome\n",
       "89557            Topsy-Turvy\n",
       "93256               Cry-Baby\n",
       "94106              She-Devil\n",
       "95079               Kon-Tiki\n",
       "96155              De-Lovely\n",
       "96602               Catch-22\n",
       "96617                Ben-hur\n",
       "96717               Semi-Pro\n",
       "98638                  T-Men\n",
       "99056     Shakespeare-Wallah\n",
       "99971        Straight-Jacket\n",
       "Name: title, dtype: object"
      ]
     },
     "execution_count": 25,
     "metadata": {},
     "output_type": "execute_result"
    }
   ],
   "source": [
    "matches = titles.str.contains(\"^\\w+\\-\\w+$\")\n",
    "titles[matches]"
   ]
  },
  {
   "attachments": {},
   "cell_type": "markdown",
   "metadata": {
    "slideshow": {
     "slide_type": "subslide"
    }
   },
   "source": [
    "## Reference (so far)\n",
    "- `a` - Match the letter `a`. Same for most other characters\n",
    "- `.` - Match any single character\n",
    "- `\\w` - Match any word character (letters, number... support for non-English characters varies)\n",
    "- `\\W` - Match any non-word characters\n",
    "- `\\d` - Match any digit\n",
    "- `.` - Matches *any* character\n",
    "- `\\.` - Matches a literal period\n",
    "- `\\s` - Match any whitespace character (space, tabs, line breaks sometimes)\n",
    "- `[ab]` - Group of multiple possible characters - in this case `a` or `b`\n",
    "- `[a-z]` matches any character from a to z\n",
    "- `[A-Z]` matches any character from A to Z\n",
    "- `[A-Zab]` matches any character from A to Z (`A-Z`), *or* `a` *or* `b`"
   ]
  },
  {
   "attachments": {},
   "cell_type": "markdown",
   "metadata": {
    "slideshow": {
     "slide_type": "slide"
    }
   },
   "source": [
    "## Repetition"
   ]
  },
  {
   "attachments": {},
   "cell_type": "markdown",
   "metadata": {
    "slideshow": {
     "slide_type": "subslide"
    }
   },
   "source": [
    "`?` - One or zero of the preceding match"
   ]
  },
  {
   "cell_type": "code",
   "execution_count": 20,
   "metadata": {
    "slideshow": {
     "slide_type": "fragment"
    }
   },
   "outputs": [
    {
     "data": {
      "text/plain": [
       "['color', 'colour']"
      ]
     },
     "execution_count": 20,
     "metadata": {},
     "output_type": "execute_result"
    }
   ],
   "source": [
    "text = \"color colour\"\n",
    "re.findall('colou?r', text)"
   ]
  },
  {
   "attachments": {},
   "cell_type": "markdown",
   "metadata": {
    "slideshow": {
     "slide_type": "subslide"
    }
   },
   "source": [
    "- `+` - One or more of the preceding match\n",
    "- `*` - Zero or more of the preceding match"
   ]
  },
  {
   "cell_type": "code",
   "execution_count": 22,
   "metadata": {},
   "outputs": [
    {
     "data": {
      "text/plain": [
       "['GOAL', 'GOOOOOOOOOAAAAAAL']"
      ]
     },
     "execution_count": 22,
     "metadata": {},
     "output_type": "execute_result"
    }
   ],
   "source": [
    "text = \"GOAL GOOOOOOOOOAAAAAAL GAL\"\n",
    "re.findall('GO+A+L', text)"
   ]
  },
  {
   "cell_type": "code",
   "execution_count": 34,
   "metadata": {},
   "outputs": [
    {
     "data": {
      "text/plain": [
       "['GOAL']"
      ]
     },
     "execution_count": 34,
     "metadata": {},
     "output_type": "execute_result"
    }
   ],
   "source": [
    "text = \"GOAL\"\n",
    "re.findall('GO+A+L', text)"
   ]
  },
  {
   "attachments": {},
   "cell_type": "markdown",
   "metadata": {
    "slideshow": {
     "slide_type": "subslide"
    }
   },
   "source": [
    "`*` and `+` are *greedy* in Python. They will grab as much as possible. "
   ]
  },
  {
   "cell_type": "code",
   "execution_count": 23,
   "metadata": {},
   "outputs": [
    {
     "data": {
      "text/plain": [
       "['<p>Something or other</p><p>Yet more junk.</p>']"
      ]
     },
     "execution_count": 23,
     "metadata": {},
     "output_type": "execute_result"
    }
   ],
   "source": [
    "text = \"<p>Something or other</p><p>Yet more junk.</p>\" \n",
    "re.findall('<p>.*</p>', text)"
   ]
  },
  {
   "cell_type": "code",
   "execution_count": 26,
   "metadata": {
    "scrolled": true
   },
   "outputs": [
    {
     "data": {
      "text/plain": [
       "['foo1@gmail.com;b-a-r@gmail.com;baz@gmail.com']"
      ]
     },
     "execution_count": 26,
     "metadata": {},
     "output_type": "execute_result"
    }
   ],
   "source": [
    "text = \"foo1@gmail.com;b-a-r@gmail.com;baz@gmail.com\" \n",
    "re.findall('\\w.*@gmail.com', text)"
   ]
  },
  {
   "attachments": {},
   "cell_type": "markdown",
   "metadata": {
    "slideshow": {
     "slide_type": "fragment"
    }
   },
   "source": [
    "`*?` is the *lazy* alternative, it will grab as little as possible."
   ]
  },
  {
   "cell_type": "code",
   "execution_count": 91,
   "metadata": {},
   "outputs": [
    {
     "data": {
      "text/plain": [
       "['foo1@gmail.com', 'b-a-r@gmail.com', 'baz@gmail.com']"
      ]
     },
     "execution_count": 91,
     "metadata": {},
     "output_type": "execute_result"
    }
   ],
   "source": []
  },
  {
   "cell_type": "code",
   "execution_count": 123,
   "metadata": {
    "slideshow": {
     "slide_type": "fragment"
    }
   },
   "outputs": [
    {
     "data": {
      "text/plain": [
       "['foo1@gmail.com', 'b-a-r@gmail.com', 'baz@gmail.com']"
      ]
     },
     "execution_count": 123,
     "metadata": {},
     "output_type": "execute_result"
    }
   ],
   "source": [
    "re.findall('\\w.*?@gmail.com', text)"
   ]
  },
  {
   "attachments": {},
   "cell_type": "markdown",
   "metadata": {
    "slideshow": {
     "slide_type": "subslide"
    }
   },
   "source": [
    "## Reference (so far)\n",
    "\n",
    "**Matching characters**\n",
    "- `a` - Match the letter `a`. Same for most other characters\n",
    "- `.` - Match any single character\n",
    "- `\\w` - Match any word character (letters, number... support for non-English characters varies)\n",
    "- `\\W` - Match any non-word characters\n",
    "- `\\d` - Match any digit\n",
    "- `.` - Matches *any* character\n",
    "- `\\.` - Matches a literal period\n",
    "- `\\s` - Match any whitespace character (space, tabs, line breaks sometimes)\n",
    "\n",
    "**Multiple Matches**\n",
    "- `[ab]` - Group of multiple possible characters - in this case `a` or `b`\n",
    "- `[a-z]` matches any character from a to z\n",
    "- `[A-Z]` matches any character from A to Z\n",
    "- `[A-Zab]` matches any character from A to Z (`A-Z`), *or* `a` *or* `b`\n",
    "\n",
    "**Repeating**\n",
    "\n",
    "*'greedy' means that it captures as much as it can, 'lazy' means it captures as little as possible.*\n",
    "- `?` - One or zero of the preceding match\n",
    "- `+` - One or more of the preceding match (greedy)\n",
    "- `*` - Zero or more of the preceding match (greedy)\n",
    "- `*?`, `+?`  - Lazy versions of `*` and `+`"
   ]
  },
  {
   "attachments": {},
   "cell_type": "markdown",
   "metadata": {
    "slideshow": {
     "slide_type": "slide"
    }
   },
   "source": [
    "## Start and End of Line"
   ]
  },
  {
   "attachments": {},
   "cell_type": "markdown",
   "metadata": {
    "slideshow": {
     "slide_type": "subslide"
    }
   },
   "source": [
    "`^` - Start of line"
   ]
  },
  {
   "cell_type": "code",
   "execution_count": 27,
   "metadata": {
    "slideshow": {
     "slide_type": "fragment"
    }
   },
   "outputs": [
    {
     "data": {
      "text/plain": [
       "['The']"
      ]
     },
     "execution_count": 27,
     "metadata": {},
     "output_type": "execute_result"
    }
   ],
   "source": [
    "text = \"The quick brown fox jumped over the lazy yellow dog\"\n",
    "re.findall('^The', text)"
   ]
  },
  {
   "cell_type": "code",
   "execution_count": 44,
   "metadata": {
    "slideshow": {
     "slide_type": "fragment"
    }
   },
   "outputs": [
    {
     "data": {
      "text/plain": [
       "['The']"
      ]
     },
     "execution_count": 44,
     "metadata": {},
     "output_type": "execute_result"
    }
   ],
   "source": [
    "re.findall('^The', text)"
   ]
  },
  {
   "cell_type": "code",
   "execution_count": 109,
   "metadata": {
    "slideshow": {
     "slide_type": "fragment"
    }
   },
   "outputs": [
    {
     "data": {
      "text/plain": [
       "['The quick brown fox']"
      ]
     },
     "execution_count": 109,
     "metadata": {},
     "output_type": "execute_result"
    }
   ],
   "source": [
    "re.findall('^.*fox', text)"
   ]
  },
  {
   "attachments": {},
   "cell_type": "markdown",
   "metadata": {
    "slideshow": {
     "slide_type": "subslide"
    }
   },
   "source": [
    "`$` - End of line"
   ]
  },
  {
   "cell_type": "code",
   "execution_count": 104,
   "metadata": {
    "scrolled": true,
    "slideshow": {
     "slide_type": "fragment"
    }
   },
   "outputs": [
    {
     "data": {
      "text/plain": [
       "['low dog']"
      ]
     },
     "execution_count": 104,
     "metadata": {},
     "output_type": "execute_result"
    }
   ],
   "source": [
    "text = \"The quick brown fox jumped over the lazy yellow dog\"\n",
    "re.findall('.......$', text)"
   ]
  },
  {
   "cell_type": "code",
   "execution_count": 28,
   "metadata": {
    "slideshow": {
     "slide_type": "subslide"
    }
   },
   "outputs": [
    {
     "data": {
      "text/plain": [
       "['The quick brown fox jumped over the lazy yellow dog']"
      ]
     },
     "execution_count": 28,
     "metadata": {},
     "output_type": "execute_result"
    }
   ],
   "source": [
    "text = \"The quick brown fox jumped over the lazy yellow dog\"\n",
    "re.findall(\"^.*$\", text)"
   ]
  },
  {
   "attachments": {},
   "cell_type": "markdown",
   "metadata": {
    "slideshow": {
     "slide_type": "subslide"
    }
   },
   "source": [
    "## Reference\n",
    "\n",
    "**Matching characters**\n",
    "- `a` - Match the letter `a`. Same for most other characters\n",
    "- `.` - Match any single character\n",
    "- `\\w` - Match any word character (letters, number... support for non-English characters varies)\n",
    "- `\\W` - Match any non-word characters\n",
    "- `\\d` - Match any digit\n",
    "- `.` - Matches *any* character\n",
    "- `\\.` - Matches a literal period\n",
    "- `\\s` - Match any whitespace character (space, tabs, line breaks sometimes)\n",
    "\n",
    "**Multiple Matches**\n",
    "- `[ab]` - Group of multiple possible characters - in this case `a` or `b`\n",
    "- `[a-z]` matches any character from a to z\n",
    "- `[A-Z]` matches any character from A to Z\n",
    "- `[A-Zab]` matches any character from A to Z (`A-Z`), *or* `a` *or* `b`\n",
    "\n",
    "**Repeating**\n",
    "\n",
    "*'greedy' means that it captures as much as it can, 'lazy' means it captures as little as possible.*\n",
    "- `?` - One or zero of the preceding match\n",
    "- `+` - One or more of the preceding match (greedy)\n",
    "- `*` - Zero or more of the preceding match (greedy)\n",
    "- `*?`, `+?`  - Lazy versions of `*` and `+`\n",
    "\n",
    "**Position**\n",
    "- `^` - Start of line\n",
    "- `$` - End of line"
   ]
  },
  {
   "attachments": {},
   "cell_type": "markdown",
   "metadata": {
    "slideshow": {
     "slide_type": "slide"
    }
   },
   "source": [
    "# Additional tips\n",
    "\n",
    "Choose a range for repetition with `{min,max}`. e.g."
   ]
  },
  {
   "cell_type": "code",
   "execution_count": 57,
   "metadata": {},
   "outputs": [
    {
     "data": {
      "text/plain": [
       "<_sre.SRE_Match object; span=(0, 4), match='YOLO'>"
      ]
     },
     "execution_count": 57,
     "metadata": {},
     "output_type": "execute_result"
    }
   ],
   "source": [
    "text = \"YOLO\"\n",
    "re.search('YOLO{1,3}$', text) "
   ]
  },
  {
   "cell_type": "code",
   "execution_count": 58,
   "metadata": {},
   "outputs": [
    {
     "data": {
      "text/plain": [
       "<_sre.SRE_Match object; span=(0, 6), match='YOLOOO'>"
      ]
     },
     "execution_count": 58,
     "metadata": {},
     "output_type": "execute_result"
    }
   ],
   "source": [
    "text = \"YOLOOO\"\n",
    "re.search('YOLO{1,3}$', text)"
   ]
  },
  {
   "cell_type": "code",
   "execution_count": 66,
   "metadata": {},
   "outputs": [],
   "source": [
    "text = \"YOLOOOOOO\"\n",
    "re.search('YOLO{1,3}$', text)"
   ]
  },
  {
   "attachments": {},
   "cell_type": "markdown",
   "metadata": {
    "slideshow": {
     "slide_type": "subslide"
    }
   },
   "source": [
    "*Negation*\n",
    "    \n",
    "Use the caret in square brackets: `[^aeiou]` means *not* a, e, i, o, or u"
   ]
  },
  {
   "attachments": {},
   "cell_type": "markdown",
   "metadata": {
    "slideshow": {
     "slide_type": "fragment"
    }
   },
   "source": [
    "*Groups*\n",
    "    \n",
    "Treat multiple characters together, like if they were a single character.\n",
    "\n",
    "Use parentheses. e.g:"
   ]
  },
  {
   "cell_type": "code",
   "execution_count": 53,
   "metadata": {},
   "outputs": [
    {
     "data": {
      "text/plain": [
       "['na']"
      ]
     },
     "execution_count": 53,
     "metadata": {},
     "output_type": "execute_result"
    }
   ],
   "source": [
    "text = \"banana\"\n",
    "re.findall('^ba(na)+$', text)"
   ]
  },
  {
   "cell_type": "code",
   "execution_count": 66,
   "metadata": {},
   "outputs": [
    {
     "data": {
      "text/plain": [
       "['ololololololololololol']"
      ]
     },
     "execution_count": 66,
     "metadata": {},
     "output_type": "execute_result"
    }
   ],
   "source": [
    "text = \"lololololololololololol\"\n",
    "re.findall('^l(ol)+$', text)"
   ]
  },
  {
   "attachments": {},
   "cell_type": "markdown",
   "metadata": {
    "slideshow": {
     "slide_type": "subslide"
    }
   },
   "source": [
    "Capturing groups:"
   ]
  },
  {
   "cell_type": "code",
   "execution_count": 61,
   "metadata": {},
   "outputs": [
    {
     "data": {
      "text/plain": [
       "['Ketch', 'Cats']"
      ]
     },
     "execution_count": 61,
     "metadata": {},
     "output_type": "execute_result"
    }
   ],
   "source": [
    "text = \"Ketchup Catsup\"\n",
    "re.findall('(Ketch|Cats)up', text)"
   ]
  }
 ],
 "metadata": {
  "celltoolbar": "Slideshow",
  "kernelspec": {
   "display_name": "Python 3",
   "language": "python",
   "name": "python3"
  },
  "language_info": {
   "codemirror_mode": {
    "name": "ipython",
    "version": 3
   },
   "file_extension": ".py",
   "mimetype": "text/x-python",
   "name": "python",
   "nbconvert_exporter": "python",
   "pygments_lexer": "ipython3",
   "version": "3.9.12"
  }
 },
 "nbformat": 4,
 "nbformat_minor": 2
}
