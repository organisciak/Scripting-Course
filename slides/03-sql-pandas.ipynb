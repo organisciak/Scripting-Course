{
 "cells": [
  {
   "cell_type": "markdown",
   "metadata": {
    "slideshow": {
     "slide_type": "slide"
    }
   },
   "source": [
    "## Week 3: Remaining SQL Skills & Python Foundations for Data Analysis"
   ]
  },
  {
   "cell_type": "code",
   "execution_count": 1,
   "metadata": {
    "slideshow": {
     "slide_type": "-"
    }
   },
   "outputs": [],
   "source": [
    "%load_ext sql\n",
    "import pandas as pd\n",
    "from IPython.display import YouTubeVideo"
   ]
  },
  {
   "cell_type": "markdown",
   "metadata": {
    "slideshow": {
     "slide_type": "subslide"
    }
   },
   "source": [
    "## Announcements\n",
    "\n",
    "- RMIS Fund\n",
    "- The deadline for the Call for Abstracts for the Morgridge Student Research Conference has been extended to April 21st! 100-300 word abstract\n",
    "- Any students (including those not participating in the Morgridge conference) are invited to the Conferencing 101 online sessions. Information and registration can be found at https://crimsonconnect.du.edu/morgridge/rsvp_boot?id=2269483. This Thursday's session is a forum on public speaking and data visualization. 3-4pm via Zoom."
   ]
  },
  {
   "cell_type": "markdown",
   "metadata": {
    "slideshow": {
     "slide_type": "subslide"
    }
   },
   "source": [
    "## Today\n",
    "\n",
    "- Last week of `SQL` and `Python` fundamentals\n",
    "- Review and expand SQL query techniques\n",
    "- Understand relational database JOINs\n",
    "- Master Python loops and data iteration concepts\n",
    "- Transition from basic SQL to data analysis with Python"
   ]
  },
  {
   "cell_type": "markdown",
   "metadata": {
    "slideshow": {
     "slide_type": "subslide"
    }
   },
   "source": [
    "This course is challenging, but the type of challenge changes after this week.\n",
    "\n",
    "Up to now, the challenge is in context-shifting, and understanding the differences between many different concepts. Starting next week, the challenge will be more about application and problem-solving. Fewer disparate concepts, but trickier to grasp."
   ]
  },
  {
   "cell_type": "markdown",
   "metadata": {
    "slideshow": {
     "slide_type": "slide"
    }
   },
   "source": [
    "## Review"
   ]
  },
  {
   "cell_type": "markdown",
   "metadata": {
    "slideshow": {
     "slide_type": "subslide"
    }
   },
   "source": [
    "### Wins and confusion\n",
    "\n",
    "Let's go around the room.\n",
    "\n",
    "Answer any of the following, _or pass_ if you have nothing to share:\n",
    "- What was one 'win' from last week?\n",
    "- What are you excited to learn more about?\n",
    "- What is confusing?"
   ]
  },
  {
   "cell_type": "markdown",
   "metadata": {
    "slideshow": {
     "slide_type": "subslide"
    }
   },
   "source": [
    "### Mapping this course's concepts\n",
    "\n",
    "**Databases**\n",
    " - Relational databases\n",
    " - NoSQL databases\n",
    " - The systems are known as DBMSs - Database Management Systems\n",
    " \n",
    "**DBMSs**\n",
    " - The one we use is 'SQLite': which is super lightweight, stored as a single file on your filesystem, with dynamic typing"
   ]
  },
  {
   "cell_type": "markdown",
   "metadata": {
    "slideshow": {
     "slide_type": "subslide"
    }
   },
   "source": [
    "### Mapping this course's concepts\n",
    "\n",
    "**SQL**: a language for accessing databases: how do you ask for stuff from the system?\n",
    "- not quite a programming language: it's heavily structured to its task of 'asking for stuff'\n",
    "- SQL can exists in many forms: on the command line, in an application. It is _not_ inherently relat ed to or dependent on Python, though Python is one possible way to use it.\n",
    "\n",
    "**Python**: a programming language. Allows you to do many things, but we'll be focusing on database -> data science uses."
   ]
  },
  {
   "cell_type": "markdown",
   "metadata": {
    "slideshow": {
     "slide_type": "subslide"
    }
   },
   "source": [
    "Why are we learning Python? After this week, we'll be relying on tools in Python to work with structured data."
   ]
  },
  {
   "cell_type": "markdown",
   "metadata": {
    "slideshow": {
     "slide_type": "subslide"
    }
   },
   "source": [
    "## SQL Review\n",
    "\n",
    "`CREATE TABLE table_name (column1, column2);`\n",
    "\n",
    "`INSERT INTO table_name VALUES (field1, field2);`\n",
    "\n",
    "`SELECT column1, column2 FROM table_name;`"
   ]
  },
  {
   "cell_type": "code",
   "execution_count": 2,
   "metadata": {
    "slideshow": {
     "slide_type": "skip"
    }
   },
   "outputs": [],
   "source": [
    "%sql sqlite:///../data/circulation.sqlite"
   ]
  },
  {
   "cell_type": "markdown",
   "metadata": {
    "slideshow": {
     "slide_type": "subslide"
    }
   },
   "source": [
    "### `WHERE` clause - Filtering Data\n",
    "The WHERE clause allows you to filter results based on conditions"
   ]
  },
  {
   "cell_type": "code",
   "execution_count": 3,
   "metadata": {
    "slideshow": {
     "slide_type": "fragment"
    }
   },
   "outputs": [
    {
     "name": "stdout",
     "output_type": "stream",
     "text": [
      "Done.\n"
     ]
    },
    {
     "data": {
      "text/html": [
       "<table>\n",
       "    <thead>\n",
       "        <tr>\n",
       "            <th>id</th>\n",
       "            <th>name</th>\n",
       "            <th>age</th>\n",
       "            <th>email</th>\n",
       "            <th>zipcode</th>\n",
       "            <th>city</th>\n",
       "            <th>activity</th>\n",
       "        </tr>\n",
       "    </thead>\n",
       "    <tbody>\n",
       "        <tr>\n",
       "            <td>236</td>\n",
       "            <td>Jonathan Daniels</td>\n",
       "            <td>61</td>\n",
       "            <td>qgutierrez@jimenez.com</td>\n",
       "            <td>34547</td>\n",
       "            <td>Port Stephanie</td>\n",
       "            <td>2</td>\n",
       "        </tr>\n",
       "        <tr>\n",
       "            <td>449</td>\n",
       "            <td>Molly Acosta</td>\n",
       "            <td>61</td>\n",
       "            <td>tinagrant@hotmail.com</td>\n",
       "            <td>62921</td>\n",
       "            <td>East Pamelaburgh</td>\n",
       "            <td>3</td>\n",
       "        </tr>\n",
       "        <tr>\n",
       "            <td>484</td>\n",
       "            <td>Wesley Price</td>\n",
       "            <td>61</td>\n",
       "            <td>munozkevin@gmail.com</td>\n",
       "            <td>48788</td>\n",
       "            <td>Loganchester</td>\n",
       "            <td>7</td>\n",
       "        </tr>\n",
       "        <tr>\n",
       "            <td>492</td>\n",
       "            <td>Karla Alexander</td>\n",
       "            <td>61</td>\n",
       "            <td>desiree22@brown-williams.com</td>\n",
       "            <td>45479</td>\n",
       "            <td>Lake Marissa</td>\n",
       "            <td>4</td>\n",
       "        </tr>\n",
       "        <tr>\n",
       "            <td>727</td>\n",
       "            <td>Luis Ho</td>\n",
       "            <td>61</td>\n",
       "            <td>jstanley@schaefer.com</td>\n",
       "            <td>75009</td>\n",
       "            <td>Michelefurt</td>\n",
       "            <td>0</td>\n",
       "        </tr>\n",
       "    </tbody>\n",
       "</table>"
      ],
      "text/plain": [
       "[(236, 'Jonathan Daniels', 61, 'qgutierrez@jimenez.com', '34547', 'Port Stephanie', 2),\n",
       " (449, 'Molly Acosta', 61, 'tinagrant@hotmail.com', '62921', 'East Pamelaburgh', 3),\n",
       " (484, 'Wesley Price', 61, 'munozkevin@gmail.com', '48788', 'Loganchester', 7),\n",
       " (492, 'Karla Alexander', 61, 'desiree22@brown-williams.com', '45479', 'Lake Marissa', 4),\n",
       " (727, 'Luis Ho', 61, 'jstanley@schaefer.com', '75009', 'Michelefurt', 0)]"
      ]
     },
     "execution_count": 3,
     "metadata": {},
     "output_type": "execute_result"
    }
   ],
   "source": [
    "%%sql sqlite:///../data/circulation.sqlite\n",
    "SELECT * FROM patrons\n",
    "    WHERE age == 61;"
   ]
  },
  {
   "cell_type": "markdown",
   "metadata": {
    "slideshow": {
     "slide_type": "subslide"
    }
   },
   "source": [
    "### `AND`"
   ]
  },
  {
   "cell_type": "code",
   "execution_count": 11,
   "metadata": {
    "scrolled": true,
    "slideshow": {
     "slide_type": "-"
    }
   },
   "outputs": [
    {
     "name": "stdout",
     "output_type": "stream",
     "text": [
      " * sqlite:///../data/circulation.sqlite\n",
      "Done.\n"
     ]
    },
    {
     "data": {
      "text/html": [
       "<table>\n",
       "    <thead>\n",
       "        <tr>\n",
       "            <th>id</th>\n",
       "            <th>name</th>\n",
       "            <th>age</th>\n",
       "            <th>email</th>\n",
       "            <th>zipcode</th>\n",
       "            <th>city</th>\n",
       "            <th>activity</th>\n",
       "        </tr>\n",
       "    </thead>\n",
       "    <tbody>\n",
       "    </tbody>\n",
       "</table>"
      ],
      "text/plain": [
       "[]"
      ]
     },
     "execution_count": 11,
     "metadata": {},
     "output_type": "execute_result"
    }
   ],
   "source": [
    "%%sql\n",
    "SELECT * FROM patrons\n",
    "    WHERE age > 60 AND activity > 6;"
   ]
  },
  {
   "cell_type": "markdown",
   "metadata": {
    "slideshow": {
     "slide_type": "subslide"
    }
   },
   "source": [
    "### Lab 2 Review"
   ]
  },
  {
   "cell_type": "code",
   "execution_count": 4,
   "metadata": {
    "slideshow": {
     "slide_type": "fragment"
    }
   },
   "outputs": [
    {
     "name": "stdout",
     "output_type": "stream",
     "text": [
      "Done.\n",
      "Done.\n",
      "10 rows affected.\n"
     ]
    },
    {
     "data": {
      "text/plain": [
       "[]"
      ]
     },
     "execution_count": 4,
     "metadata": {},
     "output_type": "execute_result"
    }
   ],
   "source": [
    "%%sql sqlite:///\n",
    "DROP TABLE IF EXISTS worker_wages;\n",
    "CREATE TABLE worker_wages (role, num_workers, wage);\n",
    "INSERT INTO worker_wages VALUES\n",
    "    ('Big piecer', 5902, 233.59),\n",
    "    ('Engineman', 909, 388.47),\n",
    "    ('Foreman', 2883, 466.54),\n",
    "    ('Grinders', 1983, 399.9),\n",
    "    ('Labourer', 208, 269.73),\n",
    "    ('Mechanic', 669, 440.82),\n",
    "    ('Others', 2966, 311.64),\n",
    "    ('Sizer', 597, 469.62),\n",
    "    ('Spinner', 6951, 408.97),\n",
    "    ('Twister', 865, 357.2); "
   ]
  },
  {
   "cell_type": "markdown",
   "metadata": {
    "slideshow": {
     "slide_type": "subslide"
    }
   },
   "source": [
    "**Q**: Write the SQL to add these two rows to the `worker_wages` table:\n",
    "        \n",
    "| worker | num_workers |\twage |\n",
    "|-------|--------------|---------|\n",
    "|Drawer |\t375|\t328.98|\n",
    "|Warehouseman|\t1586|\t308.73|"
   ]
  },
  {
   "cell_type": "code",
   "execution_count": 5,
   "metadata": {
    "slideshow": {
     "slide_type": "-"
    }
   },
   "outputs": [
    {
     "name": "stdout",
     "output_type": "stream",
     "text": [
      " * sqlite:///../data/circulation.sqlite\n",
      "2 rows affected.\n"
     ]
    },
    {
     "data": {
      "text/plain": [
       "[]"
      ]
     },
     "execution_count": 5,
     "metadata": {},
     "output_type": "execute_result"
    }
   ],
   "source": [
    "%%sql\n",
    "INSERT INTO worker_wages VALUES (\"Drawer\", 375, 328.98 ),\n",
    "                        (\"warehouseman\", 1586, 308);"
   ]
  },
  {
   "cell_type": "markdown",
   "metadata": {
    "slideshow": {
     "slide_type": "subslide"
    }
   },
   "source": [
    "**Q**: What's wrong with this SQL?\n",
    "    \n",
    "```sql\n",
    "    INSERT INTO worker_wages VALUES (Weaver, 8577, 273.97);\n",
    "```"
   ]
  },
  {
   "cell_type": "code",
   "execution_count": 6,
   "metadata": {
    "scrolled": true,
    "slideshow": {
     "slide_type": "subslide"
    }
   },
   "outputs": [
    {
     "name": "stdout",
     "output_type": "stream",
     "text": [
      "Done.\n"
     ]
    },
    {
     "data": {
      "text/html": [
       "<table>\n",
       "    <thead>\n",
       "        <tr>\n",
       "            <th>index</th>\n",
       "            <th>Unnamed: 0</th>\n",
       "            <th>sex</th>\n",
       "            <th>weight</th>\n",
       "            <th>height</th>\n",
       "            <th>repwt</th>\n",
       "            <th>repht</th>\n",
       "        </tr>\n",
       "    </thead>\n",
       "    <tbody>\n",
       "        <tr>\n",
       "            <td>7</td>\n",
       "            <td>8</td>\n",
       "            <td>M</td>\n",
       "            <td>69</td>\n",
       "            <td>186</td>\n",
       "            <td>73.0</td>\n",
       "            <td>180.0</td>\n",
       "        </tr>\n",
       "        <tr>\n",
       "            <td>16</td>\n",
       "            <td>17</td>\n",
       "            <td>M</td>\n",
       "            <td>92</td>\n",
       "            <td>187</td>\n",
       "            <td>101.0</td>\n",
       "            <td>185.0</td>\n",
       "        </tr>\n",
       "        <tr>\n",
       "            <td>18</td>\n",
       "            <td>19</td>\n",
       "            <td>M</td>\n",
       "            <td>76</td>\n",
       "            <td>197</td>\n",
       "            <td>75.0</td>\n",
       "            <td>200.0</td>\n",
       "        </tr>\n",
       "        <tr>\n",
       "            <td>39</td>\n",
       "            <td>40</td>\n",
       "            <td>M</td>\n",
       "            <td>65</td>\n",
       "            <td>187</td>\n",
       "            <td>67.0</td>\n",
       "            <td>188.0</td>\n",
       "        </tr>\n",
       "        <tr>\n",
       "            <td>64</td>\n",
       "            <td>65</td>\n",
       "            <td>M</td>\n",
       "            <td>97</td>\n",
       "            <td>189</td>\n",
       "            <td>98.0</td>\n",
       "            <td>185.0</td>\n",
       "        </tr>\n",
       "        <tr>\n",
       "            <td>94</td>\n",
       "            <td>95</td>\n",
       "            <td>M</td>\n",
       "            <td>88</td>\n",
       "            <td>189</td>\n",
       "            <td>87.0</td>\n",
       "            <td>185.0</td>\n",
       "        </tr>\n",
       "        <tr>\n",
       "            <td>138</td>\n",
       "            <td>139</td>\n",
       "            <td>M</td>\n",
       "            <td>90</td>\n",
       "            <td>188</td>\n",
       "            <td>91.0</td>\n",
       "            <td>185.0</td>\n",
       "        </tr>\n",
       "        <tr>\n",
       "            <td>139</td>\n",
       "            <td>140</td>\n",
       "            <td>M</td>\n",
       "            <td>85</td>\n",
       "            <td>191</td>\n",
       "            <td>83.0</td>\n",
       "            <td>188.0</td>\n",
       "        </tr>\n",
       "        <tr>\n",
       "            <td>168</td>\n",
       "            <td>169</td>\n",
       "            <td>M</td>\n",
       "            <td>96</td>\n",
       "            <td>191</td>\n",
       "            <td>95.0</td>\n",
       "            <td>188.0</td>\n",
       "        </tr>\n",
       "    </tbody>\n",
       "</table>"
      ],
      "text/plain": [
       "[(7, 8, 'M', 69, 186, 73.0, 180.0),\n",
       " (16, 17, 'M', 92, 187, 101.0, 185.0),\n",
       " (18, 19, 'M', 76, 197, 75.0, 200.0),\n",
       " (39, 40, 'M', 65, 187, 67.0, 188.0),\n",
       " (64, 65, 'M', 97, 189, 98.0, 185.0),\n",
       " (94, 95, 'M', 88, 189, 87.0, 185.0),\n",
       " (138, 139, 'M', 90, 188, 91.0, 185.0),\n",
       " (139, 140, 'M', 85, 191, 83.0, 188.0),\n",
       " (168, 169, 'M', 96, 191, 95.0, 188.0)]"
      ]
     },
     "execution_count": 6,
     "metadata": {},
     "output_type": "execute_result"
    }
   ],
   "source": [
    "%%sql sqlite:///../data/week2.db\n",
    "SELECT * from heights\n",
    "    WHERE height >  185;"
   ]
  },
  {
   "cell_type": "markdown",
   "metadata": {
    "slideshow": {
     "slide_type": "subslide"
    }
   },
   "source": [
    "What's wrong with this?"
   ]
  },
  {
   "cell_type": "code",
   "execution_count": 7,
   "metadata": {
    "slideshow": {
     "slide_type": "-"
    }
   },
   "outputs": [
    {
     "name": "stdout",
     "output_type": "stream",
     "text": [
      "   sqlite:///../data/circulation.sqlite\n",
      " * sqlite:///../data/week2.db\n",
      "Done.\n"
     ]
    },
    {
     "data": {
      "text/html": [
       "<table>\n",
       "    <thead>\n",
       "        <tr>\n",
       "            <th>index</th>\n",
       "            <th>Unnamed: 0</th>\n",
       "            <th>sex</th>\n",
       "            <th>weight</th>\n",
       "            <th>height</th>\n",
       "            <th>repwt</th>\n",
       "            <th>repht</th>\n",
       "        </tr>\n",
       "    </thead>\n",
       "    <tbody>\n",
       "        <tr>\n",
       "            <td>0</td>\n",
       "            <td>1</td>\n",
       "            <td>M</td>\n",
       "            <td>77</td>\n",
       "            <td>182</td>\n",
       "            <td>77.0</td>\n",
       "            <td>180.0</td>\n",
       "        </tr>\n",
       "        <tr>\n",
       "            <td>3</td>\n",
       "            <td>4</td>\n",
       "            <td>M</td>\n",
       "            <td>68</td>\n",
       "            <td>177</td>\n",
       "            <td>70.0</td>\n",
       "            <td>175.0</td>\n",
       "        </tr>\n",
       "        <tr>\n",
       "            <td>5</td>\n",
       "            <td>6</td>\n",
       "            <td>M</td>\n",
       "            <td>76</td>\n",
       "            <td>170</td>\n",
       "            <td>76.0</td>\n",
       "            <td>165.0</td>\n",
       "        </tr>\n",
       "        <tr>\n",
       "            <td>6</td>\n",
       "            <td>7</td>\n",
       "            <td>M</td>\n",
       "            <td>76</td>\n",
       "            <td>167</td>\n",
       "            <td>77.0</td>\n",
       "            <td>165.0</td>\n",
       "        </tr>\n",
       "        <tr>\n",
       "            <td>7</td>\n",
       "            <td>8</td>\n",
       "            <td>M</td>\n",
       "            <td>69</td>\n",
       "            <td>186</td>\n",
       "            <td>73.0</td>\n",
       "            <td>180.0</td>\n",
       "        </tr>\n",
       "        <tr>\n",
       "            <td>8</td>\n",
       "            <td>9</td>\n",
       "            <td>M</td>\n",
       "            <td>71</td>\n",
       "            <td>178</td>\n",
       "            <td>71.0</td>\n",
       "            <td>175.0</td>\n",
       "        </tr>\n",
       "        <tr>\n",
       "            <td>9</td>\n",
       "            <td>10</td>\n",
       "            <td>M</td>\n",
       "            <td>65</td>\n",
       "            <td>171</td>\n",
       "            <td>64.0</td>\n",
       "            <td>170.0</td>\n",
       "        </tr>\n",
       "        <tr>\n",
       "            <td>10</td>\n",
       "            <td>11</td>\n",
       "            <td>M</td>\n",
       "            <td>70</td>\n",
       "            <td>175</td>\n",
       "            <td>75.0</td>\n",
       "            <td>174.0</td>\n",
       "        </tr>\n",
       "        <tr>\n",
       "            <td>16</td>\n",
       "            <td>17</td>\n",
       "            <td>M</td>\n",
       "            <td>92</td>\n",
       "            <td>187</td>\n",
       "            <td>101.0</td>\n",
       "            <td>185.0</td>\n",
       "        </tr>\n",
       "        <tr>\n",
       "            <td>18</td>\n",
       "            <td>19</td>\n",
       "            <td>M</td>\n",
       "            <td>76</td>\n",
       "            <td>197</td>\n",
       "            <td>75.0</td>\n",
       "            <td>200.0</td>\n",
       "        </tr>\n",
       "        <tr>\n",
       "            <td>20</td>\n",
       "            <td>21</td>\n",
       "            <td>M</td>\n",
       "            <td>119</td>\n",
       "            <td>180</td>\n",
       "            <td>124.0</td>\n",
       "            <td>178.0</td>\n",
       "        </tr>\n",
       "        <tr>\n",
       "            <td>22</td>\n",
       "            <td>23</td>\n",
       "            <td>M</td>\n",
       "            <td>65</td>\n",
       "            <td>175</td>\n",
       "            <td>66.0</td>\n",
       "            <td>173.0</td>\n",
       "        </tr>\n",
       "        <tr>\n",
       "            <td>23</td>\n",
       "            <td>24</td>\n",
       "            <td>M</td>\n",
       "            <td>66</td>\n",
       "            <td>173</td>\n",
       "            <td>70.0</td>\n",
       "            <td>170.0</td>\n",
       "        </tr>\n",
       "        <tr>\n",
       "            <td>29</td>\n",
       "            <td>30</td>\n",
       "            <td>M</td>\n",
       "            <td>101</td>\n",
       "            <td>183</td>\n",
       "            <td>100.0</td>\n",
       "            <td>180.0</td>\n",
       "        </tr>\n",
       "        <tr>\n",
       "            <td>31</td>\n",
       "            <td>32</td>\n",
       "            <td>M</td>\n",
       "            <td>75</td>\n",
       "            <td>178</td>\n",
       "            <td>73.0</td>\n",
       "            <td>175.0</td>\n",
       "        </tr>\n",
       "        <tr>\n",
       "            <td>32</td>\n",
       "            <td>33</td>\n",
       "            <td>M</td>\n",
       "            <td>79</td>\n",
       "            <td>173</td>\n",
       "            <td>76.0</td>\n",
       "            <td>173.0</td>\n",
       "        </tr>\n",
       "        <tr>\n",
       "            <td>35</td>\n",
       "            <td>36</td>\n",
       "            <td>M</td>\n",
       "            <td>64</td>\n",
       "            <td>176</td>\n",
       "            <td>65.0</td>\n",
       "            <td>175.0</td>\n",
       "        </tr>\n",
       "        <tr>\n",
       "            <td>37</td>\n",
       "            <td>38</td>\n",
       "            <td>M</td>\n",
       "            <td>69</td>\n",
       "            <td>174</td>\n",
       "            <td>69.0</td>\n",
       "            <td>171.0</td>\n",
       "        </tr>\n",
       "        <tr>\n",
       "            <td>38</td>\n",
       "            <td>39</td>\n",
       "            <td>M</td>\n",
       "            <td>88</td>\n",
       "            <td>178</td>\n",
       "            <td>86.0</td>\n",
       "            <td>175.0</td>\n",
       "        </tr>\n",
       "        <tr>\n",
       "            <td>39</td>\n",
       "            <td>40</td>\n",
       "            <td>M</td>\n",
       "            <td>65</td>\n",
       "            <td>187</td>\n",
       "            <td>67.0</td>\n",
       "            <td>188.0</td>\n",
       "        </tr>\n",
       "        <tr>\n",
       "            <td>41</td>\n",
       "            <td>42</td>\n",
       "            <td>M</td>\n",
       "            <td>80</td>\n",
       "            <td>178</td>\n",
       "            <td>80.0</td>\n",
       "            <td>178.0</td>\n",
       "        </tr>\n",
       "        <tr>\n",
       "            <td>43</td>\n",
       "            <td>44</td>\n",
       "            <td>M</td>\n",
       "            <td>78</td>\n",
       "            <td>183</td>\n",
       "            <td>80.0</td>\n",
       "            <td>180.0</td>\n",
       "        </tr>\n",
       "        <tr>\n",
       "            <td>44</td>\n",
       "            <td>45</td>\n",
       "            <td>M</td>\n",
       "            <td>85</td>\n",
       "            <td>179</td>\n",
       "            <td>82.0</td>\n",
       "            <td>175.0</td>\n",
       "        </tr>\n",
       "        <tr>\n",
       "            <td>46</td>\n",
       "            <td>47</td>\n",
       "            <td>M</td>\n",
       "            <td>73</td>\n",
       "            <td>180</td>\n",
       "            <td>None</td>\n",
       "            <td>None</td>\n",
       "        </tr>\n",
       "        <tr>\n",
       "            <td>50</td>\n",
       "            <td>51</td>\n",
       "            <td>M</td>\n",
       "            <td>82</td>\n",
       "            <td>182</td>\n",
       "            <td>85.0</td>\n",
       "            <td>183.0</td>\n",
       "        </tr>\n",
       "        <tr>\n",
       "            <td>52</td>\n",
       "            <td>53</td>\n",
       "            <td>M</td>\n",
       "            <td>74</td>\n",
       "            <td>169</td>\n",
       "            <td>73.0</td>\n",
       "            <td>170.0</td>\n",
       "        </tr>\n",
       "        <tr>\n",
       "            <td>53</td>\n",
       "            <td>54</td>\n",
       "            <td>M</td>\n",
       "            <td>102</td>\n",
       "            <td>185</td>\n",
       "            <td>107.0</td>\n",
       "            <td>185.0</td>\n",
       "        </tr>\n",
       "        <tr>\n",
       "            <td>54</td>\n",
       "            <td>55</td>\n",
       "            <td>M</td>\n",
       "            <td>64</td>\n",
       "            <td>177</td>\n",
       "            <td>None</td>\n",
       "            <td>None</td>\n",
       "        </tr>\n",
       "        <tr>\n",
       "            <td>55</td>\n",
       "            <td>56</td>\n",
       "            <td>M</td>\n",
       "            <td>65</td>\n",
       "            <td>176</td>\n",
       "            <td>64.0</td>\n",
       "            <td>172.0</td>\n",
       "        </tr>\n",
       "        <tr>\n",
       "            <td>57</td>\n",
       "            <td>58</td>\n",
       "            <td>M</td>\n",
       "            <td>73</td>\n",
       "            <td>183</td>\n",
       "            <td>74.0</td>\n",
       "            <td>180.0</td>\n",
       "        </tr>\n",
       "        <tr>\n",
       "            <td>58</td>\n",
       "            <td>59</td>\n",
       "            <td>M</td>\n",
       "            <td>75</td>\n",
       "            <td>172</td>\n",
       "            <td>70.0</td>\n",
       "            <td>169.0</td>\n",
       "        </tr>\n",
       "        <tr>\n",
       "            <td>59</td>\n",
       "            <td>60</td>\n",
       "            <td>M</td>\n",
       "            <td>57</td>\n",
       "            <td>173</td>\n",
       "            <td>58.0</td>\n",
       "            <td>170.0</td>\n",
       "        </tr>\n",
       "        <tr>\n",
       "            <td>60</td>\n",
       "            <td>61</td>\n",
       "            <td>M</td>\n",
       "            <td>68</td>\n",
       "            <td>165</td>\n",
       "            <td>69.0</td>\n",
       "            <td>165.0</td>\n",
       "        </tr>\n",
       "        <tr>\n",
       "            <td>61</td>\n",
       "            <td>62</td>\n",
       "            <td>M</td>\n",
       "            <td>71</td>\n",
       "            <td>177</td>\n",
       "            <td>71.0</td>\n",
       "            <td>170.0</td>\n",
       "        </tr>\n",
       "        <tr>\n",
       "            <td>62</td>\n",
       "            <td>63</td>\n",
       "            <td>M</td>\n",
       "            <td>71</td>\n",
       "            <td>180</td>\n",
       "            <td>76.0</td>\n",
       "            <td>175.0</td>\n",
       "        </tr>\n",
       "        <tr>\n",
       "            <td>64</td>\n",
       "            <td>65</td>\n",
       "            <td>M</td>\n",
       "            <td>97</td>\n",
       "            <td>189</td>\n",
       "            <td>98.0</td>\n",
       "            <td>185.0</td>\n",
       "        </tr>\n",
       "        <tr>\n",
       "            <td>69</td>\n",
       "            <td>70</td>\n",
       "            <td>M</td>\n",
       "            <td>80</td>\n",
       "            <td>178</td>\n",
       "            <td>76.0</td>\n",
       "            <td>175.0</td>\n",
       "        </tr>\n",
       "        <tr>\n",
       "            <td>71</td>\n",
       "            <td>72</td>\n",
       "            <td>M</td>\n",
       "            <td>66</td>\n",
       "            <td>173</td>\n",
       "            <td>66.0</td>\n",
       "            <td>175.0</td>\n",
       "        </tr>\n",
       "        <tr>\n",
       "            <td>78</td>\n",
       "            <td>79</td>\n",
       "            <td>M</td>\n",
       "            <td>69</td>\n",
       "            <td>182</td>\n",
       "            <td>70.0</td>\n",
       "            <td>180.0</td>\n",
       "        </tr>\n",
       "        <tr>\n",
       "            <td>79</td>\n",
       "            <td>80</td>\n",
       "            <td>M</td>\n",
       "            <td>69</td>\n",
       "            <td>183</td>\n",
       "            <td>70.0</td>\n",
       "            <td>183.0</td>\n",
       "        </tr>\n",
       "        <tr>\n",
       "            <td>81</td>\n",
       "            <td>82</td>\n",
       "            <td>M</td>\n",
       "            <td>55</td>\n",
       "            <td>168</td>\n",
       "            <td>56.0</td>\n",
       "            <td>170.0</td>\n",
       "        </tr>\n",
       "        <tr>\n",
       "            <td>85</td>\n",
       "            <td>86</td>\n",
       "            <td>M</td>\n",
       "            <td>59</td>\n",
       "            <td>182</td>\n",
       "            <td>61.0</td>\n",
       "            <td>183.0</td>\n",
       "        </tr>\n",
       "        <tr>\n",
       "            <td>86</td>\n",
       "            <td>87</td>\n",
       "            <td>M</td>\n",
       "            <td>62</td>\n",
       "            <td>178</td>\n",
       "            <td>66.0</td>\n",
       "            <td>175.0</td>\n",
       "        </tr>\n",
       "        <tr>\n",
       "            <td>90</td>\n",
       "            <td>91</td>\n",
       "            <td>M</td>\n",
       "            <td>70</td>\n",
       "            <td>173</td>\n",
       "            <td>68.0</td>\n",
       "            <td>170.0</td>\n",
       "        </tr>\n",
       "        <tr>\n",
       "            <td>92</td>\n",
       "            <td>93</td>\n",
       "            <td>M</td>\n",
       "            <td>84</td>\n",
       "            <td>184</td>\n",
       "            <td>86.0</td>\n",
       "            <td>183.0</td>\n",
       "        </tr>\n",
       "        <tr>\n",
       "            <td>93</td>\n",
       "            <td>94</td>\n",
       "            <td>M</td>\n",
       "            <td>69</td>\n",
       "            <td>180</td>\n",
       "            <td>71.0</td>\n",
       "            <td>180.0</td>\n",
       "        </tr>\n",
       "        <tr>\n",
       "            <td>94</td>\n",
       "            <td>95</td>\n",
       "            <td>M</td>\n",
       "            <td>88</td>\n",
       "            <td>189</td>\n",
       "            <td>87.0</td>\n",
       "            <td>185.0</td>\n",
       "        </tr>\n",
       "        <tr>\n",
       "            <td>96</td>\n",
       "            <td>97</td>\n",
       "            <td>M</td>\n",
       "            <td>103</td>\n",
       "            <td>185</td>\n",
       "            <td>101.0</td>\n",
       "            <td>182.0</td>\n",
       "        </tr>\n",
       "        <tr>\n",
       "            <td>101</td>\n",
       "            <td>102</td>\n",
       "            <td>M</td>\n",
       "            <td>63</td>\n",
       "            <td>178</td>\n",
       "            <td>63.0</td>\n",
       "            <td>175.0</td>\n",
       "        </tr>\n",
       "        <tr>\n",
       "            <td>110</td>\n",
       "            <td>111</td>\n",
       "            <td>M</td>\n",
       "            <td>84</td>\n",
       "            <td>183</td>\n",
       "            <td>90.0</td>\n",
       "            <td>183.0</td>\n",
       "        </tr>\n",
       "        <tr>\n",
       "            <td>111</td>\n",
       "            <td>112</td>\n",
       "            <td>M</td>\n",
       "            <td>79</td>\n",
       "            <td>179</td>\n",
       "            <td>79.0</td>\n",
       "            <td>171.0</td>\n",
       "        </tr>\n",
       "        <tr>\n",
       "            <td>113</td>\n",
       "            <td>114</td>\n",
       "            <td>M</td>\n",
       "            <td>67</td>\n",
       "            <td>179</td>\n",
       "            <td>67.0</td>\n",
       "            <td>179.0</td>\n",
       "        </tr>\n",
       "        <tr>\n",
       "            <td>116</td>\n",
       "            <td>117</td>\n",
       "            <td>M</td>\n",
       "            <td>83</td>\n",
       "            <td>184</td>\n",
       "            <td>83.0</td>\n",
       "            <td>181.0</td>\n",
       "        </tr>\n",
       "        <tr>\n",
       "            <td>117</td>\n",
       "            <td>118</td>\n",
       "            <td>M</td>\n",
       "            <td>96</td>\n",
       "            <td>184</td>\n",
       "            <td>94.0</td>\n",
       "            <td>183.0</td>\n",
       "        </tr>\n",
       "        <tr>\n",
       "            <td>118</td>\n",
       "            <td>119</td>\n",
       "            <td>M</td>\n",
       "            <td>75</td>\n",
       "            <td>169</td>\n",
       "            <td>76.0</td>\n",
       "            <td>165.0</td>\n",
       "        </tr>\n",
       "        <tr>\n",
       "            <td>119</td>\n",
       "            <td>120</td>\n",
       "            <td>M</td>\n",
       "            <td>65</td>\n",
       "            <td>178</td>\n",
       "            <td>66.0</td>\n",
       "            <td>178.0</td>\n",
       "        </tr>\n",
       "        <tr>\n",
       "            <td>120</td>\n",
       "            <td>121</td>\n",
       "            <td>M</td>\n",
       "            <td>78</td>\n",
       "            <td>178</td>\n",
       "            <td>77.0</td>\n",
       "            <td>175.0</td>\n",
       "        </tr>\n",
       "        <tr>\n",
       "            <td>121</td>\n",
       "            <td>122</td>\n",
       "            <td>M</td>\n",
       "            <td>69</td>\n",
       "            <td>167</td>\n",
       "            <td>73.0</td>\n",
       "            <td>165.0</td>\n",
       "        </tr>\n",
       "        <tr>\n",
       "            <td>124</td>\n",
       "            <td>125</td>\n",
       "            <td>M</td>\n",
       "            <td>67</td>\n",
       "            <td>179</td>\n",
       "            <td>None</td>\n",
       "            <td>None</td>\n",
       "        </tr>\n",
       "        <tr>\n",
       "            <td>131</td>\n",
       "            <td>132</td>\n",
       "            <td>M</td>\n",
       "            <td>87</td>\n",
       "            <td>185</td>\n",
       "            <td>89.0</td>\n",
       "            <td>185.0</td>\n",
       "        </tr>\n",
       "        <tr>\n",
       "            <td>134</td>\n",
       "            <td>135</td>\n",
       "            <td>M</td>\n",
       "            <td>83</td>\n",
       "            <td>177</td>\n",
       "            <td>84.0</td>\n",
       "            <td>175.0</td>\n",
       "        </tr>\n",
       "        <tr>\n",
       "            <td>138</td>\n",
       "            <td>139</td>\n",
       "            <td>M</td>\n",
       "            <td>90</td>\n",
       "            <td>188</td>\n",
       "            <td>91.0</td>\n",
       "            <td>185.0</td>\n",
       "        </tr>\n",
       "        <tr>\n",
       "            <td>139</td>\n",
       "            <td>140</td>\n",
       "            <td>M</td>\n",
       "            <td>85</td>\n",
       "            <td>191</td>\n",
       "            <td>83.0</td>\n",
       "            <td>188.0</td>\n",
       "        </tr>\n",
       "        <tr>\n",
       "            <td>140</td>\n",
       "            <td>141</td>\n",
       "            <td>M</td>\n",
       "            <td>66</td>\n",
       "            <td>175</td>\n",
       "            <td>68.0</td>\n",
       "            <td>175.0</td>\n",
       "        </tr>\n",
       "        <tr>\n",
       "            <td>149</td>\n",
       "            <td>150</td>\n",
       "            <td>M</td>\n",
       "            <td>88</td>\n",
       "            <td>184</td>\n",
       "            <td>86.0</td>\n",
       "            <td>183.0</td>\n",
       "        </tr>\n",
       "        <tr>\n",
       "            <td>155</td>\n",
       "            <td>156</td>\n",
       "            <td>M</td>\n",
       "            <td>54</td>\n",
       "            <td>169</td>\n",
       "            <td>58.0</td>\n",
       "            <td>165.0</td>\n",
       "        </tr>\n",
       "        <tr>\n",
       "            <td>156</td>\n",
       "            <td>157</td>\n",
       "            <td>M</td>\n",
       "            <td>69</td>\n",
       "            <td>172</td>\n",
       "            <td>68.0</td>\n",
       "            <td>174.0</td>\n",
       "        </tr>\n",
       "        <tr>\n",
       "            <td>164</td>\n",
       "            <td>165</td>\n",
       "            <td>M</td>\n",
       "            <td>56</td>\n",
       "            <td>163</td>\n",
       "            <td>58.0</td>\n",
       "            <td>161.0</td>\n",
       "        </tr>\n",
       "        <tr>\n",
       "            <td>168</td>\n",
       "            <td>169</td>\n",
       "            <td>M</td>\n",
       "            <td>96</td>\n",
       "            <td>191</td>\n",
       "            <td>95.0</td>\n",
       "            <td>188.0</td>\n",
       "        </tr>\n",
       "        <tr>\n",
       "            <td>170</td>\n",
       "            <td>171</td>\n",
       "            <td>M</td>\n",
       "            <td>76</td>\n",
       "            <td>169</td>\n",
       "            <td>75.0</td>\n",
       "            <td>165.0</td>\n",
       "        </tr>\n",
       "        <tr>\n",
       "            <td>172</td>\n",
       "            <td>173</td>\n",
       "            <td>M</td>\n",
       "            <td>61</td>\n",
       "            <td>170</td>\n",
       "            <td>61.0</td>\n",
       "            <td>170.0</td>\n",
       "        </tr>\n",
       "        <tr>\n",
       "            <td>173</td>\n",
       "            <td>174</td>\n",
       "            <td>M</td>\n",
       "            <td>82</td>\n",
       "            <td>176</td>\n",
       "            <td>None</td>\n",
       "            <td>None</td>\n",
       "        </tr>\n",
       "        <tr>\n",
       "            <td>174</td>\n",
       "            <td>175</td>\n",
       "            <td>M</td>\n",
       "            <td>62</td>\n",
       "            <td>168</td>\n",
       "            <td>64.0</td>\n",
       "            <td>168.0</td>\n",
       "        </tr>\n",
       "        <tr>\n",
       "            <td>175</td>\n",
       "            <td>176</td>\n",
       "            <td>M</td>\n",
       "            <td>71</td>\n",
       "            <td>178</td>\n",
       "            <td>68.0</td>\n",
       "            <td>178.0</td>\n",
       "        </tr>\n",
       "        <tr>\n",
       "            <td>177</td>\n",
       "            <td>178</td>\n",
       "            <td>M</td>\n",
       "            <td>66</td>\n",
       "            <td>170</td>\n",
       "            <td>67.0</td>\n",
       "            <td>165.0</td>\n",
       "        </tr>\n",
       "        <tr>\n",
       "            <td>178</td>\n",
       "            <td>179</td>\n",
       "            <td>M</td>\n",
       "            <td>81</td>\n",
       "            <td>178</td>\n",
       "            <td>82.0</td>\n",
       "            <td>175.0</td>\n",
       "        </tr>\n",
       "        <tr>\n",
       "            <td>179</td>\n",
       "            <td>180</td>\n",
       "            <td>M</td>\n",
       "            <td>68</td>\n",
       "            <td>174</td>\n",
       "            <td>68.0</td>\n",
       "            <td>173.0</td>\n",
       "        </tr>\n",
       "        <tr>\n",
       "            <td>180</td>\n",
       "            <td>181</td>\n",
       "            <td>M</td>\n",
       "            <td>80</td>\n",
       "            <td>176</td>\n",
       "            <td>78.0</td>\n",
       "            <td>175.0</td>\n",
       "        </tr>\n",
       "        <tr>\n",
       "            <td>182</td>\n",
       "            <td>183</td>\n",
       "            <td>M</td>\n",
       "            <td>82</td>\n",
       "            <td>181</td>\n",
       "            <td>None</td>\n",
       "            <td>None</td>\n",
       "        </tr>\n",
       "        <tr>\n",
       "            <td>184</td>\n",
       "            <td>185</td>\n",
       "            <td>M</td>\n",
       "            <td>70</td>\n",
       "            <td>173</td>\n",
       "            <td>70.0</td>\n",
       "            <td>173.0</td>\n",
       "        </tr>\n",
       "        <tr>\n",
       "            <td>188</td>\n",
       "            <td>189</td>\n",
       "            <td>M</td>\n",
       "            <td>76</td>\n",
       "            <td>183</td>\n",
       "            <td>75.0</td>\n",
       "            <td>180.0</td>\n",
       "        </tr>\n",
       "        <tr>\n",
       "            <td>190</td>\n",
       "            <td>191</td>\n",
       "            <td>M</td>\n",
       "            <td>88</td>\n",
       "            <td>185</td>\n",
       "            <td>93.0</td>\n",
       "            <td>188.0</td>\n",
       "        </tr>\n",
       "        <tr>\n",
       "            <td>191</td>\n",
       "            <td>192</td>\n",
       "            <td>M</td>\n",
       "            <td>89</td>\n",
       "            <td>173</td>\n",
       "            <td>86.0</td>\n",
       "            <td>173.0</td>\n",
       "        </tr>\n",
       "        <tr>\n",
       "            <td>195</td>\n",
       "            <td>196</td>\n",
       "            <td>M</td>\n",
       "            <td>74</td>\n",
       "            <td>175</td>\n",
       "            <td>71.0</td>\n",
       "            <td>175.0</td>\n",
       "        </tr>\n",
       "        <tr>\n",
       "            <td>196</td>\n",
       "            <td>197</td>\n",
       "            <td>M</td>\n",
       "            <td>83</td>\n",
       "            <td>180</td>\n",
       "            <td>80.0</td>\n",
       "            <td>180.0</td>\n",
       "        </tr>\n",
       "        <tr>\n",
       "            <td>197</td>\n",
       "            <td>198</td>\n",
       "            <td>M</td>\n",
       "            <td>81</td>\n",
       "            <td>175</td>\n",
       "            <td>None</td>\n",
       "            <td>None</td>\n",
       "        </tr>\n",
       "        <tr>\n",
       "            <td>198</td>\n",
       "            <td>199</td>\n",
       "            <td>M</td>\n",
       "            <td>90</td>\n",
       "            <td>181</td>\n",
       "            <td>91.0</td>\n",
       "            <td>178.0</td>\n",
       "        </tr>\n",
       "        <tr>\n",
       "            <td>199</td>\n",
       "            <td>200</td>\n",
       "            <td>M</td>\n",
       "            <td>79</td>\n",
       "            <td>177</td>\n",
       "            <td>81.0</td>\n",
       "            <td>178.0</td>\n",
       "        </tr>\n",
       "    </tbody>\n",
       "</table>"
      ],
      "text/plain": [
       "[(0, 1, 'M', 77, 182, 77.0, 180.0),\n",
       " (3, 4, 'M', 68, 177, 70.0, 175.0),\n",
       " (5, 6, 'M', 76, 170, 76.0, 165.0),\n",
       " (6, 7, 'M', 76, 167, 77.0, 165.0),\n",
       " (7, 8, 'M', 69, 186, 73.0, 180.0),\n",
       " (8, 9, 'M', 71, 178, 71.0, 175.0),\n",
       " (9, 10, 'M', 65, 171, 64.0, 170.0),\n",
       " (10, 11, 'M', 70, 175, 75.0, 174.0),\n",
       " (16, 17, 'M', 92, 187, 101.0, 185.0),\n",
       " (18, 19, 'M', 76, 197, 75.0, 200.0),\n",
       " (20, 21, 'M', 119, 180, 124.0, 178.0),\n",
       " (22, 23, 'M', 65, 175, 66.0, 173.0),\n",
       " (23, 24, 'M', 66, 173, 70.0, 170.0),\n",
       " (29, 30, 'M', 101, 183, 100.0, 180.0),\n",
       " (31, 32, 'M', 75, 178, 73.0, 175.0),\n",
       " (32, 33, 'M', 79, 173, 76.0, 173.0),\n",
       " (35, 36, 'M', 64, 176, 65.0, 175.0),\n",
       " (37, 38, 'M', 69, 174, 69.0, 171.0),\n",
       " (38, 39, 'M', 88, 178, 86.0, 175.0),\n",
       " (39, 40, 'M', 65, 187, 67.0, 188.0),\n",
       " (41, 42, 'M', 80, 178, 80.0, 178.0),\n",
       " (43, 44, 'M', 78, 183, 80.0, 180.0),\n",
       " (44, 45, 'M', 85, 179, 82.0, 175.0),\n",
       " (46, 47, 'M', 73, 180, None, None),\n",
       " (50, 51, 'M', 82, 182, 85.0, 183.0),\n",
       " (52, 53, 'M', 74, 169, 73.0, 170.0),\n",
       " (53, 54, 'M', 102, 185, 107.0, 185.0),\n",
       " (54, 55, 'M', 64, 177, None, None),\n",
       " (55, 56, 'M', 65, 176, 64.0, 172.0),\n",
       " (57, 58, 'M', 73, 183, 74.0, 180.0),\n",
       " (58, 59, 'M', 75, 172, 70.0, 169.0),\n",
       " (59, 60, 'M', 57, 173, 58.0, 170.0),\n",
       " (60, 61, 'M', 68, 165, 69.0, 165.0),\n",
       " (61, 62, 'M', 71, 177, 71.0, 170.0),\n",
       " (62, 63, 'M', 71, 180, 76.0, 175.0),\n",
       " (64, 65, 'M', 97, 189, 98.0, 185.0),\n",
       " (69, 70, 'M', 80, 178, 76.0, 175.0),\n",
       " (71, 72, 'M', 66, 173, 66.0, 175.0),\n",
       " (78, 79, 'M', 69, 182, 70.0, 180.0),\n",
       " (79, 80, 'M', 69, 183, 70.0, 183.0),\n",
       " (81, 82, 'M', 55, 168, 56.0, 170.0),\n",
       " (85, 86, 'M', 59, 182, 61.0, 183.0),\n",
       " (86, 87, 'M', 62, 178, 66.0, 175.0),\n",
       " (90, 91, 'M', 70, 173, 68.0, 170.0),\n",
       " (92, 93, 'M', 84, 184, 86.0, 183.0),\n",
       " (93, 94, 'M', 69, 180, 71.0, 180.0),\n",
       " (94, 95, 'M', 88, 189, 87.0, 185.0),\n",
       " (96, 97, 'M', 103, 185, 101.0, 182.0),\n",
       " (101, 102, 'M', 63, 178, 63.0, 175.0),\n",
       " (110, 111, 'M', 84, 183, 90.0, 183.0),\n",
       " (111, 112, 'M', 79, 179, 79.0, 171.0),\n",
       " (113, 114, 'M', 67, 179, 67.0, 179.0),\n",
       " (116, 117, 'M', 83, 184, 83.0, 181.0),\n",
       " (117, 118, 'M', 96, 184, 94.0, 183.0),\n",
       " (118, 119, 'M', 75, 169, 76.0, 165.0),\n",
       " (119, 120, 'M', 65, 178, 66.0, 178.0),\n",
       " (120, 121, 'M', 78, 178, 77.0, 175.0),\n",
       " (121, 122, 'M', 69, 167, 73.0, 165.0),\n",
       " (124, 125, 'M', 67, 179, None, None),\n",
       " (131, 132, 'M', 87, 185, 89.0, 185.0),\n",
       " (134, 135, 'M', 83, 177, 84.0, 175.0),\n",
       " (138, 139, 'M', 90, 188, 91.0, 185.0),\n",
       " (139, 140, 'M', 85, 191, 83.0, 188.0),\n",
       " (140, 141, 'M', 66, 175, 68.0, 175.0),\n",
       " (149, 150, 'M', 88, 184, 86.0, 183.0),\n",
       " (155, 156, 'M', 54, 169, 58.0, 165.0),\n",
       " (156, 157, 'M', 69, 172, 68.0, 174.0),\n",
       " (164, 165, 'M', 56, 163, 58.0, 161.0),\n",
       " (168, 169, 'M', 96, 191, 95.0, 188.0),\n",
       " (170, 171, 'M', 76, 169, 75.0, 165.0),\n",
       " (172, 173, 'M', 61, 170, 61.0, 170.0),\n",
       " (173, 174, 'M', 82, 176, None, None),\n",
       " (174, 175, 'M', 62, 168, 64.0, 168.0),\n",
       " (175, 176, 'M', 71, 178, 68.0, 178.0),\n",
       " (177, 178, 'M', 66, 170, 67.0, 165.0),\n",
       " (178, 179, 'M', 81, 178, 82.0, 175.0),\n",
       " (179, 180, 'M', 68, 174, 68.0, 173.0),\n",
       " (180, 181, 'M', 80, 176, 78.0, 175.0),\n",
       " (182, 183, 'M', 82, 181, None, None),\n",
       " (184, 185, 'M', 70, 173, 70.0, 173.0),\n",
       " (188, 189, 'M', 76, 183, 75.0, 180.0),\n",
       " (190, 191, 'M', 88, 185, 93.0, 188.0),\n",
       " (191, 192, 'M', 89, 173, 86.0, 173.0),\n",
       " (195, 196, 'M', 74, 175, 71.0, 175.0),\n",
       " (196, 197, 'M', 83, 180, 80.0, 180.0),\n",
       " (197, 198, 'M', 81, 175, None, None),\n",
       " (198, 199, 'M', 90, 181, 91.0, 178.0),\n",
       " (199, 200, 'M', 79, 177, 81.0, 178.0)]"
      ]
     },
     "execution_count": 7,
     "metadata": {},
     "output_type": "execute_result"
    }
   ],
   "source": [
    "%%sql\n",
    "SELECT * from heights\n",
    "    WHERE sex == 'M';"
   ]
  },
  {
   "cell_type": "markdown",
   "metadata": {
    "slideshow": {
     "slide_type": "subslide"
    }
   },
   "source": [
    "*Q*: How would you select the women that overestimate their weight and underestimate their height?"
   ]
  },
  {
   "cell_type": "code",
   "execution_count": 8,
   "metadata": {
    "slideshow": {
     "slide_type": "-"
    }
   },
   "outputs": [
    {
     "name": "stdout",
     "output_type": "stream",
     "text": [
      "   sqlite:///../data/circulation.sqlite\n",
      " * sqlite:///../data/week2.db\n",
      "Done.\n"
     ]
    },
    {
     "data": {
      "text/html": [
       "<table>\n",
       "    <thead>\n",
       "        <tr>\n",
       "            <th>index</th>\n",
       "            <th>Unnamed: 0</th>\n",
       "            <th>sex</th>\n",
       "            <th>weight</th>\n",
       "            <th>height</th>\n",
       "            <th>repwt</th>\n",
       "            <th>repht</th>\n",
       "        </tr>\n",
       "    </thead>\n",
       "    <tbody>\n",
       "        <tr>\n",
       "            <td>2</td>\n",
       "            <td>3</td>\n",
       "            <td>F</td>\n",
       "            <td>53</td>\n",
       "            <td>161</td>\n",
       "            <td>54.0</td>\n",
       "            <td>158.0</td>\n",
       "        </tr>\n",
       "        <tr>\n",
       "            <td>12</td>\n",
       "            <td>13</td>\n",
       "            <td>F</td>\n",
       "            <td>51</td>\n",
       "            <td>161</td>\n",
       "            <td>52.0</td>\n",
       "            <td>158.0</td>\n",
       "        </tr>\n",
       "        <tr>\n",
       "            <td>14</td>\n",
       "            <td>15</td>\n",
       "            <td>F</td>\n",
       "            <td>52</td>\n",
       "            <td>163</td>\n",
       "            <td>57.0</td>\n",
       "            <td>160.0</td>\n",
       "        </tr>\n",
       "        <tr>\n",
       "            <td>15</td>\n",
       "            <td>16</td>\n",
       "            <td>F</td>\n",
       "            <td>65</td>\n",
       "            <td>166</td>\n",
       "            <td>66.0</td>\n",
       "            <td>165.0</td>\n",
       "        </tr>\n",
       "        <tr>\n",
       "            <td>24</td>\n",
       "            <td>25</td>\n",
       "            <td>F</td>\n",
       "            <td>54</td>\n",
       "            <td>171</td>\n",
       "            <td>59.0</td>\n",
       "            <td>168.0</td>\n",
       "        </tr>\n",
       "        <tr>\n",
       "            <td>27</td>\n",
       "            <td>28</td>\n",
       "            <td>F</td>\n",
       "            <td>58</td>\n",
       "            <td>166</td>\n",
       "            <td>60.0</td>\n",
       "            <td>160.0</td>\n",
       "        </tr>\n",
       "        <tr>\n",
       "            <td>28</td>\n",
       "            <td>29</td>\n",
       "            <td>F</td>\n",
       "            <td>39</td>\n",
       "            <td>157</td>\n",
       "            <td>41.0</td>\n",
       "            <td>153.0</td>\n",
       "        </tr>\n",
       "        <tr>\n",
       "            <td>45</td>\n",
       "            <td>46</td>\n",
       "            <td>F</td>\n",
       "            <td>54</td>\n",
       "            <td>160</td>\n",
       "            <td>55.0</td>\n",
       "            <td>158.0</td>\n",
       "        </tr>\n",
       "        <tr>\n",
       "            <td>48</td>\n",
       "            <td>49</td>\n",
       "            <td>F</td>\n",
       "            <td>54</td>\n",
       "            <td>174</td>\n",
       "            <td>56.0</td>\n",
       "            <td>173.0</td>\n",
       "        </tr>\n",
       "        <tr>\n",
       "            <td>51</td>\n",
       "            <td>52</td>\n",
       "            <td>F</td>\n",
       "            <td>56</td>\n",
       "            <td>165</td>\n",
       "            <td>57.0</td>\n",
       "            <td>163.0</td>\n",
       "        </tr>\n",
       "        <tr>\n",
       "            <td>73</td>\n",
       "            <td>74</td>\n",
       "            <td>F</td>\n",
       "            <td>56</td>\n",
       "            <td>163</td>\n",
       "            <td>57.0</td>\n",
       "            <td>159.0</td>\n",
       "        </tr>\n",
       "        <tr>\n",
       "            <td>76</td>\n",
       "            <td>77</td>\n",
       "            <td>F</td>\n",
       "            <td>50</td>\n",
       "            <td>160</td>\n",
       "            <td>55.0</td>\n",
       "            <td>150.0</td>\n",
       "        </tr>\n",
       "        <tr>\n",
       "            <td>77</td>\n",
       "            <td>78</td>\n",
       "            <td>F</td>\n",
       "            <td>63</td>\n",
       "            <td>160</td>\n",
       "            <td>64.0</td>\n",
       "            <td>158.0</td>\n",
       "        </tr>\n",
       "        <tr>\n",
       "            <td>88</td>\n",
       "            <td>89</td>\n",
       "            <td>F</td>\n",
       "            <td>57</td>\n",
       "            <td>163</td>\n",
       "            <td>59.0</td>\n",
       "            <td>160.0</td>\n",
       "        </tr>\n",
       "        <tr>\n",
       "            <td>95</td>\n",
       "            <td>96</td>\n",
       "            <td>F</td>\n",
       "            <td>56</td>\n",
       "            <td>165</td>\n",
       "            <td>57.0</td>\n",
       "            <td>160.0</td>\n",
       "        </tr>\n",
       "        <tr>\n",
       "            <td>104</td>\n",
       "            <td>105</td>\n",
       "            <td>F</td>\n",
       "            <td>62</td>\n",
       "            <td>175</td>\n",
       "            <td>63.0</td>\n",
       "            <td>173.0</td>\n",
       "        </tr>\n",
       "        <tr>\n",
       "            <td>112</td>\n",
       "            <td>113</td>\n",
       "            <td>F</td>\n",
       "            <td>55</td>\n",
       "            <td>174</td>\n",
       "            <td>57.0</td>\n",
       "            <td>171.0</td>\n",
       "        </tr>\n",
       "        <tr>\n",
       "            <td>114</td>\n",
       "            <td>115</td>\n",
       "            <td>F</td>\n",
       "            <td>76</td>\n",
       "            <td>167</td>\n",
       "            <td>77.0</td>\n",
       "            <td>165.0</td>\n",
       "        </tr>\n",
       "        <tr>\n",
       "            <td>141</td>\n",
       "            <td>142</td>\n",
       "            <td>F</td>\n",
       "            <td>52</td>\n",
       "            <td>163</td>\n",
       "            <td>53.0</td>\n",
       "            <td>160.0</td>\n",
       "        </tr>\n",
       "        <tr>\n",
       "            <td>142</td>\n",
       "            <td>143</td>\n",
       "            <td>F</td>\n",
       "            <td>53</td>\n",
       "            <td>165</td>\n",
       "            <td>55.0</td>\n",
       "            <td>163.0</td>\n",
       "        </tr>\n",
       "        <tr>\n",
       "            <td>150</td>\n",
       "            <td>151</td>\n",
       "            <td>F</td>\n",
       "            <td>57</td>\n",
       "            <td>168</td>\n",
       "            <td>58.0</td>\n",
       "            <td>165.0</td>\n",
       "        </tr>\n",
       "    </tbody>\n",
       "</table>"
      ],
      "text/plain": [
       "[(2, 3, 'F', 53, 161, 54.0, 158.0),\n",
       " (12, 13, 'F', 51, 161, 52.0, 158.0),\n",
       " (14, 15, 'F', 52, 163, 57.0, 160.0),\n",
       " (15, 16, 'F', 65, 166, 66.0, 165.0),\n",
       " (24, 25, 'F', 54, 171, 59.0, 168.0),\n",
       " (27, 28, 'F', 58, 166, 60.0, 160.0),\n",
       " (28, 29, 'F', 39, 157, 41.0, 153.0),\n",
       " (45, 46, 'F', 54, 160, 55.0, 158.0),\n",
       " (48, 49, 'F', 54, 174, 56.0, 173.0),\n",
       " (51, 52, 'F', 56, 165, 57.0, 163.0),\n",
       " (73, 74, 'F', 56, 163, 57.0, 159.0),\n",
       " (76, 77, 'F', 50, 160, 55.0, 150.0),\n",
       " (77, 78, 'F', 63, 160, 64.0, 158.0),\n",
       " (88, 89, 'F', 57, 163, 59.0, 160.0),\n",
       " (95, 96, 'F', 56, 165, 57.0, 160.0),\n",
       " (104, 105, 'F', 62, 175, 63.0, 173.0),\n",
       " (112, 113, 'F', 55, 174, 57.0, 171.0),\n",
       " (114, 115, 'F', 76, 167, 77.0, 165.0),\n",
       " (141, 142, 'F', 52, 163, 53.0, 160.0),\n",
       " (142, 143, 'F', 53, 165, 55.0, 163.0),\n",
       " (150, 151, 'F', 57, 168, 58.0, 165.0)]"
      ]
     },
     "execution_count": 8,
     "metadata": {},
     "output_type": "execute_result"
    }
   ],
   "source": [
    "%%sql\n",
    "SELECT * FROM heights\n",
    "    WHERE sex == 'F'\n",
    "    AND repwt > weight\n",
    "    AND repht < height\n",
    ";"
   ]
  },
  {
   "cell_type": "markdown",
   "metadata": {
    "slideshow": {
     "slide_type": "slide"
    }
   },
   "source": [
    "## Python Review"
   ]
  },
  {
   "cell_type": "markdown",
   "metadata": {
    "slideshow": {
     "slide_type": "subslide"
    }
   },
   "source": [
    "### Comments\n",
    "\n",
    "In Python, a is a line starting with a `#`"
   ]
  },
  {
   "cell_type": "code",
   "execution_count": 9,
   "metadata": {
    "scrolled": true,
    "slideshow": {
     "slide_type": "-"
    }
   },
   "outputs": [
    {
     "name": "stdout",
     "output_type": "stream",
     "text": [
      "hello\n"
     ]
    }
   ],
   "source": [
    "# This line does nothing\n",
    "print('hello')\n",
    "# This line is also ignored by the code"
   ]
  },
  {
   "cell_type": "markdown",
   "metadata": {
    "slideshow": {
     "slide_type": "fragment"
    }
   },
   "source": [
    "Some lab answers include a comment (e.g. `#Answer-Q1`) - this is ignored by Python, but Dr. O uses it to find your answer!"
   ]
  },
  {
   "cell_type": "markdown",
   "metadata": {
    "slideshow": {
     "slide_type": "subslide"
    }
   },
   "source": [
    "### Indentation and Punctuation\n",
    "\n",
    "- Python doesn't use semi-colons to end a line. If you don't have partially finished code, it assumes each line-break ends the code.\n",
    "\n",
    "- Indentation matters for some things, like *loops* - similar to how we would understand indentation in a point-form list, Python understands it as 'the indented part is related to the unindented lead-in.'"
   ]
  },
  {
   "cell_type": "code",
   "execution_count": 10,
   "metadata": {},
   "outputs": [
    {
     "name": "stdout",
     "output_type": "stream",
     "text": [
      "3\n"
     ]
    }
   ],
   "source": [
    "x = 3\n",
    "if x > 2:\n",
    "    print(x)"
   ]
  },
  {
   "cell_type": "code",
   "execution_count": 11,
   "metadata": {},
   "outputs": [
    {
     "name": "stdout",
     "output_type": "stream",
     "text": [
      "0 is lower or equal to two\n",
      "1 is lower or equal to two\n",
      "2 is lower or equal to two\n",
      "3 is higher than two\n"
     ]
    }
   ],
   "source": [
    "for x in [0,1,2,3]:\n",
    "    if x > 2:\n",
    "        print(x, \"is higher than two\")\n",
    "    else:\n",
    "        print(x, \"is lower or equal to two\")"
   ]
  },
  {
   "cell_type": "markdown",
   "metadata": {
    "slideshow": {
     "slide_type": "fragment"
    }
   },
   "source": [
    "(We won't be working with 'if' statements' much in this class.)"
   ]
  },
  {
   "cell_type": "markdown",
   "metadata": {
    "slideshow": {
     "slide_type": "subslide"
    }
   },
   "source": [
    "### Loops for Data Processing\n",
    "\n",
    "A `for` loop is essential for processing datasets row by row:"
   ]
  },
  {
   "cell_type": "code",
   "execution_count": 12,
   "metadata": {},
   "outputs": [
    {
     "data": {
      "image/jpeg": "[encoded data removed]",
      "text/html": [
       "\n",
       "        <iframe\n",
       "            width=\"400\"\n",
       "            height=\"300\"\n",
       "            src=\"https://www.youtube.com/embed/I0jgcyfC2r8\"\n",
       "            frameborder=\"0\"\n",
       "            allowfullscreen\n",
       "            \n",
       "        ></iframe>\n",
       "        "
      ],
      "text/plain": [
       "<IPython.lib.display.YouTubeVideo at 0x117ef4980>"
      ]
     },
     "execution_count": 12,
     "metadata": {},
     "output_type": "execute_result"
    }
   ],
   "source": [
    "YouTubeVideo('I0jgcyfC2r8')"
   ]
  },
  {
   "cell_type": "markdown",
   "metadata": {
    "slideshow": {
     "slide_type": "subslide"
    }
   },
   "source": [
    "```python\n",
    "for something in a_bunch_of_somethings:\n",
    "    do_something()\n",
    "    do_something_else()\n",
    "```"
   ]
  },
  {
   "cell_type": "markdown",
   "metadata": {
    "slideshow": {
     "slide_type": "fragment"
    }
   },
   "source": [
    "*\"For every student in the class, perform handshake\"*\n",
    "\n",
    "```python\n",
    "for student in classroom:\n",
    "    handshake(student)\n",
    "```"
   ]
  },
  {
   "cell_type": "markdown",
   "metadata": {
    "slideshow": {
     "slide_type": "subslide"
    }
   },
   "source": [
    "`for` loops *iterate* through a collection of objects, setting each object to a variable and running through the loop in turn.\n",
    "\n",
    "'collection of objects' - vague and general, because there's a lot you can iterate through."
   ]
  },
  {
   "cell_type": "markdown",
   "metadata": {
    "slideshow": {
     "slide_type": "fragment"
    }
   },
   "source": [
    "*\"For every student in the class, perform **a student-specific** handshake\"*\n",
    "\n",
    "```python\n",
    "for student in classroom:\n",
    "    handshake(student)\n",
    "```\n",
    "\n",
    "Where `handshake(name)` is an imaginary function that can bring up a student's handshake instructions."
   ]
  },
  {
   "cell_type": "code",
   "execution_count": 13,
   "metadata": {
    "scrolled": true,
    "slideshow": {
     "slide_type": "subslide"
    }
   },
   "outputs": [
    {
     "name": "stdout",
     "output_type": "stream",
     "text": [
      "SPENDING:\n",
      "6\n",
      "REMAINING:\n",
      "1006\n",
      "-----------\n",
      "SPENDING:\n",
      "5\n",
      "REMAINING:\n",
      "1011\n",
      "-----------\n",
      "SPENDING:\n",
      "4\n",
      "REMAINING:\n",
      "1015\n",
      "-----------\n",
      "SPENDING:\n",
      "3\n",
      "REMAINING:\n",
      "1018\n",
      "-----------\n",
      "SPENDING:\n",
      "-1000\n",
      "REMAINING:\n",
      "18\n",
      "-----------\n",
      "Final balance: 18\n"
     ]
    }
   ],
   "source": [
    "# Credit card balance\n",
    "balance = 1000\n",
    "\n",
    "for expense in [6, 5, 4, 3, -1000]:\n",
    "    print(\"SPENDING:\")\n",
    "    print(expense)\n",
    "    balance = balance + expense\n",
    "    print(\"REMAINING:\")\n",
    "    print(balance)\n",
    "    print('-----------')\n",
    "    \n",
    "print(\"Final balance:\", balance)"
   ]
  },
  {
   "cell_type": "code",
   "execution_count": 14,
   "metadata": {
    "slideshow": {
     "slide_type": "subslide"
    }
   },
   "outputs": [
    {
     "name": "stdout",
     "output_type": "stream",
     "text": [
      "Spending $ 6\n",
      "Remaining balanced on credit card: $ 1006\n",
      "Spending $ 5\n",
      "Remaining balanced on credit card: $ 1011\n",
      "Spending $ 4\n",
      "Remaining balanced on credit card: $ 1015\n",
      "Spending $ 3\n",
      "Remaining balanced on credit card: $ 1018\n",
      "Payday!\n",
      "Remaining balanced on credit card: $ 18\n"
     ]
    }
   ],
   "source": [
    "balance = 1000\n",
    "\n",
    "for expense in [6, 5, 4, 3, -1000]:\n",
    "    if expense > 0:\n",
    "        print(\"Spending $\", expense)\n",
    "    else:\n",
    "        print(\"Payday!\")\n",
    "\n",
    "    balance = balance + expense\n",
    "    print(\"Remaining balanced on credit card: $\", balance)"
   ]
  },
  {
   "cell_type": "markdown",
   "metadata": {
    "slideshow": {
     "slide_type": "subslide"
    }
   },
   "source": [
    "Example over looping over results.\n",
    "\n",
    "(Don't worry about the syntax here, just what the information in `results` looks like)"
   ]
  },
  {
   "cell_type": "code",
   "execution_count": null,
   "metadata": {
    "slideshow": {
     "slide_type": "subslide"
    }
   },
   "outputs": [],
   "source": [
    "# Question from last week: Set a variable x to 0, then write a loop to add the following numbers to it: 1,1,2,3,5,8,13,21. This one can be tricky - I've started it for you.\n",
    "apple_basket = 0\n",
    "apples_per_tree = [1,1,2,3,5,8,13,21]"
   ]
  },
  {
   "cell_type": "code",
   "execution_count": 15,
   "metadata": {
    "slideshow": {
     "slide_type": "subslide"
    }
   },
   "outputs": [
    {
     "name": "stdout",
     "output_type": "stream",
     "text": [
      "   sqlite:///../data/circulation.sqlite\n",
      " * sqlite:///../data/week2.db\n",
      "Done.\n"
     ]
    }
   ],
   "source": [
    "%sql sqlite:///../data/week2.db\n",
    "results = %sql SELECT * FROM heights;"
   ]
  },
  {
   "cell_type": "code",
   "execution_count": 16,
   "metadata": {
    "slideshow": {
     "slide_type": "subslide"
    }
   },
   "outputs": [
    {
     "name": "stdout",
     "output_type": "stream",
     "text": [
      "(0, 1, 'M', 77, 182, 77.0, 180.0)\n",
      "(1, 2, 'F', 58, 161, 51.0, 159.0)\n",
      "(2, 3, 'F', 53, 161, 54.0, 158.0)\n",
      "(3, 4, 'M', 68, 177, 70.0, 175.0)\n",
      "(4, 5, 'F', 59, 157, 59.0, 155.0)\n",
      "(5, 6, 'M', 76, 170, 76.0, 165.0)\n",
      "(6, 7, 'M', 76, 167, 77.0, 165.0)\n",
      "(7, 8, 'M', 69, 186, 73.0, 180.0)\n",
      "(8, 9, 'M', 71, 178, 71.0, 175.0)\n",
      "(9, 10, 'M', 65, 171, 64.0, 170.0)\n",
      "(10, 11, 'M', 70, 175, 75.0, 174.0)\n",
      "(11, 12, 'F', 166, 57, 56.0, 163.0)\n",
      "(12, 13, 'F', 51, 161, 52.0, 158.0)\n",
      "(13, 14, 'F', 64, 168, 64.0, 165.0)\n",
      "(14, 15, 'F', 52, 163, 57.0, 160.0)\n",
      "(15, 16, 'F', 65, 166, 66.0, 165.0)\n",
      "(16, 17, 'M', 92, 187, 101.0, 185.0)\n",
      "(17, 18, 'F', 62, 168, 62.0, 165.0)\n",
      "(18, 19, 'M', 76, 197, 75.0, 200.0)\n",
      "(19, 20, 'F', 61, 175, 61.0, 171.0)\n",
      "(20, 21, 'M', 119, 180, 124.0, 178.0)\n",
      "(21, 22, 'F', 61, 170, 61.0, 170.0)\n",
      "(22, 23, 'M', 65, 175, 66.0, 173.0)\n",
      "(23, 24, 'M', 66, 173, 70.0, 170.0)\n",
      "(24, 25, 'F', 54, 171, 59.0, 168.0)\n",
      "(25, 26, 'F', 50, 166, 50.0, 165.0)\n",
      "(26, 27, 'F', 63, 169, 61.0, 168.0)\n",
      "(27, 28, 'F', 58, 166, 60.0, 160.0)\n",
      "(28, 29, 'F', 39, 157, 41.0, 153.0)\n",
      "(29, 30, 'M', 101, 183, 100.0, 180.0)\n",
      "(30, 31, 'F', 71, 166, 71.0, 165.0)\n",
      "(31, 32, 'M', 75, 178, 73.0, 175.0)\n",
      "(32, 33, 'M', 79, 173, 76.0, 173.0)\n",
      "(33, 34, 'F', 52, 164, 52.0, 161.0)\n",
      "(34, 35, 'F', 68, 169, 63.0, 170.0)\n",
      "(35, 36, 'M', 64, 176, 65.0, 175.0)\n",
      "(36, 37, 'F', 56, 166, 54.0, 165.0)\n",
      "(37, 38, 'M', 69, 174, 69.0, 171.0)\n",
      "(38, 39, 'M', 88, 178, 86.0, 175.0)\n",
      "(39, 40, 'M', 65, 187, 67.0, 188.0)\n",
      "(40, 41, 'F', 54, 164, 53.0, 160.0)\n",
      "(41, 42, 'M', 80, 178, 80.0, 178.0)\n",
      "(42, 43, 'F', 63, 163, 59.0, 159.0)\n",
      "(43, 44, 'M', 78, 183, 80.0, 180.0)\n",
      "(44, 45, 'M', 85, 179, 82.0, 175.0)\n",
      "(45, 46, 'F', 54, 160, 55.0, 158.0)\n",
      "(46, 47, 'M', 73, 180, None, None)\n",
      "(47, 48, 'F', 49, 161, None, None)\n",
      "(48, 49, 'F', 54, 174, 56.0, 173.0)\n",
      "(49, 50, 'F', 75, 162, 75.0, 158.0)\n",
      "(50, 51, 'M', 82, 182, 85.0, 183.0)\n",
      "(51, 52, 'F', 56, 165, 57.0, 163.0)\n",
      "(52, 53, 'M', 74, 169, 73.0, 170.0)\n",
      "(53, 54, 'M', 102, 185, 107.0, 185.0)\n",
      "(54, 55, 'M', 64, 177, None, None)\n",
      "(55, 56, 'M', 65, 176, 64.0, 172.0)\n",
      "(56, 57, 'F', 66, 170, 65.0, None)\n",
      "(57, 58, 'M', 73, 183, 74.0, 180.0)\n",
      "(58, 59, 'M', 75, 172, 70.0, 169.0)\n",
      "(59, 60, 'M', 57, 173, 58.0, 170.0)\n",
      "(60, 61, 'M', 68, 165, 69.0, 165.0)\n",
      "(61, 62, 'M', 71, 177, 71.0, 170.0)\n",
      "(62, 63, 'M', 71, 180, 76.0, 175.0)\n",
      "(63, 64, 'F', 78, 173, 75.0, 169.0)\n",
      "(64, 65, 'M', 97, 189, 98.0, 185.0)\n",
      "(65, 66, 'F', 60, 162, 59.0, 160.0)\n",
      "(66, 67, 'F', 64, 165, 63.0, 163.0)\n",
      "(67, 68, 'F', 64, 164, 62.0, 161.0)\n",
      "(68, 69, 'F', 52, 158, 51.0, 155.0)\n",
      "(69, 70, 'M', 80, 178, 76.0, 175.0)\n",
      "(70, 71, 'F', 62, 175, 61.0, 171.0)\n",
      "(71, 72, 'M', 66, 173, 66.0, 175.0)\n",
      "(72, 73, 'F', 55, 165, 54.0, 163.0)\n",
      "(73, 74, 'F', 56, 163, 57.0, 159.0)\n",
      "(74, 75, 'F', 50, 166, 50.0, 161.0)\n",
      "(75, 76, 'F', 50, 171, None, None)\n",
      "(76, 77, 'F', 50, 160, 55.0, 150.0)\n",
      "(77, 78, 'F', 63, 160, 64.0, 158.0)\n",
      "(78, 79, 'M', 69, 182, 70.0, 180.0)\n",
      "(79, 80, 'M', 69, 183, 70.0, 183.0)\n",
      "(80, 81, 'F', 61, 165, 60.0, 163.0)\n",
      "(81, 82, 'M', 55, 168, 56.0, 170.0)\n",
      "(82, 83, 'F', 53, 169, 52.0, 175.0)\n",
      "(83, 84, 'F', 60, 167, 55.0, 163.0)\n",
      "(84, 85, 'F', 56, 170, 56.0, 170.0)\n",
      "(85, 86, 'M', 59, 182, 61.0, 183.0)\n",
      "(86, 87, 'M', 62, 178, 66.0, 175.0)\n",
      "(87, 88, 'F', 53, 165, 53.0, 165.0)\n",
      "(88, 89, 'F', 57, 163, 59.0, 160.0)\n",
      "(89, 90, 'F', 57, 162, 56.0, 160.0)\n",
      "(90, 91, 'M', 70, 173, 68.0, 170.0)\n",
      "(91, 92, 'F', 56, 161, 56.0, 161.0)\n",
      "(92, 93, 'M', 84, 184, 86.0, 183.0)\n",
      "(93, 94, 'M', 69, 180, 71.0, 180.0)\n",
      "(94, 95, 'M', 88, 189, 87.0, 185.0)\n",
      "(95, 96, 'F', 56, 165, 57.0, 160.0)\n",
      "(96, 97, 'M', 103, 185, 101.0, 182.0)\n",
      "(97, 98, 'F', 50, 169, 50.0, 165.0)\n",
      "(98, 99, 'F', 52, 159, 52.0, 153.0)\n",
      "(99, 100, 'F', 55, 155, None, 154.0)\n",
      "(100, 101, 'F', 55, 164, 55.0, 163.0)\n",
      "(101, 102, 'M', 63, 178, 63.0, 175.0)\n",
      "(102, 103, 'F', 47, 163, 47.0, 160.0)\n",
      "(103, 104, 'F', 45, 163, 45.0, 160.0)\n",
      "(104, 105, 'F', 62, 175, 63.0, 173.0)\n",
      "(105, 106, 'F', 53, 164, 51.0, 160.0)\n",
      "(106, 107, 'F', 52, 152, 51.0, 150.0)\n",
      "(107, 108, 'F', 57, 167, 55.0, 164.0)\n",
      "(108, 109, 'F', 64, 166, 64.0, 165.0)\n",
      "(109, 110, 'F', 59, 166, 55.0, 163.0)\n",
      "(110, 111, 'M', 84, 183, 90.0, 183.0)\n",
      "(111, 112, 'M', 79, 179, 79.0, 171.0)\n",
      "(112, 113, 'F', 55, 174, 57.0, 171.0)\n",
      "(113, 114, 'M', 67, 179, 67.0, 179.0)\n",
      "(114, 115, 'F', 76, 167, 77.0, 165.0)\n",
      "(115, 116, 'F', 62, 168, 62.0, 163.0)\n",
      "(116, 117, 'M', 83, 184, 83.0, 181.0)\n",
      "(117, 118, 'M', 96, 184, 94.0, 183.0)\n",
      "(118, 119, 'M', 75, 169, 76.0, 165.0)\n",
      "(119, 120, 'M', 65, 178, 66.0, 178.0)\n",
      "(120, 121, 'M', 78, 178, 77.0, 175.0)\n",
      "(121, 122, 'M', 69, 167, 73.0, 165.0)\n",
      "(122, 123, 'F', 68, 178, 68.0, 175.0)\n",
      "(123, 124, 'F', 55, 165, 55.0, 163.0)\n",
      "(124, 125, 'M', 67, 179, None, None)\n",
      "(125, 126, 'F', 52, 169, 56.0, None)\n",
      "(126, 127, 'F', 47, 153, None, 154.0)\n",
      "(127, 128, 'F', 45, 157, 45.0, 153.0)\n",
      "(128, 129, 'F', 68, 171, 68.0, 169.0)\n",
      "(129, 130, 'F', 44, 157, 44.0, 155.0)\n",
      "(130, 131, 'F', 62, 166, 61.0, 163.0)\n",
      "(131, 132, 'M', 87, 185, 89.0, 185.0)\n",
      "(132, 133, 'F', 56, 160, 53.0, 158.0)\n",
      "(133, 134, 'F', 50, 148, 47.0, 148.0)\n",
      "(134, 135, 'M', 83, 177, 84.0, 175.0)\n",
      "(135, 136, 'F', 53, 162, 53.0, 160.0)\n",
      "(136, 137, 'F', 64, 172, 62.0, 168.0)\n",
      "(137, 138, 'F', 62, 167, None, None)\n",
      "(138, 139, 'M', 90, 188, 91.0, 185.0)\n",
      "(139, 140, 'M', 85, 191, 83.0, 188.0)\n",
      "(140, 141, 'M', 66, 175, 68.0, 175.0)\n",
      "(141, 142, 'F', 52, 163, 53.0, 160.0)\n",
      "(142, 143, 'F', 53, 165, 55.0, 163.0)\n",
      "(143, 144, 'F', 54, 176, 55.0, 176.0)\n",
      "(144, 145, 'F', 64, 171, 66.0, 171.0)\n",
      "(145, 146, 'F', 55, 160, 55.0, 155.0)\n",
      "(146, 147, 'F', 55, 165, 55.0, 165.0)\n",
      "(147, 148, 'F', 59, 157, 55.0, 158.0)\n",
      "(148, 149, 'F', 70, 173, 67.0, 170.0)\n",
      "(149, 150, 'M', 88, 184, 86.0, 183.0)\n",
      "(150, 151, 'F', 57, 168, 58.0, 165.0)\n",
      "(151, 152, 'F', 47, 162, 47.0, 160.0)\n",
      "(152, 153, 'F', 47, 150, 45.0, 152.0)\n",
      "(153, 154, 'F', 55, 162, None, None)\n",
      "(154, 155, 'F', 48, 163, 44.0, 160.0)\n",
      "(155, 156, 'M', 54, 169, 58.0, 165.0)\n",
      "(156, 157, 'M', 69, 172, 68.0, 174.0)\n",
      "(157, 158, 'F', 59, 170, None, None)\n",
      "(158, 159, 'F', 58, 169, None, None)\n",
      "(159, 160, 'F', 57, 167, 56.0, 165.0)\n",
      "(160, 161, 'F', 51, 163, 50.0, 160.0)\n",
      "(161, 162, 'F', 54, 161, 54.0, 160.0)\n",
      "(162, 163, 'F', 53, 162, 52.0, 158.0)\n",
      "(163, 164, 'F', 59, 172, 58.0, 171.0)\n",
      "(164, 165, 'M', 56, 163, 58.0, 161.0)\n",
      "(165, 166, 'F', 59, 159, 59.0, 155.0)\n",
      "(166, 167, 'F', 63, 170, 62.0, 168.0)\n",
      "(167, 168, 'F', 66, 166, 66.0, 165.0)\n",
      "(168, 169, 'M', 96, 191, 95.0, 188.0)\n",
      "(169, 170, 'F', 53, 158, 50.0, 155.0)\n",
      "(170, 171, 'M', 76, 169, 75.0, 165.0)\n",
      "(171, 172, 'F', 54, 163, None, None)\n",
      "(172, 173, 'M', 61, 170, 61.0, 170.0)\n",
      "(173, 174, 'M', 82, 176, None, None)\n",
      "(174, 175, 'M', 62, 168, 64.0, 168.0)\n",
      "(175, 176, 'M', 71, 178, 68.0, 178.0)\n",
      "(176, 177, 'F', 60, 174, None, None)\n",
      "(177, 178, 'M', 66, 170, 67.0, 165.0)\n",
      "(178, 179, 'M', 81, 178, 82.0, 175.0)\n",
      "(179, 180, 'M', 68, 174, 68.0, 173.0)\n",
      "(180, 181, 'M', 80, 176, 78.0, 175.0)\n",
      "(181, 182, 'F', 43, 154, None, None)\n",
      "(182, 183, 'M', 82, 181, None, None)\n",
      "(183, 184, 'F', 63, 165, 59.0, 160.0)\n",
      "(184, 185, 'M', 70, 173, 70.0, 173.0)\n",
      "(185, 186, 'F', 56, 162, 56.0, 160.0)\n",
      "(186, 187, 'F', 60, 172, 55.0, 168.0)\n",
      "(187, 188, 'F', 58, 169, 54.0, 166.0)\n",
      "(188, 189, 'M', 76, 183, 75.0, 180.0)\n",
      "(189, 190, 'F', 50, 158, 49.0, 155.0)\n",
      "(190, 191, 'M', 88, 185, 93.0, 188.0)\n",
      "(191, 192, 'M', 89, 173, 86.0, 173.0)\n",
      "(192, 193, 'F', 59, 164, 59.0, 165.0)\n",
      "(193, 194, 'F', 51, 156, 51.0, 158.0)\n",
      "(194, 195, 'F', 62, 164, 61.0, 161.0)\n",
      "(195, 196, 'M', 74, 175, 71.0, 175.0)\n",
      "(196, 197, 'M', 83, 180, 80.0, 180.0)\n",
      "(197, 198, 'M', 81, 175, None, None)\n",
      "(198, 199, 'M', 90, 181, 91.0, 178.0)\n",
      "(199, 200, 'M', 79, 177, 81.0, 178.0)\n"
     ]
    }
   ],
   "source": [
    "for record in results:\n",
    "    print(record)"
   ]
  },
  {
   "cell_type": "markdown",
   "metadata": {
    "slideshow": {
     "slide_type": "subslide"
    }
   },
   "source": [
    "Knowing we can iterate through the results from the SQL table, how might we look at the average difference between estimate and reality?"
   ]
  },
  {
   "cell_type": "code",
   "execution_count": 17,
   "metadata": {
    "scrolled": true
   },
   "outputs": [
    {
     "name": "stdout",
     "output_type": "stream",
     "text": [
      "   sqlite:///../data/circulation.sqlite\n",
      " * sqlite:///../data/week2.db\n",
      "Done.\n"
     ]
    },
    {
     "data": {
      "text/html": [
       "<table>\n",
       "    <thead>\n",
       "        <tr>\n",
       "            <th>index</th>\n",
       "            <th>Unnamed: 0</th>\n",
       "            <th>sex</th>\n",
       "            <th>weight</th>\n",
       "            <th>height</th>\n",
       "            <th>repwt</th>\n",
       "            <th>repht</th>\n",
       "        </tr>\n",
       "    </thead>\n",
       "    <tbody>\n",
       "        <tr>\n",
       "            <td>0</td>\n",
       "            <td>1</td>\n",
       "            <td>M</td>\n",
       "            <td>77</td>\n",
       "            <td>182</td>\n",
       "            <td>77.0</td>\n",
       "            <td>180.0</td>\n",
       "        </tr>\n",
       "    </tbody>\n",
       "</table>"
      ],
      "text/plain": [
       "[(0, 1, 'M', 77, 182, 77.0, 180.0)]"
      ]
     },
     "execution_count": 17,
     "metadata": {},
     "output_type": "execute_result"
    }
   ],
   "source": [
    "%sql SELECT * FROM heights LIMIT 1;"
   ]
  },
  {
   "cell_type": "code",
   "execution_count": 18,
   "metadata": {
    "scrolled": true,
    "slideshow": {
     "slide_type": "-"
    }
   },
   "outputs": [
    {
     "name": "stdout",
     "output_type": "stream",
     "text": [
      "   sqlite:///../data/circulation.sqlite\n",
      " * sqlite:///../data/week2.db\n",
      "Done.\n",
      "(0, 1, 'M', 77, 182, 77.0, 180.0)\n",
      "(1, 2, 'F', 58, 161, 51.0, 159.0)\n",
      "(2, 3, 'F', 53, 161, 54.0, 158.0)\n",
      "(3, 4, 'M', 68, 177, 70.0, 175.0)\n",
      "(4, 5, 'F', 59, 157, 59.0, 155.0)\n",
      "(5, 6, 'M', 76, 170, 76.0, 165.0)\n",
      "(6, 7, 'M', 76, 167, 77.0, 165.0)\n",
      "(7, 8, 'M', 69, 186, 73.0, 180.0)\n",
      "(8, 9, 'M', 71, 178, 71.0, 175.0)\n",
      "(9, 10, 'M', 65, 171, 64.0, 170.0)\n",
      "(10, 11, 'M', 70, 175, 75.0, 174.0)\n",
      "(11, 12, 'F', 166, 57, 56.0, 163.0)\n",
      "(12, 13, 'F', 51, 161, 52.0, 158.0)\n",
      "(13, 14, 'F', 64, 168, 64.0, 165.0)\n",
      "(14, 15, 'F', 52, 163, 57.0, 160.0)\n",
      "(15, 16, 'F', 65, 166, 66.0, 165.0)\n",
      "(16, 17, 'M', 92, 187, 101.0, 185.0)\n",
      "(17, 18, 'F', 62, 168, 62.0, 165.0)\n",
      "(18, 19, 'M', 76, 197, 75.0, 200.0)\n",
      "(19, 20, 'F', 61, 175, 61.0, 171.0)\n",
      "(20, 21, 'M', 119, 180, 124.0, 178.0)\n",
      "(21, 22, 'F', 61, 170, 61.0, 170.0)\n",
      "(22, 23, 'M', 65, 175, 66.0, 173.0)\n",
      "(23, 24, 'M', 66, 173, 70.0, 170.0)\n",
      "(24, 25, 'F', 54, 171, 59.0, 168.0)\n",
      "(25, 26, 'F', 50, 166, 50.0, 165.0)\n",
      "(26, 27, 'F', 63, 169, 61.0, 168.0)\n",
      "(27, 28, 'F', 58, 166, 60.0, 160.0)\n",
      "(28, 29, 'F', 39, 157, 41.0, 153.0)\n",
      "(29, 30, 'M', 101, 183, 100.0, 180.0)\n",
      "(30, 31, 'F', 71, 166, 71.0, 165.0)\n",
      "(31, 32, 'M', 75, 178, 73.0, 175.0)\n",
      "(32, 33, 'M', 79, 173, 76.0, 173.0)\n",
      "(33, 34, 'F', 52, 164, 52.0, 161.0)\n",
      "(34, 35, 'F', 68, 169, 63.0, 170.0)\n",
      "(35, 36, 'M', 64, 176, 65.0, 175.0)\n",
      "(36, 37, 'F', 56, 166, 54.0, 165.0)\n",
      "(37, 38, 'M', 69, 174, 69.0, 171.0)\n",
      "(38, 39, 'M', 88, 178, 86.0, 175.0)\n",
      "(39, 40, 'M', 65, 187, 67.0, 188.0)\n",
      "(40, 41, 'F', 54, 164, 53.0, 160.0)\n",
      "(41, 42, 'M', 80, 178, 80.0, 178.0)\n",
      "(42, 43, 'F', 63, 163, 59.0, 159.0)\n",
      "(43, 44, 'M', 78, 183, 80.0, 180.0)\n",
      "(44, 45, 'M', 85, 179, 82.0, 175.0)\n",
      "(45, 46, 'F', 54, 160, 55.0, 158.0)\n",
      "(46, 47, 'M', 73, 180, None, None)\n",
      "(47, 48, 'F', 49, 161, None, None)\n",
      "(48, 49, 'F', 54, 174, 56.0, 173.0)\n",
      "(49, 50, 'F', 75, 162, 75.0, 158.0)\n",
      "(50, 51, 'M', 82, 182, 85.0, 183.0)\n",
      "(51, 52, 'F', 56, 165, 57.0, 163.0)\n",
      "(52, 53, 'M', 74, 169, 73.0, 170.0)\n",
      "(53, 54, 'M', 102, 185, 107.0, 185.0)\n",
      "(54, 55, 'M', 64, 177, None, None)\n",
      "(55, 56, 'M', 65, 176, 64.0, 172.0)\n",
      "(56, 57, 'F', 66, 170, 65.0, None)\n",
      "(57, 58, 'M', 73, 183, 74.0, 180.0)\n",
      "(58, 59, 'M', 75, 172, 70.0, 169.0)\n",
      "(59, 60, 'M', 57, 173, 58.0, 170.0)\n",
      "(60, 61, 'M', 68, 165, 69.0, 165.0)\n",
      "(61, 62, 'M', 71, 177, 71.0, 170.0)\n",
      "(62, 63, 'M', 71, 180, 76.0, 175.0)\n",
      "(63, 64, 'F', 78, 173, 75.0, 169.0)\n",
      "(64, 65, 'M', 97, 189, 98.0, 185.0)\n",
      "(65, 66, 'F', 60, 162, 59.0, 160.0)\n",
      "(66, 67, 'F', 64, 165, 63.0, 163.0)\n",
      "(67, 68, 'F', 64, 164, 62.0, 161.0)\n",
      "(68, 69, 'F', 52, 158, 51.0, 155.0)\n",
      "(69, 70, 'M', 80, 178, 76.0, 175.0)\n",
      "(70, 71, 'F', 62, 175, 61.0, 171.0)\n",
      "(71, 72, 'M', 66, 173, 66.0, 175.0)\n",
      "(72, 73, 'F', 55, 165, 54.0, 163.0)\n",
      "(73, 74, 'F', 56, 163, 57.0, 159.0)\n",
      "(74, 75, 'F', 50, 166, 50.0, 161.0)\n",
      "(75, 76, 'F', 50, 171, None, None)\n",
      "(76, 77, 'F', 50, 160, 55.0, 150.0)\n",
      "(77, 78, 'F', 63, 160, 64.0, 158.0)\n",
      "(78, 79, 'M', 69, 182, 70.0, 180.0)\n",
      "(79, 80, 'M', 69, 183, 70.0, 183.0)\n",
      "(80, 81, 'F', 61, 165, 60.0, 163.0)\n",
      "(81, 82, 'M', 55, 168, 56.0, 170.0)\n",
      "(82, 83, 'F', 53, 169, 52.0, 175.0)\n",
      "(83, 84, 'F', 60, 167, 55.0, 163.0)\n",
      "(84, 85, 'F', 56, 170, 56.0, 170.0)\n",
      "(85, 86, 'M', 59, 182, 61.0, 183.0)\n",
      "(86, 87, 'M', 62, 178, 66.0, 175.0)\n",
      "(87, 88, 'F', 53, 165, 53.0, 165.0)\n",
      "(88, 89, 'F', 57, 163, 59.0, 160.0)\n",
      "(89, 90, 'F', 57, 162, 56.0, 160.0)\n",
      "(90, 91, 'M', 70, 173, 68.0, 170.0)\n",
      "(91, 92, 'F', 56, 161, 56.0, 161.0)\n",
      "(92, 93, 'M', 84, 184, 86.0, 183.0)\n",
      "(93, 94, 'M', 69, 180, 71.0, 180.0)\n",
      "(94, 95, 'M', 88, 189, 87.0, 185.0)\n",
      "(95, 96, 'F', 56, 165, 57.0, 160.0)\n",
      "(96, 97, 'M', 103, 185, 101.0, 182.0)\n",
      "(97, 98, 'F', 50, 169, 50.0, 165.0)\n",
      "(98, 99, 'F', 52, 159, 52.0, 153.0)\n",
      "(99, 100, 'F', 55, 155, None, 154.0)\n",
      "(100, 101, 'F', 55, 164, 55.0, 163.0)\n",
      "(101, 102, 'M', 63, 178, 63.0, 175.0)\n",
      "(102, 103, 'F', 47, 163, 47.0, 160.0)\n",
      "(103, 104, 'F', 45, 163, 45.0, 160.0)\n",
      "(104, 105, 'F', 62, 175, 63.0, 173.0)\n",
      "(105, 106, 'F', 53, 164, 51.0, 160.0)\n",
      "(106, 107, 'F', 52, 152, 51.0, 150.0)\n",
      "(107, 108, 'F', 57, 167, 55.0, 164.0)\n",
      "(108, 109, 'F', 64, 166, 64.0, 165.0)\n",
      "(109, 110, 'F', 59, 166, 55.0, 163.0)\n",
      "(110, 111, 'M', 84, 183, 90.0, 183.0)\n",
      "(111, 112, 'M', 79, 179, 79.0, 171.0)\n",
      "(112, 113, 'F', 55, 174, 57.0, 171.0)\n",
      "(113, 114, 'M', 67, 179, 67.0, 179.0)\n",
      "(114, 115, 'F', 76, 167, 77.0, 165.0)\n",
      "(115, 116, 'F', 62, 168, 62.0, 163.0)\n",
      "(116, 117, 'M', 83, 184, 83.0, 181.0)\n",
      "(117, 118, 'M', 96, 184, 94.0, 183.0)\n",
      "(118, 119, 'M', 75, 169, 76.0, 165.0)\n",
      "(119, 120, 'M', 65, 178, 66.0, 178.0)\n",
      "(120, 121, 'M', 78, 178, 77.0, 175.0)\n",
      "(121, 122, 'M', 69, 167, 73.0, 165.0)\n",
      "(122, 123, 'F', 68, 178, 68.0, 175.0)\n",
      "(123, 124, 'F', 55, 165, 55.0, 163.0)\n",
      "(124, 125, 'M', 67, 179, None, None)\n",
      "(125, 126, 'F', 52, 169, 56.0, None)\n",
      "(126, 127, 'F', 47, 153, None, 154.0)\n",
      "(127, 128, 'F', 45, 157, 45.0, 153.0)\n",
      "(128, 129, 'F', 68, 171, 68.0, 169.0)\n",
      "(129, 130, 'F', 44, 157, 44.0, 155.0)\n",
      "(130, 131, 'F', 62, 166, 61.0, 163.0)\n",
      "(131, 132, 'M', 87, 185, 89.0, 185.0)\n",
      "(132, 133, 'F', 56, 160, 53.0, 158.0)\n",
      "(133, 134, 'F', 50, 148, 47.0, 148.0)\n",
      "(134, 135, 'M', 83, 177, 84.0, 175.0)\n",
      "(135, 136, 'F', 53, 162, 53.0, 160.0)\n",
      "(136, 137, 'F', 64, 172, 62.0, 168.0)\n",
      "(137, 138, 'F', 62, 167, None, None)\n",
      "(138, 139, 'M', 90, 188, 91.0, 185.0)\n",
      "(139, 140, 'M', 85, 191, 83.0, 188.0)\n",
      "(140, 141, 'M', 66, 175, 68.0, 175.0)\n",
      "(141, 142, 'F', 52, 163, 53.0, 160.0)\n",
      "(142, 143, 'F', 53, 165, 55.0, 163.0)\n",
      "(143, 144, 'F', 54, 176, 55.0, 176.0)\n",
      "(144, 145, 'F', 64, 171, 66.0, 171.0)\n",
      "(145, 146, 'F', 55, 160, 55.0, 155.0)\n",
      "(146, 147, 'F', 55, 165, 55.0, 165.0)\n",
      "(147, 148, 'F', 59, 157, 55.0, 158.0)\n",
      "(148, 149, 'F', 70, 173, 67.0, 170.0)\n",
      "(149, 150, 'M', 88, 184, 86.0, 183.0)\n",
      "(150, 151, 'F', 57, 168, 58.0, 165.0)\n",
      "(151, 152, 'F', 47, 162, 47.0, 160.0)\n",
      "(152, 153, 'F', 47, 150, 45.0, 152.0)\n",
      "(153, 154, 'F', 55, 162, None, None)\n",
      "(154, 155, 'F', 48, 163, 44.0, 160.0)\n",
      "(155, 156, 'M', 54, 169, 58.0, 165.0)\n",
      "(156, 157, 'M', 69, 172, 68.0, 174.0)\n",
      "(157, 158, 'F', 59, 170, None, None)\n",
      "(158, 159, 'F', 58, 169, None, None)\n",
      "(159, 160, 'F', 57, 167, 56.0, 165.0)\n",
      "(160, 161, 'F', 51, 163, 50.0, 160.0)\n",
      "(161, 162, 'F', 54, 161, 54.0, 160.0)\n",
      "(162, 163, 'F', 53, 162, 52.0, 158.0)\n",
      "(163, 164, 'F', 59, 172, 58.0, 171.0)\n",
      "(164, 165, 'M', 56, 163, 58.0, 161.0)\n",
      "(165, 166, 'F', 59, 159, 59.0, 155.0)\n",
      "(166, 167, 'F', 63, 170, 62.0, 168.0)\n",
      "(167, 168, 'F', 66, 166, 66.0, 165.0)\n",
      "(168, 169, 'M', 96, 191, 95.0, 188.0)\n",
      "(169, 170, 'F', 53, 158, 50.0, 155.0)\n",
      "(170, 171, 'M', 76, 169, 75.0, 165.0)\n",
      "(171, 172, 'F', 54, 163, None, None)\n",
      "(172, 173, 'M', 61, 170, 61.0, 170.0)\n",
      "(173, 174, 'M', 82, 176, None, None)\n",
      "(174, 175, 'M', 62, 168, 64.0, 168.0)\n",
      "(175, 176, 'M', 71, 178, 68.0, 178.0)\n",
      "(176, 177, 'F', 60, 174, None, None)\n",
      "(177, 178, 'M', 66, 170, 67.0, 165.0)\n",
      "(178, 179, 'M', 81, 178, 82.0, 175.0)\n",
      "(179, 180, 'M', 68, 174, 68.0, 173.0)\n",
      "(180, 181, 'M', 80, 176, 78.0, 175.0)\n",
      "(181, 182, 'F', 43, 154, None, None)\n",
      "(182, 183, 'M', 82, 181, None, None)\n",
      "(183, 184, 'F', 63, 165, 59.0, 160.0)\n",
      "(184, 185, 'M', 70, 173, 70.0, 173.0)\n",
      "(185, 186, 'F', 56, 162, 56.0, 160.0)\n",
      "(186, 187, 'F', 60, 172, 55.0, 168.0)\n",
      "(187, 188, 'F', 58, 169, 54.0, 166.0)\n",
      "(188, 189, 'M', 76, 183, 75.0, 180.0)\n",
      "(189, 190, 'F', 50, 158, 49.0, 155.0)\n",
      "(190, 191, 'M', 88, 185, 93.0, 188.0)\n",
      "(191, 192, 'M', 89, 173, 86.0, 173.0)\n",
      "(192, 193, 'F', 59, 164, 59.0, 165.0)\n",
      "(193, 194, 'F', 51, 156, 51.0, 158.0)\n",
      "(194, 195, 'F', 62, 164, 61.0, 161.0)\n",
      "(195, 196, 'M', 74, 175, 71.0, 175.0)\n",
      "(196, 197, 'M', 83, 180, 80.0, 180.0)\n",
      "(197, 198, 'M', 81, 175, None, None)\n",
      "(198, 199, 'M', 90, 181, 91.0, 178.0)\n",
      "(199, 200, 'M', 79, 177, 81.0, 178.0)\n"
     ]
    }
   ],
   "source": [
    "# Edit this\n",
    "%sql sqlite:///../data/week2.db\n",
    "results = %sql SELECT * FROM heights;\n",
    "for record in results:\n",
    "    print(record)"
   ]
  },
  {
   "cell_type": "code",
   "execution_count": 19,
   "metadata": {
    "scrolled": true,
    "slideshow": {
     "slide_type": "subslide"
    }
   },
   "outputs": [
    {
     "name": "stdout",
     "output_type": "stream",
     "text": [
      "Person 0\n",
      "   The difference between their real and reported height is 2.0\n",
      "   The difference between their real and reported weight is 0.0\n",
      "Person 1\n",
      "   The difference between their real and reported height is 2.0\n",
      "   The difference between their real and reported weight is 7.0\n",
      "Person 2\n",
      "   The difference between their real and reported height is 3.0\n",
      "   The difference between their real and reported weight is -1.0\n",
      "Person 3\n",
      "   The difference between their real and reported height is 2.0\n",
      "   The difference between their real and reported weight is -2.0\n",
      "Person 4\n",
      "   The difference between their real and reported height is 2.0\n",
      "   The difference between their real and reported weight is 0.0\n"
     ]
    }
   ],
   "source": [
    "total_height = 0\n",
    "\n",
    "for id, id2, sex, weight, height, reported_weight, reported_height in results[:5]:\n",
    "    diffh = height - reported_height\n",
    "    diffw = weight - reported_weight\n",
    "    print(\"Person\", id)\n",
    "    print(\"   The difference between their real and reported height is\", diffh)\n",
    "    print(\"   The difference between their real and reported weight is\", diffw)"
   ]
  },
  {
   "cell_type": "code",
   "execution_count": 20,
   "metadata": {
    "slideshow": {
     "slide_type": "subslide"
    }
   },
   "outputs": [
    {
     "data": {
      "text/plain": [
       "170.02"
      ]
     },
     "execution_count": 20,
     "metadata": {},
     "output_type": "execute_result"
    }
   ],
   "source": [
    "total_height = 0  \n",
    "number_of_people = 0 \n",
    "\n",
    "for id, id2, sex, weight, height, reported_weight, reported_height in results:\n",
    "    total_height = total_height + height\n",
    "    number_of_people = number_of_people + 1\n",
    "    \n",
    "total_height / number_of_people"
   ]
  },
  {
   "cell_type": "markdown",
   "metadata": {
    "slideshow": {
     "slide_type": "slide"
    }
   },
   "source": [
    "# More SQL Concepts\n",
    "\n",
    "`LIMIT`, `ORDER BY`, `LIKE`, `OR`, `JOIN`"
   ]
  },
  {
   "cell_type": "markdown",
   "metadata": {
    "slideshow": {
     "slide_type": "subslide"
    }
   },
   "source": [
    "\n",
    "*To follow along*\n",
    "\n",
    "Download [circulation.sqlite](https://github.com/organisciak/Scripting-Course/blob/master/data/circulation.sqlite?raw=true) and place in the same folder as the lab, or run Dr. O's auto-downloading cell. Then connect to it in this way:\n",
    "\n",
    "```\n",
    "%load_ext sql\n",
    "%sql sqlite:///circulation.sqlite\n",
    "```"
   ]
  },
  {
   "cell_type": "code",
   "execution_count": 21,
   "metadata": {
    "slideshow": {
     "slide_type": "fragment"
    }
   },
   "outputs": [],
   "source": [
    "# On Dr. O's computer, the file is not in the same folder, \n",
    "# but one directory up, in a 'data' folder. That's why ../data/ is added here.\n",
    "%sql sqlite:///../data/circulation.sqlite"
   ]
  },
  {
   "cell_type": "markdown",
   "metadata": {
    "slideshow": {
     "slide_type": "slide"
    }
   },
   "source": [
    "## `LIMIT`\n",
    "\n",
    "LIMIT can limit the number of results that SELECT returns. Add it to the end of a `SELECT` statement.\n",
    "\n",
    "```sql\n",
    "SELECT colName\n",
    "    FROM tableName\n",
    "    LIMIT count;\n",
    "```"
   ]
  },
  {
   "cell_type": "code",
   "execution_count": 22,
   "metadata": {
    "slideshow": {
     "slide_type": "subslide"
    }
   },
   "outputs": [
    {
     "name": "stdout",
     "output_type": "stream",
     "text": [
      " * sqlite:///../data/circulation.sqlite\n",
      "   sqlite:///../data/week2.db\n",
      "Done.\n"
     ]
    },
    {
     "data": {
      "text/html": [
       "<table>\n",
       "    <thead>\n",
       "        <tr>\n",
       "            <th>id</th>\n",
       "            <th>name</th>\n",
       "            <th>age</th>\n",
       "            <th>email</th>\n",
       "            <th>zipcode</th>\n",
       "            <th>city</th>\n",
       "            <th>activity</th>\n",
       "        </tr>\n",
       "    </thead>\n",
       "    <tbody>\n",
       "        <tr>\n",
       "            <td>1</td>\n",
       "            <td>Jeremy Mata</td>\n",
       "            <td>30</td>\n",
       "            <td>timothymoore@gmail.com</td>\n",
       "            <td>52022</td>\n",
       "            <td>Thomasmouth</td>\n",
       "            <td>9</td>\n",
       "        </tr>\n",
       "        <tr>\n",
       "            <td>2</td>\n",
       "            <td>Daniel Garcia</td>\n",
       "            <td>55</td>\n",
       "            <td>mcdanielwilliam@sanchez-herrera.biz</td>\n",
       "            <td>09529</td>\n",
       "            <td>Deborahbury</td>\n",
       "            <td>3</td>\n",
       "        </tr>\n",
       "        <tr>\n",
       "            <td>3</td>\n",
       "            <td>Warren Green</td>\n",
       "            <td>17</td>\n",
       "            <td>janice81@flores.com</td>\n",
       "            <td>55036</td>\n",
       "            <td>Michelefurt</td>\n",
       "            <td>1</td>\n",
       "        </tr>\n",
       "        <tr>\n",
       "            <td>4</td>\n",
       "            <td>Erika Smith</td>\n",
       "            <td>4</td>\n",
       "            <td>tnichols@gregory.com</td>\n",
       "            <td>11235</td>\n",
       "            <td>Port Stephanie</td>\n",
       "            <td>3</td>\n",
       "        </tr>\n",
       "        <tr>\n",
       "            <td>5</td>\n",
       "            <td>Matthew Johnson</td>\n",
       "            <td>22</td>\n",
       "            <td>christina30@manning.info</td>\n",
       "            <td>52521</td>\n",
       "            <td>Jamesfort</td>\n",
       "            <td>4</td>\n",
       "        </tr>\n",
       "    </tbody>\n",
       "</table>"
      ],
      "text/plain": [
       "[(1, 'Jeremy Mata', 30, 'timothymoore@gmail.com', '52022', 'Thomasmouth', 9),\n",
       " (2, 'Daniel Garcia', 55, 'mcdanielwilliam@sanchez-herrera.biz', '09529', 'Deborahbury', 3),\n",
       " (3, 'Warren Green', 17, 'janice81@flores.com', '55036', 'Michelefurt', 1),\n",
       " (4, 'Erika Smith', 4, 'tnichols@gregory.com', '11235', 'Port Stephanie', 3),\n",
       " (5, 'Matthew Johnson', 22, 'christina30@manning.info', '52521', 'Jamesfort', 4)]"
      ]
     },
     "execution_count": 22,
     "metadata": {},
     "output_type": "execute_result"
    }
   ],
   "source": [
    "%%sql\n",
    "SELECT * FROM patrons\n",
    "LIMIT 5;"
   ]
  },
  {
   "cell_type": "markdown",
   "metadata": {
    "slideshow": {
     "slide_type": "subslide"
    }
   },
   "source": [
    "### Quick look at our current database"
   ]
  },
  {
   "cell_type": "code",
   "execution_count": 23,
   "metadata": {},
   "outputs": [
    {
     "name": "stdout",
     "output_type": "stream",
     "text": [
      " * sqlite:///../data/circulation.sqlite\n",
      "   sqlite:///../data/week2.db\n",
      "Done.\n"
     ]
    },
    {
     "data": {
      "text/html": [
       "<table>\n",
       "    <thead>\n",
       "        <tr>\n",
       "            <th>book_id</th>\n",
       "            <th>patron_id</th>\n",
       "            <th>checkout_time</th>\n",
       "            <th>return_time</th>\n",
       "        </tr>\n",
       "    </thead>\n",
       "    <tbody>\n",
       "        <tr>\n",
       "            <td>1898</td>\n",
       "            <td>862</td>\n",
       "            <td>2017-05-11 16:53:33.000000</td>\n",
       "            <td>2017-06-09 16:40:11.804214</td>\n",
       "        </tr>\n",
       "        <tr>\n",
       "            <td>450</td>\n",
       "            <td>215</td>\n",
       "            <td>2018-01-05 13:07:20.000000</td>\n",
       "            <td>2018-01-23 10:00:01.071255</td>\n",
       "        </tr>\n",
       "    </tbody>\n",
       "</table>"
      ],
      "text/plain": [
       "[(1898, 862, '2017-05-11 16:53:33.000000', '2017-06-09 16:40:11.804214'),\n",
       " (450, 215, '2018-01-05 13:07:20.000000', '2018-01-23 10:00:01.071255')]"
      ]
     },
     "execution_count": 23,
     "metadata": {},
     "output_type": "execute_result"
    }
   ],
   "source": [
    "%%sql\n",
    "SELECT * FROM circulation\n",
    "    LIMIT 2;"
   ]
  },
  {
   "cell_type": "code",
   "execution_count": 24,
   "metadata": {
    "scrolled": true,
    "slideshow": {
     "slide_type": "-"
    }
   },
   "outputs": [
    {
     "name": "stdout",
     "output_type": "stream",
     "text": [
      " * sqlite:///../data/circulation.sqlite\n",
      "   sqlite:///../data/week2.db\n",
      "Done.\n"
     ]
    },
    {
     "data": {
      "text/html": [
       "<table>\n",
       "    <thead>\n",
       "        <tr>\n",
       "            <th>id</th>\n",
       "            <th>name</th>\n",
       "            <th>age</th>\n",
       "            <th>email</th>\n",
       "            <th>zipcode</th>\n",
       "            <th>city</th>\n",
       "            <th>activity</th>\n",
       "        </tr>\n",
       "    </thead>\n",
       "    <tbody>\n",
       "        <tr>\n",
       "            <td>1</td>\n",
       "            <td>Jeremy Mata</td>\n",
       "            <td>30</td>\n",
       "            <td>timothymoore@gmail.com</td>\n",
       "            <td>52022</td>\n",
       "            <td>Thomasmouth</td>\n",
       "            <td>9</td>\n",
       "        </tr>\n",
       "        <tr>\n",
       "            <td>2</td>\n",
       "            <td>Daniel Garcia</td>\n",
       "            <td>55</td>\n",
       "            <td>mcdanielwilliam@sanchez-herrera.biz</td>\n",
       "            <td>09529</td>\n",
       "            <td>Deborahbury</td>\n",
       "            <td>3</td>\n",
       "        </tr>\n",
       "    </tbody>\n",
       "</table>"
      ],
      "text/plain": [
       "[(1, 'Jeremy Mata', 30, 'timothymoore@gmail.com', '52022', 'Thomasmouth', 9),\n",
       " (2, 'Daniel Garcia', 55, 'mcdanielwilliam@sanchez-herrera.biz', '09529', 'Deborahbury', 3)]"
      ]
     },
     "execution_count": 24,
     "metadata": {},
     "output_type": "execute_result"
    }
   ],
   "source": [
    "%%sql\n",
    "SELECT * FROM patrons\n",
    "    LIMIT 2;"
   ]
  },
  {
   "cell_type": "code",
   "execution_count": 25,
   "metadata": {
    "slideshow": {
     "slide_type": "-"
    }
   },
   "outputs": [
    {
     "name": "stdout",
     "output_type": "stream",
     "text": [
      " * sqlite:///../data/circulation.sqlite\n",
      "   sqlite:///../data/week2.db\n",
      "Done.\n"
     ]
    },
    {
     "data": {
      "text/html": [
       "<table>\n",
       "    <thead>\n",
       "        <tr>\n",
       "            <th>id</th>\n",
       "            <th>title</th>\n",
       "            <th>author</th>\n",
       "            <th>isbn</th>\n",
       "        </tr>\n",
       "    </thead>\n",
       "    <tbody>\n",
       "        <tr>\n",
       "            <td>1</td>\n",
       "            <td>Sun Tzu: Art Of War</td>\n",
       "            <td>Sun Tzu</td>\n",
       "            <td>0-433-19939-3</td>\n",
       "        </tr>\n",
       "        <tr>\n",
       "            <td>2</td>\n",
       "            <td>The Way and Its Power: A Study of the Tao T? Ching and Its Place in Chinese Thought</td>\n",
       "            <td>Arth Estate the</td>\n",
       "            <td>0-213-70445-5</td>\n",
       "        </tr>\n",
       "    </tbody>\n",
       "</table>"
      ],
      "text/plain": [
       "[(1, 'Sun Tzu: Art Of War', 'Sun Tzu', '0-433-19939-3'),\n",
       " (2, 'The Way and Its Power: A Study of the Tao T? Ching and Its Place in Chinese Thought', 'Arth Estate the', '0-213-70445-5')]"
      ]
     },
     "execution_count": 25,
     "metadata": {},
     "output_type": "execute_result"
    }
   ],
   "source": [
    "%%sql\n",
    "SELECT * FROM books\n",
    "    LIMIT 2;"
   ]
  },
  {
   "cell_type": "code",
   "execution_count": 26,
   "metadata": {
    "scrolled": true
   },
   "outputs": [
    {
     "name": "stdout",
     "output_type": "stream",
     "text": [
      " * sqlite:///../data/circulation.sqlite\n",
      "   sqlite:///../data/week2.db\n",
      "Done.\n"
     ]
    },
    {
     "data": {
      "text/html": [
       "<table>\n",
       "    <thead>\n",
       "        <tr>\n",
       "            <th>book_id</th>\n",
       "            <th>patron_id</th>\n",
       "            <th>checkout_time</th>\n",
       "            <th>return_time</th>\n",
       "        </tr>\n",
       "    </thead>\n",
       "    <tbody>\n",
       "        <tr>\n",
       "            <td>1898</td>\n",
       "            <td>862</td>\n",
       "            <td>2017-05-11 16:53:33.000000</td>\n",
       "            <td>2017-06-09 16:40:11.804214</td>\n",
       "        </tr>\n",
       "        <tr>\n",
       "            <td>450</td>\n",
       "            <td>215</td>\n",
       "            <td>2018-01-05 13:07:20.000000</td>\n",
       "            <td>2018-01-23 10:00:01.071255</td>\n",
       "        </tr>\n",
       "    </tbody>\n",
       "</table>"
      ],
      "text/plain": [
       "[(1898, 862, '2017-05-11 16:53:33.000000', '2017-06-09 16:40:11.804214'),\n",
       " (450, 215, '2018-01-05 13:07:20.000000', '2018-01-23 10:00:01.071255')]"
      ]
     },
     "execution_count": 26,
     "metadata": {},
     "output_type": "execute_result"
    }
   ],
   "source": [
    "%%sql\n",
    "SELECT * FROM circulation\n",
    "    LIMIT 2;"
   ]
  },
  {
   "cell_type": "markdown",
   "metadata": {
    "slideshow": {
     "slide_type": "subslide"
    }
   },
   "source": [
    "## Paging\n",
    "\n",
    "`LIMIT offset, count`"
   ]
  },
  {
   "cell_type": "code",
   "execution_count": 27,
   "metadata": {},
   "outputs": [
    {
     "name": "stdout",
     "output_type": "stream",
     "text": [
      " * sqlite:///../data/circulation.sqlite\n",
      "   sqlite:///../data/week2.db\n",
      "Done.\n"
     ]
    },
    {
     "data": {
      "text/html": [
       "<table>\n",
       "    <thead>\n",
       "        <tr>\n",
       "            <th>id</th>\n",
       "            <th>name</th>\n",
       "            <th>age</th>\n",
       "            <th>email</th>\n",
       "            <th>zipcode</th>\n",
       "            <th>city</th>\n",
       "            <th>activity</th>\n",
       "        </tr>\n",
       "    </thead>\n",
       "    <tbody>\n",
       "        <tr>\n",
       "            <td>6</td>\n",
       "            <td>Jackson Jackson</td>\n",
       "            <td>6</td>\n",
       "            <td>vincent18@compton-figueroa.com</td>\n",
       "            <td>83620</td>\n",
       "            <td>Irwinside</td>\n",
       "            <td>5</td>\n",
       "        </tr>\n",
       "        <tr>\n",
       "            <td>7</td>\n",
       "            <td>Sarah Brown</td>\n",
       "            <td>19</td>\n",
       "            <td>tyler16@mendoza.biz</td>\n",
       "            <td>98407</td>\n",
       "            <td>Kevinmouth</td>\n",
       "            <td>4</td>\n",
       "        </tr>\n",
       "        <tr>\n",
       "            <td>8</td>\n",
       "            <td>Michael Barnett</td>\n",
       "            <td>46</td>\n",
       "            <td>keith30@andersen.com</td>\n",
       "            <td>56064</td>\n",
       "            <td>Marystad</td>\n",
       "            <td>7</td>\n",
       "        </tr>\n",
       "        <tr>\n",
       "            <td>9</td>\n",
       "            <td>Hector Hill</td>\n",
       "            <td>31</td>\n",
       "            <td>ztaylor@watts.com</td>\n",
       "            <td>13482</td>\n",
       "            <td>Thomasmouth</td>\n",
       "            <td>2</td>\n",
       "        </tr>\n",
       "        <tr>\n",
       "            <td>10</td>\n",
       "            <td>Julie Barron</td>\n",
       "            <td>31</td>\n",
       "            <td>clarknorman@hotmail.com</td>\n",
       "            <td>45597</td>\n",
       "            <td>East Williamport</td>\n",
       "            <td>4</td>\n",
       "        </tr>\n",
       "    </tbody>\n",
       "</table>"
      ],
      "text/plain": [
       "[(6, 'Jackson Jackson', 6, 'vincent18@compton-figueroa.com', '83620', 'Irwinside', 5),\n",
       " (7, 'Sarah Brown', 19, 'tyler16@mendoza.biz', '98407', 'Kevinmouth', 4),\n",
       " (8, 'Michael Barnett', 46, 'keith30@andersen.com', '56064', 'Marystad', 7),\n",
       " (9, 'Hector Hill', 31, 'ztaylor@watts.com', '13482', 'Thomasmouth', 2),\n",
       " (10, 'Julie Barron', 31, 'clarknorman@hotmail.com', '45597', 'East Williamport', 4)]"
      ]
     },
     "execution_count": 27,
     "metadata": {},
     "output_type": "execute_result"
    }
   ],
   "source": [
    "%%sql\n",
    "SELECT * FROM patrons\n",
    "    LIMIT 5, 5;"
   ]
  },
  {
   "cell_type": "markdown",
   "metadata": {
    "slideshow": {
     "slide_type": "subslide"
    }
   },
   "source": [
    "## `ORDER BY`\n",
    "\n",
    " > `ORDER BY columnName DESC|ASC`\n",
    "\n",
    "`ORDER BY` allows you to specify a column to sort by, and whether it is sorted in ascending order (`ASC`) or descending order (`DESC`)."
   ]
  },
  {
   "cell_type": "code",
   "execution_count": 28,
   "metadata": {
    "scrolled": true,
    "slideshow": {
     "slide_type": "subslide"
    }
   },
   "outputs": [
    {
     "name": "stdout",
     "output_type": "stream",
     "text": [
      "Done.\n"
     ]
    },
    {
     "data": {
      "text/html": [
       "<table>\n",
       "    <thead>\n",
       "        <tr>\n",
       "            <th>id</th>\n",
       "            <th>name</th>\n",
       "            <th>age</th>\n",
       "            <th>email</th>\n",
       "            <th>zipcode</th>\n",
       "            <th>city</th>\n",
       "            <th>activity</th>\n",
       "        </tr>\n",
       "    </thead>\n",
       "    <tbody>\n",
       "        <tr>\n",
       "            <td>516</td>\n",
       "            <td>Latoya Clark</td>\n",
       "            <td>82</td>\n",
       "            <td>lanceosborne@hotmail.com</td>\n",
       "            <td>79851</td>\n",
       "            <td>Deborahbury</td>\n",
       "            <td>9</td>\n",
       "        </tr>\n",
       "        <tr>\n",
       "            <td>911</td>\n",
       "            <td>Jackie Arias</td>\n",
       "            <td>80</td>\n",
       "            <td>sandra83@ramirez-wheeler.com</td>\n",
       "            <td>53858</td>\n",
       "            <td>Michelefurt</td>\n",
       "            <td>9</td>\n",
       "        </tr>\n",
       "        <tr>\n",
       "            <td>89</td>\n",
       "            <td>Jennifer Bradley</td>\n",
       "            <td>79</td>\n",
       "            <td>jacquelinenoble@williams-ayala.com</td>\n",
       "            <td>63196</td>\n",
       "            <td>Port Stephanie</td>\n",
       "            <td>4</td>\n",
       "        </tr>\n",
       "        <tr>\n",
       "            <td>385</td>\n",
       "            <td>Shannon Smith</td>\n",
       "            <td>79</td>\n",
       "            <td>christinamullen@yahoo.com</td>\n",
       "            <td>24061</td>\n",
       "            <td>Walkerview</td>\n",
       "            <td>0</td>\n",
       "        </tr>\n",
       "        <tr>\n",
       "            <td>238</td>\n",
       "            <td>Christopher James</td>\n",
       "            <td>78</td>\n",
       "            <td>cookchristopher@yahoo.com</td>\n",
       "            <td>71849</td>\n",
       "            <td>Cooperton</td>\n",
       "            <td>4</td>\n",
       "        </tr>\n",
       "    </tbody>\n",
       "</table>"
      ],
      "text/plain": [
       "[(516, 'Latoya Clark', 82, 'lanceosborne@hotmail.com', '79851', 'Deborahbury', 9),\n",
       " (911, 'Jackie Arias', 80, 'sandra83@ramirez-wheeler.com', '53858', 'Michelefurt', 9),\n",
       " (89, 'Jennifer Bradley', 79, 'jacquelinenoble@williams-ayala.com', '63196', 'Port Stephanie', 4),\n",
       " (385, 'Shannon Smith', 79, 'christinamullen@yahoo.com', '24061', 'Walkerview', 0),\n",
       " (238, 'Christopher James', 78, 'cookchristopher@yahoo.com', '71849', 'Cooperton', 4)]"
      ]
     },
     "execution_count": 28,
     "metadata": {},
     "output_type": "execute_result"
    }
   ],
   "source": [
    "%%sql sqlite:///../data/circulation.sqlite\n",
    "SELECT * FROM patrons\n",
    "    ORDER BY age DESC\n",
    "    LIMIT 5; "
   ]
  },
  {
   "cell_type": "code",
   "execution_count": 29,
   "metadata": {
    "scrolled": true,
    "slideshow": {
     "slide_type": "subslide"
    }
   },
   "outputs": [
    {
     "name": "stdout",
     "output_type": "stream",
     "text": [
      " * sqlite:///../data/circulation.sqlite\n",
      "   sqlite:///../data/week2.db\n",
      "Done.\n"
     ]
    },
    {
     "data": {
      "text/html": [
       "<table>\n",
       "    <thead>\n",
       "        <tr>\n",
       "            <th>id</th>\n",
       "            <th>name</th>\n",
       "            <th>age</th>\n",
       "            <th>email</th>\n",
       "            <th>zipcode</th>\n",
       "            <th>city</th>\n",
       "            <th>activity</th>\n",
       "        </tr>\n",
       "    </thead>\n",
       "    <tbody>\n",
       "        <tr>\n",
       "            <td>149</td>\n",
       "            <td>Aaron Lindsey</td>\n",
       "            <td>23</td>\n",
       "            <td>nancyzuniga@reed.com</td>\n",
       "            <td>34642</td>\n",
       "            <td>Colechester</td>\n",
       "            <td>8</td>\n",
       "        </tr>\n",
       "        <tr>\n",
       "            <td>25</td>\n",
       "            <td>Aaron Sampson</td>\n",
       "            <td>29</td>\n",
       "            <td>mark96@matthews.com</td>\n",
       "            <td>05855</td>\n",
       "            <td>East Brookefort</td>\n",
       "            <td>2</td>\n",
       "        </tr>\n",
       "        <tr>\n",
       "            <td>548</td>\n",
       "            <td>Aaron Savage</td>\n",
       "            <td>30</td>\n",
       "            <td>phillipsjason@haynes.com</td>\n",
       "            <td>96235</td>\n",
       "            <td>Jamesfort</td>\n",
       "            <td>7</td>\n",
       "        </tr>\n",
       "        <tr>\n",
       "            <td>654</td>\n",
       "            <td>Aaron Shah</td>\n",
       "            <td>24</td>\n",
       "            <td>khill@yahoo.com</td>\n",
       "            <td>10017</td>\n",
       "            <td>Normanville</td>\n",
       "            <td>1</td>\n",
       "        </tr>\n",
       "        <tr>\n",
       "            <td>416</td>\n",
       "            <td>Abigail Vazquez</td>\n",
       "            <td>40</td>\n",
       "            <td>becky04@alexander-ellis.com</td>\n",
       "            <td>98164</td>\n",
       "            <td>Lake Marissa</td>\n",
       "            <td>0</td>\n",
       "        </tr>\n",
       "    </tbody>\n",
       "</table>"
      ],
      "text/plain": [
       "[(149, 'Aaron Lindsey', 23, 'nancyzuniga@reed.com', '34642', 'Colechester', 8),\n",
       " (25, 'Aaron Sampson', 29, 'mark96@matthews.com', '05855', 'East Brookefort', 2),\n",
       " (548, 'Aaron Savage', 30, 'phillipsjason@haynes.com', '96235', 'Jamesfort', 7),\n",
       " (654, 'Aaron Shah', 24, 'khill@yahoo.com', '10017', 'Normanville', 1),\n",
       " (416, 'Abigail Vazquez', 40, 'becky04@alexander-ellis.com', '98164', 'Lake Marissa', 0)]"
      ]
     },
     "execution_count": 29,
     "metadata": {},
     "output_type": "execute_result"
    }
   ],
   "source": [
    "%%sql\n",
    "SELECT * FROM patrons\n",
    "    ORDER BY name ASC\n",
    "    LIMIT 5; "
   ]
  },
  {
   "cell_type": "markdown",
   "metadata": {
    "slideshow": {
     "slide_type": "slide"
    }
   },
   "source": [
    "Review: when using a `WHERE` clause, how do we ask for multiple conditions?\n",
    "\n",
    "_e.g. Select patrons that are 23 and have a library activity level of 7:_"
   ]
  },
  {
   "cell_type": "code",
   "execution_count": 30,
   "metadata": {},
   "outputs": [
    {
     "name": "stdout",
     "output_type": "stream",
     "text": [
      " * sqlite:///../data/circulation.sqlite\n",
      "   sqlite:///../data/week2.db\n",
      "Done.\n"
     ]
    },
    {
     "data": {
      "text/html": [
       "<table>\n",
       "    <thead>\n",
       "        <tr>\n",
       "            <th>id</th>\n",
       "            <th>name</th>\n",
       "            <th>age</th>\n",
       "            <th>email</th>\n",
       "            <th>zipcode</th>\n",
       "            <th>city</th>\n",
       "            <th>activity</th>\n",
       "        </tr>\n",
       "    </thead>\n",
       "    <tbody>\n",
       "        <tr>\n",
       "            <td>23</td>\n",
       "            <td>Brittany Coleman</td>\n",
       "            <td>23</td>\n",
       "            <td>watsonscott@gmail.com</td>\n",
       "            <td>34912</td>\n",
       "            <td>North Stephenfort</td>\n",
       "            <td>7</td>\n",
       "        </tr>\n",
       "        <tr>\n",
       "            <td>517</td>\n",
       "            <td>Christina Bush</td>\n",
       "            <td>23</td>\n",
       "            <td>moranjennifer@hotmail.com</td>\n",
       "            <td>94699</td>\n",
       "            <td>South Danielport</td>\n",
       "            <td>7</td>\n",
       "        </tr>\n",
       "    </tbody>\n",
       "</table>"
      ],
      "text/plain": [
       "[(23, 'Brittany Coleman', 23, 'watsonscott@gmail.com', '34912', 'North Stephenfort', 7),\n",
       " (517, 'Christina Bush', 23, 'moranjennifer@hotmail.com', '94699', 'South Danielport', 7)]"
      ]
     },
     "execution_count": 30,
     "metadata": {},
     "output_type": "execute_result"
    }
   ],
   "source": [
    "%%sql\n",
    "SELECT * FROM patrons\n",
    "    WHERE age == 23 AND activity == 7"
   ]
  },
  {
   "cell_type": "code",
   "execution_count": 31,
   "metadata": {
    "slideshow": {
     "slide_type": "subslide"
    }
   },
   "outputs": [
    {
     "name": "stdout",
     "output_type": "stream",
     "text": [
      " * sqlite:///../data/circulation.sqlite\n",
      "   sqlite:///../data/week2.db\n",
      "Done.\n"
     ]
    },
    {
     "data": {
      "text/html": [
       "<table>\n",
       "    <thead>\n",
       "        <tr>\n",
       "            <th>id</th>\n",
       "            <th>name</th>\n",
       "            <th>age</th>\n",
       "            <th>email</th>\n",
       "            <th>zipcode</th>\n",
       "            <th>city</th>\n",
       "            <th>activity</th>\n",
       "        </tr>\n",
       "    </thead>\n",
       "    <tbody>\n",
       "    </tbody>\n",
       "</table>"
      ],
      "text/plain": [
       "[]"
      ]
     },
     "execution_count": 31,
     "metadata": {},
     "output_type": "execute_result"
    }
   ],
   "source": [
    "%%sql\n",
    "SELECT * FROM patrons\n",
    "    WHERE age == 23 AND age == 22;"
   ]
  },
  {
   "cell_type": "markdown",
   "metadata": {
    "slideshow": {
     "slide_type": "fragment"
    }
   },
   "source": [
    "What about people that are just one of those conditions: either 23 years old or have an activity level of 7?"
   ]
  },
  {
   "cell_type": "markdown",
   "metadata": {
    "slideshow": {
     "slide_type": "subslide"
    }
   },
   "source": [
    "## `OR`"
   ]
  },
  {
   "cell_type": "code",
   "execution_count": null,
   "metadata": {
    "slideshow": {
     "slide_type": "-"
    }
   },
   "outputs": [],
   "source": [
    "%%sql\n",
    "SELECT * FROM patrons\n",
    "    WHERE ...;"
   ]
  },
  {
   "cell_type": "code",
   "execution_count": 33,
   "metadata": {
    "slideshow": {
     "slide_type": "subslide"
    }
   },
   "outputs": [
    {
     "name": "stdout",
     "output_type": "stream",
     "text": [
      " * sqlite:///../data/circulation.sqlite\n",
      "   sqlite:///../data/week2.db\n",
      "Done.\n"
     ]
    },
    {
     "data": {
      "text/html": [
       "<table>\n",
       "    <thead>\n",
       "        <tr>\n",
       "            <th>id</th>\n",
       "            <th>name</th>\n",
       "            <th>age</th>\n",
       "            <th>email</th>\n",
       "            <th>zipcode</th>\n",
       "            <th>city</th>\n",
       "            <th>activity</th>\n",
       "        </tr>\n",
       "    </thead>\n",
       "    <tbody>\n",
       "        <tr>\n",
       "            <td>8</td>\n",
       "            <td>Michael Barnett</td>\n",
       "            <td>46</td>\n",
       "            <td>keith30@andersen.com</td>\n",
       "            <td>56064</td>\n",
       "            <td>Marystad</td>\n",
       "            <td>7</td>\n",
       "        </tr>\n",
       "        <tr>\n",
       "            <td>18</td>\n",
       "            <td>Vanessa Owen</td>\n",
       "            <td>12</td>\n",
       "            <td>hbailey@foley.com</td>\n",
       "            <td>39489</td>\n",
       "            <td>East Brookefort</td>\n",
       "            <td>7</td>\n",
       "        </tr>\n",
       "        <tr>\n",
       "            <td>23</td>\n",
       "            <td>Brittany Coleman</td>\n",
       "            <td>23</td>\n",
       "            <td>watsonscott@gmail.com</td>\n",
       "            <td>34912</td>\n",
       "            <td>North Stephenfort</td>\n",
       "            <td>7</td>\n",
       "        </tr>\n",
       "        <tr>\n",
       "            <td>24</td>\n",
       "            <td>Justin Butler</td>\n",
       "            <td>21</td>\n",
       "            <td>justinmejia@hotmail.com</td>\n",
       "            <td>51105</td>\n",
       "            <td>Romerofort</td>\n",
       "            <td>7</td>\n",
       "        </tr>\n",
       "        <tr>\n",
       "            <td>32</td>\n",
       "            <td>Tiffany Brooks</td>\n",
       "            <td>31</td>\n",
       "            <td>jeffreyburgess@gmail.com</td>\n",
       "            <td>10722</td>\n",
       "            <td>South Matthew</td>\n",
       "            <td>7</td>\n",
       "        </tr>\n",
       "        <tr>\n",
       "            <td>39</td>\n",
       "            <td>William Henderson</td>\n",
       "            <td>37</td>\n",
       "            <td>michaellee@hotmail.com</td>\n",
       "            <td>25139</td>\n",
       "            <td>New Terri</td>\n",
       "            <td>7</td>\n",
       "        </tr>\n",
       "        <tr>\n",
       "            <td>66</td>\n",
       "            <td>Mr. Andrew Hahn</td>\n",
       "            <td>23</td>\n",
       "            <td>showard@lee.com</td>\n",
       "            <td>50404</td>\n",
       "            <td>Colechester</td>\n",
       "            <td>0</td>\n",
       "        </tr>\n",
       "        <tr>\n",
       "            <td>69</td>\n",
       "            <td>Matthew Nielsen</td>\n",
       "            <td>39</td>\n",
       "            <td>gregory94@yahoo.com</td>\n",
       "            <td>36438</td>\n",
       "            <td>East Brookefort</td>\n",
       "            <td>7</td>\n",
       "        </tr>\n",
       "        <tr>\n",
       "            <td>72</td>\n",
       "            <td>Carolyn Jackson</td>\n",
       "            <td>32</td>\n",
       "            <td>nicole44@walls-anderson.com</td>\n",
       "            <td>49528</td>\n",
       "            <td>North Melissabury</td>\n",
       "            <td>7</td>\n",
       "        </tr>\n",
       "        <tr>\n",
       "            <td>76</td>\n",
       "            <td>Elizabeth Contreras</td>\n",
       "            <td>4</td>\n",
       "            <td>nmolina@gmail.com</td>\n",
       "            <td>51577</td>\n",
       "            <td>Loganchester</td>\n",
       "            <td>7</td>\n",
       "        </tr>\n",
       "        <tr>\n",
       "            <td>92</td>\n",
       "            <td>Andrew Allison</td>\n",
       "            <td>43</td>\n",
       "            <td>ocontreras@yahoo.com</td>\n",
       "            <td>38735</td>\n",
       "            <td>North Stephenfort</td>\n",
       "            <td>7</td>\n",
       "        </tr>\n",
       "        <tr>\n",
       "            <td>96</td>\n",
       "            <td>Ryan Brown</td>\n",
       "            <td>19</td>\n",
       "            <td>alvarezelizabeth@hotmail.com</td>\n",
       "            <td>40498</td>\n",
       "            <td>New Hannah</td>\n",
       "            <td>7</td>\n",
       "        </tr>\n",
       "        <tr>\n",
       "            <td>100</td>\n",
       "            <td>Linda Taylor</td>\n",
       "            <td>46</td>\n",
       "            <td>garzacindy@reyes.org</td>\n",
       "            <td>97791</td>\n",
       "            <td>Port Stephanie</td>\n",
       "            <td>7</td>\n",
       "        </tr>\n",
       "        <tr>\n",
       "            <td>108</td>\n",
       "            <td>Gary Clark</td>\n",
       "            <td>29</td>\n",
       "            <td>anthonysilva@yahoo.com</td>\n",
       "            <td>92464</td>\n",
       "            <td>North Stephenfort</td>\n",
       "            <td>7</td>\n",
       "        </tr>\n",
       "        <tr>\n",
       "            <td>114</td>\n",
       "            <td>Olivia Perry</td>\n",
       "            <td>28</td>\n",
       "            <td>angelachambers@zamora-bradshaw.com</td>\n",
       "            <td>52321</td>\n",
       "            <td>Cooperton</td>\n",
       "            <td>7</td>\n",
       "        </tr>\n",
       "        <tr>\n",
       "            <td>124</td>\n",
       "            <td>Ashlee Marquez</td>\n",
       "            <td>39</td>\n",
       "            <td>zherrera@hotmail.com</td>\n",
       "            <td>48657</td>\n",
       "            <td>Port Stephanie</td>\n",
       "            <td>7</td>\n",
       "        </tr>\n",
       "        <tr>\n",
       "            <td>140</td>\n",
       "            <td>Richard Thomas</td>\n",
       "            <td>40</td>\n",
       "            <td>nfoster@mills-aguilar.com</td>\n",
       "            <td>53950</td>\n",
       "            <td>Walkerview</td>\n",
       "            <td>7</td>\n",
       "        </tr>\n",
       "        <tr>\n",
       "            <td>149</td>\n",
       "            <td>Aaron Lindsey</td>\n",
       "            <td>23</td>\n",
       "            <td>nancyzuniga@reed.com</td>\n",
       "            <td>34642</td>\n",
       "            <td>Colechester</td>\n",
       "            <td>8</td>\n",
       "        </tr>\n",
       "        <tr>\n",
       "            <td>150</td>\n",
       "            <td>Cody Reed</td>\n",
       "            <td>19</td>\n",
       "            <td>roger05@yahoo.com</td>\n",
       "            <td>07859</td>\n",
       "            <td>Colechester</td>\n",
       "            <td>7</td>\n",
       "        </tr>\n",
       "        <tr>\n",
       "            <td>156</td>\n",
       "            <td>Connie Lawrence</td>\n",
       "            <td>40</td>\n",
       "            <td>xparker@gmail.com</td>\n",
       "            <td>93753</td>\n",
       "            <td>Brianchester</td>\n",
       "            <td>7</td>\n",
       "        </tr>\n",
       "        <tr>\n",
       "            <td>163</td>\n",
       "            <td>Nathan Moore</td>\n",
       "            <td>34</td>\n",
       "            <td>juan94@yahoo.com</td>\n",
       "            <td>83166</td>\n",
       "            <td>Port Stephanie</td>\n",
       "            <td>7</td>\n",
       "        </tr>\n",
       "        <tr>\n",
       "            <td>171</td>\n",
       "            <td>Tamara Jenkins</td>\n",
       "            <td>23</td>\n",
       "            <td>donaldsonamy@smith-baker.info</td>\n",
       "            <td>72530</td>\n",
       "            <td>Doughertyside</td>\n",
       "            <td>5</td>\n",
       "        </tr>\n",
       "        <tr>\n",
       "            <td>179</td>\n",
       "            <td>Mr. Kevin Lewis</td>\n",
       "            <td>32</td>\n",
       "            <td>zamoratiffany@yahoo.com</td>\n",
       "            <td>53680</td>\n",
       "            <td>Lake Marissa</td>\n",
       "            <td>7</td>\n",
       "        </tr>\n",
       "        <tr>\n",
       "            <td>182</td>\n",
       "            <td>Chad Bell</td>\n",
       "            <td>43</td>\n",
       "            <td>colleen78@smith.com</td>\n",
       "            <td>09479</td>\n",
       "            <td>Colechester</td>\n",
       "            <td>7</td>\n",
       "        </tr>\n",
       "        <tr>\n",
       "            <td>189</td>\n",
       "            <td>Joel Tran</td>\n",
       "            <td>23</td>\n",
       "            <td>patricklucas@hotmail.com</td>\n",
       "            <td>61576</td>\n",
       "            <td>Lake Michaelfort</td>\n",
       "            <td>1</td>\n",
       "        </tr>\n",
       "        <tr>\n",
       "            <td>198</td>\n",
       "            <td>Richard Brown</td>\n",
       "            <td>23</td>\n",
       "            <td>ismith@hotmail.com</td>\n",
       "            <td>89519</td>\n",
       "            <td>North Melissabury</td>\n",
       "            <td>5</td>\n",
       "        </tr>\n",
       "        <tr>\n",
       "            <td>203</td>\n",
       "            <td>Michelle Guerrero</td>\n",
       "            <td>42</td>\n",
       "            <td>john82@medina.org</td>\n",
       "            <td>82779</td>\n",
       "            <td>Colechester</td>\n",
       "            <td>7</td>\n",
       "        </tr>\n",
       "        <tr>\n",
       "            <td>249</td>\n",
       "            <td>Kathleen Smith</td>\n",
       "            <td>5</td>\n",
       "            <td>stacey08@martinez.biz</td>\n",
       "            <td>58065</td>\n",
       "            <td>East Pamelaburgh</td>\n",
       "            <td>7</td>\n",
       "        </tr>\n",
       "        <tr>\n",
       "            <td>261</td>\n",
       "            <td>Tammie Rodriguez</td>\n",
       "            <td>0</td>\n",
       "            <td>karenhughes@gmail.com</td>\n",
       "            <td>54179</td>\n",
       "            <td>Deborahbury</td>\n",
       "            <td>7</td>\n",
       "        </tr>\n",
       "        <tr>\n",
       "            <td>271</td>\n",
       "            <td>Frank Franklin</td>\n",
       "            <td>23</td>\n",
       "            <td>morrowmatthew@yahoo.com</td>\n",
       "            <td>46865</td>\n",
       "            <td>Lake Michaelfort</td>\n",
       "            <td>1</td>\n",
       "        </tr>\n",
       "        <tr>\n",
       "            <td>273</td>\n",
       "            <td>Steven Ramirez MD</td>\n",
       "            <td>31</td>\n",
       "            <td>obailey@washington.net</td>\n",
       "            <td>33272</td>\n",
       "            <td>Gabriellechester</td>\n",
       "            <td>7</td>\n",
       "        </tr>\n",
       "        <tr>\n",
       "            <td>274</td>\n",
       "            <td>Julie Richards</td>\n",
       "            <td>4</td>\n",
       "            <td>vgomez@kirk.biz</td>\n",
       "            <td>28993</td>\n",
       "            <td>Deborahbury</td>\n",
       "            <td>7</td>\n",
       "        </tr>\n",
       "        <tr>\n",
       "            <td>275</td>\n",
       "            <td>Scott Bell</td>\n",
       "            <td>44</td>\n",
       "            <td>jason84@yahoo.com</td>\n",
       "            <td>20699</td>\n",
       "            <td>Lake Marissa</td>\n",
       "            <td>7</td>\n",
       "        </tr>\n",
       "        <tr>\n",
       "            <td>288</td>\n",
       "            <td>James Kennedy</td>\n",
       "            <td>23</td>\n",
       "            <td>stephenshannah@patel.com</td>\n",
       "            <td>54653</td>\n",
       "            <td>New Terri</td>\n",
       "            <td>2</td>\n",
       "        </tr>\n",
       "        <tr>\n",
       "            <td>300</td>\n",
       "            <td>Daniel Duncan</td>\n",
       "            <td>50</td>\n",
       "            <td>bakeramber@coleman-bowers.com</td>\n",
       "            <td>81882</td>\n",
       "            <td>Rothton</td>\n",
       "            <td>7</td>\n",
       "        </tr>\n",
       "        <tr>\n",
       "            <td>301</td>\n",
       "            <td>Carolyn Jones</td>\n",
       "            <td>23</td>\n",
       "            <td>foleybrian@hotmail.com</td>\n",
       "            <td>16822</td>\n",
       "            <td>South Amandabury</td>\n",
       "            <td>8</td>\n",
       "        </tr>\n",
       "        <tr>\n",
       "            <td>305</td>\n",
       "            <td>John Wells</td>\n",
       "            <td>23</td>\n",
       "            <td>caitlin32@hotmail.com</td>\n",
       "            <td>13761</td>\n",
       "            <td>Rothton</td>\n",
       "            <td>2</td>\n",
       "        </tr>\n",
       "        <tr>\n",
       "            <td>311</td>\n",
       "            <td>Ronald Patterson</td>\n",
       "            <td>35</td>\n",
       "            <td>hdelgado@harris-wright.info</td>\n",
       "            <td>72175</td>\n",
       "            <td>Irwinside</td>\n",
       "            <td>7</td>\n",
       "        </tr>\n",
       "        <tr>\n",
       "            <td>318</td>\n",
       "            <td>Laura Davis</td>\n",
       "            <td>55</td>\n",
       "            <td>burkejoshua@bennett.com</td>\n",
       "            <td>55741</td>\n",
       "            <td>North Stephenfort</td>\n",
       "            <td>7</td>\n",
       "        </tr>\n",
       "        <tr>\n",
       "            <td>319</td>\n",
       "            <td>Patricia Suarez</td>\n",
       "            <td>27</td>\n",
       "            <td>olsoncathy@hotmail.com</td>\n",
       "            <td>62905</td>\n",
       "            <td>South Matthew</td>\n",
       "            <td>7</td>\n",
       "        </tr>\n",
       "        <tr>\n",
       "            <td>320</td>\n",
       "            <td>Melissa Lee</td>\n",
       "            <td>8</td>\n",
       "            <td>george87@yahoo.com</td>\n",
       "            <td>88123</td>\n",
       "            <td>North Cristinaview</td>\n",
       "            <td>7</td>\n",
       "        </tr>\n",
       "        <tr>\n",
       "            <td>328</td>\n",
       "            <td>Peter Mueller</td>\n",
       "            <td>36</td>\n",
       "            <td>cortezjames@anderson.biz</td>\n",
       "            <td>44867</td>\n",
       "            <td>Lake Marissa</td>\n",
       "            <td>7</td>\n",
       "        </tr>\n",
       "        <tr>\n",
       "            <td>332</td>\n",
       "            <td>Arthur Haynes</td>\n",
       "            <td>18</td>\n",
       "            <td>steven52@yahoo.com</td>\n",
       "            <td>80823</td>\n",
       "            <td>Colechester</td>\n",
       "            <td>7</td>\n",
       "        </tr>\n",
       "        <tr>\n",
       "            <td>338</td>\n",
       "            <td>Kyle Torres</td>\n",
       "            <td>23</td>\n",
       "            <td>gutierrezsharon@gmail.com</td>\n",
       "            <td>55577</td>\n",
       "            <td>Irwinside</td>\n",
       "            <td>3</td>\n",
       "        </tr>\n",
       "        <tr>\n",
       "            <td>346</td>\n",
       "            <td>Jamie Patel</td>\n",
       "            <td>57</td>\n",
       "            <td>ggonzalez@shelton-jones.info</td>\n",
       "            <td>75196</td>\n",
       "            <td>Colechester</td>\n",
       "            <td>7</td>\n",
       "        </tr>\n",
       "        <tr>\n",
       "            <td>359</td>\n",
       "            <td>Cindy Hale</td>\n",
       "            <td>43</td>\n",
       "            <td>april50@cannon-mcclure.info</td>\n",
       "            <td>72176</td>\n",
       "            <td>North Melinda</td>\n",
       "            <td>7</td>\n",
       "        </tr>\n",
       "        <tr>\n",
       "            <td>360</td>\n",
       "            <td>Angela Mullins</td>\n",
       "            <td>23</td>\n",
       "            <td>ykaiser@hotmail.com</td>\n",
       "            <td>79674</td>\n",
       "            <td>North Cristinaview</td>\n",
       "            <td>0</td>\n",
       "        </tr>\n",
       "        <tr>\n",
       "            <td>370</td>\n",
       "            <td>Brian Kidd</td>\n",
       "            <td>16</td>\n",
       "            <td>davilakyle@yahoo.com</td>\n",
       "            <td>59693</td>\n",
       "            <td>South Danielport</td>\n",
       "            <td>7</td>\n",
       "        </tr>\n",
       "        <tr>\n",
       "            <td>377</td>\n",
       "            <td>Jonathan Warren</td>\n",
       "            <td>40</td>\n",
       "            <td>brandonjohnson@yahoo.com</td>\n",
       "            <td>54465</td>\n",
       "            <td>East Williamport</td>\n",
       "            <td>7</td>\n",
       "        </tr>\n",
       "        <tr>\n",
       "            <td>419</td>\n",
       "            <td>John Gomez</td>\n",
       "            <td>23</td>\n",
       "            <td>evansanthony@gmail.com</td>\n",
       "            <td>27498</td>\n",
       "            <td>East Pamelaburgh</td>\n",
       "            <td>8</td>\n",
       "        </tr>\n",
       "        <tr>\n",
       "            <td>425</td>\n",
       "            <td>Paula Deleon</td>\n",
       "            <td>22</td>\n",
       "            <td>xmichael@santos.com</td>\n",
       "            <td>02618</td>\n",
       "            <td>Michelefurt</td>\n",
       "            <td>7</td>\n",
       "        </tr>\n",
       "        <tr>\n",
       "            <td>434</td>\n",
       "            <td>Edward Cox</td>\n",
       "            <td>21</td>\n",
       "            <td>lewismatthew@gmail.com</td>\n",
       "            <td>06201</td>\n",
       "            <td>Lake Jennifer</td>\n",
       "            <td>7</td>\n",
       "        </tr>\n",
       "        <tr>\n",
       "            <td>474</td>\n",
       "            <td>Joe Arnold</td>\n",
       "            <td>16</td>\n",
       "            <td>johnsondiane@bowman.com</td>\n",
       "            <td>13024</td>\n",
       "            <td>Deborahbury</td>\n",
       "            <td>7</td>\n",
       "        </tr>\n",
       "        <tr>\n",
       "            <td>484</td>\n",
       "            <td>Wesley Price</td>\n",
       "            <td>61</td>\n",
       "            <td>munozkevin@gmail.com</td>\n",
       "            <td>48788</td>\n",
       "            <td>Loganchester</td>\n",
       "            <td>7</td>\n",
       "        </tr>\n",
       "        <tr>\n",
       "            <td>493</td>\n",
       "            <td>Natalie Miller</td>\n",
       "            <td>3</td>\n",
       "            <td>clifford85@bailey.com</td>\n",
       "            <td>36822</td>\n",
       "            <td>Walkerview</td>\n",
       "            <td>7</td>\n",
       "        </tr>\n",
       "        <tr>\n",
       "            <td>506</td>\n",
       "            <td>Dawn Clark</td>\n",
       "            <td>42</td>\n",
       "            <td>pmurphy@smith.com</td>\n",
       "            <td>32858</td>\n",
       "            <td>Romerofort</td>\n",
       "            <td>7</td>\n",
       "        </tr>\n",
       "        <tr>\n",
       "            <td>513</td>\n",
       "            <td>Mary Carter</td>\n",
       "            <td>47</td>\n",
       "            <td>qgeorge@wright-smith.com</td>\n",
       "            <td>91170</td>\n",
       "            <td>Irwinside</td>\n",
       "            <td>7</td>\n",
       "        </tr>\n",
       "        <tr>\n",
       "            <td>517</td>\n",
       "            <td>Christina Bush</td>\n",
       "            <td>23</td>\n",
       "            <td>moranjennifer@hotmail.com</td>\n",
       "            <td>94699</td>\n",
       "            <td>South Danielport</td>\n",
       "            <td>7</td>\n",
       "        </tr>\n",
       "        <tr>\n",
       "            <td>519</td>\n",
       "            <td>Brian Rubio</td>\n",
       "            <td>65</td>\n",
       "            <td>mchambers@rice.com</td>\n",
       "            <td>80314</td>\n",
       "            <td>Thomasmouth</td>\n",
       "            <td>7</td>\n",
       "        </tr>\n",
       "        <tr>\n",
       "            <td>520</td>\n",
       "            <td>Michael Simmons</td>\n",
       "            <td>44</td>\n",
       "            <td>theodorebradley@thomas.com</td>\n",
       "            <td>09004</td>\n",
       "            <td>South Amandabury</td>\n",
       "            <td>7</td>\n",
       "        </tr>\n",
       "        <tr>\n",
       "            <td>525</td>\n",
       "            <td>Bryce Smith</td>\n",
       "            <td>26</td>\n",
       "            <td>gpatel@sanchez.com</td>\n",
       "            <td>66196</td>\n",
       "            <td>Michelefurt</td>\n",
       "            <td>7</td>\n",
       "        </tr>\n",
       "        <tr>\n",
       "            <td>530</td>\n",
       "            <td>Christopher Yoder</td>\n",
       "            <td>23</td>\n",
       "            <td>estesjulie@moran.com</td>\n",
       "            <td>37078</td>\n",
       "            <td>East Brookefort</td>\n",
       "            <td>6</td>\n",
       "        </tr>\n",
       "        <tr>\n",
       "            <td>540</td>\n",
       "            <td>Jerry Fox</td>\n",
       "            <td>26</td>\n",
       "            <td>campbellmichael@carter-harris.com</td>\n",
       "            <td>04475</td>\n",
       "            <td>Loganchester</td>\n",
       "            <td>7</td>\n",
       "        </tr>\n",
       "        <tr>\n",
       "            <td>543</td>\n",
       "            <td>Richard Leach</td>\n",
       "            <td>32</td>\n",
       "            <td>richardsonstephanie@young.com</td>\n",
       "            <td>97103</td>\n",
       "            <td>East Williamport</td>\n",
       "            <td>7</td>\n",
       "        </tr>\n",
       "        <tr>\n",
       "            <td>545</td>\n",
       "            <td>John Cox</td>\n",
       "            <td>52</td>\n",
       "            <td>duncandennis@yahoo.com</td>\n",
       "            <td>99204</td>\n",
       "            <td>Lake Marissa</td>\n",
       "            <td>7</td>\n",
       "        </tr>\n",
       "        <tr>\n",
       "            <td>548</td>\n",
       "            <td>Aaron Savage</td>\n",
       "            <td>30</td>\n",
       "            <td>phillipsjason@haynes.com</td>\n",
       "            <td>96235</td>\n",
       "            <td>Jamesfort</td>\n",
       "            <td>7</td>\n",
       "        </tr>\n",
       "        <tr>\n",
       "            <td>549</td>\n",
       "            <td>Nicholas Kennedy</td>\n",
       "            <td>25</td>\n",
       "            <td>andrewwelch@diaz.info</td>\n",
       "            <td>15272</td>\n",
       "            <td>Brianchester</td>\n",
       "            <td>7</td>\n",
       "        </tr>\n",
       "        <tr>\n",
       "            <td>553</td>\n",
       "            <td>Nathan Waller</td>\n",
       "            <td>7</td>\n",
       "            <td>vflores@johnson-mclaughlin.biz</td>\n",
       "            <td>65076</td>\n",
       "            <td>Normanville</td>\n",
       "            <td>7</td>\n",
       "        </tr>\n",
       "        <tr>\n",
       "            <td>555</td>\n",
       "            <td>Valerie Williams</td>\n",
       "            <td>35</td>\n",
       "            <td>ryan78@smith-russell.org</td>\n",
       "            <td>16104</td>\n",
       "            <td>Brianchester</td>\n",
       "            <td>7</td>\n",
       "        </tr>\n",
       "        <tr>\n",
       "            <td>568</td>\n",
       "            <td>John Hopkins</td>\n",
       "            <td>38</td>\n",
       "            <td>pcampbell@guzman.biz</td>\n",
       "            <td>80701</td>\n",
       "            <td>Brianchester</td>\n",
       "            <td>7</td>\n",
       "        </tr>\n",
       "        <tr>\n",
       "            <td>572</td>\n",
       "            <td>Matthew Walsh</td>\n",
       "            <td>73</td>\n",
       "            <td>stanley25@rivera-wood.com</td>\n",
       "            <td>27152</td>\n",
       "            <td>Loganchester</td>\n",
       "            <td>7</td>\n",
       "        </tr>\n",
       "        <tr>\n",
       "            <td>579</td>\n",
       "            <td>Kathleen Macdonald</td>\n",
       "            <td>26</td>\n",
       "            <td>wsmith@reed.com</td>\n",
       "            <td>18423</td>\n",
       "            <td>East Brookefort</td>\n",
       "            <td>7</td>\n",
       "        </tr>\n",
       "        <tr>\n",
       "            <td>586</td>\n",
       "            <td>Jessica Williams</td>\n",
       "            <td>5</td>\n",
       "            <td>cbeck@chan.net</td>\n",
       "            <td>45715</td>\n",
       "            <td>Lake Marissa</td>\n",
       "            <td>7</td>\n",
       "        </tr>\n",
       "        <tr>\n",
       "            <td>593</td>\n",
       "            <td>Janet Austin</td>\n",
       "            <td>25</td>\n",
       "            <td>brian34@watson.biz</td>\n",
       "            <td>85172</td>\n",
       "            <td>Michelefurt</td>\n",
       "            <td>7</td>\n",
       "        </tr>\n",
       "        <tr>\n",
       "            <td>595</td>\n",
       "            <td>John Flores</td>\n",
       "            <td>31</td>\n",
       "            <td>jacobsonjeremiah@yahoo.com</td>\n",
       "            <td>92526</td>\n",
       "            <td>East Pamelaburgh</td>\n",
       "            <td>7</td>\n",
       "        </tr>\n",
       "        <tr>\n",
       "            <td>604</td>\n",
       "            <td>Theresa Fletcher</td>\n",
       "            <td>18</td>\n",
       "            <td>jeffrey11@hotmail.com</td>\n",
       "            <td>32334</td>\n",
       "            <td>Loganchester</td>\n",
       "            <td>7</td>\n",
       "        </tr>\n",
       "        <tr>\n",
       "            <td>628</td>\n",
       "            <td>Jay Cohen</td>\n",
       "            <td>59</td>\n",
       "            <td>brian06@gmail.com</td>\n",
       "            <td>67395</td>\n",
       "            <td>Deborahbury</td>\n",
       "            <td>7</td>\n",
       "        </tr>\n",
       "        <tr>\n",
       "            <td>629</td>\n",
       "            <td>Joseph Wall</td>\n",
       "            <td>23</td>\n",
       "            <td>jimmynichols@gmail.com</td>\n",
       "            <td>27272</td>\n",
       "            <td>East Brookefort</td>\n",
       "            <td>1</td>\n",
       "        </tr>\n",
       "        <tr>\n",
       "            <td>645</td>\n",
       "            <td>Robert Anderson</td>\n",
       "            <td>40</td>\n",
       "            <td>matthewmatthews@wood.biz</td>\n",
       "            <td>53036</td>\n",
       "            <td>South Amandabury</td>\n",
       "            <td>7</td>\n",
       "        </tr>\n",
       "        <tr>\n",
       "            <td>652</td>\n",
       "            <td>Brooke Harvey</td>\n",
       "            <td>53</td>\n",
       "            <td>rowlandmichelle@hansen.biz</td>\n",
       "            <td>65068</td>\n",
       "            <td>Kevinmouth</td>\n",
       "            <td>7</td>\n",
       "        </tr>\n",
       "        <tr>\n",
       "            <td>656</td>\n",
       "            <td>Jesse Sanders</td>\n",
       "            <td>46</td>\n",
       "            <td>zwarner@yahoo.com</td>\n",
       "            <td>78993</td>\n",
       "            <td>South Matthew</td>\n",
       "            <td>7</td>\n",
       "        </tr>\n",
       "        <tr>\n",
       "            <td>662</td>\n",
       "            <td>Thomas Trevino</td>\n",
       "            <td>0</td>\n",
       "            <td>alex64@yahoo.com</td>\n",
       "            <td>44979</td>\n",
       "            <td>South Amandabury</td>\n",
       "            <td>7</td>\n",
       "        </tr>\n",
       "        <tr>\n",
       "            <td>667</td>\n",
       "            <td>Danielle Stewart</td>\n",
       "            <td>39</td>\n",
       "            <td>mbrown@jones.net</td>\n",
       "            <td>06379</td>\n",
       "            <td>East Williamport</td>\n",
       "            <td>7</td>\n",
       "        </tr>\n",
       "        <tr>\n",
       "            <td>674</td>\n",
       "            <td>Christine Kane</td>\n",
       "            <td>44</td>\n",
       "            <td>michaelgardner@foster.biz</td>\n",
       "            <td>93075</td>\n",
       "            <td>North Cristinaview</td>\n",
       "            <td>7</td>\n",
       "        </tr>\n",
       "        <tr>\n",
       "            <td>676</td>\n",
       "            <td>Jonathan Wilkinson</td>\n",
       "            <td>36</td>\n",
       "            <td>hgomez@valdez-smith.net</td>\n",
       "            <td>01196</td>\n",
       "            <td>East Pamelaburgh</td>\n",
       "            <td>7</td>\n",
       "        </tr>\n",
       "        <tr>\n",
       "            <td>679</td>\n",
       "            <td>Tammy Walton</td>\n",
       "            <td>28</td>\n",
       "            <td>alexistorres@yahoo.com</td>\n",
       "            <td>33255</td>\n",
       "            <td>Loganchester</td>\n",
       "            <td>7</td>\n",
       "        </tr>\n",
       "        <tr>\n",
       "            <td>681</td>\n",
       "            <td>Tonya James</td>\n",
       "            <td>26</td>\n",
       "            <td>cscott@caldwell.com</td>\n",
       "            <td>49615</td>\n",
       "            <td>North Stephenfort</td>\n",
       "            <td>7</td>\n",
       "        </tr>\n",
       "        <tr>\n",
       "            <td>686</td>\n",
       "            <td>Theresa Clayton</td>\n",
       "            <td>28</td>\n",
       "            <td>dominicreynolds@hotmail.com</td>\n",
       "            <td>99288</td>\n",
       "            <td>East Pamelaburgh</td>\n",
       "            <td>7</td>\n",
       "        </tr>\n",
       "        <tr>\n",
       "            <td>690</td>\n",
       "            <td>James Jimenez</td>\n",
       "            <td>24</td>\n",
       "            <td>ocardenas@parker-flynn.com</td>\n",
       "            <td>65701</td>\n",
       "            <td>Port Stephanie</td>\n",
       "            <td>7</td>\n",
       "        </tr>\n",
       "        <tr>\n",
       "            <td>694</td>\n",
       "            <td>Sarah Morris</td>\n",
       "            <td>23</td>\n",
       "            <td>garciacourtney@hotmail.com</td>\n",
       "            <td>33789</td>\n",
       "            <td>North Cristinaview</td>\n",
       "            <td>2</td>\n",
       "        </tr>\n",
       "        <tr>\n",
       "            <td>697</td>\n",
       "            <td>Jodi Flores MD</td>\n",
       "            <td>54</td>\n",
       "            <td>tyler32@smith.com</td>\n",
       "            <td>15761</td>\n",
       "            <td>Austinshire</td>\n",
       "            <td>7</td>\n",
       "        </tr>\n",
       "        <tr>\n",
       "            <td>699</td>\n",
       "            <td>Laura Taylor</td>\n",
       "            <td>30</td>\n",
       "            <td>wendy47@hotmail.com</td>\n",
       "            <td>78209</td>\n",
       "            <td>Romerofort</td>\n",
       "            <td>7</td>\n",
       "        </tr>\n",
       "        <tr>\n",
       "            <td>707</td>\n",
       "            <td>Monica Mcdowell</td>\n",
       "            <td>41</td>\n",
       "            <td>shannondylan@yahoo.com</td>\n",
       "            <td>16828</td>\n",
       "            <td>Cooperton</td>\n",
       "            <td>7</td>\n",
       "        </tr>\n",
       "        <tr>\n",
       "            <td>731</td>\n",
       "            <td>Tammy Anderson</td>\n",
       "            <td>50</td>\n",
       "            <td>joshuajohnson@yahoo.com</td>\n",
       "            <td>31621</td>\n",
       "            <td>New Hannah</td>\n",
       "            <td>7</td>\n",
       "        </tr>\n",
       "        <tr>\n",
       "            <td>735</td>\n",
       "            <td>Mariah Patrick</td>\n",
       "            <td>26</td>\n",
       "            <td>ashleynewman@gmail.com</td>\n",
       "            <td>55596</td>\n",
       "            <td>South Amandabury</td>\n",
       "            <td>7</td>\n",
       "        </tr>\n",
       "        <tr>\n",
       "            <td>751</td>\n",
       "            <td>Travis Contreras</td>\n",
       "            <td>21</td>\n",
       "            <td>kristi27@camacho.info</td>\n",
       "            <td>49214</td>\n",
       "            <td>Michelefurt</td>\n",
       "            <td>7</td>\n",
       "        </tr>\n",
       "        <tr>\n",
       "            <td>762</td>\n",
       "            <td>Morgan Perez</td>\n",
       "            <td>14</td>\n",
       "            <td>joshuaberg@davis.com</td>\n",
       "            <td>98516</td>\n",
       "            <td>Colechester</td>\n",
       "            <td>7</td>\n",
       "        </tr>\n",
       "        <tr>\n",
       "            <td>767</td>\n",
       "            <td>Isaac Rogers</td>\n",
       "            <td>23</td>\n",
       "            <td>rcox@yahoo.com</td>\n",
       "            <td>27388</td>\n",
       "            <td>Port Stephanie</td>\n",
       "            <td>0</td>\n",
       "        </tr>\n",
       "        <tr>\n",
       "            <td>770</td>\n",
       "            <td>Rhonda Carr</td>\n",
       "            <td>23</td>\n",
       "            <td>hallhenry@martin.com</td>\n",
       "            <td>88594</td>\n",
       "            <td>Deborahbury</td>\n",
       "            <td>9</td>\n",
       "        </tr>\n",
       "        <tr>\n",
       "            <td>773</td>\n",
       "            <td>Jodi Mendoza</td>\n",
       "            <td>34</td>\n",
       "            <td>todd15@carlson.net</td>\n",
       "            <td>40475</td>\n",
       "            <td>Walkerview</td>\n",
       "            <td>7</td>\n",
       "        </tr>\n",
       "        <tr>\n",
       "            <td>783</td>\n",
       "            <td>Lori Ferguson</td>\n",
       "            <td>48</td>\n",
       "            <td>gduffy@hotmail.com</td>\n",
       "            <td>36852</td>\n",
       "            <td>Loganchester</td>\n",
       "            <td>7</td>\n",
       "        </tr>\n",
       "        <tr>\n",
       "            <td>784</td>\n",
       "            <td>Shelby Knight DDS</td>\n",
       "            <td>14</td>\n",
       "            <td>alexis71@yahoo.com</td>\n",
       "            <td>38548</td>\n",
       "            <td>Lake Marissa</td>\n",
       "            <td>7</td>\n",
       "        </tr>\n",
       "        <tr>\n",
       "            <td>787</td>\n",
       "            <td>Joseph Nguyen</td>\n",
       "            <td>28</td>\n",
       "            <td>chenregina@meyer-petersen.info</td>\n",
       "            <td>60839</td>\n",
       "            <td>East Williamport</td>\n",
       "            <td>7</td>\n",
       "        </tr>\n",
       "        <tr>\n",
       "            <td>788</td>\n",
       "            <td>Shawn Cabrera</td>\n",
       "            <td>34</td>\n",
       "            <td>mallory20@williams-gonzalez.com</td>\n",
       "            <td>70069</td>\n",
       "            <td>South Danielport</td>\n",
       "            <td>7</td>\n",
       "        </tr>\n",
       "        <tr>\n",
       "            <td>789</td>\n",
       "            <td>Brittany Wilson</td>\n",
       "            <td>37</td>\n",
       "            <td>smitherik@park-rojas.com</td>\n",
       "            <td>44659</td>\n",
       "            <td>Lake Jennifer</td>\n",
       "            <td>7</td>\n",
       "        </tr>\n",
       "        <tr>\n",
       "            <td>791</td>\n",
       "            <td>Amanda Mills</td>\n",
       "            <td>23</td>\n",
       "            <td>lesliegray@bullock-wilson.com</td>\n",
       "            <td>71845</td>\n",
       "            <td>New Hannah</td>\n",
       "            <td>6</td>\n",
       "        </tr>\n",
       "        <tr>\n",
       "            <td>809</td>\n",
       "            <td>Alexis Boyd</td>\n",
       "            <td>23</td>\n",
       "            <td>amanda14@gmail.com</td>\n",
       "            <td>67210</td>\n",
       "            <td>Kevinmouth</td>\n",
       "            <td>5</td>\n",
       "        </tr>\n",
       "        <tr>\n",
       "            <td>823</td>\n",
       "            <td>Crystal Lloyd</td>\n",
       "            <td>27</td>\n",
       "            <td>ybaird@le.com</td>\n",
       "            <td>64617</td>\n",
       "            <td>North Stephenfort</td>\n",
       "            <td>7</td>\n",
       "        </tr>\n",
       "        <tr>\n",
       "            <td>846</td>\n",
       "            <td>Leonard Diaz</td>\n",
       "            <td>56</td>\n",
       "            <td>kvaughn@brown-grant.com</td>\n",
       "            <td>91487</td>\n",
       "            <td>South Stanleytown</td>\n",
       "            <td>7</td>\n",
       "        </tr>\n",
       "        <tr>\n",
       "            <td>865</td>\n",
       "            <td>Ryan Cunningham</td>\n",
       "            <td>29</td>\n",
       "            <td>charles89@fischer.com</td>\n",
       "            <td>56934</td>\n",
       "            <td>Walkerview</td>\n",
       "            <td>7</td>\n",
       "        </tr>\n",
       "        <tr>\n",
       "            <td>867</td>\n",
       "            <td>Valerie Cowan</td>\n",
       "            <td>51</td>\n",
       "            <td>merrittmichele@mcgee-salinas.org</td>\n",
       "            <td>93629</td>\n",
       "            <td>Lake Michaelfort</td>\n",
       "            <td>7</td>\n",
       "        </tr>\n",
       "        <tr>\n",
       "            <td>873</td>\n",
       "            <td>James Jefferson</td>\n",
       "            <td>19</td>\n",
       "            <td>bfoster@yahoo.com</td>\n",
       "            <td>62383</td>\n",
       "            <td>New Hannah</td>\n",
       "            <td>7</td>\n",
       "        </tr>\n",
       "        <tr>\n",
       "            <td>874</td>\n",
       "            <td>Katie Mcclure</td>\n",
       "            <td>54</td>\n",
       "            <td>michaelayala@johnston-mills.org</td>\n",
       "            <td>66196</td>\n",
       "            <td>Normanville</td>\n",
       "            <td>7</td>\n",
       "        </tr>\n",
       "        <tr>\n",
       "            <td>879</td>\n",
       "            <td>Eugene Sanford</td>\n",
       "            <td>47</td>\n",
       "            <td>csmith@howard.com</td>\n",
       "            <td>57432</td>\n",
       "            <td>Port Stephanie</td>\n",
       "            <td>7</td>\n",
       "        </tr>\n",
       "        <tr>\n",
       "            <td>887</td>\n",
       "            <td>Charles Buckley</td>\n",
       "            <td>23</td>\n",
       "            <td>rcooper@hotmail.com</td>\n",
       "            <td>01717</td>\n",
       "            <td>South Danielport</td>\n",
       "            <td>1</td>\n",
       "        </tr>\n",
       "        <tr>\n",
       "            <td>891</td>\n",
       "            <td>Kevin Bartlett</td>\n",
       "            <td>29</td>\n",
       "            <td>gevans@gmail.com</td>\n",
       "            <td>42105</td>\n",
       "            <td>Port Stephanie</td>\n",
       "            <td>7</td>\n",
       "        </tr>\n",
       "        <tr>\n",
       "            <td>893</td>\n",
       "            <td>Cody Middleton</td>\n",
       "            <td>18</td>\n",
       "            <td>mvaldez@yahoo.com</td>\n",
       "            <td>70165</td>\n",
       "            <td>Marystad</td>\n",
       "            <td>7</td>\n",
       "        </tr>\n",
       "        <tr>\n",
       "            <td>902</td>\n",
       "            <td>Elizabeth Gentry</td>\n",
       "            <td>23</td>\n",
       "            <td>juliereyes@yahoo.com</td>\n",
       "            <td>59012</td>\n",
       "            <td>Kevinmouth</td>\n",
       "            <td>5</td>\n",
       "        </tr>\n",
       "        <tr>\n",
       "            <td>916</td>\n",
       "            <td>Brenda Curry</td>\n",
       "            <td>39</td>\n",
       "            <td>heather67@wilson-harris.com</td>\n",
       "            <td>90491</td>\n",
       "            <td>Brianchester</td>\n",
       "            <td>7</td>\n",
       "        </tr>\n",
       "        <tr>\n",
       "            <td>920</td>\n",
       "            <td>Patricia Chen</td>\n",
       "            <td>44</td>\n",
       "            <td>stoutamanda@king.com</td>\n",
       "            <td>82128</td>\n",
       "            <td>Deborahbury</td>\n",
       "            <td>7</td>\n",
       "        </tr>\n",
       "        <tr>\n",
       "            <td>922</td>\n",
       "            <td>Kyle Meyer</td>\n",
       "            <td>45</td>\n",
       "            <td>jameshill@evans.com</td>\n",
       "            <td>59157</td>\n",
       "            <td>Lake Michaelfort</td>\n",
       "            <td>7</td>\n",
       "        </tr>\n",
       "        <tr>\n",
       "            <td>941</td>\n",
       "            <td>Tamara Mcintosh</td>\n",
       "            <td>31</td>\n",
       "            <td>ipowell@gmail.com</td>\n",
       "            <td>74004</td>\n",
       "            <td>Marystad</td>\n",
       "            <td>7</td>\n",
       "        </tr>\n",
       "        <tr>\n",
       "            <td>951</td>\n",
       "            <td>Cynthia Vasquez</td>\n",
       "            <td>27</td>\n",
       "            <td>tinamendez@hotmail.com</td>\n",
       "            <td>97812</td>\n",
       "            <td>North Melinda</td>\n",
       "            <td>7</td>\n",
       "        </tr>\n",
       "        <tr>\n",
       "            <td>954</td>\n",
       "            <td>Rebecca Young</td>\n",
       "            <td>31</td>\n",
       "            <td>melanieclark@carter-oconnor.org</td>\n",
       "            <td>56193</td>\n",
       "            <td>Loganchester</td>\n",
       "            <td>7</td>\n",
       "        </tr>\n",
       "        <tr>\n",
       "            <td>976</td>\n",
       "            <td>Kenneth Hayes</td>\n",
       "            <td>14</td>\n",
       "            <td>christineyoung@hammond.com</td>\n",
       "            <td>33795</td>\n",
       "            <td>Cooperton</td>\n",
       "            <td>7</td>\n",
       "        </tr>\n",
       "        <tr>\n",
       "            <td>978</td>\n",
       "            <td>Mr. Dakota Salazar</td>\n",
       "            <td>40</td>\n",
       "            <td>aguilarchristine@williams-brady.com</td>\n",
       "            <td>86674</td>\n",
       "            <td>Colechester</td>\n",
       "            <td>7</td>\n",
       "        </tr>\n",
       "        <tr>\n",
       "            <td>985</td>\n",
       "            <td>Victoria Cook</td>\n",
       "            <td>24</td>\n",
       "            <td>jaimenelson@yahoo.com</td>\n",
       "            <td>41995</td>\n",
       "            <td>East Adam</td>\n",
       "            <td>7</td>\n",
       "        </tr>\n",
       "        <tr>\n",
       "            <td>993</td>\n",
       "            <td>David Mcgee</td>\n",
       "            <td>12</td>\n",
       "            <td>boothann@hunt.com</td>\n",
       "            <td>75331</td>\n",
       "            <td>South Amandabury</td>\n",
       "            <td>7</td>\n",
       "        </tr>\n",
       "        <tr>\n",
       "            <td>998</td>\n",
       "            <td>Calvin Mejia</td>\n",
       "            <td>48</td>\n",
       "            <td>egilbert@gmail.com</td>\n",
       "            <td>55266</td>\n",
       "            <td>South Amandabury</td>\n",
       "            <td>7</td>\n",
       "        </tr>\n",
       "    </tbody>\n",
       "</table>"
      ],
      "text/plain": [
       "[(8, 'Michael Barnett', 46, 'keith30@andersen.com', '56064', 'Marystad', 7),\n",
       " (18, 'Vanessa Owen', 12, 'hbailey@foley.com', '39489', 'East Brookefort', 7),\n",
       " (23, 'Brittany Coleman', 23, 'watsonscott@gmail.com', '34912', 'North Stephenfort', 7),\n",
       " (24, 'Justin Butler', 21, 'justinmejia@hotmail.com', '51105', 'Romerofort', 7),\n",
       " (32, 'Tiffany Brooks', 31, 'jeffreyburgess@gmail.com', '10722', 'South Matthew', 7),\n",
       " (39, 'William Henderson', 37, 'michaellee@hotmail.com', '25139', 'New Terri', 7),\n",
       " (66, 'Mr. Andrew Hahn', 23, 'showard@lee.com', '50404', 'Colechester', 0),\n",
       " (69, 'Matthew Nielsen', 39, 'gregory94@yahoo.com', '36438', 'East Brookefort', 7),\n",
       " (72, 'Carolyn Jackson', 32, 'nicole44@walls-anderson.com', '49528', 'North Melissabury', 7),\n",
       " (76, 'Elizabeth Contreras', 4, 'nmolina@gmail.com', '51577', 'Loganchester', 7),\n",
       " (92, 'Andrew Allison', 43, 'ocontreras@yahoo.com', '38735', 'North Stephenfort', 7),\n",
       " (96, 'Ryan Brown', 19, 'alvarezelizabeth@hotmail.com', '40498', 'New Hannah', 7),\n",
       " (100, 'Linda Taylor', 46, 'garzacindy@reyes.org', '97791', 'Port Stephanie', 7),\n",
       " (108, 'Gary Clark', 29, 'anthonysilva@yahoo.com', '92464', 'North Stephenfort', 7),\n",
       " (114, 'Olivia Perry', 28, 'angelachambers@zamora-bradshaw.com', '52321', 'Cooperton', 7),\n",
       " (124, 'Ashlee Marquez', 39, 'zherrera@hotmail.com', '48657', 'Port Stephanie', 7),\n",
       " (140, 'Richard Thomas', 40, 'nfoster@mills-aguilar.com', '53950', 'Walkerview', 7),\n",
       " (149, 'Aaron Lindsey', 23, 'nancyzuniga@reed.com', '34642', 'Colechester', 8),\n",
       " (150, 'Cody Reed', 19, 'roger05@yahoo.com', '07859', 'Colechester', 7),\n",
       " (156, 'Connie Lawrence', 40, 'xparker@gmail.com', '93753', 'Brianchester', 7),\n",
       " (163, 'Nathan Moore', 34, 'juan94@yahoo.com', '83166', 'Port Stephanie', 7),\n",
       " (171, 'Tamara Jenkins', 23, 'donaldsonamy@smith-baker.info', '72530', 'Doughertyside', 5),\n",
       " (179, 'Mr. Kevin Lewis', 32, 'zamoratiffany@yahoo.com', '53680', 'Lake Marissa', 7),\n",
       " (182, 'Chad Bell', 43, 'colleen78@smith.com', '09479', 'Colechester', 7),\n",
       " (189, 'Joel Tran', 23, 'patricklucas@hotmail.com', '61576', 'Lake Michaelfort', 1),\n",
       " (198, 'Richard Brown', 23, 'ismith@hotmail.com', '89519', 'North Melissabury', 5),\n",
       " (203, 'Michelle Guerrero', 42, 'john82@medina.org', '82779', 'Colechester', 7),\n",
       " (249, 'Kathleen Smith', 5, 'stacey08@martinez.biz', '58065', 'East Pamelaburgh', 7),\n",
       " (261, 'Tammie Rodriguez', 0, 'karenhughes@gmail.com', '54179', 'Deborahbury', 7),\n",
       " (271, 'Frank Franklin', 23, 'morrowmatthew@yahoo.com', '46865', 'Lake Michaelfort', 1),\n",
       " (273, 'Steven Ramirez MD', 31, 'obailey@washington.net', '33272', 'Gabriellechester', 7),\n",
       " (274, 'Julie Richards', 4, 'vgomez@kirk.biz', '28993', 'Deborahbury', 7),\n",
       " (275, 'Scott Bell', 44, 'jason84@yahoo.com', '20699', 'Lake Marissa', 7),\n",
       " (288, 'James Kennedy', 23, 'stephenshannah@patel.com', '54653', 'New Terri', 2),\n",
       " (300, 'Daniel Duncan', 50, 'bakeramber@coleman-bowers.com', '81882', 'Rothton', 7),\n",
       " (301, 'Carolyn Jones', 23, 'foleybrian@hotmail.com', '16822', 'South Amandabury', 8),\n",
       " (305, 'John Wells', 23, 'caitlin32@hotmail.com', '13761', 'Rothton', 2),\n",
       " (311, 'Ronald Patterson', 35, 'hdelgado@harris-wright.info', '72175', 'Irwinside', 7),\n",
       " (318, 'Laura Davis', 55, 'burkejoshua@bennett.com', '55741', 'North Stephenfort', 7),\n",
       " (319, 'Patricia Suarez', 27, 'olsoncathy@hotmail.com', '62905', 'South Matthew', 7),\n",
       " (320, 'Melissa Lee', 8, 'george87@yahoo.com', '88123', 'North Cristinaview', 7),\n",
       " (328, 'Peter Mueller', 36, 'cortezjames@anderson.biz', '44867', 'Lake Marissa', 7),\n",
       " (332, 'Arthur Haynes', 18, 'steven52@yahoo.com', '80823', 'Colechester', 7),\n",
       " (338, 'Kyle Torres', 23, 'gutierrezsharon@gmail.com', '55577', 'Irwinside', 3),\n",
       " (346, 'Jamie Patel', 57, 'ggonzalez@shelton-jones.info', '75196', 'Colechester', 7),\n",
       " (359, 'Cindy Hale', 43, 'april50@cannon-mcclure.info', '72176', 'North Melinda', 7),\n",
       " (360, 'Angela Mullins', 23, 'ykaiser@hotmail.com', '79674', 'North Cristinaview', 0),\n",
       " (370, 'Brian Kidd', 16, 'davilakyle@yahoo.com', '59693', 'South Danielport', 7),\n",
       " (377, 'Jonathan Warren', 40, 'brandonjohnson@yahoo.com', '54465', 'East Williamport', 7),\n",
       " (419, 'John Gomez', 23, 'evansanthony@gmail.com', '27498', 'East Pamelaburgh', 8),\n",
       " (425, 'Paula Deleon', 22, 'xmichael@santos.com', '02618', 'Michelefurt', 7),\n",
       " (434, 'Edward Cox', 21, 'lewismatthew@gmail.com', '06201', 'Lake Jennifer', 7),\n",
       " (474, 'Joe Arnold', 16, 'johnsondiane@bowman.com', '13024', 'Deborahbury', 7),\n",
       " (484, 'Wesley Price', 61, 'munozkevin@gmail.com', '48788', 'Loganchester', 7),\n",
       " (493, 'Natalie Miller', 3, 'clifford85@bailey.com', '36822', 'Walkerview', 7),\n",
       " (506, 'Dawn Clark', 42, 'pmurphy@smith.com', '32858', 'Romerofort', 7),\n",
       " (513, 'Mary Carter', 47, 'qgeorge@wright-smith.com', '91170', 'Irwinside', 7),\n",
       " (517, 'Christina Bush', 23, 'moranjennifer@hotmail.com', '94699', 'South Danielport', 7),\n",
       " (519, 'Brian Rubio', 65, 'mchambers@rice.com', '80314', 'Thomasmouth', 7),\n",
       " (520, 'Michael Simmons', 44, 'theodorebradley@thomas.com', '09004', 'South Amandabury', 7),\n",
       " (525, 'Bryce Smith', 26, 'gpatel@sanchez.com', '66196', 'Michelefurt', 7),\n",
       " (530, 'Christopher Yoder', 23, 'estesjulie@moran.com', '37078', 'East Brookefort', 6),\n",
       " (540, 'Jerry Fox', 26, 'campbellmichael@carter-harris.com', '04475', 'Loganchester', 7),\n",
       " (543, 'Richard Leach', 32, 'richardsonstephanie@young.com', '97103', 'East Williamport', 7),\n",
       " (545, 'John Cox', 52, 'duncandennis@yahoo.com', '99204', 'Lake Marissa', 7),\n",
       " (548, 'Aaron Savage', 30, 'phillipsjason@haynes.com', '96235', 'Jamesfort', 7),\n",
       " (549, 'Nicholas Kennedy', 25, 'andrewwelch@diaz.info', '15272', 'Brianchester', 7),\n",
       " (553, 'Nathan Waller', 7, 'vflores@johnson-mclaughlin.biz', '65076', 'Normanville', 7),\n",
       " (555, 'Valerie Williams', 35, 'ryan78@smith-russell.org', '16104', 'Brianchester', 7),\n",
       " (568, 'John Hopkins', 38, 'pcampbell@guzman.biz', '80701', 'Brianchester', 7),\n",
       " (572, 'Matthew Walsh', 73, 'stanley25@rivera-wood.com', '27152', 'Loganchester', 7),\n",
       " (579, 'Kathleen Macdonald', 26, 'wsmith@reed.com', '18423', 'East Brookefort', 7),\n",
       " (586, 'Jessica Williams', 5, 'cbeck@chan.net', '45715', 'Lake Marissa', 7),\n",
       " (593, 'Janet Austin', 25, 'brian34@watson.biz', '85172', 'Michelefurt', 7),\n",
       " (595, 'John Flores', 31, 'jacobsonjeremiah@yahoo.com', '92526', 'East Pamelaburgh', 7),\n",
       " (604, 'Theresa Fletcher', 18, 'jeffrey11@hotmail.com', '32334', 'Loganchester', 7),\n",
       " (628, 'Jay Cohen', 59, 'brian06@gmail.com', '67395', 'Deborahbury', 7),\n",
       " (629, 'Joseph Wall', 23, 'jimmynichols@gmail.com', '27272', 'East Brookefort', 1),\n",
       " (645, 'Robert Anderson', 40, 'matthewmatthews@wood.biz', '53036', 'South Amandabury', 7),\n",
       " (652, 'Brooke Harvey', 53, 'rowlandmichelle@hansen.biz', '65068', 'Kevinmouth', 7),\n",
       " (656, 'Jesse Sanders', 46, 'zwarner@yahoo.com', '78993', 'South Matthew', 7),\n",
       " (662, 'Thomas Trevino', 0, 'alex64@yahoo.com', '44979', 'South Amandabury', 7),\n",
       " (667, 'Danielle Stewart', 39, 'mbrown@jones.net', '06379', 'East Williamport', 7),\n",
       " (674, 'Christine Kane', 44, 'michaelgardner@foster.biz', '93075', 'North Cristinaview', 7),\n",
       " (676, 'Jonathan Wilkinson', 36, 'hgomez@valdez-smith.net', '01196', 'East Pamelaburgh', 7),\n",
       " (679, 'Tammy Walton', 28, 'alexistorres@yahoo.com', '33255', 'Loganchester', 7),\n",
       " (681, 'Tonya James', 26, 'cscott@caldwell.com', '49615', 'North Stephenfort', 7),\n",
       " (686, 'Theresa Clayton', 28, 'dominicreynolds@hotmail.com', '99288', 'East Pamelaburgh', 7),\n",
       " (690, 'James Jimenez', 24, 'ocardenas@parker-flynn.com', '65701', 'Port Stephanie', 7),\n",
       " (694, 'Sarah Morris', 23, 'garciacourtney@hotmail.com', '33789', 'North Cristinaview', 2),\n",
       " (697, 'Jodi Flores MD', 54, 'tyler32@smith.com', '15761', 'Austinshire', 7),\n",
       " (699, 'Laura Taylor', 30, 'wendy47@hotmail.com', '78209', 'Romerofort', 7),\n",
       " (707, 'Monica Mcdowell', 41, 'shannondylan@yahoo.com', '16828', 'Cooperton', 7),\n",
       " (731, 'Tammy Anderson', 50, 'joshuajohnson@yahoo.com', '31621', 'New Hannah', 7),\n",
       " (735, 'Mariah Patrick', 26, 'ashleynewman@gmail.com', '55596', 'South Amandabury', 7),\n",
       " (751, 'Travis Contreras', 21, 'kristi27@camacho.info', '49214', 'Michelefurt', 7),\n",
       " (762, 'Morgan Perez', 14, 'joshuaberg@davis.com', '98516', 'Colechester', 7),\n",
       " (767, 'Isaac Rogers', 23, 'rcox@yahoo.com', '27388', 'Port Stephanie', 0),\n",
       " (770, 'Rhonda Carr', 23, 'hallhenry@martin.com', '88594', 'Deborahbury', 9),\n",
       " (773, 'Jodi Mendoza', 34, 'todd15@carlson.net', '40475', 'Walkerview', 7),\n",
       " (783, 'Lori Ferguson', 48, 'gduffy@hotmail.com', '36852', 'Loganchester', 7),\n",
       " (784, 'Shelby Knight DDS', 14, 'alexis71@yahoo.com', '38548', 'Lake Marissa', 7),\n",
       " (787, 'Joseph Nguyen', 28, 'chenregina@meyer-petersen.info', '60839', 'East Williamport', 7),\n",
       " (788, 'Shawn Cabrera', 34, 'mallory20@williams-gonzalez.com', '70069', 'South Danielport', 7),\n",
       " (789, 'Brittany Wilson', 37, 'smitherik@park-rojas.com', '44659', 'Lake Jennifer', 7),\n",
       " (791, 'Amanda Mills', 23, 'lesliegray@bullock-wilson.com', '71845', 'New Hannah', 6),\n",
       " (809, 'Alexis Boyd', 23, 'amanda14@gmail.com', '67210', 'Kevinmouth', 5),\n",
       " (823, 'Crystal Lloyd', 27, 'ybaird@le.com', '64617', 'North Stephenfort', 7),\n",
       " (846, 'Leonard Diaz', 56, 'kvaughn@brown-grant.com', '91487', 'South Stanleytown', 7),\n",
       " (865, 'Ryan Cunningham', 29, 'charles89@fischer.com', '56934', 'Walkerview', 7),\n",
       " (867, 'Valerie Cowan', 51, 'merrittmichele@mcgee-salinas.org', '93629', 'Lake Michaelfort', 7),\n",
       " (873, 'James Jefferson', 19, 'bfoster@yahoo.com', '62383', 'New Hannah', 7),\n",
       " (874, 'Katie Mcclure', 54, 'michaelayala@johnston-mills.org', '66196', 'Normanville', 7),\n",
       " (879, 'Eugene Sanford', 47, 'csmith@howard.com', '57432', 'Port Stephanie', 7),\n",
       " (887, 'Charles Buckley', 23, 'rcooper@hotmail.com', '01717', 'South Danielport', 1),\n",
       " (891, 'Kevin Bartlett', 29, 'gevans@gmail.com', '42105', 'Port Stephanie', 7),\n",
       " (893, 'Cody Middleton', 18, 'mvaldez@yahoo.com', '70165', 'Marystad', 7),\n",
       " (902, 'Elizabeth Gentry', 23, 'juliereyes@yahoo.com', '59012', 'Kevinmouth', 5),\n",
       " (916, 'Brenda Curry', 39, 'heather67@wilson-harris.com', '90491', 'Brianchester', 7),\n",
       " (920, 'Patricia Chen', 44, 'stoutamanda@king.com', '82128', 'Deborahbury', 7),\n",
       " (922, 'Kyle Meyer', 45, 'jameshill@evans.com', '59157', 'Lake Michaelfort', 7),\n",
       " (941, 'Tamara Mcintosh', 31, 'ipowell@gmail.com', '74004', 'Marystad', 7),\n",
       " (951, 'Cynthia Vasquez', 27, 'tinamendez@hotmail.com', '97812', 'North Melinda', 7),\n",
       " (954, 'Rebecca Young', 31, 'melanieclark@carter-oconnor.org', '56193', 'Loganchester', 7),\n",
       " (976, 'Kenneth Hayes', 14, 'christineyoung@hammond.com', '33795', 'Cooperton', 7),\n",
       " (978, 'Mr. Dakota Salazar', 40, 'aguilarchristine@williams-brady.com', '86674', 'Colechester', 7),\n",
       " (985, 'Victoria Cook', 24, 'jaimenelson@yahoo.com', '41995', 'East Adam', 7),\n",
       " (993, 'David Mcgee', 12, 'boothann@hunt.com', '75331', 'South Amandabury', 7),\n",
       " (998, 'Calvin Mejia', 48, 'egilbert@gmail.com', '55266', 'South Amandabury', 7)]"
      ]
     },
     "execution_count": 33,
     "metadata": {},
     "output_type": "execute_result"
    }
   ],
   "source": [
    "%%sql\n",
    "SELECT * FROM patrons\n",
    "    WHERE age == 23 OR activity == 7;"
   ]
  },
  {
   "cell_type": "markdown",
   "metadata": {
    "slideshow": {
     "slide_type": "slide"
    }
   },
   "source": [
    "## Pattern Matching with `LIKE`"
   ]
  },
  {
   "cell_type": "markdown",
   "metadata": {
    "slideshow": {
     "slide_type": "fragment"
    }
   },
   "source": [
    "Recall: Logical Operators\n",
    "\n",
    "`>`, `>=`, `<`, `<=`, `==`, `!=`"
   ]
  },
  {
   "cell_type": "markdown",
   "metadata": {
    "slideshow": {
     "slide_type": "subslide"
    }
   },
   "source": [
    "SQL has a way to search for partial matches of strings.\n",
    "\n",
    "First, an example:"
   ]
  },
  {
   "cell_type": "code",
   "execution_count": 34,
   "metadata": {
    "slideshow": {
     "slide_type": "subslide"
    }
   },
   "outputs": [
    {
     "name": "stdout",
     "output_type": "stream",
     "text": [
      " * sqlite:///../data/circulation.sqlite\n",
      "   sqlite:///../data/week2.db\n",
      "Done.\n"
     ]
    },
    {
     "data": {
      "text/html": [
       "<table>\n",
       "    <thead>\n",
       "        <tr>\n",
       "            <th>id</th>\n",
       "            <th>name</th>\n",
       "            <th>age</th>\n",
       "            <th>email</th>\n",
       "            <th>zipcode</th>\n",
       "            <th>city</th>\n",
       "            <th>activity</th>\n",
       "        </tr>\n",
       "    </thead>\n",
       "    <tbody>\n",
       "        <tr>\n",
       "            <td>211</td>\n",
       "            <td>Anna Coleman</td>\n",
       "            <td>24</td>\n",
       "            <td>zrodgers@walker.com</td>\n",
       "            <td>71120</td>\n",
       "            <td>South Danielport</td>\n",
       "            <td>4</td>\n",
       "        </tr>\n",
       "        <tr>\n",
       "            <td>256</td>\n",
       "            <td>Anna Boyd</td>\n",
       "            <td>29</td>\n",
       "            <td>stephenchambers@yahoo.com</td>\n",
       "            <td>37281</td>\n",
       "            <td>Kevinmouth</td>\n",
       "            <td>2</td>\n",
       "        </tr>\n",
       "        <tr>\n",
       "            <td>381</td>\n",
       "            <td>Anna Griffin</td>\n",
       "            <td>4</td>\n",
       "            <td>nicolebaker@yahoo.com</td>\n",
       "            <td>57213</td>\n",
       "            <td>Lake Michaelfort</td>\n",
       "            <td>4</td>\n",
       "        </tr>\n",
       "        <tr>\n",
       "            <td>496</td>\n",
       "            <td>Ann Sharp</td>\n",
       "            <td>35</td>\n",
       "            <td>valdezjames@gmail.com</td>\n",
       "            <td>93801</td>\n",
       "            <td>Kevinmouth</td>\n",
       "            <td>2</td>\n",
       "        </tr>\n",
       "        <tr>\n",
       "            <td>797</td>\n",
       "            <td>Anne Estes</td>\n",
       "            <td>43</td>\n",
       "            <td>mendezcaitlin@lawrence.com</td>\n",
       "            <td>90446</td>\n",
       "            <td>Romerofort</td>\n",
       "            <td>8</td>\n",
       "        </tr>\n",
       "        <tr>\n",
       "            <td>860</td>\n",
       "            <td>Anna Trevino</td>\n",
       "            <td>44</td>\n",
       "            <td>gregory47@gmail.com</td>\n",
       "            <td>10359</td>\n",
       "            <td>South Danielport</td>\n",
       "            <td>4</td>\n",
       "        </tr>\n",
       "    </tbody>\n",
       "</table>"
      ],
      "text/plain": [
       "[(211, 'Anna Coleman', 24, 'zrodgers@walker.com', '71120', 'South Danielport', 4),\n",
       " (256, 'Anna Boyd', 29, 'stephenchambers@yahoo.com', '37281', 'Kevinmouth', 2),\n",
       " (381, 'Anna Griffin', 4, 'nicolebaker@yahoo.com', '57213', 'Lake Michaelfort', 4),\n",
       " (496, 'Ann Sharp', 35, 'valdezjames@gmail.com', '93801', 'Kevinmouth', 2),\n",
       " (797, 'Anne Estes', 43, 'mendezcaitlin@lawrence.com', '90446', 'Romerofort', 8),\n",
       " (860, 'Anna Trevino', 44, 'gregory47@gmail.com', '10359', 'South Danielport', 4)]"
      ]
     },
     "execution_count": 34,
     "metadata": {},
     "output_type": "execute_result"
    }
   ],
   "source": [
    "%%sql\n",
    "SELECT * FROM patrons\n",
    "    WHERE name LIKE 'Ann%';"
   ]
  },
  {
   "cell_type": "markdown",
   "metadata": {
    "slideshow": {
     "slide_type": "-"
    }
   },
   "source": [
    "*What did this statement do? What's notable about it?*"
   ]
  },
  {
   "cell_type": "markdown",
   "metadata": {
    "slideshow": {
     "slide_type": "subslide"
    }
   },
   "source": [
    "`LIKE` tells SQL to look out for special characters.\n",
    "\n",
    "Special characters:\n",
    "    \n",
    "- `%`: Match any number of wildcard characters (zero or more)\n",
    "- `_`: Match exactly one wildcard character"
   ]
  },
  {
   "cell_type": "markdown",
   "metadata": {
    "slideshow": {
     "slide_type": "subslide"
    }
   },
   "source": [
    "- `col_r`: will match 'color' but not 'colour'\n",
    "- `col%r`: will match 'color' and 'colour'"
   ]
  },
  {
   "cell_type": "markdown",
   "metadata": {
    "slideshow": {
     "slide_type": "fragment"
    }
   },
   "source": [
    "#### Be careful: a `%` can match a lot\n",
    "\n",
    "- `col%r`: will also match 'cold weather'"
   ]
  },
  {
   "cell_type": "markdown",
   "metadata": {
    "slideshow": {
     "slide_type": "subslide"
    }
   },
   "source": [
    "### Longer strings won't match unless there's a wildcard telling them to match\n",
    "\n",
    "`WHERE name LIKE 'Smith'` *won't* match 'John Smith', because it's looking for an 'S' at the start.\n",
    "\n",
    "*How do you fix it?*"
   ]
  },
  {
   "cell_type": "markdown",
   "metadata": {
    "slideshow": {
     "slide_type": "fragment"
    }
   },
   "source": [
    "`WHERE name LIKE '%Smith'`\n",
    "\n",
    "Or even more precise, include the space:\n",
    "    \n",
    "`WHERE name LIKE '% Smith'`"
   ]
  },
  {
   "cell_type": "markdown",
   "metadata": {
    "slideshow": {
     "slide_type": "subslide"
    }
   },
   "source": [
    "### Practice\n",
    "\n",
    "- Search for @gmail emails\n",
    "- Match for 'Sarah'\n",
    "- Match for 'Sarah', while allowing for prefixes like `Dr.`\n",
    "- match for patrons 18 years or older, from cities that start with \"North\""
   ]
  },
  {
   "cell_type": "code",
   "execution_count": 35,
   "metadata": {},
   "outputs": [
    {
     "name": "stdout",
     "output_type": "stream",
     "text": [
      " * sqlite:///../data/circulation.sqlite\n",
      "   sqlite:///../data/week2.db\n",
      "Done.\n"
     ]
    },
    {
     "data": {
      "text/html": [
       "<table>\n",
       "    <thead>\n",
       "        <tr>\n",
       "            <th>id</th>\n",
       "            <th>name</th>\n",
       "            <th>age</th>\n",
       "            <th>email</th>\n",
       "            <th>zipcode</th>\n",
       "            <th>city</th>\n",
       "            <th>activity</th>\n",
       "        </tr>\n",
       "    </thead>\n",
       "    <tbody>\n",
       "        <tr>\n",
       "            <td>1</td>\n",
       "            <td>Jeremy Mata</td>\n",
       "            <td>30</td>\n",
       "            <td>timothymoore@gmail.com</td>\n",
       "            <td>52022</td>\n",
       "            <td>Thomasmouth</td>\n",
       "            <td>9</td>\n",
       "        </tr>\n",
       "        <tr>\n",
       "            <td>2</td>\n",
       "            <td>Daniel Garcia</td>\n",
       "            <td>55</td>\n",
       "            <td>mcdanielwilliam@sanchez-herrera.biz</td>\n",
       "            <td>09529</td>\n",
       "            <td>Deborahbury</td>\n",
       "            <td>3</td>\n",
       "        </tr>\n",
       "        <tr>\n",
       "            <td>3</td>\n",
       "            <td>Warren Green</td>\n",
       "            <td>17</td>\n",
       "            <td>janice81@flores.com</td>\n",
       "            <td>55036</td>\n",
       "            <td>Michelefurt</td>\n",
       "            <td>1</td>\n",
       "        </tr>\n",
       "        <tr>\n",
       "            <td>4</td>\n",
       "            <td>Erika Smith</td>\n",
       "            <td>4</td>\n",
       "            <td>tnichols@gregory.com</td>\n",
       "            <td>11235</td>\n",
       "            <td>Port Stephanie</td>\n",
       "            <td>3</td>\n",
       "        </tr>\n",
       "        <tr>\n",
       "            <td>5</td>\n",
       "            <td>Matthew Johnson</td>\n",
       "            <td>22</td>\n",
       "            <td>christina30@manning.info</td>\n",
       "            <td>52521</td>\n",
       "            <td>Jamesfort</td>\n",
       "            <td>4</td>\n",
       "        </tr>\n",
       "        <tr>\n",
       "            <td>6</td>\n",
       "            <td>Jackson Jackson</td>\n",
       "            <td>6</td>\n",
       "            <td>vincent18@compton-figueroa.com</td>\n",
       "            <td>83620</td>\n",
       "            <td>Irwinside</td>\n",
       "            <td>5</td>\n",
       "        </tr>\n",
       "        <tr>\n",
       "            <td>7</td>\n",
       "            <td>Sarah Brown</td>\n",
       "            <td>19</td>\n",
       "            <td>tyler16@mendoza.biz</td>\n",
       "            <td>98407</td>\n",
       "            <td>Kevinmouth</td>\n",
       "            <td>4</td>\n",
       "        </tr>\n",
       "        <tr>\n",
       "            <td>8</td>\n",
       "            <td>Michael Barnett</td>\n",
       "            <td>46</td>\n",
       "            <td>keith30@andersen.com</td>\n",
       "            <td>56064</td>\n",
       "            <td>Marystad</td>\n",
       "            <td>7</td>\n",
       "        </tr>\n",
       "        <tr>\n",
       "            <td>9</td>\n",
       "            <td>Hector Hill</td>\n",
       "            <td>31</td>\n",
       "            <td>ztaylor@watts.com</td>\n",
       "            <td>13482</td>\n",
       "            <td>Thomasmouth</td>\n",
       "            <td>2</td>\n",
       "        </tr>\n",
       "        <tr>\n",
       "            <td>10</td>\n",
       "            <td>Julie Barron</td>\n",
       "            <td>31</td>\n",
       "            <td>clarknorman@hotmail.com</td>\n",
       "            <td>45597</td>\n",
       "            <td>East Williamport</td>\n",
       "            <td>4</td>\n",
       "        </tr>\n",
       "    </tbody>\n",
       "</table>"
      ],
      "text/plain": [
       "[(1, 'Jeremy Mata', 30, 'timothymoore@gmail.com', '52022', 'Thomasmouth', 9),\n",
       " (2, 'Daniel Garcia', 55, 'mcdanielwilliam@sanchez-herrera.biz', '09529', 'Deborahbury', 3),\n",
       " (3, 'Warren Green', 17, 'janice81@flores.com', '55036', 'Michelefurt', 1),\n",
       " (4, 'Erika Smith', 4, 'tnichols@gregory.com', '11235', 'Port Stephanie', 3),\n",
       " (5, 'Matthew Johnson', 22, 'christina30@manning.info', '52521', 'Jamesfort', 4),\n",
       " (6, 'Jackson Jackson', 6, 'vincent18@compton-figueroa.com', '83620', 'Irwinside', 5),\n",
       " (7, 'Sarah Brown', 19, 'tyler16@mendoza.biz', '98407', 'Kevinmouth', 4),\n",
       " (8, 'Michael Barnett', 46, 'keith30@andersen.com', '56064', 'Marystad', 7),\n",
       " (9, 'Hector Hill', 31, 'ztaylor@watts.com', '13482', 'Thomasmouth', 2),\n",
       " (10, 'Julie Barron', 31, 'clarknorman@hotmail.com', '45597', 'East Williamport', 4)]"
      ]
     },
     "execution_count": 35,
     "metadata": {},
     "output_type": "execute_result"
    }
   ],
   "source": [
    "%%sql\n",
    "SELECT * FROM patrons\n",
    "LIMIT 10"
   ]
  },
  {
   "cell_type": "markdown",
   "metadata": {
    "slideshow": {
     "slide_type": "slide"
    }
   },
   "source": [
    "## Lab Break\n",
    "\n",
    "Let's turn to our lab and practice these skills for 20 minutes - Questions 1 to 9."
   ]
  },
  {
   "cell_type": "markdown",
   "metadata": {
    "slideshow": {
     "slide_type": "slide"
    }
   },
   "source": [
    "# Adding relations to the relational database with `JOIN`"
   ]
  },
  {
   "cell_type": "markdown",
   "metadata": {
    "slideshow": {
     "slide_type": "subslide"
    }
   },
   "source": [
    "![](../images/er-books1.png)"
   ]
  },
  {
   "cell_type": "markdown",
   "metadata": {
    "slideshow": {
     "slide_type": "subslide"
    }
   },
   "source": [
    "![](../images/er-books2.png)"
   ]
  },
  {
   "cell_type": "code",
   "execution_count": 36,
   "metadata": {
    "scrolled": true,
    "slideshow": {
     "slide_type": "subslide"
    }
   },
   "outputs": [
    {
     "name": "stdout",
     "output_type": "stream",
     "text": [
      " * sqlite:///../data/circulation.sqlite\n",
      "   sqlite:///../data/week2.db\n",
      "Done.\n"
     ]
    },
    {
     "data": {
      "text/html": [
       "<table>\n",
       "    <thead>\n",
       "        <tr>\n",
       "            <th>book_id</th>\n",
       "            <th>patron_id</th>\n",
       "            <th>checkout_time</th>\n",
       "            <th>return_time</th>\n",
       "        </tr>\n",
       "    </thead>\n",
       "    <tbody>\n",
       "        <tr>\n",
       "            <td>1898</td>\n",
       "            <td>862</td>\n",
       "            <td>2017-05-11 16:53:33.000000</td>\n",
       "            <td>2017-06-09 16:40:11.804214</td>\n",
       "        </tr>\n",
       "        <tr>\n",
       "            <td>450</td>\n",
       "            <td>215</td>\n",
       "            <td>2018-01-05 13:07:20.000000</td>\n",
       "            <td>2018-01-23 10:00:01.071255</td>\n",
       "        </tr>\n",
       "    </tbody>\n",
       "</table>"
      ],
      "text/plain": [
       "[(1898, 862, '2017-05-11 16:53:33.000000', '2017-06-09 16:40:11.804214'),\n",
       " (450, 215, '2018-01-05 13:07:20.000000', '2018-01-23 10:00:01.071255')]"
      ]
     },
     "execution_count": 36,
     "metadata": {},
     "output_type": "execute_result"
    }
   ],
   "source": [
    "%%sql\n",
    "SELECT * FROM circulation LIMIT 2;"
   ]
  },
  {
   "cell_type": "code",
   "execution_count": 37,
   "metadata": {
    "slideshow": {
     "slide_type": "fragment"
    }
   },
   "outputs": [
    {
     "name": "stdout",
     "output_type": "stream",
     "text": [
      "Done.\n"
     ]
    },
    {
     "data": {
      "text/html": [
       "<table>\n",
       "    <thead>\n",
       "        <tr>\n",
       "            <th>id</th>\n",
       "            <th>name</th>\n",
       "            <th>age</th>\n",
       "            <th>email</th>\n",
       "            <th>zipcode</th>\n",
       "            <th>city</th>\n",
       "            <th>activity</th>\n",
       "        </tr>\n",
       "    </thead>\n",
       "    <tbody>\n",
       "        <tr>\n",
       "            <td>215</td>\n",
       "            <td>Joseph Santiago</td>\n",
       "            <td>21</td>\n",
       "            <td>jennifer23@gmail.com</td>\n",
       "            <td>46510</td>\n",
       "            <td>South Amandabury</td>\n",
       "            <td>9</td>\n",
       "        </tr>\n",
       "        <tr>\n",
       "            <td>862</td>\n",
       "            <td>Michelle Wood</td>\n",
       "            <td>21</td>\n",
       "            <td>fcain@quinn.info</td>\n",
       "            <td>10880</td>\n",
       "            <td>South Matthew</td>\n",
       "            <td>3</td>\n",
       "        </tr>\n",
       "    </tbody>\n",
       "</table>"
      ],
      "text/plain": [
       "[(215, 'Joseph Santiago', 21, 'jennifer23@gmail.com', '46510', 'South Amandabury', 9),\n",
       " (862, 'Michelle Wood', 21, 'fcain@quinn.info', '10880', 'South Matthew', 3)]"
      ]
     },
     "execution_count": 37,
     "metadata": {},
     "output_type": "execute_result"
    }
   ],
   "source": [
    "%%sql sqlite:///../data/circulation.sqlite\n",
    "SELECT * FROM patrons WHERE id == '862' OR id == '215';"
   ]
  },
  {
   "cell_type": "code",
   "execution_count": 38,
   "metadata": {
    "slideshow": {
     "slide_type": "fragment"
    }
   },
   "outputs": [
    {
     "name": "stdout",
     "output_type": "stream",
     "text": [
      " * sqlite:///../data/circulation.sqlite\n",
      "   sqlite:///../data/week2.db\n",
      "Done.\n"
     ]
    },
    {
     "data": {
      "text/html": [
       "<table>\n",
       "    <thead>\n",
       "        <tr>\n",
       "            <th>id</th>\n",
       "            <th>title</th>\n",
       "            <th>author</th>\n",
       "            <th>isbn</th>\n",
       "        </tr>\n",
       "    </thead>\n",
       "    <tbody>\n",
       "        <tr>\n",
       "            <td>450</td>\n",
       "            <td>The Catcher in the Rye: Annotations and Study Aids</td>\n",
       "            <td>J.D. Salinger</td>\n",
       "            <td>1-7372489-2-1</td>\n",
       "        </tr>\n",
       "        <tr>\n",
       "            <td>1898</td>\n",
       "            <td>The Curious Incident of the Dog in the Night-time</td>\n",
       "            <td>Mark Haddon</td>\n",
       "            <td>0-916104-42-7</td>\n",
       "        </tr>\n",
       "    </tbody>\n",
       "</table>"
      ],
      "text/plain": [
       "[(450, 'The Catcher in the Rye: Annotations and Study Aids', 'J.D. Salinger', '1-7372489-2-1'),\n",
       " (1898, 'The Curious Incident of the Dog in the Night-time', 'Mark Haddon', '0-916104-42-7')]"
      ]
     },
     "execution_count": 38,
     "metadata": {},
     "output_type": "execute_result"
    }
   ],
   "source": [
    "%%sql\n",
    "SELECT * FROM books WHERE id == '1898' OR id == '450';"
   ]
  },
  {
   "cell_type": "markdown",
   "metadata": {
    "slideshow": {
     "slide_type": "subslide"
    }
   },
   "source": [
    "`JOIN` allows you to match up tables on a common column.\n",
    "\n",
    "e.g. Combine `circulation` and `books` tables where circulation's 'book_id' matches up with 'id' from books."
   ]
  },
  {
   "cell_type": "markdown",
   "metadata": {
    "slideshow": {
     "slide_type": "subslide"
    }
   },
   "source": [
    "Example:\n",
    "    \n",
    "Select our circulation columns again."
   ]
  },
  {
   "cell_type": "code",
   "execution_count": 39,
   "metadata": {
    "scrolled": true
   },
   "outputs": [
    {
     "name": "stdout",
     "output_type": "stream",
     "text": [
      " * sqlite:///../data/circulation.sqlite\n",
      "   sqlite:///../data/week2.db\n",
      "Done.\n"
     ]
    },
    {
     "data": {
      "text/html": [
       "<table>\n",
       "    <thead>\n",
       "        <tr>\n",
       "            <th>book_id</th>\n",
       "            <th>patron_id</th>\n",
       "            <th>checkout_time</th>\n",
       "            <th>return_time</th>\n",
       "        </tr>\n",
       "    </thead>\n",
       "    <tbody>\n",
       "        <tr>\n",
       "            <td>1898</td>\n",
       "            <td>862</td>\n",
       "            <td>2017-05-11 16:53:33.000000</td>\n",
       "            <td>2017-06-09 16:40:11.804214</td>\n",
       "        </tr>\n",
       "        <tr>\n",
       "            <td>450</td>\n",
       "            <td>215</td>\n",
       "            <td>2018-01-05 13:07:20.000000</td>\n",
       "            <td>2018-01-23 10:00:01.071255</td>\n",
       "        </tr>\n",
       "    </tbody>\n",
       "</table>"
      ],
      "text/plain": [
       "[(1898, 862, '2017-05-11 16:53:33.000000', '2017-06-09 16:40:11.804214'),\n",
       " (450, 215, '2018-01-05 13:07:20.000000', '2018-01-23 10:00:01.071255')]"
      ]
     },
     "execution_count": 39,
     "metadata": {},
     "output_type": "execute_result"
    }
   ],
   "source": [
    "%%sql\n",
    "SELECT * FROM circulation\n",
    "    LIMIT 2;"
   ]
  },
  {
   "cell_type": "markdown",
   "metadata": {
    "slideshow": {
     "slide_type": "fragment"
    }
   },
   "source": [
    "Add the books columns:"
   ]
  },
  {
   "cell_type": "code",
   "execution_count": 40,
   "metadata": {
    "slideshow": {
     "slide_type": "fragment"
    }
   },
   "outputs": [
    {
     "name": "stdout",
     "output_type": "stream",
     "text": [
      " * sqlite:///../data/circulation.sqlite\n",
      "   sqlite:///../data/week2.db\n",
      "Done.\n"
     ]
    },
    {
     "data": {
      "text/html": [
       "<table>\n",
       "    <thead>\n",
       "        <tr>\n",
       "            <th>book_id</th>\n",
       "            <th>patron_id</th>\n",
       "            <th>checkout_time</th>\n",
       "            <th>return_time</th>\n",
       "            <th>id</th>\n",
       "            <th>title</th>\n",
       "            <th>author</th>\n",
       "            <th>isbn</th>\n",
       "        </tr>\n",
       "    </thead>\n",
       "    <tbody>\n",
       "        <tr>\n",
       "            <td>1898</td>\n",
       "            <td>862</td>\n",
       "            <td>2017-05-11 16:53:33.000000</td>\n",
       "            <td>2017-06-09 16:40:11.804214</td>\n",
       "            <td>1898</td>\n",
       "            <td>The Curious Incident of the Dog in the Night-time</td>\n",
       "            <td>Mark Haddon</td>\n",
       "            <td>0-916104-42-7</td>\n",
       "        </tr>\n",
       "        <tr>\n",
       "            <td>450</td>\n",
       "            <td>215</td>\n",
       "            <td>2018-01-05 13:07:20.000000</td>\n",
       "            <td>2018-01-23 10:00:01.071255</td>\n",
       "            <td>450</td>\n",
       "            <td>The Catcher in the Rye: Annotations and Study Aids</td>\n",
       "            <td>J.D. Salinger</td>\n",
       "            <td>1-7372489-2-1</td>\n",
       "        </tr>\n",
       "    </tbody>\n",
       "</table>"
      ],
      "text/plain": [
       "[(1898, 862, '2017-05-11 16:53:33.000000', '2017-06-09 16:40:11.804214', 1898, 'The Curious Incident of the Dog in the Night-time', 'Mark Haddon', '0-916104-42-7'),\n",
       " (450, 215, '2018-01-05 13:07:20.000000', '2018-01-23 10:00:01.071255', 450, 'The Catcher in the Rye: Annotations and Study Aids', 'J.D. Salinger', '1-7372489-2-1')]"
      ]
     },
     "execution_count": 40,
     "metadata": {},
     "output_type": "execute_result"
    }
   ],
   "source": [
    "%%sql\n",
    "SELECT * FROM circulation\n",
    "    JOIN books ON (circulation.book_id == books.id)\n",
    "    LIMIT 2;"
   ]
  },
  {
   "cell_type": "markdown",
   "metadata": {},
   "source": [
    "It matches!"
   ]
  },
  {
   "cell_type": "markdown",
   "metadata": {
    "slideshow": {
     "slide_type": "subslide"
    }
   },
   "source": [
    "**Problem**: Too many columns, and the id is redundant.\n",
    "\n",
    "**Solution**: Select columns by referencing the table name, as in `tableName.columnName`.\n",
    "\n",
    "e.g. \n",
    "- `SELECT circulation.checkout_time, books.title`\n",
    "- `SELECT circulation.*, books.title`"
   ]
  },
  {
   "cell_type": "code",
   "execution_count": 41,
   "metadata": {
    "slideshow": {
     "slide_type": "fragment"
    }
   },
   "outputs": [
    {
     "name": "stdout",
     "output_type": "stream",
     "text": [
      " * sqlite:///../data/circulation.sqlite\n",
      "   sqlite:///../data/week2.db\n",
      "Done.\n"
     ]
    },
    {
     "data": {
      "text/html": [
       "<table>\n",
       "    <thead>\n",
       "        <tr>\n",
       "            <th>title</th>\n",
       "            <th>author</th>\n",
       "            <th>book_id</th>\n",
       "            <th>patron_id</th>\n",
       "            <th>checkout_time</th>\n",
       "            <th>return_time</th>\n",
       "        </tr>\n",
       "    </thead>\n",
       "    <tbody>\n",
       "        <tr>\n",
       "            <td>The Curious Incident of the Dog in the Night-time</td>\n",
       "            <td>Mark Haddon</td>\n",
       "            <td>1898</td>\n",
       "            <td>862</td>\n",
       "            <td>2017-05-11 16:53:33.000000</td>\n",
       "            <td>2017-06-09 16:40:11.804214</td>\n",
       "        </tr>\n",
       "        <tr>\n",
       "            <td>The Catcher in the Rye: Annotations and Study Aids</td>\n",
       "            <td>J.D. Salinger</td>\n",
       "            <td>450</td>\n",
       "            <td>215</td>\n",
       "            <td>2018-01-05 13:07:20.000000</td>\n",
       "            <td>2018-01-23 10:00:01.071255</td>\n",
       "        </tr>\n",
       "    </tbody>\n",
       "</table>"
      ],
      "text/plain": [
       "[('The Curious Incident of the Dog in the Night-time', 'Mark Haddon', 1898, 862, '2017-05-11 16:53:33.000000', '2017-06-09 16:40:11.804214'),\n",
       " ('The Catcher in the Rye: Annotations and Study Aids', 'J.D. Salinger', 450, 215, '2018-01-05 13:07:20.000000', '2018-01-23 10:00:01.071255')]"
      ]
     },
     "execution_count": 41,
     "metadata": {},
     "output_type": "execute_result"
    }
   ],
   "source": [
    "%%sql\n",
    "SELECT books.title, books.author, circulation.* FROM circulation\n",
    "    JOIN books ON (circulation.book_id == books.id)\n",
    "    LIMIT 2;"
   ]
  },
  {
   "cell_type": "markdown",
   "metadata": {
    "slideshow": {
     "slide_type": "subslide"
    }
   },
   "source": [
    "*How do we add the patron info?*"
   ]
  },
  {
   "cell_type": "code",
   "execution_count": 42,
   "metadata": {
    "scrolled": true
   },
   "outputs": [
    {
     "name": "stdout",
     "output_type": "stream",
     "text": [
      " * sqlite:///../data/circulation.sqlite\n",
      "   sqlite:///../data/week2.db\n",
      "Done.\n"
     ]
    },
    {
     "data": {
      "text/html": [
       "<table>\n",
       "    <thead>\n",
       "        <tr>\n",
       "            <th>title</th>\n",
       "            <th>author</th>\n",
       "            <th>name</th>\n",
       "            <th>email</th>\n",
       "            <th>book_id</th>\n",
       "            <th>patron_id</th>\n",
       "            <th>checkout_time</th>\n",
       "            <th>return_time</th>\n",
       "        </tr>\n",
       "    </thead>\n",
       "    <tbody>\n",
       "        <tr>\n",
       "            <td>The Curious Incident of the Dog in the Night-time</td>\n",
       "            <td>Mark Haddon</td>\n",
       "            <td>Michelle Wood</td>\n",
       "            <td>fcain@quinn.info</td>\n",
       "            <td>1898</td>\n",
       "            <td>862</td>\n",
       "            <td>2017-05-11 16:53:33.000000</td>\n",
       "            <td>2017-06-09 16:40:11.804214</td>\n",
       "        </tr>\n",
       "        <tr>\n",
       "            <td>The Catcher in the Rye: Annotations and Study Aids</td>\n",
       "            <td>J.D. Salinger</td>\n",
       "            <td>Joseph Santiago</td>\n",
       "            <td>jennifer23@gmail.com</td>\n",
       "            <td>450</td>\n",
       "            <td>215</td>\n",
       "            <td>2018-01-05 13:07:20.000000</td>\n",
       "            <td>2018-01-23 10:00:01.071255</td>\n",
       "        </tr>\n",
       "    </tbody>\n",
       "</table>"
      ],
      "text/plain": [
       "[('The Curious Incident of the Dog in the Night-time', 'Mark Haddon', 'Michelle Wood', 'fcain@quinn.info', 1898, 862, '2017-05-11 16:53:33.000000', '2017-06-09 16:40:11.804214'),\n",
       " ('The Catcher in the Rye: Annotations and Study Aids', 'J.D. Salinger', 'Joseph Santiago', 'jennifer23@gmail.com', 450, 215, '2018-01-05 13:07:20.000000', '2018-01-23 10:00:01.071255')]"
      ]
     },
     "execution_count": 42,
     "metadata": {},
     "output_type": "execute_result"
    }
   ],
   "source": [
    "%%sql\n",
    "SELECT books.title, books.author, patrons.name, patrons.email, circulation.* FROM circulation\n",
    "    JOIN books ON (circulation.book_id == books.id)\n",
    "    JOIN patrons ON (circulation.patron_id == patrons.id) \n",
    "    LIMIT 2;"
   ]
  },
  {
   "cell_type": "markdown",
   "metadata": {
    "slideshow": {
     "slide_type": "slide"
    }
   },
   "source": [
    "## Different types of `JOIN`s"
   ]
  },
  {
   "cell_type": "markdown",
   "metadata": {
    "slideshow": {
     "slide_type": "subslide"
    }
   },
   "source": [
    "Joins have a number of permutations:\n",
    " - INNER (the default)\n",
    " - LEFT, RIGHT, or FULL OUTER"
   ]
  },
  {
   "cell_type": "markdown",
   "metadata": {
    "slideshow": {
     "slide_type": "subslide"
    }
   },
   "source": [
    "For our examples we're joining `books` to `circulation`.\n",
    "\n",
    "That is: we `SELECT ... FROM circulation` and `JOIN books`."
   ]
  },
  {
   "cell_type": "markdown",
   "metadata": {
    "slideshow": {
     "slide_type": "fragment"
    }
   },
   "source": [
    "*One is considered the left table and the other is the right. Can you guess which one is which?*"
   ]
  },
  {
   "cell_type": "markdown",
   "metadata": {
    "slideshow": {
     "slide_type": "fragment"
    }
   },
   "source": [
    "Left: `circulation`, Right: `books`"
   ]
  },
  {
   "cell_type": "markdown",
   "metadata": {
    "slideshow": {
     "slide_type": "fragment"
    }
   },
   "source": [
    "Remember, we could have also selected from books, joining circulation - then the left and right would be flipped."
   ]
  },
  {
   "cell_type": "markdown",
   "metadata": {
    "slideshow": {
     "slide_type": "subslide"
    }
   },
   "source": [
    "### INNER JOIN\n",
    "\n",
    "An INNER JOIN only returns the records that match in both tables.\n",
    "\n",
    "That is, if we `JOIN table2 ON (table1.id == table2.table1_id)`, We only return the rows where there's an id that exists in both tables."
   ]
  },
  {
   "cell_type": "markdown",
   "metadata": {
    "slideshow": {
     "slide_type": "fragment"
    }
   },
   "source": [
    "Example:\n",
    "\n",
    "- If circulation mentions a book_id and that book is in the books table - INNER JOIN will return that row\n",
    "- If circulation mentions a book_id but that book isn't in the books table (banned by Big Brother?) - INNER JOIN won't return it \n",
    "- If there's a book that hasn't been checked out (no record in circulation) - INNER JOIN won't return it\n",
    "\n",
    "Example use case:\n",
    "\n",
    "- Get info for all the books that have been checked out."
   ]
  },
  {
   "cell_type": "markdown",
   "metadata": {
    "slideshow": {
     "slide_type": "subslide"
    }
   },
   "source": [
    "### LEFT OUTER JOIN (often called just a `LEFT JOIN`)\n",
    "\n",
    "A left outer join returns all the records in the left table whether they have a match in the right table or not. If there is no match, a NULL is returned."
   ]
  },
  {
   "cell_type": "markdown",
   "metadata": {
    "slideshow": {
     "slide_type": "fragment"
    }
   },
   "source": [
    "Example:\n",
    "\n",
    "- If circulation mentions a book_id and that book is in the books table - ...?\n",
    "- If circulation mentions a book_id but that book isn't in the books table - ...?\n",
    "- If there's a book that hasn't been checked out (no record in circulation) - ...?"
   ]
  },
  {
   "cell_type": "markdown",
   "metadata": {
    "slideshow": {
     "slide_type": "subslide"
    }
   },
   "source": [
    "Example:\n",
    "\n",
    "- If circulation mentions a book_id and that book is in the books table - LEFT OUTER JOIN **will** return it\n",
    "- If circulation mentions a book_id but that book isn't in the books table  - LEFT OUTER JOIN **will** return it \n",
    "- If there's a book that hasn't been checked out (no record in circulation) - LEFT OUTER JOIN **won't** return it\n",
    "\n",
    "Example use case:\n",
    "\n",
    "- Return all books that have been checked out - with info if we have it but still showing the checkout if the info is missing"
   ]
  },
  {
   "cell_type": "markdown",
   "metadata": {
    "slideshow": {
     "slide_type": "subslide"
    }
   },
   "source": [
    "### RIGHT OUTER JOIN\n",
    "\n",
    "Return all records in the *right* table whether they have a match in the left table or not.\n",
    "\n",
    "e.g. If there's a book that's never been checked out, it will still be shown.\n",
    "\n",
    "### FULL OUTER JOIN\n",
    "\n",
    "Return all records that are in either of the tables.\n",
    "\n",
    "*SQLite doesn't support RIGHT OUTER and FULL OUTER*"
   ]
  },
  {
   "cell_type": "markdown",
   "metadata": {
    "slideshow": {
     "slide_type": "subslide"
    }
   },
   "source": [
    "### Practice with INNER JOIN (the default JOIN)\n",
    "\n",
    "- How do we retrieve all the books checked out by 8-year olds?\n",
    "    - (I made up this data... these aren't books kids are reading!)\n",
    "- Who has most recently returned a book?\n",
    "- Who has most recently checked out _The Catcher in the Rye_?"
   ]
  },
  {
   "cell_type": "code",
   "execution_count": null,
   "metadata": {},
   "outputs": [],
   "source": [
    "%%sql\n",
    "SELECT books.title, books.author, circulation.* FROM circulation\n",
    "    JOIN books ON (circulation.book_id == books.id)\n",
    "    ... \n",
    "    LIMIT 20 \n",
    "    ;"
   ]
  },
  {
   "cell_type": "markdown",
   "metadata": {
    "slideshow": {
     "slide_type": "subslide"
    }
   },
   "source": [
    "Here's a semi-realistic use: retrieve the emails of anybody that hasn't returned their book yet:"
   ]
  },
  {
   "cell_type": "code",
   "execution_count": 101,
   "metadata": {
    "scrolled": true,
    "slideshow": {
     "slide_type": "-"
    }
   },
   "outputs": [
    {
     "name": "stdout",
     "output_type": "stream",
     "text": [
      " * sqlite:///../data/circulation.sqlite\n",
      "   sqlite:///../data/week2.db\n",
      "Done.\n"
     ]
    },
    {
     "data": {
      "text/html": [
       "<table>\n",
       "    <thead>\n",
       "        <tr>\n",
       "            <th>name</th>\n",
       "            <th>email</th>\n",
       "            <th>book_id</th>\n",
       "            <th>patron_id</th>\n",
       "            <th>checkout_time</th>\n",
       "            <th>return_time</th>\n",
       "        </tr>\n",
       "    </thead>\n",
       "    <tbody>\n",
       "        <tr>\n",
       "            <td>Nicholas Harmon</td>\n",
       "            <td>savannah36@gmail.com</td>\n",
       "            <td>122</td>\n",
       "            <td>882</td>\n",
       "            <td>2018-03-15 10:17:11.000000</td>\n",
       "            <td>None</td>\n",
       "        </tr>\n",
       "        <tr>\n",
       "            <td>John Wells</td>\n",
       "            <td>caitlin32@hotmail.com</td>\n",
       "            <td>571</td>\n",
       "            <td>305</td>\n",
       "            <td>2018-04-04 08:24:34.000000</td>\n",
       "            <td>None</td>\n",
       "        </tr>\n",
       "        <tr>\n",
       "            <td>Scott Bell</td>\n",
       "            <td>jason84@yahoo.com</td>\n",
       "            <td>45</td>\n",
       "            <td>275</td>\n",
       "            <td>2018-04-03 15:47:15.000000</td>\n",
       "            <td>None</td>\n",
       "        </tr>\n",
       "        <tr>\n",
       "            <td>Stephanie Harmon</td>\n",
       "            <td>elizabethhayes@gmail.com</td>\n",
       "            <td>573</td>\n",
       "            <td>537</td>\n",
       "            <td>2018-03-15 07:36:33.000000</td>\n",
       "            <td>None</td>\n",
       "        </tr>\n",
       "        <tr>\n",
       "            <td>Rebecca Zimmerman</td>\n",
       "            <td>ofields@porter.biz</td>\n",
       "            <td>272</td>\n",
       "            <td>839</td>\n",
       "            <td>2018-04-04 04:52:20.000000</td>\n",
       "            <td>None</td>\n",
       "        </tr>\n",
       "        <tr>\n",
       "            <td>Kathryn Nguyen</td>\n",
       "            <td>wongandrea@clark.net</td>\n",
       "            <td>863</td>\n",
       "            <td>828</td>\n",
       "            <td>2018-03-14 17:49:29.000000</td>\n",
       "            <td>None</td>\n",
       "        </tr>\n",
       "        <tr>\n",
       "            <td>Renee George</td>\n",
       "            <td>jennifer02@hunter.com</td>\n",
       "            <td>1508</td>\n",
       "            <td>670</td>\n",
       "            <td>2018-03-19 16:20:20.000000</td>\n",
       "            <td>None</td>\n",
       "        </tr>\n",
       "        <tr>\n",
       "            <td>Logan Matthews</td>\n",
       "            <td>igibson@gmail.com</td>\n",
       "            <td>183</td>\n",
       "            <td>321</td>\n",
       "            <td>2018-03-30 03:49:07.000000</td>\n",
       "            <td>None</td>\n",
       "        </tr>\n",
       "        <tr>\n",
       "            <td>Heather Lopez</td>\n",
       "            <td>xwilliams@rollins.com</td>\n",
       "            <td>135</td>\n",
       "            <td>588</td>\n",
       "            <td>2018-04-04 05:53:18.000000</td>\n",
       "            <td>None</td>\n",
       "        </tr>\n",
       "        <tr>\n",
       "            <td>Reginald Odonnell</td>\n",
       "            <td>davisdaniel@davis-moore.com</td>\n",
       "            <td>1603</td>\n",
       "            <td>210</td>\n",
       "            <td>2018-04-06 17:21:21.000000</td>\n",
       "            <td>None</td>\n",
       "        </tr>\n",
       "    </tbody>\n",
       "</table>"
      ],
      "text/plain": [
       "[('Nicholas Harmon', 'savannah36@gmail.com', 122, 882, '2018-03-15 10:17:11.000000', None),\n",
       " ('John Wells', 'caitlin32@hotmail.com', 571, 305, '2018-04-04 08:24:34.000000', None),\n",
       " ('Scott Bell', 'jason84@yahoo.com', 45, 275, '2018-04-03 15:47:15.000000', None),\n",
       " ('Stephanie Harmon', 'elizabethhayes@gmail.com', 573, 537, '2018-03-15 07:36:33.000000', None),\n",
       " ('Rebecca Zimmerman', 'ofields@porter.biz', 272, 839, '2018-04-04 04:52:20.000000', None),\n",
       " ('Kathryn Nguyen', 'wongandrea@clark.net', 863, 828, '2018-03-14 17:49:29.000000', None),\n",
       " ('Renee George', 'jennifer02@hunter.com', 1508, 670, '2018-03-19 16:20:20.000000', None),\n",
       " ('Logan Matthews', 'igibson@gmail.com', 183, 321, '2018-03-30 03:49:07.000000', None),\n",
       " ('Heather Lopez', 'xwilliams@rollins.com', 135, 588, '2018-04-04 05:53:18.000000', None),\n",
       " ('Reginald Odonnell', 'davisdaniel@davis-moore.com', 1603, 210, '2018-04-06 17:21:21.000000', None)]"
      ]
     },
     "execution_count": 101,
     "metadata": {},
     "output_type": "execute_result"
    }
   ],
   "source": [
    "%%sql\n",
    "SELECT patrons.email, circulation.* FROM circulation \n",
    "    JOIN patrons ON (circulation.patron_id == patrons.id)\n",
    "    WHERE circulation.return_time IS NULL\n",
    "    LIMIT 10;"
   ]
  },
  {
   "cell_type": "markdown",
   "metadata": {
    "slideshow": {
     "slide_type": "subslide"
    }
   },
   "source": [
    "This uses a value that we haven't seen before - `IS NULL`.\n",
    "\n",
    "*If you're looking for more details on SQL beyond this class's scope, [MySQL by Example for Beginners](https://www3.ntu.edu.sg/home/ehchua/programming/sql/MySQL_Beginner.html) from last week is a good reference.*"
   ]
  },
  {
   "cell_type": "markdown",
   "metadata": {},
   "source": [
    "## Lab Break\n",
    "\n",
    "Let's work on these skills for 20 minutes in the lab - Q10 - Q12. (If you didn't get through 1-9, you can return to them later)"
   ]
  },
  {
   "cell_type": "markdown",
   "metadata": {
    "slideshow": {
     "slide_type": "slide"
    }
   },
   "source": [
    "# Python"
   ]
  },
  {
   "cell_type": "markdown",
   "metadata": {},
   "source": [
    "### Bridging SQL and Python\n",
    "- SQL is great for: retrieving, filtering, joining data from databases\n",
    "- Python is great for: processing, analyzing, visualizing that data\n",
    "- Together they form a powerful data analysis workflow"
   ]
  },
  {
   "cell_type": "markdown",
   "metadata": {
    "slideshow": {
     "slide_type": "slide"
    }
   },
   "source": [
    "## Python: *methods* and *functions*\n",
    "\n",
    "A function is a 'recipe' of multiple instructions that you may want to repeat."
   ]
  },
  {
   "cell_type": "markdown",
   "metadata": {
    "slideshow": {
     "slide_type": "subslide"
    }
   },
   "source": [
    "You can recognize a function in Python by its parentheses. For example:\n",
    "    \n",
    "```print()```\n",
    "\n",
    "This boils down a long set of instructions to just one."
   ]
  },
  {
   "cell_type": "markdown",
   "metadata": {
    "slideshow": {
     "slide_type": "subslide"
    }
   },
   "source": [
    "When you run `print()`, it needs to figure out what system you're using and how to tell that system to shows something on the screen.\n",
    "\n",
    "Consider:\n",
    "- A Windows command line and a Mac OS command line print things different.\n",
    "- Some terminals support special characters - others don't.\n",
    "- In Jupyter, we're in a webpage: the results are printed in HTML."
   ]
  },
  {
   "cell_type": "markdown",
   "metadata": {
    "slideshow": {
     "slide_type": "subslide"
    }
   },
   "source": [
    "#### Inputs to functions\n",
    "\n",
    "Nobody just runs `print()` - you do something like:"
   ]
  },
  {
   "cell_type": "code",
   "execution_count": 51,
   "metadata": {},
   "outputs": [
    {
     "name": "stdout",
     "output_type": "stream",
     "text": [
      "Some text\n"
     ]
    }
   ],
   "source": [
    "print(\"Some text\")"
   ]
  },
  {
   "cell_type": "markdown",
   "metadata": {
    "slideshow": {
     "slide_type": "-"
    }
   },
   "source": [
    "Inputs to functions are *arguments* - and there can be many!"
   ]
  },
  {
   "cell_type": "markdown",
   "metadata": {
    "slideshow": {
     "slide_type": "subslide"
    }
   },
   "source": [
    "Recall that we can look up code documentation in Jupyter with a `?`:"
   ]
  },
  {
   "cell_type": "code",
   "execution_count": 118,
   "metadata": {},
   "outputs": [],
   "source": [
    "?print"
   ]
  },
  {
   "cell_type": "markdown",
   "metadata": {},
   "source": [
    "Will show:\n",
    "\n",
    "```\n",
    "Docstring:\n",
    "print(value, ..., sep=' ', end='\\n', file=sys.stdout, flush=False)\n",
    "\n",
    "Prints the values to a stream, or to sys.stdout by default.\n",
    "Optional keyword arguments:\n",
    "file:  a file-like object (stream); defaults to the current sys.stdout.\n",
    "sep:   string inserted between values, default a space.\n",
    "end:   string appended after the last value, default a newline.\n",
    "flush: whether to forcibly flush the stream.\n",
    "```\n",
    "\n",
    "There are more arguments that you can supply! "
   ]
  },
  {
   "cell_type": "markdown",
   "metadata": {
    "slideshow": {
     "slide_type": "subslide"
    }
   },
   "source": [
    "```\n",
    "print(value, ..., sep=' ', end='\\n', file=sys.stdout, flush=False)\n",
    "```\n",
    "\n",
    "Multiple values:"
   ]
  },
  {
   "cell_type": "code",
   "execution_count": 43,
   "metadata": {
    "scrolled": true
   },
   "outputs": [
    {
     "name": "stdout",
     "output_type": "stream",
     "text": [
      "Hello World\n"
     ]
    }
   ],
   "source": [
    "print(\"Hello\", \"World\")"
   ]
  },
  {
   "cell_type": "markdown",
   "metadata": {
    "slideshow": {
     "slide_type": "subslide"
    }
   },
   "source": [
    "### Named Arguments\n",
    "```\n",
    "print(value, ..., sep=' ', end='\\n', file=sys.stdout, flush=False)\n",
    "\n",
    "Prints the values to a stream, or to sys.stdout by default.\n",
    "Optional keyword arguments:\n",
    "file:  a file-like object (stream); defaults to the current sys.stdout.\n",
    "sep:   string inserted between values, default a space.\n",
    "end:   string appended after the last value, default a newline.\n",
    "flush: whether to forcibly flush the stream.\n",
    "```\n",
    "\n"
   ]
  },
  {
   "cell_type": "markdown",
   "metadata": {
    "slideshow": {
     "slide_type": "subslide"
    }
   },
   "source": [
    "`sep=' '` is a *named* argument: you can change it by referring to it by name, but if you don't change it, there is already a default set."
   ]
  },
  {
   "cell_type": "code",
   "execution_count": null,
   "metadata": {
    "slideshow": {
     "slide_type": "fragment"
    }
   },
   "outputs": [],
   "source": [
    "pd.read_csv(\"data.csv\", sep=\"....\")"
   ]
  },
  {
   "cell_type": "markdown",
   "metadata": {
    "slideshow": {
     "slide_type": "subslide"
    }
   },
   "source": [
    "### Methods\n",
    "\n",
    "Many objects in Python have build-in functions, called `methods`.\n",
    "\n",
    "These look the same, but are run from the object, with a period denoting that 'this method belongs to this object'."
   ]
  },
  {
   "cell_type": "code",
   "execution_count": 119,
   "metadata": {
    "slideshow": {
     "slide_type": "subslide"
    }
   },
   "outputs": [
    {
     "data": {
      "text/plain": [
       "'HELLO WORLD'"
      ]
     },
     "execution_count": 119,
     "metadata": {},
     "output_type": "execute_result"
    }
   ],
   "source": [
    "teststring = \"Hello world\"\n",
    "teststring.upper()"
   ]
  },
  {
   "cell_type": "markdown",
   "metadata": {},
   "source": [
    "The `replace` method of strings:"
   ]
  },
  {
   "cell_type": "code",
   "execution_count": 124,
   "metadata": {},
   "outputs": [
    {
     "data": {
      "text/plain": [
       "'Goodbye world'"
      ]
     },
     "execution_count": 124,
     "metadata": {},
     "output_type": "execute_result"
    }
   ],
   "source": [
    "teststring.replace('Hello', 'Goodbye')"
   ]
  },
  {
   "cell_type": "markdown",
   "metadata": {
    "slideshow": {
     "slide_type": "subslide"
    }
   },
   "source": [
    "Try auto-complete to see all the methods for something:"
   ]
  },
  {
   "cell_type": "code",
   "execution_count": null,
   "metadata": {},
   "outputs": [],
   "source": [
    "teststring."
   ]
  },
  {
   "cell_type": "markdown",
   "metadata": {
    "slideshow": {
     "slide_type": "subslide"
    }
   },
   "source": [
    "### Method Chaining\n",
    "\n",
    "Think about what type of object is returned by a method like `teststring.replace()`."
   ]
  },
  {
   "cell_type": "code",
   "execution_count": 19,
   "metadata": {},
   "outputs": [
    {
     "data": {
      "text/plain": [
       "str"
      ]
     },
     "execution_count": 19,
     "metadata": {},
     "output_type": "execute_result"
    }
   ],
   "source": [
    "type(teststring)"
   ]
  },
  {
   "cell_type": "code",
   "execution_count": 133,
   "metadata": {},
   "outputs": [
    {
     "data": {
      "text/plain": [
       "'world'"
      ]
     },
     "execution_count": 133,
     "metadata": {},
     "output_type": "execute_result"
    }
   ],
   "source": [
    "output = teststring.replace('Hello', 'Goodbye')\n",
    "words = output.split(' ')\n",
    "words[0]"
   ]
  },
  {
   "cell_type": "code",
   "execution_count": 25,
   "metadata": {},
   "outputs": [
    {
     "data": {
      "text/plain": [
       "str"
      ]
     },
     "execution_count": 25,
     "metadata": {},
     "output_type": "execute_result"
    }
   ],
   "source": [
    "replaced = teststring.replace('Hello', 'Goodbye')\n",
    "type(replaced)"
   ]
  },
  {
   "cell_type": "markdown",
   "metadata": {
    "slideshow": {
     "slide_type": "subslide"
    }
   },
   "source": [
    "Since the output is a string, it has the same methods that the original string has."
   ]
  },
  {
   "cell_type": "code",
   "execution_count": 106,
   "metadata": {},
   "outputs": [
    {
     "data": {
      "text/plain": [
       "'GOODBYE WORLD'"
      ]
     },
     "execution_count": 106,
     "metadata": {},
     "output_type": "execute_result"
    }
   ],
   "source": [
    "replaced = teststring.replace('Hello', 'Goodbye')\n",
    "uppercased = replaced.upper()\n",
    "uppercased"
   ]
  },
  {
   "cell_type": "markdown",
   "metadata": {
    "slideshow": {
     "slide_type": "fragment"
    }
   },
   "source": [
    "Since we won't keep using `replaced` in this example and we know what type of output `replace()` has, we can *chain* the methods:"
   ]
  },
  {
   "cell_type": "code",
   "execution_count": 219,
   "metadata": {},
   "outputs": [
    {
     "data": {
      "text/plain": [
       "'GOODBYE WORLD'"
      ]
     },
     "execution_count": 219,
     "metadata": {},
     "output_type": "execute_result"
    }
   ],
   "source": [
    "teststring.replace('Hello', 'Goodbye').upper()"
   ]
  },
  {
   "cell_type": "markdown",
   "metadata": {
    "slideshow": {
     "slide_type": "subslide"
    }
   },
   "source": [
    "# When in doubt, set objects to multiple variables on multiple lines\n",
    "\n",
    "Easy to read, easier to make sense of, easier to debug"
   ]
  },
  {
   "cell_type": "markdown",
   "metadata": {
    "slideshow": {
     "slide_type": "slide"
    }
   },
   "source": [
    "## Python: Imports\n",
    "\n",
    "In week 1, we discussed 'libraries': importable collections of code.\n",
    "\n",
    "To import a library:\n",
    "\n",
    "`import libraryname`\n",
    "\n",
    "Then you can use the `libraryname` code."
   ]
  },
  {
   "cell_type": "markdown",
   "metadata": {
    "slideshow": {
     "slide_type": "subslide"
    }
   },
   "source": [
    "Our soon-to-be-favorite library:"
   ]
  },
  {
   "cell_type": "code",
   "execution_count": 46,
   "metadata": {
    "slideshow": {
     "slide_type": "-"
    }
   },
   "outputs": [],
   "source": [
    "import pandas"
   ]
  },
  {
   "cell_type": "markdown",
   "metadata": {
    "slideshow": {
     "slide_type": "subslide"
    }
   },
   "source": [
    "When we use something a _lot_, we can give it a different name by saying 'import THIS as THAT'. \n",
    "\n",
    "e.g. Pandas convention is to call it `pd` in your code:"
   ]
  },
  {
   "cell_type": "code",
   "execution_count": 47,
   "metadata": {
    "slideshow": {
     "slide_type": "-"
    }
   },
   "outputs": [],
   "source": [
    "import pandas as pd"
   ]
  },
  {
   "cell_type": "markdown",
   "metadata": {
    "slideshow": {
     "slide_type": "slide"
    }
   },
   "source": [
    "Dataset: Prestige of Canadian Occupations - [CSV](https://raw.githubusercontent.com/vincentarelbundock/Rdatasets/master/csv/carData/Prestige.csv), [DOC](http://vincentarelbundock.github.io/Rdatasets/doc/car/Prestige.html)"
   ]
  },
  {
   "cell_type": "code",
   "execution_count": 48,
   "metadata": {
    "slideshow": {
     "slide_type": "-"
    }
   },
   "outputs": [
    {
     "data": {
      "text/html": [
       "<div>\n",
       "<style scoped>\n",
       "    .dataframe tbody tr th:only-of-type {\n",
       "        vertical-align: middle;\n",
       "    }\n",
       "\n",
       "    .dataframe tbody tr th {\n",
       "        vertical-align: top;\n",
       "    }\n",
       "\n",
       "    .dataframe thead th {\n",
       "        text-align: right;\n",
       "    }\n",
       "</style>\n",
       "<table border=\"1\" class=\"dataframe\">\n",
       "  <thead>\n",
       "    <tr style=\"text-align: right;\">\n",
       "      <th></th>\n",
       "      <th>rownames</th>\n",
       "      <th>education</th>\n",
       "      <th>income</th>\n",
       "      <th>women</th>\n",
       "      <th>prestige</th>\n",
       "      <th>census</th>\n",
       "      <th>type</th>\n",
       "    </tr>\n",
       "  </thead>\n",
       "  <tbody>\n",
       "    <tr>\n",
       "      <th>0</th>\n",
       "      <td>gov.administrators</td>\n",
       "      <td>13.11</td>\n",
       "      <td>12351</td>\n",
       "      <td>11.16</td>\n",
       "      <td>68.8</td>\n",
       "      <td>1113</td>\n",
       "      <td>prof</td>\n",
       "    </tr>\n",
       "    <tr>\n",
       "      <th>1</th>\n",
       "      <td>general.managers</td>\n",
       "      <td>12.26</td>\n",
       "      <td>25879</td>\n",
       "      <td>4.02</td>\n",
       "      <td>69.1</td>\n",
       "      <td>1130</td>\n",
       "      <td>prof</td>\n",
       "    </tr>\n",
       "    <tr>\n",
       "      <th>2</th>\n",
       "      <td>accountants</td>\n",
       "      <td>12.77</td>\n",
       "      <td>9271</td>\n",
       "      <td>15.70</td>\n",
       "      <td>63.4</td>\n",
       "      <td>1171</td>\n",
       "      <td>prof</td>\n",
       "    </tr>\n",
       "    <tr>\n",
       "      <th>3</th>\n",
       "      <td>purchasing.officers</td>\n",
       "      <td>11.42</td>\n",
       "      <td>8865</td>\n",
       "      <td>9.11</td>\n",
       "      <td>56.8</td>\n",
       "      <td>1175</td>\n",
       "      <td>prof</td>\n",
       "    </tr>\n",
       "    <tr>\n",
       "      <th>4</th>\n",
       "      <td>chemists</td>\n",
       "      <td>14.62</td>\n",
       "      <td>8403</td>\n",
       "      <td>11.68</td>\n",
       "      <td>73.5</td>\n",
       "      <td>2111</td>\n",
       "      <td>prof</td>\n",
       "    </tr>\n",
       "    <tr>\n",
       "      <th>...</th>\n",
       "      <td>...</td>\n",
       "      <td>...</td>\n",
       "      <td>...</td>\n",
       "      <td>...</td>\n",
       "      <td>...</td>\n",
       "      <td>...</td>\n",
       "      <td>...</td>\n",
       "    </tr>\n",
       "    <tr>\n",
       "      <th>97</th>\n",
       "      <td>bus.drivers</td>\n",
       "      <td>7.58</td>\n",
       "      <td>5562</td>\n",
       "      <td>9.47</td>\n",
       "      <td>35.9</td>\n",
       "      <td>9171</td>\n",
       "      <td>bc</td>\n",
       "    </tr>\n",
       "    <tr>\n",
       "      <th>98</th>\n",
       "      <td>taxi.drivers</td>\n",
       "      <td>7.93</td>\n",
       "      <td>4224</td>\n",
       "      <td>3.59</td>\n",
       "      <td>25.1</td>\n",
       "      <td>9173</td>\n",
       "      <td>bc</td>\n",
       "    </tr>\n",
       "    <tr>\n",
       "      <th>99</th>\n",
       "      <td>longshoremen</td>\n",
       "      <td>8.37</td>\n",
       "      <td>4753</td>\n",
       "      <td>0.00</td>\n",
       "      <td>26.1</td>\n",
       "      <td>9313</td>\n",
       "      <td>bc</td>\n",
       "    </tr>\n",
       "    <tr>\n",
       "      <th>100</th>\n",
       "      <td>typesetters</td>\n",
       "      <td>10.00</td>\n",
       "      <td>6462</td>\n",
       "      <td>13.58</td>\n",
       "      <td>42.2</td>\n",
       "      <td>9511</td>\n",
       "      <td>bc</td>\n",
       "    </tr>\n",
       "    <tr>\n",
       "      <th>101</th>\n",
       "      <td>bookbinders</td>\n",
       "      <td>8.55</td>\n",
       "      <td>3617</td>\n",
       "      <td>70.87</td>\n",
       "      <td>35.2</td>\n",
       "      <td>9517</td>\n",
       "      <td>bc</td>\n",
       "    </tr>\n",
       "  </tbody>\n",
       "</table>\n",
       "<p>102 rows × 7 columns</p>\n",
       "</div>"
      ],
      "text/plain": [
       "                rownames  education  income  women  prestige  census  type\n",
       "0     gov.administrators      13.11   12351  11.16      68.8    1113  prof\n",
       "1       general.managers      12.26   25879   4.02      69.1    1130  prof\n",
       "2            accountants      12.77    9271  15.70      63.4    1171  prof\n",
       "3    purchasing.officers      11.42    8865   9.11      56.8    1175  prof\n",
       "4               chemists      14.62    8403  11.68      73.5    2111  prof\n",
       "..                   ...        ...     ...    ...       ...     ...   ...\n",
       "97           bus.drivers       7.58    5562   9.47      35.9    9171    bc\n",
       "98          taxi.drivers       7.93    4224   3.59      25.1    9173    bc\n",
       "99          longshoremen       8.37    4753   0.00      26.1    9313    bc\n",
       "100          typesetters      10.00    6462  13.58      42.2    9511    bc\n",
       "101          bookbinders       8.55    3617  70.87      35.2    9517    bc\n",
       "\n",
       "[102 rows x 7 columns]"
      ]
     },
     "execution_count": 48,
     "metadata": {},
     "output_type": "execute_result"
    }
   ],
   "source": [
    "pd.read_csv(\"https://raw.githubusercontent.com/vincentarelbundock/Rdatasets/master/csv/carData/Prestige.csv\")"
   ]
  }
 ],
 "metadata": {
  "celltoolbar": "Slideshow",
  "kernelspec": {
   "display_name": "Python 3 (ipykernel)",
   "language": "python",
   "name": "python3"
  },
  "language_info": {
   "codemirror_mode": {
    "name": "ipython",
    "version": 3
   },
   "file_extension": ".py",
   "mimetype": "text/x-python",
   "name": "python",
   "nbconvert_exporter": "python",
   "pygments_lexer": "ipython3",
   "version": "3.13.1"
  }
 },
 "nbformat": 4,
 "nbformat_minor": 4
}
