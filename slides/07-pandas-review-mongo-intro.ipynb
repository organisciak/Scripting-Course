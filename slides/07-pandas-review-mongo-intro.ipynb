{
 "cells": [
  {
   "cell_type": "markdown",
   "metadata": {
    "slideshow": {
     "slide_type": "slide"
    }
   },
   "source": [
    "\n",
    "# Scripting Week 7: Pandas Wrap-up"
   ]
  },
  {
   "cell_type": "code",
   "execution_count": 2,
   "metadata": {
    "slideshow": {
     "slide_type": "subslide"
    }
   },
   "outputs": [],
   "source": [
    "import pandas as pd"
   ]
  },
  {
   "cell_type": "markdown",
   "metadata": {
    "slideshow": {
     "slide_type": "subslide"
    }
   },
   "source": [
    "## Announcements"
   ]
  },
  {
   "cell_type": "markdown",
   "metadata": {
    "slideshow": {
     "slide_type": "subslide"
    }
   },
   "source": [
    "## For next week...\n",
    "\n",
    "* Bring you final project questions to class next - I can help during the lab time!\n",
    "\n",
    "* Have your data collected and figured out! You don't want to get to the deadline only to realize that you can't get the data the way you want! (This is graded, for 20pts)"
   ]
  },
  {
   "cell_type": "markdown",
   "metadata": {
    "slideshow": {
     "slide_type": "slide"
    }
   },
   "source": [
    "## Review"
   ]
  },
  {
   "attachments": {},
   "cell_type": "markdown",
   "metadata": {
    "slideshow": {
     "slide_type": "subslide"
    }
   },
   "source": [
    "### Thing you should know.\n",
    "\n",
    "Take a moment to consider this list: if you don't know how to answer a question, you're falling behind.\n",
    "\n",
    "- What is a list in Python?\n",
    "- How do you get a single item out of a list?\n",
    "- What is a variable?\n",
    "- How do you set a variable?\n",
    "- What is a comparison? What logical operators can you use?\n",
    "- What is a series?\n",
    "- How do you make a subset of a series based on a comparison?\n",
    "- What is a DataFrame?\n",
    "- How do you select one column of a DataFrame? How do you select two columns of a DataFrame?\n",
    "- How do you select rows based on a single comparison?\n",
    "- Explain Split-Apply-Combine.\n",
    "- How do you do split-apply-combine in Pandas?\n",
    "- How do you take the means per group for a dataset? How do you do this for multiple groups? How do you get the median, standard deviation, or count?\n",
    "- What does value_counts do? Explain with specificity: what does it run on, and what exactly is the output?"
   ]
  },
  {
   "attachments": {},
   "cell_type": "markdown",
   "metadata": {
    "slideshow": {
     "slide_type": "subslide"
    }
   },
   "source": [
    "### Other Things we've learned\n",
    "\n",
    "- Notebooks - don't underappreciate the value of being comfortable in this environment\n",
    "- loops\n",
    "- SQL Fundamentals: SELECT, WHERE, LIMIT, ORDER BY\n",
    "- SQL concepts\n",
    "- JOINS\n",
    "- containers - different philosophical approaches to hold groups of stuff: e.g. named, ordered, unique, mutable\n",
    "- drop_duplicates()\n",
    "- isin()\n",
    "- methods, arguments, named arguments\n",
    "- reading out of databases with data science tools\n",
    "- read_csv, to_csv\n",
    "- reading tables from the web with read_html"
   ]
  },
  {
   "cell_type": "markdown",
   "metadata": {
    "slideshow": {
     "slide_type": "subslide"
    }
   },
   "source": [
    "Load sample data:"
   ]
  },
  {
   "cell_type": "code",
   "execution_count": 3,
   "metadata": {},
   "outputs": [],
   "source": [
    "movies = pd.read_csv('https://raw.githubusercontent.com/organisciak/Scripting-Course/master/data/movielens_small.csv')\n",
    "df = movies.sample(n=5, random_state=12345).set_index('title') "
   ]
  },
  {
   "cell_type": "code",
   "execution_count": 4,
   "metadata": {
    "scrolled": true,
    "slideshow": {
     "slide_type": "subslide"
    }
   },
   "outputs": [
    {
     "data": {
      "text/html": [
       "<div>\n",
       "<style scoped>\n",
       "    .dataframe tbody tr th:only-of-type {\n",
       "        vertical-align: middle;\n",
       "    }\n",
       "\n",
       "    .dataframe tbody tr th {\n",
       "        vertical-align: top;\n",
       "    }\n",
       "\n",
       "    .dataframe thead th {\n",
       "        text-align: right;\n",
       "    }\n",
       "</style>\n",
       "<table border=\"1\" class=\"dataframe\">\n",
       "  <thead>\n",
       "    <tr style=\"text-align: right;\">\n",
       "      <th></th>\n",
       "      <th>userId</th>\n",
       "      <th>rating</th>\n",
       "      <th>genres</th>\n",
       "      <th>timestamp</th>\n",
       "      <th>year</th>\n",
       "    </tr>\n",
       "    <tr>\n",
       "      <th>title</th>\n",
       "      <th></th>\n",
       "      <th></th>\n",
       "      <th></th>\n",
       "      <th></th>\n",
       "      <th></th>\n",
       "    </tr>\n",
       "  </thead>\n",
       "  <tbody>\n",
       "    <tr>\n",
       "      <th>Bringing Up Baby</th>\n",
       "      <td>481</td>\n",
       "      <td>4.0</td>\n",
       "      <td>Comedy</td>\n",
       "      <td>1437001472</td>\n",
       "      <td>1938</td>\n",
       "    </tr>\n",
       "    <tr>\n",
       "      <th>Long, Hot Summer, The</th>\n",
       "      <td>311</td>\n",
       "      <td>3.5</td>\n",
       "      <td>Drama</td>\n",
       "      <td>1061927755</td>\n",
       "      <td>1958</td>\n",
       "    </tr>\n",
       "    <tr>\n",
       "      <th>Net, The</th>\n",
       "      <td>191</td>\n",
       "      <td>3.0</td>\n",
       "      <td>Action</td>\n",
       "      <td>839925608</td>\n",
       "      <td>1995</td>\n",
       "    </tr>\n",
       "    <tr>\n",
       "      <th>City Lights</th>\n",
       "      <td>648</td>\n",
       "      <td>4.5</td>\n",
       "      <td>Comedy</td>\n",
       "      <td>1176754888</td>\n",
       "      <td>1931</td>\n",
       "    </tr>\n",
       "    <tr>\n",
       "      <th>Eagle vs Shark</th>\n",
       "      <td>132</td>\n",
       "      <td>4.0</td>\n",
       "      <td>Comedy</td>\n",
       "      <td>1284496709</td>\n",
       "      <td>2007</td>\n",
       "    </tr>\n",
       "  </tbody>\n",
       "</table>\n",
       "</div>"
      ],
      "text/plain": [
       "                       userId  rating  genres   timestamp  year\n",
       "title                                                          \n",
       "Bringing Up Baby          481     4.0  Comedy  1437001472  1938\n",
       "Long, Hot Summer, The     311     3.5   Drama  1061927755  1958\n",
       "Net, The                  191     3.0  Action   839925608  1995\n",
       "City Lights               648     4.5  Comedy  1176754888  1931\n",
       "Eagle vs Shark            132     4.0  Comedy  1284496709  2007"
      ]
     },
     "execution_count": 4,
     "metadata": {},
     "output_type": "execute_result"
    }
   ],
   "source": [
    "df"
   ]
  },
  {
   "cell_type": "markdown",
   "metadata": {},
   "source": [
    "How would you select:\n",
    "    \n",
    "- Rows 2:4\n",
    "- The first, second, and fifth rows\n",
    "- The columns `genres` and `year`\n",
    "- The column `genres` as a Series\n",
    "- The column `genres` as a DataFrame\n",
    "- The rows where the year is `> 1990`\n",
    "- The rows where the `genres` value is `Action` or `Drama`\n",
    "- New skill:\n",
    "    - The row titled \"City Lights\""
   ]
  },
  {
   "cell_type": "markdown",
   "metadata": {
    "slideshow": {
     "slide_type": "subslide"
    }
   },
   "source": [
    "### Selecting DataFrames\n",
    "\n",
    "Everything follows the pattern:\n",
    "\n",
    "`df[ ... ]`\n",
    "\n",
    "Except selecting rows by index name, which uses:\n",
    "\n",
    "`df.loc[ ... ]`"
   ]
  },
  {
   "cell_type": "markdown",
   "metadata": {
    "slideshow": {
     "slide_type": "subslide"
    }
   },
   "source": [
    "**Selecting rows by numeric index**\n",
    "\n",
    "Provide `x:y` notation in : `df[10:14]`\n",
    "\n",
    "**Selecting rows by index name**\n",
    "\n",
    "Provide the name to `.loc[]`: `df.loc['Sherlock Holmes']`\n",
    "\n",
    "**Selecting rows by inclusion criteria**\n",
    "\n",
    "Provide any collection (e.g. a list or Series) of True/False values:\n",
    "\n",
    "```\n",
    "df[[True, False, False, True, True]]\n",
    "```\n",
    "\n",
    "```\n",
    "df[df.year > 1996]\n",
    "```"
   ]
  },
  {
   "cell_type": "markdown",
   "metadata": {
    "slideshow": {
     "slide_type": "subslide"
    }
   },
   "source": [
    "**Selecting multiple columns**\n",
    "\n",
    "Provide a collection of strings, referencing the column names:\n",
    "\n",
    "```\n",
    "df[['genres', 'year']]\n",
    "```\n",
    "    \n",
    "**Selecting single column (as Series)**\n",
    "\n",
    "```\n",
    "df['year']\n",
    "```\n",
    "\n",
    "Or:\n",
    "\n",
    "```\n",
    "df.year\n",
    "```\n",
    "\n",
    "Consider the latter as the shortcut, not the main way.\n",
    "\n",
    "The output is a Series. To select a single column as a DataFrame, use list with only one value."
   ]
  },
  {
   "cell_type": "markdown",
   "metadata": {
    "slideshow": {
     "slide_type": "subslide"
    }
   },
   "source": [
    "## Selecting by Index\n",
    "    \n",
    "In addition to passing a string to `.loc[]`:"
   ]
  },
  {
   "cell_type": "code",
   "execution_count": 3,
   "metadata": {},
   "outputs": [
    {
     "data": {
      "text/plain": [
       "userId              648\n",
       "rating              4.5\n",
       "genres           Comedy\n",
       "timestamp    1176754888\n",
       "year               1931\n",
       "Name: City Lights, dtype: object"
      ]
     },
     "execution_count": 3,
     "metadata": {},
     "output_type": "execute_result"
    }
   ],
   "source": [
    "df.loc['City Lights']"
   ]
  },
  {
   "cell_type": "markdown",
   "metadata": {
    "slideshow": {
     "slide_type": "subslide"
    }
   },
   "source": [
    "You can pass a list of index names:"
   ]
  },
  {
   "cell_type": "code",
   "execution_count": 4,
   "metadata": {},
   "outputs": [
    {
     "data": {
      "text/html": [
       "<div>\n",
       "<style scoped>\n",
       "    .dataframe tbody tr th:only-of-type {\n",
       "        vertical-align: middle;\n",
       "    }\n",
       "\n",
       "    .dataframe tbody tr th {\n",
       "        vertical-align: top;\n",
       "    }\n",
       "\n",
       "    .dataframe thead th {\n",
       "        text-align: right;\n",
       "    }\n",
       "</style>\n",
       "<table border=\"1\" class=\"dataframe\">\n",
       "  <thead>\n",
       "    <tr style=\"text-align: right;\">\n",
       "      <th></th>\n",
       "      <th>userId</th>\n",
       "      <th>rating</th>\n",
       "      <th>genres</th>\n",
       "      <th>timestamp</th>\n",
       "      <th>year</th>\n",
       "    </tr>\n",
       "    <tr>\n",
       "      <th>title</th>\n",
       "      <th></th>\n",
       "      <th></th>\n",
       "      <th></th>\n",
       "      <th></th>\n",
       "      <th></th>\n",
       "    </tr>\n",
       "  </thead>\n",
       "  <tbody>\n",
       "    <tr>\n",
       "      <th>City Lights</th>\n",
       "      <td>648</td>\n",
       "      <td>4.5</td>\n",
       "      <td>Comedy</td>\n",
       "      <td>1176754888</td>\n",
       "      <td>1931</td>\n",
       "    </tr>\n",
       "    <tr>\n",
       "      <th>Bringing Up Baby</th>\n",
       "      <td>481</td>\n",
       "      <td>4.0</td>\n",
       "      <td>Comedy</td>\n",
       "      <td>1437001472</td>\n",
       "      <td>1938</td>\n",
       "    </tr>\n",
       "  </tbody>\n",
       "</table>\n",
       "</div>"
      ],
      "text/plain": [
       "                  userId  rating  genres   timestamp  year\n",
       "title                                                     \n",
       "City Lights          648     4.5  Comedy  1176754888  1931\n",
       "Bringing Up Baby     481     4.0  Comedy  1437001472  1938"
      ]
     },
     "execution_count": 4,
     "metadata": {},
     "output_type": "execute_result"
    }
   ],
   "source": [
    "df.loc[['City Lights', 'Bringing Up Baby']]"
   ]
  },
  {
   "cell_type": "markdown",
   "metadata": {
    "slideshow": {
     "slide_type": "subslide"
    }
   },
   "source": [
    "### Setting and resetting an index:"
   ]
  },
  {
   "cell_type": "code",
   "execution_count": 5,
   "metadata": {},
   "outputs": [
    {
     "data": {
      "text/html": [
       "<div>\n",
       "<style scoped>\n",
       "    .dataframe tbody tr th:only-of-type {\n",
       "        vertical-align: middle;\n",
       "    }\n",
       "\n",
       "    .dataframe tbody tr th {\n",
       "        vertical-align: top;\n",
       "    }\n",
       "\n",
       "    .dataframe thead th {\n",
       "        text-align: right;\n",
       "    }\n",
       "</style>\n",
       "<table border=\"1\" class=\"dataframe\">\n",
       "  <thead>\n",
       "    <tr style=\"text-align: right;\">\n",
       "      <th></th>\n",
       "      <th>title</th>\n",
       "      <th>userId</th>\n",
       "      <th>rating</th>\n",
       "      <th>genres</th>\n",
       "      <th>timestamp</th>\n",
       "      <th>year</th>\n",
       "    </tr>\n",
       "  </thead>\n",
       "  <tbody>\n",
       "    <tr>\n",
       "      <th>0</th>\n",
       "      <td>Bringing Up Baby</td>\n",
       "      <td>481</td>\n",
       "      <td>4.0</td>\n",
       "      <td>Comedy</td>\n",
       "      <td>1437001472</td>\n",
       "      <td>1938</td>\n",
       "    </tr>\n",
       "    <tr>\n",
       "      <th>1</th>\n",
       "      <td>Long, Hot Summer, The</td>\n",
       "      <td>311</td>\n",
       "      <td>3.5</td>\n",
       "      <td>Drama</td>\n",
       "      <td>1061927755</td>\n",
       "      <td>1958</td>\n",
       "    </tr>\n",
       "    <tr>\n",
       "      <th>2</th>\n",
       "      <td>Net, The</td>\n",
       "      <td>191</td>\n",
       "      <td>3.0</td>\n",
       "      <td>Action</td>\n",
       "      <td>839925608</td>\n",
       "      <td>1995</td>\n",
       "    </tr>\n",
       "    <tr>\n",
       "      <th>3</th>\n",
       "      <td>City Lights</td>\n",
       "      <td>648</td>\n",
       "      <td>4.5</td>\n",
       "      <td>Comedy</td>\n",
       "      <td>1176754888</td>\n",
       "      <td>1931</td>\n",
       "    </tr>\n",
       "    <tr>\n",
       "      <th>4</th>\n",
       "      <td>Eagle vs Shark</td>\n",
       "      <td>132</td>\n",
       "      <td>4.0</td>\n",
       "      <td>Comedy</td>\n",
       "      <td>1284496709</td>\n",
       "      <td>2007</td>\n",
       "    </tr>\n",
       "  </tbody>\n",
       "</table>\n",
       "</div>"
      ],
      "text/plain": [
       "                   title  userId  rating  genres   timestamp  year\n",
       "0       Bringing Up Baby     481     4.0  Comedy  1437001472  1938\n",
       "1  Long, Hot Summer, The     311     3.5   Drama  1061927755  1958\n",
       "2               Net, The     191     3.0  Action   839925608  1995\n",
       "3            City Lights     648     4.5  Comedy  1176754888  1931\n",
       "4         Eagle vs Shark     132     4.0  Comedy  1284496709  2007"
      ]
     },
     "execution_count": 5,
     "metadata": {},
     "output_type": "execute_result"
    }
   ],
   "source": [
    "df2 = df.reset_index()\n",
    "df2"
   ]
  },
  {
   "cell_type": "code",
   "execution_count": 6,
   "metadata": {},
   "outputs": [
    {
     "data": {
      "text/html": [
       "<div>\n",
       "<style scoped>\n",
       "    .dataframe tbody tr th:only-of-type {\n",
       "        vertical-align: middle;\n",
       "    }\n",
       "\n",
       "    .dataframe tbody tr th {\n",
       "        vertical-align: top;\n",
       "    }\n",
       "\n",
       "    .dataframe thead th {\n",
       "        text-align: right;\n",
       "    }\n",
       "</style>\n",
       "<table border=\"1\" class=\"dataframe\">\n",
       "  <thead>\n",
       "    <tr style=\"text-align: right;\">\n",
       "      <th></th>\n",
       "      <th>title</th>\n",
       "      <th>userId</th>\n",
       "      <th>rating</th>\n",
       "      <th>timestamp</th>\n",
       "      <th>year</th>\n",
       "    </tr>\n",
       "    <tr>\n",
       "      <th>genres</th>\n",
       "      <th></th>\n",
       "      <th></th>\n",
       "      <th></th>\n",
       "      <th></th>\n",
       "      <th></th>\n",
       "    </tr>\n",
       "  </thead>\n",
       "  <tbody>\n",
       "    <tr>\n",
       "      <th>Comedy</th>\n",
       "      <td>Bringing Up Baby</td>\n",
       "      <td>481</td>\n",
       "      <td>4.0</td>\n",
       "      <td>1437001472</td>\n",
       "      <td>1938</td>\n",
       "    </tr>\n",
       "    <tr>\n",
       "      <th>Drama</th>\n",
       "      <td>Long, Hot Summer, The</td>\n",
       "      <td>311</td>\n",
       "      <td>3.5</td>\n",
       "      <td>1061927755</td>\n",
       "      <td>1958</td>\n",
       "    </tr>\n",
       "    <tr>\n",
       "      <th>Action</th>\n",
       "      <td>Net, The</td>\n",
       "      <td>191</td>\n",
       "      <td>3.0</td>\n",
       "      <td>839925608</td>\n",
       "      <td>1995</td>\n",
       "    </tr>\n",
       "    <tr>\n",
       "      <th>Comedy</th>\n",
       "      <td>City Lights</td>\n",
       "      <td>648</td>\n",
       "      <td>4.5</td>\n",
       "      <td>1176754888</td>\n",
       "      <td>1931</td>\n",
       "    </tr>\n",
       "    <tr>\n",
       "      <th>Comedy</th>\n",
       "      <td>Eagle vs Shark</td>\n",
       "      <td>132</td>\n",
       "      <td>4.0</td>\n",
       "      <td>1284496709</td>\n",
       "      <td>2007</td>\n",
       "    </tr>\n",
       "  </tbody>\n",
       "</table>\n",
       "</div>"
      ],
      "text/plain": [
       "                        title  userId  rating   timestamp  year\n",
       "genres                                                         \n",
       "Comedy       Bringing Up Baby     481     4.0  1437001472  1938\n",
       "Drama   Long, Hot Summer, The     311     3.5  1061927755  1958\n",
       "Action               Net, The     191     3.0   839925608  1995\n",
       "Comedy            City Lights     648     4.5  1176754888  1931\n",
       "Comedy         Eagle vs Shark     132     4.0  1284496709  2007"
      ]
     },
     "execution_count": 6,
     "metadata": {},
     "output_type": "execute_result"
    }
   ],
   "source": [
    "df2.set_index('genres')"
   ]
  },
  {
   "cell_type": "code",
   "execution_count": 7,
   "metadata": {
    "scrolled": true,
    "slideshow": {
     "slide_type": "subslide"
    }
   },
   "outputs": [
    {
     "data": {
      "text/html": [
       "<div>\n",
       "<style scoped>\n",
       "    .dataframe tbody tr th:only-of-type {\n",
       "        vertical-align: middle;\n",
       "    }\n",
       "\n",
       "    .dataframe tbody tr th {\n",
       "        vertical-align: top;\n",
       "    }\n",
       "\n",
       "    .dataframe thead th {\n",
       "        text-align: right;\n",
       "    }\n",
       "</style>\n",
       "<table border=\"1\" class=\"dataframe\">\n",
       "  <thead>\n",
       "    <tr style=\"text-align: right;\">\n",
       "      <th></th>\n",
       "      <th></th>\n",
       "      <th>userId</th>\n",
       "      <th>rating</th>\n",
       "      <th>timestamp</th>\n",
       "      <th>year</th>\n",
       "    </tr>\n",
       "    <tr>\n",
       "      <th>genres</th>\n",
       "      <th>title</th>\n",
       "      <th></th>\n",
       "      <th></th>\n",
       "      <th></th>\n",
       "      <th></th>\n",
       "    </tr>\n",
       "  </thead>\n",
       "  <tbody>\n",
       "    <tr>\n",
       "      <th>Action</th>\n",
       "      <th>Net, The</th>\n",
       "      <td>191</td>\n",
       "      <td>3.0</td>\n",
       "      <td>839925608</td>\n",
       "      <td>1995</td>\n",
       "    </tr>\n",
       "    <tr>\n",
       "      <th rowspan=\"3\" valign=\"top\">Comedy</th>\n",
       "      <th>Bringing Up Baby</th>\n",
       "      <td>481</td>\n",
       "      <td>4.0</td>\n",
       "      <td>1437001472</td>\n",
       "      <td>1938</td>\n",
       "    </tr>\n",
       "    <tr>\n",
       "      <th>City Lights</th>\n",
       "      <td>648</td>\n",
       "      <td>4.5</td>\n",
       "      <td>1176754888</td>\n",
       "      <td>1931</td>\n",
       "    </tr>\n",
       "    <tr>\n",
       "      <th>Eagle vs Shark</th>\n",
       "      <td>132</td>\n",
       "      <td>4.0</td>\n",
       "      <td>1284496709</td>\n",
       "      <td>2007</td>\n",
       "    </tr>\n",
       "    <tr>\n",
       "      <th>Drama</th>\n",
       "      <th>Long, Hot Summer, The</th>\n",
       "      <td>311</td>\n",
       "      <td>3.5</td>\n",
       "      <td>1061927755</td>\n",
       "      <td>1958</td>\n",
       "    </tr>\n",
       "  </tbody>\n",
       "</table>\n",
       "</div>"
      ],
      "text/plain": [
       "                              userId  rating   timestamp  year\n",
       "genres title                                                  \n",
       "Action Net, The                  191     3.0   839925608  1995\n",
       "Comedy Bringing Up Baby          481     4.0  1437001472  1938\n",
       "       City Lights               648     4.5  1176754888  1931\n",
       "       Eagle vs Shark            132     4.0  1284496709  2007\n",
       "Drama  Long, Hot Summer, The     311     3.5  1061927755  1958"
      ]
     },
     "execution_count": 7,
     "metadata": {},
     "output_type": "execute_result"
    }
   ],
   "source": [
    "df3 = df2.set_index(['genres', 'title']).sort_index()\n",
    "df3"
   ]
  },
  {
   "cell_type": "code",
   "execution_count": 8,
   "metadata": {
    "slideshow": {
     "slide_type": "subslide"
    }
   },
   "outputs": [
    {
     "data": {
      "text/html": [
       "<div>\n",
       "<style scoped>\n",
       "    .dataframe tbody tr th:only-of-type {\n",
       "        vertical-align: middle;\n",
       "    }\n",
       "\n",
       "    .dataframe tbody tr th {\n",
       "        vertical-align: top;\n",
       "    }\n",
       "\n",
       "    .dataframe thead th {\n",
       "        text-align: right;\n",
       "    }\n",
       "</style>\n",
       "<table border=\"1\" class=\"dataframe\">\n",
       "  <thead>\n",
       "    <tr style=\"text-align: right;\">\n",
       "      <th></th>\n",
       "      <th>userId</th>\n",
       "      <th>rating</th>\n",
       "      <th>timestamp</th>\n",
       "      <th>year</th>\n",
       "    </tr>\n",
       "    <tr>\n",
       "      <th>title</th>\n",
       "      <th></th>\n",
       "      <th></th>\n",
       "      <th></th>\n",
       "      <th></th>\n",
       "    </tr>\n",
       "  </thead>\n",
       "  <tbody>\n",
       "    <tr>\n",
       "      <th>Bringing Up Baby</th>\n",
       "      <td>481</td>\n",
       "      <td>4.0</td>\n",
       "      <td>1437001472</td>\n",
       "      <td>1938</td>\n",
       "    </tr>\n",
       "    <tr>\n",
       "      <th>City Lights</th>\n",
       "      <td>648</td>\n",
       "      <td>4.5</td>\n",
       "      <td>1176754888</td>\n",
       "      <td>1931</td>\n",
       "    </tr>\n",
       "    <tr>\n",
       "      <th>Eagle vs Shark</th>\n",
       "      <td>132</td>\n",
       "      <td>4.0</td>\n",
       "      <td>1284496709</td>\n",
       "      <td>2007</td>\n",
       "    </tr>\n",
       "  </tbody>\n",
       "</table>\n",
       "</div>"
      ],
      "text/plain": [
       "                  userId  rating   timestamp  year\n",
       "title                                             \n",
       "Bringing Up Baby     481     4.0  1437001472  1938\n",
       "City Lights          648     4.5  1176754888  1931\n",
       "Eagle vs Shark       132     4.0  1284496709  2007"
      ]
     },
     "execution_count": 8,
     "metadata": {},
     "output_type": "execute_result"
    }
   ],
   "source": [
    "df3.loc[('Comedy')]"
   ]
  },
  {
   "cell_type": "code",
   "execution_count": 9,
   "metadata": {
    "slideshow": {
     "slide_type": "fragment"
    }
   },
   "outputs": [
    {
     "data": {
      "text/plain": [
       "userId       6.480000e+02\n",
       "rating       4.500000e+00\n",
       "timestamp    1.176755e+09\n",
       "year         1.931000e+03\n",
       "Name: (Comedy, City Lights), dtype: float64"
      ]
     },
     "execution_count": 9,
     "metadata": {},
     "output_type": "execute_result"
    }
   ],
   "source": [
    "df3.loc[('Comedy', 'City Lights')]"
   ]
  },
  {
   "attachments": {},
   "cell_type": "markdown",
   "metadata": {
    "slideshow": {
     "slide_type": "slide"
    }
   },
   "source": [
    "## Class Exercise\n",
    "\n",
    "In groups of two, load the US temperatures dataset uploaded to `https://colab.research.google.com/github/organisciak/Scripting-Course/blob/master/labs/US_Temperatures_Scripting_Class_Exercises.ipynb`.\n",
    "\n",
    "We'll be competing to who can get the most questions answered. You *don't* have to complete all the questions, nor complete them in order."
   ]
  },
  {
   "cell_type": "code",
   "execution_count": null,
   "metadata": {},
   "outputs": [],
   "source": []
  },
  {
   "cell_type": "markdown",
   "metadata": {
    "slideshow": {
     "slide_type": "slide"
    }
   },
   "source": [
    "# Advanced Skills\n",
    "\n",
    "\n",
    "## Python - Running Scripts"
   ]
  },
  {
   "attachments": {},
   "cell_type": "markdown",
   "metadata": {
    "slideshow": {
     "slide_type": "subslide"
    }
   },
   "source": [
    "1. Save a notebook as a script:\n",
    "    ![](../images/save-as.png)\n",
    "2. On the command line: `python name_of_script.py`\n",
    "    - You may need to navigate to the correct folder with `cd /path/to/folder/name`\n",
    "    - You may need to install Python on your computer to do so.\n",
    "    \n",
    "*Notebooks are good for interaction, `.py` script files are good for repetition*"
   ]
  },
  {
   "cell_type": "markdown",
   "metadata": {
    "slideshow": {
     "slide_type": "subslide"
    }
   },
   "source": [
    "## File Paths\n",
    "\n",
    "`.` - Current folder\n",
    "\n",
    "`..` - Parent folder\n",
    "\n",
    "`folder1/folder2` - Directory named `folder2`, within a `folder1` directory, within the current directory\n",
    "\n",
    "`../data` - Go up one directory, then into the 'data' folder"
   ]
  },
  {
   "cell_type": "markdown",
   "metadata": {
    "slideshow": {
     "slide_type": "subslide"
    }
   },
   "source": [
    "## `groupby(...).apply()`\n",
    "\n",
    "*Custom 'apply' steps for split-apply-combine"
   ]
  },
  {
   "cell_type": "code",
   "execution_count": null,
   "metadata": {},
   "outputs": [],
   "source": [
    "import pandas as pd\n",
    "example = pd.DataFrame({'A': 'a a b'.split(), 'B': [1,2,3], 'C': [4,6, 5]})\n",
    "example"
   ]
  },
  {
   "cell_type": "code",
   "execution_count": null,
   "metadata": {},
   "outputs": [],
   "source": [
    "def difference(x):\n",
    "    return x['C'].max() - x['B'].min()\n",
    "\n",
    "example.groupby('A').apply(difference)"
   ]
  },
  {
   "cell_type": "markdown",
   "metadata": {
    "slideshow": {
     "slide_type": "slide"
    }
   },
   "source": [
    "## Pandas <-> SQL Skills Transfer\n",
    "\n",
    "[Pandas Documentation: Comparison with SQL](http://pandas.pydata.org/pandas-docs/stable/comparison_with_sql.html)\n",
    "\n",
    "![](../images/sql-skills.png)"
   ]
  },
  {
   "attachments": {},
   "cell_type": "markdown",
   "metadata": {
    "slideshow": {
     "slide_type": "slide"
    }
   },
   "source": [
    "## Pandas Skills - Rolling Means and Working with Data Types"
   ]
  },
  {
   "cell_type": "code",
   "execution_count": 5,
   "metadata": {
    "slideshow": {
     "slide_type": "subslide"
    }
   },
   "outputs": [
    {
     "data": {
      "text/plain": [
       "<AxesSubplot:xlabel='DATE'>"
      ]
     },
     "execution_count": 5,
     "metadata": {},
     "output_type": "execute_result"
    },
    {
     "data": {
      "image/png": "[encoded data removed]",
      "text/plain": [
       "<Figure size 432x288 with 1 Axes>"
      ]
     },
     "metadata": {
      "needs_background": "light"
     },
     "output_type": "display_data"
    }
   ],
   "source": [
    "import pandas as pd\n",
    "df = pd.read_csv('https://raw.githubusercontent.com/organisciak/Scripting-Course/master/data/weather-example.csv')\n",
    "df.plot(x='DATE', y='TMAX')"
   ]
  },
  {
   "cell_type": "markdown",
   "metadata": {
    "slideshow": {
     "slide_type": "subslide"
    }
   },
   "source": [
    "## Rolling means\n",
    "\n",
    "Column:\n",
    "\n",
    "```\n",
    "df.columnName.rolling(window, min_periods=None, on=None, axis=0, closed=None).mean()\n",
    "```"
   ]
  },
  {
   "cell_type": "code",
   "execution_count": 6,
   "metadata": {
    "scrolled": true,
    "slideshow": {
     "slide_type": "fragment"
    }
   },
   "outputs": [
    {
     "data": {
      "text/plain": [
       "0            NaN\n",
       "1            NaN\n",
       "2            NaN\n",
       "3            NaN\n",
       "4            NaN\n",
       "         ...    \n",
       "178    65.285714\n",
       "179    64.142857\n",
       "180    64.714286\n",
       "181    64.000000\n",
       "182    59.857143\n",
       "Name: TMAX, Length: 183, dtype: float64"
      ]
     },
     "execution_count": 6,
     "metadata": {},
     "output_type": "execute_result"
    }
   ],
   "source": [
    "df['TMAX'].rolling(window=7).mean()"
   ]
  },
  {
   "cell_type": "markdown",
   "metadata": {
    "slideshow": {
     "slide_type": "subslide"
    }
   },
   "source": [
    "Easier to compare as a new column of the DataFrame:"
   ]
  },
  {
   "cell_type": "code",
   "execution_count": 7,
   "metadata": {
    "scrolled": true,
    "slideshow": {
     "slide_type": "fragment"
    }
   },
   "outputs": [
    {
     "data": {
      "text/html": [
       "<div>\n",
       "<style scoped>\n",
       "    .dataframe tbody tr th:only-of-type {\n",
       "        vertical-align: middle;\n",
       "    }\n",
       "\n",
       "    .dataframe tbody tr th {\n",
       "        vertical-align: top;\n",
       "    }\n",
       "\n",
       "    .dataframe thead th {\n",
       "        text-align: right;\n",
       "    }\n",
       "</style>\n",
       "<table border=\"1\" class=\"dataframe\">\n",
       "  <thead>\n",
       "    <tr style=\"text-align: right;\">\n",
       "      <th></th>\n",
       "      <th>STATION</th>\n",
       "      <th>NAME</th>\n",
       "      <th>DATE</th>\n",
       "      <th>PRCP</th>\n",
       "      <th>SNOW</th>\n",
       "      <th>SNWD</th>\n",
       "      <th>TMAX</th>\n",
       "      <th>TMIN</th>\n",
       "      <th>TOBS</th>\n",
       "      <th>rolling_max</th>\n",
       "    </tr>\n",
       "  </thead>\n",
       "  <tbody>\n",
       "    <tr>\n",
       "      <th>0</th>\n",
       "      <td>USC00052228</td>\n",
       "      <td>DENVER MUSEUM, CO US</td>\n",
       "      <td>5/22/2017</td>\n",
       "      <td>0.08</td>\n",
       "      <td>0.0</td>\n",
       "      <td>0.0</td>\n",
       "      <td>67</td>\n",
       "      <td>42</td>\n",
       "      <td>42</td>\n",
       "      <td>NaN</td>\n",
       "    </tr>\n",
       "    <tr>\n",
       "      <th>1</th>\n",
       "      <td>USC00052228</td>\n",
       "      <td>DENVER MUSEUM, CO US</td>\n",
       "      <td>5/23/2017</td>\n",
       "      <td>0.00</td>\n",
       "      <td>0.0</td>\n",
       "      <td>0.0</td>\n",
       "      <td>63</td>\n",
       "      <td>39</td>\n",
       "      <td>48</td>\n",
       "      <td>NaN</td>\n",
       "    </tr>\n",
       "    <tr>\n",
       "      <th>2</th>\n",
       "      <td>USC00052228</td>\n",
       "      <td>DENVER MUSEUM, CO US</td>\n",
       "      <td>5/24/2017</td>\n",
       "      <td>0.00</td>\n",
       "      <td>0.0</td>\n",
       "      <td>0.0</td>\n",
       "      <td>83</td>\n",
       "      <td>40</td>\n",
       "      <td>62</td>\n",
       "      <td>NaN</td>\n",
       "    </tr>\n",
       "    <tr>\n",
       "      <th>3</th>\n",
       "      <td>USC00052228</td>\n",
       "      <td>DENVER MUSEUM, CO US</td>\n",
       "      <td>5/25/2017</td>\n",
       "      <td>0.03</td>\n",
       "      <td>0.0</td>\n",
       "      <td>0.0</td>\n",
       "      <td>76</td>\n",
       "      <td>51</td>\n",
       "      <td>52</td>\n",
       "      <td>NaN</td>\n",
       "    </tr>\n",
       "    <tr>\n",
       "      <th>4</th>\n",
       "      <td>USC00052228</td>\n",
       "      <td>DENVER MUSEUM, CO US</td>\n",
       "      <td>5/26/2017</td>\n",
       "      <td>0.37</td>\n",
       "      <td>0.0</td>\n",
       "      <td>0.0</td>\n",
       "      <td>71</td>\n",
       "      <td>42</td>\n",
       "      <td>51</td>\n",
       "      <td>NaN</td>\n",
       "    </tr>\n",
       "    <tr>\n",
       "      <th>5</th>\n",
       "      <td>USC00052228</td>\n",
       "      <td>DENVER MUSEUM, CO US</td>\n",
       "      <td>5/27/2017</td>\n",
       "      <td>0.17</td>\n",
       "      <td>0.0</td>\n",
       "      <td>0.0</td>\n",
       "      <td>59</td>\n",
       "      <td>46</td>\n",
       "      <td>47</td>\n",
       "      <td>NaN</td>\n",
       "    </tr>\n",
       "    <tr>\n",
       "      <th>6</th>\n",
       "      <td>USC00052228</td>\n",
       "      <td>DENVER MUSEUM, CO US</td>\n",
       "      <td>5/28/2017</td>\n",
       "      <td>0.00</td>\n",
       "      <td>0.0</td>\n",
       "      <td>0.0</td>\n",
       "      <td>72</td>\n",
       "      <td>43</td>\n",
       "      <td>53</td>\n",
       "      <td>70.142857</td>\n",
       "    </tr>\n",
       "    <tr>\n",
       "      <th>7</th>\n",
       "      <td>USC00052228</td>\n",
       "      <td>DENVER MUSEUM, CO US</td>\n",
       "      <td>5/29/2017</td>\n",
       "      <td>0.00</td>\n",
       "      <td>0.0</td>\n",
       "      <td>0.0</td>\n",
       "      <td>69</td>\n",
       "      <td>47</td>\n",
       "      <td>53</td>\n",
       "      <td>70.428571</td>\n",
       "    </tr>\n",
       "    <tr>\n",
       "      <th>8</th>\n",
       "      <td>USC00052228</td>\n",
       "      <td>DENVER MUSEUM, CO US</td>\n",
       "      <td>5/30/2017</td>\n",
       "      <td>0.03</td>\n",
       "      <td>0.0</td>\n",
       "      <td>0.0</td>\n",
       "      <td>76</td>\n",
       "      <td>47</td>\n",
       "      <td>56</td>\n",
       "      <td>72.285714</td>\n",
       "    </tr>\n",
       "    <tr>\n",
       "      <th>9</th>\n",
       "      <td>USC00052228</td>\n",
       "      <td>DENVER MUSEUM, CO US</td>\n",
       "      <td>5/31/2017</td>\n",
       "      <td>0.00</td>\n",
       "      <td>0.0</td>\n",
       "      <td>0.0</td>\n",
       "      <td>82</td>\n",
       "      <td>48</td>\n",
       "      <td>61</td>\n",
       "      <td>72.142857</td>\n",
       "    </tr>\n",
       "  </tbody>\n",
       "</table>\n",
       "</div>"
      ],
      "text/plain": [
       "       STATION                  NAME       DATE  PRCP  SNOW  SNWD  TMAX  TMIN  \\\n",
       "0  USC00052228  DENVER MUSEUM, CO US  5/22/2017  0.08   0.0   0.0    67    42   \n",
       "1  USC00052228  DENVER MUSEUM, CO US  5/23/2017  0.00   0.0   0.0    63    39   \n",
       "2  USC00052228  DENVER MUSEUM, CO US  5/24/2017  0.00   0.0   0.0    83    40   \n",
       "3  USC00052228  DENVER MUSEUM, CO US  5/25/2017  0.03   0.0   0.0    76    51   \n",
       "4  USC00052228  DENVER MUSEUM, CO US  5/26/2017  0.37   0.0   0.0    71    42   \n",
       "5  USC00052228  DENVER MUSEUM, CO US  5/27/2017  0.17   0.0   0.0    59    46   \n",
       "6  USC00052228  DENVER MUSEUM, CO US  5/28/2017  0.00   0.0   0.0    72    43   \n",
       "7  USC00052228  DENVER MUSEUM, CO US  5/29/2017  0.00   0.0   0.0    69    47   \n",
       "8  USC00052228  DENVER MUSEUM, CO US  5/30/2017  0.03   0.0   0.0    76    47   \n",
       "9  USC00052228  DENVER MUSEUM, CO US  5/31/2017  0.00   0.0   0.0    82    48   \n",
       "\n",
       "   TOBS  rolling_max  \n",
       "0    42          NaN  \n",
       "1    48          NaN  \n",
       "2    62          NaN  \n",
       "3    52          NaN  \n",
       "4    51          NaN  \n",
       "5    47          NaN  \n",
       "6    53    70.142857  \n",
       "7    53    70.428571  \n",
       "8    56    72.285714  \n",
       "9    61    72.142857  "
      ]
     },
     "execution_count": 7,
     "metadata": {},
     "output_type": "execute_result"
    }
   ],
   "source": [
    "df['rolling_max'] = df.TMAX.rolling(window=7).mean()\n",
    "df.head(10)"
   ]
  },
  {
   "cell_type": "code",
   "execution_count": 8,
   "metadata": {
    "slideshow": {
     "slide_type": "subslide"
    }
   },
   "outputs": [
    {
     "data": {
      "text/html": [
       "<div>\n",
       "<style scoped>\n",
       "    .dataframe tbody tr th:only-of-type {\n",
       "        vertical-align: middle;\n",
       "    }\n",
       "\n",
       "    .dataframe tbody tr th {\n",
       "        vertical-align: top;\n",
       "    }\n",
       "\n",
       "    .dataframe thead th {\n",
       "        text-align: right;\n",
       "    }\n",
       "</style>\n",
       "<table border=\"1\" class=\"dataframe\">\n",
       "  <thead>\n",
       "    <tr style=\"text-align: right;\">\n",
       "      <th></th>\n",
       "      <th>STATION</th>\n",
       "      <th>NAME</th>\n",
       "      <th>DATE</th>\n",
       "      <th>PRCP</th>\n",
       "      <th>SNOW</th>\n",
       "      <th>SNWD</th>\n",
       "      <th>TMAX</th>\n",
       "      <th>TMIN</th>\n",
       "      <th>TOBS</th>\n",
       "      <th>rolling_max</th>\n",
       "    </tr>\n",
       "  </thead>\n",
       "  <tbody>\n",
       "    <tr>\n",
       "      <th>0</th>\n",
       "      <td>USC00052228</td>\n",
       "      <td>DENVER MUSEUM, CO US</td>\n",
       "      <td>5/22/2017</td>\n",
       "      <td>0.08</td>\n",
       "      <td>0.0</td>\n",
       "      <td>0.0</td>\n",
       "      <td>67</td>\n",
       "      <td>42</td>\n",
       "      <td>42</td>\n",
       "      <td>67.000000</td>\n",
       "    </tr>\n",
       "    <tr>\n",
       "      <th>1</th>\n",
       "      <td>USC00052228</td>\n",
       "      <td>DENVER MUSEUM, CO US</td>\n",
       "      <td>5/23/2017</td>\n",
       "      <td>0.00</td>\n",
       "      <td>0.0</td>\n",
       "      <td>0.0</td>\n",
       "      <td>63</td>\n",
       "      <td>39</td>\n",
       "      <td>48</td>\n",
       "      <td>65.000000</td>\n",
       "    </tr>\n",
       "    <tr>\n",
       "      <th>2</th>\n",
       "      <td>USC00052228</td>\n",
       "      <td>DENVER MUSEUM, CO US</td>\n",
       "      <td>5/24/2017</td>\n",
       "      <td>0.00</td>\n",
       "      <td>0.0</td>\n",
       "      <td>0.0</td>\n",
       "      <td>83</td>\n",
       "      <td>40</td>\n",
       "      <td>62</td>\n",
       "      <td>71.000000</td>\n",
       "    </tr>\n",
       "    <tr>\n",
       "      <th>3</th>\n",
       "      <td>USC00052228</td>\n",
       "      <td>DENVER MUSEUM, CO US</td>\n",
       "      <td>5/25/2017</td>\n",
       "      <td>0.03</td>\n",
       "      <td>0.0</td>\n",
       "      <td>0.0</td>\n",
       "      <td>76</td>\n",
       "      <td>51</td>\n",
       "      <td>52</td>\n",
       "      <td>72.250000</td>\n",
       "    </tr>\n",
       "    <tr>\n",
       "      <th>4</th>\n",
       "      <td>USC00052228</td>\n",
       "      <td>DENVER MUSEUM, CO US</td>\n",
       "      <td>5/26/2017</td>\n",
       "      <td>0.37</td>\n",
       "      <td>0.0</td>\n",
       "      <td>0.0</td>\n",
       "      <td>71</td>\n",
       "      <td>42</td>\n",
       "      <td>51</td>\n",
       "      <td>72.000000</td>\n",
       "    </tr>\n",
       "    <tr>\n",
       "      <th>5</th>\n",
       "      <td>USC00052228</td>\n",
       "      <td>DENVER MUSEUM, CO US</td>\n",
       "      <td>5/27/2017</td>\n",
       "      <td>0.17</td>\n",
       "      <td>0.0</td>\n",
       "      <td>0.0</td>\n",
       "      <td>59</td>\n",
       "      <td>46</td>\n",
       "      <td>47</td>\n",
       "      <td>69.833333</td>\n",
       "    </tr>\n",
       "    <tr>\n",
       "      <th>6</th>\n",
       "      <td>USC00052228</td>\n",
       "      <td>DENVER MUSEUM, CO US</td>\n",
       "      <td>5/28/2017</td>\n",
       "      <td>0.00</td>\n",
       "      <td>0.0</td>\n",
       "      <td>0.0</td>\n",
       "      <td>72</td>\n",
       "      <td>43</td>\n",
       "      <td>53</td>\n",
       "      <td>70.142857</td>\n",
       "    </tr>\n",
       "    <tr>\n",
       "      <th>7</th>\n",
       "      <td>USC00052228</td>\n",
       "      <td>DENVER MUSEUM, CO US</td>\n",
       "      <td>5/29/2017</td>\n",
       "      <td>0.00</td>\n",
       "      <td>0.0</td>\n",
       "      <td>0.0</td>\n",
       "      <td>69</td>\n",
       "      <td>47</td>\n",
       "      <td>53</td>\n",
       "      <td>70.428571</td>\n",
       "    </tr>\n",
       "    <tr>\n",
       "      <th>8</th>\n",
       "      <td>USC00052228</td>\n",
       "      <td>DENVER MUSEUM, CO US</td>\n",
       "      <td>5/30/2017</td>\n",
       "      <td>0.03</td>\n",
       "      <td>0.0</td>\n",
       "      <td>0.0</td>\n",
       "      <td>76</td>\n",
       "      <td>47</td>\n",
       "      <td>56</td>\n",
       "      <td>72.285714</td>\n",
       "    </tr>\n",
       "    <tr>\n",
       "      <th>9</th>\n",
       "      <td>USC00052228</td>\n",
       "      <td>DENVER MUSEUM, CO US</td>\n",
       "      <td>5/31/2017</td>\n",
       "      <td>0.00</td>\n",
       "      <td>0.0</td>\n",
       "      <td>0.0</td>\n",
       "      <td>82</td>\n",
       "      <td>48</td>\n",
       "      <td>61</td>\n",
       "      <td>72.142857</td>\n",
       "    </tr>\n",
       "    <tr>\n",
       "      <th>10</th>\n",
       "      <td>USC00052228</td>\n",
       "      <td>DENVER MUSEUM, CO US</td>\n",
       "      <td>6/1/2017</td>\n",
       "      <td>0.00</td>\n",
       "      <td>0.0</td>\n",
       "      <td>0.0</td>\n",
       "      <td>81</td>\n",
       "      <td>52</td>\n",
       "      <td>62</td>\n",
       "      <td>72.857143</td>\n",
       "    </tr>\n",
       "    <tr>\n",
       "      <th>11</th>\n",
       "      <td>USC00052228</td>\n",
       "      <td>DENVER MUSEUM, CO US</td>\n",
       "      <td>6/2/2017</td>\n",
       "      <td>0.19</td>\n",
       "      <td>0.0</td>\n",
       "      <td>0.0</td>\n",
       "      <td>77</td>\n",
       "      <td>55</td>\n",
       "      <td>58</td>\n",
       "      <td>73.714286</td>\n",
       "    </tr>\n",
       "    <tr>\n",
       "      <th>12</th>\n",
       "      <td>USC00052228</td>\n",
       "      <td>DENVER MUSEUM, CO US</td>\n",
       "      <td>6/3/2017</td>\n",
       "      <td>0.00</td>\n",
       "      <td>0.0</td>\n",
       "      <td>0.0</td>\n",
       "      <td>76</td>\n",
       "      <td>52</td>\n",
       "      <td>61</td>\n",
       "      <td>76.142857</td>\n",
       "    </tr>\n",
       "    <tr>\n",
       "      <th>13</th>\n",
       "      <td>USC00052228</td>\n",
       "      <td>DENVER MUSEUM, CO US</td>\n",
       "      <td>6/4/2017</td>\n",
       "      <td>0.00</td>\n",
       "      <td>0.0</td>\n",
       "      <td>0.0</td>\n",
       "      <td>83</td>\n",
       "      <td>53</td>\n",
       "      <td>65</td>\n",
       "      <td>77.714286</td>\n",
       "    </tr>\n",
       "    <tr>\n",
       "      <th>14</th>\n",
       "      <td>USC00052228</td>\n",
       "      <td>DENVER MUSEUM, CO US</td>\n",
       "      <td>6/5/2017</td>\n",
       "      <td>0.00</td>\n",
       "      <td>0.0</td>\n",
       "      <td>0.0</td>\n",
       "      <td>82</td>\n",
       "      <td>57</td>\n",
       "      <td>60</td>\n",
       "      <td>79.571429</td>\n",
       "    </tr>\n",
       "  </tbody>\n",
       "</table>\n",
       "</div>"
      ],
      "text/plain": [
       "        STATION                  NAME       DATE  PRCP  SNOW  SNWD  TMAX  \\\n",
       "0   USC00052228  DENVER MUSEUM, CO US  5/22/2017  0.08   0.0   0.0    67   \n",
       "1   USC00052228  DENVER MUSEUM, CO US  5/23/2017  0.00   0.0   0.0    63   \n",
       "2   USC00052228  DENVER MUSEUM, CO US  5/24/2017  0.00   0.0   0.0    83   \n",
       "3   USC00052228  DENVER MUSEUM, CO US  5/25/2017  0.03   0.0   0.0    76   \n",
       "4   USC00052228  DENVER MUSEUM, CO US  5/26/2017  0.37   0.0   0.0    71   \n",
       "5   USC00052228  DENVER MUSEUM, CO US  5/27/2017  0.17   0.0   0.0    59   \n",
       "6   USC00052228  DENVER MUSEUM, CO US  5/28/2017  0.00   0.0   0.0    72   \n",
       "7   USC00052228  DENVER MUSEUM, CO US  5/29/2017  0.00   0.0   0.0    69   \n",
       "8   USC00052228  DENVER MUSEUM, CO US  5/30/2017  0.03   0.0   0.0    76   \n",
       "9   USC00052228  DENVER MUSEUM, CO US  5/31/2017  0.00   0.0   0.0    82   \n",
       "10  USC00052228  DENVER MUSEUM, CO US   6/1/2017  0.00   0.0   0.0    81   \n",
       "11  USC00052228  DENVER MUSEUM, CO US   6/2/2017  0.19   0.0   0.0    77   \n",
       "12  USC00052228  DENVER MUSEUM, CO US   6/3/2017  0.00   0.0   0.0    76   \n",
       "13  USC00052228  DENVER MUSEUM, CO US   6/4/2017  0.00   0.0   0.0    83   \n",
       "14  USC00052228  DENVER MUSEUM, CO US   6/5/2017  0.00   0.0   0.0    82   \n",
       "\n",
       "    TMIN  TOBS  rolling_max  \n",
       "0     42    42    67.000000  \n",
       "1     39    48    65.000000  \n",
       "2     40    62    71.000000  \n",
       "3     51    52    72.250000  \n",
       "4     42    51    72.000000  \n",
       "5     46    47    69.833333  \n",
       "6     43    53    70.142857  \n",
       "7     47    53    70.428571  \n",
       "8     47    56    72.285714  \n",
       "9     48    61    72.142857  \n",
       "10    52    62    72.857143  \n",
       "11    55    58    73.714286  \n",
       "12    52    61    76.142857  \n",
       "13    53    65    77.714286  \n",
       "14    57    60    79.571429  "
      ]
     },
     "execution_count": 8,
     "metadata": {},
     "output_type": "execute_result"
    }
   ],
   "source": [
    "df['rolling_max'] = df.TMAX.rolling(window=7, min_periods=1).mean()\n",
    "df.head(15)"
   ]
  },
  {
   "cell_type": "code",
   "execution_count": 9,
   "metadata": {
    "scrolled": false,
    "slideshow": {
     "slide_type": "subslide"
    }
   },
   "outputs": [
    {
     "data": {
      "text/plain": [
       "<AxesSubplot:xlabel='DATE'>"
      ]
     },
     "execution_count": 9,
     "metadata": {},
     "output_type": "execute_result"
    },
    {
     "data": {
      "image/png": "[encoded data removed]",
      "text/plain": [
       "<Figure size 432x288 with 1 Axes>"
      ]
     },
     "metadata": {
      "needs_background": "light"
     },
     "output_type": "display_data"
    },
    {
     "data": {
      "image/png": "[encoded data removed]",
      "text/plain": [
       "<Figure size 432x288 with 1 Axes>"
      ]
     },
     "metadata": {
      "needs_background": "light"
     },
     "output_type": "display_data"
    }
   ],
   "source": [
    "df.plot(x='DATE', y='TMAX')\n",
    "df.plot(x='DATE', y='rolling_max')"
   ]
  },
  {
   "cell_type": "code",
   "execution_count": 10,
   "metadata": {
    "slideshow": {
     "slide_type": "subslide"
    }
   },
   "outputs": [
    {
     "data": {
      "text/plain": [
       "<AxesSubplot:xlabel='DATE'>"
      ]
     },
     "execution_count": 10,
     "metadata": {},
     "output_type": "execute_result"
    },
    {
     "data": {
      "image/png": "[encoded data removed]",
      "text/plain": [
       "<Figure size 432x288 with 1 Axes>"
      ]
     },
     "metadata": {
      "needs_background": "light"
     },
     "output_type": "display_data"
    }
   ],
   "source": [
    "df['2week-avgmax'] = df.TMAX.rolling(window=7*2, min_periods=1).mean()\n",
    "df.plot(x='DATE', y='2week-avgmax')"
   ]
  },
  {
   "cell_type": "markdown",
   "metadata": {
    "slideshow": {
     "slide_type": "subslide"
    }
   },
   "source": [
    "## Data types\n",
    "\n",
    "Pandas tries to figure out the datatype automatically: integer, float, string, object (i.e. mix of various), boolean."
   ]
  },
  {
   "cell_type": "code",
   "execution_count": 11,
   "metadata": {},
   "outputs": [
    {
     "data": {
      "text/plain": [
       "STATION          object\n",
       "NAME             object\n",
       "DATE             object\n",
       "PRCP            float64\n",
       "SNOW            float64\n",
       "SNWD            float64\n",
       "TMAX              int64\n",
       "TMIN              int64\n",
       "TOBS              int64\n",
       "rolling_max     float64\n",
       "2week-avgmax    float64\n",
       "dtype: object"
      ]
     },
     "execution_count": 11,
     "metadata": {},
     "output_type": "execute_result"
    }
   ],
   "source": [
    "df.dtypes"
   ]
  },
  {
   "cell_type": "markdown",
   "metadata": {
    "slideshow": {
     "slide_type": "subslide"
    }
   },
   "source": [
    "## Working with dates and time\n",
    "\n",
    "The 'Date' column is not recognized as dates. Convert it with `pd.to_datetime(column)` -- Then Pandas can work more smartly."
   ]
  },
  {
   "attachments": {},
   "cell_type": "markdown",
   "metadata": {
    "slideshow": {
     "slide_type": "subslide"
    }
   },
   "source": [
    "Here's some fake data, with 5 data points from May and 5 from July: (note a *separate* bonus skill, `pd.concat`, which can combine multiple dataframes into 1)"
   ]
  },
  {
   "cell_type": "code",
   "execution_count": 13,
   "metadata": {},
   "outputs": [
    {
     "data": {
      "text/html": [
       "<div>\n",
       "<style scoped>\n",
       "    .dataframe tbody tr th:only-of-type {\n",
       "        vertical-align: middle;\n",
       "    }\n",
       "\n",
       "    .dataframe tbody tr th {\n",
       "        vertical-align: top;\n",
       "    }\n",
       "\n",
       "    .dataframe thead th {\n",
       "        text-align: right;\n",
       "    }\n",
       "</style>\n",
       "<table border=\"1\" class=\"dataframe\">\n",
       "  <thead>\n",
       "    <tr style=\"text-align: right;\">\n",
       "      <th></th>\n",
       "      <th>DATE</th>\n",
       "      <th>TMAX</th>\n",
       "    </tr>\n",
       "  </thead>\n",
       "  <tbody>\n",
       "    <tr>\n",
       "      <th>3</th>\n",
       "      <td>5/25/2017</td>\n",
       "      <td>76</td>\n",
       "    </tr>\n",
       "    <tr>\n",
       "      <th>4</th>\n",
       "      <td>5/26/2017</td>\n",
       "      <td>71</td>\n",
       "    </tr>\n",
       "    <tr>\n",
       "      <th>40</th>\n",
       "      <td>7/4/2017</td>\n",
       "      <td>92</td>\n",
       "    </tr>\n",
       "    <tr>\n",
       "      <th>41</th>\n",
       "      <td>7/5/2017</td>\n",
       "      <td>98</td>\n",
       "    </tr>\n",
       "  </tbody>\n",
       "</table>\n",
       "</div>"
      ],
      "text/plain": [
       "         DATE  TMAX\n",
       "3   5/25/2017    76\n",
       "4   5/26/2017    71\n",
       "40   7/4/2017    92\n",
       "41   7/5/2017    98"
      ]
     },
     "metadata": {},
     "output_type": "display_data"
    },
    {
     "data": {
      "text/plain": [
       "<AxesSubplot:xlabel='DATE'>"
      ]
     },
     "execution_count": 13,
     "metadata": {},
     "output_type": "execute_result"
    },
    {
     "data": {
      "image/png": "[encoded data removed]",
      "text/plain": [
       "<Figure size 432x288 with 1 Axes>"
      ]
     },
     "metadata": {
      "needs_background": "light"
     },
     "output_type": "display_data"
    }
   ],
   "source": [
    "fake_data = pd.concat([df[0:5], df[40:45]])\n",
    "print(fake_data[['DATE', 'TMAX']][3:7])\n",
    "fake_data.plot(x='DATE', y='TMAX')"
   ]
  },
  {
   "cell_type": "markdown",
   "metadata": {
    "slideshow": {
     "slide_type": "subslide"
    }
   },
   "source": [
    "#### Problem: *Since Pandas doesn't realize that 'DATE' is a date column, it doesn't show the proper spacing between 5/26 and 7/4*"
   ]
  },
  {
   "cell_type": "code",
   "execution_count": 14,
   "metadata": {
    "scrolled": true,
    "slideshow": {
     "slide_type": "subslide"
    }
   },
   "outputs": [
    {
     "data": {
      "text/plain": [
       "0     2017-05-22\n",
       "1     2017-05-23\n",
       "2     2017-05-24\n",
       "3     2017-05-25\n",
       "4     2017-05-26\n",
       "         ...    \n",
       "178   2017-12-01\n",
       "179   2017-12-02\n",
       "180   2017-12-03\n",
       "181   2017-12-04\n",
       "182   2017-12-05\n",
       "Name: DATE, Length: 183, dtype: datetime64[ns]"
      ]
     },
     "execution_count": 14,
     "metadata": {},
     "output_type": "execute_result"
    }
   ],
   "source": [
    "pd.to_datetime(df['DATE'])"
   ]
  },
  {
   "attachments": {},
   "cell_type": "markdown",
   "metadata": {},
   "source": [
    "Look at the 'dtype' at the bottom!"
   ]
  },
  {
   "attachments": {},
   "cell_type": "markdown",
   "metadata": {
    "slideshow": {
     "slide_type": "subslide"
    }
   },
   "source": [
    "Set it to a new column, or overwrite the existing column. Here, I'm setting to 'new_date' for clarity."
   ]
  },
  {
   "cell_type": "code",
   "execution_count": 32,
   "metadata": {},
   "outputs": [
    {
     "data": {
      "text/html": [
       "<div>\n",
       "<style scoped>\n",
       "    .dataframe tbody tr th:only-of-type {\n",
       "        vertical-align: middle;\n",
       "    }\n",
       "\n",
       "    .dataframe tbody tr th {\n",
       "        vertical-align: top;\n",
       "    }\n",
       "\n",
       "    .dataframe thead th {\n",
       "        text-align: right;\n",
       "    }\n",
       "</style>\n",
       "<table border=\"1\" class=\"dataframe\">\n",
       "  <thead>\n",
       "    <tr style=\"text-align: right;\">\n",
       "      <th></th>\n",
       "      <th>STATION</th>\n",
       "      <th>NAME</th>\n",
       "      <th>DATE</th>\n",
       "      <th>PRCP</th>\n",
       "      <th>SNOW</th>\n",
       "      <th>SNWD</th>\n",
       "      <th>TMAX</th>\n",
       "      <th>TMIN</th>\n",
       "      <th>TOBS</th>\n",
       "      <th>rolling_max</th>\n",
       "      <th>2week-avgmax</th>\n",
       "      <th>new_date</th>\n",
       "    </tr>\n",
       "  </thead>\n",
       "  <tbody>\n",
       "    <tr>\n",
       "      <th>0</th>\n",
       "      <td>USC00052228</td>\n",
       "      <td>DENVER MUSEUM, CO US</td>\n",
       "      <td>5/22/2017</td>\n",
       "      <td>0.08</td>\n",
       "      <td>0.0</td>\n",
       "      <td>0.0</td>\n",
       "      <td>67</td>\n",
       "      <td>42</td>\n",
       "      <td>42</td>\n",
       "      <td>67.0</td>\n",
       "      <td>67.0</td>\n",
       "      <td>2017-05-22</td>\n",
       "    </tr>\n",
       "    <tr>\n",
       "      <th>1</th>\n",
       "      <td>USC00052228</td>\n",
       "      <td>DENVER MUSEUM, CO US</td>\n",
       "      <td>5/23/2017</td>\n",
       "      <td>0.00</td>\n",
       "      <td>0.0</td>\n",
       "      <td>0.0</td>\n",
       "      <td>63</td>\n",
       "      <td>39</td>\n",
       "      <td>48</td>\n",
       "      <td>65.0</td>\n",
       "      <td>65.0</td>\n",
       "      <td>2017-05-23</td>\n",
       "    </tr>\n",
       "  </tbody>\n",
       "</table>\n",
       "</div>"
      ],
      "text/plain": [
       "       STATION                  NAME       DATE  PRCP  SNOW  SNWD  TMAX  TMIN  \\\n",
       "0  USC00052228  DENVER MUSEUM, CO US  5/22/2017  0.08   0.0   0.0    67    42   \n",
       "1  USC00052228  DENVER MUSEUM, CO US  5/23/2017  0.00   0.0   0.0    63    39   \n",
       "\n",
       "   TOBS  rolling_max  2week-avgmax   new_date  \n",
       "0    42         67.0          67.0 2017-05-22  \n",
       "1    48         65.0          65.0 2017-05-23  "
      ]
     },
     "execution_count": 32,
     "metadata": {},
     "output_type": "execute_result"
    }
   ],
   "source": [
    "df['new_date'] = pd.to_datetime(df.DATE)\n",
    "df.head(2)"
   ]
  },
  {
   "cell_type": "code",
   "execution_count": 20,
   "metadata": {
    "slideshow": {
     "slide_type": "fragment"
    }
   },
   "outputs": [
    {
     "data": {
      "text/plain": [
       "STATION                 object\n",
       "NAME                    object\n",
       "DATE                    object\n",
       "PRCP                   float64\n",
       "SNOW                   float64\n",
       "SNWD                   float64\n",
       "TMAX                     int64\n",
       "TMIN                     int64\n",
       "TOBS                     int64\n",
       "rolling_max            float64\n",
       "2week-avgmax           float64\n",
       "new_date        datetime64[ns]\n",
       "dtype: object"
      ]
     },
     "execution_count": 20,
     "metadata": {},
     "output_type": "execute_result"
    }
   ],
   "source": [
    "df.dtypes"
   ]
  },
  {
   "cell_type": "code",
   "execution_count": 33,
   "metadata": {
    "scrolled": true,
    "slideshow": {
     "slide_type": "subslide"
    }
   },
   "outputs": [
    {
     "name": "stdout",
     "output_type": "stream",
     "text": [
      "         DATE   new_date  TMAX\n",
      "3   5/25/2017 2017-05-25    76\n",
      "4   5/26/2017 2017-05-26    71\n",
      "40   7/4/2017 2017-07-04    92\n",
      "41   7/5/2017 2017-07-05    98\n"
     ]
    },
    {
     "data": {
      "text/plain": [
       "<AxesSubplot:xlabel='new_date'>"
      ]
     },
     "execution_count": 33,
     "metadata": {},
     "output_type": "execute_result"
    },
    {
     "data": {
      "image/png": "[encoded data removed]",
      "text/plain": [
       "<Figure size 432x288 with 1 Axes>"
      ]
     },
     "metadata": {
      "needs_background": "light"
     },
     "output_type": "display_data"
    }
   ],
   "source": [
    "fake_data = pd.concat([df[0:5], df[40:45]])\n",
    "print(fake_data[['DATE', 'new_date', 'TMAX']][3:7])\n",
    "fake_data.plot(x='new_date', y='TMAX')"
   ]
  },
  {
   "cell_type": "markdown",
   "metadata": {
    "slideshow": {
     "slide_type": "fragment"
    }
   },
   "source": [
    "## Better!"
   ]
  },
  {
   "cell_type": "markdown",
   "metadata": {
    "slideshow": {
     "slide_type": "subslide"
    }
   },
   "source": [
    "With a proper date column:\n",
    "    \n",
    "- `rolling` will be more accurate, especially with less neat intervals than our weather data\n",
    "  - e.g. `df.col1.rolling('2w')`, `df.col1.rolling('20m')`\n",
    "- Can select substrings by date\n",
    "  - e.g. return June 2017 - Sept 2017\n",
    "- Proper intervals in plots\n",
    "- Easy conversion of timezones\n",
    "- Easy convert from datetime field to custom strings; by month, or year, or minute, etc.\n",
    "\n",
    "Documentation: [Time Series / Date functionality](http://pandas.pydata.org/pandas-docs/stable/timeseries.html)"
   ]
  }
 ],
 "metadata": {
  "celltoolbar": "Slideshow",
  "kernelspec": {
   "display_name": "Python 3",
   "language": "python",
   "name": "python3"
  },
  "language_info": {
   "codemirror_mode": {
    "name": "ipython",
    "version": 3
   },
   "file_extension": ".py",
   "mimetype": "text/x-python",
   "name": "python",
   "nbconvert_exporter": "python",
   "pygments_lexer": "ipython3",
   "version": "3.9.12"
  }
 },
 "nbformat": 4,
 "nbformat_minor": 2
}
