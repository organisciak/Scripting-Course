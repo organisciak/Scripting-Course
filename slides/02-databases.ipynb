{
 "cells": [
  {
   "cell_type": "markdown",
   "metadata": {
    "slideshow": {
     "slide_type": "slide"
    }
   },
   "source": [
    "# Week 2: Relational Databases and Python\n",
    "\n",
    "```mermaid\n",
    "flowchart TD\n",
    "    Week1[\"Week 1: Introduction to Databases\"]\n",
    "    Week2[\"Week 2: SQL Basics & Python\"] \n",
    "    Week3[\"Week 3: SQL Querying & Pandas\"]\n",
    "    Week4[\"Week 4: Split-Apply-Combine\"]\n",
    "    Week5[\"Week 5: Aggregation & Transformation\"]\n",
    "    \n",
    "    Week1 --> Week2\n",
    "    Week2 --> Week3\n",
    "    Week3 --> Week4\n",
    "    Week4 --> Week5\n",
    "    \n",
    "    style Week2 fill:#f96,stroke:#333,stroke-width:4px\n",
    "```"
   ]
  },
  {
   "cell_type": "markdown",
   "metadata": {
    "slideshow": {
     "slide_type": "subslide"
    }
   },
   "source": [
    "## Learning Objectives\n",
    "\n",
    "By the end of today's class, you will be able to:\n",
    "- Explain the components of a relational database system\n",
    "- Write basic SQL statements (CREATE, INSERT, SELECT, WHERE)\n",
    "- Understand type systems and their impact on database design\n",
    "- Connect database concepts to Python programming\n",
    "- Apply these skills to solve information management problems"
   ]
  },
  {
   "attachments": {},
   "cell_type": "markdown",
   "metadata": {
    "slideshow": {
     "slide_type": "subslide"
    }
   },
   "source": [
    "### Announcements?"
   ]
  },
  {
   "attachments": {},
   "cell_type": "markdown",
   "metadata": {
    "slideshow": {
     "slide_type": "subslide"
    }
   },
   "source": [
    "## Office Hours\n",
    "\n",
    "By Appointment.\n",
    "\n",
    "https://links.porg.dev/book"
   ]
  },
  {
   "cell_type": "code",
   "execution_count": null,
   "metadata": {},
   "outputs": [],
   "source": []
  },
  {
   "cell_type": "markdown",
   "metadata": {
    "slideshow": {
     "slide_type": "subslide"
    }
   },
   "source": [
    "## Review\n",
    "\n",
    "- relational database\n",
    "- SQL\n",
    "- no-SQL\n",
    "- structured data\n",
    "- semi-structured data"
   ]
  },
  {
   "cell_type": "markdown",
   "metadata": {
    "slideshow": {
     "slide_type": "subslide"
    }
   },
   "source": [
    "## Review Lab Skills\n",
    "\n",
    "- What's a 'notebook'?\n",
    "- Python\n",
    "   - What are lists?\n",
    "   - How do strings, integers, and floats differ?\n",
    "       - What happens when you add them?\n",
    "   - How do you set a variable?"
   ]
  },
  {
   "cell_type": "markdown",
   "metadata": {
    "slideshow": {
     "slide_type": "subslide"
    }
   },
   "source": [
    "## Our map of skills\n",
    "\n",
    "Let's take a moment for some tentative wayfinding.\n",
    "\n",
    "We start class with a great deal of new concepts, and we'll learn them by taking time to think through how they relate.\n",
    "\n",
    "- What's the relationship of\n",
    "   - relational databases to SQL?\n",
    "   - structured data to relational databases?\n",
    "   - Python to Colab?\n",
    "   - Python to SQL?\n",
    "\n",
    "Discuss this in groups of 2 or 3."
   ]
  },
  {
   "attachments": {},
   "cell_type": "markdown",
   "metadata": {},
   "source": [
    "*I will get redundant about Python versus SQL. If you get it, forgive the repetition - but this early in the quarter, it's tricky to juggle the two concepts concurrently*"
   ]
  },
  {
   "cell_type": "markdown",
   "metadata": {
    "slideshow": {
     "slide_type": "slide"
    }
   },
   "source": [
    "## Librarianship"
   ]
  },
  {
   "cell_type": "markdown",
   "metadata": {
    "slideshow": {
     "slide_type": "subslide"
    }
   },
   "source": [
    "### What is Data?\n",
    "\n",
    "‘any  information  that  can  be  stored  in  digital  form,  including  text,  numbers,  images,  video  or  movies,  audio,  software,  algorithms,  equations,  animations,  models,  simulations,  etc.’ \n",
    "\n",
    "National Science Board. (2005). Long-Lived  Digital  Data Collections: Enabling Research and  Education in the 21st Century. Arlington, VA: National Science Foundation."
   ]
  },
  {
   "cell_type": "markdown",
   "metadata": {
    "slideshow": {
     "slide_type": "subslide"
    }
   },
   "source": [
    "![](../images/big-data.png)\n",
    "\n",
    "**Library articles discussing 'big data'**\n",
    "\n",
    "Zhan, M., & Widén, G. (2017). Understanding big data in librarianship. Journal of Librarianship and Information Science, 0961000617742451. https://doi.org/10.1177/0961000617742451"
   ]
  },
  {
   "cell_type": "markdown",
   "metadata": {
    "slideshow": {
     "slide_type": "subslide"
    }
   },
   "source": [
    "### What is 'Big Data' in Librarianship?\n",
    "\n",
    "- Volume: Lots of data!\n",
    "- Velocity: Working with data that comes in quick.\n",
    "- Variety: Working with a wide variety of data and data types\n",
    "- Veracity: Ensuring the reliability and integrity of data\n",
    "\n",
    "Fosso Wamba, S., Akter, S., Edwards, A., Chopin, G., & Gnanzou, D. (2015). How ‘big data’ can make big impact: Findings from a systematic review and a longitudinal case study. International Journal of Production Economics, 165, 234–246. https://doi.org/10.1016/j.ijpe.2014.12.031"
   ]
  },
  {
   "cell_type": "markdown",
   "metadata": {
    "slideshow": {
     "slide_type": "subslide"
    }
   },
   "source": [
    "From a review of 35 library articles (Zhan & Widén 2017):\n",
    " - 29 mention volume, 12 mention velocity, 12 mention variety, 12 mention veracity"
   ]
  },
  {
   "cell_type": "markdown",
   "metadata": {
    "slideshow": {
     "slide_type": "subslide"
    }
   },
   "source": [
    "## Data Literacy\n",
    "\n",
    "> the ability to understand, use and manage data."
   ]
  },
  {
   "cell_type": "markdown",
   "metadata": {
    "slideshow": {
     "slide_type": "fragment"
    }
   },
   "source": [
    "Koltay, T. (2017). Data literacy for researchers and data librarians. Journal of Librarianship and Information Science, 49(1), 3–14. https://doi.org/10.1177/0961000615616450"
   ]
  },
  {
   "cell_type": "markdown",
   "metadata": {
    "slideshow": {
     "slide_type": "subslide"
    }
   },
   "source": [
    "> All librarians \n",
    "are interested in information literacy; archivists and data \n",
    "librarians are interested in data literacy.\n",
    "\n",
    "Schield, M. (2004). Information Literacy, Statistical Literacy and Data Literacy."
   ]
  },
  {
   "cell_type": "markdown",
   "metadata": {
    "slideshow": {
     "slide_type": "fragment"
    }
   },
   "source": [
    "Such as... \n",
    "> [Information Science] students need to understand a wide variety \n",
    "of tools for accessing, converting and manipulating data.  \n",
    "These may need to understand structured query language \n",
    "(SQL), relational databases (e.g. MS Access), data \n",
    "manipulation techniques, statistical software (e.g., SPSS, \n",
    "STATA, Minitab and MS Excel) and data presentation \n",
    "software (e.g., MS Excel and MS PowerPoint).  "
   ]
  },
  {
   "cell_type": "markdown",
   "metadata": {
    "slideshow": {
     "slide_type": "subslide"
    }
   },
   "source": [
    "### Core competencies: What should a data literate librarian know?"
   ]
  },
  {
   "cell_type": "markdown",
   "metadata": {
    "slideshow": {
     "slide_type": "fragment"
    }
   },
   "source": [
    "- Curation: active management of research data\n",
    "- Wrangling: ability to process, clean, normalize, and transform data\n",
    "- Mix of practical skills and theory (Cox et al 2013, via Semeler et al 2017)\n",
    "- Adaptable to new contexts and technical needs"
   ]
  },
  {
   "cell_type": "markdown",
   "metadata": {
    "slideshow": {
     "slide_type": "subslide"
    }
   },
   "source": [
    "Semeler et al (2017):\n",
    "    \n",
    " - specific knowledge on data usage, e.g. data types, metadata standards, legal and regulatory details, preservation\n",
    " - knowledge of info tech, such as Python, SQL, Java, XML, design of databases, large data, NLP"
   ]
  },
  {
   "cell_type": "markdown",
   "metadata": {
    "slideshow": {
     "slide_type": "fragment"
    }
   },
   "source": [
    "> A  data  librarian  need  not  become  a  programmer,  but should  be  interested  in  learning  about  the  languages  and  \n",
    "programming  logic  of  computers"
   ]
  },
  {
   "cell_type": "markdown",
   "metadata": {
    "slideshow": {
     "slide_type": "subslide"
    }
   },
   "source": [
    "#### [Digital Curation Librarian - at Wake Forest University](https://jobs.diglib.org/job/digital-curation-librarian-4/)\n",
    "\n",
    "\"Desired:\n",
    "\n",
    "- Demonstrated skills with scripting languages and/or tools for data manipulation (e.g. OpenRefine, Python, XSLT, etc.)\""
   ]
  },
  {
   "cell_type": "markdown",
   "metadata": {
    "slideshow": {
     "slide_type": "subslide"
    }
   },
   "source": [
    "#### [Metadata Librarian - at University of Florida](https://jobs.diglib.org/job/metadata-librarian-7/)\n",
    "\n",
    "\"Required:\n",
    "\n",
    "- Demonstrated interest in and experience with any of the following tools (or others like them) to create, extract, transform, analyze, and/or quality control metadata: XSLT, Microsoft Excel, MarcEdit, OpenRefine, *scripting languages*, regular expressions, *SQL*.\""
   ]
  },
  {
   "cell_type": "markdown",
   "metadata": {
    "slideshow": {
     "slide_type": "subslide"
    }
   },
   "source": [
    "#### [Library Systems Supervisor - City of Aurora](https://joblist.ala.org/job/library-systems-supervisor/40162599/)\n",
    "\n",
    "Minimum Qualifications\n",
    "     \n",
    " - Master's Degree in Information Systems or Library science \n",
    " \n",
    "Our ideal candidate must possess:\n",
    "     \n",
    " - Knowledge of troubleshooting database issues\n",
    " - Strong proficiency with SQL and its variation among popular databases\n",
    " - Knowledge of Basic Scripting and Web Management"
   ]
  },
  {
   "cell_type": "markdown",
   "metadata": {
    "slideshow": {
     "slide_type": "subslide"
    }
   },
   "source": [
    "#### [Digital Library Software Architect - at University of Colorado Boulder](https://jobs.diglib.org/job/digital-library-software-architect-2/)\n",
    "\n",
    "\"What we require:\n",
    "\n",
    "- Demonstrated programming skills in a programming language such as Javascript, Java, Python, and REST or SOAP APIs.\n",
    "- Experience with database management software (e.g. MySQL) and search/indexing software such as Apache Solr.\"\n",
    "\n"
   ]
  },
  {
   "cell_type": "markdown",
   "metadata": {
    "slideshow": {
     "slide_type": "subslide"
    }
   },
   "source": [
    "#### [Business Research Librarian - at Stanford](https://joblist.ala.org/job/business-research-librarian/39943022/)\n",
    "\n",
    "\"Desired qualifications – Knowledge of SQL, statistical software packages and programming languages, such as Python.\""
   ]
  },
  {
   "cell_type": "markdown",
   "metadata": {
    "slideshow": {
     "slide_type": "slide"
    }
   },
   "source": [
    "## Relational Databases\n",
    "\n",
    "Let's consider the parts of relational databases by zooming out from the finest value."
   ]
  },
  {
   "cell_type": "markdown",
   "metadata": {
    "slideshow": {
     "slide_type": "subslide"
    }
   },
   "source": [
    "### Field\n",
    "\n",
    "A single piece of data.\n",
    "\n",
    "e.g. One datum.\n",
    "e.g. A single column of a single record.\n",
    "\n",
    "![](../images/part-dbms/field.png)"
   ]
  },
  {
   "cell_type": "markdown",
   "metadata": {
    "slideshow": {
     "slide_type": "subslide"
    }
   },
   "source": [
    "### Record\n",
    "\n",
    "A collection of related fields, represented as one row in the table.\n",
    "\n",
    "![](../images/part-dbms/record.png)"
   ]
  },
  {
   "cell_type": "markdown",
   "metadata": {
    "slideshow": {
     "slide_type": "fragment"
    }
   },
   "source": [
    "_What does a record represent?_"
   ]
  },
  {
   "cell_type": "markdown",
   "metadata": {
    "slideshow": {
     "slide_type": "subslide"
    }
   },
   "source": [
    "### Table\n",
    "\n",
    "A collection of records, following the same schema, or description of fields.\n",
    "\n",
    "![](../images/part-dbms/table.png)"
   ]
  },
  {
   "cell_type": "markdown",
   "metadata": {
    "slideshow": {
     "slide_type": "subslide"
    }
   },
   "source": [
    "### Relational Database\n",
    "\n",
    "A collection of tables all in the same domain.\n",
    "\n",
    "![](../images/part-dbms/db.png)"
   ]
  },
  {
   "cell_type": "markdown",
   "metadata": {
    "slideshow": {
     "slide_type": "subslide"
    }
   },
   "source": [
    "### DBMS\n",
    "\n",
    "A _Database Management System_ (DBMS, or more exactly RDBMS) is the set of software programs that run your databases.\n",
    "\n",
    "- e.g. MySQL, SQLite, PostgresSQL, Microsoft SQL Server, etc."
   ]
  },
  {
   "cell_type": "markdown",
   "metadata": {
    "slideshow": {
     "slide_type": "fragment"
    }
   },
   "source": [
    "_What's the difference?_"
   ]
  },
  {
   "cell_type": "markdown",
   "metadata": {
    "slideshow": {
     "slide_type": "fragment"
    }
   },
   "source": [
    "- 'Database' is the organizational model for your content, the DBMS is how that model and content is actually managed by a system.\n",
    "- DBMS is like _Word_, the database is your document."
   ]
  },
  {
   "cell_type": "markdown",
   "metadata": {
    "slideshow": {
     "slide_type": "subslide"
    }
   },
   "source": [
    "### Structure of a relational database\n",
    "\n",
    "- DBMS\n",
    "  - ↳ Database\n",
    "    - ↳ Table\n",
    "      - ↳ Records or Rows"
   ]
  },
  {
   "cell_type": "markdown",
   "metadata": {
    "slideshow": {
     "slide_type": "subslide"
    }
   },
   "source": [
    "### Spreadsheet as Database\n",
    "\n",
    "As per [Launch School](https://launchschool.com/books/sql/read/introduction#spreadsheetdb):\n",
    "\n",
    "Because relational databases are tabular, we can imagine a single table as akin to a spreadsheet.\n",
    "\n",
    "![](../images/launchschool-users.png)"
   ]
  },
  {
   "cell_type": "markdown",
   "metadata": {
    "slideshow": {
     "slide_type": "subslide"
    }
   },
   "source": [
    "When do you put something in a database? When in a table?"
   ]
  },
  {
   "cell_type": "markdown",
   "metadata": {
    "slideshow": {
     "slide_type": "subslide"
    }
   },
   "source": [
    "### Concurrency\n",
    "\n",
    "- ability for multiple users to access the same record"
   ]
  },
  {
   "cell_type": "markdown",
   "metadata": {
    "slideshow": {
     "slide_type": "subslide"
    }
   },
   "source": [
    "### Client-Server architecture\n",
    "\n",
    "![](../images/client-server-msg.png)\n",
    "\n",
    "Via [Launch School](https://launchschool.com/books/sql/read/interacting_with_postgresql)"
   ]
  },
  {
   "cell_type": "markdown",
   "metadata": {
    "slideshow": {
     "slide_type": "slide"
    }
   },
   "source": [
    "## Intro to SQL"
   ]
  },
  {
   "cell_type": "markdown",
   "metadata": {
    "slideshow": {
     "slide_type": "subslide"
    }
   },
   "source": [
    "**SQL is intended to read naturally: even if you can't write SQL, you should be able to read it**"
   ]
  },
  {
   "cell_type": "markdown",
   "metadata": {
    "slideshow": {
     "slide_type": "fragment"
    }
   },
   "source": [
    "```sql\n",
    "CREATE TABLE cats (breed);\n",
    "```"
   ]
  },
  {
   "cell_type": "markdown",
   "metadata": {
    "slideshow": {
     "slide_type": "subslide"
    }
   },
   "source": [
    "**SQL is expressed in _statements_, constructed from _keywords_**"
   ]
  },
  {
   "cell_type": "markdown",
   "metadata": {
    "slideshow": {
     "slide_type": "fragment"
    }
   },
   "source": [
    "Statement:\n",
    "\n",
    "```sql\n",
    "CREATE TABLE cats (breed);\n",
    "```\n",
    "\n",
    "keywords: `CREATE TABLE`"
   ]
  },
  {
   "cell_type": "markdown",
   "metadata": {
    "slideshow": {
     "slide_type": "subslide"
    }
   },
   "source": [
    "**Keywords are capitalized - by convention, not by requirement**"
   ]
  },
  {
   "cell_type": "markdown",
   "metadata": {
    "slideshow": {
     "slide_type": "fragment"
    }
   },
   "source": [
    "This is preferred:\n",
    "    \n",
    "```sql\n",
    "CREATE TABLE cats (breed);\n",
    "```\n",
    "\n",
    "...but this works just fine:\n",
    "    \n",
    "```sql\n",
    "create table cats (breed);\n",
    "```"
   ]
  },
  {
   "cell_type": "markdown",
   "metadata": {
    "slideshow": {
     "slide_type": "subslide"
    }
   },
   "source": [
    "**End statements with a semi-colon**"
   ]
  },
  {
   "cell_type": "markdown",
   "metadata": {},
   "source": [
    "Won't work in most systems:\n",
    "\n",
    "```sql\n",
    "CREATE TABLE cats (breed)\n",
    "```"
   ]
  },
  {
   "cell_type": "markdown",
   "metadata": {
    "editable": true,
    "slideshow": {
     "slide_type": "subslide"
    },
    "tags": []
   },
   "source": [
    "## SQL in Action: Library Catalog\n",
    "\n",
    "```sql\n",
    "-- Creating a books table\n",
    "CREATE TABLE books (\n",
    "  id INTEGER PRIMARY KEY,\n",
    "  title TEXT,\n",
    "  author TEXT,\n",
    "  year INTEGER\n",
    ");\n",
    "\n",
    "-- Adding some classic titles\n",
    "INSERT INTO books VALUES \n",
    "  (1, 'To Kill a Mockingbird', 'Harper Lee', 1960),\n",
    "  (2, '1984', 'George Orwell', 1949);\n",
    "\n",
    "-- Finding books by an author\n",
    "SELECT title, year FROM books \n",
    "  WHERE author = 'George Orwell';\n",
    "```\n",
    "\n",
    "Let's take a moment to consider this example before looking at each statement and keyword in turn."
   ]
  },
  {
   "cell_type": "code",
   "execution_count": 2,
   "metadata": {
    "editable": true,
    "slideshow": {
     "slide_type": "subslide"
    },
    "tags": []
   },
   "outputs": [],
   "source": [
    "# Ignore this for now: connecting to a transient, in-memory database\n",
    "%load_ext sql\n",
    "%sql sqlite://"
   ]
  },
  {
   "cell_type": "markdown",
   "metadata": {
    "editable": true,
    "slideshow": {
     "slide_type": "slide"
    },
    "tags": []
   },
   "source": [
    "### CREATE TABLE"
   ]
  },
  {
   "cell_type": "code",
   "execution_count": 3,
   "metadata": {
    "editable": true,
    "slideshow": {
     "slide_type": "-"
    },
    "tags": []
   },
   "outputs": [
    {
     "name": "stdout",
     "output_type": "stream",
     "text": [
      " * sqlite://\n",
      "Done.\n"
     ]
    },
    {
     "data": {
      "text/plain": [
       "[]"
      ]
     },
     "execution_count": 3,
     "metadata": {},
     "output_type": "execute_result"
    }
   ],
   "source": [
    "%%sql\n",
    "CREATE TABLE books (title, author, year);"
   ]
  },
  {
   "cell_type": "markdown",
   "metadata": {
    "slideshow": {
     "slide_type": "fragment"
    }
   },
   "source": [
    "What's going on here?"
   ]
  },
  {
   "cell_type": "markdown",
   "metadata": {
    "slideshow": {
     "slide_type": "fragment"
    }
   },
   "source": [
    ">\"create a table named _cats_ with two fields: _breed_ and _affection_\""
   ]
  },
  {
   "cell_type": "markdown",
   "metadata": {
    "slideshow": {
     "slide_type": "subslide"
    }
   },
   "source": [
    "What if I run `CREATE TABLE` again?"
   ]
  },
  {
   "cell_type": "code",
   "execution_count": 4,
   "metadata": {
    "editable": true,
    "scrolled": true,
    "slideshow": {
     "slide_type": "fragment"
    },
    "tags": []
   },
   "outputs": [
    {
     "name": "stdout",
     "output_type": "stream",
     "text": [
      " * sqlite://\n",
      "(sqlite3.OperationalError) table books already exists\n",
      "[SQL: CREATE TABLE books (title, author, year);]\n",
      "(Background on this error at: https://sqlalche.me/e/20/e3q8)\n"
     ]
    }
   ],
   "source": [
    "%%sql\n",
    "CREATE TABLE books (title, author, year);"
   ]
  },
  {
   "cell_type": "markdown",
   "metadata": {
    "slideshow": {
     "slide_type": "fragment"
    }
   },
   "source": [
    "**Solution**: IF NOT EXISTS keyword"
   ]
  },
  {
   "cell_type": "code",
   "execution_count": 5,
   "metadata": {
    "editable": true,
    "scrolled": true,
    "slideshow": {
     "slide_type": ""
    },
    "tags": []
   },
   "outputs": [
    {
     "name": "stdout",
     "output_type": "stream",
     "text": [
      " * sqlite://\n",
      "Done.\n"
     ]
    },
    {
     "data": {
      "text/plain": [
       "[]"
      ]
     },
     "execution_count": 5,
     "metadata": {},
     "output_type": "execute_result"
    }
   ],
   "source": [
    "%%sql\n",
    "CREATE TABLE IF NOT EXISTS books (title, author, year);"
   ]
  },
  {
   "cell_type": "markdown",
   "metadata": {
    "slideshow": {
     "slide_type": "-"
    }
   },
   "source": [
    "_This doesn't do anything if the table exists, but avoids an error._"
   ]
  },
  {
   "cell_type": "markdown",
   "metadata": {
    "editable": true,
    "slideshow": {
     "slide_type": "fragment"
    },
    "tags": []
   },
   "source": [
    "(Better solution: don't try to create tables that exist!)"
   ]
  },
  {
   "cell_type": "markdown",
   "metadata": {
    "editable": true,
    "slideshow": {
     "slide_type": "slide"
    },
    "tags": []
   },
   "source": [
    "### DROP TABLE\n",
    "\n",
    "To delete a table, try the following:"
   ]
  },
  {
   "cell_type": "code",
   "execution_count": 7,
   "metadata": {
    "editable": true,
    "slideshow": {
     "slide_type": "subslide"
    },
    "tags": []
   },
   "outputs": [
    {
     "name": "stdout",
     "output_type": "stream",
     "text": [
      " * sqlite://\n",
      "Done.\n"
     ]
    },
    {
     "data": {
      "text/plain": [
       "[]"
      ]
     },
     "execution_count": 7,
     "metadata": {},
     "output_type": "execute_result"
    }
   ],
   "source": [
    "%%sql\n",
    "DROP TABLE books;"
   ]
  },
  {
   "cell_type": "markdown",
   "metadata": {
    "slideshow": {
     "slide_type": "fragment"
    }
   },
   "source": [
    "Use carefully!"
   ]
  },
  {
   "cell_type": "markdown",
   "metadata": {
    "slideshow": {
     "slide_type": "slide"
    }
   },
   "source": [
    "### Creating with data types"
   ]
  },
  {
   "cell_type": "code",
   "execution_count": 8,
   "metadata": {
    "editable": true,
    "slideshow": {
     "slide_type": "-"
    },
    "tags": []
   },
   "outputs": [
    {
     "name": "stdout",
     "output_type": "stream",
     "text": [
      " * sqlite://\n",
      "Done.\n"
     ]
    },
    {
     "data": {
      "text/plain": [
       "[]"
      ]
     },
     "execution_count": 8,
     "metadata": {},
     "output_type": "execute_result"
    }
   ],
   "source": [
    "%%sql\n",
    "CREATE TABLE books (title TEXT, author TEXT, year INTEGER);"
   ]
  },
  {
   "cell_type": "markdown",
   "metadata": {},
   "source": [
    "_How is this different?_"
   ]
  },
  {
   "cell_type": "markdown",
   "metadata": {
    "editable": true,
    "slideshow": {
     "slide_type": "subslide"
    },
    "tags": []
   },
   "source": [
    "### Some data types\n",
    "\n",
    "- text\n",
    "- int - integer (like `int` in Python)\n",
    "- float - floating point number (like `float` in Python)\n",
    "- boolean - True/False values"
   ]
  },
  {
   "cell_type": "markdown",
   "metadata": {
    "editable": true,
    "slideshow": {
     "slide_type": "slide"
    },
    "tags": []
   },
   "source": [
    "### `INSERT` keyword\n",
    "\n",
    "Pairs with `INTO` and `VALUES()`"
   ]
  },
  {
   "cell_type": "markdown",
   "metadata": {
    "editable": true,
    "slideshow": {
     "slide_type": ""
    },
    "tags": []
   },
   "source": [
    "_In plain text, what's happening here? Do the line breaks matter?_"
   ]
  },
  {
   "cell_type": "code",
   "execution_count": 9,
   "metadata": {
    "editable": true,
    "slideshow": {
     "slide_type": "-"
    },
    "tags": []
   },
   "outputs": [
    {
     "name": "stdout",
     "output_type": "stream",
     "text": [
      " * sqlite://\n",
      "2 rows affected.\n"
     ]
    },
    {
     "data": {
      "text/plain": [
       "[]"
      ]
     },
     "execution_count": 9,
     "metadata": {},
     "output_type": "execute_result"
    }
   ],
   "source": [
    "%%sql\n",
    "INSERT INTO books VALUES \n",
    "  ('To Kill a Mockingbird', 'Harper Lee', 1960),\n",
    "  ('1984', 'George Orwell', 1949);"
   ]
  },
  {
   "cell_type": "markdown",
   "metadata": {
    "editable": true,
    "slideshow": {
     "slide_type": "fragment"
    },
    "tags": []
   },
   "source": [
    "\"Insert two records into the table `books`, representing the book `title`, `author`, and `year`.\"\n",
    "\n",
    "- As in Python, text is quoted, integers are not."
   ]
  },
  {
   "cell_type": "markdown",
   "metadata": {
    "editable": true,
    "slideshow": {
     "slide_type": "slide"
    },
    "tags": []
   },
   "source": [
    "## `SELECT` keyword\n",
    "\n",
    "Get the data!"
   ]
  },
  {
   "cell_type": "code",
   "execution_count": 10,
   "metadata": {
    "editable": true,
    "slideshow": {
     "slide_type": "-"
    },
    "tags": []
   },
   "outputs": [
    {
     "name": "stdout",
     "output_type": "stream",
     "text": [
      " * sqlite://\n",
      "Done.\n"
     ]
    },
    {
     "data": {
      "text/html": [
       "<table>\n",
       "    <thead>\n",
       "        <tr>\n",
       "            <th>title</th>\n",
       "        </tr>\n",
       "    </thead>\n",
       "    <tbody>\n",
       "        <tr>\n",
       "            <td>To Kill a Mockingbird</td>\n",
       "        </tr>\n",
       "        <tr>\n",
       "            <td>1984</td>\n",
       "        </tr>\n",
       "    </tbody>\n",
       "</table>"
      ],
      "text/plain": [
       "[('To Kill a Mockingbird',), ('1984',)]"
      ]
     },
     "execution_count": 10,
     "metadata": {},
     "output_type": "execute_result"
    }
   ],
   "source": [
    "%%sql\n",
    "SELECT title FROM books;"
   ]
  },
  {
   "cell_type": "markdown",
   "metadata": {
    "slideshow": {
     "slide_type": "-"
    }
   },
   "source": [
    "In plain text:"
   ]
  },
  {
   "cell_type": "markdown",
   "metadata": {
    "editable": true,
    "slideshow": {
     "slide_type": "fragment"
    },
    "tags": []
   },
   "source": [
    "> \"SELECT the `title` fields of the `books` table\""
   ]
  },
  {
   "cell_type": "markdown",
   "metadata": {
    "slideshow": {
     "slide_type": "subslide"
    }
   },
   "source": [
    "How might we ask for \"both the breed and affection field?\" \n",
    "How might we ask for \"all fields\"?"
   ]
  },
  {
   "cell_type": "markdown",
   "metadata": {
    "editable": true,
    "slideshow": {
     "slide_type": "fragment"
    },
    "tags": []
   },
   "source": [
    "- Separate field names by commas\n",
    "- Say 'all fields' with `*`"
   ]
  },
  {
   "cell_type": "code",
   "execution_count": 11,
   "metadata": {
    "editable": true,
    "slideshow": {
     "slide_type": ""
    },
    "tags": []
   },
   "outputs": [
    {
     "name": "stdout",
     "output_type": "stream",
     "text": [
      " * sqlite://\n",
      "Done.\n"
     ]
    },
    {
     "data": {
      "text/html": [
       "<table>\n",
       "    <thead>\n",
       "        <tr>\n",
       "            <th>title</th>\n",
       "            <th>author</th>\n",
       "        </tr>\n",
       "    </thead>\n",
       "    <tbody>\n",
       "        <tr>\n",
       "            <td>To Kill a Mockingbird</td>\n",
       "            <td>Harper Lee</td>\n",
       "        </tr>\n",
       "        <tr>\n",
       "            <td>1984</td>\n",
       "            <td>George Orwell</td>\n",
       "        </tr>\n",
       "    </tbody>\n",
       "</table>"
      ],
      "text/plain": [
       "[('To Kill a Mockingbird', 'Harper Lee'), ('1984', 'George Orwell')]"
      ]
     },
     "execution_count": 11,
     "metadata": {},
     "output_type": "execute_result"
    }
   ],
   "source": [
    "%%sql\n",
    "SELECT title, author from books;"
   ]
  },
  {
   "cell_type": "code",
   "execution_count": 12,
   "metadata": {
    "editable": true,
    "scrolled": true,
    "slideshow": {
     "slide_type": ""
    },
    "tags": []
   },
   "outputs": [
    {
     "name": "stdout",
     "output_type": "stream",
     "text": [
      " * sqlite://\n",
      "Done.\n"
     ]
    },
    {
     "data": {
      "text/html": [
       "<table>\n",
       "    <thead>\n",
       "        <tr>\n",
       "            <th>title</th>\n",
       "            <th>author</th>\n",
       "            <th>year</th>\n",
       "        </tr>\n",
       "    </thead>\n",
       "    <tbody>\n",
       "        <tr>\n",
       "            <td>To Kill a Mockingbird</td>\n",
       "            <td>Harper Lee</td>\n",
       "            <td>1960</td>\n",
       "        </tr>\n",
       "        <tr>\n",
       "            <td>1984</td>\n",
       "            <td>George Orwell</td>\n",
       "            <td>1949</td>\n",
       "        </tr>\n",
       "    </tbody>\n",
       "</table>"
      ],
      "text/plain": [
       "[('To Kill a Mockingbird', 'Harper Lee', 1960),\n",
       " ('1984', 'George Orwell', 1949)]"
      ]
     },
     "execution_count": 12,
     "metadata": {},
     "output_type": "execute_result"
    }
   ],
   "source": [
    "%%sql\n",
    "SELECT * from books;"
   ]
  },
  {
   "cell_type": "markdown",
   "metadata": {
    "editable": true,
    "slideshow": {
     "slide_type": "slide"
    },
    "tags": []
   },
   "source": [
    "### The `WHERE` clause\n",
    "\n",
    "How would you select just the books published in 1960?"
   ]
  },
  {
   "cell_type": "code",
   "execution_count": 16,
   "metadata": {
    "editable": true,
    "scrolled": true,
    "slideshow": {
     "slide_type": "fragment"
    },
    "tags": []
   },
   "outputs": [
    {
     "name": "stdout",
     "output_type": "stream",
     "text": [
      " * sqlite://\n",
      "Done.\n"
     ]
    },
    {
     "data": {
      "text/html": [
       "<table>\n",
       "    <thead>\n",
       "        <tr>\n",
       "            <th>title</th>\n",
       "            <th>author</th>\n",
       "            <th>year</th>\n",
       "        </tr>\n",
       "    </thead>\n",
       "    <tbody>\n",
       "        <tr>\n",
       "            <td>To Kill a Mockingbird</td>\n",
       "            <td>Harper Lee</td>\n",
       "            <td>1960</td>\n",
       "        </tr>\n",
       "    </tbody>\n",
       "</table>"
      ],
      "text/plain": [
       "[('To Kill a Mockingbird', 'Harper Lee', 1960)]"
      ]
     },
     "execution_count": 16,
     "metadata": {},
     "output_type": "execute_result"
    }
   ],
   "source": [
    "%%sql\n",
    "SELECT * FROM books\n",
    "    WHERE year == 1960;"
   ]
  },
  {
   "cell_type": "markdown",
   "metadata": {
    "editable": true,
    "slideshow": {
     "slide_type": "subslide"
    },
    "tags": []
   },
   "source": [
    "**psst**\n",
    "\n",
    "In SQL, you can say `year == 2` or `year = 2`, but in most programming languages, only `==` is for comparisons. Use `==` to avoid confusion when you switch between Python and SQL"
   ]
  },
  {
   "cell_type": "markdown",
   "metadata": {
    "slideshow": {
     "slide_type": "subslide"
    }
   },
   "source": [
    "#### Other logical operators\n",
    "\n",
    "`==` is a _logical operator_, comparing values on the left and on the right. If the comparison is _true_ then the record matches.\n",
    "\n",
    "What other logical operators might we see?"
   ]
  },
  {
   "cell_type": "markdown",
   "metadata": {
    "slideshow": {
     "slide_type": "subslide"
    }
   },
   "source": [
    "- not equal to\n",
    "- less than\n",
    "- greater than"
   ]
  },
  {
   "cell_type": "markdown",
   "metadata": {
    "slideshow": {
     "slide_type": "fragment"
    }
   },
   "source": [
    "`<`, `<=`, `>`, `>=`, `!=`"
   ]
  },
  {
   "cell_type": "code",
   "execution_count": 17,
   "metadata": {
    "editable": true,
    "slideshow": {
     "slide_type": "subslide"
    },
    "tags": []
   },
   "outputs": [
    {
     "name": "stdout",
     "output_type": "stream",
     "text": [
      " * sqlite://\n",
      "Done.\n"
     ]
    },
    {
     "data": {
      "text/html": [
       "<table>\n",
       "    <thead>\n",
       "        <tr>\n",
       "            <th>title</th>\n",
       "            <th>author</th>\n",
       "            <th>year</th>\n",
       "        </tr>\n",
       "    </thead>\n",
       "    <tbody>\n",
       "        <tr>\n",
       "            <td>1984</td>\n",
       "            <td>George Orwell</td>\n",
       "            <td>1949</td>\n",
       "        </tr>\n",
       "    </tbody>\n",
       "</table>"
      ],
      "text/plain": [
       "[('1984', 'George Orwell', 1949)]"
      ]
     },
     "execution_count": 17,
     "metadata": {},
     "output_type": "execute_result"
    }
   ],
   "source": [
    "%%sql\n",
    "SELECT * from books WHERE year <= 1950;"
   ]
  },
  {
   "cell_type": "markdown",
   "metadata": {
    "slideshow": {
     "slide_type": "slide"
    }
   },
   "source": [
    "### Unexpected Input"
   ]
  },
  {
   "cell_type": "code",
   "execution_count": null,
   "metadata": {
    "editable": true,
    "slideshow": {
     "slide_type": ""
    },
    "tags": []
   },
   "outputs": [],
   "source": [
    "## SQL in Action: Library Catalog\n",
    "\n",
    "```sql\n",
    "-- Creating a books table\n",
    "CREATE TABLE books (\n",
    "  id INTEGER PRIMARY KEY,\n",
    "  title TEXT,\n",
    "  author TEXT,\n",
    "  year INTEGER\n",
    ");\n",
    "\n",
    "-- Adding some classic titles\n",
    "INSERT INTO books VALUES \n",
    "  (1, 'To Kill a Mockingbird', 'Harper Lee', 1960),\n",
    "  (2, '1984', 'George Orwell', 1949);\n",
    "\n",
    "-- Finding books by an author\n",
    "SELECT title, year FROM books \n",
    "  WHERE author = 'George Orwell';\n",
    "```\n",
    "\n",
    "Let's take a moment to consider this example before looking at each statement and keyword in turn."
   ]
  },
  {
   "cell_type": "markdown",
   "metadata": {
    "editable": true,
    "slideshow": {
     "slide_type": "subslide"
    },
    "tags": []
   },
   "source": [
    "_What if you add quotes to the year score?_"
   ]
  },
  {
   "cell_type": "code",
   "execution_count": 23,
   "metadata": {
    "editable": true,
    "slideshow": {
     "slide_type": ""
    },
    "tags": []
   },
   "outputs": [
    {
     "name": "stdout",
     "output_type": "stream",
     "text": [
      " * sqlite://\n",
      "1 rows affected.\n"
     ]
    },
    {
     "data": {
      "text/plain": [
       "[]"
      ]
     },
     "execution_count": 23,
     "metadata": {},
     "output_type": "execute_result"
    }
   ],
   "source": [
    "%%sql\n",
    "INSERT INTO books\n",
    "    VALUES ('On Tyranny: Twenty Lessons from the Twentieth Century','Timothy Snyder', '2017');"
   ]
  },
  {
   "cell_type": "markdown",
   "metadata": {
    "editable": true,
    "slideshow": {
     "slide_type": "subslide"
    },
    "tags": []
   },
   "source": [
    "SQLite figured it out, converting the string to an integer.\n",
    "\n",
    "*Some other DBMSs won't let you do this*"
   ]
  },
  {
   "cell_type": "code",
   "execution_count": 24,
   "metadata": {
    "editable": true,
    "scrolled": true,
    "slideshow": {
     "slide_type": ""
    },
    "tags": []
   },
   "outputs": [
    {
     "name": "stdout",
     "output_type": "stream",
     "text": [
      " * sqlite://\n",
      "Done.\n",
      "1960 is type: <class 'int'>\n",
      "1949 is type: <class 'int'>\n",
      "2017 is type: <class 'int'>\n"
     ]
    }
   ],
   "source": [
    "result = %sql SELECT title, year from books\n",
    "for book, year in result:\n",
    "    print(year, \"is type:\", type(year))"
   ]
  },
  {
   "cell_type": "markdown",
   "metadata": {
    "slideshow": {
     "slide_type": "subslide"
    }
   },
   "source": [
    "_What if you add a quoted non-number to the affection score?_"
   ]
  },
  {
   "cell_type": "code",
   "execution_count": 25,
   "metadata": {
    "editable": true,
    "slideshow": {
     "slide_type": ""
    },
    "tags": []
   },
   "outputs": [
    {
     "name": "stdout",
     "output_type": "stream",
     "text": [
      " * sqlite://\n",
      "1 rows affected.\n"
     ]
    },
    {
     "data": {
      "text/plain": [
       "[]"
      ]
     },
     "execution_count": 25,
     "metadata": {},
     "output_type": "execute_result"
    }
   ],
   "source": [
    "%%sql\n",
    "INSERT INTO books\n",
    "    VALUES ('How Democracies Die','Steven Levitsky and Daniel Ziblatt', 'BadYearValue');"
   ]
  },
  {
   "cell_type": "markdown",
   "metadata": {
    "editable": true,
    "slideshow": {
     "slide_type": "subslide"
    },
    "tags": []
   },
   "source": [
    "SQLite lets you do it, even though the value inside is now a *string* rather than *integer*.\n",
    "\n",
    "*Most other DBMSs won't let you do this*"
   ]
  },
  {
   "cell_type": "code",
   "execution_count": 27,
   "metadata": {
    "editable": true,
    "scrolled": true,
    "slideshow": {
     "slide_type": ""
    },
    "tags": []
   },
   "outputs": [
    {
     "name": "stdout",
     "output_type": "stream",
     "text": [
      " * sqlite://\n",
      "Done.\n",
      "1960 is type: <class 'int'>\n",
      "1949 is type: <class 'int'>\n",
      "2017 is type: <class 'int'>\n",
      "BadYearValue is type: <class 'str'>\n"
     ]
    }
   ],
   "source": [
    "result = %sql SELECT title, year from books\n",
    "for book, year in result:\n",
    "    print(year, \"is type:\", type(year))"
   ]
  },
  {
   "cell_type": "markdown",
   "metadata": {
    "slideshow": {
     "slide_type": "subslide"
    }
   },
   "source": [
    "_What if you don't put quotes around text?_"
   ]
  },
  {
   "cell_type": "code",
   "execution_count": 28,
   "metadata": {
    "editable": true,
    "slideshow": {
     "slide_type": "fragment"
    },
    "tags": []
   },
   "outputs": [
    {
     "name": "stdout",
     "output_type": "stream",
     "text": [
      " * sqlite://\n",
      "(sqlite3.OperationalError) near \"Origins\": syntax error\n",
      "[SQL: INSERT INTO books\n",
      "    VALUES (The Origins of Totalitarianism, Hannah Arendt, 1951);]\n",
      "(Background on this error at: https://sqlalche.me/e/20/e3q8)\n"
     ]
    }
   ],
   "source": [
    "%%sql\n",
    "INSERT INTO books\n",
    "    VALUES (The Origins of Totalitarianism, Hannah Arendt, 1951);"
   ]
  },
  {
   "cell_type": "markdown",
   "metadata": {
    "editable": true,
    "slideshow": {
     "slide_type": "-"
    },
    "tags": []
   },
   "source": [
    "SQLite says, 'no way'!"
   ]
  },
  {
   "cell_type": "markdown",
   "metadata": {
    "editable": true,
    "slideshow": {
     "slide_type": "subslide"
    },
    "tags": []
   },
   "source": [
    "## Typing\n",
    "\n",
    "![](../images/sql-lit.png)\n",
    "\n",
    "Most databases use *strict* typing: you say what data type your columns are, and the database only allows that type.\n",
    "    \n",
    "SQLite does *dynamic* typing: it tries to figure out what you want, _and_ it tries to be accomodating."
   ]
  },
  {
   "cell_type": "markdown",
   "metadata": {
    "editable": true,
    "slideshow": {
     "slide_type": "subslide"
    },
    "tags": []
   },
   "source": [
    "Questions\n",
    "\n",
    "- Why learn types?\n",
    "- Benefits of strict typing?\n",
    "- Benefits of dynamic typing?"
   ]
  },
  {
   "cell_type": "markdown",
   "metadata": {
    "editable": true,
    "slideshow": {
     "slide_type": "slide"
    },
    "tags": []
   },
   "source": [
    "## Lab\n",
    "\n",
    "- SQLite\n",
    "    - Connecting to a simple database, via notebook (without Python) or command line\n",
    "- SQL\n",
    "    - `CREATE TABLE`\n",
    "    - `DROP TABLE`\n",
    "    - `SELECT`\n",
    "    - `INSERT`\n",
    "    - `WHERE` clause\n",
    "- Python\n",
    "    - Logical Operators\n",
    "        - `==`, `!=`, `<`, `<=`, `>`, `>=`\n",
    "    - `for` loops on arrays\n",
    "    - `print()`\n",
    "    - Tab indentation\n",
    "    - boolean datatype: `True`, `False`\n",
    "- Colab\n",
    "    - Auto-complete\n",
    "    - Documentation lookup"
   ]
  }
 ],
 "metadata": {
  "anaconda-cloud": {},
  "celltoolbar": "Slideshow",
  "kernelspec": {
   "display_name": "Python 3 (ipykernel)",
   "language": "python",
   "name": "python3"
  },
  "language_info": {
   "codemirror_mode": {
    "name": "ipython",
    "version": 3
   },
   "file_extension": ".py",
   "mimetype": "text/x-python",
   "name": "python",
   "nbconvert_exporter": "python",
   "pygments_lexer": "ipython3",
   "version": "3.13.1"
  }
 },
 "nbformat": 4,
 "nbformat_minor": 4
}
