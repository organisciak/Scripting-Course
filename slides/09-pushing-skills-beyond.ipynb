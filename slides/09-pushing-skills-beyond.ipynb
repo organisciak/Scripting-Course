{
 "cells": [
  {
   "attachments": {},
   "cell_type": "markdown",
   "metadata": {
    "slideshow": {
     "slide_type": "slide"
    }
   },
   "source": [
    "# Week 9: Emerging Tools to Help You Work"
   ]
  },
  {
   "cell_type": "code",
   "execution_count": 6,
   "metadata": {},
   "outputs": [],
   "source": [
    "import pandas as pd\n",
    "cats = pd.read_csv('https://raw.githubusercontent.com/organisciak/Scripting-Course/master/data/cat_data.tsv', sep='\\t')"
   ]
  },
  {
   "attachments": {},
   "cell_type": "markdown",
   "metadata": {
    "slideshow": {
     "slide_type": "subslide"
    }
   },
   "source": [
    "## Announcements"
   ]
  },
  {
   "attachments": {},
   "cell_type": "markdown",
   "metadata": {
    "slideshow": {
     "slide_type": "subslide"
    }
   },
   "source": [
    "## Lab Review\n",
    "\n",
    " - we'll do this after we cover our new skills"
   ]
  },
  {
   "attachments": {},
   "cell_type": "markdown",
   "metadata": {
    "slideshow": {
     "slide_type": "subslide"
    }
   },
   "source": [
    "## Today\n",
    "\n",
    "- Chat bots for debugging and pair programming"
   ]
  },
  {
   "attachments": {},
   "cell_type": "markdown",
   "metadata": {
    "slideshow": {
     "slide_type": "subslide"
    }
   },
   "source": [
    "## Large Language Models and Chat bots\n",
    "\n",
    "- How do they work?\n",
    "- What are they good for?\n",
    "- Where do they struggle?"
   ]
  },
  {
   "attachments": {},
   "cell_type": "markdown",
   "metadata": {
    "slideshow": {
     "slide_type": "slide"
    }
   },
   "source": [
    "## The Tools: Part 1: \"Chat bots\""
   ]
  },
  {
   "attachments": {},
   "cell_type": "markdown",
   "metadata": {
    "slideshow": {
     "slide_type": "subslide"
    }
   },
   "source": [
    "### ChatGPT\n",
    "\n",
    "https://chat.openai.com/\n",
    "\n",
    "![Example of Chat GPT Interface](../images/chatgpt_example.png)"
   ]
  },
  {
   "cell_type": "markdown",
   "metadata": {
    "slideshow": {
     "slide_type": "subslide"
    }
   },
   "source": [
    "### Claude\n",
    "\n",
    "![Screenshot of Claude](../images/claude.png)"
   ]
  },
  {
   "attachments": {},
   "cell_type": "markdown",
   "metadata": {
    "slideshow": {
     "slide_type": "subslide"
    }
   },
   "source": [
    "### Google Gemini\n",
    "\n",
    "https://gemini.google.com/\n",
    "\n",
    "![Screenshot of Google Gemini](../images/gemini1.png)"
   ]
  },
  {
   "cell_type": "markdown",
   "metadata": {
    "slideshow": {
     "slide_type": "subslide"
    }
   },
   "source": [
    "![Gemini's Export to Colab button](../images/gemini-export.png)"
   ]
  },
  {
   "cell_type": "markdown",
   "metadata": {
    "slideshow": {
     "slide_type": "subslide"
    }
   },
   "source": [
    "### Which one's best?\n",
    "\n",
    "All modern models are good at coding, partially because 1) it's something that the people making systems care about themselves, 2) it's something that's well-suited to chatbots, because it's essentially a language that's very exact, and 3)it's easy to benchmark and evaluate. When companies are trying to measure whether their model performs better along various benchmarks, coding benchmarks are a popular one."
   ]
  },
  {
   "attachments": {},
   "cell_type": "markdown",
   "metadata": {
    "slideshow": {
     "slide_type": "slide"
    }
   },
   "source": [
    "## Overview"
   ]
  },
  {
   "attachments": {},
   "cell_type": "markdown",
   "metadata": {
    "slideshow": {
     "slide_type": "subslide"
    }
   },
   "source": [
    "### How do they work?\n",
    "\n",
    "- Large trained language models trained on extraordinary quantities of text\n",
    "- Tuned with RLHF"
   ]
  },
  {
   "attachments": {},
   "cell_type": "markdown",
   "metadata": {
    "slideshow": {
     "slide_type": "subslide"
    }
   },
   "source": [
    "### What are they good at?\n",
    "\n",
    "- ready reference questions\n",
    "- information that exists easily online\n",
    "- remixing, reacting to common human writing and text\n",
    "- responsive discussion (they're not giving you resources, they're giving you information)"
   ]
  },
  {
   "attachments": {},
   "cell_type": "markdown",
   "metadata": {
    "slideshow": {
     "slide_type": "subslide"
    }
   },
   "source": [
    "### What are they poor at?\n",
    "\n",
    "- hallucinations\n",
    "- sourcing information (see: academic librarians vs fake citations)\n",
    "- writing is very predictable\n",
    "- overly confident - they try to answer even when they don't know particularly well\n",
    "- current information - they have a training cutoff (Bing Chat tries something different)\n",
    "- Logical reasoning, certain problem domains are trickier than others"
   ]
  },
  {
   "attachments": {},
   "cell_type": "markdown",
   "metadata": {
    "slideshow": {
     "slide_type": "subslide"
    }
   },
   "source": [
    "### Key things to remember\n",
    "\n",
    "- remember academic integrity\n",
    "- prompt tuning - how you ask affects the response greatly\n",
    "- clarity - describe your problem clearly and thoroughly, including details like your dataset and expected output\n",
    "- use the language - use the jargon of your tool to communicate properly (e.g. refer to DataFrames, Pandas, etc.)"
   ]
  },
  {
   "attachments": {},
   "cell_type": "markdown",
   "metadata": {
    "slideshow": {
     "slide_type": "slide"
    }
   },
   "source": [
    "# Play, then Learn\n",
    "\n",
    "Before we go into strategies for using chat models, let's first play with them!\n",
    "\n",
    "1. Lab Review\n",
    "2. Final Project Problems - Any brave volunteers that want to crowdsource help?"
   ]
  },
  {
   "attachments": {},
   "cell_type": "markdown",
   "metadata": {
    "slideshow": {
     "slide_type": "slide"
    }
   },
   "source": [
    "# Strategies for Using Chat Models"
   ]
  },
  {
   "attachments": {},
   "cell_type": "markdown",
   "metadata": {
    "slideshow": {
     "slide_type": "subslide"
    }
   },
   "source": [
    "## 1. Describe your question well\n",
    "\n",
    "The more the chat model knows, the better it can understand your problem. Describe your use case, errors, data, intention. If there's an error message, include it. Remember that the model doesn't know you're working in Python and with Pandas, so also note your tools!\n",
    "\n",
    "### Example\n",
    "- 👎 \"My Python program isn't working\"\n",
    "- 👍  \"I'm getting a 'TypeError: unsupported operand type(s) for +: 'int' and 'str'' error in my Python program when I try to concatenate a string and a number.\""
   ]
  },
  {
   "attachments": {},
   "cell_type": "markdown",
   "metadata": {
    "slideshow": {
     "slide_type": "subslide"
    }
   },
   "source": [
    "## 2. Split up your question into parts\n",
    "\n",
    "If your problem is complex, try to break it down into manageable parts. \n",
    "\n",
    "### Example\n",
    "If you are trying to web scrape data, store it in a database and then create a visualization from it:\n",
    "- 👎 describing the full workflow in one question\n",
    "- 👍 ask separately 1) how to scrape the data, then 2) how to store it, and finally 3) how to visualize it.\n",
    "\n",
    "Caveats: 1) Sometimes you need fuller context, so split sensibly. 2) Models are getting better at understanding the complex questions and will continue to - though it is also harder for *you* to learn from the all-in-one responses"
   ]
  },
  {
   "cell_type": "markdown",
   "metadata": {
    "slideshow": {
     "slide_type": "subslide"
    }
   },
   "source": [
    "## 2.5 Print out intermediate results\n",
    "\n",
    "Just like when you're debugging, if something doesn't look right, go backward, print out the state, and check your variables at intermediate steps. Or ask the chat model to print out intermediate results."
   ]
  },
  {
   "attachments": {},
   "cell_type": "markdown",
   "metadata": {
    "slideshow": {
     "slide_type": "subslide"
    }
   },
   "source": [
    "## 3. Regenerate when needed - the models are stochastic.\n",
    "\n",
    "The output is randomly determined. If the first response isn't satisfactory, ask again. Different iterations can yield better results. For example, if you're not happy with a code snippet provided, you can ask for another version or approach."
   ]
  },
  {
   "attachments": {},
   "cell_type": "markdown",
   "metadata": {
    "slideshow": {
     "slide_type": "subslide"
    }
   },
   "source": [
    "## 4. Rewrite when necessary.\n",
    "\n",
    "If you're not getting the response you're expecting, consider rewording or rephrasing your question. Sometimes, the model might not fully understand what you're asking, or your question might be too broad or ambiguous."
   ]
  },
  {
   "attachments": {},
   "cell_type": "markdown",
   "metadata": {
    "slideshow": {
     "slide_type": "subslide"
    }
   },
   "source": [
    "## 5. Give it your code and examples of your data.\n",
    "\n",
    "The model can give more precise help if it has concrete information to work with. \n",
    "\n",
    "- share an example of your data \n",
    "- share your relevant code (formatted with Markdown). \n",
    "\n",
    "### Example\n",
    "- 👎 \"my array sorting isn't working\"\n",
    "- 👍 provide the array and the exact sorting code you're using\n",
    "\n",
    "### Tip\n",
    "\n",
    "Pandas has a `to_markdown()` method, which will give you an easy-to-copy representation of your table. Combine it with `head()` to only grab a few rows. e.g."
   ]
  },
  {
   "cell_type": "code",
   "execution_count": 7,
   "metadata": {},
   "outputs": [
    {
     "name": "stdout",
     "output_type": "stream",
     "text": [
      "|    | Sex   |   Bwt |   Hwt |\n",
      "|---:|:------|------:|------:|\n",
      "|  0 | M     |   2   |   6.5 |\n",
      "|  1 | M     |   2   |   6.5 |\n",
      "|  2 | M     |   2.1 |  10.1 |\n",
      "|  3 | M     |   2.2 |   7.2 |\n",
      "|  4 | M     |   2.2 |   7.6 |\n"
     ]
    }
   ],
   "source": [
    "md = cats.head().to_markdown()\n",
    "print(md)"
   ]
  },
  {
   "attachments": {},
   "cell_type": "markdown",
   "metadata": {
    "slideshow": {
     "slide_type": "subslide"
    }
   },
   "source": [
    "## 6. Use Markdown for your queries.\n",
    "\n",
    "When you're discussing code, markdown can be extremely helpful for readability. Use backticks (`) to wrap small pieces of code or triple backticks () for larger blocks of code. \n",
    "\n",
    "### Example\n",
    "The following is surrounded with triple backticks.\n",
    "\n",
    "```\n",
    "test.mean()\n",
    "```"
   ]
  },
  {
   "attachments": {},
   "cell_type": "markdown",
   "metadata": {
    "slideshow": {
     "slide_type": "subslide"
    }
   },
   "source": [
    "## 7. Be open to failure.\n",
    "\n",
    "Don't *expect* the model to always be right - read with caution, like you might with Wikipedia, and allow for the possibility of an incorrect response.\n",
    "\n",
    "Always double-check and verify the results.\n",
    "\n",
    "One very common failure: outdated information. The model might not know about changes in a coding library."
   ]
  },
  {
   "attachments": {},
   "cell_type": "markdown",
   "metadata": {
    "slideshow": {
     "slide_type": "subslide"
    }
   },
   "source": [
    "## 8. Ask for explanations\n",
    "\n",
    "Don't hesitate to ask for an explanation of a response. You can ask the model to describe the logic behind a piece of code, clarify how an algorithm works, or explain an error message.\n",
    "\n",
    "### Example\n",
    "- 👎 \"Thanks for the code.\"\n",
    "- 👍 \"Can you explain how this part of the code works?\""
   ]
  },
  {
   "attachments": {},
   "cell_type": "markdown",
   "metadata": {
    "slideshow": {
     "slide_type": "subslide"
    }
   },
   "source": [
    "## 9. Use it as a tool, rather than a silver bullet\n",
    "- Incorporate it into your routine, but don't rely solely on it.\n",
    "- You know a lot already. Even in today's chat-model lab, there's no need to ask our models for *everything* -  you're an expert too!\n",
    "- Bear in mind that using it as a tool is something you get better at with practice, just like you do with programming."
   ]
  },
  {
   "attachments": {},
   "cell_type": "markdown",
   "metadata": {
    "slideshow": {
     "slide_type": "subslide"
    }
   },
   "source": [
    "## 10. Use it for your learning\n",
    "\n",
    "*LLM's reward the curious.*\n",
    "\n",
    "- 👍 \"Is there an alternative way to write this code\" (compare the approaches)\n",
    "- 👍 \"Below is code I wrote to do X. Suggest notes or improvements, with an explanation.\n",
    "- 👍 \"What are some best practices for writing Python code?\"\n",
    "- 👍 \"Can you provide some practice problems to improve my skills with `groupby` in Pandas?\"\n",
    "- 👍 Test yourself: \"This is my understanding of how an Inner Join works in SQL, is this correct?\""
   ]
  },
  {
   "attachments": {},
   "cell_type": "markdown",
   "metadata": {
    "slideshow": {
     "slide_type": "subslide"
    }
   },
   "source": [
    "## 11. Have it help with adjacent skills\n",
    "\n",
    "### Example\n",
    "You know how to scrape a web table with `pd.read_html`, but what if you want to read multiple tables from a list of URLs and concatenate them into a single dataset? A chat model can help nudge your abilities into the novel."
   ]
  },
  {
   "attachments": {},
   "cell_type": "markdown",
   "metadata": {
    "slideshow": {
     "slide_type": "subslide"
    }
   },
   "source": [
    "## 12. Use it for brainstorming\n",
    "AI models can be useful tools for brainstorming. Talk with it about ideas. It's stronger if you describe your *existing* ideas, to better understand what you're getting at.\n",
    "\n",
    "### Example\n",
    "- 👍 \"I'm trying to study Y. What are sensible questions to answer in my study? Suggest additional datasets that would be sensible to compare against.\""
   ]
  },
  {
   "attachments": {},
   "cell_type": "markdown",
   "metadata": {
    "slideshow": {
     "slide_type": "subslide"
    }
   },
   "source": [
    "## 13. Translate skills and jargon across tools and domains\n",
    "\n",
    "If you know how to do something in one tool, chat models can help you learn how to adapt it to a different tool, syntax, etc.\n",
    "\n",
    "### Example\n",
    "👍 \"How would I write this R code as Python?\""
   ]
  },
  {
   "attachments": {},
   "cell_type": "markdown",
   "metadata": {
    "slideshow": {
     "slide_type": "subslide"
    }
   },
   "source": [
    "### Learn from the Imperfection\n",
    "\n",
    "When you get an answer, try to understand *why*. If you're unsure, a) just *ask* about the question you have! b) Ask for detailed comments for what's happening.\n",
    "\n",
    "If the answer is incorrect, see if if got you to a place where your learning and expertise can fix it."
   ]
  },
  {
   "attachments": {},
   "cell_type": "markdown",
   "metadata": {
    "slideshow": {
     "slide_type": "subslide"
    }
   },
   "source": [
    "Query: draw a Mona Lisa-like graph with matplotlib. (2023)"
   ]
  },
  {
   "cell_type": "code",
   "execution_count": 2,
   "metadata": {
    "slideshow": {
     "slide_type": "fragment"
    }
   },
   "outputs": [
    {
     "data": {
      "image/png": "[encoded data removed]",
      "text/plain": [
       "<Figure size 432x288 with 1 Axes>"
      ]
     },
     "metadata": {
      "needs_background": "light"
     },
     "output_type": "display_data"
    }
   ],
   "source": [
    "import matplotlib.pyplot as plt\n",
    "import numpy as np\n",
    "\n",
    "# Create a blank canvas\n",
    "fig, ax = plt.subplots()\n",
    "\n",
    "# Define the dimensions of the Mona Lisa\n",
    "image_width = 200\n",
    "image_height = 300\n",
    "\n",
    "# Create a numpy array to represent the image\n",
    "image = np.zeros((image_height, image_width, 3), dtype=np.uint8)\n",
    "\n",
    "# Define the colors\n",
    "black = (0, 0, 0)\n",
    "white = (255, 255, 255)\n",
    "skin = (222, 184, 135)\n",
    "hair = (53, 41, 30)\n",
    "clothes = (63, 94, 143)\n",
    "\n",
    "# Draw the face\n",
    "face_radius = 100\n",
    "face_center = (100, 150)\n",
    "image[face_center[1] - face_radius:face_center[1] + face_radius, face_center[0] - face_radius:face_center[0] + face_radius] = skin\n",
    "\n",
    "# Draw the hair\n",
    "hair_height = 50\n",
    "hair_width = 100\n",
    "hair_top_left = (100 - hair_width // 2, 150 - face_radius - hair_height)\n",
    "image[hair_top_left[1]:hair_top_left[1] + hair_height, hair_top_left[0]:hair_top_left[0] + hair_width] = hair\n",
    "\n",
    "# Draw the eyes\n",
    "eye_radius = 10\n",
    "left_eye_center = (80, 140)\n",
    "right_eye_center = (120, 140)\n",
    "image[left_eye_center[1] - eye_radius:left_eye_center[1] + eye_radius, left_eye_center[0] - eye_radius:left_eye_center[0] + eye_radius] = black\n",
    "image[right_eye_center[1] - eye_radius:right_eye_center[1] + eye_radius, right_eye_center[0] - eye_radius:right_eye_center[0] + eye_radius] = black\n",
    "\n",
    "# Draw the mouth\n",
    "mouth_top_left = (80, 170)\n",
    "mouth_width = 40\n",
    "mouth_height = 20\n",
    "image[mouth_top_left[1]:mouth_top_left[1] + mouth_height, mouth_top_left[0]:mouth_top_left[0] + mouth_width] = black\n",
    "\n",
    "# Draw the clothes\n",
    "clothes_top_left = (50, 200)\n",
    "clothes_width = 100\n",
    "clothes_height = 100\n",
    "image[clothes_top_left[1]:clothes_top_left[1] + clothes_height, clothes_top_left[0]:clothes_top_left[0] + clothes_width] = clothes\n",
    "\n",
    "# Display the image\n",
    "ax.imshow(image)\n",
    "plt.axis('off')\n",
    "plt.show()"
   ]
  },
  {
   "cell_type": "markdown",
   "metadata": {
    "slideshow": {
     "slide_type": "subslide"
    }
   },
   "source": [
    "Query: write code to draw an interpretation of the Mona Lisa in matplotlib (2025)"
   ]
  },
  {
   "cell_type": "code",
   "execution_count": 1,
   "metadata": {},
   "outputs": [
    {
     "data": {
      "image/png": "[encoded data removed]",
      "text/plain": [
       "<Figure size 600x800 with 1 Axes>"
      ]
     },
     "metadata": {},
     "output_type": "display_data"
    }
   ],
   "source": [
    "import matplotlib.pyplot as plt\n",
    "from matplotlib.patches import Ellipse, PathPatch\n",
    "from matplotlib.path import Path\n",
    "import numpy as np\n",
    "\n",
    "# Create a figure and axes for the plot\n",
    "fig, ax = plt.subplots(figsize=(6, 8))\n",
    "ax.set_aspect('equal')\n",
    "\n",
    "# Define a color palette inspired by the original painting\n",
    "colors = {\n",
    "    'background_sky': '#a8b3b8',\n",
    "    'background_land': '#5a5e4b',\n",
    "    'skin': '#f4d5a6',\n",
    "    'hair_and_dress': '#3b2f2f',\n",
    "    'mouth': '#8c5651',\n",
    "    'shadow': '#000000'\n",
    "}\n",
    "\n",
    "# --- Background ---\n",
    "# Add sky and land rectangles\n",
    "ax.add_patch(plt.Rectangle((0, 0.5), 1, 0.5, color=colors['background_sky'], zorder=0))\n",
    "ax.add_patch(plt.Rectangle((0, 0), 1, 0.5, color=colors['background_land'], zorder=0))\n",
    "\n",
    "# --- Body and Hair ---\n",
    "# A simple shape for the dress/body\n",
    "ax.add_patch(Ellipse((0.5, 0.3), 0.6, 0.7, color=colors['hair_and_dress'], zorder=1))\n",
    "# The main shape for the hair\n",
    "ax.add_patch(Ellipse((0.5, 0.68), 0.45, 0.55, color=colors['hair_and_dress'], zorder=2))\n",
    "\n",
    "# --- Head and Face ---\n",
    "# The main face shape (an ellipse)\n",
    "face = Ellipse((0.5, 0.6), 0.35, 0.45, color=colors['skin'], zorder=3)\n",
    "ax.add_patch(face)\n",
    "\n",
    "# --- Facial Features ---\n",
    "# Eyes (two small, dark ellipses)\n",
    "ax.add_patch(Ellipse((0.43, 0.65), 0.04, 0.02, color=colors['shadow'], zorder=4))\n",
    "ax.add_patch(Ellipse((0.57, 0.65), 0.04, 0.02, color=colors['shadow'], zorder=4))\n",
    "\n",
    "# Nose (a subtle shadow using a path)\n",
    "nose_path = Path([(0.5, 0.62), (0.48, 0.58), (0.52, 0.58)],\n",
    "                 [Path.MOVETO, Path.LINETO, Path.LINETO])\n",
    "ax.add_patch(PathPatch(nose_path, facecolor='none', edgecolor=colors['shadow'], lw=1.5, alpha=0.4, zorder=4))\n",
    "\n",
    "# The enigmatic smile (a Bezier curve)\n",
    "smile_path = Path([(0.45, 0.52), (0.5, 0.54), (0.55, 0.52)],\n",
    "                  [Path.MOVETO, Path.CURVE3, Path.CURVE3])\n",
    "ax.add_patch(PathPatch(smile_path, facecolor='none', edgecolor=colors['mouth'], lw=2, zorder=4))\n",
    "\n",
    "# --- Final Touches ---\n",
    "# Set the limits of the plot and remove axes for a cleaner look\n",
    "ax.set_xlim(0, 1)\n",
    "ax.set_ylim(0, 1)\n",
    "ax.axis('off')\n",
    "\n",
    "# Add a title\n",
    "plt.title(\"Mona Lisa: A Matplotlib Interpretation\", fontdict={'fontsize': 14, 'fontweight': 'bold'})\n",
    "plt.show()"
   ]
  },
  {
   "cell_type": "markdown",
   "metadata": {
    "slideshow": {
     "slide_type": "slide"
    }
   },
   "source": [
    "# Other Tools\n",
    "\n",
    "Gemini in Colab; Pandas in ChatGPT; Cursor, Github Copilot, Windsurf, etc; Reasoning Models;\n"
   ]
  },
  {
   "cell_type": "markdown",
   "metadata": {
    "slideshow": {
     "slide_type": "subslide"
    }
   },
   "source": [
    "## Gemini in Colab\n",
    "\n",
    "-in-line and sidebar"
   ]
  },
  {
   "cell_type": "markdown",
   "metadata": {
    "slideshow": {
     "slide_type": "subslide"
    }
   },
   "source": [
    "![Gemini Sidebar](../images/gemini-in-colab1.png)"
   ]
  },
  {
   "cell_type": "markdown",
   "metadata": {
    "slideshow": {
     "slide_type": "subslide"
    }
   },
   "source": [
    "Turn on inline completion: *AI Assistance - Show AI-powered inline completions*"
   ]
  },
  {
   "cell_type": "markdown",
   "metadata": {},
   "source": [
    "![Gemini Inline](../images/gemini-inline.png)"
   ]
  },
  {
   "cell_type": "markdown",
   "metadata": {
    "slideshow": {
     "slide_type": "subslide"
    }
   },
   "source": [
    "## Data Interpretor\n",
    "\n",
    "ChatGPT has access to a sandboxed Python installation, and it *loooooves* Pandas\n",
    "\n",
    "e.g. <https://chatgpt.com/share/6830a005-c8ec-8001-b007-07bdec53b309>\n",
    "\n",
    "Click the `[>_]` (view analysis) button to see it's code:"
   ]
  },
  {
   "cell_type": "code",
   "execution_count": 2,
   "metadata": {},
   "outputs": [
    {
     "data": {
      "text/plain": [
       "'Productivity vs Real Compensation (1947=100)'"
      ]
     },
     "metadata": {},
     "output_type": "display_data"
    },
    {
     "data": {
      "text/html": [
       "<div>\n",
       "<style scoped>\n",
       "    .dataframe tbody tr th:only-of-type {\n",
       "        vertical-align: middle;\n",
       "    }\n",
       "\n",
       "    .dataframe tbody tr th {\n",
       "        vertical-align: top;\n",
       "    }\n",
       "\n",
       "    .dataframe thead th {\n",
       "        text-align: right;\n",
       "    }\n",
       "</style>\n",
       "<table border=\"1\" class=\"dataframe\">\n",
       "  <thead>\n",
       "    <tr style=\"text-align: right;\">\n",
       "      <th></th>\n",
       "      <th>Year</th>\n",
       "      <th>Productivity Index (1947=100)</th>\n",
       "      <th>Real Hourly Compensation Index (1947=100)</th>\n",
       "    </tr>\n",
       "  </thead>\n",
       "  <tbody>\n",
       "    <tr>\n",
       "      <th>0</th>\n",
       "      <td>1947</td>\n",
       "      <td>100.000000</td>\n",
       "      <td>100.000000</td>\n",
       "    </tr>\n",
       "    <tr>\n",
       "      <th>1</th>\n",
       "      <td>1948</td>\n",
       "      <td>103.778756</td>\n",
       "      <td>101.387192</td>\n",
       "    </tr>\n",
       "    <tr>\n",
       "      <th>2</th>\n",
       "      <td>1949</td>\n",
       "      <td>105.131201</td>\n",
       "      <td>105.054383</td>\n",
       "    </tr>\n",
       "    <tr>\n",
       "      <th>3</th>\n",
       "      <td>1950</td>\n",
       "      <td>111.875449</td>\n",
       "      <td>109.538766</td>\n",
       "    </tr>\n",
       "    <tr>\n",
       "      <th>4</th>\n",
       "      <td>1951</td>\n",
       "      <td>116.045111</td>\n",
       "      <td>109.995347</td>\n",
       "    </tr>\n",
       "    <tr>\n",
       "      <th>...</th>\n",
       "      <td>...</td>\n",
       "      <td>...</td>\n",
       "      <td>...</td>\n",
       "    </tr>\n",
       "    <tr>\n",
       "      <th>74</th>\n",
       "      <td>2021</td>\n",
       "      <td>500.669482</td>\n",
       "      <td>321.866457</td>\n",
       "    </tr>\n",
       "    <tr>\n",
       "      <th>75</th>\n",
       "      <td>2022</td>\n",
       "      <td>495.201294</td>\n",
       "      <td>312.045600</td>\n",
       "    </tr>\n",
       "    <tr>\n",
       "      <th>76</th>\n",
       "      <td>2023</td>\n",
       "      <td>495.214774</td>\n",
       "      <td>303.693364</td>\n",
       "    </tr>\n",
       "    <tr>\n",
       "      <th>77</th>\n",
       "      <td>2024</td>\n",
       "      <td>511.524982</td>\n",
       "      <td>314.049322</td>\n",
       "    </tr>\n",
       "    <tr>\n",
       "      <th>78</th>\n",
       "      <td>2025</td>\n",
       "      <td>518.907261</td>\n",
       "      <td>313.994067</td>\n",
       "    </tr>\n",
       "  </tbody>\n",
       "</table>\n",
       "<p>79 rows × 3 columns</p>\n",
       "</div>"
      ],
      "text/plain": [
       "    Year  Productivity Index (1947=100)  \\\n",
       "0   1947                     100.000000   \n",
       "1   1948                     103.778756   \n",
       "2   1949                     105.131201   \n",
       "3   1950                     111.875449   \n",
       "4   1951                     116.045111   \n",
       "..   ...                            ...   \n",
       "74  2021                     500.669482   \n",
       "75  2022                     495.201294   \n",
       "76  2023                     495.214774   \n",
       "77  2024                     511.524982   \n",
       "78  2025                     518.907261   \n",
       "\n",
       "    Real Hourly Compensation Index (1947=100)  \n",
       "0                                  100.000000  \n",
       "1                                  101.387192  \n",
       "2                                  105.054383  \n",
       "3                                  109.538766  \n",
       "4                                  109.995347  \n",
       "..                                        ...  \n",
       "74                                 321.866457  \n",
       "75                                 312.045600  \n",
       "76                                 303.693364  \n",
       "77                                 314.049322  \n",
       "78                                 313.994067  \n",
       "\n",
       "[79 rows x 3 columns]"
      ]
     },
     "metadata": {},
     "output_type": "display_data"
    },
    {
     "data": {
      "image/png": "[encoded data removed]",
      "text/plain": [
       "<Figure size 1000x600 with 1 Axes>"
      ]
     },
     "metadata": {},
     "output_type": "display_data"
    }
   ],
   "source": [
    "import pandas as pd\n",
    "import matplotlib.pyplot as plt\n",
    "\n",
    "# Years and data (unchanged from previous step)\n",
    "years = list(range(1947, 2026))\n",
    "\n",
    "productivity = [\n",
    " 22.256,23.097,23.398,24.899,25.827,26.533,27.143,27.283,28.841,28.592,29.369,29.353,31.034,32.007,31.681,\n",
    " 33.896,34.679,35.999,36.735,38.830,39.236,40.581,41.204,40.829,42.925,43.751,46.272,45.460,45.595,47.631,\n",
    " 48.632,48.743,49.615,49.639,50.584,49.612,50.843,52.633,53.378,55.090,55.376,56.533,56.967,57.936,58.100,\n",
    " 61.018,61.915,62.239,62.641,63.663,64.446,66.858,69.578,71.220,72.937,77.135,78.509,81.823,84.324,85.417,\n",
    " 86.015,87.137,88.902,93.744,94.263,95.077,95.397,95.957,97.637,98.205,99.432,101.360,102.339,104.618,\n",
    " 111.429,110.212,110.215,113.845,115.488]\n",
    "\n",
    "compensation = [\n",
    " 34.386,34.863,36.124,37.666,37.823,39.162,41.110,42.267,43.629,45.768,47.241,47.360,49.137,50.690,51.215,\n",
    " 53.074,54.171,54.640,55.974,57.407,59.065,61.031,62.135,62.766,63.706,65.515,67.460,66.051,66.423,67.251,\n",
    " 68.736,70.251,70.555,69.736,70.001,70.947,71.196,70.735,71.572,73.595,75.336,76.229,75.728,75.689,75.665,\n",
    " 79.283,78.730,77.816,77.665,78.276,78.818,82.068,85.137,88.147,89.579,90.167,89.545,91.905,93.528,94.270,\n",
    " 96.048,94.592,94.545,95.088,96.882,94.939,94.710,96.315,98.538,98.854,99.151,100.754,103.353,105.386,\n",
    " 110.677,107.300,104.428,107.989,107.970]\n",
    "\n",
    "# Rebase both series to 1947 = 100\n",
    "prod_base = productivity[0]\n",
    "comp_base = compensation[0]\n",
    "prod_rebased = [p / prod_base * 100 for p in productivity]\n",
    "comp_rebased = [c / comp_base * 100 for c in compensation]\n",
    "\n",
    "# Build DataFrame for user\n",
    "df = pd.DataFrame({\n",
    "    \"Year\": years,\n",
    "    \"Productivity Index (1947=100)\": prod_rebased,\n",
    "    \"Real Hourly Compensation Index (1947=100)\": comp_rebased\n",
    "})\n",
    "\n",
    "display(\"Productivity vs Real Compensation (1947=100)\", df)\n",
    "\n",
    "# Plot\n",
    "plt.figure(figsize=(10,6))\n",
    "plt.plot(years, prod_rebased, label=\"Labor productivity (output per hour)\")\n",
    "plt.plot(years, comp_rebased, label=\"Real hourly compensation\")\n",
    "plt.title(\"US labor productivity vs. real hourly compensation, 1947‑2025\\n(Index, 1947 = 100, Q1 values)\")\n",
    "plt.xlabel(\"Year\")\n",
    "plt.ylabel(\"Index (1947 = 100)\")\n",
    "plt.legend()\n",
    "plt.grid(True)\n",
    "plt.tight_layout()\n",
    "plt.show()"
   ]
  },
  {
   "cell_type": "markdown",
   "metadata": {},
   "source": [
    "## Cursor and other development environments\n",
    "\n",
    "Github Copilot and Windsurf are other options\n",
    "\n",
    "Let's see their examples: <https://www.cursor.com>"
   ]
  },
  {
   "cell_type": "markdown",
   "metadata": {
    "slideshow": {
     "slide_type": "subslide"
    }
   },
   "source": [
    "## Agents\n",
    "\n",
    "- Some LLMs are given access to 'tools' - extra applications that they can run\n",
    "  - ChatGPT with Python\n",
    "  - Cursor with web search, file search, etc.\n",
    "  - Claude Code - a command line tool\n",
    "\n",
    "These 'agents' go being answering and interpreting - they can strategize and doublecheck"
   ]
  },
  {
   "cell_type": "markdown",
   "metadata": {
    "slideshow": {
     "slide_type": "subslide"
    }
   },
   "source": [
    "## Reasoning Models\n",
    "\n",
    "Telling LLMs to 'think it through step by step' makes them smarter; some new models are *trained* to pre-plan in that way. Use them at the start of a big, involved query, especially if you're looking to plan out a big project\n",
    "\n",
    "- e.g. the o3 and o4 models in ChatGPT; the 'extended thinking' mode of Claude Sonnet 4"
   ]
  },
  {
   "attachments": {},
   "cell_type": "markdown",
   "metadata": {
    "slideshow": {
     "slide_type": "slide"
    }
   },
   "source": [
    "# Practice and Lab\n",
    "\n",
    "1. Practice Lab Questions - with Dr. O\n",
    "2. Mini-Lab (minimal help from Dr. O)"
   ]
  }
 ],
 "metadata": {
  "kernelspec": {
   "display_name": "base",
   "language": "python",
   "name": "python3"
  },
  "language_info": {
   "codemirror_mode": {
    "name": "ipython",
    "version": 3
   },
   "file_extension": ".py",
   "mimetype": "text/x-python",
   "name": "python",
   "nbconvert_exporter": "python",
   "pygments_lexer": "ipython3",
   "version": "3.13.1"
  },
  "orig_nbformat": 4
 },
 "nbformat": 4,
 "nbformat_minor": 2
}
