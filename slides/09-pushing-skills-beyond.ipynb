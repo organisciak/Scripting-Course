{
 "cells": [
  {
   "attachments": {},
   "cell_type": "markdown",
   "metadata": {
    "slideshow": {
     "slide_type": "slide"
    }
   },
   "source": [
    "# Week 9: Emerging Tools to Help You Work"
   ]
  },
  {
   "cell_type": "code",
   "execution_count": 6,
   "metadata": {},
   "outputs": [],
   "source": [
    "import pandas as pd\n",
    "cats = pd.read_csv('https://raw.githubusercontent.com/organisciak/Scripting-Course/master/data/cat_data.tsv', sep='\\t')"
   ]
  },
  {
   "attachments": {},
   "cell_type": "markdown",
   "metadata": {
    "slideshow": {
     "slide_type": "subslide"
    }
   },
   "source": [
    "## Announcements"
   ]
  },
  {
   "attachments": {},
   "cell_type": "markdown",
   "metadata": {
    "slideshow": {
     "slide_type": "subslide"
    }
   },
   "source": [
    "## Lab Review\n",
    "\n",
    " - we'll do this after we cover our new skills"
   ]
  },
  {
   "attachments": {},
   "cell_type": "markdown",
   "metadata": {
    "slideshow": {
     "slide_type": "subslide"
    }
   },
   "source": [
    "## Today\n",
    "\n",
    "- Chat bots for debugging and pair programming"
   ]
  },
  {
   "attachments": {},
   "cell_type": "markdown",
   "metadata": {
    "slideshow": {
     "slide_type": "subslide"
    }
   },
   "source": [
    "## Chat Bots\n",
    "\n",
    "- How do they work?\n",
    "- What are they good for?\n",
    "- Where do they struggle?"
   ]
  },
  {
   "attachments": {},
   "cell_type": "markdown",
   "metadata": {
    "slideshow": {
     "slide_type": "slide"
    }
   },
   "source": [
    "## The Tools"
   ]
  },
  {
   "attachments": {},
   "cell_type": "markdown",
   "metadata": {
    "slideshow": {
     "slide_type": "subslide"
    }
   },
   "source": [
    "### ChatGPT\n",
    "\n",
    "https://chat.openai.com/\n",
    "\n",
    "![Example of Chat GPT Interface](../images/chatgpt_example.png)"
   ]
  },
  {
   "attachments": {},
   "cell_type": "markdown",
   "metadata": {
    "slideshow": {
     "slide_type": "subslide"
    }
   },
   "source": [
    "### Google Bard\n",
    "\n",
    "https://bard.google.com/\n",
    "\n",
    "![Screenshot of Google Bard](../images/bard-example.png)"
   ]
  },
  {
   "attachments": {},
   "cell_type": "markdown",
   "metadata": {
    "slideshow": {
     "slide_type": "subslide"
    }
   },
   "source": [
    "### Bing Chat\n",
    "\n",
    "https://www.bing.com/ (click 'Chat')\n",
    "\n",
    "![Screenshot of Bing Chat](../images/bing-chat-example.png)"
   ]
  },
  {
   "attachments": {},
   "cell_type": "markdown",
   "metadata": {
    "slideshow": {
     "slide_type": "slide"
    }
   },
   "source": [
    "## Overview"
   ]
  },
  {
   "attachments": {},
   "cell_type": "markdown",
   "metadata": {
    "slideshow": {
     "slide_type": "subslide"
    }
   },
   "source": [
    "### How do they work?\n",
    "\n",
    "- Large trained language models trained on extraordinary quantities of text\n",
    "- Tuned with RLHF"
   ]
  },
  {
   "attachments": {},
   "cell_type": "markdown",
   "metadata": {
    "slideshow": {
     "slide_type": "subslide"
    }
   },
   "source": [
    "### What are they good at?\n",
    "\n",
    "- ready reference questions\n",
    "- information that exists easily online\n",
    "- remixing, reacting to common human writing and text\n",
    "- responsive discussion (they're not giving you resources, they're giving you information)"
   ]
  },
  {
   "attachments": {},
   "cell_type": "markdown",
   "metadata": {
    "slideshow": {
     "slide_type": "subslide"
    }
   },
   "source": [
    "### What are they poor at?\n",
    "\n",
    "- hallucinations\n",
    "- sourcing information (see: academic librarians vs fake citations)\n",
    "- writing is very predictable\n",
    "- overly confident - they try to answer even when they don't know particularly well\n",
    "- current information - they have a training cutoff (Bing Chat tries something different)\n",
    "- Logical reasoning, certain problem domains are trickier than others"
   ]
  },
  {
   "attachments": {},
   "cell_type": "markdown",
   "metadata": {
    "slideshow": {
     "slide_type": "subslide"
    }
   },
   "source": [
    "### Key things to remember\n",
    "\n",
    "- remember academic integrity\n",
    "- prompt tuning - how you ask affects the response greatly\n",
    "- clarity - describe your problem clearly and thoroughly, including details like your dataset and expected output\n",
    "- use the language - use the jargon of your tool to communicate properly (e.g. refer to DataFrames, Pandas, etc.)"
   ]
  },
  {
   "attachments": {},
   "cell_type": "markdown",
   "metadata": {
    "slideshow": {
     "slide_type": "slide"
    }
   },
   "source": [
    "# Play, then Learn\n",
    "\n",
    "Before we go into strategies for using chat models, let's first play with them!\n",
    "\n",
    "1. Lab Review\n",
    "2. Final Project Problems - Any brave volunteers that want to crowdsource help?"
   ]
  },
  {
   "attachments": {},
   "cell_type": "markdown",
   "metadata": {
    "slideshow": {
     "slide_type": "slide"
    }
   },
   "source": [
    "# Strategies for Using Chat Models"
   ]
  },
  {
   "attachments": {},
   "cell_type": "markdown",
   "metadata": {
    "slideshow": {
     "slide_type": "subslide"
    }
   },
   "source": [
    "## 1. Describe your question well\n",
    "\n",
    "The more the chat model knows, the better it can understand your problem. Describe your use case, errors, data, intention. If there's an error message, include it. Remember that the model doesn't know you're working in Python and with Pandas, so also note your tools!\n",
    "\n",
    "### Example\n",
    "- 👎 \"My Python program isn't working\"\n",
    "- 👍  \"I'm getting a 'TypeError: unsupported operand type(s) for +: 'int' and 'str'' error in my Python program when I try to concatenate a string and a number.\""
   ]
  },
  {
   "attachments": {},
   "cell_type": "markdown",
   "metadata": {
    "slideshow": {
     "slide_type": "subslide"
    }
   },
   "source": [
    "## 2. Split up your question into parts\n",
    "\n",
    "If your problem is complex, try to break it down into manageable parts. \n",
    "\n",
    "### Example\n",
    "If you are trying to web scrape data, store it in a database and then create a visualization from it:\n",
    "- 👎 describing the full workflow in one question\n",
    "- 👍 ask separately 1) how to scrape the data, then 2) how to store it, and finally 3) how to visualize it.\n",
    "\n",
    "Caveats: 1) Sometimes you need fuller context, so split sensibly. 2) Models are getting better at understanding the complex questions and will continue to - though it is also harder for *you* to learn from the all-in-one responses"
   ]
  },
  {
   "attachments": {},
   "cell_type": "markdown",
   "metadata": {
    "slideshow": {
     "slide_type": "subslide"
    }
   },
   "source": [
    "## 3. Regenerate when needed - the models are stochastic.\n",
    "\n",
    "The output is randomly determined. If the first response isn't satisfactory, ask again. Different iterations can yield better results. For example, if you're not happy with a code snippet provided, you can ask for another version or approach."
   ]
  },
  {
   "attachments": {},
   "cell_type": "markdown",
   "metadata": {
    "slideshow": {
     "slide_type": "subslide"
    }
   },
   "source": [
    "## 4. Rewrite when necessary.\n",
    "\n",
    "If you're not getting the response you're expecting, consider rewording or rephrasing your question. Sometimes, the model might not fully understand what you're asking, or your question might be too broad or ambiguous."
   ]
  },
  {
   "attachments": {},
   "cell_type": "markdown",
   "metadata": {
    "slideshow": {
     "slide_type": "subslide"
    }
   },
   "source": [
    "## 5. Give it your code and examples of your data.\n",
    "\n",
    "The model can give more precise help if it has concrete information to work with. \n",
    "\n",
    "- share an example of your data \n",
    "- share your relevant code (formatted with Markdown). \n",
    "\n",
    "### Example\n",
    "- 👎 \"my array sorting isn't working\"\n",
    "- 👍 provide the array and the exact sorting code you're using\n",
    "\n",
    "### Tip\n",
    "\n",
    "Pandas has a `to_markdown()` method, which will give you an easy-to-copy representation of your table. Combine it with `head()` to only grab a few rows. e.g."
   ]
  },
  {
   "cell_type": "code",
   "execution_count": 7,
   "metadata": {},
   "outputs": [
    {
     "name": "stdout",
     "output_type": "stream",
     "text": [
      "|    | Sex   |   Bwt |   Hwt |\n",
      "|---:|:------|------:|------:|\n",
      "|  0 | M     |   2   |   6.5 |\n",
      "|  1 | M     |   2   |   6.5 |\n",
      "|  2 | M     |   2.1 |  10.1 |\n",
      "|  3 | M     |   2.2 |   7.2 |\n",
      "|  4 | M     |   2.2 |   7.6 |\n"
     ]
    }
   ],
   "source": [
    "md = cats.head().to_markdown()\n",
    "print(md)"
   ]
  },
  {
   "attachments": {},
   "cell_type": "markdown",
   "metadata": {
    "slideshow": {
     "slide_type": "subslide"
    }
   },
   "source": [
    "## 6. Use Markdown for your queries.\n",
    "\n",
    "When you're discussing code, markdown can be extremely helpful for readability. Use backticks (`) to wrap small pieces of code or triple backticks () for larger blocks of code. \n",
    "\n",
    "### Example\n",
    "The following is surrounded with triple backticks.\n",
    "\n",
    "```\n",
    "test.mean()\n",
    "```"
   ]
  },
  {
   "attachments": {},
   "cell_type": "markdown",
   "metadata": {
    "slideshow": {
     "slide_type": "subslide"
    }
   },
   "source": [
    "## 7. Be open to failure.\n",
    "\n",
    "Don't *expect* the model to always be right - read with caution, like you might with Wikipedia, and allow for the possibility of an incorrect response.\n",
    "\n",
    "Always double-check and verify the results.\n",
    "\n",
    "One very common failure: outdated information. The model might not know about changes in a coding library."
   ]
  },
  {
   "attachments": {},
   "cell_type": "markdown",
   "metadata": {
    "slideshow": {
     "slide_type": "subslide"
    }
   },
   "source": [
    "## 8. Ask for explanations\n",
    "Don't hesitate to ask for an explanation of a response. You can ask the model to describe the logic behind a piece of code, clarify how an algorithm works, or explain an error message.\n",
    "\n",
    "### Example\n",
    "- 👎 \"Thanks for the code.\"\n",
    "- 👍 \"Can you explain how this part of the code works?\""
   ]
  },
  {
   "attachments": {},
   "cell_type": "markdown",
   "metadata": {
    "slideshow": {
     "slide_type": "subslide"
    }
   },
   "source": [
    "## 9. Use it as a tool, rather than a silver bullet\n",
    "- Incorporate it into your routine, but don't rely solely on it.\n",
    "- You know a lot already. Even in today's chat-model lab, there's no need to ask our models for *everything* -  you're an expert too!\n",
    "- Bear in mind that using it as a tool is something you get better at with practice, just like you do with programming."
   ]
  },
  {
   "attachments": {},
   "cell_type": "markdown",
   "metadata": {
    "slideshow": {
     "slide_type": "subslide"
    }
   },
   "source": [
    "## 10. Use it for your learning\n",
    "\n",
    "- 👍  \"Is there an alternative way to write this code\" (compare the approaches)\n",
    "- 👍 \"Below is code I wrote to do X. Suggest notes or improvements, with an explanation.\n",
    "- 👍 \"What are some best practices for writing Python code?\"\n",
    "- 👍 \"Can you provide some practice problems to improve my skills with `groupby` in Pandas?\"\n",
    "- 👍 Test yourself: \"This is my understanding of how an Inner Join works in SQL, is this correct?\""
   ]
  },
  {
   "attachments": {},
   "cell_type": "markdown",
   "metadata": {
    "slideshow": {
     "slide_type": "subslide"
    }
   },
   "source": [
    "## 11. Have it help with adjacent skills\n",
    "\n",
    "### Example\n",
    "You know how to scrape a web table with `pd.read_html`, but what if you want to read multiple tables from a list of URLs and concatenate them into a single dataset? A chat model can help nudge your abilities into the novel."
   ]
  },
  {
   "attachments": {},
   "cell_type": "markdown",
   "metadata": {
    "slideshow": {
     "slide_type": "subslide"
    }
   },
   "source": [
    "## 12. Use it for brainstorming\n",
    "AI models can be useful tools for brainstorming. Talk with it about ideas. It's stronger if you describe your *existing* ideas, to better understand what you're getting at.\n",
    "\n",
    "### Example\n",
    "- 👍 \"I'm trying to study Y. What are sensible questions to answer in my study? Suggest additional datasets that would be sensible to compare against.\""
   ]
  },
  {
   "attachments": {},
   "cell_type": "markdown",
   "metadata": {
    "slideshow": {
     "slide_type": "subslide"
    }
   },
   "source": [
    "## 13. Translate skills and jargon across tools and domains\n",
    "\n",
    "If you know how to do something in one tool, chat models can help you learn how to adapt it to a different tool, syntax, etc.\n",
    "\n",
    "### Example\n",
    "👍 \"How would I write this R code as Python?\""
   ]
  },
  {
   "attachments": {},
   "cell_type": "markdown",
   "metadata": {
    "slideshow": {
     "slide_type": "subslide"
    }
   },
   "source": [
    "### Learn from the Imperfection\n",
    "\n",
    "When you get an answer, try to understand *why*. If you're unsure, a) just *ask* about the question you have! b) Ask for detailed comments for what's happening.\n",
    "\n",
    "If the answer is incorrect, see if if got you to a place where your learning and expertise can fix it."
   ]
  },
  {
   "attachments": {},
   "cell_type": "markdown",
   "metadata": {
    "slideshow": {
     "slide_type": "subslide"
    }
   },
   "source": [
    "Query: draw a Mona Lisa-like graph with matplotlib."
   ]
  },
  {
   "cell_type": "code",
   "execution_count": 2,
   "metadata": {
    "slideshow": {
     "slide_type": "fragment"
    }
   },
   "outputs": [
    {
     "data": {
      "image/png": "[encoded data removed]",
      "text/plain": [
       "<Figure size 432x288 with 1 Axes>"
      ]
     },
     "metadata": {
      "needs_background": "light"
     },
     "output_type": "display_data"
    }
   ],
   "source": [
    "import matplotlib.pyplot as plt\n",
    "import numpy as np\n",
    "\n",
    "# Create a blank canvas\n",
    "fig, ax = plt.subplots()\n",
    "\n",
    "# Define the dimensions of the Mona Lisa\n",
    "image_width = 200\n",
    "image_height = 300\n",
    "\n",
    "# Create a numpy array to represent the image\n",
    "image = np.zeros((image_height, image_width, 3), dtype=np.uint8)\n",
    "\n",
    "# Define the colors\n",
    "black = (0, 0, 0)\n",
    "white = (255, 255, 255)\n",
    "skin = (222, 184, 135)\n",
    "hair = (53, 41, 30)\n",
    "clothes = (63, 94, 143)\n",
    "\n",
    "# Draw the face\n",
    "face_radius = 100\n",
    "face_center = (100, 150)\n",
    "image[face_center[1] - face_radius:face_center[1] + face_radius, face_center[0] - face_radius:face_center[0] + face_radius] = skin\n",
    "\n",
    "# Draw the hair\n",
    "hair_height = 50\n",
    "hair_width = 100\n",
    "hair_top_left = (100 - hair_width // 2, 150 - face_radius - hair_height)\n",
    "image[hair_top_left[1]:hair_top_left[1] + hair_height, hair_top_left[0]:hair_top_left[0] + hair_width] = hair\n",
    "\n",
    "# Draw the eyes\n",
    "eye_radius = 10\n",
    "left_eye_center = (80, 140)\n",
    "right_eye_center = (120, 140)\n",
    "image[left_eye_center[1] - eye_radius:left_eye_center[1] + eye_radius, left_eye_center[0] - eye_radius:left_eye_center[0] + eye_radius] = black\n",
    "image[right_eye_center[1] - eye_radius:right_eye_center[1] + eye_radius, right_eye_center[0] - eye_radius:right_eye_center[0] + eye_radius] = black\n",
    "\n",
    "# Draw the mouth\n",
    "mouth_top_left = (80, 170)\n",
    "mouth_width = 40\n",
    "mouth_height = 20\n",
    "image[mouth_top_left[1]:mouth_top_left[1] + mouth_height, mouth_top_left[0]:mouth_top_left[0] + mouth_width] = black\n",
    "\n",
    "# Draw the clothes\n",
    "clothes_top_left = (50, 200)\n",
    "clothes_width = 100\n",
    "clothes_height = 100\n",
    "image[clothes_top_left[1]:clothes_top_left[1] + clothes_height, clothes_top_left[0]:clothes_top_left[0] + clothes_width] = clothes\n",
    "\n",
    "# Display the image\n",
    "ax.imshow(image)\n",
    "plt.axis('off')\n",
    "plt.show()"
   ]
  },
  {
   "attachments": {},
   "cell_type": "markdown",
   "metadata": {
    "slideshow": {
     "slide_type": "slide"
    }
   },
   "source": [
    "# Practice and Lab\n",
    "\n",
    "1. Practice Lab Questions - with Dr. O\n",
    "2. Mini-Lab (minimal help from Dr. O)"
   ]
  }
 ],
 "metadata": {
  "kernelspec": {
   "display_name": "base",
   "language": "python",
   "name": "python3"
  },
  "language_info": {
   "codemirror_mode": {
    "name": "ipython",
    "version": 3
   },
   "file_extension": ".py",
   "mimetype": "text/x-python",
   "name": "python",
   "nbconvert_exporter": "python",
   "pygments_lexer": "ipython3",
   "version": "3.9.12"
  },
  "orig_nbformat": 4
 },
 "nbformat": 4,
 "nbformat_minor": 2
}
