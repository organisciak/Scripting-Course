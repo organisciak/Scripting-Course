{
 "cells": [
  {
   "cell_type": "markdown",
   "metadata": {
    "slideshow": {
     "slide_type": "slide"
    }
   },
   "source": [
    "# Scripting Week 9: MongoDB and Semi-Structured Data"
   ]
  },
  {
   "cell_type": "code",
   "execution_count": 30,
   "metadata": {
    "slideshow": {
     "slide_type": "subslide"
    }
   },
   "outputs": [],
   "source": [
    "import pandas as pd"
   ]
  },
  {
   "cell_type": "markdown",
   "metadata": {},
   "source": [
    "## Agenda\n",
    "\n",
    "- Lab questions from last week\n",
    "   - Skills questions: are you curious about doing more with regular expressions?\n",
    "- JSON\n",
    "- MongoDB\n",
    "- Work time - lab and final projects"
   ]
  },
  {
   "cell_type": "markdown",
   "metadata": {
    "slideshow": {
     "slide_type": "subslide"
    }
   },
   "source": [
    "## Announcements\n",
    "\n",
    "- RMIS conference: please apply, please.\n",
    "- Andrea Thomer talk, Thursday at 6:20\n",
    "  - Data curation expert from UMich\n",
    "- Alert Level Clear! - with caveat..."
   ]
  },
  {
   "cell_type": "markdown",
   "metadata": {
    "slideshow": {
     "slide_type": "slide"
    }
   },
   "source": [
    "# Semi-structured data"
   ]
  },
  {
   "cell_type": "markdown",
   "metadata": {
    "slideshow": {
     "slide_type": "fragment"
    }
   },
   "source": [
    "Semi-structured data has a structure, but it is specific to the needs of the data.\n",
    "\n",
    "Tabular data always has two-dimensions - rows and columns (aka 'fields' and 'records') - semi-structured data is less predictable."
   ]
  },
  {
   "cell_type": "markdown",
   "metadata": {
    "slideshow": {
     "slide_type": "subslide"
    }
   },
   "source": [
    "### Common Semi-Structured Formats\n",
    "\n",
    "JSON\n",
    "- Hierarchical\n",
    "- Organized around key/value pairs and lists of values\n",
    "\n",
    "XML\n",
    "- Hierarchical, enclosed\n",
    "- Organized with tags, properties, and values"
   ]
  },
  {
   "cell_type": "markdown",
   "metadata": {
    "slideshow": {
     "slide_type": "subslide"
    }
   },
   "source": [
    "### XML, briefly\n",
    "\n",
    "XML has tags and attributes, representing elements, and content\n",
    "\n",
    "![Example XML](../images/xml1.png)"
   ]
  },
  {
   "cell_type": "markdown",
   "metadata": {
    "slideshow": {
     "slide_type": "subslide"
    }
   },
   "source": [
    "TAGS\n",
    "\n",
    "- `<catalog>`\n",
    "- `<book>`\n",
    "- `<author>`\n",
    "\n",
    "ELEMENTS\n",
    "- Everything from `<book>` to `</book>`"
   ]
  },
  {
   "cell_type": "markdown",
   "metadata": {
    "slideshow": {
     "slide_type": "subslide"
    }
   },
   "source": [
    "ATTRIBUTES\n",
    "- The ‘id’ of `<book>`\n",
    "\n",
    "CONTENT\n",
    "- “Gambardella, Matthew”\n",
    "- “XML Developer’s Guide”"
   ]
  },
  {
   "cell_type": "markdown",
   "metadata": {
    "slideshow": {
     "slide_type": "subslide"
    }
   },
   "source": [
    "## JSON\n",
    "\n",
    "JSON is made up a few data value types:\n",
    "\n",
    "- string\n",
    "- number (like a float in Python)\n",
    "- object (named collection, like a dictionary in Python)\n",
    "- array  (unnamed collection, like a list in Python)\n",
    "- boolean\n",
    "- null"
   ]
  },
  {
   "cell_type": "markdown",
   "metadata": {
    "slideshow": {
     "slide_type": "subslide"
    }
   },
   "source": [
    "Our 'containers' are objects and arrays. They can hold any of the other data types, *including other arrays and objects*.\n",
    "\n",
    "\n",
    "### Object\n",
    "\n",
    "Key value pairs, surrounded by curly braces.\n",
    "\n",
    "- `:` separates key and value, `,` separates the item pairs.\n",
    "- Keys have to be strings, values can be anything."
   ]
  },
  {
   "cell_type": "markdown",
   "metadata": {
    "slideshow": {
     "slide_type": "subslide"
    }
   },
   "source": [
    "### Arrays\n",
    "\n",
    "Nearly identical to lists in Python. Values, surrounded by square brackets.\n",
    "\n",
    "- `,` separates items.\n",
    "- Values can be any data type."
   ]
  },
  {
   "cell_type": "markdown",
   "metadata": {
    "slideshow": {
     "slide_type": "subslide"
    }
   },
   "source": [
    "### Objects \n",
    "\n",
    "basic form:\n",
    "\n",
    "```json\n",
    "{\n",
    "  \"name\": \"Jill\"\n",
    "}\n",
    "```"
   ]
  },
  {
   "cell_type": "markdown",
   "metadata": {
    "slideshow": {
     "slide_type": "subslide"
    }
   },
   "source": [
    "Adding key-value pairs:\n",
    "    \n",
    "```json\n",
    "{\n",
    "  \"name\": \"Jill\",\n",
    "  \"profession\": \"Juggler\"\n",
    "}\n",
    "```"
   ]
  },
  {
   "cell_type": "markdown",
   "metadata": {
    "slideshow": {
     "slide_type": "subslide"
    }
   },
   "source": [
    "Values can be other types:\n",
    "    \n",
    "```json\n",
    "{\n",
    "  \"name\": \"Jill\",\n",
    "  \"profession\": \"Juggler\",\n",
    "  \"age\": 51\n",
    "}\n",
    "```"
   ]
  },
  {
   "cell_type": "markdown",
   "metadata": {
    "slideshow": {
     "slide_type": "subslide"
    }
   },
   "source": [
    "JSON is language-agnostic, so some things are different than in Python. e.g. *true / false* (lowercase) rather than Python's *True / False*:\n",
    "\n",
    "```json\n",
    "{\n",
    "  \"name\": \"Jill\",\n",
    "  \"profession\": \"Juggler\",\n",
    "  \"age\": 51,\n",
    "  \"active\": true\n",
    "}\n",
    "```"
   ]
  },
  {
   "cell_type": "markdown",
   "metadata": {
    "slideshow": {
     "slide_type": "subslide"
    }
   },
   "source": [
    "The values can be arrays and objects - that's how things start to get deep:\n",
    "\n",
    "```json\n",
    "{\n",
    "  \"name\": \"Jill\",\n",
    "  \"profession\": \"Juggler\",\n",
    "  \"age\": 51,\n",
    "  \"active\": true,\n",
    "  \"tools\": [\"ball\", \"handkerchief\", \"flaming motorcycle\"]\n",
    "}\n",
    "```"
   ]
  },
  {
   "cell_type": "markdown",
   "metadata": {
    "slideshow": {
     "slide_type": "subslide"
    }
   },
   "source": [
    "Nested Object:\n",
    "\n",
    "```json\n",
    "{\n",
    "  \"name\": \"Jill\",\n",
    "  \"profession\": \"Juggler\",\n",
    "  \"age\": 51,\n",
    "  \"active\": true,\n",
    "  \"tools\": [\"ball\", \"handkerchief\", \"flaming motorcycle\"],\n",
    "  \"awards\": {\n",
    "      \"Tri-City Juggling Symposium 2010\": \"Technical Program, Silver\",\n",
    "      \"Ballympics 2009\": \"Best Overall, Runner-up\"\n",
    "  }\n",
    "}\n",
    "```"
   ]
  },
  {
   "cell_type": "markdown",
   "metadata": {
    "slideshow": {
     "slide_type": "subslide"
    }
   },
   "source": [
    "List of objects, why not?\n",
    "\n",
    "```json\n",
    "{\n",
    "  \"name\": \"Jill\",\n",
    "  \"profession\": \"Juggler\",\n",
    "  \"age\": 51,\n",
    "  \"active\": true,\n",
    "  \"tools\": [\"ball\", \"handkerchief\", \"flaming motorcycle\"],\n",
    "  \"awards\": [\n",
    "        {\n",
    "            \"event\": \"Tri-City Juggling Symposium\",\n",
    "             \"year\": 2010,\n",
    "             \"awards\": [\"Technical Program, Silver\"]\n",
    "        },\n",
    "        {\n",
    "            \"event\": \"Ballympics\",\n",
    "             \"year\": 2009,\n",
    "             \"awards\": [\"Best Overall, Runner-up\"]\n",
    "        }\n",
    "    ]\n",
    "}\n",
    "```"
   ]
  },
  {
   "cell_type": "markdown",
   "metadata": {
    "slideshow": {
     "slide_type": "subslide"
    }
   },
   "source": [
    "Whitespace doesn't matter:\n",
    "\n",
    "```json\n",
    "{\"name\": \"Jill\", \"profession\": \"Juggler\", \"age\": 51, \"active\": true, \"tools\": [\"ball\", \"handkerchief\", \"flaming motorcycle\"], \"awards\": [{\"event\": \"Tri-City Juggling Symposium\", \"year\": 2010, \"awards\": [\"Technical Program, Silver\"]}, {\"event\": \"Ballympics\", \"year\": 2009, \"awards\": [\"Best Overall, Runner-up\"]}]}\n",
    "```"
   ]
  },
  {
   "cell_type": "markdown",
   "metadata": {
    "slideshow": {
     "slide_type": "subslide"
    }
   },
   "source": [
    "### Reading in Python"
   ]
  },
  {
   "cell_type": "code",
   "execution_count": 36,
   "metadata": {
    "slideshow": {
     "slide_type": "fragment"
    }
   },
   "outputs": [],
   "source": [
    "person = {\"name\": \"Jill\", \"profession\": \"Juggler\", \"age\": 51, \"active\": True,\n",
    "          \"tools\": [\"ball\", \"handkerchief\", \"flaming motorcycle\"], \n",
    "          \"awards\": [\n",
    "              {\"event\": \"Tri-City Juggling Symposium\", \"year\": 2010, \"awards\": [\"Technical Program, Silver\"]},\n",
    "              {\"event\": \"Ballympics\", \"year\": 2009, \"awards\": [\"Best Overall, Runner-up\"]}\n",
    "          ]}"
   ]
  },
  {
   "cell_type": "code",
   "execution_count": null,
   "metadata": {},
   "outputs": [],
   "source": [
    "person['name']"
   ]
  },
  {
   "cell_type": "code",
   "execution_count": 41,
   "metadata": {},
   "outputs": [
    {
     "data": {
      "text/plain": [
       "'ball'"
      ]
     },
     "execution_count": 41,
     "metadata": {},
     "output_type": "execute_result"
    }
   ],
   "source": [
    "a = person['tools']\n",
    "a[0]"
   ]
  },
  {
   "cell_type": "code",
   "execution_count": null,
   "metadata": {},
   "outputs": [],
   "source": [
    "person['awards'][0]['event']"
   ]
  },
  {
   "cell_type": "markdown",
   "metadata": {
    "slideshow": {
     "slide_type": "subslide"
    }
   },
   "source": [
    "### Exercises\n",
    "\n",
    "Develop a JSON structure for representing the following:\n",
    "\n",
    "- a directory of current mayors, organized by cities and subdivided by state\n",
    "    - Try with 3 cities from 2 states\n",
    "- a collection of movies, each with basic metadata (e.g. title, director, year) and with viewer opinion information (ratings or reviews)\n",
    "   - Try with *Black Panther* and *Avengers: Endgame*"
   ]
  },
  {
   "cell_type": "markdown",
   "metadata": {
    "slideshow": {
     "slide_type": "slide"
    }
   },
   "source": [
    "# MongoDB\n",
    "\n",
    "A semi-structured non-relational (No-SQL) database, which uses a JSON-like format for storing information."
   ]
  },
  {
   "cell_type": "markdown",
   "metadata": {
    "slideshow": {
     "slide_type": "subslide"
    }
   },
   "source": [
    "### Terminology\n",
    "\n",
    "<center>**Database Management System (MongoDB)**</center>\n",
    "<center>*can have one or more*</center>\n",
    "\n",
    "<center>**Databases**</center>\n",
    "\n",
    "<center>*can have one or more*</center>\n",
    "<center>**Collections**</center>\n",
    "\n",
    "<center>*can have one or more*</center>\n",
    "<center>**Documents**</center>"
   ]
  },
  {
   "cell_type": "markdown",
   "metadata": {
    "slideshow": {
     "slide_type": "fragment"
    }
   },
   "source": [
    "Compare to relational databases - How do the terms align?"
   ]
  },
  {
   "cell_type": "markdown",
   "metadata": {
    "slideshow": {
     "slide_type": "subslide"
    }
   },
   "source": [
    "*Documents* are JSON-like objects, *Collections* are lists of those objects."
   ]
  },
  {
   "cell_type": "markdown",
   "metadata": {
    "slideshow": {
     "slide_type": "fragment"
    }
   },
   "source": [
    "```\n",
    "[\n",
    "    {\n",
    "      \"name\": \"Jill\",\n",
    "      \"profession\": \"Juggler\"\n",
    "    },\n",
    "    { \"name\": \"Jack\",\n",
    "      \"profession\": \"Unemployed\"\n",
    "    }\n",
    "]\n",
    "```"
   ]
  },
  {
   "cell_type": "markdown",
   "metadata": {
    "slideshow": {
     "slide_type": "subslide"
    }
   },
   "source": [
    "Before we learn about MongoDB, let's get it ready on our systems so we can be hands on!\n",
    "\n",
    "- Turn to Lab and do the small JSON primer"
   ]
  },
  {
   "cell_type": "markdown",
   "metadata": {
    "slideshow": {
     "slide_type": "subslide"
    }
   },
   "source": [
    "Connecting to a database called 'week9slides'. I'll put all my collections there this week."
   ]
  },
  {
   "cell_type": "code",
   "execution_count": 1,
   "metadata": {},
   "outputs": [],
   "source": [
    "from pymongo import MongoClient\n",
    "\n",
    "# Loading my credentials from a file\n",
    "with open('credentials.txt', mode='r') as f:\n",
    "    user, mongopw, cluster_url = [l.strip() for l in f.readlines()]\n",
    "\n",
    "client = MongoClient(\"mongodb+srv://{}:{}@{}/test?retryWrites=true&w=majority\".format(user, mongopw, cluster_url))\n",
    "db = client.week9slides"
   ]
  },
  {
   "cell_type": "code",
   "execution_count": 78,
   "metadata": {
    "slideshow": {
     "slide_type": "skip"
    }
   },
   "outputs": [],
   "source": [
    "# Reset for future years\n",
    "x = db.drop_collection('example')\n",
    "x = db.drop_collection('example2')"
   ]
  },
  {
   "cell_type": "markdown",
   "metadata": {
    "slideshow": {
     "slide_type": "subslide"
    }
   },
   "source": [
    "New `example` collection:"
   ]
  },
  {
   "cell_type": "code",
   "execution_count": 4,
   "metadata": {},
   "outputs": [],
   "source": [
    "collection = db.example"
   ]
  },
  {
   "cell_type": "markdown",
   "metadata": {
    "slideshow": {
     "slide_type": "subslide"
    }
   },
   "source": [
    "## Insert One"
   ]
  },
  {
   "cell_type": "code",
   "execution_count": 43,
   "metadata": {},
   "outputs": [
    {
     "data": {
      "text/plain": [
       "<pymongo.results.InsertOneResult at 0x7f1ee6b69e40>"
      ]
     },
     "execution_count": 43,
     "metadata": {},
     "output_type": "execute_result"
    }
   ],
   "source": [
    "doc = {\n",
    "  \"name\": \"Jill\",\n",
    "  \"age\": 51,\n",
    "  \"profession\": \"Juggler\"\n",
    "}\n",
    "collection.insert_one(doc) "
   ]
  },
  {
   "cell_type": "markdown",
   "metadata": {
    "slideshow": {
     "slide_type": "subslide"
    }
   },
   "source": [
    "## Retrieving Documents\n",
    "\n",
    "MongoDB does retrieval with `find` or `find_one`, using a JSON-query.\n",
    "\n",
    "`find_one` gives a JSON object back:"
   ]
  },
  {
   "cell_type": "code",
   "execution_count": 44,
   "metadata": {
    "slideshow": {
     "slide_type": "-"
    }
   },
   "outputs": [
    {
     "data": {
      "text/plain": [
       "{'_id': ObjectId('5ec72e9c5138fc0870d52557'),\n",
       " 'name': 'Jill',\n",
       " 'profile': {'age': 51, 'hobbies': ['jogging', 'juggling']}}"
      ]
     },
     "execution_count": 44,
     "metadata": {},
     "output_type": "execute_result"
    }
   ],
   "source": [
    "collection.find_one(\n",
    "    {\"age\": 51}\n",
    ")"
   ]
  },
  {
   "cell_type": "markdown",
   "metadata": {
    "slideshow": {
     "slide_type": "subslide"
    }
   },
   "source": [
    "`find` returns an instance of an object that can be iterated over: "
   ]
  },
  {
   "cell_type": "code",
   "execution_count": 45,
   "metadata": {},
   "outputs": [
    {
     "data": {
      "text/plain": [
       "<pymongo.cursor.Cursor at 0x7f1ee6b6d7f0>"
      ]
     },
     "execution_count": 45,
     "metadata": {},
     "output_type": "execute_result"
    }
   ],
   "source": [
    "collection.find({'name': 'Jill'})"
   ]
  },
  {
   "cell_type": "code",
   "execution_count": 53,
   "metadata": {
    "slideshow": {
     "slide_type": "fragment"
    }
   },
   "outputs": [
    {
     "name": "stdout",
     "output_type": "stream",
     "text": [
      "{'_id': ObjectId('5ec72e9c5138fc0870d52557'), 'name': 'Jill', 'profile': {'age': 51, 'hobbies': ['jogging', 'juggling']}}\n",
      "{'_id': ObjectId('5ecd9bf8db075a3e645f62ab'), 'name': 'Jill', 'profile': {'age': 51, 'hobbies': ['jogging', 'juggling']}}\n",
      "{'_id': ObjectId('621e98743b4e98756d5b88df'), 'name': 'Jill', 'profile': {'age': 51, 'hobbies': ['jogging', 'juggling']}}\n",
      "{'_id': ObjectId('621ebd843b4e98756d5b88e2'), 'name': 'Jill', 'age': 51, 'profession': 'Juggler'}\n"
     ]
    }
   ],
   "source": [
    "results = collection.find({'name': 'Jill'})\n",
    "for result in results:\n",
    "    print(result)"
   ]
  },
  {
   "cell_type": "markdown",
   "metadata": {
    "slideshow": {
     "slide_type": "subslide"
    }
   },
   "source": [
    "*Try iterating over the `results` variable again without doing another search. What happens?*"
   ]
  },
  {
   "cell_type": "code",
   "execution_count": 47,
   "metadata": {},
   "outputs": [],
   "source": [
    "for result in results:\n",
    "    print(result)"
   ]
  },
  {
   "cell_type": "markdown",
   "metadata": {
    "slideshow": {
     "slide_type": "subslide"
    }
   },
   "source": [
    "The `cursor` is a pointer to the database, so you're not holding all the data in memory - you're just pointing to it. Good for really large datasets!"
   ]
  },
  {
   "cell_type": "markdown",
   "metadata": {
    "slideshow": {
     "slide_type": "fragment"
    }
   },
   "source": [
    "Alternately, you can convert everything to a list, but don't do this if you have a lot of data!"
   ]
  },
  {
   "cell_type": "code",
   "execution_count": 48,
   "metadata": {},
   "outputs": [
    {
     "data": {
      "text/plain": [
       "[{'_id': ObjectId('5ec72e9c5138fc0870d52557'),\n",
       "  'name': 'Jill',\n",
       "  'profile': {'age': 51, 'hobbies': ['jogging', 'juggling']}},\n",
       " {'_id': ObjectId('5ecd9bf8db075a3e645f62ab'),\n",
       "  'name': 'Jill',\n",
       "  'profile': {'age': 51, 'hobbies': ['jogging', 'juggling']}},\n",
       " {'_id': ObjectId('621e98743b4e98756d5b88df'),\n",
       "  'name': 'Jill',\n",
       "  'profile': {'age': 51, 'hobbies': ['jogging', 'juggling']}},\n",
       " {'_id': ObjectId('621ebd843b4e98756d5b88e2'),\n",
       "  'name': 'Jill',\n",
       "  'age': 51,\n",
       "  'profession': 'Juggler'}]"
      ]
     },
     "execution_count": 48,
     "metadata": {},
     "output_type": "execute_result"
    }
   ],
   "source": [
    "results = collection.find({'name': 'Jill'})\n",
    "list_of_results = list(results)\n",
    "list_of_results"
   ]
  },
  {
   "cell_type": "markdown",
   "metadata": {
    "slideshow": {
     "slide_type": "subslide"
    }
   },
   "source": [
    "## Insert Many"
   ]
  },
  {
   "cell_type": "code",
   "execution_count": 55,
   "metadata": {},
   "outputs": [
    {
     "data": {
      "text/plain": [
       "<pymongo.results.InsertManyResult at 0x7f1ee6b57f40>"
      ]
     },
     "execution_count": 55,
     "metadata": {},
     "output_type": "execute_result"
    }
   ],
   "source": [
    "docs = [{ \"name\": \"Jack\", \"age\": 50, \"profession\": \"Unemployed\" },\n",
    "        { \"name\": \"Jun Ho\", \"age\": 34, \"profession\": \"Juggler\" }\n",
    "       ]\n",
    "collection.insert_many(docs)"
   ]
  },
  {
   "cell_type": "code",
   "execution_count": 80,
   "metadata": {
    "slideshow": {
     "slide_type": "subslide"
    }
   },
   "outputs": [
    {
     "data": {
      "text/plain": [
       "[]"
      ]
     },
     "execution_count": 80,
     "metadata": {},
     "output_type": "execute_result"
    }
   ],
   "source": [
    "results = collection.find({\"profession\": \"Juggler\"})\n",
    "list(results)"
   ]
  },
  {
   "cell_type": "markdown",
   "metadata": {
    "slideshow": {
     "slide_type": "subslide"
    }
   },
   "source": [
    "### Count"
   ]
  },
  {
   "cell_type": "code",
   "execution_count": 79,
   "metadata": {
    "scrolled": false
   },
   "outputs": [
    {
     "data": {
      "text/plain": [
       "0"
      ]
     },
     "execution_count": 79,
     "metadata": {},
     "output_type": "execute_result"
    }
   ],
   "source": [
    "collection.estimated_document_count()"
   ]
  },
  {
   "cell_type": "markdown",
   "metadata": {
    "slideshow": {
     "slide_type": "subslide"
    }
   },
   "source": [
    "## Retrieving Everything\n",
    "\n",
    "*What would our search be to get everything?*"
   ]
  },
  {
   "cell_type": "code",
   "execution_count": null,
   "metadata": {},
   "outputs": [],
   "source": [
    " "
   ]
  },
  {
   "cell_type": "code",
   "execution_count": 58,
   "metadata": {
    "slideshow": {
     "slide_type": "fragment"
    }
   },
   "outputs": [
    {
     "data": {
      "text/plain": [
       "[{'_id': ObjectId('5ec72e9c5138fc0870d52557'),\n",
       "  'name': 'Jill',\n",
       "  'profile': {'age': 51, 'hobbies': ['jogging', 'juggling']}},\n",
       " {'_id': ObjectId('5ec72e9d5138fc0870d52558'),\n",
       "  'name': 'Jack',\n",
       "  'profile': {'age': 50, 'hobbies': ['internet commenting']}},\n",
       " {'_id': ObjectId('5ec72e9e5138fc0870d52559'),\n",
       "  'name': 'Ju Ho',\n",
       "  'profile': {'age': 34, 'hobbies': ['petting dogs', 'juggling']}},\n",
       " {'_id': ObjectId('5ecd9bf8db075a3e645f62ab'),\n",
       "  'name': 'Jill',\n",
       "  'profile': {'age': 51, 'hobbies': ['jogging', 'juggling']}},\n",
       " {'_id': ObjectId('5ecd9bfcdb075a3e645f62ac'),\n",
       "  'name': 'Jack',\n",
       "  'profile': {'age': 50, 'hobbies': ['internet commenting']}},\n",
       " {'_id': ObjectId('5ecd9c19db075a3e645f62ad'),\n",
       "  'name': 'Ju Ho',\n",
       "  'profile': {'age': 34, 'hobbies': ['petting dogs', 'juggling']}},\n",
       " {'_id': ObjectId('621e98743b4e98756d5b88df'),\n",
       "  'name': 'Jill',\n",
       "  'profile': {'age': 51, 'hobbies': ['jogging', 'juggling']}},\n",
       " {'_id': ObjectId('621e98753b4e98756d5b88e0'),\n",
       "  'name': 'Jack',\n",
       "  'profile': {'age': 50, 'hobbies': ['internet commenting']}},\n",
       " {'_id': ObjectId('621e98773b4e98756d5b88e1'),\n",
       "  'name': 'Ju Ho',\n",
       "  'profile': {'age': 34, 'hobbies': ['petting dogs', 'juggling']}},\n",
       " {'_id': ObjectId('621ebd843b4e98756d5b88e2'),\n",
       "  'name': 'Jill',\n",
       "  'age': 51,\n",
       "  'profession': 'Juggler'},\n",
       " {'_id': ObjectId('621ebfa03b4e98756d5b88e3'),\n",
       "  'name': 'Jack',\n",
       "  'age': 50,\n",
       "  'profession': 'Unemployed'},\n",
       " {'_id': ObjectId('621ebfa03b4e98756d5b88e4'),\n",
       "  'name': 'Jun Ho',\n",
       "  'age': 34,\n",
       "  'profession': 'Juggler'}]"
      ]
     },
     "execution_count": 58,
     "metadata": {},
     "output_type": "execute_result"
    }
   ],
   "source": [
    "results = collection.find({})\n",
    "list(results)"
   ]
  },
  {
   "cell_type": "markdown",
   "metadata": {
    "slideshow": {
     "slide_type": "subslide"
    }
   },
   "source": [
    "## `Find` by Example"
   ]
  },
  {
   "cell_type": "markdown",
   "metadata": {
    "slideshow": {
     "slide_type": "subslide"
    }
   },
   "source": [
    "Exact match:"
   ]
  },
  {
   "cell_type": "code",
   "execution_count": 59,
   "metadata": {
    "scrolled": true
   },
   "outputs": [
    {
     "data": {
      "text/plain": [
       "[{'_id': ObjectId('621ebfa03b4e98756d5b88e3'),\n",
       "  'name': 'Jack',\n",
       "  'age': 50,\n",
       "  'profession': 'Unemployed'}]"
      ]
     },
     "execution_count": 59,
     "metadata": {},
     "output_type": "execute_result"
    }
   ],
   "source": [
    "results = collection.find({\n",
    "            \"age\": 50\n",
    "        })\n",
    "list(results)"
   ]
  },
  {
   "cell_type": "markdown",
   "metadata": {
    "slideshow": {
     "slide_type": "subslide"
    }
   },
   "source": [
    "Multiple conditions:"
   ]
  },
  {
   "cell_type": "code",
   "execution_count": 16,
   "metadata": {},
   "outputs": [
    {
     "data": {
      "text/plain": [
       "[{'_id': ObjectId('621e983e3b4e98756d5b88dd'),\n",
       "  'name': 'Jack',\n",
       "  'age': 50,\n",
       "  'profession': 'Unemployed'}]"
      ]
     },
     "execution_count": 16,
     "metadata": {},
     "output_type": "execute_result"
    }
   ],
   "source": [
    "results = collection.find({\n",
    "            \"age\": 50,\n",
    "            \"profession\": \"Unemployed\"\n",
    "        })\n",
    "list(results)"
   ]
  },
  {
   "cell_type": "markdown",
   "metadata": {
    "slideshow": {
     "slide_type": "subslide"
    }
   },
   "source": [
    "Greater than, Less than, Greater than or equal to, Less than or equal to:"
   ]
  },
  {
   "cell_type": "code",
   "execution_count": 61,
   "metadata": {
    "scrolled": true
   },
   "outputs": [
    {
     "data": {
      "text/plain": [
       "[{'_id': ObjectId('621ebd843b4e98756d5b88e2'),\n",
       "  'name': 'Jill',\n",
       "  'age': 51,\n",
       "  'profession': 'Juggler'}]"
      ]
     },
     "execution_count": 61,
     "metadata": {},
     "output_type": "execute_result"
    }
   ],
   "source": [
    "results = collection.find({\n",
    "            \"age\": { \"$gt\": 50 }\n",
    "        })\n",
    "list(results)"
   ]
  },
  {
   "cell_type": "code",
   "execution_count": 18,
   "metadata": {},
   "outputs": [
    {
     "data": {
      "text/plain": [
       "[{'_id': ObjectId('621e981a3b4e98756d5b88dc'),\n",
       "  'name': 'Jill',\n",
       "  'age': 51,\n",
       "  'profession': 'Juggler'},\n",
       " {'_id': ObjectId('621e983e3b4e98756d5b88dd'),\n",
       "  'name': 'Jack',\n",
       "  'age': 50,\n",
       "  'profession': 'Unemployed'}]"
      ]
     },
     "execution_count": 18,
     "metadata": {},
     "output_type": "execute_result"
    }
   ],
   "source": [
    "results = collection.find({\n",
    "            \"age\": { \"$gte\": 50 }\n",
    "        })\n",
    "list(results)"
   ]
  },
  {
   "cell_type": "markdown",
   "metadata": {
    "slideshow": {
     "slide_type": "subslide"
    }
   },
   "source": [
    "```json\n",
    "{ \"$gt\": 50 }\n",
    "```\n",
    "\n",
    "The `$` tells mongo that this is a special function, not simply a value named `gt`"
   ]
  },
  {
   "cell_type": "code",
   "execution_count": 69,
   "metadata": {
    "slideshow": {
     "slide_type": "subslide"
    }
   },
   "outputs": [
    {
     "data": {
      "text/plain": [
       "[{'_id': ObjectId('621ebd843b4e98756d5b88e2'),\n",
       "  'name': 'Jill',\n",
       "  'age': 51,\n",
       "  'profession': 'Juggler'},\n",
       " {'_id': ObjectId('621ebfa03b4e98756d5b88e3'),\n",
       "  'name': 'Jack',\n",
       "  'age': 50,\n",
       "  'profession': 'Unemployed'}]"
      ]
     },
     "execution_count": 69,
     "metadata": {},
     "output_type": "execute_result"
    }
   ],
   "source": [
    "results = collection.find({\n",
    "            \"age\": { \"$gte\": 50 }\n",
    "        })\n",
    "list(results)"
   ]
  },
  {
   "cell_type": "markdown",
   "metadata": {
    "slideshow": {
     "slide_type": "subslide"
    }
   },
   "source": [
    "And more:\n",
    "    \n",
    "- Combine expressions with `$or`, `$and`\n",
    "- Match against multiple values with `$in`, `$all`\n",
    "    \n",
    "*What do these do? Can we figure out how to use them?*"
   ]
  },
  {
   "cell_type": "markdown",
   "metadata": {
    "slideshow": {
     "slide_type": "subslide"
    }
   },
   "source": [
    "### Specifying the return fields\n",
    "\n",
    "The 2nd argument to `find` or `find_one` specifies which fields to include:"
   ]
  },
  {
   "cell_type": "code",
   "execution_count": 71,
   "metadata": {
    "slideshow": {
     "slide_type": "fragment"
    }
   },
   "outputs": [
    {
     "data": {
      "text/plain": [
       "[{'_id': ObjectId('5ec72e9c5138fc0870d52557'), 'name': 'Jill'},\n",
       " {'_id': ObjectId('5ec72e9d5138fc0870d52558'), 'name': 'Jack'},\n",
       " {'_id': ObjectId('5ec72e9e5138fc0870d52559'), 'name': 'Ju Ho'},\n",
       " {'_id': ObjectId('5ecd9bf8db075a3e645f62ab'), 'name': 'Jill'},\n",
       " {'_id': ObjectId('5ecd9bfcdb075a3e645f62ac'), 'name': 'Jack'},\n",
       " {'_id': ObjectId('5ecd9c19db075a3e645f62ad'), 'name': 'Ju Ho'},\n",
       " {'_id': ObjectId('621e98743b4e98756d5b88df'), 'name': 'Jill'},\n",
       " {'_id': ObjectId('621e98753b4e98756d5b88e0'), 'name': 'Jack'},\n",
       " {'_id': ObjectId('621e98773b4e98756d5b88e1'), 'name': 'Ju Ho'},\n",
       " {'_id': ObjectId('621ebd843b4e98756d5b88e2'), 'name': 'Jill'},\n",
       " {'_id': ObjectId('621ebfa03b4e98756d5b88e3'), 'name': 'Jack'},\n",
       " {'_id': ObjectId('621ebfa03b4e98756d5b88e4'), 'name': 'Jun Ho'}]"
      ]
     },
     "execution_count": 71,
     "metadata": {},
     "output_type": "execute_result"
    }
   ],
   "source": [
    "results = collection.find({}, { \"name\": 1 })\n",
    "list(results)"
   ]
  },
  {
   "cell_type": "code",
   "execution_count": null,
   "metadata": {
    "scrolled": false,
    "slideshow": {
     "slide_type": "subslide"
    }
   },
   "outputs": [],
   "source": [
    "results = collection.find({}, { \"age\": 1, \"name\": 1 })\n",
    "list(results)  "
   ]
  },
  {
   "cell_type": "markdown",
   "metadata": {},
   "source": [
    "Or by exclusion:"
   ]
  },
  {
   "cell_type": "code",
   "execution_count": 22,
   "metadata": {},
   "outputs": [
    {
     "data": {
      "text/plain": [
       "[{'name': 'Jill', 'age': 51, 'profession': 'Juggler'},\n",
       " {'name': 'Jack', 'age': 50, 'profession': 'Unemployed'},\n",
       " {'name': 'Jun Ho', 'age': 34, 'profession': 'Juggler'}]"
      ]
     },
     "execution_count": 22,
     "metadata": {},
     "output_type": "execute_result"
    }
   ],
   "source": [
    "results = collection.find({}, { \"_id\": 0 })\n",
    "list(results)"
   ]
  },
  {
   "cell_type": "markdown",
   "metadata": {
    "slideshow": {
     "slide_type": "slide"
    }
   },
   "source": [
    "*Why use Mongo rather than an SQL DB?*"
   ]
  },
  {
   "cell_type": "markdown",
   "metadata": {
    "slideshow": {
     "slide_type": "fragment"
    }
   },
   "source": [
    "# <center>Nested Fields and Arrays</center>"
   ]
  },
  {
   "cell_type": "markdown",
   "metadata": {
    "slideshow": {
     "slide_type": "subslide"
    }
   },
   "source": [
    "New collection:"
   ]
  },
  {
   "cell_type": "code",
   "execution_count": 81,
   "metadata": {},
   "outputs": [],
   "source": [
    "collection = db.example2"
   ]
  },
  {
   "cell_type": "code",
   "execution_count": 82,
   "metadata": {
    "slideshow": {
     "slide_type": "subslide"
    }
   },
   "outputs": [
    {
     "data": {
      "text/plain": [
       "<pymongo.results.InsertOneResult at 0x7f1ee6b1a280>"
      ]
     },
     "execution_count": 82,
     "metadata": {},
     "output_type": "execute_result"
    }
   ],
   "source": [
    "doc = {\n",
    "  \"name\": \"Jill\",\n",
    "  \"profile\": {\n",
    "      \"age\": 51,\n",
    "      \"hobbies\": [\"jogging\", \"juggling\"]\n",
    "  },\n",
    "}\n",
    "collection.insert_one(doc)"
   ]
  },
  {
   "cell_type": "code",
   "execution_count": 85,
   "metadata": {},
   "outputs": [
    {
     "data": {
      "text/plain": [
       "<pymongo.results.InsertOneResult at 0x7f1ee6b0a140>"
      ]
     },
     "execution_count": 85,
     "metadata": {},
     "output_type": "execute_result"
    }
   ],
   "source": [
    "doc = {\n",
    "  \"name\": \"Jack\",\n",
    "  \"profile\": {\n",
    "      \"age\": 50,\n",
    "      \"hobbies\": [\"internet commenting\"]\n",
    "  }\n",
    "}\n",
    "collection.insert_one(doc)"
   ]
  },
  {
   "cell_type": "code",
   "execution_count": 86,
   "metadata": {
    "slideshow": {
     "slide_type": "subslide"
    }
   },
   "outputs": [
    {
     "data": {
      "text/plain": [
       "<pymongo.results.InsertOneResult at 0x7f1ee6b1a840>"
      ]
     },
     "execution_count": 86,
     "metadata": {},
     "output_type": "execute_result"
    }
   ],
   "source": [
    "doc = {\n",
    "  \"name\": \"Ju Ho\",\n",
    "  \"profile\": {\n",
    "      \"age\": 34,\n",
    "      \"hobbies\": [\"petting dogs\", \"juggling\"]\n",
    "  }\n",
    "}\n",
    "collection.insert_one(doc)"
   ]
  },
  {
   "cell_type": "code",
   "execution_count": 87,
   "metadata": {},
   "outputs": [
    {
     "data": {
      "text/plain": [
       "3"
      ]
     },
     "execution_count": 87,
     "metadata": {},
     "output_type": "execute_result"
    }
   ],
   "source": [
    "collection.estimated_document_count()"
   ]
  },
  {
   "cell_type": "markdown",
   "metadata": {
    "slideshow": {
     "slide_type": "subslide"
    }
   },
   "source": [
    "'dot' notation: separate nested field with a field. e.g. `profile.age`"
   ]
  },
  {
   "cell_type": "code",
   "execution_count": 88,
   "metadata": {
    "slideshow": {
     "slide_type": "fragment"
    }
   },
   "outputs": [
    {
     "data": {
      "text/plain": [
       "[{'_id': ObjectId('621ec6b63b4e98756d5b88e5'),\n",
       "  'name': 'Jill',\n",
       "  'profile': {'age': 51, 'hobbies': ['jogging', 'juggling']}}]"
      ]
     },
     "execution_count": 88,
     "metadata": {},
     "output_type": "execute_result"
    }
   ],
   "source": [
    "results = collection.find( { \"profile.age\": 51} )\n",
    "list(results)"
   ]
  },
  {
   "cell_type": "code",
   "execution_count": 29,
   "metadata": {
    "slideshow": {
     "slide_type": "fragment"
    }
   },
   "outputs": [
    {
     "data": {
      "text/plain": [
       "[{'_id': ObjectId('5ec72e9c5138fc0870d52557'),\n",
       "  'name': 'Jill',\n",
       "  'profile': {'age': 51, 'hobbies': ['jogging', 'juggling']}},\n",
       " {'_id': ObjectId('5ec72e9e5138fc0870d52559'),\n",
       "  'name': 'Ju Ho',\n",
       "  'profile': {'age': 34, 'hobbies': ['petting dogs', 'juggling']}},\n",
       " {'_id': ObjectId('5ecd9bf8db075a3e645f62ab'),\n",
       "  'name': 'Jill',\n",
       "  'profile': {'age': 51, 'hobbies': ['jogging', 'juggling']}},\n",
       " {'_id': ObjectId('5ecd9c19db075a3e645f62ad'),\n",
       "  'name': 'Ju Ho',\n",
       "  'profile': {'age': 34, 'hobbies': ['petting dogs', 'juggling']}},\n",
       " {'_id': ObjectId('621e98743b4e98756d5b88df'),\n",
       "  'name': 'Jill',\n",
       "  'profile': {'age': 51, 'hobbies': ['jogging', 'juggling']}},\n",
       " {'_id': ObjectId('621e98773b4e98756d5b88e1'),\n",
       "  'name': 'Ju Ho',\n",
       "  'profile': {'age': 34, 'hobbies': ['petting dogs', 'juggling']}}]"
      ]
     },
     "execution_count": 29,
     "metadata": {},
     "output_type": "execute_result"
    }
   ],
   "source": [
    "results = collection.find( { \"profile.hobbies\": \"juggling\"} )\n",
    "list(results)"
   ]
  },
  {
   "cell_type": "code",
   "execution_count": null,
   "metadata": {},
   "outputs": [],
   "source": []
  }
 ],
 "metadata": {
  "celltoolbar": "Slideshow",
  "kernelspec": {
   "display_name": "Python 3",
   "language": "python",
   "name": "python3"
  },
  "language_info": {
   "codemirror_mode": {
    "name": "ipython",
    "version": 3
   },
   "file_extension": ".py",
   "mimetype": "text/x-python",
   "name": "python",
   "nbconvert_exporter": "python",
   "pygments_lexer": "ipython3",
   "version": "3.8.10"
  }
 },
 "nbformat": 4,
 "nbformat_minor": 2
}
