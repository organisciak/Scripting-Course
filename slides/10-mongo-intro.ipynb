{
 "cells": [
  {
   "attachments": {},
   "cell_type": "markdown",
   "metadata": {
    "slideshow": {
     "slide_type": "slide"
    }
   },
   "source": [
    "# Scripting Week 9: MongoDB and Semi-Structured Data"
   ]
  },
  {
   "cell_type": "code",
   "execution_count": 1,
   "metadata": {
    "slideshow": {
     "slide_type": "subslide"
    }
   },
   "outputs": [],
   "source": [
    "import pandas as pd"
   ]
  },
  {
   "attachments": {},
   "cell_type": "markdown",
   "metadata": {},
   "source": [
    "## Agenda\n",
    "\n",
    "- Lab questions from last week\n",
    "- JSON\n",
    "- MongoDB\n",
    "- Work time - lab and final projects\n",
    "- Out at 5:30"
   ]
  },
  {
   "attachments": {},
   "cell_type": "markdown",
   "metadata": {
    "slideshow": {
     "slide_type": "subslide"
    }
   },
   "source": [
    "## Announcements"
   ]
  },
  {
   "attachments": {},
   "cell_type": "markdown",
   "metadata": {
    "slideshow": {
     "slide_type": "slide"
    }
   },
   "source": [
    "## Library and Data Curation Skills\n",
    "\n",
    "From *Bishop, B., Cowan, M., Collier, H., Mayernik, M., & Organisciak, P. (2023). Job Analyses of Earth Science Data Managers: A Survey Validation of Competencies to Inform Curricula in Research Data Management Education. Journal of Education for Library and Information Science, 64(2), 104–119. https://doi.org/10.3138/jelis-2021-0023*"
   ]
  },
  {
   "attachments": {},
   "cell_type": "markdown",
   "metadata": {
    "slideshow": {
     "slide_type": "fragment"
    }
   },
   "source": [
    "Please indicate any software and tools you use in your position (check all that apply)\n",
    "\n",
    "- Jupyter Notebook 23\n",
    "- RStudio 22\n",
    "- Any GIS 21\n",
    "- NetCDF 17\n",
    "- Other 14\n",
    "- Scrum 8\n",
    "- Apache Spark 4\n",
    "- Apache Hadoop 3\n",
    "Total Selections 112\n",
    "\n",
    "---\n",
    "Other: Eclipse (2), IDLE (2), Notepad ++ (2), GIT (2), Excel (2), Confluence (2), Kibana, Oracle, FreeFileSync, GeoMapApp, PostgreSQL, Panoply, ToolsUI, Linux shell, Google Docs, Zoom, RazorSQL, GitHub, JIRA, VisualFoxPro"
   ]
  },
  {
   "attachments": {},
   "cell_type": "markdown",
   "metadata": {
    "slideshow": {
     "slide_type": "subslide"
    }
   },
   "source": [
    "Please indicate any programming languages and/or scripting that you use in your position (check all that apply)\n",
    "\n",
    "- Markup Languages (e.g., HTML, XML)  34\n",
    "- Python 26\n",
    "- R 24\n",
    "- Other 18\n",
    "- JavaScript 13\n",
    "- Total Selections 115\n",
    "\n",
    "---\n",
    "Other: LAMP, API, ETL, PERL, SQL (2), GRASS GIS, Visual FoxPro (2), C, C#, PHP (2), BASH shell (2), Java (4), MATLAB"
   ]
  },
  {
   "attachments": {},
   "cell_type": "markdown",
   "metadata": {},
   "source": [
    "*From Nickoal Eichmann-Kalwara: [Digital Scholarship Activities at CU Boulder:Preliminary Results of a Campus Survey (2019)](https://osf.io/vpdhc/)*\n",
    "\n",
    "![](https://github.com/organisciak/Scripting-Course/blob/master/images/questions1.png?raw=true)\n",
    "\n",
    "![](https://github.com/organisciak/Scripting-Course/blob/master/images/questions2.png?raw=true)"
   ]
  },
  {
   "attachments": {},
   "cell_type": "markdown",
   "metadata": {
    "slideshow": {
     "slide_type": "slide"
    }
   },
   "source": [
    "# Semi-structured data"
   ]
  },
  {
   "attachments": {},
   "cell_type": "markdown",
   "metadata": {
    "slideshow": {
     "slide_type": "fragment"
    }
   },
   "source": [
    "Semi-structured data has a structure, but it is specific to the needs of the data.\n",
    "\n",
    "Tabular data always has two-dimensions - rows and columns (aka 'fields' and 'records') - semi-structured data is less predictable."
   ]
  },
  {
   "attachments": {},
   "cell_type": "markdown",
   "metadata": {
    "slideshow": {
     "slide_type": "subslide"
    }
   },
   "source": [
    "### Common Semi-Structured Formats\n",
    "\n",
    "JSON\n",
    "- Hierarchical\n",
    "- Organized around key/value pairs and lists of values\n",
    "\n",
    "XML\n",
    "- Hierarchical, enclosed\n",
    "- Organized with tags, properties, and values"
   ]
  },
  {
   "attachments": {},
   "cell_type": "markdown",
   "metadata": {
    "slideshow": {
     "slide_type": "subslide"
    }
   },
   "source": [
    "### XML, briefly\n",
    "\n",
    "XML has tags and attributes, representing elements, and content\n",
    "\n",
    "![Example XML](../images/xml1.png)"
   ]
  },
  {
   "attachments": {},
   "cell_type": "markdown",
   "metadata": {
    "slideshow": {
     "slide_type": "subslide"
    }
   },
   "source": [
    "TAGS\n",
    "\n",
    "- `<catalog>`\n",
    "- `<book>`\n",
    "- `<author>`\n",
    "\n",
    "ELEMENTS\n",
    "- Everything from `<book>` to `</book>`"
   ]
  },
  {
   "attachments": {},
   "cell_type": "markdown",
   "metadata": {
    "slideshow": {
     "slide_type": "subslide"
    }
   },
   "source": [
    "ATTRIBUTES\n",
    "- The ‘id’ of `<book>`\n",
    "\n",
    "CONTENT\n",
    "- “Gambardella, Matthew”\n",
    "- “XML Developer’s Guide”"
   ]
  },
  {
   "attachments": {},
   "cell_type": "markdown",
   "metadata": {
    "slideshow": {
     "slide_type": "subslide"
    }
   },
   "source": [
    "## JSON\n",
    "\n",
    "JSON is made up a few data value types:\n",
    "\n",
    "- string\n",
    "- number (like a float in Python)\n",
    "- object (named collection, like a dictionary in Python)\n",
    "- array  (unnamed collection, like a list in Python)\n",
    "- boolean\n",
    "- null"
   ]
  },
  {
   "attachments": {},
   "cell_type": "markdown",
   "metadata": {
    "slideshow": {
     "slide_type": "subslide"
    }
   },
   "source": [
    "Our 'containers' are objects and arrays. They can hold any of the other data types, *including other arrays and objects*.\n",
    "\n",
    "\n",
    "### Object\n",
    "\n",
    "Key value pairs, surrounded by curly braces.\n",
    "\n",
    "- `:` separates key and value, `,` separates the item pairs.\n",
    "- Keys have to be strings, values can be anything."
   ]
  },
  {
   "attachments": {},
   "cell_type": "markdown",
   "metadata": {
    "slideshow": {
     "slide_type": "subslide"
    }
   },
   "source": [
    "### Arrays\n",
    "\n",
    "Nearly identical to lists in Python. Values, surrounded by square brackets.\n",
    "\n",
    "- `,` separates items.\n",
    "- Values can be any data type."
   ]
  },
  {
   "attachments": {},
   "cell_type": "markdown",
   "metadata": {
    "slideshow": {
     "slide_type": "subslide"
    }
   },
   "source": [
    "### Objects \n",
    "\n",
    "basic form:\n",
    "\n",
    "```json\n",
    "{\n",
    "  \"name\": \"Jill\"\n",
    "}\n",
    "```"
   ]
  },
  {
   "attachments": {},
   "cell_type": "markdown",
   "metadata": {
    "slideshow": {
     "slide_type": "subslide"
    }
   },
   "source": [
    "Adding key-value pairs:\n",
    "    \n",
    "```json\n",
    "{\n",
    "  \"name\": \"Jill\",\n",
    "  \"profession\": \"Juggler\"\n",
    "}\n",
    "```"
   ]
  },
  {
   "attachments": {},
   "cell_type": "markdown",
   "metadata": {
    "slideshow": {
     "slide_type": "subslide"
    }
   },
   "source": [
    "Values can be other types:\n",
    "    \n",
    "```json\n",
    "{\n",
    "  \"name\": \"Jill\",\n",
    "  \"profession\": \"Juggler\",\n",
    "  \"age\": 51\n",
    "}\n",
    "```"
   ]
  },
  {
   "attachments": {},
   "cell_type": "markdown",
   "metadata": {
    "slideshow": {
     "slide_type": "subslide"
    }
   },
   "source": [
    "JSON is language-agnostic, so some things are different than in Python. e.g. *true / false* (lowercase) rather than Python's *True / False*:\n",
    "\n",
    "```json\n",
    "{\n",
    "  \"name\": \"Jill\",\n",
    "  \"profession\": \"Juggler\",\n",
    "  \"age\": 51,\n",
    "  \"active\": true\n",
    "}\n",
    "```"
   ]
  },
  {
   "attachments": {},
   "cell_type": "markdown",
   "metadata": {
    "slideshow": {
     "slide_type": "subslide"
    }
   },
   "source": [
    "The values can be arrays and objects - that's how things start to get deep:\n",
    "\n",
    "```json\n",
    "{\n",
    "  \"name\": \"Jill\",\n",
    "  \"profession\": \"Juggler\",\n",
    "  \"age\": 51,\n",
    "  \"active\": true,\n",
    "  \"tools\": [\"ball\", \"handkerchief\", \"flaming motorcycle\"]\n",
    "}\n",
    "```"
   ]
  },
  {
   "attachments": {},
   "cell_type": "markdown",
   "metadata": {
    "slideshow": {
     "slide_type": "subslide"
    }
   },
   "source": [
    "Nested Object:\n",
    "\n",
    "```json\n",
    "{\n",
    "  \"name\": \"Jill\",\n",
    "  \"profession\": \"Juggler\",\n",
    "  \"age\": 51,\n",
    "  \"active\": true,\n",
    "  \"tools\": [\"ball\", \"handkerchief\", \"flaming motorcycle\"],\n",
    "  \"awards\": {\n",
    "      \"Tri-City Juggling Symposium 2010\": \"Technical Program, Silver\",\n",
    "      \"Ballympics 2009\": \"Best Overall, Runner-up\"\n",
    "  }\n",
    "}\n",
    "```"
   ]
  },
  {
   "attachments": {},
   "cell_type": "markdown",
   "metadata": {
    "slideshow": {
     "slide_type": "subslide"
    }
   },
   "source": [
    "List of objects, why not?\n",
    "\n",
    "```json\n",
    "{\n",
    "  \"name\": \"Jill\",\n",
    "  \"profession\": \"Juggler\",\n",
    "  \"age\": 51,\n",
    "  \"active\": true,\n",
    "  \"tools\": [\"ball\", \"handkerchief\", \"flaming motorcycle\"],\n",
    "  \"awards\": [\n",
    "        {\n",
    "            \"event\": \"Tri-City Juggling Symposium\",\n",
    "             \"year\": 2010,\n",
    "             \"awards\": [\"Technical Program, Silver\"]\n",
    "        },\n",
    "        {\n",
    "            \"event\": \"Ballympics\",\n",
    "             \"year\": 2009,\n",
    "             \"awards\": [\"Best Overall, Runner-up\"]\n",
    "        }\n",
    "    ]\n",
    "}\n",
    "```"
   ]
  },
  {
   "attachments": {},
   "cell_type": "markdown",
   "metadata": {
    "slideshow": {
     "slide_type": "subslide"
    }
   },
   "source": [
    "Whitespace doesn't matter:\n",
    "\n",
    "```json\n",
    "{\"name\": \"Jill\", \"profession\": \"Juggler\", \"age\": 51, \"active\": true, \"tools\": [\"ball\", \"handkerchief\", \"flaming motorcycle\"], \"awards\": [{\"event\": \"Tri-City Juggling Symposium\", \"year\": 2010, \"awards\": [\"Technical Program, Silver\"]}, {\"event\": \"Ballympics\", \"year\": 2009, \"awards\": [\"Best Overall, Runner-up\"]}]}\n",
    "```"
   ]
  },
  {
   "attachments": {},
   "cell_type": "markdown",
   "metadata": {
    "slideshow": {
     "slide_type": "subslide"
    }
   },
   "source": [
    "### Reading in Python"
   ]
  },
  {
   "cell_type": "code",
   "execution_count": 2,
   "metadata": {
    "slideshow": {
     "slide_type": "fragment"
    }
   },
   "outputs": [],
   "source": [
    "person = {\"name\": \"Jill\", \"profession\": \"Juggler\", \"age\": 51, \"active\": True,\n",
    "          \"tools\": [\"ball\", \"handkerchief\", \"flaming motorcycle\"], \n",
    "          \"awards\": [\n",
    "              {\"event\": \"Tri-City Juggling Symposium\", \"year\": 2010, \"awards\": [\"Technical Program, Silver\"]},\n",
    "              {\"event\": \"Ballympics\", \"year\": 2009, \"awards\": [\"Best Overall, Runner-up\"]}\n",
    "          ]}"
   ]
  },
  {
   "attachments": {},
   "cell_type": "markdown",
   "metadata": {},
   "source": [
    "Note that Python True/False is capitalized (though JSON as saved to file uses true/false)"
   ]
  },
  {
   "cell_type": "code",
   "execution_count": 3,
   "metadata": {},
   "outputs": [
    {
     "data": {
      "text/plain": [
       "'Jill'"
      ]
     },
     "execution_count": 3,
     "metadata": {},
     "output_type": "execute_result"
    }
   ],
   "source": [
    "person['name']"
   ]
  },
  {
   "cell_type": "code",
   "execution_count": 4,
   "metadata": {},
   "outputs": [
    {
     "data": {
      "text/plain": [
       "'ball'"
      ]
     },
     "execution_count": 4,
     "metadata": {},
     "output_type": "execute_result"
    }
   ],
   "source": [
    "a = person['tools']\n",
    "a[0]"
   ]
  },
  {
   "cell_type": "code",
   "execution_count": 5,
   "metadata": {},
   "outputs": [
    {
     "data": {
      "text/plain": [
       "'Tri-City Juggling Symposium'"
      ]
     },
     "execution_count": 5,
     "metadata": {},
     "output_type": "execute_result"
    }
   ],
   "source": [
    "person['awards'][0]['event']"
   ]
  },
  {
   "attachments": {},
   "cell_type": "markdown",
   "metadata": {
    "slideshow": {
     "slide_type": "subslide"
    }
   },
   "source": [
    "### Exercises\n",
    "\n",
    "Develop a JSON structure for representing the following:\n",
    "\n",
    "- a directory of current mayors, organized by cities and subdivided by state\n",
    "    - Try with 3 cities from 2 states\n",
    "- a collection of movies, each with basic metadata (e.g. title, director, year) and with viewer opinion information (ratings or reviews)\n",
    "   - Try with *Black Panther* and *Avengers: Endgame*"
   ]
  },
  {
   "attachments": {},
   "cell_type": "markdown",
   "metadata": {
    "slideshow": {
     "slide_type": "slide"
    }
   },
   "source": [
    "# MongoDB\n",
    "\n",
    "A semi-structured non-relational (No-SQL) database, which uses a JSON-like format for storing information."
   ]
  },
  {
   "attachments": {},
   "cell_type": "markdown",
   "metadata": {
    "slideshow": {
     "slide_type": "subslide"
    }
   },
   "source": [
    "### Terminology\n",
    "\n",
    "<center>**Database Management System (MongoDB)**</center>\n",
    "<center>*can have one or more*</center>\n",
    "\n",
    "<center>**Databases**</center>\n",
    "\n",
    "<center>*can have one or more*</center>\n",
    "<center>**Collections**</center>\n",
    "\n",
    "<center>*can have one or more*</center>\n",
    "<center>**Documents**</center>"
   ]
  },
  {
   "attachments": {},
   "cell_type": "markdown",
   "metadata": {
    "slideshow": {
     "slide_type": "fragment"
    }
   },
   "source": [
    "Compare to relational databases - How do the terms align?"
   ]
  },
  {
   "attachments": {},
   "cell_type": "markdown",
   "metadata": {
    "slideshow": {
     "slide_type": "subslide"
    }
   },
   "source": [
    "*Documents* are JSON-like objects, *Collections* are lists of those objects."
   ]
  },
  {
   "attachments": {},
   "cell_type": "markdown",
   "metadata": {
    "slideshow": {
     "slide_type": "fragment"
    }
   },
   "source": [
    "```\n",
    "[\n",
    "    {\n",
    "      \"name\": \"Jill\",\n",
    "      \"profession\": \"Juggler\"\n",
    "    },\n",
    "    { \"name\": \"Jack\",\n",
    "      \"profession\": \"Unemployed\"\n",
    "    }\n",
    "]\n",
    "```"
   ]
  },
  {
   "attachments": {},
   "cell_type": "markdown",
   "metadata": {
    "slideshow": {
     "slide_type": "subslide"
    }
   },
   "source": [
    "Connecting to a database called 'week10slides'. I'll put all my collections there this week."
   ]
  },
  {
   "cell_type": "code",
   "execution_count": 47,
   "metadata": {},
   "outputs": [],
   "source": [
    "from pymongo import MongoClient\n",
    "\n",
    "# Loading my credentials from a file\n",
    "with open('credentials.txt', mode='r') as f:\n",
    "    user, mongopw, cluster_url = [l.strip() for l in f.readlines()]\n",
    "\n",
    "client = MongoClient(\"mongodb+srv://{}:{}@{}/test?retryWrites=true&w=majority\".format(user, mongopw, cluster_url))\n",
    "db = client.scripting"
   ]
  },
  {
   "cell_type": "code",
   "execution_count": 49,
   "metadata": {
    "slideshow": {
     "slide_type": "skip"
    }
   },
   "outputs": [],
   "source": [
    "# Reset for future years\n",
    "x = db.drop_collection('example')\n",
    "x = db.drop_collection('example2')"
   ]
  },
  {
   "attachments": {},
   "cell_type": "markdown",
   "metadata": {
    "slideshow": {
     "slide_type": "subslide"
    }
   },
   "source": [
    "New `example` collection:"
   ]
  },
  {
   "cell_type": "code",
   "execution_count": 50,
   "metadata": {},
   "outputs": [],
   "source": [
    "collection = db.example"
   ]
  },
  {
   "attachments": {},
   "cell_type": "markdown",
   "metadata": {
    "slideshow": {
     "slide_type": "subslide"
    }
   },
   "source": [
    "## Insert One"
   ]
  },
  {
   "cell_type": "code",
   "execution_count": 51,
   "metadata": {},
   "outputs": [
    {
     "data": {
      "text/plain": [
       "InsertOneResult(ObjectId('682b57d938c40268da87d94f'), acknowledged=True)"
      ]
     },
     "execution_count": 51,
     "metadata": {},
     "output_type": "execute_result"
    }
   ],
   "source": [
    "doc = {\n",
    "  \"name\": \"Jill\",\n",
    "  \"age\": 51,\n",
    "  \"profession\": \"Juggler\"\n",
    "}\n",
    "collection.insert_one(doc) "
   ]
  },
  {
   "attachments": {},
   "cell_type": "markdown",
   "metadata": {
    "slideshow": {
     "slide_type": "subslide"
    }
   },
   "source": [
    "## Retrieving Documents\n",
    "\n",
    "MongoDB does retrieval with `find` or `find_one`, using a JSON-query.\n",
    "\n",
    "`find_one` gives a JSON object back:"
   ]
  },
  {
   "cell_type": "code",
   "execution_count": 52,
   "metadata": {
    "slideshow": {
     "slide_type": "-"
    }
   },
   "outputs": [
    {
     "data": {
      "text/plain": [
       "{'_id': ObjectId('682b57d938c40268da87d94f'),\n",
       " 'name': 'Jill',\n",
       " 'age': 51,\n",
       " 'profession': 'Juggler'}"
      ]
     },
     "execution_count": 52,
     "metadata": {},
     "output_type": "execute_result"
    }
   ],
   "source": [
    "collection.find_one(\n",
    "    {\"age\": 51}\n",
    ")"
   ]
  },
  {
   "attachments": {},
   "cell_type": "markdown",
   "metadata": {
    "slideshow": {
     "slide_type": "subslide"
    }
   },
   "source": [
    "`find` returns an instance of an object that can be iterated over: "
   ]
  },
  {
   "cell_type": "code",
   "execution_count": 53,
   "metadata": {},
   "outputs": [
    {
     "data": {
      "text/plain": [
       "<pymongo.synchronous.cursor.Cursor at 0x10f067d90>"
      ]
     },
     "execution_count": 53,
     "metadata": {},
     "output_type": "execute_result"
    }
   ],
   "source": [
    "results = collection.find({'name': 'Jill'})\n",
    "results"
   ]
  },
  {
   "cell_type": "code",
   "execution_count": 54,
   "metadata": {
    "slideshow": {
     "slide_type": "fragment"
    }
   },
   "outputs": [
    {
     "name": "stdout",
     "output_type": "stream",
     "text": [
      "{'_id': ObjectId('682b57d938c40268da87d94f'), 'name': 'Jill', 'age': 51, 'profession': 'Juggler'}\n"
     ]
    }
   ],
   "source": [
    "results = collection.find({'name': 'Jill'})\n",
    "for result in results:\n",
    "    print(result)"
   ]
  },
  {
   "attachments": {},
   "cell_type": "markdown",
   "metadata": {
    "slideshow": {
     "slide_type": "subslide"
    }
   },
   "source": [
    "*Try iterating over the `results` variable again without doing another search. What happens?*"
   ]
  },
  {
   "cell_type": "code",
   "execution_count": 55,
   "metadata": {},
   "outputs": [],
   "source": [
    "for result in results:\n",
    "    print(result)"
   ]
  },
  {
   "attachments": {},
   "cell_type": "markdown",
   "metadata": {
    "slideshow": {
     "slide_type": "subslide"
    }
   },
   "source": [
    "The `cursor` is a pointer to the database, so you're not holding all the data in memory - you're just pointing to it. Good for really large datasets!"
   ]
  },
  {
   "attachments": {},
   "cell_type": "markdown",
   "metadata": {
    "slideshow": {
     "slide_type": "fragment"
    }
   },
   "source": [
    "Alternately, you can convert everything to a list, but don't do this if you have a lot of data!"
   ]
  },
  {
   "cell_type": "code",
   "execution_count": 56,
   "metadata": {},
   "outputs": [
    {
     "data": {
      "text/plain": [
       "[{'_id': ObjectId('682b57d938c40268da87d94f'),\n",
       "  'name': 'Jill',\n",
       "  'age': 51,\n",
       "  'profession': 'Juggler'}]"
      ]
     },
     "execution_count": 56,
     "metadata": {},
     "output_type": "execute_result"
    }
   ],
   "source": [
    "results = collection.find({'name': 'Jill'})\n",
    "list_of_results = list(results)\n",
    "list_of_results"
   ]
  },
  {
   "attachments": {},
   "cell_type": "markdown",
   "metadata": {
    "slideshow": {
     "slide_type": "subslide"
    }
   },
   "source": [
    "## Insert Many"
   ]
  },
  {
   "cell_type": "code",
   "execution_count": 57,
   "metadata": {},
   "outputs": [
    {
     "data": {
      "text/plain": [
       "InsertManyResult([ObjectId('682b57e038c40268da87d950'), ObjectId('682b57e038c40268da87d951')], acknowledged=True)"
      ]
     },
     "execution_count": 57,
     "metadata": {},
     "output_type": "execute_result"
    }
   ],
   "source": [
    "docs = [{ \"name\": \"Jack\", \"age\": 50, \"profession\": \"Unemployed\" },\n",
    "        { \"name\": \"Jun Ho\", \"age\": 34, \"profession\": \"Juggler\" }\n",
    "       ]\n",
    "collection.insert_many(docs)"
   ]
  },
  {
   "cell_type": "code",
   "execution_count": 58,
   "metadata": {
    "slideshow": {
     "slide_type": "subslide"
    }
   },
   "outputs": [
    {
     "data": {
      "text/plain": [
       "[{'_id': ObjectId('682b57d938c40268da87d94f'),\n",
       "  'name': 'Jill',\n",
       "  'age': 51,\n",
       "  'profession': 'Juggler'},\n",
       " {'_id': ObjectId('682b57e038c40268da87d951'),\n",
       "  'name': 'Jun Ho',\n",
       "  'age': 34,\n",
       "  'profession': 'Juggler'}]"
      ]
     },
     "execution_count": 58,
     "metadata": {},
     "output_type": "execute_result"
    }
   ],
   "source": [
    "results = collection.find({\"profession\": \"Juggler\"})\n",
    "list(results)"
   ]
  },
  {
   "attachments": {},
   "cell_type": "markdown",
   "metadata": {
    "slideshow": {
     "slide_type": "subslide"
    }
   },
   "source": [
    "### Count"
   ]
  },
  {
   "cell_type": "code",
   "execution_count": 59,
   "metadata": {
    "scrolled": false
   },
   "outputs": [
    {
     "data": {
      "text/plain": [
       "3"
      ]
     },
     "execution_count": 59,
     "metadata": {},
     "output_type": "execute_result"
    }
   ],
   "source": [
    "collection.estimated_document_count()"
   ]
  },
  {
   "attachments": {},
   "cell_type": "markdown",
   "metadata": {
    "slideshow": {
     "slide_type": "subslide"
    }
   },
   "source": [
    "## Retrieving Everything\n",
    "\n",
    "*What would our search be to get everything?*"
   ]
  },
  {
   "cell_type": "code",
   "execution_count": 60,
   "metadata": {
    "slideshow": {
     "slide_type": "fragment"
    }
   },
   "outputs": [
    {
     "data": {
      "text/plain": [
       "[{'_id': ObjectId('682b57d938c40268da87d94f'),\n",
       "  'name': 'Jill',\n",
       "  'age': 51,\n",
       "  'profession': 'Juggler'},\n",
       " {'_id': ObjectId('682b57e038c40268da87d950'),\n",
       "  'name': 'Jack',\n",
       "  'age': 50,\n",
       "  'profession': 'Unemployed'},\n",
       " {'_id': ObjectId('682b57e038c40268da87d951'),\n",
       "  'name': 'Jun Ho',\n",
       "  'age': 34,\n",
       "  'profession': 'Juggler'}]"
      ]
     },
     "execution_count": 60,
     "metadata": {},
     "output_type": "execute_result"
    }
   ],
   "source": [
    "results = collection.find({})\n",
    "list(results)"
   ]
  },
  {
   "attachments": {},
   "cell_type": "markdown",
   "metadata": {
    "slideshow": {
     "slide_type": "subslide"
    }
   },
   "source": [
    "## `Find` by Example"
   ]
  },
  {
   "attachments": {},
   "cell_type": "markdown",
   "metadata": {
    "slideshow": {
     "slide_type": "subslide"
    }
   },
   "source": [
    "Exact match:"
   ]
  },
  {
   "cell_type": "code",
   "execution_count": 61,
   "metadata": {
    "scrolled": true
   },
   "outputs": [
    {
     "data": {
      "text/plain": [
       "[{'_id': ObjectId('682b57e038c40268da87d950'),\n",
       "  'name': 'Jack',\n",
       "  'age': 50,\n",
       "  'profession': 'Unemployed'}]"
      ]
     },
     "execution_count": 61,
     "metadata": {},
     "output_type": "execute_result"
    }
   ],
   "source": [
    "results = collection.find({\n",
    "            \"age\": 50\n",
    "        })\n",
    "list(results)"
   ]
  },
  {
   "attachments": {},
   "cell_type": "markdown",
   "metadata": {
    "slideshow": {
     "slide_type": "subslide"
    }
   },
   "source": [
    "Multiple conditions:"
   ]
  },
  {
   "cell_type": "code",
   "execution_count": 62,
   "metadata": {},
   "outputs": [
    {
     "data": {
      "text/plain": [
       "[{'_id': ObjectId('682b57e038c40268da87d950'),\n",
       "  'name': 'Jack',\n",
       "  'age': 50,\n",
       "  'profession': 'Unemployed'}]"
      ]
     },
     "execution_count": 62,
     "metadata": {},
     "output_type": "execute_result"
    }
   ],
   "source": [
    "results = collection.find({\n",
    "            \"age\": 50,\n",
    "            \"profession\": \"Unemployed\"\n",
    "        })\n",
    "list(results)"
   ]
  },
  {
   "attachments": {},
   "cell_type": "markdown",
   "metadata": {
    "slideshow": {
     "slide_type": "subslide"
    }
   },
   "source": [
    "Greater than, Less than, Greater than or equal to, Less than or equal to:"
   ]
  },
  {
   "cell_type": "code",
   "execution_count": 63,
   "metadata": {
    "scrolled": true
   },
   "outputs": [
    {
     "data": {
      "text/plain": [
       "[{'_id': ObjectId('682b57d938c40268da87d94f'),\n",
       "  'name': 'Jill',\n",
       "  'age': 51,\n",
       "  'profession': 'Juggler'}]"
      ]
     },
     "execution_count": 63,
     "metadata": {},
     "output_type": "execute_result"
    }
   ],
   "source": [
    "results = collection.find({\n",
    "            \"age\": { \"$gt\": 50 }\n",
    "        })\n",
    "list(results)"
   ]
  },
  {
   "cell_type": "code",
   "execution_count": 64,
   "metadata": {},
   "outputs": [
    {
     "data": {
      "text/plain": [
       "[{'_id': ObjectId('682b57d938c40268da87d94f'),\n",
       "  'name': 'Jill',\n",
       "  'age': 51,\n",
       "  'profession': 'Juggler'},\n",
       " {'_id': ObjectId('682b57e038c40268da87d950'),\n",
       "  'name': 'Jack',\n",
       "  'age': 50,\n",
       "  'profession': 'Unemployed'}]"
      ]
     },
     "execution_count": 64,
     "metadata": {},
     "output_type": "execute_result"
    }
   ],
   "source": [
    "results = collection.find({\n",
    "            \"age\": { \"$gte\": 50 }\n",
    "        })\n",
    "list(results)"
   ]
  },
  {
   "attachments": {},
   "cell_type": "markdown",
   "metadata": {
    "slideshow": {
     "slide_type": "subslide"
    }
   },
   "source": [
    "```json\n",
    "{ \"$gt\": 50 }\n",
    "```\n",
    "\n",
    "The `$` tells mongo that this is a special function, not simply a value named `gt`"
   ]
  },
  {
   "cell_type": "code",
   "execution_count": 65,
   "metadata": {
    "slideshow": {
     "slide_type": "subslide"
    }
   },
   "outputs": [
    {
     "data": {
      "text/plain": [
       "[{'_id': ObjectId('682b57d938c40268da87d94f'),\n",
       "  'name': 'Jill',\n",
       "  'age': 51,\n",
       "  'profession': 'Juggler'},\n",
       " {'_id': ObjectId('682b57e038c40268da87d950'),\n",
       "  'name': 'Jack',\n",
       "  'age': 50,\n",
       "  'profession': 'Unemployed'}]"
      ]
     },
     "execution_count": 65,
     "metadata": {},
     "output_type": "execute_result"
    }
   ],
   "source": [
    "results = collection.find({\n",
    "            \"age\": { \"$gte\": 50 }\n",
    "        })\n",
    "list(results)"
   ]
  },
  {
   "attachments": {},
   "cell_type": "markdown",
   "metadata": {
    "slideshow": {
     "slide_type": "subslide"
    }
   },
   "source": [
    "And more:\n",
    "    \n",
    "- Combine expressions with `$or`, `$and`\n",
    "- Match against multiple values with `$in`, `$all`\n",
    "    \n",
    "*What do these do? Can we figure out how to use them?*"
   ]
  },
  {
   "attachments": {},
   "cell_type": "markdown",
   "metadata": {
    "slideshow": {
     "slide_type": "subslide"
    }
   },
   "source": [
    "### Specifying the return fields\n",
    "\n",
    "The 2nd argument to `find` or `find_one` specifies which fields to include:"
   ]
  },
  {
   "cell_type": "code",
   "execution_count": 66,
   "metadata": {
    "slideshow": {
     "slide_type": "fragment"
    }
   },
   "outputs": [
    {
     "data": {
      "text/plain": [
       "[{'_id': ObjectId('682b57d938c40268da87d94f'), 'name': 'Jill'},\n",
       " {'_id': ObjectId('682b57e038c40268da87d950'), 'name': 'Jack'},\n",
       " {'_id': ObjectId('682b57e038c40268da87d951'), 'name': 'Jun Ho'}]"
      ]
     },
     "execution_count": 66,
     "metadata": {},
     "output_type": "execute_result"
    }
   ],
   "source": [
    "results = collection.find({}, { \"name\": 1 })\n",
    "list(results)"
   ]
  },
  {
   "cell_type": "code",
   "execution_count": 67,
   "metadata": {
    "scrolled": false,
    "slideshow": {
     "slide_type": "subslide"
    }
   },
   "outputs": [
    {
     "data": {
      "text/plain": [
       "[{'_id': ObjectId('682b57d938c40268da87d94f'), 'name': 'Jill', 'age': 51},\n",
       " {'_id': ObjectId('682b57e038c40268da87d950'), 'name': 'Jack', 'age': 50},\n",
       " {'_id': ObjectId('682b57e038c40268da87d951'), 'name': 'Jun Ho', 'age': 34}]"
      ]
     },
     "execution_count": 67,
     "metadata": {},
     "output_type": "execute_result"
    }
   ],
   "source": [
    "results = collection.find({}, { \"age\": 1, \"name\": 1 })\n",
    "list(results)  "
   ]
  },
  {
   "attachments": {},
   "cell_type": "markdown",
   "metadata": {},
   "source": [
    "Or by exclusion:"
   ]
  },
  {
   "cell_type": "code",
   "execution_count": 68,
   "metadata": {},
   "outputs": [
    {
     "data": {
      "text/plain": [
       "[{'name': 'Jill', 'age': 51, 'profession': 'Juggler'},\n",
       " {'name': 'Jack', 'age': 50, 'profession': 'Unemployed'},\n",
       " {'name': 'Jun Ho', 'age': 34, 'profession': 'Juggler'}]"
      ]
     },
     "execution_count": 68,
     "metadata": {},
     "output_type": "execute_result"
    }
   ],
   "source": [
    "results = collection.find({}, { \"_id\": 0 })\n",
    "list(results)"
   ]
  },
  {
   "attachments": {},
   "cell_type": "markdown",
   "metadata": {
    "slideshow": {
     "slide_type": "slide"
    }
   },
   "source": [
    "*Why use Mongo rather than an SQL DB?*"
   ]
  },
  {
   "attachments": {},
   "cell_type": "markdown",
   "metadata": {
    "slideshow": {
     "slide_type": "fragment"
    }
   },
   "source": [
    "# <center>Nested Fields and Arrays</center>"
   ]
  },
  {
   "attachments": {},
   "cell_type": "markdown",
   "metadata": {
    "slideshow": {
     "slide_type": "subslide"
    }
   },
   "source": [
    "New collection:"
   ]
  },
  {
   "cell_type": "code",
   "execution_count": 69,
   "metadata": {},
   "outputs": [],
   "source": [
    "collection = db.example2"
   ]
  },
  {
   "cell_type": "code",
   "execution_count": 70,
   "metadata": {
    "slideshow": {
     "slide_type": "subslide"
    }
   },
   "outputs": [
    {
     "data": {
      "text/plain": [
       "InsertOneResult(ObjectId('682b57ed38c40268da87d952'), acknowledged=True)"
      ]
     },
     "execution_count": 70,
     "metadata": {},
     "output_type": "execute_result"
    }
   ],
   "source": [
    "doc = {\n",
    "  \"name\": \"Jill\",\n",
    "  \"profile\": {\n",
    "      \"age\": 51,\n",
    "      \"hobbies\": [\"jogging\", \"juggling\"]\n",
    "  },\n",
    "}\n",
    "collection.insert_one(doc)"
   ]
  },
  {
   "cell_type": "code",
   "execution_count": 71,
   "metadata": {},
   "outputs": [
    {
     "data": {
      "text/plain": [
       "InsertOneResult(ObjectId('682b57ee38c40268da87d953'), acknowledged=True)"
      ]
     },
     "execution_count": 71,
     "metadata": {},
     "output_type": "execute_result"
    }
   ],
   "source": [
    "doc = {\n",
    "  \"name\": \"Jack\",\n",
    "  \"profile\": {\n",
    "      \"age\": 50,\n",
    "      \"hobbies\": [\"internet commenting\"]\n",
    "  }\n",
    "}\n",
    "collection.insert_one(doc)"
   ]
  },
  {
   "cell_type": "code",
   "execution_count": 72,
   "metadata": {
    "slideshow": {
     "slide_type": "subslide"
    }
   },
   "outputs": [
    {
     "data": {
      "text/plain": [
       "InsertOneResult(ObjectId('682b57ee38c40268da87d954'), acknowledged=True)"
      ]
     },
     "execution_count": 72,
     "metadata": {},
     "output_type": "execute_result"
    }
   ],
   "source": [
    "doc = {\n",
    "  \"name\": \"Ju Ho\",\n",
    "  \"profile\": {\n",
    "      \"age\": 34,\n",
    "      \"hobbies\": [\"petting dogs\", \"juggling\"]\n",
    "  }\n",
    "}\n",
    "collection.insert_one(doc)"
   ]
  },
  {
   "cell_type": "code",
   "execution_count": 73,
   "metadata": {},
   "outputs": [
    {
     "data": {
      "text/plain": [
       "3"
      ]
     },
     "execution_count": 73,
     "metadata": {},
     "output_type": "execute_result"
    }
   ],
   "source": [
    "collection.estimated_document_count()"
   ]
  },
  {
   "attachments": {},
   "cell_type": "markdown",
   "metadata": {
    "slideshow": {
     "slide_type": "subslide"
    }
   },
   "source": [
    "'dot' notation: separate nested field with a field. e.g. `profile.age`"
   ]
  },
  {
   "cell_type": "code",
   "execution_count": 74,
   "metadata": {
    "slideshow": {
     "slide_type": "fragment"
    }
   },
   "outputs": [
    {
     "data": {
      "text/plain": [
       "[{'_id': ObjectId('682b57ed38c40268da87d952'),\n",
       "  'name': 'Jill',\n",
       "  'profile': {'age': 51, 'hobbies': ['jogging', 'juggling']}}]"
      ]
     },
     "execution_count": 74,
     "metadata": {},
     "output_type": "execute_result"
    }
   ],
   "source": [
    "results = collection.find( { \"profile.age\": 51} )\n",
    "list(results)"
   ]
  },
  {
   "cell_type": "code",
   "execution_count": 75,
   "metadata": {
    "slideshow": {
     "slide_type": "fragment"
    }
   },
   "outputs": [
    {
     "data": {
      "text/plain": [
       "[{'_id': ObjectId('682b57ed38c40268da87d952'),\n",
       "  'name': 'Jill',\n",
       "  'profile': {'age': 51, 'hobbies': ['jogging', 'juggling']}},\n",
       " {'_id': ObjectId('682b57ee38c40268da87d954'),\n",
       "  'name': 'Ju Ho',\n",
       "  'profile': {'age': 34, 'hobbies': ['petting dogs', 'juggling']}}]"
      ]
     },
     "execution_count": 75,
     "metadata": {},
     "output_type": "execute_result"
    }
   ],
   "source": [
    "results = collection.find( { \"profile.hobbies\": \"juggling\"} )\n",
    "list(results)"
   ]
  },
  {
   "attachments": {},
   "cell_type": "markdown",
   "metadata": {
    "slideshow": {
     "slide_type": "slide"
    }
   },
   "source": [
    "# Data Aggregation Pipeline\n",
    "\n",
    "*Aggregations* in MongoDB is a pipeline for combining data processing actions in MongoDB."
   ]
  },
  {
   "attachments": {},
   "cell_type": "markdown",
   "metadata": {
    "slideshow": {
     "slide_type": "subslide"
    }
   },
   "source": [
    "Things you may want to do:\n",
    "\n",
    "- **match**: Select a subset of data (as you can do with 'find')\n",
    "- **sort**: Order data by the values of a certain key\n",
    "- **group**: Group data based on a key - like 'groupby' in Pandas\n",
    "- **limit**: Trim the number of documents in the dataset\n",
    "- **unwind**: Deconstruct an array, so that there is a document for every value of the array\n",
    "- **project**: Select specific fields (like with the second argument to 'find')"
   ]
  },
  {
   "attachments": {},
   "cell_type": "markdown",
   "metadata": {
    "slideshow": {
     "slide_type": "subslide"
    }
   },
   "source": [
    "These are in fact the names of *stages* of the pipeline:\n",
    "\n",
    "- **\\$match**: Select a subset of data (as you can do with 'find')\n",
    "- **\\$sort**: Order data by the values of a certain key\n",
    "- **\\$group**: Group data based on a key - like 'groupby' in Pandas\n",
    "- **\\$limit**: Trim the number of documents in the dataset\n",
    "- **\\$unwind**: Deconstruct an array, so that there is a document for every value of the array\n",
    "- **\\$project**: Select specific fields (like with the second argument to 'find')"
   ]
  },
  {
   "cell_type": "code",
   "execution_count": 76,
   "metadata": {
    "slideshow": {
     "slide_type": "subslide"
    }
   },
   "outputs": [
    {
     "data": {
      "text/plain": [
       "{'_id': ObjectId('682b56f789dffff004d7c272'),\n",
       " 'id': 10259,\n",
       " 'cuisine': 'greek',\n",
       " 'ingredients': ['romaine lettuce',\n",
       "  'black olives',\n",
       "  'grape tomatoes',\n",
       "  'garlic',\n",
       "  'pepper',\n",
       "  'purple onion',\n",
       "  'seasoning',\n",
       "  'garbanzo beans',\n",
       "  'feta cheese crumbles']}"
      ]
     },
     "execution_count": 76,
     "metadata": {},
     "output_type": "execute_result"
    }
   ],
   "source": [
    "db = client.scripting\n",
    "db.cooking.find_one({})"
   ]
  },
  {
   "attachments": {},
   "cell_type": "markdown",
   "metadata": {},
   "source": [
    "Basics of the aggregations pipeline:\n",
    "\n",
    "`db.collectionName.aggregate(pipeline)`\n",
    "\n",
    "where\n",
    "\n",
    "```python\n",
    "pipeline = [\n",
    "    stage1,\n",
    "    stage2,\n",
    "    ...\n",
    "    and_so_on\n",
    "]\n",
    "```"
   ]
  },
  {
   "attachments": {},
   "cell_type": "markdown",
   "metadata": {
    "slideshow": {
     "slide_type": "subslide"
    }
   },
   "source": [
    "# $match\n",
    "\n",
    "Same as `find`, but a good place to start"
   ]
  },
  {
   "cell_type": "code",
   "execution_count": 39,
   "metadata": {},
   "outputs": [
    {
     "data": {
      "text/plain": [
       "[{'_id': ObjectId('682b56f789dffff004d7c272'),\n",
       "  'id': 10259,\n",
       "  'cuisine': 'greek',\n",
       "  'ingredients': ['romaine lettuce',\n",
       "   'black olives',\n",
       "   'grape tomatoes',\n",
       "   'garlic',\n",
       "   'pepper',\n",
       "   'purple onion',\n",
       "   'seasoning',\n",
       "   'garbanzo beans',\n",
       "   'feta cheese crumbles']},\n",
       " {'_id': ObjectId('682b56f789dffff004d7c2cf'),\n",
       "  'id': 34471,\n",
       "  'cuisine': 'greek',\n",
       "  'ingredients': ['ground pork',\n",
       "   'finely chopped fresh parsley',\n",
       "   'onions',\n",
       "   'salt',\n",
       "   'vinegar',\n",
       "   'caul fat']}]"
      ]
     },
     "execution_count": 39,
     "metadata": {},
     "output_type": "execute_result"
    }
   ],
   "source": [
    "pipeline = [\n",
    "    {\n",
    "        \"$match\": { \"cuisine\": \"greek\" }\n",
    "    }\n",
    "]\n",
    "\n",
    "results = db.cooking.aggregate(pipeline)\n",
    "list(results)[:2]"
   ]
  },
  {
   "attachments": {},
   "cell_type": "markdown",
   "metadata": {
    "slideshow": {
     "slide_type": "subslide"
    }
   },
   "source": [
    "# $sort\n",
    "\n",
    "Provide an object where the field names to sort by are the keys, and '-1' or '1' specify to sort in ascending or descending order.\n",
    "\n",
    "Here, we sort by alphabetical order on 'cuisine' - we'll try something more useful shortly."
   ]
  },
  {
   "cell_type": "code",
   "execution_count": 40,
   "metadata": {},
   "outputs": [
    {
     "data": {
      "text/plain": [
       "[{'_id': ObjectId('682b56f789dffff004d7d071'),\n",
       "  'id': 156,\n",
       "  'cuisine': 'vietnamese',\n",
       "  'ingredients': ['top round steak',\n",
       "   'baking powder',\n",
       "   'fish sauce',\n",
       "   'water',\n",
       "   'canola oil',\n",
       "   'black peppercorns',\n",
       "   'sugar',\n",
       "   'frozen banana leaf',\n",
       "   'fresh dill',\n",
       "   'tapioca starch']}]"
      ]
     },
     "execution_count": 40,
     "metadata": {},
     "output_type": "execute_result"
    }
   ],
   "source": [
    "pipeline = [\n",
    "    {\n",
    "        \"$sort\": { \"cuisine\": -1 }\n",
    "    }\n",
    "]\n",
    "\n",
    "results = db.cooking.aggregate(pipeline)\n",
    "list(results)[:1]"
   ]
  },
  {
   "attachments": {},
   "cell_type": "markdown",
   "metadata": {
    "slideshow": {
     "slide_type": "subslide"
    }
   },
   "source": [
    "# $project\n",
    "\n",
    "Select the columns that you want in the results, or exclude columns."
   ]
  },
  {
   "cell_type": "code",
   "execution_count": 41,
   "metadata": {},
   "outputs": [
    {
     "data": {
      "text/plain": [
       "[{'id': 10259, 'cuisine': 'greek'}, {'id': 34471, 'cuisine': 'greek'}]"
      ]
     },
     "execution_count": 41,
     "metadata": {},
     "output_type": "execute_result"
    }
   ],
   "source": [
    "pipeline = [\n",
    "    { \"$match\": { \"cuisine\": \"greek\" }  },\n",
    "    {\n",
    "        \"$project\": {\"_id\": 0, \"ingredients\": 0}\n",
    "    }\n",
    "]\n",
    "\n",
    "results = db.cooking.aggregate(pipeline)\n",
    "list(results)[:2]"
   ]
  },
  {
   "cell_type": "code",
   "execution_count": 42,
   "metadata": {
    "slideshow": {
     "slide_type": "subslide"
    }
   },
   "outputs": [
    {
     "data": {
      "text/plain": [
       "[{'_id': ObjectId('682b56f789dffff004d7c272'), 'cuisine': 'greek'},\n",
       " {'_id': ObjectId('682b56f789dffff004d7c2cf'), 'cuisine': 'greek'}]"
      ]
     },
     "execution_count": 42,
     "metadata": {},
     "output_type": "execute_result"
    }
   ],
   "source": [
    "pipeline = [\n",
    "    { \"$match\": { \"cuisine\": \"greek\" } },\n",
    "    { \"$project\": {\"cuisine\": 1}  }\n",
    "]\n",
    "\n",
    "results = db.cooking.aggregate(pipeline)\n",
    "list(results)[:2]"
   ]
  },
  {
   "attachments": {},
   "cell_type": "markdown",
   "metadata": {},
   "source": [
    "`$project` is usually for your benefit (it's more readable!), but that's not bad! If you're only focused on one or two pieces of informa\n",
    "tion, it's easier to see that information with `$project`"
   ]
  },
  {
   "attachments": {},
   "cell_type": "markdown",
   "metadata": {
    "slideshow": {
     "slide_type": "subslide"
    }
   },
   "source": [
    "# $limit\n",
    "\n",
    "Same as `limit(n)`."
   ]
  },
  {
   "cell_type": "code",
   "execution_count": 43,
   "metadata": {},
   "outputs": [
    {
     "data": {
      "text/plain": [
       "1"
      ]
     },
     "execution_count": 43,
     "metadata": {},
     "output_type": "execute_result"
    }
   ],
   "source": [
    "pipeline = [\n",
    "    {\n",
    "        \"$match\": { \"cuisine\": \"greek\" }\n",
    "    },\n",
    "    {\n",
    "        \"$limit\": 1\n",
    "    }\n",
    "]\n",
    "\n",
    "results = db.cooking.aggregate(pipeline)\n",
    "len(list(results))"
   ]
  },
  {
   "attachments": {},
   "cell_type": "markdown",
   "metadata": {
    "slideshow": {
     "slide_type": "subslide"
    }
   },
   "source": [
    "# $unwind\n",
    "\n",
    "Expand each item in a list to it's own document."
   ]
  },
  {
   "attachments": {},
   "cell_type": "markdown",
   "metadata": {},
   "source": [
    "Before:\n",
    "    \n",
    "```python\n",
    "[{\n",
    "  'cuisine': 'greek',\n",
    "  'ingredients': ['romaine lettuce',\n",
    "   'black olives',\n",
    "   'feta cheese crumbles']\n",
    "}]\n",
    "```\n",
    "\n",
    "After\n",
    "\n",
    "```python\n",
    "[\n",
    "    {'cuisine': 'greek', 'ingredients': 'romaine lettuce'},\n",
    "    {'cuisine': 'greek', 'ingredients': 'black olives'},\n",
    "    {'cuisine': 'greek', 'ingredients': 'feta cheese crumbles'}\n",
    "]\n",
    "```"
   ]
  },
  {
   "attachments": {},
   "cell_type": "markdown",
   "metadata": {
    "slideshow": {
     "slide_type": "subslide"
    }
   },
   "source": [
    "Step by step: what do the results below represent?"
   ]
  },
  {
   "cell_type": "code",
   "execution_count": 44,
   "metadata": {},
   "outputs": [
    {
     "data": {
      "text/plain": [
       "[{'cuisine': 'greek',\n",
       "  'ingredients': ['romaine lettuce',\n",
       "   'black olives',\n",
       "   'grape tomatoes',\n",
       "   'garlic',\n",
       "   'pepper',\n",
       "   'purple onion',\n",
       "   'seasoning',\n",
       "   'garbanzo beans',\n",
       "   'feta cheese crumbles']},\n",
       " {'cuisine': 'greek',\n",
       "  'ingredients': ['ground pork',\n",
       "   'finely chopped fresh parsley',\n",
       "   'onions',\n",
       "   'salt',\n",
       "   'vinegar',\n",
       "   'caul fat']}]"
      ]
     },
     "execution_count": 44,
     "metadata": {},
     "output_type": "execute_result"
    }
   ],
   "source": [
    "pipeline = [\n",
    "    {\"$match\": {\"cuisine\": \"greek\" }},\n",
    "    { \"$limit\": 2 },\n",
    "    {\"$project\": {\"_id\":0, \"id\":0 }}\n",
    "]\n",
    "  \n",
    "results = db.cooking.aggregate(pipeline)\n",
    "list(results)"
   ]
  },
  {
   "attachments": {},
   "cell_type": "markdown",
   "metadata": {
    "slideshow": {
     "slide_type": "skip"
    }
   },
   "source": [
    "**When you're referring to a field in a value (rather than a *key*), precede the name with '\\$'**\n",
    "\n",
    "'cuisine' is referred to in a key here:\n",
    "\n",
    "```\n",
    "{ \"$match\": { \"cuisine\": \"greek\" } }\n",
    "```\n",
    "\n",
    "'ingredients' is referred to in a value:\n",
    "\n",
    "```\n",
    "{ \"$unwind\": \"$ingredients\" }\n",
    "```"
   ]
  },
  {
   "attachments": {},
   "cell_type": "markdown",
   "metadata": {
    "slideshow": {
     "slide_type": "subslide"
    }
   },
   "source": [
    "# $group\n",
    "\n",
    "It's our split-apply-combine pattern in MongoDB."
   ]
  },
  {
   "cell_type": "code",
   "execution_count": 45,
   "metadata": {},
   "outputs": [
    {
     "data": {
      "text/plain": [
       "[{'_id': 'jamaican', 'num_matching': 526},\n",
       " {'_id': 'mexican', 'num_matching': 6438},\n",
       " {'_id': 'greek', 'num_matching': 1175},\n",
       " {'_id': 'vietnamese', 'num_matching': 825},\n",
       " {'_id': 'chinese', 'num_matching': 2673},\n",
       " {'_id': 'filipino', 'num_matching': 755},\n",
       " {'_id': 'cajun_creole', 'num_matching': 1546},\n",
       " {'_id': 'southern_us', 'num_matching': 4320},\n",
       " {'_id': 'indian', 'num_matching': 3003},\n",
       " {'_id': 'french', 'num_matching': 2646},\n",
       " {'_id': 'japanese', 'num_matching': 1423},\n",
       " {'_id': 'brazilian', 'num_matching': 467},\n",
       " {'_id': 'russian', 'num_matching': 489},\n",
       " {'_id': 'moroccan', 'num_matching': 821},\n",
       " {'_id': 'spanish', 'num_matching': 989},\n",
       " {'_id': 'italian', 'num_matching': 7838},\n",
       " {'_id': 'irish', 'num_matching': 667},\n",
       " {'_id': 'korean', 'num_matching': 830},\n",
       " {'_id': 'thai', 'num_matching': 1539},\n",
       " {'_id': 'british', 'num_matching': 804}]"
      ]
     },
     "execution_count": 45,
     "metadata": {},
     "output_type": "execute_result"
    }
   ],
   "source": [
    "pipeline = [\n",
    "    { \n",
    "        \"$group\": {\n",
    "            \"_id\": \"$cuisine\",\n",
    "            \"num_matching\": { \"$sum\": 1 }\n",
    "        }\n",
    "    }\n",
    "]\n",
    "\n",
    "results = db.cooking.aggregate(pipeline)\n",
    "list(results)"
   ]
  },
  {
   "cell_type": "code",
   "execution_count": 39,
   "metadata": {
    "slideshow": {
     "slide_type": "subslide"
    }
   },
   "outputs": [
    {
     "data": {
      "text/plain": [
       "[{'_id': 'salt', 'count': 18049},\n",
       " {'_id': 'olive oil', 'count': 7972},\n",
       " {'_id': 'onions', 'count': 7972},\n",
       " {'_id': 'water', 'count': 7457},\n",
       " {'_id': 'garlic', 'count': 7380},\n",
       " {'_id': 'sugar', 'count': 6434},\n",
       " {'_id': 'garlic cloves', 'count': 6237},\n",
       " {'_id': 'butter', 'count': 4848},\n",
       " {'_id': 'ground black pepper', 'count': 4785},\n",
       " {'_id': 'all-purpose flour', 'count': 4632}]"
      ]
     },
     "execution_count": 39,
     "metadata": {},
     "output_type": "execute_result"
    }
   ],
   "source": [
    "pipeline = [\n",
    "    { \"$unwind\": \"$ingredients\" },\n",
    "    { \n",
    "        \"$group\": {\n",
    "            \"_id\": \"$ingredients\",\n",
    "            \"count\": { \"$sum\": 1 }\n",
    "        }\n",
    "    },\n",
    "    { \"$sort\": {\"count\": -1 }  },\n",
    "    { \"$limit\": 10 }\n",
    "]\n",
    "\n",
    "results = db.cooking.aggregate(pipeline)\n",
    "list(results)"
   ]
  },
  {
   "attachments": {},
   "cell_type": "markdown",
   "metadata": {
    "slideshow": {
     "slide_type": "subslide"
    }
   },
   "source": [
    "`$group` follows the following pattern:\n",
    "\n",
    "```python\n",
    "\"$group\": {\n",
    "            \"_id\": GROUPING_CONDITIONS,\n",
    "            FIELD: ACCUMULATOR\n",
    "        }\n",
    "```\n",
    "\n",
    "You always need an id. It can be a string (to group by a single column), an object where the keys are new names and the values are the fields that your grouping by, or `None`, which groups the entire dataset into a single point."
   ]
  },
  {
   "attachments": {},
   "cell_type": "markdown",
   "metadata": {
    "slideshow": {
     "slide_type": "skip"
    }
   },
   "source": [
    "The `_id` can be an object with multiple values."
   ]
  },
  {
   "cell_type": "code",
   "execution_count": 40,
   "metadata": {
    "slideshow": {
     "slide_type": "skip"
    }
   },
   "outputs": [
    {
     "data": {
      "text/plain": [
       "[{'_id': {'cuisine': 'italian', 'ingredients': 'salt'}, 'num_matching': 3454},\n",
       " {'_id': {'cuisine': 'italian', 'ingredients': 'olive oil'},\n",
       "  'num_matching': 3111},\n",
       " {'_id': {'cuisine': 'mexican', 'ingredients': 'salt'}, 'num_matching': 2720},\n",
       " {'_id': {'cuisine': 'southern_us', 'ingredients': 'salt'},\n",
       "  'num_matching': 2290}]"
      ]
     },
     "execution_count": 40,
     "metadata": {},
     "output_type": "execute_result"
    }
   ],
   "source": [
    "pipeline = [\n",
    "    { \"$unwind\": \"$ingredients\" },\n",
    "    { \n",
    "        \"$group\": {\n",
    "            \"_id\": {\"cuisine\": \"$cuisine\", \"ingredients\": \"$ingredients\"},\n",
    "            \"num_matching\": { \"$sum\": 1 }\n",
    "        }\n",
    "    },\n",
    "    { \"$sort\": {\"num_matching\": -1 }  },\n",
    "    { \"$limit\": 4 }\n",
    "]\n",
    "\n",
    "results = db.cooking.aggregate(pipeline)\n",
    "list(results)"
   ]
  },
  {
   "attachments": {},
   "cell_type": "markdown",
   "metadata": {
    "slideshow": {
     "slide_type": "subslide"
    }
   },
   "source": [
    "## Groupby operators\n",
    "\n",
    "- `$sum`\n",
    "  - Using `{ \"$sum\": 1 }` returns a count, but you can also sum a numeric set of values with `{ \"$sum\": \"$keyName\" }`\n",
    "- `$avg`\n",
    "- `$first`\n",
    "- `$last`\n",
    "- `$min`\n",
    "- `$max`"
   ]
  },
  {
   "attachments": {},
   "cell_type": "markdown",
   "metadata": {
    "slideshow": {
     "slide_type": "skip"
    }
   },
   "source": [
    "# Bonus: MapReduce"
   ]
  },
  {
   "attachments": {},
   "cell_type": "markdown",
   "metadata": {
    "slideshow": {
     "slide_type": "skip"
    }
   },
   "source": [
    "MapReduce is a framework from processing really large datasets, distributed across multiple threads, processes, or machines."
   ]
  },
  {
   "attachments": {},
   "cell_type": "markdown",
   "metadata": {
    "slideshow": {
     "slide_type": "skip"
    }
   },
   "source": [
    "Two parts:\n",
    "\n",
    "*Map*: Split the input into segments, to do something on it.\n",
    "\n",
    "*Reduce*: Simplify the individually processed segments into one output.\n",
    "\n",
    "(reduce is not simply 'combine' as we saw with SAC)"
   ]
  },
  {
   "attachments": {},
   "cell_type": "markdown",
   "metadata": {
    "slideshow": {
     "slide_type": "skip"
    }
   },
   "source": [
    "### Archetypal Example: Counting Words\n",
    "\n",
    "![MapReduce Example](https://github.com/organisciak/Scripting-Course/blob/master/images/mapreduce_example2.png?raw=true)\n",
    "\n",
    "*via http://hci.stanford.edu/courses/cs448g/a2/files/map_reduce_tutorial.pdf*"
   ]
  },
  {
   "attachments": {},
   "cell_type": "markdown",
   "metadata": {
    "slideshow": {
     "slide_type": "skip"
    }
   },
   "source": [
    "Some examples to consider:\n",
    "    \n",
    "- *Sorting*: How would we sort a *reeaaally* big list? e.g. Sort everything on Amazon by price.\n",
    "- *Searching*: How do we determine how much a word shows up in 1 billion web pages?"
   ]
  },
  {
   "attachments": {},
   "cell_type": "markdown",
   "metadata": {
    "slideshow": {
     "slide_type": "skip"
    }
   },
   "source": [
    "MapReduce generally works by simplifying the problem to key-value pairs. "
   ]
  },
  {
   "attachments": {},
   "cell_type": "markdown",
   "metadata": {
    "slideshow": {
     "slide_type": "skip"
    }
   },
   "source": [
    "MongoDB Example, via https://docs.mongodb.com/manual/tutorial/map-reduce-examples/: **Return the Total Price Per Customer**\n",
    "\n",
    "Data structure:\n",
    "```\n",
    "{\n",
    "     cust_id: \"abc123\",\n",
    "     ord_date: new Date(\"Oct 04, 2012\"),\n",
    "     status: 'A',\n",
    "     price: 25,\n",
    "     items: [ { sku: \"mmm\", qty: 5, price: 2.5 },\n",
    "              { sku: \"nnn\", qty: 5, price: 2.5 } ]\n",
    "}\n",
    "```\n",
    "\n",
    "- Map step: return key-value pair of `cust_id: price`\n",
    "- Reduce step: sum all the values for alike keys"
   ]
  },
  {
   "attachments": {},
   "cell_type": "markdown",
   "metadata": {
    "slideshow": {
     "slide_type": "skip"
    }
   },
   "source": [
    "**Calculate Average Quantity Per Item**\n",
    "\n",
    "Data structure:\n",
    "```\n",
    "{\n",
    "     cust_id: \"abc123\",\n",
    "     ord_date: new Date(\"Oct 04, 2012\"),\n",
    "     status: 'A',\n",
    "     price: 25,\n",
    "     items: [ { sku: \"mmm\", qty: 5, price: 2.5 },\n",
    "              { sku: \"nnn\", qty: 5, price: 2.5 } ]\n",
    "}\n",
    "```\n",
    "\n",
    "- Map step: return key value pairs where the key is the 'sku' of each item, and the value is an object of `{count:1, quantity:  X}`\n",
    "- Reduce step: Sum count and quantity for each key\n",
    "- Finalize: Divide quantity/count for an average"
   ]
  }
 ],
 "metadata": {
  "celltoolbar": "Slideshow",
  "kernelspec": {
   "display_name": "Python 3",
   "language": "python",
   "name": "python3"
  },
  "language_info": {
   "codemirror_mode": {
    "name": "ipython",
    "version": 3
   },
   "file_extension": ".py",
   "mimetype": "text/x-python",
   "name": "python",
   "nbconvert_exporter": "python",
   "pygments_lexer": "ipython3",
   "version": "3.13.1"
  }
 },
 "nbformat": 4,
 "nbformat_minor": 2
}
