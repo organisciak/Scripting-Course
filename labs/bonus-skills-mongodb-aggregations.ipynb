{
  "cells": [
    {
      "attachments": {},
      "cell_type": "markdown",
      "metadata": {
        "id": "xpmr2HdHZdUv"
      },
      "source": [
        "# Bonus Lab: MongoDB Aggregations\n",
        "\n",
        "*Reminder - save your work. Go to* File > Save a Copy in Drive *to ensure that you have your work saved.*\n",
        "\n",
        "This week's questions are focused on aggregations in MongoDB. No other review: but keep practicing your SQL or Pandas in the context of your projects!\n",
        "\n",
        "For references, here are the most notable *stages* of the pipeline:\n",
        "\n",
        "- **\\$match**: Select a subset of data (as you can do with 'find')\n",
        "- **\\$sort**: Order data by the values of a certain key\n",
        "- **\\$group**: Group data based on a key - like 'groupby' in Pandas\n",
        "- **\\$limit**: Trim the number of documents in the dataset\n",
        "- **\\$unwind**: Deconstruct an array, so that there is a document for every value of the array\n",
        "\n",
        "## Dataset 1: Foursquare venues\n",
        "\n",
        "We'll be working with a dataset of 50 venues near the University of Denver. The file is [close_venues.json](https://raw.githubusercontent.com/organisciak/Scripting-Course/master/data/close_venues.json). Dr. O has already put it into MongoDB in a database called `week10` and a collection named `foursquare`."
      ]
    },
    {
      "cell_type": "code",
      "execution_count": 1,
      "metadata": {
        "cellView": "form",
        "colab": {
          "base_uri": "https://localhost:8080/"
        },
        "id": "12q149SBgmih",
        "outputId": "71bcb714-7f8b-45fd-f230-3ba65232efbd"
      },
      "outputs": [
        {
          "name": "stdout",
          "output_type": "stream",
          "text": [
            "Collecting dnspython\n",
            "  Downloading dnspython-2.2.1-py3-none-any.whl (269 kB)\n",
            "\u001b[?25l\r\u001b[K     |█▏                              | 10 kB 20.2 MB/s eta 0:00:01\r\u001b[K     |██▍                             | 20 kB 21.4 MB/s eta 0:00:01\r\u001b[K     |███▋                            | 30 kB 10.8 MB/s eta 0:00:01\r\u001b[K     |████▉                           | 40 kB 9.1 MB/s eta 0:00:01\r\u001b[K     |██████                          | 51 kB 4.7 MB/s eta 0:00:01\r\u001b[K     |███████▎                        | 61 kB 5.5 MB/s eta 0:00:01\r\u001b[K     |████████▌                       | 71 kB 5.6 MB/s eta 0:00:01\r\u001b[K     |█████████▊                      | 81 kB 5.7 MB/s eta 0:00:01\r\u001b[K     |███████████                     | 92 kB 6.3 MB/s eta 0:00:01\r\u001b[K     |████████████▏                   | 102 kB 5.3 MB/s eta 0:00:01\r\u001b[K     |█████████████▍                  | 112 kB 5.3 MB/s eta 0:00:01\r\u001b[K     |██████████████▋                 | 122 kB 5.3 MB/s eta 0:00:01\r\u001b[K     |███████████████▉                | 133 kB 5.3 MB/s eta 0:00:01\r\u001b[K     |█████████████████               | 143 kB 5.3 MB/s eta 0:00:01\r\u001b[K     |██████████████████▎             | 153 kB 5.3 MB/s eta 0:00:01\r\u001b[K     |███████████████████▌            | 163 kB 5.3 MB/s eta 0:00:01\r\u001b[K     |████████████████████▊           | 174 kB 5.3 MB/s eta 0:00:01\r\u001b[K     |██████████████████████          | 184 kB 5.3 MB/s eta 0:00:01\r\u001b[K     |███████████████████████▏        | 194 kB 5.3 MB/s eta 0:00:01\r\u001b[K     |████████████████████████▍       | 204 kB 5.3 MB/s eta 0:00:01\r\u001b[K     |█████████████████████████▋      | 215 kB 5.3 MB/s eta 0:00:01\r\u001b[K     |██████████████████████████▉     | 225 kB 5.3 MB/s eta 0:00:01\r\u001b[K     |████████████████████████████    | 235 kB 5.3 MB/s eta 0:00:01\r\u001b[K     |█████████████████████████████▎  | 245 kB 5.3 MB/s eta 0:00:01\r\u001b[K     |██████████████████████████████▍ | 256 kB 5.3 MB/s eta 0:00:01\r\u001b[K     |███████████████████████████████▋| 266 kB 5.3 MB/s eta 0:00:01\r\u001b[K     |████████████████████████████████| 269 kB 5.3 MB/s \n",
            "\u001b[?25hInstalling collected packages: dnspython\n",
            "Successfully installed dnspython-2.2.1\n",
            "Enter your MongoDB password for \"scriptingStudent\":\n",
            "··········\n"
          ]
        }
      ],
      "source": [
        "#@title Connect to a MongoDB database\n",
        "#@markdown This cell connects to a remote MongoDB instance.\n",
        "!pip install dnspython\n",
        "from urllib.parse import quote_plus\n",
        "from pymongo import MongoClient\n",
        "import os\n",
        "from getpass import getpass\n",
        "\n",
        "if os.path.exists('credentials.txt'):\n",
        "    # Allow loading credentials for user, pw, url, one per line\n",
        "    with open('credentials.txt', mode='r') as f:\n",
        "        user, mongopw, cluster_url = [l.strip() for l in f.readlines()]\n",
        "else:\n",
        "    user = \"scriptingStudent\" #@param {type:\"string\"}\n",
        "    cluster_url = \"cluster0-ga5s0.mongodb.net\" #@param {type:\"string\"}\n",
        "    mongopw = getpass('Enter your MongoDB password for \"{}\":\\n'.format(user))\n",
        "    with open('credentials.txt', mode='w') as f:\n",
        "        f.write(\"{}\\n{}\\n{}\".format(user, mongopw, cluster_url))\n",
        "\n",
        "client = MongoClient(\"mongodb+srv://{}:{}@{}/test?retryWrites=true&w=majority\".format(quote_plus(user), quote_plus(mongopw), cluster_url))\n",
        "db = client.week10"
      ]
    },
    {
      "cell_type": "code",
      "execution_count": 2,
      "metadata": {
        "colab": {
          "base_uri": "https://localhost:8080/"
        },
        "id": "4c9fc_oTZdUw",
        "outputId": "508e0847-04fe-4f45-c937-a320d1879886"
      },
      "outputs": [
        {
          "data": {
            "text/plain": [
              "50"
            ]
          },
          "execution_count": 2,
          "metadata": {},
          "output_type": "execute_result"
        }
      ],
      "source": [
        "collection = db.foursquare\n",
        "collection.estimated_document_count()"
      ]
    },
    {
      "attachments": {},
      "cell_type": "markdown",
      "metadata": {
        "id": "uAyMMtflZdU1"
      },
      "source": [
        "**Q1)** What's the venue with a cross-street of 'E Iliff Ave'? Remember that nested object keys can be referred to using `.`, like `key.subkey`. Paste the exact name string for auto-grading (e.g. if it says 'name': 'XYZ', enter *XYZ* as the answer) Tip: crossStreet is within the location object, though not all examples have it. (*6pts*)"
      ]
    },
    {
      "cell_type": "code",
      "execution_count": null,
      "metadata": {
        "cellView": "form",
        "id": "Cl1z1DqzYbQl"
      },
      "outputs": [],
      "source": [
        "q1_answer = \"\" #@param {type:'string'}"
      ]
    },
    {
      "attachments": {},
      "cell_type": "markdown",
      "metadata": {
        "id": "uQa-fyBOane2"
      },
      "source": [
        "**Q2)** Which of these results has recieved the most 'tips'?  (*5pts*)\n",
        "\n",
        "*   A) 'Daniels College of Business'\n",
        "*   B) 'Nelson Hall Dining'\n",
        "*   C) 'Anderson Academic Commons'\n",
        "\n"
      ]
    },
    {
      "cell_type": "code",
      "execution_count": null,
      "metadata": {
        "cellView": "form",
        "id": "Wdu6-EPkdg16"
      },
      "outputs": [],
      "source": [
        "q2_answer = \"A) 'Daniels College of Business'\" #@param [\"A) 'Daniels College of Business'\", \"B) 'Nelson Hall Dining'\", \"C) 'Anderson Academic Commons'\"]\n",
        "variable_name = \"A) 'Daniels College of Business'\""
      ]
    },
    {
      "attachments": {},
      "cell_type": "markdown",
      "metadata": {
        "id": "WNHAv9yXatmu"
      },
      "source": [
        "**Q3)** Write an aggregation pipeline to answer the above question. (*8pts*)"
      ]
    },
    {
      "cell_type": "code",
      "execution_count": null,
      "metadata": {
        "id": "6QL2s_PCdVwQ"
      },
      "outputs": [],
      "source": [
        "# Answer-Q3 (Write your answer here)\n"
      ]
    },
    {
      "attachments": {},
      "cell_type": "markdown",
      "metadata": {
        "id": "dPV79sbvbVex"
      },
      "source": [
        "**Q4)** How much do the following categories show up?  (*5pts*)\n",
        "\n",
        "*   'College Academic Building'\n",
        "*   'Bookstore'\n",
        "*   'College Library'\n",
        "\n"
      ]
    },
    {
      "cell_type": "code",
      "execution_count": null,
      "metadata": {
        "cellView": "form",
        "id": "tVlRwEtkV2Jh"
      },
      "outputs": [],
      "source": [
        "College Academic Building = \"\" #@param {type:\"string\"}"
      ]
    },
    {
      "cell_type": "code",
      "execution_count": null,
      "metadata": {
        "cellView": "form",
        "id": "D28LZWodcolc"
      },
      "outputs": [],
      "source": [
        "Bookstore = \"\" #@param {type:\"string\"}"
      ]
    },
    {
      "cell_type": "code",
      "execution_count": null,
      "metadata": {
        "cellView": "form",
        "id": "hGA4-kxVcoo3"
      },
      "outputs": [],
      "source": [
        "College Library = \"\" #@param {type:\"string\"}"
      ]
    },
    {
      "attachments": {},
      "cell_type": "markdown",
      "metadata": {
        "id": "46K-ijoibWOX"
      },
      "source": [
        "**Q5)** Write an aggregation pipeline to answer the above question.  (*8pts*)"
      ]
    },
    {
      "cell_type": "code",
      "execution_count": null,
      "metadata": {
        "id": "Qv_Et4Z6eIXw"
      },
      "outputs": [],
      "source": [
        "# Answer-Q5 (Write your answer here)\n"
      ]
    },
    {
      "attachments": {},
      "cell_type": "markdown",
      "metadata": {
        "id": "oI8h2vbMbWZ-"
      },
      "source": [
        "**Q6)** What's the average distance for each of these categories, rounding down to the nearest whole number:  (*8pts*)\n",
        "  - Bagel Shop\n",
        "  - College Administrative Building\n",
        "  - College Academic Building"
      ]
    },
    {
      "cell_type": "code",
      "execution_count": null,
      "metadata": {
        "cellView": "form",
        "id": "azI0zj9jeOHO"
      },
      "outputs": [],
      "source": [
        "Bagel Shop = \"\" #@param {type:\"string\"}"
      ]
    },
    {
      "cell_type": "code",
      "execution_count": null,
      "metadata": {
        "cellView": "form",
        "id": "lRo2dISWeOJ7"
      },
      "outputs": [],
      "source": [
        "College Administration Building = \"\" #@param {type:\"string\"}"
      ]
    },
    {
      "cell_type": "code",
      "execution_count": null,
      "metadata": {
        "cellView": "form",
        "id": "835YpB8teOL7"
      },
      "outputs": [],
      "source": [
        "College Academic Building = \"\" #@param {type:\"string\"}"
      ]
    },
    {
      "attachments": {},
      "cell_type": "markdown",
      "metadata": {
        "id": "z_8az2_ZZdU3"
      },
      "source": [
        "## Dataset 2: Recommended Food in Denver\n",
        "\n",
        "Our second dataset has 50 recommended food venues and is in a collection called `popular`. The original data is [popular_venues.json](https://raw.githubusercontent.com/organisciak/Scripting-Course/master/data/popular_venues.json)."
      ]
    },
    {
      "cell_type": "code",
      "execution_count": 29,
      "metadata": {
        "colab": {
          "base_uri": "https://localhost:8080/"
        },
        "id": "Ok6CyLiHrPXV",
        "outputId": "185bb83e-c19f-4753-9dc5-777dd5a44484"
      },
      "outputs": [
        {
          "data": {
            "text/plain": [
              "50"
            ]
          },
          "execution_count": 29,
          "metadata": {},
          "output_type": "execute_result"
        }
      ],
      "source": [
        "popular = db.popular\n",
        "popular.estimated_document_count()"
      ]
    },
    {
      "attachments": {},
      "cell_type": "markdown",
      "metadata": {
        "id": "aj7OskEJZdU7"
      },
      "source": [
        "**Q7)** In this dataset of popular food places, which of the following categories is best represented?  (*7pts*)\n",
        "\n",
        "*   A) 'Breakfast Spot'\n",
        "*   B) 'Sushi Restaurant'\n",
        "*   C) Burger Joint'"
      ]
    },
    {
      "cell_type": "code",
      "execution_count": null,
      "metadata": {
        "cellView": "form",
        "id": "CxVIIBu_hFxQ"
      },
      "outputs": [],
      "source": [
        "q7_answer = \"A) 'Breakfast Spot'\" #@param [\"A) 'Breakfast Spot'\", \"B) 'Sushi Restaurant'\", \"C) 'Burger Joint'\"]\n",
        "variable_name = \"A) 'Daniels College of Business'\""
      ]
    },
    {
      "attachments": {},
      "cell_type": "markdown",
      "metadata": {
        "id": "oleT9oFEgfY1"
      },
      "source": [
        "**Q8** Which restaurant has the highest rating? Paste the exact 'name' string.  (*5pts*)"
      ]
    },
    {
      "cell_type": "code",
      "execution_count": null,
      "metadata": {
        "cellView": "form",
        "id": "GRHIi6FlhipF"
      },
      "outputs": [],
      "source": [
        "q8_answer = \"\" #@param {type:\"string\"}"
      ]
    },
    {
      "attachments": {},
      "cell_type": "markdown",
      "metadata": {
        "id": "HwKvQ1SfgaQv"
      },
      "source": [
        "**Q9)** Which restaurant has the most categories? Paste the name string.  (*5pts*)"
      ]
    },
    {
      "cell_type": "code",
      "execution_count": null,
      "metadata": {
        "cellView": "form",
        "id": "Bg5Yy47MhtpA"
      },
      "outputs": [],
      "source": [
        "q9_answer = \"\" #@param {type:\"string\"}"
      ]
    },
    {
      "attachments": {},
      "cell_type": "markdown",
      "metadata": {
        "id": "cPZE8UNMgVWU"
      },
      "source": [
        "**Q10)** Write the aggregation pipeline to get the above answer.  (*8pts*)"
      ]
    },
    {
      "cell_type": "code",
      "execution_count": null,
      "metadata": {
        "id": "hV8VxaaEhxvR"
      },
      "outputs": [],
      "source": [
        "# Answer-Q10 (Write your answer here)\n"
      ]
    },
    {
      "attachments": {},
      "cell_type": "markdown",
      "metadata": {
        "id": "NTSbg9uNgOvG"
      },
      "source": [
        "**Q11)** Which restaurant has the most tips in this dataset? (Folding tipCounts from restaurants with multiple locations).  (*7pts*)"
      ]
    },
    {
      "cell_type": "code",
      "execution_count": null,
      "metadata": {
        "cellView": "form",
        "id": "7lUKrm6lh0ib"
      },
      "outputs": [],
      "source": [
        "q11_answer = \"\" #@param {type:\"string\"}"
      ]
    },
    {
      "attachments": {},
      "cell_type": "markdown",
      "metadata": {
        "id": "8tRynxE_gMXt"
      },
      "source": [
        "**Q12)** Which 'tip' has the most likes?  (*7pts*)\n",
        "\n",
        "*   A) \"Get the Cricket Burger...\"\n",
        "*   B) \"Voted Best Overall Wine List...\"\n",
        "*   C) \"The Cinco Burger combines the best of...\""
      ]
    },
    {
      "cell_type": "code",
      "execution_count": null,
      "metadata": {
        "cellView": "form",
        "id": "Ps5AdD98gxWN"
      },
      "outputs": [],
      "source": [
        "q12_answer = \"A) \\\"Get the Cricket Burger...\\\"\" #@param [\"A) \\\"Get the Cricket Burger...\\\"\", \"B)Voted Best Overall Wine List\\\"\", \"C) \\\"The Cinco Burger combines the best of...\\\"\"]\n",
        "variable_name = \"A) 'Daniels College of Business'\""
      ]
    },
    {
      "attachments": {},
      "cell_type": "markdown",
      "metadata": {
        "id": "YZlq5qjJgCaX"
      },
      "source": [
        "**Q13)** What's the Male/Female gender split among users providing tips?  (*6pts*)\n",
        "\n",
        "*  A) 50/50\n",
        "*  B) 33/66\n",
        "*  C) 66/33"
      ]
    },
    {
      "cell_type": "code",
      "execution_count": null,
      "metadata": {
        "cellView": "form",
        "id": "bsoL60ePgjzT"
      },
      "outputs": [],
      "source": [
        "q13_answer = \"A) 50/50\" #@param [\"A) 50/50\", \"B) 33/66\", \"C) 66/33\"]\n",
        "variable_name = \"A) 'Daniels College of Business'\""
      ]
    },
    {
      "attachments": {},
      "cell_type": "markdown",
      "metadata": {
        "id": "IGcnatFzf9Iq"
      },
      "source": [
        "**Q14)** Write the code to determine which category of restaurant has the fewest average checkins, focusing only on categories with 3 or more restaurants in this dataset. Tip: the answer to the question is 'Café', with an average of 1258.7 checkins, followed by 'Pizza Place'. (*15pts*)"
      ]
    },
    {
      "cell_type": "code",
      "execution_count": null,
      "metadata": {
        "id": "hdGnUfMqh5Ka"
      },
      "outputs": [],
      "source": [
        "# Answer-Q14 (Write your answer here)\n"
      ]
    },
    {
      "attachments": {},
      "cell_type": "markdown",
      "metadata": {
        "id": "DMeFdL1XVl4y"
      },
      "source": [
        "# Submission Instructions"
      ]
    },
    {
      "cell_type": "code",
      "execution_count": null,
      "metadata": {
        "cellView": "form",
        "id": "4QvQhFVlTyWy"
      },
      "outputs": [],
      "source": [
        "#@markdown ### First, Enter your name for grading\n",
        "my_name = \"\" #@param { type:'string' }\n",
        "\n",
        "#@markdown _Have you saved your work for yourself? Don't forget to Save a Copy in Drive so that you have your progress._"
      ]
    },
    {
      "cell_type": "code",
      "execution_count": null,
      "metadata": {
        "cellView": "form",
        "id": "Q6ku7nibRp4O"
      },
      "outputs": [],
      "source": [
        "#@markdown ### Second, check your work:\n",
        "\n",
        "#@markdown - have you answered all the questions?\n",
        "#@markdown     - Some answers can be checked automatically - just run this cell.\n",
        "#@markdown - Does this notebook run from top to bottom?\n",
        "#@markdown     - Go to \"Runtime > Restart and run all...\" to check. Do all the cells run, to the very bottom, or is there a cell in the middle with an error?\n",
        "#@markdown - Have you completed all the answers where you entered code, keeping the `# Answer-Qx` line at the start of those cells?\n",
        "\n",
        "#@markdown *A lab that the professor has to fix manually will lose 10pts - run the checks!*\n",
        "\n",
        "lab1 = dict(\n",
        "    q1 = dict(entrytype='cell', pts=5),\n",
        "    q2 = dict(entrytype='var', pts=5),\n",
        "    q3 = dict(entrytype='cell', pts=5),\n",
        "    q4a = dict(entrytype='var', pts=5),\n",
        "    q4b = dict(entrytype='var', pts=5),\n",
        "    q4c = dict(entrytype='var', pts=10),\n",
        "    q5 = dict(entrytype='var', pts=5),\n",
        "    q6 = dict(entrytype='cell', pts=5),\n",
        "    q7 = dict(entrytype='cell', pts=5),\n",
        "    q8a = dict(entrytype='var', pts=4),\n",
        "    q8b = dict(entrytype='var', pts=4),\n",
        "    q8c = dict(entrytype='var', pts=4),\n",
        "    q9a = dict(entrytype='var', pts=4),\n",
        "    q9b = dict(entrytype='var', pts=4),\n",
        "    q10 = dict(entrytype='var', pts=8),\n",
        "    q11 = dict(entrytype='var', pts=7),\n",
        "    q12 = dict(entrytype='var', pts=5),\n",
        "    q13 = dict(entrytype='cell', pts=10),\n",
        ")\n",
        "var_qs = [k for k,v in lab1.items() if v['entrytype'] == 'var']\n",
        "for q in var_qs:\n",
        "  qvar = '{}_answer'.format(q) \n",
        "assert(qvar) in globals(), \"I don't see '{}' - did you run the cell where you ran it?\".format(qvar)\n",
        "answer = globals()[qvar]\n",
        "assert answer != \"\", \"{} is blank - did you mean to do that?\".format(qvar)\n",
        "print(\"Good work. The ones that I can pre-check look correct.\")\n",
        "\n",
        "#@markdown ### Finally, submit it\n",
        "\n",
        "#@markdown - Download the file with \"File > Download .ipynb\" and submit it to the Canvas assignment page."
      ]
    }
  ],
  "metadata": {
    "colab": {
      "collapsed_sections": [],
      "include_colab_link": true,
      "name": "10-aggregations.ipynb",
      "provenance": []
    },
    "kernelspec": {
      "display_name": "Python 3",
      "language": "python",
      "name": "python3"
    },
    "language_info": {
      "codemirror_mode": {
        "name": "ipython",
        "version": 3
      },
      "file_extension": ".py",
      "mimetype": "text/x-python",
      "name": "python",
      "nbconvert_exporter": "python",
      "pygments_lexer": "ipython3",
      "version": "3.6.7"
    }
  },
  "nbformat": 4,
  "nbformat_minor": 0
}
