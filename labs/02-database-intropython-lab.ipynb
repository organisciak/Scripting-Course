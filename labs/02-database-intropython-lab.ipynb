{
  "nbformat": 4,
  "nbformat_minor": 0,
  "metadata": {
    "kernelspec": {
      "display_name": "Python 3",
      "language": "python",
      "name": "python3"
    },
    "language_info": {
      "codemirror_mode": {
        "name": "ipython",
        "version": 3
      },
      "file_extension": ".py",
      "mimetype": "text/x-python",
      "name": "python",
      "nbconvert_exporter": "python",
      "pygments_lexer": "ipython3",
      "version": "3.6.8"
    },
    "colab": {
      "name": "02-database-intropython-lab.ipynb",
      "provenance": [],
      "include_colab_link": true
    }
  },
  "cells": [
    {
      "cell_type": "markdown",
      "metadata": {
        "id": "view-in-github",
        "colab_type": "text"
      },
      "source": [
        "<a href=\"https://colab.research.google.com/github/organisciak/Scripting-Course/blob/master/labs/02-database-intropython-lab.ipynb\" target=\"_parent\"><img src=\"https://colab.research.google.com/assets/colab-badge.svg\" alt=\"Open In Colab\"/></a>"
      ]
    },
    {
      "cell_type": "markdown",
      "metadata": {
        "id": "6yVnQAvlTK3y"
      },
      "source": [
        "# Lab Part 1: SQLite\n",
        "\n",
        "*Reminder - save your work. Go to* File > Save a Copy in Drive *to ensure that you have your work saved.*\n",
        "\n",
        "For this portion of the lab, we won't use Python. Instead, we'll work directly with SQLite. Luckily, there's a way that we could still use *Colab*.\n",
        "\n",
        "1. To tell a *Colab* notebook that you'd like to talk to SQLite without using Python, run the following code:"
      ]
    },
    {
      "cell_type": "code",
      "metadata": {
        "id": "WDnj_v2fT1YJ"
      },
      "source": [
        "%load_ext sql\n",
        "%sql sqlite://"
      ],
      "execution_count": null,
      "outputs": []
    },
    {
      "cell_type": "markdown",
      "metadata": {
        "id": "UD-YEQOaUAPp"
      },
      "source": [
        "That activates a special command to connect to SQLite from *Colab*, loads it, and connects to a temporary database.\n",
        "\n",
        "Now, if you have `%%sql` at the start of a code cell, it will run SQL in your connected database.\n",
        "\n",
        "*Tip*: If you want your DB to be save in a file, you can give it a name when you connect, like this: `%sql sqlite:///name.db`."
      ]
    },
    {
      "cell_type": "markdown",
      "metadata": {
        "id": "V50MQKmETK38"
      },
      "source": [
        "## Create a Table, Insert Data, and Select in SQLite"
      ]
    },
    {
      "cell_type": "markdown",
      "metadata": {
        "id": "oK_59Q2bTK39"
      },
      "source": [
        "Here is a small dataset of British cotton workers in 1886, and their average wage:\n",
        "\n",
        "worker | num_workers |\twage\n",
        "-------|---- --------|--------\n",
        "Big piecer |\t5902 |\t233.59\n",
        "Engineman|\t909|\t388.47\n",
        "Foreman\t|2883|\t466.54\n",
        "Grinders|\t1983|\t399.9\n",
        "Labourer|\t208|\t269.73\n",
        "Mechanic|\t669|\t440.82\n",
        "Others\t|2966|\t311.64\n",
        "Sizer\t|597|\t469.62\n",
        "Spinner\t|6951|\t408.97\n",
        "Twister|\t865|\t357.2\n",
        "\n",
        "Let's consider how to put this into a database. \n",
        "\n",
        "First, you need to CREATE TABLE, then INSERT records. To see the records, use SELECT.\n",
        "\n",
        "The following has three commands."
      ]
    },
    {
      "cell_type": "code",
      "metadata": {
        "id": "dC224rJVS4K9",
        "outputId": "837bda88-fd08-4ff8-f6b7-e1367c0655a7",
        "colab": {
          "base_uri": "https://localhost:8080/"
        }
      },
      "source": [
        "%%sql\n",
        "CREATE TABLE worker_wages (role, num_workers, wage);"
      ],
      "execution_count": null,
      "outputs": [
        {
          "output_type": "stream",
          "name": "stdout",
          "text": [
            " * sqlite://\n",
            "Done.\n"
          ]
        },
        {
          "output_type": "execute_result",
          "data": {
            "text/plain": [
              "[]"
            ]
          },
          "metadata": {},
          "execution_count": 2
        }
      ]
    },
    {
      "cell_type": "code",
      "metadata": {
        "id": "8FQmKo-wTK3-",
        "colab": {
          "base_uri": "https://localhost:8080/"
        },
        "outputId": "5bdaad25-c066-4a81-d727-f7d2caa3c8a4"
      },
      "source": [
        "%%sql\n",
        "INSERT INTO worker_wages VALUES\n",
        "    ('Big piecer', 5902, 233.59),\n",
        "    ('Engineman', 909, 388.47),\n",
        "    ('Foreman', 2883, 466.54),\n",
        "    ('Grinders', 1983, 399.9),\n",
        "    ('Labourer', 208, 269.73),\n",
        "    ('Mechanic', 669, 440.82),\n",
        "    ('Others', 2966, 311.64),\n",
        "    ('Sizer', 597, 469.62),\n",
        "    ('Spinner', 6951, 408.97),\n",
        "    ('Twister', 865, 357.2);"
      ],
      "execution_count": null,
      "outputs": [
        {
          "output_type": "stream",
          "name": "stdout",
          "text": [
            " * sqlite://\n",
            "10 rows affected.\n"
          ]
        },
        {
          "output_type": "execute_result",
          "data": {
            "text/plain": [
              "[]"
            ]
          },
          "metadata": {},
          "execution_count": 3
        }
      ]
    },
    {
      "cell_type": "markdown",
      "metadata": {
        "id": "7DhoFOlFTK4U"
      },
      "source": [
        "*Consider the commands above. What happens if you try to run the cell again? What if you change `CREATE TABLE` TO `CREATE TABLE IF NOT EXISTS`? What do you think `LIMIT 2` did in the last command? (we haven't learned it yet!)*\n",
        "\n",
        "*Tip: Have you inserted your data more than once? You can always delete the table and start from the beginning - `DROP TABLE worker_wages;`*\n",
        "\n",
        "*Tip 2: If you get an 'This result object does not return rows' error - don't worry: your query still ran.*\n",
        "\n",
        "---\n",
        "\n",
        "Let's see **all** of our results:"
      ]
    },
    {
      "cell_type": "code",
      "metadata": {
        "scrolled": true,
        "id": "2HjZlqIaTK4W",
        "colab": {
          "base_uri": "https://localhost:8080/",
          "height": 287
        },
        "outputId": "fd55af03-c835-4dd1-fdcd-111d84b9616c"
      },
      "source": [
        "%%sql\n",
        "SELECT * FROM worker_wages;"
      ],
      "execution_count": null,
      "outputs": [
        {
          "output_type": "stream",
          "name": "stdout",
          "text": [
            " * sqlite://\n",
            "Done.\n"
          ]
        },
        {
          "output_type": "execute_result",
          "data": {
            "text/plain": [
              "[('Big piecer', 5902, 233.59),\n",
              " ('Engineman', 909, 388.47),\n",
              " ('Foreman', 2883, 466.54),\n",
              " ('Grinders', 1983, 399.9),\n",
              " ('Labourer', 208, 269.73),\n",
              " ('Mechanic', 669, 440.82),\n",
              " ('Others', 2966, 311.64),\n",
              " ('Sizer', 597, 469.62),\n",
              " ('Spinner', 6951, 408.97),\n",
              " ('Twister', 865, 357.2)]"
            ],
            "text/html": [
              "<table>\n",
              "    <tr>\n",
              "        <th>role</th>\n",
              "        <th>num_workers</th>\n",
              "        <th>wage</th>\n",
              "    </tr>\n",
              "    <tr>\n",
              "        <td>Big piecer</td>\n",
              "        <td>5902</td>\n",
              "        <td>233.59</td>\n",
              "    </tr>\n",
              "    <tr>\n",
              "        <td>Engineman</td>\n",
              "        <td>909</td>\n",
              "        <td>388.47</td>\n",
              "    </tr>\n",
              "    <tr>\n",
              "        <td>Foreman</td>\n",
              "        <td>2883</td>\n",
              "        <td>466.54</td>\n",
              "    </tr>\n",
              "    <tr>\n",
              "        <td>Grinders</td>\n",
              "        <td>1983</td>\n",
              "        <td>399.9</td>\n",
              "    </tr>\n",
              "    <tr>\n",
              "        <td>Labourer</td>\n",
              "        <td>208</td>\n",
              "        <td>269.73</td>\n",
              "    </tr>\n",
              "    <tr>\n",
              "        <td>Mechanic</td>\n",
              "        <td>669</td>\n",
              "        <td>440.82</td>\n",
              "    </tr>\n",
              "    <tr>\n",
              "        <td>Others</td>\n",
              "        <td>2966</td>\n",
              "        <td>311.64</td>\n",
              "    </tr>\n",
              "    <tr>\n",
              "        <td>Sizer</td>\n",
              "        <td>597</td>\n",
              "        <td>469.62</td>\n",
              "    </tr>\n",
              "    <tr>\n",
              "        <td>Spinner</td>\n",
              "        <td>6951</td>\n",
              "        <td>408.97</td>\n",
              "    </tr>\n",
              "    <tr>\n",
              "        <td>Twister</td>\n",
              "        <td>865</td>\n",
              "        <td>357.2</td>\n",
              "    </tr>\n",
              "</table>"
            ]
          },
          "metadata": {},
          "execution_count": 5
        }
      ]
    },
    {
      "cell_type": "markdown",
      "metadata": {
        "id": "92_64v8zTK4d"
      },
      "source": [
        "It's in! Let's look for wages under 350:"
      ]
    },
    {
      "cell_type": "code",
      "metadata": {
        "id": "5AdK6ckTTK4e",
        "colab": {
          "base_uri": "https://localhost:8080/",
          "height": 139
        },
        "outputId": "34a20d5b-6358-4293-d4fd-10ef7d5056ba"
      },
      "source": [
        "%%sql\n",
        "SELECT * FROM worker_wages WHERE wage < 350;"
      ],
      "execution_count": null,
      "outputs": [
        {
          "output_type": "stream",
          "name": "stdout",
          "text": [
            " * sqlite://\n",
            "Done.\n"
          ]
        },
        {
          "output_type": "execute_result",
          "data": {
            "text/plain": [
              "[('Big piecer', 5902, 233.59),\n",
              " ('Labourer', 208, 269.73),\n",
              " ('Others', 2966, 311.64)]"
            ],
            "text/html": [
              "<table>\n",
              "    <tr>\n",
              "        <th>role</th>\n",
              "        <th>num_workers</th>\n",
              "        <th>wage</th>\n",
              "    </tr>\n",
              "    <tr>\n",
              "        <td>Big piecer</td>\n",
              "        <td>5902</td>\n",
              "        <td>233.59</td>\n",
              "    </tr>\n",
              "    <tr>\n",
              "        <td>Labourer</td>\n",
              "        <td>208</td>\n",
              "        <td>269.73</td>\n",
              "    </tr>\n",
              "    <tr>\n",
              "        <td>Others</td>\n",
              "        <td>2966</td>\n",
              "        <td>311.64</td>\n",
              "    </tr>\n",
              "</table>"
            ]
          },
          "metadata": {},
          "execution_count": 6
        }
      ]
    },
    {
      "cell_type": "markdown",
      "metadata": {
        "id": "wQSE8cQATK4n"
      },
      "source": [
        "You can use `AND` to combine `WHERE` clauses. E.g. Workers that number over 1000, which make over 300£. "
      ]
    },
    {
      "cell_type": "code",
      "metadata": {
        "id": "MBYuW-WATK4n",
        "colab": {
          "base_uri": "https://localhost:8080/",
          "height": 160
        },
        "outputId": "0504c305-bc37-4964-eca8-0f1ca0ca0eb0"
      },
      "source": [
        "%%sql\n",
        "SELECT * FROM worker_wages WHERE wage > 300 AND num_workers > 1000;"
      ],
      "execution_count": null,
      "outputs": [
        {
          "output_type": "stream",
          "name": "stdout",
          "text": [
            " * sqlite://\n",
            "Done.\n"
          ]
        },
        {
          "output_type": "execute_result",
          "data": {
            "text/plain": [
              "[('Foreman', 2883, 466.54),\n",
              " ('Grinders', 1983, 399.9),\n",
              " ('Others', 2966, 311.64),\n",
              " ('Spinner', 6951, 408.97)]"
            ],
            "text/html": [
              "<table>\n",
              "    <tr>\n",
              "        <th>role</th>\n",
              "        <th>num_workers</th>\n",
              "        <th>wage</th>\n",
              "    </tr>\n",
              "    <tr>\n",
              "        <td>Foreman</td>\n",
              "        <td>2883</td>\n",
              "        <td>466.54</td>\n",
              "    </tr>\n",
              "    <tr>\n",
              "        <td>Grinders</td>\n",
              "        <td>1983</td>\n",
              "        <td>399.9</td>\n",
              "    </tr>\n",
              "    <tr>\n",
              "        <td>Others</td>\n",
              "        <td>2966</td>\n",
              "        <td>311.64</td>\n",
              "    </tr>\n",
              "    <tr>\n",
              "        <td>Spinner</td>\n",
              "        <td>6951</td>\n",
              "        <td>408.97</td>\n",
              "    </tr>\n",
              "</table>"
            ]
          },
          "metadata": {},
          "execution_count": 7
        }
      ]
    },
    {
      "cell_type": "markdown",
      "metadata": {
        "id": "-SPCaXEyTK4s"
      },
      "source": [
        "One final clause: `DROP TABLE`. If you mess something up, you can always drop the table and start again. Be careful doing this in a real, important database, there is no _UNDO_!\n",
        "\n",
        "Here's how you would run `DROP TABLE`:\n",
        "\n",
        "```sql\n",
        "%%sql\n",
        "DROP TABLE worker_wages;\n",
        "```\n",
        "\n",
        "No need to drop it now, since the next exercise question uses the `worker_wages` question."
      ]
    },
    {
      "cell_type": "markdown",
      "metadata": {
        "id": "09AhTGsvTK4z"
      },
      "source": [
        "## Exercises\n",
        "\n",
        "**Q1**: *(5pts)* Write the SQL to add these two rows to the `worker_wages` table:\n",
        "        \n",
        "| worker | num_workers |\twage |\n",
        "|--------|-------------|-------|\n",
        "|Drawer |\t375|\t328.98|\n",
        "|Warehouseman|\t1586|\t308.73|"
      ]
    },
    {
      "cell_type": "code",
      "metadata": {
        "id": "l7_D5mhjVeJV"
      },
      "source": [
        "# Scratchpad / Workspace"
      ],
      "execution_count": null,
      "outputs": []
    },
    {
      "cell_type": "code",
      "metadata": {
        "id": "e3RlujiIVWxt"
      },
      "source": [
        "# Answer-Q1 (Write your answer here, but keep this line at the top)"
      ],
      "execution_count": null,
      "outputs": []
    },
    {
      "cell_type": "code",
      "metadata": {
        "id": "vAr4Ii31ZXO-",
        "cellView": "form"
      },
      "source": [
        "# Grade check\n",
        "#@markdown *Check your answer*: Run this cell to check if you did Q1 properly\n",
        "sqlresults = %sql SELECT * FROM worker_wages\n",
        "df = sqlresults.DataFrame();\n",
        "for role, num_workers, wage in [('Drawer',  375, 328.98), ('Warehouseman', 1586, 308.73)]:\n",
        "  subset = df[df.role == role]\n",
        "  assert subset.shape[0] > 0, \"I don't see '{}' in the data.\".format(role)\n",
        "  assert subset.shape[0] == 1, ('''I see '{}' more than once. Did you add the\n",
        "  data more than once? (This doesn't affect this question - you probably did\n",
        "   it right, but ran it twice, which is something to look out for. Try\n",
        "   dropping the table and creating it anew).'''.format(role))\n",
        "  assert subset.iloc[-1].num_workers == num_workers, \"Num workers doesn't seem right for {}\".format(role)\n",
        "  assert subset.iloc[-1].wage == wage, \"Num workers doesn't seem right for {}\".format(role)\n",
        "print(\"It works. Good work!\".upper())\n"
      ],
      "execution_count": null,
      "outputs": []
    },
    {
      "cell_type": "markdown",
      "metadata": {
        "id": "d_SKVZVOTK4z"
      },
      "source": [
        "**Q2** *(5pts)*: What's wrong with this SQL?\n",
        "```sql\n",
        "    INSERT INTO worker_wages VALUES (Weaver, 8577, 273.97);\n",
        "```"
      ]
    },
    {
      "cell_type": "code",
      "metadata": {
        "id": "tVlRwEtkV2Jh",
        "cellView": "form"
      },
      "source": [
        "q2_answer = \"\" #@param {type:\"string\"}"
      ],
      "execution_count": null,
      "outputs": []
    },
    {
      "cell_type": "markdown",
      "metadata": {
        "id": "Gvcko-4RTK40"
      },
      "source": [
        "Consider the following dataset, of people's heights and weights, as well as their reported heights and weights:\n",
        "\n",
        "![](https://github.com/organisciak/Scripting-Course/blob/master/images/week2-heights.png?raw=1)"
      ]
    },
    {
      "cell_type": "markdown",
      "metadata": {
        "id": "4GS6qQ-aTK41"
      },
      "source": [
        "- __Q3__ *(5pts)*: What's the SQL to create the table for this dataset? Include appropriate data types for the columns and call it 'heights'."
      ]
    },
    {
      "cell_type": "code",
      "metadata": {
        "id": "Cl1z1DqzYbQl"
      },
      "source": [
        "# Answer-Q3 (Write your answer here)\n"
      ],
      "execution_count": null,
      "outputs": []
    },
    {
      "cell_type": "markdown",
      "metadata": {
        "id": "Q5tdJhAaYOCN"
      },
      "source": [
        "- **Q4**: To answer each of the following questions, fill in the blanks:\n",
        "\n",
        "```sql\n",
        "    SELECT * FROM heights\n",
        "    WHERE {{ blank }}\n",
        "```\n",
        "\n",
        "How would you select:"
      ]
    },
    {
      "cell_type": "code",
      "metadata": {
        "id": "eC_e4raDVatS",
        "cellView": "form"
      },
      "source": [
        "#@markdown - **Q4a**: *(5pts)* The men that say they're taller than 100cm?\n",
        "q4a_answer = \"\" #@param {type:'string'}\n",
        "#@markdown - **Q4b**: *(5pts)* The people that say they're taller than they are?\n",
        "q4b_answer = \"\" #@param {type:'string'}\n",
        "#@markdown - **Q4c**: *(10pts)* The women that overestimate their weight and underestimate their height?\n",
        "q4c_answer = \"\" #@param {type:'string'}"
      ],
      "execution_count": null,
      "outputs": []
    },
    {
      "cell_type": "code",
      "metadata": {
        "id": "Cv0dlyZbUUyg",
        "colab": {
          "base_uri": "https://localhost:8080/",
          "height": 35
        },
        "cellView": "form",
        "outputId": "4b1b8f66-c86a-44a8-c3b6-69c085a4291b"
      },
      "source": [
        "#@markdown Tips:\n",
        "#@markdown - Don't know how to combine conditions in a `WHERE` clause? It was introduced before the exercises, go back to check!\n",
        "#@markdown - Think about what is being compared in the where clause. How many comparisons are needed, connected by an 'AND'? What operators are needed to make those comparisons? What value or variable goes on each side of the operator.\n",
        "#@markdown - If you want to test it, you can add a few dummy rows, or run this \n",
        "#@markdown cell, which will download the table and insert it into a `heights` table.\n",
        "from sqlalchemy import create_engine\n",
        "import pandas as pd\n",
        "import os\n",
        "if not os.path.exists('week1.db'):\n",
        "    data = pd.read_csv('https://raw.githubusercontent.com/vincentarelbundock/Rdatasets/master/csv/carData/Davis.csv')\n",
        "    engine = create_engine('sqlite:///week1.db')\n",
        "    data.to_sql('heights', engine, index=False)\n",
        "    %sql sqlite:///week1.db"
      ],
      "execution_count": null,
      "outputs": [
        {
          "output_type": "execute_result",
          "data": {
            "application/vnd.google.colaboratory.intrinsic+json": {
              "type": "string"
            },
            "text/plain": [
              "'Connected: @week1.db'"
            ]
          },
          "metadata": {
            "tags": []
          },
          "execution_count": 27
        }
      ]
    },
    {
      "cell_type": "markdown",
      "metadata": {
        "id": "Kr-X38rXTK4-"
      },
      "source": [
        "**Q5** *(5pts)*: Describe in regular English what the following query does:\n",
        "\n",
        "```sql\n",
        "SELECT author,book FROM books\n",
        "    WHERE release_year > 2000\n",
        "        AND sales > 100000\n",
        "        AND author != 'J.K. Rowling'\n",
        "```"
      ]
    },
    {
      "cell_type": "code",
      "metadata": {
        "id": "QHikTN1anR-7",
        "cellView": "form"
      },
      "source": [
        "q5_answer = \"\" #@param {type:\"string\"}"
      ],
      "execution_count": null,
      "outputs": []
    },
    {
      "cell_type": "markdown",
      "metadata": {
        "id": "5NQZFDPOTK5B"
      },
      "source": [
        "# Part 2: More Python\n",
        "\n",
        "Today, we're working on more Python basics, as we build toward more our SciPy stack of data science tools."
      ]
    },
    {
      "cell_type": "markdown",
      "metadata": {
        "id": "IZveWYtsTK5H"
      },
      "source": [
        "## Loops\n",
        "\n",
        "Recall the `list` type, created like this:"
      ]
    },
    {
      "cell_type": "code",
      "metadata": {
        "id": "uOPmIJewTK5I"
      },
      "source": [
        "fruits = ['apple', 'banana', 'strawberry', 'mango']"
      ],
      "execution_count": null,
      "outputs": []
    },
    {
      "cell_type": "markdown",
      "metadata": {
        "id": "0hEOBvjFTK5M"
      },
      "source": [
        "If we wanted to run through each value of the list, we can use a `for` loop.\n",
        "\n",
        "```python\n",
        "for value in list:\n",
        "    do_something\n",
        "```\n",
        "\n",
        "For example:"
      ]
    },
    {
      "cell_type": "code",
      "metadata": {
        "id": "V4cip1tFTK5N",
        "colab": {
          "base_uri": "https://localhost:8080/"
        },
        "outputId": "fddf57fd-7ad2-42b3-f53d-5653ad67ad66"
      },
      "source": [
        "for fruit in fruits:\n",
        "    print(fruit)"
      ],
      "execution_count": null,
      "outputs": [
        {
          "output_type": "stream",
          "name": "stdout",
          "text": [
            "apple\n",
            "banana\n",
            "strawberry\n",
            "mango\n"
          ]
        }
      ]
    },
    {
      "cell_type": "markdown",
      "metadata": {
        "id": "aiUIrTziTK5Q"
      },
      "source": [
        "A number of things happened here. Note:\n",
        "\n",
        "- The `for` loop runs four times: once for each value of the `fruits` list.\n",
        "- At the start of each time the loop is run, a new value of `fruits` is assigned to the temporary variable `fruit`. Essentially, the code above is running the following commands:\n",
        "\n",
        "```python\n",
        "fruit = 'apple'\n",
        "print(fruit)\n",
        "fruit = 'banana'\n",
        "print(fruit)\n",
        "fruit = 'strawberry'\n",
        "print(fruit)\n",
        "fruit = 'mango'\n",
        "print(fruit)\n",
        "```\n",
        "\n",
        "- `print(...)` will print any variable to the screen.\n",
        "- We use indentation to show that `print(fruit)` is part of the `for` loop. Python will run through all the indented code before moving on. See:"
      ]
    },
    {
      "cell_type": "code",
      "metadata": {
        "id": "LJk2LmIzTK5R",
        "colab": {
          "base_uri": "https://localhost:8080/"
        },
        "outputId": "e91ea608-8211-41ad-8a08-0b585bdd4454"
      },
      "source": [
        "for fruit in fruits:\n",
        "    print(fruit)\n",
        "\n",
        "print('this prints after the loop')"
      ],
      "execution_count": null,
      "outputs": [
        {
          "output_type": "stream",
          "name": "stdout",
          "text": [
            "apple\n",
            "banana\n",
            "strawberry\n",
            "mango\n",
            "this prints after the loop\n"
          ]
        }
      ]
    },
    {
      "cell_type": "markdown",
      "metadata": {
        "id": "xr6amo_1TK5V"
      },
      "source": [
        "- There can be multiple lines inside the loop:"
      ]
    },
    {
      "cell_type": "code",
      "metadata": {
        "id": "aG0T0P7nTK5W",
        "colab": {
          "base_uri": "https://localhost:8080/"
        },
        "outputId": "2667b2f2-75d3-4e61-c981-9a951a5a43f3"
      },
      "source": [
        "for word in ['hello', 'world']:\n",
        "    x = word.capitalize()\n",
        "    print(x)"
      ],
      "execution_count": null,
      "outputs": [
        {
          "output_type": "stream",
          "name": "stdout",
          "text": [
            "Hello\n",
            "World\n"
          ]
        }
      ]
    },
    {
      "cell_type": "markdown",
      "metadata": {
        "id": "aq9rE0TBTK5i"
      },
      "source": [
        "## New Data Type: boolean\n",
        "\n",
        "The boolean type is simply a `True` or `False` value. Like integers and floating point numbers, you don't need to put quotation marks around `True` or `False`."
      ]
    },
    {
      "cell_type": "code",
      "metadata": {
        "id": "mi0d8FqsTK5j",
        "colab": {
          "base_uri": "https://localhost:8080/"
        },
        "outputId": "f9bcd70b-958f-4a4d-a023-58255fab0e45"
      },
      "source": [
        "newtype = True\n",
        "newtype"
      ],
      "execution_count": null,
      "outputs": [
        {
          "output_type": "execute_result",
          "data": {
            "text/plain": [
              "True"
            ]
          },
          "metadata": {},
          "execution_count": 19
        }
      ]
    },
    {
      "cell_type": "code",
      "metadata": {
        "id": "u4M1_V3xTK5q",
        "colab": {
          "base_uri": "https://localhost:8080/"
        },
        "outputId": "007325ab-d6fc-4b17-e74a-0b05994962c5"
      },
      "source": [
        "newtype = False\n",
        "newtype"
      ],
      "execution_count": null,
      "outputs": [
        {
          "output_type": "execute_result",
          "data": {
            "text/plain": [
              "False"
            ]
          },
          "metadata": {},
          "execution_count": 20
        }
      ]
    },
    {
      "cell_type": "markdown",
      "metadata": {
        "id": "hCA6aEbVTK5y"
      },
      "source": [
        "## Comparisons\n",
        "\n",
        "There are a set of symbols that are used to compare two values. Usually, these return a boolean value: if the comparison statement is `True` or `False`. These are _logical operators_.\n",
        "\n",
        "The most basic operator is for equality, the `==` sign. For example:"
      ]
    },
    {
      "cell_type": "code",
      "metadata": {
        "id": "NlcyWXSQTK5z",
        "colab": {
          "base_uri": "https://localhost:8080/"
        },
        "outputId": "dc840ce4-b75c-4f2f-c054-eb7250524ce8"
      },
      "source": [
        "1 == 1"
      ],
      "execution_count": null,
      "outputs": [
        {
          "output_type": "execute_result",
          "data": {
            "text/plain": [
              "True"
            ]
          },
          "metadata": {},
          "execution_count": 21
        }
      ]
    },
    {
      "cell_type": "code",
      "metadata": {
        "id": "-ipbTwCZTK56",
        "colab": {
          "base_uri": "https://localhost:8080/"
        },
        "outputId": "6a2dccee-7997-41d8-eb99-53a5d22a5583"
      },
      "source": [
        "'hello' == 'hello'"
      ],
      "execution_count": null,
      "outputs": [
        {
          "output_type": "execute_result",
          "data": {
            "text/plain": [
              "True"
            ]
          },
          "metadata": {},
          "execution_count": 22
        }
      ]
    },
    {
      "cell_type": "code",
      "metadata": {
        "id": "k-EitVNGTK6Q",
        "colab": {
          "base_uri": "https://localhost:8080/"
        },
        "outputId": "6ceaac97-fac3-4c3a-d4b3-0f62b37909ae"
      },
      "source": [
        "'hello' == 'world'"
      ],
      "execution_count": null,
      "outputs": [
        {
          "output_type": "execute_result",
          "data": {
            "text/plain": [
              "False"
            ]
          },
          "metadata": {},
          "execution_count": 23
        }
      ]
    },
    {
      "cell_type": "code",
      "metadata": {
        "id": "JPvP3TKMTK6T",
        "colab": {
          "base_uri": "https://localhost:8080/"
        },
        "outputId": "e0874706-274a-4a23-efb8-a58e3d332211"
      },
      "source": [
        "[1, 2, 3] == [1, 2, 3]"
      ],
      "execution_count": null,
      "outputs": [
        {
          "output_type": "execute_result",
          "data": {
            "text/plain": [
              "True"
            ]
          },
          "metadata": {},
          "execution_count": 24
        }
      ]
    },
    {
      "cell_type": "markdown",
      "metadata": {
        "id": "2ywAY8yPTK6a"
      },
      "source": [
        "Other logical operators include:\n",
        "\n",
        "- `!=` - Not equal\n",
        "- `<` - Less than\n",
        "- `>` - Greater than\n",
        "- `<=` - Less than or equal to\n",
        "- `>=` - Greater than or equal to\n",
        "\n",
        "Each of these is used the same as the equality operator. "
      ]
    },
    {
      "cell_type": "markdown",
      "metadata": {
        "id": "FyR4-H9MTK6a"
      },
      "source": [
        "__Q6__: *(5pts)* Write a loop that prints the numbers from 1 to 5."
      ]
    },
    {
      "cell_type": "code",
      "metadata": {
        "id": "kNzDqKT88G2H"
      },
      "source": [
        "# Answer-Q6 (write your answer here)\n"
      ],
      "execution_count": null,
      "outputs": []
    },
    {
      "cell_type": "markdown",
      "metadata": {
        "id": "8VEuXFQ97_wc"
      },
      "source": [
        "**Q7**: *(5pts)* Set a variable `x` to 0, then write a loop to add the following numbers to it: 1,1,2,3,5,8,13,21. This one can be tricky - I've started it for you."
      ]
    },
    {
      "cell_type": "code",
      "metadata": {
        "id": "LZrndKhx8RPI"
      },
      "source": [
        "# Answer-Q7 (write your answer here)\n",
        "x = 0\n",
        "numbers_to_add = [1,1,2,3,5,8,13,21]"
      ],
      "execution_count": null,
      "outputs": []
    },
    {
      "cell_type": "code",
      "metadata": {
        "id": "C7kpXAVA8bX-",
        "cellView": "form"
      },
      "source": [
        "#@markdown *Run this to check your **Q7** work*\n",
        "assert (x != 0), \"The final value of x is 0. You didn't add anything to it!\"\n",
        "assert (x != 21), \"The final value of x is 21 (the last number) - that means you're not adding to x each loop.\"\n",
        "assert type(x) is int, \"x should be a number, but your response is type: {}\".format(type(x))\n",
        "assert (x == 54), \"x should be 54, you have {}\".format(x)\n",
        "print(\"It works, Good work!\".upper())"
      ],
      "execution_count": null,
      "outputs": []
    },
    {
      "cell_type": "code",
      "metadata": {
        "id": "GPIfEIJq-NV2",
        "cellView": "form"
      },
      "source": [
        "#@markdown __Q8__: True or False\n",
        "#@markdown - __a__: *(4pts)* \"hello\"+\"world\" == \"hello world\"\n",
        "#@markdown - __b__: *(4pts)* 2 != 3\n",
        "#@markdown - __c__: *(4pts)* 'a' < 'b'\n",
        "\n",
        "q8a_answer = \"\" #@param [\"\", \"True\", \"False\"]\n",
        "q8b_answer = \"\" #@param [\"\", \"True\", \"False\"]\n",
        "q8c_answer = \"\" #@param [\"\", \"True\", \"False\"]\n",
        "for answer in [q8a_answer, q8b_answer, q8c_answer]:\n",
        "  assert (answer != \"\"), \"You have blank answers\""
      ],
      "execution_count": null,
      "outputs": []
    },
    {
      "cell_type": "code",
      "metadata": {
        "id": "opPCMfq4_jKm",
        "cellView": "form"
      },
      "source": [
        "#@markdown __Q9a__: *(4pts)* In Python, are `1` (an integer) and `'1'` (a string) equivalent?\n",
        "#@markdown  - __b__: *(4pts)* What about `1` and `1.0`?\n",
        "q9a_answer = \"\" #@param [\"\", \"Yes\", \"No\"]\n",
        "q9b_answer = \"\" #@param [\"\", \"Yes\", \"No\"]\n",
        "for answer in [q9a_answer, q9b_answer]:\n",
        "  assert (answer != \"\"), \"You have blank answers\""
      ],
      "execution_count": null,
      "outputs": []
    },
    {
      "cell_type": "markdown",
      "metadata": {
        "id": "CVuIXi8kTK6c"
      },
      "source": [
        "\n",
        " \n",
        "__Q10__: *(8pts)* Functionally, what is the difference between the following two code blocks?\n",
        "\n",
        "_Code A_\n",
        "```\n",
        "s = 'hello world'\n",
        "s == 'hello moon'\n",
        "```\n",
        "\n",
        "_Code B_\n",
        "```\n",
        "s = 'hello world'\n",
        "s = 'hello moon'\n",
        "```"
      ]
    },
    {
      "cell_type": "code",
      "metadata": {
        "id": "o9yxix4sAqOt",
        "cellView": "form"
      },
      "source": [
        "q10_answer = \"\" #@param {type:\"string\"}\n",
        "assert q10_answer != \"\", \"Your answer is blank\""
      ],
      "execution_count": null,
      "outputs": []
    },
    {
      "cell_type": "code",
      "metadata": {
        "id": "TFyPcGWNAu9z",
        "cellView": "form"
      },
      "source": [
        "#@markdown __Q11__: *(7pts)* True or False: A list cannot have another list inside it.\n",
        "q11_answer = \"\" #@param [\"\", \"True\", \"False\"]\n",
        "assert q11_answer != \"\", \"Your answer is blank\""
      ],
      "execution_count": null,
      "outputs": []
    },
    {
      "cell_type": "markdown",
      "metadata": {
        "id": "zrFuwqSxTK6j"
      },
      "source": [
        "## Colab\n",
        "\n",
        "Hopefully by this week, you are growing more comfortable with starting Notebooks and adding/editing cells. Remember that the keyboard shortcuts are invaluable: running a cell with `Ctrl+Enter`, or adding a new cell below with `Ctrl+M B` (in command mode).\n",
        "\n",
        "Two tricks to try this week: autocompletion and retrieving documentation.\n",
        "\n",
        "**Autocomplete**\n",
        "\n",
        "If you start typing a known object or function into Colab, you can pause for a moment and it will show all the options - then you can press `TAB` or `ENTER` to finish it. This is especially useful for seeing what functions are available."
      ]
    },
    {
      "cell_type": "code",
      "metadata": {
        "id": "aLJ4cJ9kTK6k"
      },
      "source": [
        "test = \"this is a string\""
      ],
      "execution_count": null,
      "outputs": []
    },
    {
      "cell_type": "markdown",
      "metadata": {
        "id": "6WBoeQjpTK6r"
      },
      "source": [
        "Above, I've set a string to `test`. If I type `te` on a new line, pause very briefly, then press tab, it will complete the word. This is especially useful for long variable names that you don't want to keep typing. If there are multiple candidates for auto-completion, it will show a scrollable list of options.\n",
        "\n",
        "The `test` variable is a string. To see what options there are for acting upon a string, try typing `test.` (with the period) then pausing for autocomplete. Magic!\n",
        "\n",
        "![Auto-fill](https://github.com/organisciak/Scripting-Course/blob/master/images/autofill.png?raw=1)\n",
        "\n",
        "**Documentation reference**\n",
        "\n",
        "If you want to look up information about a function, you can precede the code running that function with a `?`. For example, if I want to learn how I would use `split()` on `test`, I can type:"
      ]
    },
    {
      "cell_type": "code",
      "metadata": {
        "id": "dslJnA4yTK6r"
      },
      "source": [
        "?test.split"
      ],
      "execution_count": 15,
      "outputs": []
    },
    {
      "cell_type": "markdown",
      "metadata": {
        "id": "RugXWchETK6v"
      },
      "source": [
        "This will open a panel that looks like this in Colab:\n",
        "\n",
        "![Info](https://github.com/organisciak/Scripting-Course/blob/master/images/info.png?raw=1)\n",
        "\n",
        "The documentation is only as good as what the library is documented, so some libraries might be more or less detailed in this feature."
      ]
    },
    {
      "cell_type": "code",
      "metadata": {
        "id": "unCOCHwvQCdy",
        "cellView": "form"
      },
      "source": [
        "#@markdown - **Q12**: *(5pts)* What does `test.isalpha()` do? Fill in the blank: \"Return True if {{   }}, False otherwise.\"\n",
        "\n",
        "q12_answer = \"\" #@param {type: 'string'}"
      ],
      "execution_count": null,
      "outputs": []
    },
    {
      "cell_type": "markdown",
      "metadata": {
        "id": "WYTqoGFhPslN"
      },
      "source": [
        "- **Q13**: *(10pts)* Strings have access to a function (whose name starts with a `ce`) that will let you change \"HEADING\" to \"====HEADING====\" (that is, padding with `=` to make the string 15 characters wide). What's the code to do that? (tip: this is an auto-fill question!)"
      ]
    },
    {
      "cell_type": "code",
      "metadata": {
        "id": "9oazuMVqQ7LA"
      },
      "source": [
        "# Answer-Q13\n"
      ],
      "execution_count": null,
      "outputs": []
    },
    {
      "cell_type": "markdown",
      "metadata": {
        "id": "idY7GWtITK6w"
      },
      "source": [
        "## Summary\n",
        "\n",
        "- SQLite\n",
        "    - Connecting to a simple database, via notebook (without Python) or command line\n",
        "- SQL\n",
        "    - `CREATE TABLE`\n",
        "    - `DROP TABLE`\n",
        "    - `SELECT`\n",
        "    - `INSERT`\n",
        "    - `WHERE` clause\n",
        "- Python\n",
        "    - Logical Operators\n",
        "        - `==`, `!=`, `<`, `<=`, `>`, `>=`\n",
        "    - `for` loops on arrays\n",
        "    - `print()`\n",
        "    - Tab indentation\n",
        "    - boolean datatype: `True`, `False`\n",
        "- Jupyter\n",
        "    - Auto-complete\n",
        "    - Documentation lookup"
      ]
    },
    {
      "cell_type": "markdown",
      "metadata": {
        "id": "DMeFdL1XVl4y"
      },
      "source": [
        "# Submission Instructions"
      ]
    },
    {
      "cell_type": "code",
      "metadata": {
        "id": "4QvQhFVlTyWy",
        "cellView": "form"
      },
      "source": [
        "#@markdown ### First, Enter your name for grading\n",
        "my_name = \"\" #@param { type:'string' }\n",
        "\n",
        "#@markdown _Have you saved your work for yourself? Don't forget to Save a Copy in Drive so that you have your progress._"
      ],
      "execution_count": null,
      "outputs": []
    },
    {
      "cell_type": "code",
      "metadata": {
        "id": "Q6ku7nibRp4O",
        "cellView": "form"
      },
      "source": [
        "#@markdown ### Second, check your work:\n",
        "\n",
        "#@markdown - have you answered all the questions?\n",
        "#@markdown - Does this notebook run from top to bottom?\n",
        "#@markdown     - Go to \"Runtime > Restart and run all...\" to check. Do all the cells run, to the very bottom, or is there a cell in the middle with an error?\n",
        "#@markdown - Have you completed all the answers where you entered code, keeping the `# Answer-Qx` line at the start of those cells?\n",
        "\n",
        "#@markdown *A lab that the professor has to fix manually will lose 10pts - run the checks!*"
      ],
      "execution_count": null,
      "outputs": []
    }
  ]
}