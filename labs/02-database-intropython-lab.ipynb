{
  "cells": [
    {
      "cell_type": "markdown",
      "metadata": {
        "colab_type": "text",
        "id": "view-in-github"
      },
      "source": [
        "<a href=\"https://colab.research.google.com/github/organisciak/Scripting-Course/blob/master/labs/02-database-intropython-lab.ipynb\" target=\"_parent\"><img src=\"https://colab.research.google.com/assets/colab-badge.svg\" alt=\"Open In Colab\"/></a>"
      ]
    },
    {
      "cell_type": "markdown",
      "metadata": {
        "id": "qNJCvJIzKZCL"
      },
      "source": [
        "## Week 2 Lab:\n",
        "\n",
        "By the end of this lab, you should be able to:\n",
        "\n",
        "- Create and manipulate tables in SQLite\n",
        "- Write basic SQL queries with WHERE clauses\n",
        "- Work with Python for loops and logical operators\n",
        "- Use Jupyter/Colab features like autocomplete and documentation lookup\n",
        "\n",
        "These skills build directly on our classroom discussion and prepare you for working with larger datasets in future weeks.\n",
        "\n",
        "\n",
        "***Reminder - save your work. Go to [File] > [Save a Copy in Drive] and work with the copy to ensure that you have your work saved.***"
      ]
    },
    {
      "cell_type": "markdown",
      "metadata": {
        "id": "6yVnQAvlTK3y"
      },
      "source": [
        "# Lab Part 1: SQLite\n",
        "\n",
        "In this section, we're working with an in-memory SQLite database. Unlike production databases that run on separate servers, SQLite is embedded directly in our notebook and stores the database in memory (or in a single file if specified). This makes it perfect for learning and small projects without needing to set up server infrastructure.\n",
        "\n",
        "For this portion of the lab, we won't use Python. Instead, we'll work directly with SQLite. Luckily, there's a way that we could still use *Colab*.\n",
        "\n",
        "1. To tell a *Colab* notebook that you'd like to talk to SQLite without using Python, run the following code:"
      ]
    },
    {
      "cell_type": "code",
      "execution_count": 1,
      "metadata": {
        "id": "WDnj_v2fT1YJ"
      },
      "outputs": [],
      "source": [
        "# this fixes a bug, can ignore the line for now\n",
        "!pip install -qq 'prettytable<3.12'\n",
        "\n",
        "# This loads a special tool that lets us use SQLite in Colab\n",
        "%load_ext sql\n",
        "\n",
        "# This connects to a new database\n",
        "%sql sqlite://"
      ]
    },
    {
      "cell_type": "markdown",
      "metadata": {
        "id": "UD-YEQOaUAPp"
      },
      "source": [
        "That activates a special command to connect to SQLite from *Colab*, loads it, and connects to a temporary database.\n",
        "\n",
        "Now, if you have `%%sql` at the start of a code cell, it will run SQL in your connected database.\n",
        "\n",
        "*Tip*: If you want your DB to be save in a file, you can give it a name when you connect, like this: `%sql sqlite:///name.db`."
      ]
    },
    {
      "cell_type": "markdown",
      "metadata": {
        "id": "V50MQKmETK38"
      },
      "source": [
        "## Create a Table, Insert Data, and Select in SQLite"
      ]
    },
    {
      "cell_type": "markdown",
      "metadata": {
        "id": "oK_59Q2bTK39"
      },
      "source": [
        "Here is a small dataset of British cotton workers in 1886, and their average wage:\n",
        "\n",
        "worker | num_workers |\twage\n",
        "-------|---- --------|--------\n",
        "Big piecer |\t5902 |\t233.59\n",
        "Engineman|\t909|\t388.47\n",
        "Foreman\t|2883|\t466.54\n",
        "Grinders|\t1983|\t399.9\n",
        "Labourer|\t208|\t269.73\n",
        "Mechanic|\t669|\t440.82\n",
        "Others\t|2966|\t311.64\n",
        "Sizer\t|597|\t469.62\n",
        "Spinner\t|6951|\t408.97\n",
        "Twister|\t865|\t357.2\n",
        "\n",
        "Let's consider how to put this into a database.\n",
        "\n",
        "First, you need to CREATE TABLE, then INSERT records. To see the records, use SELECT.\n",
        "\n",
        "The following has three commands."
      ]
    },
    {
      "cell_type": "code",
      "execution_count": 2,
      "metadata": {
        "colab": {
          "base_uri": "https://localhost:8080/"
        },
        "id": "dC224rJVS4K9",
        "outputId": "983560dc-2385-4821-8646-eef0ebb241f4"
      },
      "outputs": [
        {
          "name": "stdout",
          "output_type": "stream",
          "text": [
            " * sqlite://\n",
            "Done.\n"
          ]
        },
        {
          "data": {
            "text/plain": [
              "[]"
            ]
          },
          "execution_count": 2,
          "metadata": {},
          "output_type": "execute_result"
        }
      ],
      "source": [
        "%%sql\n",
        "CREATE TABLE worker_wages (role, num_workers, wage);"
      ]
    },
    {
      "cell_type": "code",
      "execution_count": 4,
      "metadata": {
        "colab": {
          "base_uri": "https://localhost:8080/"
        },
        "id": "8FQmKo-wTK3-",
        "outputId": "bbc9b1e8-6d6e-4f72-dcb6-8806f7ed2bbc"
      },
      "outputs": [
        {
          "name": "stdout",
          "output_type": "stream",
          "text": [
            " * sqlite://\n",
            "10 rows affected.\n"
          ]
        },
        {
          "data": {
            "text/plain": [
              "[]"
            ]
          },
          "execution_count": 4,
          "metadata": {},
          "output_type": "execute_result"
        }
      ],
      "source": [
        "%%sql\n",
        "INSERT INTO worker_wages VALUES\n",
        "    ('Big piecer', 5902, 233.59),\n",
        "    ('Engineman', 909, 388.47),\n",
        "    ('Foreman', 2883, 466.54),\n",
        "    ('Grinders', 1983, 399.9),\n",
        "    ('Labourer', 208, 269.73),\n",
        "    ('Mechanic', 669, 440.82),\n",
        "    ('Others', 2966, 311.64),\n",
        "    ('Sizer', 597, 469.62),\n",
        "    ('Spinner', 6951, 408.97),\n",
        "    ('Twister', 865, 357.2);"
      ]
    },
    {
      "cell_type": "markdown",
      "metadata": {
        "id": "7DhoFOlFTK4U"
      },
      "source": [
        "*Consider the commands above. What happens if you try to run the cell again? What if you change `CREATE TABLE` TO `CREATE TABLE IF NOT EXISTS`?*\n",
        "\n",
        "*Tip: Have you inserted your data more than once? You can always delete the table and start from the beginning - `DROP TABLE worker_wages;`*\n",
        "\n",
        "*Tip 2: If you get an 'This result object does not return rows' error - don't worry: your query still ran.*\n",
        "\n",
        "---\n",
        "\n",
        "Let's see **all** of our results:"
      ]
    },
    {
      "cell_type": "code",
      "execution_count": 5,
      "metadata": {
        "colab": {
          "base_uri": "https://localhost:8080/",
          "height": 289
        },
        "id": "2HjZlqIaTK4W",
        "outputId": "6fddbca3-577b-4a98-bd05-44584551e400",
        "scrolled": true
      },
      "outputs": [
        {
          "name": "stdout",
          "output_type": "stream",
          "text": [
            " * sqlite://\n",
            "Done.\n"
          ]
        },
        {
          "data": {
            "text/html": [
              "<table>\n",
              "    <thead>\n",
              "        <tr>\n",
              "            <th>role</th>\n",
              "            <th>num_workers</th>\n",
              "            <th>wage</th>\n",
              "        </tr>\n",
              "    </thead>\n",
              "    <tbody>\n",
              "        <tr>\n",
              "            <td>Big piecer</td>\n",
              "            <td>5902</td>\n",
              "            <td>233.59</td>\n",
              "        </tr>\n",
              "        <tr>\n",
              "            <td>Engineman</td>\n",
              "            <td>909</td>\n",
              "            <td>388.47</td>\n",
              "        </tr>\n",
              "        <tr>\n",
              "            <td>Foreman</td>\n",
              "            <td>2883</td>\n",
              "            <td>466.54</td>\n",
              "        </tr>\n",
              "        <tr>\n",
              "            <td>Grinders</td>\n",
              "            <td>1983</td>\n",
              "            <td>399.9</td>\n",
              "        </tr>\n",
              "        <tr>\n",
              "            <td>Labourer</td>\n",
              "            <td>208</td>\n",
              "            <td>269.73</td>\n",
              "        </tr>\n",
              "        <tr>\n",
              "            <td>Mechanic</td>\n",
              "            <td>669</td>\n",
              "            <td>440.82</td>\n",
              "        </tr>\n",
              "        <tr>\n",
              "            <td>Others</td>\n",
              "            <td>2966</td>\n",
              "            <td>311.64</td>\n",
              "        </tr>\n",
              "        <tr>\n",
              "            <td>Sizer</td>\n",
              "            <td>597</td>\n",
              "            <td>469.62</td>\n",
              "        </tr>\n",
              "        <tr>\n",
              "            <td>Spinner</td>\n",
              "            <td>6951</td>\n",
              "            <td>408.97</td>\n",
              "        </tr>\n",
              "        <tr>\n",
              "            <td>Twister</td>\n",
              "            <td>865</td>\n",
              "            <td>357.2</td>\n",
              "        </tr>\n",
              "    </tbody>\n",
              "</table>"
            ],
            "text/plain": [
              "[('Big piecer', 5902, 233.59),\n",
              " ('Engineman', 909, 388.47),\n",
              " ('Foreman', 2883, 466.54),\n",
              " ('Grinders', 1983, 399.9),\n",
              " ('Labourer', 208, 269.73),\n",
              " ('Mechanic', 669, 440.82),\n",
              " ('Others', 2966, 311.64),\n",
              " ('Sizer', 597, 469.62),\n",
              " ('Spinner', 6951, 408.97),\n",
              " ('Twister', 865, 357.2)]"
            ]
          },
          "execution_count": 5,
          "metadata": {},
          "output_type": "execute_result"
        }
      ],
      "source": [
        "%%sql\n",
        "SELECT * FROM worker_wages;"
      ]
    },
    {
      "cell_type": "markdown",
      "metadata": {
        "id": "92_64v8zTK4d"
      },
      "source": [
        "It's in! Let's look for wages under 350:"
      ]
    },
    {
      "cell_type": "code",
      "execution_count": 6,
      "metadata": {
        "colab": {
          "base_uri": "https://localhost:8080/",
          "height": 139
        },
        "id": "5AdK6ckTTK4e",
        "outputId": "ac3c176d-7e7e-48a2-c690-b1c9e668b3c7"
      },
      "outputs": [
        {
          "name": "stdout",
          "output_type": "stream",
          "text": [
            " * sqlite://\n",
            "Done.\n"
          ]
        },
        {
          "data": {
            "text/html": [
              "<table>\n",
              "    <thead>\n",
              "        <tr>\n",
              "            <th>role</th>\n",
              "            <th>num_workers</th>\n",
              "            <th>wage</th>\n",
              "        </tr>\n",
              "    </thead>\n",
              "    <tbody>\n",
              "        <tr>\n",
              "            <td>Big piecer</td>\n",
              "            <td>5902</td>\n",
              "            <td>233.59</td>\n",
              "        </tr>\n",
              "        <tr>\n",
              "            <td>Labourer</td>\n",
              "            <td>208</td>\n",
              "            <td>269.73</td>\n",
              "        </tr>\n",
              "        <tr>\n",
              "            <td>Others</td>\n",
              "            <td>2966</td>\n",
              "            <td>311.64</td>\n",
              "        </tr>\n",
              "    </tbody>\n",
              "</table>"
            ],
            "text/plain": [
              "[('Big piecer', 5902, 233.59),\n",
              " ('Labourer', 208, 269.73),\n",
              " ('Others', 2966, 311.64)]"
            ]
          },
          "execution_count": 6,
          "metadata": {},
          "output_type": "execute_result"
        }
      ],
      "source": [
        "%%sql\n",
        "SELECT * FROM worker_wages WHERE wage < 350;"
      ]
    },
    {
      "cell_type": "markdown",
      "metadata": {
        "id": "wQSE8cQATK4n"
      },
      "source": [
        "You can use `AND` to combine `WHERE` clauses. E.g. Workers that number over 1000, which make over 300£."
      ]
    },
    {
      "cell_type": "code",
      "execution_count": 7,
      "metadata": {
        "colab": {
          "base_uri": "https://localhost:8080/",
          "height": 161
        },
        "id": "MBYuW-WATK4n",
        "outputId": "216e9732-40f5-4829-a93e-f48b5df5677d"
      },
      "outputs": [
        {
          "name": "stdout",
          "output_type": "stream",
          "text": [
            " * sqlite://\n",
            "Done.\n"
          ]
        },
        {
          "data": {
            "text/html": [
              "<table>\n",
              "    <thead>\n",
              "        <tr>\n",
              "            <th>role</th>\n",
              "            <th>num_workers</th>\n",
              "            <th>wage</th>\n",
              "        </tr>\n",
              "    </thead>\n",
              "    <tbody>\n",
              "        <tr>\n",
              "            <td>Foreman</td>\n",
              "            <td>2883</td>\n",
              "            <td>466.54</td>\n",
              "        </tr>\n",
              "        <tr>\n",
              "            <td>Grinders</td>\n",
              "            <td>1983</td>\n",
              "            <td>399.9</td>\n",
              "        </tr>\n",
              "        <tr>\n",
              "            <td>Others</td>\n",
              "            <td>2966</td>\n",
              "            <td>311.64</td>\n",
              "        </tr>\n",
              "        <tr>\n",
              "            <td>Spinner</td>\n",
              "            <td>6951</td>\n",
              "            <td>408.97</td>\n",
              "        </tr>\n",
              "    </tbody>\n",
              "</table>"
            ],
            "text/plain": [
              "[('Foreman', 2883, 466.54),\n",
              " ('Grinders', 1983, 399.9),\n",
              " ('Others', 2966, 311.64),\n",
              " ('Spinner', 6951, 408.97)]"
            ]
          },
          "execution_count": 7,
          "metadata": {},
          "output_type": "execute_result"
        }
      ],
      "source": [
        "%%sql\n",
        "SELECT * FROM worker_wages WHERE wage > 300 AND num_workers > 1000;"
      ]
    },
    {
      "cell_type": "markdown",
      "metadata": {
        "id": "-SPCaXEyTK4s"
      },
      "source": [
        "One final clause: `DROP TABLE`. If you mess something up, you can always drop the table and start again. Be careful doing this in a real, important database, there is no _UNDO_!\n",
        "\n",
        "Here's how you would run `DROP TABLE`:\n",
        "\n",
        "```sql\n",
        "%%sql\n",
        "DROP TABLE worker_wages;\n",
        "```\n",
        "\n",
        "No need to drop it now, since the next exercise question uses the `worker_wages` question."
      ]
    },
    {
      "cell_type": "markdown",
      "metadata": {
        "id": "09AhTGsvTK4z"
      },
      "source": [
        "## Exercises\n",
        "\n",
        "**Q1**: *(5pts)* Write the SQL to add these two rows to the `worker_wages` table. Your code should use the proper SQL INSERT syntax we discussed in class:\n",
        "        \n",
        "| worker | num_workers |\twage |\n",
        "|--------|-------------|-------|\n",
        "|Drawer |\t375|\t328.98|\n",
        "|Warehouseman|\t1586|\t308.73|"
      ]
    },
    {
      "cell_type": "code",
      "execution_count": null,
      "metadata": {
        "id": "l7_D5mhjVeJV"
      },
      "outputs": [],
      "source": [
        "# Scratchpad / Workspace"
      ]
    },
    {
      "cell_type": "code",
      "execution_count": null,
      "metadata": {
        "id": "e3RlujiIVWxt"
      },
      "outputs": [],
      "source": [
        "# Answer-Q1 (Write your answer here, but keep this line at the top)"
      ]
    },
    {
      "cell_type": "code",
      "execution_count": null,
      "metadata": {
        "cellView": "form",
        "id": "vAr4Ii31ZXO-"
      },
      "outputs": [],
      "source": [
        "# Grade check\n",
        "#@markdown *Check your answer*: Run this cell to check if you did Q1 properly\n",
        "sqlresults = %sql SELECT * FROM worker_wages\n",
        "df = sqlresults.DataFrame();\n",
        "for role, num_workers, wage in [('Drawer',  375, 328.98), ('Warehouseman', 1586, 308.73)]:\n",
        "  subset = df[df.role == role]\n",
        "  assert subset.shape[0] > 0, \"I don't see '{}' in the data.\".format(role)\n",
        "  assert subset.shape[0] == 1, ('''I see '{}' more than once. Did you add the\n",
        "  data more than once? (This doesn't affect this question - you probably did\n",
        "   it right, but ran it twice, which is something to look out for. Try\n",
        "   dropping the table and creating it anew).'''.format(role))\n",
        "  assert subset.iloc[-1].num_workers == num_workers, \"Num workers doesn't seem right for {}\".format(role)\n",
        "  assert subset.iloc[-1].wage == wage, \"Num workers doesn't seem right for {}\".format(role)\n",
        "print(\"It works. Good work!\".upper())\n"
      ]
    },
    {
      "cell_type": "markdown",
      "metadata": {
        "id": "d_SKVZVOTK4z"
      },
      "source": [
        "**Q2** *(5pts)*: What's wrong with this SQL? Be specific about the error and explain how to correct it:\n",
        "```sql\n",
        "    INSERT INTO worker_wages VALUES (Weaver, 8577, 273.97);\n",
        "```"
      ]
    },
    {
      "cell_type": "code",
      "execution_count": null,
      "metadata": {
        "cellView": "form",
        "id": "tVlRwEtkV2Jh"
      },
      "outputs": [],
      "source": [
        "q2_answer = \"\" #@param {type:\"string\"}"
      ]
    },
    {
      "cell_type": "markdown",
      "metadata": {
        "id": "Gvcko-4RTK40"
      },
      "source": [
        "Consider the following dataset, of people's heights and weights, as well as their reported heights and weights:\n",
        "\n",
        "![](https://github.com/organisciak/Scripting-Course/blob/master/images/week2-heights.png?raw=1)\n",
        "\n",
        "- id: Unique identifier for each person\n",
        "- sex: Only two values seen: 'M' and 'F'\n",
        "- weight: Actual weight in kg\n",
        "- height: Actual height in cm\n",
        "- repwt: Self-reported weight in kg\n",
        "- repht: Self-reported height in cm\n",
        "\n",
        "This dataset allows us to compare actual measurements with self-reported values."
      ]
    },
    {
      "cell_type": "markdown",
      "metadata": {
        "id": "4GS6qQ-aTK41"
      },
      "source": [
        "- __Q3__ *(5pts)*: What's the SQL to create the table for this dataset? Include appropriate data types for the columns and call it 'heights'. No need to `INSERT` the data, just `CREATE TABLE`"
      ]
    },
    {
      "cell_type": "code",
      "execution_count": null,
      "metadata": {
        "id": "Cl1z1DqzYbQl"
      },
      "outputs": [],
      "source": [
        "# Answer-Q3 (Write your answer here)\n"
      ]
    },
    {
      "cell_type": "markdown",
      "metadata": {
        "id": "Q5tdJhAaYOCN"
      },
      "source": [
        "- **Q4**: To answer each of the following questions, fill in the blanks:\n",
        "\n",
        "```sql\n",
        "    SELECT * FROM heights\n",
        "    WHERE {{ blank }}\n",
        "```\n",
        "\n",
        "How would you select:"
      ]
    },
    {
      "cell_type": "code",
      "execution_count": null,
      "metadata": {
        "cellView": "form",
        "id": "eC_e4raDVatS"
      },
      "outputs": [],
      "source": [
        "#@markdown - **Q4a**: *(5pts)* The men that say they're taller than 100cm?\n",
        "q4a_answer = \"\" #@param {type:'string'}\n",
        "#@markdown - **Q4b**: *(5pts)* The people that say they're taller than they are?\n",
        "q4b_answer = \"\" #@param {type:'string'}\n",
        "#@markdown - **Q4c**: *(10pts)* The women that overestimate their weight and underestimate their height?\n",
        "q4c_answer = \"\" #@param {type:'string'}"
      ]
    },
    {
      "cell_type": "code",
      "execution_count": null,
      "metadata": {
        "cellView": "form",
        "colab": {
          "base_uri": "https://localhost:8080/",
          "height": 35
        },
        "id": "Cv0dlyZbUUyg",
        "outputId": "4b1b8f66-c86a-44a8-c3b6-69c085a4291b"
      },
      "outputs": [
        {
          "data": {
            "application/vnd.google.colaboratory.intrinsic+json": {
              "type": "string"
            },
            "text/plain": [
              "'Connected: @week1.db'"
            ]
          },
          "execution_count": 27,
          "metadata": {
            "tags": []
          },
          "output_type": "execute_result"
        }
      ],
      "source": [
        "#@markdown Tips:\n",
        "#@markdown - Don't know how to combine conditions in a `WHERE` clause? It was introduced before the exercises, go back to check!\n",
        "#@markdown - Think about what is being compared in the where clause. How many comparisons are needed, connected by an 'AND'? What operators are needed to make those comparisons? What value or variable goes on each side of the operator.\n",
        "#@markdown - If you want to test it, you can add a few dummy rows, or run this\n",
        "#@markdown cell, which will download the table and insert it into a `heights` table.\n",
        "from sqlalchemy import create_engine\n",
        "import pandas as pd\n",
        "import os\n",
        "if not os.path.exists('week1.db'):\n",
        "    data = pd.read_csv('https://raw.githubusercontent.com/vincentarelbundock/Rdatasets/master/csv/carData/Davis.csv')\n",
        "    engine = create_engine('sqlite:///week1.db')\n",
        "    data.to_sql('heights', engine, index=False)\n",
        "    %sql sqlite:///week1.db"
      ]
    },
    {
      "cell_type": "markdown",
      "metadata": {
        "id": "Kr-X38rXTK4-"
      },
      "source": [
        "**Q5** *(5pts)*: Describe in regular English what the following query does:\n",
        "\n",
        "```sql\n",
        "SELECT author,book FROM books\n",
        "    WHERE release_year > 2000\n",
        "        AND sales > 100000\n",
        "        AND author != 'J.K. Rowling'\n",
        "```"
      ]
    },
    {
      "cell_type": "code",
      "execution_count": null,
      "metadata": {
        "cellView": "form",
        "id": "QHikTN1anR-7"
      },
      "outputs": [],
      "source": [
        "q5_answer = \"\" #@param {type:\"string\"}"
      ]
    },
    {
      "cell_type": "markdown",
      "metadata": {
        "id": "5NQZFDPOTK5B"
      },
      "source": [
        "# Part 2: More Python\n",
        "\n",
        "Today, we're working on more Python basics, as we build toward more our SciPy stack of data science tools."
      ]
    },
    {
      "cell_type": "markdown",
      "metadata": {
        "id": "IZveWYtsTK5H"
      },
      "source": [
        "## Loops\n",
        "\n",
        "Recall the `list` type, created like this:"
      ]
    },
    {
      "cell_type": "code",
      "execution_count": null,
      "metadata": {
        "id": "uOPmIJewTK5I"
      },
      "outputs": [],
      "source": [
        "fruits = ['apple', 'banana', 'strawberry', 'mango']"
      ]
    },
    {
      "cell_type": "markdown",
      "metadata": {
        "id": "0hEOBvjFTK5M"
      },
      "source": [
        "If we wanted to run through each value of the list, we can use a `for` loop.\n",
        "\n",
        "```python\n",
        "for value in list:\n",
        "    do_something\n",
        "```\n",
        "\n",
        "For example:"
      ]
    },
    {
      "cell_type": "code",
      "execution_count": null,
      "metadata": {
        "colab": {
          "base_uri": "https://localhost:8080/"
        },
        "id": "V4cip1tFTK5N",
        "outputId": "fddf57fd-7ad2-42b3-f53d-5653ad67ad66"
      },
      "outputs": [
        {
          "name": "stdout",
          "output_type": "stream",
          "text": [
            "apple\n",
            "banana\n",
            "strawberry\n",
            "mango\n"
          ]
        }
      ],
      "source": [
        "for fruit in fruits:\n",
        "    print(fruit)"
      ]
    },
    {
      "cell_type": "markdown",
      "metadata": {
        "id": "KnLBohmEMJfh"
      },
      "source": [
        "A number of things happened here. Note:\n",
        "\n",
        "- The `for` loop runs four times: once for each value of the `fruits` list.\n",
        "- At the start of each time the loop is run, a new value of `fruits` is assigned to the temporary variable `fruit`. Essentially, the code above is running the following commands:\n",
        "- `print(...)` will print any variable to the screen.\n",
        "\n",
        "When Python executes a for loop like `for fruit in fruits`, it processes each item sequentially:\n",
        "\n",
        "```\n",
        "First iteration:  fruit = 'apple'      → run indented code\n",
        "Second iteration: fruit = 'banana'     → run indented code\n",
        "Third iteration:  fruit = 'strawberry' → run indented code\n",
        "Fourth iteration: fruit = 'mango'      → run indented code\n",
        "```\n",
        "                \n",
        "The variable name (fruit) can be any name you choose - it's just a temporary container for each item.\n",
        "\n",
        "i.e.\n",
        "\n",
        "```python\n",
        "fruit = 'apple'\n",
        "print(fruit)\n",
        "fruit = 'banana'\n",
        "print(fruit)\n",
        "fruit = 'strawberry'\n",
        "print(fruit)\n",
        "fruit = 'mango'\n",
        "print(fruit)\n",
        "```"
      ]
    },
    {
      "cell_type": "markdown",
      "metadata": {
        "id": "aiUIrTziTK5Q"
      },
      "source": [
        "We use indentation to show that `print(fruit)` is part of the `for` loop. Python will run through all the indented code before moving on. See how the unindented line doesn't print until the loop goes through every item in `fruits`."
      ]
    },
    {
      "cell_type": "code",
      "execution_count": null,
      "metadata": {
        "colab": {
          "base_uri": "https://localhost:8080/"
        },
        "id": "LJk2LmIzTK5R",
        "outputId": "e91ea608-8211-41ad-8a08-0b585bdd4454"
      },
      "outputs": [
        {
          "name": "stdout",
          "output_type": "stream",
          "text": [
            "apple\n",
            "banana\n",
            "strawberry\n",
            "mango\n",
            "this prints after the loop\n"
          ]
        }
      ],
      "source": [
        "for fruit in fruits:\n",
        "    print(fruit)\n",
        "\n",
        "print('this prints after the loop')"
      ]
    },
    {
      "cell_type": "markdown",
      "metadata": {
        "id": "xr6amo_1TK5V"
      },
      "source": [
        "- There can be multiple lines inside the loop:"
      ]
    },
    {
      "cell_type": "code",
      "execution_count": null,
      "metadata": {
        "colab": {
          "base_uri": "https://localhost:8080/"
        },
        "id": "aG0T0P7nTK5W",
        "outputId": "2667b2f2-75d3-4e61-c981-9a951a5a43f3"
      },
      "outputs": [
        {
          "name": "stdout",
          "output_type": "stream",
          "text": [
            "Hello\n",
            "World\n"
          ]
        }
      ],
      "source": [
        "for word in ['hello', 'world']:\n",
        "    x = word.capitalize()\n",
        "    print(x)"
      ]
    },
    {
      "cell_type": "markdown",
      "metadata": {
        "id": "aq9rE0TBTK5i"
      },
      "source": [
        "## New Data Type: boolean\n",
        "\n",
        "The boolean type is simply a `True` or `False` value. Like integers and floating point numbers, you don't need to put quotation marks around `True` or `False`."
      ]
    },
    {
      "cell_type": "code",
      "execution_count": null,
      "metadata": {
        "colab": {
          "base_uri": "https://localhost:8080/"
        },
        "id": "mi0d8FqsTK5j",
        "outputId": "f9bcd70b-958f-4a4d-a023-58255fab0e45"
      },
      "outputs": [
        {
          "data": {
            "text/plain": [
              "True"
            ]
          },
          "execution_count": 19,
          "metadata": {},
          "output_type": "execute_result"
        }
      ],
      "source": [
        "newtype = True\n",
        "newtype"
      ]
    },
    {
      "cell_type": "code",
      "execution_count": null,
      "metadata": {
        "colab": {
          "base_uri": "https://localhost:8080/"
        },
        "id": "u4M1_V3xTK5q",
        "outputId": "007325ab-d6fc-4b17-e74a-0b05994962c5"
      },
      "outputs": [
        {
          "data": {
            "text/plain": [
              "False"
            ]
          },
          "execution_count": 20,
          "metadata": {},
          "output_type": "execute_result"
        }
      ],
      "source": [
        "newtype = False\n",
        "newtype"
      ]
    },
    {
      "cell_type": "markdown",
      "metadata": {
        "id": "hCA6aEbVTK5y"
      },
      "source": [
        "## Comparisons\n",
        "\n",
        "There are a set of symbols that are used to compare two values. Usually, these return a boolean value: if the comparison statement is `True` or `False`. These are _logical operators_.\n",
        "\n",
        "The most basic operator is for equality, the `==` sign. For example:"
      ]
    },
    {
      "cell_type": "code",
      "execution_count": null,
      "metadata": {
        "colab": {
          "base_uri": "https://localhost:8080/"
        },
        "id": "NlcyWXSQTK5z",
        "outputId": "dc840ce4-b75c-4f2f-c054-eb7250524ce8"
      },
      "outputs": [
        {
          "data": {
            "text/plain": [
              "True"
            ]
          },
          "execution_count": 21,
          "metadata": {},
          "output_type": "execute_result"
        }
      ],
      "source": [
        "1 == 1"
      ]
    },
    {
      "cell_type": "code",
      "execution_count": null,
      "metadata": {
        "colab": {
          "base_uri": "https://localhost:8080/"
        },
        "id": "-ipbTwCZTK56",
        "outputId": "6a2dccee-7997-41d8-eb99-53a5d22a5583"
      },
      "outputs": [
        {
          "data": {
            "text/plain": [
              "True"
            ]
          },
          "execution_count": 22,
          "metadata": {},
          "output_type": "execute_result"
        }
      ],
      "source": [
        "'hello' == 'hello'"
      ]
    },
    {
      "cell_type": "code",
      "execution_count": null,
      "metadata": {
        "colab": {
          "base_uri": "https://localhost:8080/"
        },
        "id": "k-EitVNGTK6Q",
        "outputId": "6ceaac97-fac3-4c3a-d4b3-0f62b37909ae"
      },
      "outputs": [
        {
          "data": {
            "text/plain": [
              "False"
            ]
          },
          "execution_count": 23,
          "metadata": {},
          "output_type": "execute_result"
        }
      ],
      "source": [
        "'hello' == 'world'"
      ]
    },
    {
      "cell_type": "code",
      "execution_count": null,
      "metadata": {
        "colab": {
          "base_uri": "https://localhost:8080/"
        },
        "id": "JPvP3TKMTK6T",
        "outputId": "e0874706-274a-4a23-efb8-a58e3d332211"
      },
      "outputs": [
        {
          "data": {
            "text/plain": [
              "True"
            ]
          },
          "execution_count": 24,
          "metadata": {},
          "output_type": "execute_result"
        }
      ],
      "source": [
        "[1, 2, 3] == [1, 2, 3]"
      ]
    },
    {
      "cell_type": "markdown",
      "metadata": {
        "id": "2ywAY8yPTK6a"
      },
      "source": [
        "Other logical operators include:\n",
        "\n",
        "- `!=` - Not equal\n",
        "- `<` - Less than\n",
        "- `>` - Greater than\n",
        "- `<=` - Less than or equal to\n",
        "- `>=` - Greater than or equal to\n",
        "\n",
        "Each of these is used the same as the equality operator."
      ]
    },
    {
      "cell_type": "markdown",
      "metadata": {
        "id": "FyR4-H9MTK6a"
      },
      "source": [
        "__Q6__: *(5pts)* Write a loop that prints the numbers from 1 to 5."
      ]
    },
    {
      "cell_type": "code",
      "execution_count": null,
      "metadata": {
        "id": "kNzDqKT88G2H"
      },
      "outputs": [],
      "source": [
        "# Answer-Q6 (write your answer here)\n"
      ]
    },
    {
      "cell_type": "markdown",
      "metadata": {
        "id": "8VEuXFQ97_wc"
      },
      "source": [
        "**Q7**: *(5pts)* Set a variable `x` to 0, then write a loop to add the following numbers to it: 1,1,2,3,5,8,13,21. This one can be tricky - I've started it for you."
      ]
    },
    {
      "cell_type": "code",
      "execution_count": null,
      "metadata": {
        "id": "LZrndKhx8RPI"
      },
      "outputs": [],
      "source": [
        "# Answer-Q7 (write your answer here)\n",
        "x = 0\n",
        "numbers_to_add = [1,1,2,3,5,8,13,21]"
      ]
    },
    {
      "cell_type": "markdown",
      "metadata": {
        "id": "wjtdxwvxM625"
      },
      "source": [
        "Hint: You can overwrite a variable, like `x`. Just because you set it to zero doesn't mean you can't set it to another value.\n",
        "\n",
        "Hint 2: Everything on the right side of an equal sign is always resolved before being assigned to the variable name on the left side."
      ]
    },
    {
      "cell_type": "code",
      "execution_count": null,
      "metadata": {
        "cellView": "form",
        "id": "C7kpXAVA8bX-"
      },
      "outputs": [],
      "source": [
        "#@markdown *Run this to check your **Q7** work*\n",
        "assert (x != 0), \"The final value of x is 0. You didn't add anything to it!\"\n",
        "assert (x != 21), \"The final value of x is 21 (the last number) - that means you're not adding to x each loop.\"\n",
        "assert type(x) is int, \"x should be a number, but your response is type: {}\".format(type(x))\n",
        "assert (x == 54), \"x should be 54, you have {}\".format(x)\n",
        "print(\"It works, Good work!\".upper())"
      ]
    },
    {
      "cell_type": "markdown",
      "metadata": {
        "id": "mfl6VOpZNv88"
      },
      "source": [
        "When answering Q8, try running the following experiments in separate code cells to test each expression - no need to guess!"
      ]
    },
    {
      "cell_type": "code",
      "execution_count": null,
      "metadata": {
        "cellView": "form",
        "id": "GPIfEIJq-NV2"
      },
      "outputs": [],
      "source": [
        "#@markdown __Q8__: True or False\n",
        "#@markdown - __a__: *(4pts)* \"hello\"+\"world\" == \"hello world\"\n",
        "#@markdown - __b__: *(4pts)* 2 != 3\n",
        "#@markdown - __c__: *(4pts)* 'a' < 'b'\n",
        "\n",
        "q8a_answer = \"\" #@param [\"\", \"True\", \"False\"]\n",
        "q8b_answer = \"\" #@param [\"\", \"True\", \"False\"]\n",
        "q8c_answer = \"\" #@param [\"\", \"True\", \"False\"]\n",
        "for answer in [q8a_answer, q8b_answer, q8c_answer]:\n",
        "  assert (answer != \"\"), \"You have blank answers\""
      ]
    },
    {
      "cell_type": "code",
      "execution_count": null,
      "metadata": {
        "cellView": "form",
        "id": "opPCMfq4_jKm"
      },
      "outputs": [],
      "source": [
        "#@markdown __Q9a__: *(4pts)* In Python, are `1` (an integer) and `'1'` (a string) equivalent?\n",
        "#@markdown  - __b__: *(4pts)* What about `1` and `1.0`?\n",
        "q9a_answer = \"\" #@param [\"\", \"Yes\", \"No\"]\n",
        "q9b_answer = \"\" #@param [\"\", \"Yes\", \"No\"]\n",
        "for answer in [q9a_answer, q9b_answer]:\n",
        "  assert (answer != \"\"), \"You have blank answers\""
      ]
    },
    {
      "cell_type": "markdown",
      "metadata": {
        "id": "CVuIXi8kTK6c"
      },
      "source": [
        "\n",
        "\n",
        "__Q10__: *(8pts)* Functionally, what is the difference between the following two code blocks?\n",
        "\n",
        "_Code A_\n",
        "```\n",
        "s = 'hello world'\n",
        "s == 'hello moon'\n",
        "```\n",
        "\n",
        "_Code B_\n",
        "```\n",
        "s = 'hello world'\n",
        "s = 'hello moon'\n",
        "```"
      ]
    },
    {
      "cell_type": "code",
      "execution_count": null,
      "metadata": {
        "cellView": "form",
        "id": "o9yxix4sAqOt"
      },
      "outputs": [],
      "source": [
        "q10_answer = \"\" #@param {type:\"string\"}\n",
        "assert q10_answer != \"\", \"Your answer is blank\""
      ]
    },
    {
      "cell_type": "code",
      "execution_count": null,
      "metadata": {
        "cellView": "form",
        "id": "TFyPcGWNAu9z"
      },
      "outputs": [],
      "source": [
        "#@markdown __Q11__: *(7pts)* True or False: A list cannot have another list inside it.\n",
        "q11_answer = \"\" #@param [\"\", \"True\", \"False\"]\n",
        "assert q11_answer != \"\", \"Your answer is blank\""
      ]
    },
    {
      "cell_type": "markdown",
      "metadata": {
        "id": "zrFuwqSxTK6j"
      },
      "source": [
        "## Colab\n",
        "\n",
        "Hopefully by this week, you are growing more comfortable with starting Notebooks and adding/editing cells. Remember that the keyboard shortcuts are invaluable: running a cell with `Ctrl+Enter`, or adding a new cell below with `Ctrl+M B` (or just the letter `b`, if you're in command mode).\n",
        "\n",
        "Two tricks to try this week: autocompletion and retrieving documentation.\n",
        "\n",
        "**Autocomplete**\n",
        "\n",
        "Auto-completion is a powerful feature that will save you time and help you discover available functions:\n",
        "\n",
        "Type the first few letters of a variable or function name\n",
        "Press Tab to complete it (or to see available options)\n",
        "If multiple options appear, use arrow keys to navigate\n",
        "To see all methods available for an object, type the variable name followed by a period (e.g., test.) and press Tab\n",
        "Practice this skill now - it will dramatically improve your coding efficiency!"
      ]
    },
    {
      "cell_type": "code",
      "execution_count": 9,
      "metadata": {
        "colab": {
          "base_uri": "https://localhost:8080/",
          "height": 35
        },
        "id": "aLJ4cJ9kTK6k",
        "outputId": "cc26993e-4439-4b34-cd33-5b3925df9d24"
      },
      "outputs": [
        {
          "data": {
            "application/vnd.google.colaboratory.intrinsic+json": {
              "type": "string"
            },
            "text/plain": [
              "'This is a string'"
            ]
          },
          "execution_count": 9,
          "metadata": {},
          "output_type": "execute_result"
        }
      ],
      "source": [
        "test = \"this is a string\""
      ]
    },
    {
      "cell_type": "markdown",
      "metadata": {
        "id": "Kmw2xZjJObRS"
      },
      "source": [
        "Above, I've set a string to `test`. If I type `te` on a new line, pause very briefly, then press tab, it will complete the word.\n",
        "\n",
        "Try it yourself on the blank line below.\n",
        "\n",
        "(Not working? Remember that you have to run the `text =...` cell above first to actually set the variable - just because it's *written* down doesn't mean it's set until you click run)"
      ]
    },
    {
      "cell_type": "code",
      "execution_count": null,
      "metadata": {
        "id": "p1bvbElaOGzi"
      },
      "outputs": [],
      "source": []
    },
    {
      "cell_type": "markdown",
      "metadata": {
        "id": "6WBoeQjpTK6r"
      },
      "source": [
        "Auto-completion is especially useful for long variable names that you don't want to keep typing. If there are multiple candidates for auto-completion, it will show a scrollable list of options.\n",
        "\n",
        "The `test` variable is a string. To see what options there are for acting upon a string, try typing `test.` (with the period) then pausing for autocomplete. Magic!\n",
        "\n",
        "![Auto-fill](https://github.com/organisciak/Scripting-Course/blob/master/images/autofill.png?raw=1)\n",
        "\n",
        "**Documentation reference**\n",
        "\n",
        "If you want to look up information about a function, you can precede the code running that function with a `?`. For example, if I want to learn how I would use `split()` on `test`, I can type:"
      ]
    },
    {
      "cell_type": "code",
      "execution_count": 11,
      "metadata": {
        "id": "dslJnA4yTK6r"
      },
      "outputs": [],
      "source": [
        "?test.split"
      ]
    },
    {
      "cell_type": "markdown",
      "metadata": {
        "id": "RugXWchETK6v"
      },
      "source": [
        "This will open a panel that looks like this in Colab:\n",
        "\n",
        "![Info](https://github.com/organisciak/Scripting-Course/blob/master/images/info.png?raw=1)\n",
        "\n",
        "The documentation is only as good as a developer made it, so some libraries might be more or less detailed in this feature.\n",
        "\n",
        "Try looking up documentation for these string methods:\n",
        "\n",
        "- `?str.upper`\n",
        "- `?str.replace`\n",
        "- `?str.find`\n",
        "                \n",
        "For each one, notice the required and optional parameters, and try using the method on the test string."
      ]
    },
    {
      "cell_type": "code",
      "execution_count": null,
      "metadata": {
        "cellView": "form",
        "id": "unCOCHwvQCdy"
      },
      "outputs": [],
      "source": [
        "#@markdown - **Q12**: *(5pts)* What does `test.isalpha()` do? Fill in the blank based on the documentation: \"Return True if {{   }}, False otherwise.\"\n",
        "\n",
        "q12_answer = \"\" #@param {type: 'string'}"
      ]
    },
    {
      "cell_type": "markdown",
      "metadata": {
        "id": "WYTqoGFhPslN"
      },
      "source": [
        "- **Q13**: *(10pts)* Strings have access to a function (whose name starts with a `ce`) that will let you change \"HEADING\" to \"====HEADING====\" (that is, padding with `=` to make the string 15 characters wide). What's the code to do that? (tip: this is an auto-fill question!)"
      ]
    },
    {
      "cell_type": "code",
      "execution_count": null,
      "metadata": {
        "id": "9oazuMVqQ7LA"
      },
      "outputs": [],
      "source": [
        "# Answer-Q13\n"
      ]
    },
    {
      "cell_type": "markdown",
      "metadata": {
        "id": "idY7GWtITK6w"
      },
      "source": [
        "## Summary\n",
        "\n",
        "- SQLite\n",
        "    - Connecting to a simple database, via notebook (without Python) or command line\n",
        "- SQL\n",
        "    - `CREATE TABLE`\n",
        "    - `DROP TABLE`\n",
        "    - `SELECT`\n",
        "    - `INSERT`\n",
        "    - `WHERE` clause\n",
        "- Python\n",
        "    - Logical Operators\n",
        "        - `==`, `!=`, `<`, `<=`, `>`, `>=`\n",
        "    - `for` loops on arrays\n",
        "    - `print()`\n",
        "    - Tab indentation\n",
        "    - boolean datatype: `True`, `False`\n",
        "- Jupyter\n",
        "    - Auto-complete\n",
        "    - Documentation lookup"
      ]
    },
    {
      "cell_type": "markdown",
      "metadata": {
        "id": "DMeFdL1XVl4y"
      },
      "source": [
        "# Submission Instructions"
      ]
    },
    {
      "cell_type": "code",
      "execution_count": null,
      "metadata": {
        "cellView": "form",
        "id": "4QvQhFVlTyWy"
      },
      "outputs": [],
      "source": [
        "#@markdown ### First, Enter your name for grading\n",
        "my_name = \"\" #@param { type:'string' }\n",
        "\n",
        "#@markdown _Have you saved your work for yourself? Don't forget to Save a Copy in Drive so that you have your progress._"
      ]
    },
    {
      "cell_type": "code",
      "execution_count": null,
      "metadata": {
        "cellView": "form",
        "id": "Q6ku7nibRp4O"
      },
      "outputs": [],
      "source": [
        "#@markdown ### Second, check your work:\n",
        "\n",
        "#@markdown - have you answered all the questions?\n",
        "#@markdown - Does this notebook run from top to bottom?\n",
        "#@markdown     - Go to \"Runtime > Restart and run all...\" to check. Do all the cells run, to the very bottom, or is there a cell in the middle with an error?\n",
        "#@markdown - Have you completed all the answers where you entered code, keeping the `# Answer-Qx` line at the start of those cells?\n",
        "\n",
        "#@markdown *A lab that the professor has to fix manually will lose 10pts - run the checks!*"
      ]
    }
  ],
  "metadata": {
    "colab": {
      "include_colab_link": true,
      "name": "02-database-intropython-lab.ipynb",
      "provenance": []
    },
    "kernelspec": {
      "display_name": "Python 3",
      "language": "python",
      "name": "python3"
    },
    "language_info": {
      "codemirror_mode": {
        "name": "ipython",
        "version": 3
      },
      "file_extension": ".py",
      "mimetype": "text/x-python",
      "name": "python",
      "nbconvert_exporter": "python",
      "pygments_lexer": "ipython3",
      "version": "3.6.8"
    }
  },
  "nbformat": 4,
  "nbformat_minor": 0
}
