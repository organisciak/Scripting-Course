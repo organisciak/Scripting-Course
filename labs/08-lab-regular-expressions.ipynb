{
  "cells": [
    {
      "cell_type": "markdown",
      "metadata": {
        "id": "view-in-github",
        "colab_type": "text"
      },
      "source": [
        "<a href=\"https://colab.research.google.com/github/organisciak/Scripting-Course/blob/master/labs/08-lab-regular-expressions.ipynb\" target=\"_parent\"><img src=\"https://colab.research.google.com/assets/colab-badge.svg\" alt=\"Open In Colab\"/></a>"
      ]
    },
    {
      "cell_type": "markdown",
      "metadata": {
        "id": "Zuf8EoDzwEem"
      },
      "source": [
        "# Week 8 Lab: Regular Expressions"
      ]
    },
    {
      "cell_type": "code",
      "execution_count": 5,
      "metadata": {
        "id": "UquVNqG4wEeo"
      },
      "outputs": [],
      "source": [
        "import re\n",
        "import pandas as pd"
      ]
    },
    {
      "cell_type": "markdown",
      "metadata": {
        "id": "OXHoXToPwEer"
      },
      "source": [
        "Here is a synopsis of the best film of our time, *Paddington*:"
      ]
    },
    {
      "cell_type": "code",
      "execution_count": 6,
      "metadata": {
        "colab": {
          "base_uri": "https://localhost:8080/",
          "height": 104
        },
        "id": "PhMVBwhpwEes",
        "outputId": "42d0dbdc-4b30-453e-f093-a01146c86fd3"
      },
      "outputs": [
        {
          "output_type": "execute_result",
          "data": {
            "text/plain": [
              "'After a deadly earthquake destroys his home in the Peruvian rainforest, a young bear (Ben Whishaw) makes his way to England in search of a new home. The bear, dubbed \"Paddington\" for the london train station, finds shelter with the family of Henry (Hugh Bonneville) and Mary Brown (Sally Hawkins). Although Paddington\\'s amazement at urban living soon endears him to the Browns, someone else has her eye on him: Taxidermist Millicent Clyde (Nicole Kidman) has designs on the rare bear and his hide.'"
            ],
            "application/vnd.google.colaboratory.intrinsic+json": {
              "type": "string"
            }
          },
          "metadata": {},
          "execution_count": 6
        }
      ],
      "source": [
        "synopsis = '''After a deadly earthquake destroys his home in the Peruvian rainforest, a young bear (Ben Whishaw) makes his way to England in search of a new home. The bear, dubbed \"Paddington\" for the london train station, finds shelter with the family of Henry (Hugh Bonneville) and Mary Brown (Sally Hawkins). Although Paddington's amazement at urban living soon endears him to the Browns, someone else has her eye on him: Taxidermist Millicent Clyde (Nicole Kidman) has designs on the rare bear and his hide.'''\n",
        "synopsis"
      ]
    },
    {
      "cell_type": "markdown",
      "metadata": {
        "id": "mzj3T_AUwEez"
      },
      "source": [
        "For these questions, use `re.findall(pattern, text)`, like so:"
      ]
    },
    {
      "cell_type": "code",
      "execution_count": 22,
      "metadata": {
        "colab": {
          "base_uri": "https://localhost:8080/"
        },
        "id": "J6oZ8HVcwEe0",
        "outputId": "90cdba3c-cb47-497c-f454-a947bd285967"
      },
      "outputs": [
        {
          "output_type": "execute_result",
          "data": {
            "text/plain": [
              "['After ', 'Henry ', 'Brown ', 'Sally ', 'Clyde ']"
            ]
          },
          "metadata": {},
          "execution_count": 22
        }
      ],
      "source": [
        "re.findall(r'[A-Z]....\\s', synopsis)"
      ]
    },
    {
      "cell_type": "markdown",
      "metadata": {
        "id": "NNRlqYqh8j_h"
      },
      "source": [
        "For many of the questions, I'll ask you for the `pattern` that goes into that search. *(You don't have to worry about the `r` before the string - the lab handles it)*"
      ]
    },
    {
      "cell_type": "markdown",
      "metadata": {
        "id": "IqAdp-3iwEe5"
      },
      "source": [
        "### Example Question\n",
        "\n",
        "- Q0.0: Write the regular expression to find all three or four-letter words:"
      ]
    },
    {
      "cell_type": "code",
      "execution_count": 23,
      "metadata": {
        "cellView": "form",
        "colab": {
          "base_uri": "https://localhost:8080/"
        },
        "id": "Ub9b8TUEwEe6",
        "outputId": "6a52802c-e907-4c57-e573-f45bdddbb65d"
      },
      "outputs": [
        {
          "output_type": "execute_result",
          "data": {
            "text/plain": [
              "[' his ',\n",
              " ' the ',\n",
              " ' bear ',\n",
              " ' his ',\n",
              " ' new ',\n",
              " ' The ',\n",
              " ' for ',\n",
              " ' with ',\n",
              " ' and ',\n",
              " ' soon ',\n",
              " ' him ',\n",
              " ' the ',\n",
              " ' else ',\n",
              " ' her ',\n",
              " ' has ',\n",
              " ' the ',\n",
              " ' bear ',\n",
              " ' his ']"
            ]
          },
          "metadata": {},
          "execution_count": 23
        }
      ],
      "source": [
        "#@markdown Run this cell to see if it works\n",
        "q0_answer = '\\\\s\\\\w\\\\w\\\\w\\\\w?\\\\s'    #@param {type:'string'}\n",
        "re.findall(q0_answer, synopsis)"
      ]
    },
    {
      "cell_type": "markdown",
      "metadata": {
        "id": "dVtGDijDwEfE"
      },
      "source": [
        "## Questions #1: Matching Characters (20 pts)\n",
        "\n",
        "- Q1a: Write a regular expression to match all three-character words surrounded by spaces. You need to change the answer in the form field and run it to see if it works. (5pts)"
      ]
    },
    {
      "cell_type": "code",
      "execution_count": null,
      "metadata": {
        "cellView": "form",
        "id": "ZIIqEYxXwEfJ",
        "scrolled": true
      },
      "outputs": [],
      "source": [
        "#@markdown *Run this cell to see if it works*\n",
        "q1a_answer = ''    #@param {type:'string'}\n",
        "re.findall(q1a_answer, synopsis) # This runs your pattern"
      ]
    },
    {
      "cell_type": "markdown",
      "metadata": {
        "id": "esCPsEnjwEfM"
      },
      "source": [
        "- Q1b: Write a regular expression to match all three-character words, allowing for instances like `(Ben` and `him:`.  (5pts)"
      ]
    },
    {
      "cell_type": "code",
      "execution_count": null,
      "metadata": {
        "cellView": "form",
        "id": "qt8_JQnxwEfM"
      },
      "outputs": [],
      "source": [
        "#@markdown *Run this cell to see if it works*\n",
        "q1b_answer = ''    #@param {type:'string'}\n",
        "re.findall(q1b_answer, synopsis)"
      ]
    },
    {
      "cell_type": "markdown",
      "metadata": {
        "id": "AuFhWEX-wEfQ"
      },
      "source": [
        "- Q1c: Write the regular expression to determine how many times the words `the` or `The` show up.  (5pts)"
      ]
    },
    {
      "cell_type": "code",
      "execution_count": 33,
      "metadata": {
        "cellView": "form",
        "id": "R5LxSp3ewEfQ",
        "outputId": "cf59ca8d-24d1-4209-eea1-c038fe633125",
        "colab": {
          "base_uri": "https://localhost:8080/"
        }
      },
      "outputs": [
        {
          "output_type": "stream",
          "name": "stdout",
          "text": [
            "[' the ', ' The ', ' the ', ' the ', ' the ', ' the ']\n",
            "Count 6\n"
          ]
        }
      ],
      "source": [
        "q1c_answer = ''  #@param {type:'string'}\n",
        "matches = re.findall(q1c_answer, synopsis)\n",
        "print(matches)\n",
        "print(\"Count\", len(matches))"
      ]
    },
    {
      "cell_type": "markdown",
      "metadata": {
        "id": "KSxzA382wEfT"
      },
      "source": [
        "- Q1d: Write a regular expression to find the context at the end of a sentence: the five characters leading up to the period. Results should be `[' home.', 'kins).', ' hide.']`  (5pts)"
      ]
    },
    {
      "cell_type": "code",
      "execution_count": null,
      "metadata": {
        "cellView": "form",
        "id": "seEtUQAFwEfU"
      },
      "outputs": [],
      "source": [
        "q1d_answer = ''  #@param {type:'string'}\n",
        "re.findall(q1d_answer, synopsis)"
      ]
    },
    {
      "cell_type": "markdown",
      "metadata": {
        "id": "dTJiDjSpwEfX"
      },
      "source": [
        "## Questions #2: Repeating Patterns (36 pts)\n",
        "\n",
        "*Full Reference*\n",
        "\n",
        "**Matching characters**\n",
        "- `a` - Match the letter `a`. Same for most other characters\n",
        "- `.` - Match any single character\n",
        "- `\\w` - Match any word character (letters, number... support for non-English characters varies)\n",
        "- `\\W` - Match any non-word characters\n",
        "- `\\d` - Match any digit\n",
        "- `.` - Matches *any* character\n",
        "- `\\.` - Matches a literal period (or `\\\\` matches literal backslash, `\\(` matches literal parenthesis, etc)\n",
        "- `\\s` - Match any whitespace character (space, tabs, line breaks sometimes)\n",
        "\n",
        "**Multiple Matches**\n",
        "- `[ab]` - Group of multiple possible characters - in this case `a` or `b`\n",
        "- `[a-z]` matches any character from a to z\n",
        "- `[A-Z]` matches any character from A to Z\n",
        "- `[A-Zab]` matches any character from A to Z (`A-Z`), *or* `a` *or* `b`\n",
        "\n",
        "**Repeating**\n",
        "\n",
        "*'greedy' means that it captures as much as it can, 'lazy' means it captures as little as possible.*\n",
        "`?` - One or zero of the preceding match\n",
        "- `+` - One or more of the preceding match (greedy)\n",
        "- `*` - Zero or more of the preceding match (greedy)\n",
        "- `*?`, `+?`  - Lazy versions of `*` and `+`\n",
        "\n",
        "**Position**\n",
        "- `^` - Start of line\n",
        "- `$` - End of line\n",
        "\n",
        "*Questions*\n",
        "\n",
        "- Q2a: Write the expression that matches the period at the end of a sentence and the first word of the next sentence. The matches should be: `['. The', '. Although']` (6 pts)"
      ]
    },
    {
      "cell_type": "code",
      "execution_count": null,
      "metadata": {
        "cellView": "form",
        "id": "GCkA1uQIwEfX"
      },
      "outputs": [],
      "source": [
        "q2a_answer = ''  #@param {type:'string'}\n",
        "re.findall(q2a_answer, synopsis)"
      ]
    },
    {
      "cell_type": "markdown",
      "metadata": {
        "id": "hmv4DTKNwEfa"
      },
      "source": [
        "- Q2b: Write the expression to match the two words following the word `a`. The results should be `['a deadly earthquake', 'a young bear', 'a new home']` (6 pts)"
      ]
    },
    {
      "cell_type": "code",
      "execution_count": null,
      "metadata": {
        "cellView": "form",
        "id": "VSi2v7rmwEfb"
      },
      "outputs": [],
      "source": [
        "q2b_answer = ''  #@param {type:'string'}\n",
        "re.findall(q2b_answer, synopsis)"
      ]
    },
    {
      "cell_type": "markdown",
      "metadata": {
        "id": "CgKT_nK5wEfe"
      },
      "source": [
        "- Q2c: Write the expression to match all words with an `'s`. In this case, `Paddington's` is the only match.  (6 pts)"
      ]
    },
    {
      "cell_type": "code",
      "execution_count": null,
      "metadata": {
        "cellView": "form",
        "id": "7zbb7pzCwEff"
      },
      "outputs": [],
      "source": [
        "q2c_answer = ''  #@param {type:'string'}\n",
        "re.findall(q2c_answer, synopsis)"
      ]
    },
    {
      "cell_type": "markdown",
      "metadata": {
        "id": "ZJNrE3OOwEfj"
      },
      "source": [
        "- Q2d: Write the expression to match all values in parentheses. The results should be `['(Ben Whishaw)', '(Hugh Bonneville)', '(Sally Hawkins)', '(Nicole Kidman)]'` (6 pts)"
      ]
    },
    {
      "cell_type": "code",
      "execution_count": null,
      "metadata": {
        "cellView": "form",
        "id": "pLz1VYtjwEfk"
      },
      "outputs": [],
      "source": [
        "q2d_answer = ''  #@param {type:'string'}\n",
        "re.findall(q2d_answer, synopsis)"
      ]
    },
    {
      "cell_type": "markdown",
      "metadata": {
        "id": "a0WWNmnwwEfn"
      },
      "source": [
        "- Q2e: Write the expression to match all capitalized words, including `Paddington's`. (6 pts)"
      ]
    },
    {
      "cell_type": "code",
      "execution_count": null,
      "metadata": {
        "cellView": "form",
        "id": "E7Z2tH1awEfo"
      },
      "outputs": [],
      "source": [
        "q2e_answer = ''  #@param {type:'string'}\n",
        "re.findall(q2e_answer, synopsis)"
      ]
    },
    {
      "cell_type": "markdown",
      "metadata": {
        "id": "IszncrdAwEfr"
      },
      "source": [
        "- Q2f: Write the expression to match all pairings of capitalized words, like `Mary Brown` and `Although Paddington`. (6 pts)"
      ]
    },
    {
      "cell_type": "code",
      "execution_count": null,
      "metadata": {
        "cellView": "form",
        "id": "xFrn1WuNwEfs"
      },
      "outputs": [],
      "source": [
        "q2f_answer = ''  #@param {type:'string'}\n",
        "re.findall(q2f_answer, synopsis)"
      ]
    },
    {
      "cell_type": "markdown",
      "metadata": {
        "id": "BjGW8Q2zwEfv"
      },
      "source": [
        "## Other Python Regular Expression Functions\n",
        "\n",
        "**Replace a pattern**:\n",
        "    \n",
        "```\n",
        "re.sub(pattern, repl, string)\n",
        "```\n",
        "\n",
        "This replaces the pattern matches with whatever string you provide to `repl`.\n",
        "\n",
        "**Check a match**:\n",
        "    \n",
        "```\n",
        "regex.search(string)\n",
        "```\n",
        "\n",
        "This doesn't return anything if there are no matches, so it's useful for asking, \"is there a match or not?\""
      ]
    },
    {
      "cell_type": "markdown",
      "metadata": {
        "id": "vx7lh1DjwEfw"
      },
      "source": [
        "## Pandas\n",
        "\n",
        "Load the following data into a DataFrame, containing the tweets of Lord_Voldemort7:"
      ]
    },
    {
      "cell_type": "code",
      "execution_count": 35,
      "metadata": {
        "colab": {
          "base_uri": "https://localhost:8080/",
          "height": 206
        },
        "id": "Ou_n26JWwEfx",
        "outputId": "c6bc023a-3264-444c-e283-22cd0ffc959e"
      },
      "outputs": [
        {
          "output_type": "execute_result",
          "data": {
            "text/plain": [
              "                   id  favourites  retweets           created_at  \\\n",
              "0  903664289411686400        1921       556  2017-09-01 17:02:10   \n",
              "1  901217559860703234        2556       934  2017-08-25 22:59:44   \n",
              "2  879505014422740994        3879      1578  2017-06-27 01:01:50   \n",
              "3  818293342622650368         737       169  2017-01-09 03:08:30   \n",
              "4  815434344357625856        2719      1012  2017-01-01 05:47:52   \n",
              "\n",
              "                                                text  is_quoted  \n",
              "0                      #19YearsLater #BackToHogwarts      False  \n",
              "1  \"I rose up from the dead, I do it all the time...      False  \n",
              "2         #HarryPotter20 There will always be magic.      False  \n",
              "3  Hermione tries to play Quidditch but hits her ...      False  \n",
              "4  2016 was channeling The Little Mermaid and end...      False  "
            ],
            "text/html": [
              "\n",
              "  <div id=\"df-bb19ec79-51bb-422d-9a86-9401ac8f06bd\" class=\"colab-df-container\">\n",
              "    <div>\n",
              "<style scoped>\n",
              "    .dataframe tbody tr th:only-of-type {\n",
              "        vertical-align: middle;\n",
              "    }\n",
              "\n",
              "    .dataframe tbody tr th {\n",
              "        vertical-align: top;\n",
              "    }\n",
              "\n",
              "    .dataframe thead th {\n",
              "        text-align: right;\n",
              "    }\n",
              "</style>\n",
              "<table border=\"1\" class=\"dataframe\">\n",
              "  <thead>\n",
              "    <tr style=\"text-align: right;\">\n",
              "      <th></th>\n",
              "      <th>id</th>\n",
              "      <th>favourites</th>\n",
              "      <th>retweets</th>\n",
              "      <th>created_at</th>\n",
              "      <th>text</th>\n",
              "      <th>is_quoted</th>\n",
              "    </tr>\n",
              "  </thead>\n",
              "  <tbody>\n",
              "    <tr>\n",
              "      <th>0</th>\n",
              "      <td>903664289411686400</td>\n",
              "      <td>1921</td>\n",
              "      <td>556</td>\n",
              "      <td>2017-09-01 17:02:10</td>\n",
              "      <td>#19YearsLater #BackToHogwarts</td>\n",
              "      <td>False</td>\n",
              "    </tr>\n",
              "    <tr>\n",
              "      <th>1</th>\n",
              "      <td>901217559860703234</td>\n",
              "      <td>2556</td>\n",
              "      <td>934</td>\n",
              "      <td>2017-08-25 22:59:44</td>\n",
              "      <td>\"I rose up from the dead, I do it all the time...</td>\n",
              "      <td>False</td>\n",
              "    </tr>\n",
              "    <tr>\n",
              "      <th>2</th>\n",
              "      <td>879505014422740994</td>\n",
              "      <td>3879</td>\n",
              "      <td>1578</td>\n",
              "      <td>2017-06-27 01:01:50</td>\n",
              "      <td>#HarryPotter20 There will always be magic.</td>\n",
              "      <td>False</td>\n",
              "    </tr>\n",
              "    <tr>\n",
              "      <th>3</th>\n",
              "      <td>818293342622650368</td>\n",
              "      <td>737</td>\n",
              "      <td>169</td>\n",
              "      <td>2017-01-09 03:08:30</td>\n",
              "      <td>Hermione tries to play Quidditch but hits her ...</td>\n",
              "      <td>False</td>\n",
              "    </tr>\n",
              "    <tr>\n",
              "      <th>4</th>\n",
              "      <td>815434344357625856</td>\n",
              "      <td>2719</td>\n",
              "      <td>1012</td>\n",
              "      <td>2017-01-01 05:47:52</td>\n",
              "      <td>2016 was channeling The Little Mermaid and end...</td>\n",
              "      <td>False</td>\n",
              "    </tr>\n",
              "  </tbody>\n",
              "</table>\n",
              "</div>\n",
              "    <div class=\"colab-df-buttons\">\n",
              "\n",
              "  <div class=\"colab-df-container\">\n",
              "    <button class=\"colab-df-convert\" onclick=\"convertToInteractive('df-bb19ec79-51bb-422d-9a86-9401ac8f06bd')\"\n",
              "            title=\"Convert this dataframe to an interactive table.\"\n",
              "            style=\"display:none;\">\n",
              "\n",
              "  <svg xmlns=\"http://www.w3.org/2000/svg\" height=\"24px\" viewBox=\"0 -960 960 960\">\n",
              "    <path d=\"M120-120v-720h720v720H120Zm60-500h600v-160H180v160Zm220 220h160v-160H400v160Zm0 220h160v-160H400v160ZM180-400h160v-160H180v160Zm440 0h160v-160H620v160ZM180-180h160v-160H180v160Zm440 0h160v-160H620v160Z\"/>\n",
              "  </svg>\n",
              "    </button>\n",
              "\n",
              "  <style>\n",
              "    .colab-df-container {\n",
              "      display:flex;\n",
              "      gap: 12px;\n",
              "    }\n",
              "\n",
              "    .colab-df-convert {\n",
              "      background-color: #E8F0FE;\n",
              "      border: none;\n",
              "      border-radius: 50%;\n",
              "      cursor: pointer;\n",
              "      display: none;\n",
              "      fill: #1967D2;\n",
              "      height: 32px;\n",
              "      padding: 0 0 0 0;\n",
              "      width: 32px;\n",
              "    }\n",
              "\n",
              "    .colab-df-convert:hover {\n",
              "      background-color: #E2EBFA;\n",
              "      box-shadow: 0px 1px 2px rgba(60, 64, 67, 0.3), 0px 1px 3px 1px rgba(60, 64, 67, 0.15);\n",
              "      fill: #174EA6;\n",
              "    }\n",
              "\n",
              "    .colab-df-buttons div {\n",
              "      margin-bottom: 4px;\n",
              "    }\n",
              "\n",
              "    [theme=dark] .colab-df-convert {\n",
              "      background-color: #3B4455;\n",
              "      fill: #D2E3FC;\n",
              "    }\n",
              "\n",
              "    [theme=dark] .colab-df-convert:hover {\n",
              "      background-color: #434B5C;\n",
              "      box-shadow: 0px 1px 3px 1px rgba(0, 0, 0, 0.15);\n",
              "      filter: drop-shadow(0px 1px 2px rgba(0, 0, 0, 0.3));\n",
              "      fill: #FFFFFF;\n",
              "    }\n",
              "  </style>\n",
              "\n",
              "    <script>\n",
              "      const buttonEl =\n",
              "        document.querySelector('#df-bb19ec79-51bb-422d-9a86-9401ac8f06bd button.colab-df-convert');\n",
              "      buttonEl.style.display =\n",
              "        google.colab.kernel.accessAllowed ? 'block' : 'none';\n",
              "\n",
              "      async function convertToInteractive(key) {\n",
              "        const element = document.querySelector('#df-bb19ec79-51bb-422d-9a86-9401ac8f06bd');\n",
              "        const dataTable =\n",
              "          await google.colab.kernel.invokeFunction('convertToInteractive',\n",
              "                                                    [key], {});\n",
              "        if (!dataTable) return;\n",
              "\n",
              "        const docLinkHtml = 'Like what you see? Visit the ' +\n",
              "          '<a target=\"_blank\" href=https://colab.research.google.com/notebooks/data_table.ipynb>data table notebook</a>'\n",
              "          + ' to learn more about interactive tables.';\n",
              "        element.innerHTML = '';\n",
              "        dataTable['output_type'] = 'display_data';\n",
              "        await google.colab.output.renderOutput(dataTable, element);\n",
              "        const docLink = document.createElement('div');\n",
              "        docLink.innerHTML = docLinkHtml;\n",
              "        element.appendChild(docLink);\n",
              "      }\n",
              "    </script>\n",
              "  </div>\n",
              "\n",
              "\n",
              "    <div id=\"df-5bb8451a-aefa-485d-9932-da16d638a8ad\">\n",
              "      <button class=\"colab-df-quickchart\" onclick=\"quickchart('df-5bb8451a-aefa-485d-9932-da16d638a8ad')\"\n",
              "                title=\"Suggest charts\"\n",
              "                style=\"display:none;\">\n",
              "\n",
              "<svg xmlns=\"http://www.w3.org/2000/svg\" height=\"24px\"viewBox=\"0 0 24 24\"\n",
              "     width=\"24px\">\n",
              "    <g>\n",
              "        <path d=\"M19 3H5c-1.1 0-2 .9-2 2v14c0 1.1.9 2 2 2h14c1.1 0 2-.9 2-2V5c0-1.1-.9-2-2-2zM9 17H7v-7h2v7zm4 0h-2V7h2v10zm4 0h-2v-4h2v4z\"/>\n",
              "    </g>\n",
              "</svg>\n",
              "      </button>\n",
              "\n",
              "<style>\n",
              "  .colab-df-quickchart {\n",
              "      --bg-color: #E8F0FE;\n",
              "      --fill-color: #1967D2;\n",
              "      --hover-bg-color: #E2EBFA;\n",
              "      --hover-fill-color: #174EA6;\n",
              "      --disabled-fill-color: #AAA;\n",
              "      --disabled-bg-color: #DDD;\n",
              "  }\n",
              "\n",
              "  [theme=dark] .colab-df-quickchart {\n",
              "      --bg-color: #3B4455;\n",
              "      --fill-color: #D2E3FC;\n",
              "      --hover-bg-color: #434B5C;\n",
              "      --hover-fill-color: #FFFFFF;\n",
              "      --disabled-bg-color: #3B4455;\n",
              "      --disabled-fill-color: #666;\n",
              "  }\n",
              "\n",
              "  .colab-df-quickchart {\n",
              "    background-color: var(--bg-color);\n",
              "    border: none;\n",
              "    border-radius: 50%;\n",
              "    cursor: pointer;\n",
              "    display: none;\n",
              "    fill: var(--fill-color);\n",
              "    height: 32px;\n",
              "    padding: 0;\n",
              "    width: 32px;\n",
              "  }\n",
              "\n",
              "  .colab-df-quickchart:hover {\n",
              "    background-color: var(--hover-bg-color);\n",
              "    box-shadow: 0 1px 2px rgba(60, 64, 67, 0.3), 0 1px 3px 1px rgba(60, 64, 67, 0.15);\n",
              "    fill: var(--button-hover-fill-color);\n",
              "  }\n",
              "\n",
              "  .colab-df-quickchart-complete:disabled,\n",
              "  .colab-df-quickchart-complete:disabled:hover {\n",
              "    background-color: var(--disabled-bg-color);\n",
              "    fill: var(--disabled-fill-color);\n",
              "    box-shadow: none;\n",
              "  }\n",
              "\n",
              "  .colab-df-spinner {\n",
              "    border: 2px solid var(--fill-color);\n",
              "    border-color: transparent;\n",
              "    border-bottom-color: var(--fill-color);\n",
              "    animation:\n",
              "      spin 1s steps(1) infinite;\n",
              "  }\n",
              "\n",
              "  @keyframes spin {\n",
              "    0% {\n",
              "      border-color: transparent;\n",
              "      border-bottom-color: var(--fill-color);\n",
              "      border-left-color: var(--fill-color);\n",
              "    }\n",
              "    20% {\n",
              "      border-color: transparent;\n",
              "      border-left-color: var(--fill-color);\n",
              "      border-top-color: var(--fill-color);\n",
              "    }\n",
              "    30% {\n",
              "      border-color: transparent;\n",
              "      border-left-color: var(--fill-color);\n",
              "      border-top-color: var(--fill-color);\n",
              "      border-right-color: var(--fill-color);\n",
              "    }\n",
              "    40% {\n",
              "      border-color: transparent;\n",
              "      border-right-color: var(--fill-color);\n",
              "      border-top-color: var(--fill-color);\n",
              "    }\n",
              "    60% {\n",
              "      border-color: transparent;\n",
              "      border-right-color: var(--fill-color);\n",
              "    }\n",
              "    80% {\n",
              "      border-color: transparent;\n",
              "      border-right-color: var(--fill-color);\n",
              "      border-bottom-color: var(--fill-color);\n",
              "    }\n",
              "    90% {\n",
              "      border-color: transparent;\n",
              "      border-bottom-color: var(--fill-color);\n",
              "    }\n",
              "  }\n",
              "</style>\n",
              "\n",
              "      <script>\n",
              "        async function quickchart(key) {\n",
              "          const quickchartButtonEl =\n",
              "            document.querySelector('#' + key + ' button');\n",
              "          quickchartButtonEl.disabled = true;  // To prevent multiple clicks.\n",
              "          quickchartButtonEl.classList.add('colab-df-spinner');\n",
              "          try {\n",
              "            const charts = await google.colab.kernel.invokeFunction(\n",
              "                'suggestCharts', [key], {});\n",
              "          } catch (error) {\n",
              "            console.error('Error during call to suggestCharts:', error);\n",
              "          }\n",
              "          quickchartButtonEl.classList.remove('colab-df-spinner');\n",
              "          quickchartButtonEl.classList.add('colab-df-quickchart-complete');\n",
              "        }\n",
              "        (() => {\n",
              "          let quickchartButtonEl =\n",
              "            document.querySelector('#df-5bb8451a-aefa-485d-9932-da16d638a8ad button');\n",
              "          quickchartButtonEl.style.display =\n",
              "            google.colab.kernel.accessAllowed ? 'block' : 'none';\n",
              "        })();\n",
              "      </script>\n",
              "    </div>\n",
              "\n",
              "    </div>\n",
              "  </div>\n"
            ],
            "application/vnd.google.colaboratory.intrinsic+json": {
              "type": "dataframe",
              "variable_name": "tweets",
              "summary": "{\n  \"name\": \"tweets\",\n  \"rows\": 3076,\n  \"fields\": [\n    {\n      \"column\": \"id\",\n      \"properties\": {\n        \"dtype\": \"number\",\n        \"std\": 132659795395220384,\n        \"min\": 72062933059895296,\n        \"max\": 903664289411686400,\n        \"num_unique_values\": 3076,\n        \"samples\": [\n          589820632684175360,\n          305857764972974081,\n          146347152434675713\n        ],\n        \"semantic_type\": \"\",\n        \"description\": \"\"\n      }\n    },\n    {\n      \"column\": \"favourites\",\n      \"properties\": {\n        \"dtype\": \"number\",\n        \"std\": 814,\n        \"min\": 0,\n        \"max\": 9461,\n        \"num_unique_values\": 1486,\n        \"samples\": [\n          1401,\n          277,\n          949\n        ],\n        \"semantic_type\": \"\",\n        \"description\": \"\"\n      }\n    },\n    {\n      \"column\": \"retweets\",\n      \"properties\": {\n        \"dtype\": \"number\",\n        \"std\": 2472,\n        \"min\": 3,\n        \"max\": 24566,\n        \"num_unique_values\": 2282,\n        \"samples\": [\n          1281,\n          2588,\n          8332\n        ],\n        \"semantic_type\": \"\",\n        \"description\": \"\"\n      }\n    },\n    {\n      \"column\": \"created_at\",\n      \"properties\": {\n        \"dtype\": \"object\",\n        \"num_unique_values\": 3076,\n        \"samples\": [\n          \"2015-04-19 15:59:31\",\n          \"2013-02-25 01:52:28\",\n          \"2011-12-12 21:54:14\"\n        ],\n        \"semantic_type\": \"\",\n        \"description\": \"\"\n      }\n    },\n    {\n      \"column\": \"text\",\n      \"properties\": {\n        \"dtype\": \"string\",\n        \"num_unique_values\": 3039,\n        \"samples\": [\n          \"I Kissed A Girl and I Liked It -Dementor\",\n          \"That awkward moment when it's revealed who REALLY started the 'planking' trend... http://twitpic.com/5p8fxd\",\n          \"\\u201cHappiness can be found, even in the darkest of times, if one only remembers to turn on the light.\\\" -JK Rowling #RIPRobinWilliams\"\n        ],\n        \"semantic_type\": \"\",\n        \"description\": \"\"\n      }\n    },\n    {\n      \"column\": \"is_quoted\",\n      \"properties\": {\n        \"dtype\": \"boolean\",\n        \"num_unique_values\": 2,\n        \"samples\": [\n          true,\n          false\n        ],\n        \"semantic_type\": \"\",\n        \"description\": \"\"\n      }\n    }\n  ]\n}"
            }
          },
          "metadata": {},
          "execution_count": 35
        }
      ],
      "source": [
        "tweets = pd.read_csv('https://raw.githubusercontent.com/organisciak/Scripting-Course/master/data/voldemort_tweets.csv')\n",
        "tweets.head()"
      ]
    },
    {
      "cell_type": "markdown",
      "metadata": {
        "id": "Ndbd_zOUwEfz"
      },
      "source": [
        "String actions on a DataFrame column (that is, a Series) are accessed with:\n",
        "\n",
        "```\n",
        "df['columnName'].str\n",
        "```\n",
        "\n",
        "For matching on regular expressions, you can use `.str.contains()`. For examples:"
      ]
    },
    {
      "cell_type": "code",
      "execution_count": 36,
      "metadata": {
        "colab": {
          "base_uri": "https://localhost:8080/",
          "height": 175
        },
        "id": "JhDkKIGgwEf0",
        "outputId": "d90fe687-006e-4cfc-ee69-3b0e244a2a23",
        "scrolled": true
      },
      "outputs": [
        {
          "output_type": "execute_result",
          "data": {
            "text/plain": [
              "                      id  favourites  retweets           created_at  \\\n",
              "2485  114302574429077504         668      4207  2011-09-15 11:40:32   \n",
              "549   331832894916026369         440       802  2013-05-07 18:08:21   \n",
              "2063  142430282883145728         531      2588  2011-12-02 02:30:00   \n",
              "1     901217559860703234        2556       934  2017-08-25 22:59:44   \n",
              "\n",
              "                                                   text  is_quoted  \n",
              "2485  Vampires VS Zombies? I pick neither.What is th...      False  \n",
              "549   If looks could kill then my body would be a de...      False  \n",
              "2063  #Confusingthingsthatgirlsdo: vampires. Um, the...      False  \n",
              "1     \"I rose up from the dead, I do it all the time...      False  "
            ],
            "text/html": [
              "\n",
              "  <div id=\"df-3c58ce3d-ae80-4c03-bf54-5653de3c637b\" class=\"colab-df-container\">\n",
              "    <div>\n",
              "<style scoped>\n",
              "    .dataframe tbody tr th:only-of-type {\n",
              "        vertical-align: middle;\n",
              "    }\n",
              "\n",
              "    .dataframe tbody tr th {\n",
              "        vertical-align: top;\n",
              "    }\n",
              "\n",
              "    .dataframe thead th {\n",
              "        text-align: right;\n",
              "    }\n",
              "</style>\n",
              "<table border=\"1\" class=\"dataframe\">\n",
              "  <thead>\n",
              "    <tr style=\"text-align: right;\">\n",
              "      <th></th>\n",
              "      <th>id</th>\n",
              "      <th>favourites</th>\n",
              "      <th>retweets</th>\n",
              "      <th>created_at</th>\n",
              "      <th>text</th>\n",
              "      <th>is_quoted</th>\n",
              "    </tr>\n",
              "  </thead>\n",
              "  <tbody>\n",
              "    <tr>\n",
              "      <th>2485</th>\n",
              "      <td>114302574429077504</td>\n",
              "      <td>668</td>\n",
              "      <td>4207</td>\n",
              "      <td>2011-09-15 11:40:32</td>\n",
              "      <td>Vampires VS Zombies? I pick neither.What is th...</td>\n",
              "      <td>False</td>\n",
              "    </tr>\n",
              "    <tr>\n",
              "      <th>549</th>\n",
              "      <td>331832894916026369</td>\n",
              "      <td>440</td>\n",
              "      <td>802</td>\n",
              "      <td>2013-05-07 18:08:21</td>\n",
              "      <td>If looks could kill then my body would be a de...</td>\n",
              "      <td>False</td>\n",
              "    </tr>\n",
              "    <tr>\n",
              "      <th>2063</th>\n",
              "      <td>142430282883145728</td>\n",
              "      <td>531</td>\n",
              "      <td>2588</td>\n",
              "      <td>2011-12-02 02:30:00</td>\n",
              "      <td>#Confusingthingsthatgirlsdo: vampires. Um, the...</td>\n",
              "      <td>False</td>\n",
              "    </tr>\n",
              "    <tr>\n",
              "      <th>1</th>\n",
              "      <td>901217559860703234</td>\n",
              "      <td>2556</td>\n",
              "      <td>934</td>\n",
              "      <td>2017-08-25 22:59:44</td>\n",
              "      <td>\"I rose up from the dead, I do it all the time...</td>\n",
              "      <td>False</td>\n",
              "    </tr>\n",
              "  </tbody>\n",
              "</table>\n",
              "</div>\n",
              "    <div class=\"colab-df-buttons\">\n",
              "\n",
              "  <div class=\"colab-df-container\">\n",
              "    <button class=\"colab-df-convert\" onclick=\"convertToInteractive('df-3c58ce3d-ae80-4c03-bf54-5653de3c637b')\"\n",
              "            title=\"Convert this dataframe to an interactive table.\"\n",
              "            style=\"display:none;\">\n",
              "\n",
              "  <svg xmlns=\"http://www.w3.org/2000/svg\" height=\"24px\" viewBox=\"0 -960 960 960\">\n",
              "    <path d=\"M120-120v-720h720v720H120Zm60-500h600v-160H180v160Zm220 220h160v-160H400v160Zm0 220h160v-160H400v160ZM180-400h160v-160H180v160Zm440 0h160v-160H620v160ZM180-180h160v-160H180v160Zm440 0h160v-160H620v160Z\"/>\n",
              "  </svg>\n",
              "    </button>\n",
              "\n",
              "  <style>\n",
              "    .colab-df-container {\n",
              "      display:flex;\n",
              "      gap: 12px;\n",
              "    }\n",
              "\n",
              "    .colab-df-convert {\n",
              "      background-color: #E8F0FE;\n",
              "      border: none;\n",
              "      border-radius: 50%;\n",
              "      cursor: pointer;\n",
              "      display: none;\n",
              "      fill: #1967D2;\n",
              "      height: 32px;\n",
              "      padding: 0 0 0 0;\n",
              "      width: 32px;\n",
              "    }\n",
              "\n",
              "    .colab-df-convert:hover {\n",
              "      background-color: #E2EBFA;\n",
              "      box-shadow: 0px 1px 2px rgba(60, 64, 67, 0.3), 0px 1px 3px 1px rgba(60, 64, 67, 0.15);\n",
              "      fill: #174EA6;\n",
              "    }\n",
              "\n",
              "    .colab-df-buttons div {\n",
              "      margin-bottom: 4px;\n",
              "    }\n",
              "\n",
              "    [theme=dark] .colab-df-convert {\n",
              "      background-color: #3B4455;\n",
              "      fill: #D2E3FC;\n",
              "    }\n",
              "\n",
              "    [theme=dark] .colab-df-convert:hover {\n",
              "      background-color: #434B5C;\n",
              "      box-shadow: 0px 1px 3px 1px rgba(0, 0, 0, 0.15);\n",
              "      filter: drop-shadow(0px 1px 2px rgba(0, 0, 0, 0.3));\n",
              "      fill: #FFFFFF;\n",
              "    }\n",
              "  </style>\n",
              "\n",
              "    <script>\n",
              "      const buttonEl =\n",
              "        document.querySelector('#df-3c58ce3d-ae80-4c03-bf54-5653de3c637b button.colab-df-convert');\n",
              "      buttonEl.style.display =\n",
              "        google.colab.kernel.accessAllowed ? 'block' : 'none';\n",
              "\n",
              "      async function convertToInteractive(key) {\n",
              "        const element = document.querySelector('#df-3c58ce3d-ae80-4c03-bf54-5653de3c637b');\n",
              "        const dataTable =\n",
              "          await google.colab.kernel.invokeFunction('convertToInteractive',\n",
              "                                                    [key], {});\n",
              "        if (!dataTable) return;\n",
              "\n",
              "        const docLinkHtml = 'Like what you see? Visit the ' +\n",
              "          '<a target=\"_blank\" href=https://colab.research.google.com/notebooks/data_table.ipynb>data table notebook</a>'\n",
              "          + ' to learn more about interactive tables.';\n",
              "        element.innerHTML = '';\n",
              "        dataTable['output_type'] = 'display_data';\n",
              "        await google.colab.output.renderOutput(dataTable, element);\n",
              "        const docLink = document.createElement('div');\n",
              "        docLink.innerHTML = docLinkHtml;\n",
              "        element.appendChild(docLink);\n",
              "      }\n",
              "    </script>\n",
              "  </div>\n",
              "\n",
              "\n",
              "    <div id=\"df-493e8e3e-6974-4474-9dcb-5e755d1df0b2\">\n",
              "      <button class=\"colab-df-quickchart\" onclick=\"quickchart('df-493e8e3e-6974-4474-9dcb-5e755d1df0b2')\"\n",
              "                title=\"Suggest charts\"\n",
              "                style=\"display:none;\">\n",
              "\n",
              "<svg xmlns=\"http://www.w3.org/2000/svg\" height=\"24px\"viewBox=\"0 0 24 24\"\n",
              "     width=\"24px\">\n",
              "    <g>\n",
              "        <path d=\"M19 3H5c-1.1 0-2 .9-2 2v14c0 1.1.9 2 2 2h14c1.1 0 2-.9 2-2V5c0-1.1-.9-2-2-2zM9 17H7v-7h2v7zm4 0h-2V7h2v10zm4 0h-2v-4h2v4z\"/>\n",
              "    </g>\n",
              "</svg>\n",
              "      </button>\n",
              "\n",
              "<style>\n",
              "  .colab-df-quickchart {\n",
              "      --bg-color: #E8F0FE;\n",
              "      --fill-color: #1967D2;\n",
              "      --hover-bg-color: #E2EBFA;\n",
              "      --hover-fill-color: #174EA6;\n",
              "      --disabled-fill-color: #AAA;\n",
              "      --disabled-bg-color: #DDD;\n",
              "  }\n",
              "\n",
              "  [theme=dark] .colab-df-quickchart {\n",
              "      --bg-color: #3B4455;\n",
              "      --fill-color: #D2E3FC;\n",
              "      --hover-bg-color: #434B5C;\n",
              "      --hover-fill-color: #FFFFFF;\n",
              "      --disabled-bg-color: #3B4455;\n",
              "      --disabled-fill-color: #666;\n",
              "  }\n",
              "\n",
              "  .colab-df-quickchart {\n",
              "    background-color: var(--bg-color);\n",
              "    border: none;\n",
              "    border-radius: 50%;\n",
              "    cursor: pointer;\n",
              "    display: none;\n",
              "    fill: var(--fill-color);\n",
              "    height: 32px;\n",
              "    padding: 0;\n",
              "    width: 32px;\n",
              "  }\n",
              "\n",
              "  .colab-df-quickchart:hover {\n",
              "    background-color: var(--hover-bg-color);\n",
              "    box-shadow: 0 1px 2px rgba(60, 64, 67, 0.3), 0 1px 3px 1px rgba(60, 64, 67, 0.15);\n",
              "    fill: var(--button-hover-fill-color);\n",
              "  }\n",
              "\n",
              "  .colab-df-quickchart-complete:disabled,\n",
              "  .colab-df-quickchart-complete:disabled:hover {\n",
              "    background-color: var(--disabled-bg-color);\n",
              "    fill: var(--disabled-fill-color);\n",
              "    box-shadow: none;\n",
              "  }\n",
              "\n",
              "  .colab-df-spinner {\n",
              "    border: 2px solid var(--fill-color);\n",
              "    border-color: transparent;\n",
              "    border-bottom-color: var(--fill-color);\n",
              "    animation:\n",
              "      spin 1s steps(1) infinite;\n",
              "  }\n",
              "\n",
              "  @keyframes spin {\n",
              "    0% {\n",
              "      border-color: transparent;\n",
              "      border-bottom-color: var(--fill-color);\n",
              "      border-left-color: var(--fill-color);\n",
              "    }\n",
              "    20% {\n",
              "      border-color: transparent;\n",
              "      border-left-color: var(--fill-color);\n",
              "      border-top-color: var(--fill-color);\n",
              "    }\n",
              "    30% {\n",
              "      border-color: transparent;\n",
              "      border-left-color: var(--fill-color);\n",
              "      border-top-color: var(--fill-color);\n",
              "      border-right-color: var(--fill-color);\n",
              "    }\n",
              "    40% {\n",
              "      border-color: transparent;\n",
              "      border-right-color: var(--fill-color);\n",
              "      border-top-color: var(--fill-color);\n",
              "    }\n",
              "    60% {\n",
              "      border-color: transparent;\n",
              "      border-right-color: var(--fill-color);\n",
              "    }\n",
              "    80% {\n",
              "      border-color: transparent;\n",
              "      border-right-color: var(--fill-color);\n",
              "      border-bottom-color: var(--fill-color);\n",
              "    }\n",
              "    90% {\n",
              "      border-color: transparent;\n",
              "      border-bottom-color: var(--fill-color);\n",
              "    }\n",
              "  }\n",
              "</style>\n",
              "\n",
              "      <script>\n",
              "        async function quickchart(key) {\n",
              "          const quickchartButtonEl =\n",
              "            document.querySelector('#' + key + ' button');\n",
              "          quickchartButtonEl.disabled = true;  // To prevent multiple clicks.\n",
              "          quickchartButtonEl.classList.add('colab-df-spinner');\n",
              "          try {\n",
              "            const charts = await google.colab.kernel.invokeFunction(\n",
              "                'suggestCharts', [key], {});\n",
              "          } catch (error) {\n",
              "            console.error('Error during call to suggestCharts:', error);\n",
              "          }\n",
              "          quickchartButtonEl.classList.remove('colab-df-spinner');\n",
              "          quickchartButtonEl.classList.add('colab-df-quickchart-complete');\n",
              "        }\n",
              "        (() => {\n",
              "          let quickchartButtonEl =\n",
              "            document.querySelector('#df-493e8e3e-6974-4474-9dcb-5e755d1df0b2 button');\n",
              "          quickchartButtonEl.style.display =\n",
              "            google.colab.kernel.accessAllowed ? 'block' : 'none';\n",
              "        })();\n",
              "      </script>\n",
              "    </div>\n",
              "\n",
              "    </div>\n",
              "  </div>\n"
            ],
            "application/vnd.google.colaboratory.intrinsic+json": {
              "type": "dataframe",
              "repr_error": "0"
            }
          },
          "metadata": {},
          "execution_count": 36
        }
      ],
      "source": [
        "matches = tweets['text'].str.contains('dead')\n",
        "tweets[matches].sample(4)"
      ]
    },
    {
      "cell_type": "markdown",
      "metadata": {
        "id": "KHKiYQ6jwEf2"
      },
      "source": [
        "*Tip*: The tweet text will be cutoff by default when print. You can change the width of columns to show the entire tweet with the following code:"
      ]
    },
    {
      "cell_type": "code",
      "execution_count": 37,
      "metadata": {
        "id": "97VgtzEnwEf3"
      },
      "outputs": [],
      "source": [
        "pd.set_option(\"display.max_colwidth\", 160)"
      ]
    },
    {
      "cell_type": "markdown",
      "source": [
        "This is just presentational. It doesn't change your data, just how it's shown to you."
      ],
      "metadata": {
        "id": "Dghe7mPEaK0u"
      }
    },
    {
      "cell_type": "markdown",
      "metadata": {
        "id": "hCfqr3LdwEf5"
      },
      "source": [
        "## Questions 3 (24pts)\n",
        "\n",
        "*Unless otherwise specified, return all columns when asked to return tweets; e.g. don't remove the id or retweets columns.*"
      ]
    },
    {
      "cell_type": "markdown",
      "metadata": {
        "id": "_9TTHrs1wEf6"
      },
      "source": [
        "- Q3a. Write the pattern to find all the tweets that mention \"Harry Potter\". (4 pts)"
      ]
    },
    {
      "cell_type": "code",
      "execution_count": null,
      "metadata": {
        "cellView": "form",
        "id": "GTti7e-twEf6"
      },
      "outputs": [],
      "source": [
        "q3a_answer = ''  #@param {type:'string'}\n",
        "matches = tweets['text'].str.contains(q3a_answer)\n",
        "tweets[matches]"
      ]
    },
    {
      "cell_type": "markdown",
      "metadata": {
        "id": "WXuc2aWnwEf-"
      },
      "source": [
        "- Q3b. Write the pattern to return the tweets that have a hashtag (assuming only word characters in hashtags). There should be 1432 rows. (6 pts)"
      ]
    },
    {
      "cell_type": "code",
      "execution_count": null,
      "metadata": {
        "cellView": "form",
        "id": "199e5AkdwEf-"
      },
      "outputs": [],
      "source": [
        "q3b_answer = ''  #@param {type:'string'}\n",
        "matches = tweets['text'].str.contains(q3b_answer)\n",
        "tweets[matches]"
      ]
    },
    {
      "cell_type": "markdown",
      "metadata": {
        "id": "VG7bkS7owEgH"
      },
      "source": [
        "- Q3c. Write the pattern to return the tweets that have at least *two* hashtags (assuming only word characters in hashtags). There should be either 190 rows or 166 rows (depending on how you interpreted the problem). (8 pts)"
      ]
    },
    {
      "cell_type": "code",
      "execution_count": null,
      "metadata": {
        "cellView": "form",
        "id": "1v0C3jl3wEgI"
      },
      "outputs": [],
      "source": [
        "q3c_answer = '' #@param {type:'string'}\n",
        "matches = tweets['text'].str.contains(q3c_answer)\n",
        "tweets[matches]"
      ]
    },
    {
      "cell_type": "markdown",
      "metadata": {
        "id": "6Qkab5LQwEgK"
      },
      "source": [
        "- Q3d. Write the pattern to return the tweets that mention a year in the current millenium (or something that looks like one). (6 pts)"
      ]
    },
    {
      "cell_type": "code",
      "execution_count": null,
      "metadata": {
        "cellView": "form",
        "id": "ORjv0yqNwEgL"
      },
      "outputs": [],
      "source": [
        "q3d_answer = '' #@param {type:'string'}\n",
        "matches = tweets['text'].str.contains(q3d_answer)\n",
        "tweets[matches]"
      ]
    },
    {
      "cell_type": "markdown",
      "metadata": {
        "id": "-LqHFbXPwEgN"
      },
      "source": [
        "## Some more Pandas string methods\n",
        "\n",
        "Counting matches in a column:\n",
        "\n",
        "```\n",
        "df['columnName'].str.count(pat)\n",
        "```\n",
        "\n",
        "Replacing a pattern with a string:\n",
        "\n",
        "```\n",
        "df['columnName'].str.replace(pat, repl)\n",
        "```"
      ]
    },
    {
      "cell_type": "markdown",
      "metadata": {
        "id": "kJGxCqQKwEgO"
      },
      "source": [
        "## Questions 4: Other string methods and non-regex Pandas practice (20 pts)"
      ]
    },
    {
      "cell_type": "markdown",
      "metadata": {
        "id": "sxPB7bftwEgO"
      },
      "source": [
        "- Q4a Return the 20 tweets with the most favourites. (5 pts)"
      ]
    },
    {
      "cell_type": "code",
      "execution_count": null,
      "metadata": {
        "id": "M3BEeekXwEgP",
        "scrolled": true
      },
      "outputs": [],
      "source": [
        "# Answer-Q4a\n"
      ]
    },
    {
      "cell_type": "markdown",
      "metadata": {
        "id": "00D18Di4wEgT"
      },
      "source": [
        "- Q4b How many total favourites do this account's first 100 tweets ever have? (5 pts)"
      ]
    },
    {
      "cell_type": "code",
      "execution_count": null,
      "metadata": {
        "cellView": "form",
        "id": "lGF9yvphwEgT"
      },
      "outputs": [],
      "source": [
        "q4b_answer = \"\" #@param {type:'string'}"
      ]
    },
    {
      "cell_type": "markdown",
      "metadata": {
        "id": "Yar0FSsnwEgW"
      },
      "source": [
        "- Q4c What is the id of the tweet matching the following criteria: has the lowest retweet-to-favourites ratio, among tweets *without hashtags* and *with more than 1000 favourites*. (10pts)"
      ]
    },
    {
      "cell_type": "code",
      "execution_count": null,
      "metadata": {
        "cellView": "form",
        "id": "vzpJJuL5wEgX"
      },
      "outputs": [],
      "source": [
        "q4c_answer = \"\" #@param {type:'string'}\n",
        "\n",
        "#@markdown *Because of the value of this question, keep your work in a code cell, so even if your answer above is wrong, I can see what you did to assign partial marks.*"
      ]
    },
    {
      "cell_type": "markdown",
      "metadata": {
        "id": "l_qJtoTnQmAG"
      },
      "source": [
        "## Submission Instructions\n",
        "\n",
        "Only one person from your group needs to submit the assignment."
      ]
    },
    {
      "cell_type": "code",
      "execution_count": null,
      "metadata": {
        "cellView": "form",
        "id": "ZUaRz9ncQc4V"
      },
      "outputs": [],
      "source": [
        "#@markdown ### Enter your group member names for grading\n",
        "my_name = \"\" #@param { type:'string' }\n",
        "\n",
        "#@markdown _Have you saved your work for yourself? Don't forget to Save a Copy in Drive so that you have your progress._"
      ]
    }
  ],
  "metadata": {
    "colab": {
      "name": "08-lab-regular-expressions.ipynb",
      "provenance": [],
      "include_colab_link": true
    },
    "kernelspec": {
      "display_name": "Python 3",
      "language": "python",
      "name": "python3"
    },
    "language_info": {
      "codemirror_mode": {
        "name": "ipython",
        "version": 3
      },
      "file_extension": ".py",
      "mimetype": "text/x-python",
      "name": "python",
      "nbconvert_exporter": "python",
      "pygments_lexer": "ipython3",
      "version": "3.8.10"
    }
  },
  "nbformat": 4,
  "nbformat_minor": 0
}