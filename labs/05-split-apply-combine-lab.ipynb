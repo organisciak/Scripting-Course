{
  "cells": [
    {
      "cell_type": "markdown",
      "metadata": {
        "id": "view-in-github",
        "colab_type": "text"
      },
      "source": [
        "<a href=\"https://colab.research.google.com/github/organisciak/Scripting-Course/blob/master/labs/05-split-apply-combine-lab.ipynb\" target=\"_parent\"><img src=\"https://colab.research.google.com/assets/colab-badge.svg\" alt=\"Open In Colab\"/></a>"
      ]
    },
    {
      "cell_type": "markdown",
      "metadata": {
        "id": "GXA28AcEEtq-"
      },
      "source": [
        "## Lab 5: Split Apply Combine\n",
        "Reminder - save your work. Go to File > Save a Copy in Drive to ensure that you have your work saved.\n",
        "\n"
      ]
    },
    {
      "cell_type": "code",
      "execution_count": null,
      "metadata": {
        "id": "FqVctg0SEtq_"
      },
      "outputs": [],
      "source": [
        "import pandas as pd\n",
        "# this bit of code is just for downgrading sqlalchemy, due to issues with the newest version\n",
        "!pip install -qq sqlalchemy==1.4"
      ]
    },
    {
      "cell_type": "markdown",
      "metadata": {
        "id": "VPRaS210EtrD"
      },
      "source": [
        "### Movie Dataset Questions\n",
        "\n",
        "Run this code to load the dataset we'll be working with."
      ]
    },
    {
      "cell_type": "code",
      "execution_count": 2,
      "metadata": {
        "colab": {
          "base_uri": "https://localhost:8080/",
          "height": 363
        },
        "id": "T1ekcpI6EtrD",
        "outputId": "35c1c2d8-2cd4-44b3-875c-24bef4f11f2a"
      },
      "outputs": [
        {
          "output_type": "execute_result",
          "data": {
            "text/plain": [
              "       userId  rating                               title       genres  \\\n",
              "99422     581     0.5                  Santa with Muscles       Comedy   \n",
              "71717     387     5.0        Mr. Smith Goes to Washington        Drama   \n",
              "91323     394     3.0                              Cosmos  Documentary   \n",
              "8197       89     5.0                  Dances with Wolves    Adventure   \n",
              "56753     130     4.0                            Spy Kids       Action   \n",
              "52254     220     4.0            Blair Witch Project, The        Drama   \n",
              "7481       88     2.5                          Home Alone     Children   \n",
              "67289     570     4.0  Hobbit: An Unexpected Journey, The    Adventure   \n",
              "76100     152     4.5                       Blood Diamond       Action   \n",
              "50605      77     4.0                               Blade       Action   \n",
              "\n",
              "        timestamp  year  \n",
              "99422  1259726022  1996  \n",
              "71717   974682415  1939  \n",
              "91323  1297603199  1980  \n",
              "8197   1257620132  1990  \n",
              "56753  1139003242  2001  \n",
              "52254   970594863  1999  \n",
              "7481   1239764309  1990  \n",
              "67289  1475783796  2012  \n",
              "76100  1335900652  2006  \n",
              "50605  1163219362  1998  "
            ],
            "text/html": [
              "\n",
              "  <div id=\"df-36b6d2ee-9d14-4c33-886d-d4796a100eda\" class=\"colab-df-container\">\n",
              "    <div>\n",
              "<style scoped>\n",
              "    .dataframe tbody tr th:only-of-type {\n",
              "        vertical-align: middle;\n",
              "    }\n",
              "\n",
              "    .dataframe tbody tr th {\n",
              "        vertical-align: top;\n",
              "    }\n",
              "\n",
              "    .dataframe thead th {\n",
              "        text-align: right;\n",
              "    }\n",
              "</style>\n",
              "<table border=\"1\" class=\"dataframe\">\n",
              "  <thead>\n",
              "    <tr style=\"text-align: right;\">\n",
              "      <th></th>\n",
              "      <th>userId</th>\n",
              "      <th>rating</th>\n",
              "      <th>title</th>\n",
              "      <th>genres</th>\n",
              "      <th>timestamp</th>\n",
              "      <th>year</th>\n",
              "    </tr>\n",
              "  </thead>\n",
              "  <tbody>\n",
              "    <tr>\n",
              "      <th>99422</th>\n",
              "      <td>581</td>\n",
              "      <td>0.5</td>\n",
              "      <td>Santa with Muscles</td>\n",
              "      <td>Comedy</td>\n",
              "      <td>1259726022</td>\n",
              "      <td>1996</td>\n",
              "    </tr>\n",
              "    <tr>\n",
              "      <th>71717</th>\n",
              "      <td>387</td>\n",
              "      <td>5.0</td>\n",
              "      <td>Mr. Smith Goes to Washington</td>\n",
              "      <td>Drama</td>\n",
              "      <td>974682415</td>\n",
              "      <td>1939</td>\n",
              "    </tr>\n",
              "    <tr>\n",
              "      <th>91323</th>\n",
              "      <td>394</td>\n",
              "      <td>3.0</td>\n",
              "      <td>Cosmos</td>\n",
              "      <td>Documentary</td>\n",
              "      <td>1297603199</td>\n",
              "      <td>1980</td>\n",
              "    </tr>\n",
              "    <tr>\n",
              "      <th>8197</th>\n",
              "      <td>89</td>\n",
              "      <td>5.0</td>\n",
              "      <td>Dances with Wolves</td>\n",
              "      <td>Adventure</td>\n",
              "      <td>1257620132</td>\n",
              "      <td>1990</td>\n",
              "    </tr>\n",
              "    <tr>\n",
              "      <th>56753</th>\n",
              "      <td>130</td>\n",
              "      <td>4.0</td>\n",
              "      <td>Spy Kids</td>\n",
              "      <td>Action</td>\n",
              "      <td>1139003242</td>\n",
              "      <td>2001</td>\n",
              "    </tr>\n",
              "    <tr>\n",
              "      <th>52254</th>\n",
              "      <td>220</td>\n",
              "      <td>4.0</td>\n",
              "      <td>Blair Witch Project, The</td>\n",
              "      <td>Drama</td>\n",
              "      <td>970594863</td>\n",
              "      <td>1999</td>\n",
              "    </tr>\n",
              "    <tr>\n",
              "      <th>7481</th>\n",
              "      <td>88</td>\n",
              "      <td>2.5</td>\n",
              "      <td>Home Alone</td>\n",
              "      <td>Children</td>\n",
              "      <td>1239764309</td>\n",
              "      <td>1990</td>\n",
              "    </tr>\n",
              "    <tr>\n",
              "      <th>67289</th>\n",
              "      <td>570</td>\n",
              "      <td>4.0</td>\n",
              "      <td>Hobbit: An Unexpected Journey, The</td>\n",
              "      <td>Adventure</td>\n",
              "      <td>1475783796</td>\n",
              "      <td>2012</td>\n",
              "    </tr>\n",
              "    <tr>\n",
              "      <th>76100</th>\n",
              "      <td>152</td>\n",
              "      <td>4.5</td>\n",
              "      <td>Blood Diamond</td>\n",
              "      <td>Action</td>\n",
              "      <td>1335900652</td>\n",
              "      <td>2006</td>\n",
              "    </tr>\n",
              "    <tr>\n",
              "      <th>50605</th>\n",
              "      <td>77</td>\n",
              "      <td>4.0</td>\n",
              "      <td>Blade</td>\n",
              "      <td>Action</td>\n",
              "      <td>1163219362</td>\n",
              "      <td>1998</td>\n",
              "    </tr>\n",
              "  </tbody>\n",
              "</table>\n",
              "</div>\n",
              "    <div class=\"colab-df-buttons\">\n",
              "\n",
              "  <div class=\"colab-df-container\">\n",
              "    <button class=\"colab-df-convert\" onclick=\"convertToInteractive('df-36b6d2ee-9d14-4c33-886d-d4796a100eda')\"\n",
              "            title=\"Convert this dataframe to an interactive table.\"\n",
              "            style=\"display:none;\">\n",
              "\n",
              "  <svg xmlns=\"http://www.w3.org/2000/svg\" height=\"24px\" viewBox=\"0 -960 960 960\">\n",
              "    <path d=\"M120-120v-720h720v720H120Zm60-500h600v-160H180v160Zm220 220h160v-160H400v160Zm0 220h160v-160H400v160ZM180-400h160v-160H180v160Zm440 0h160v-160H620v160ZM180-180h160v-160H180v160Zm440 0h160v-160H620v160Z\"/>\n",
              "  </svg>\n",
              "    </button>\n",
              "\n",
              "  <style>\n",
              "    .colab-df-container {\n",
              "      display:flex;\n",
              "      gap: 12px;\n",
              "    }\n",
              "\n",
              "    .colab-df-convert {\n",
              "      background-color: #E8F0FE;\n",
              "      border: none;\n",
              "      border-radius: 50%;\n",
              "      cursor: pointer;\n",
              "      display: none;\n",
              "      fill: #1967D2;\n",
              "      height: 32px;\n",
              "      padding: 0 0 0 0;\n",
              "      width: 32px;\n",
              "    }\n",
              "\n",
              "    .colab-df-convert:hover {\n",
              "      background-color: #E2EBFA;\n",
              "      box-shadow: 0px 1px 2px rgba(60, 64, 67, 0.3), 0px 1px 3px 1px rgba(60, 64, 67, 0.15);\n",
              "      fill: #174EA6;\n",
              "    }\n",
              "\n",
              "    .colab-df-buttons div {\n",
              "      margin-bottom: 4px;\n",
              "    }\n",
              "\n",
              "    [theme=dark] .colab-df-convert {\n",
              "      background-color: #3B4455;\n",
              "      fill: #D2E3FC;\n",
              "    }\n",
              "\n",
              "    [theme=dark] .colab-df-convert:hover {\n",
              "      background-color: #434B5C;\n",
              "      box-shadow: 0px 1px 3px 1px rgba(0, 0, 0, 0.15);\n",
              "      filter: drop-shadow(0px 1px 2px rgba(0, 0, 0, 0.3));\n",
              "      fill: #FFFFFF;\n",
              "    }\n",
              "  </style>\n",
              "\n",
              "    <script>\n",
              "      const buttonEl =\n",
              "        document.querySelector('#df-36b6d2ee-9d14-4c33-886d-d4796a100eda button.colab-df-convert');\n",
              "      buttonEl.style.display =\n",
              "        google.colab.kernel.accessAllowed ? 'block' : 'none';\n",
              "\n",
              "      async function convertToInteractive(key) {\n",
              "        const element = document.querySelector('#df-36b6d2ee-9d14-4c33-886d-d4796a100eda');\n",
              "        const dataTable =\n",
              "          await google.colab.kernel.invokeFunction('convertToInteractive',\n",
              "                                                    [key], {});\n",
              "        if (!dataTable) return;\n",
              "\n",
              "        const docLinkHtml = 'Like what you see? Visit the ' +\n",
              "          '<a target=\"_blank\" href=https://colab.research.google.com/notebooks/data_table.ipynb>data table notebook</a>'\n",
              "          + ' to learn more about interactive tables.';\n",
              "        element.innerHTML = '';\n",
              "        dataTable['output_type'] = 'display_data';\n",
              "        await google.colab.output.renderOutput(dataTable, element);\n",
              "        const docLink = document.createElement('div');\n",
              "        docLink.innerHTML = docLinkHtml;\n",
              "        element.appendChild(docLink);\n",
              "      }\n",
              "    </script>\n",
              "  </div>\n",
              "\n",
              "\n",
              "    <div id=\"df-25c7f3c7-e4e8-4246-bc50-d66119ae44a9\">\n",
              "      <button class=\"colab-df-quickchart\" onclick=\"quickchart('df-25c7f3c7-e4e8-4246-bc50-d66119ae44a9')\"\n",
              "                title=\"Suggest charts\"\n",
              "                style=\"display:none;\">\n",
              "\n",
              "<svg xmlns=\"http://www.w3.org/2000/svg\" height=\"24px\"viewBox=\"0 0 24 24\"\n",
              "     width=\"24px\">\n",
              "    <g>\n",
              "        <path d=\"M19 3H5c-1.1 0-2 .9-2 2v14c0 1.1.9 2 2 2h14c1.1 0 2-.9 2-2V5c0-1.1-.9-2-2-2zM9 17H7v-7h2v7zm4 0h-2V7h2v10zm4 0h-2v-4h2v4z\"/>\n",
              "    </g>\n",
              "</svg>\n",
              "      </button>\n",
              "\n",
              "<style>\n",
              "  .colab-df-quickchart {\n",
              "      --bg-color: #E8F0FE;\n",
              "      --fill-color: #1967D2;\n",
              "      --hover-bg-color: #E2EBFA;\n",
              "      --hover-fill-color: #174EA6;\n",
              "      --disabled-fill-color: #AAA;\n",
              "      --disabled-bg-color: #DDD;\n",
              "  }\n",
              "\n",
              "  [theme=dark] .colab-df-quickchart {\n",
              "      --bg-color: #3B4455;\n",
              "      --fill-color: #D2E3FC;\n",
              "      --hover-bg-color: #434B5C;\n",
              "      --hover-fill-color: #FFFFFF;\n",
              "      --disabled-bg-color: #3B4455;\n",
              "      --disabled-fill-color: #666;\n",
              "  }\n",
              "\n",
              "  .colab-df-quickchart {\n",
              "    background-color: var(--bg-color);\n",
              "    border: none;\n",
              "    border-radius: 50%;\n",
              "    cursor: pointer;\n",
              "    display: none;\n",
              "    fill: var(--fill-color);\n",
              "    height: 32px;\n",
              "    padding: 0;\n",
              "    width: 32px;\n",
              "  }\n",
              "\n",
              "  .colab-df-quickchart:hover {\n",
              "    background-color: var(--hover-bg-color);\n",
              "    box-shadow: 0 1px 2px rgba(60, 64, 67, 0.3), 0 1px 3px 1px rgba(60, 64, 67, 0.15);\n",
              "    fill: var(--button-hover-fill-color);\n",
              "  }\n",
              "\n",
              "  .colab-df-quickchart-complete:disabled,\n",
              "  .colab-df-quickchart-complete:disabled:hover {\n",
              "    background-color: var(--disabled-bg-color);\n",
              "    fill: var(--disabled-fill-color);\n",
              "    box-shadow: none;\n",
              "  }\n",
              "\n",
              "  .colab-df-spinner {\n",
              "    border: 2px solid var(--fill-color);\n",
              "    border-color: transparent;\n",
              "    border-bottom-color: var(--fill-color);\n",
              "    animation:\n",
              "      spin 1s steps(1) infinite;\n",
              "  }\n",
              "\n",
              "  @keyframes spin {\n",
              "    0% {\n",
              "      border-color: transparent;\n",
              "      border-bottom-color: var(--fill-color);\n",
              "      border-left-color: var(--fill-color);\n",
              "    }\n",
              "    20% {\n",
              "      border-color: transparent;\n",
              "      border-left-color: var(--fill-color);\n",
              "      border-top-color: var(--fill-color);\n",
              "    }\n",
              "    30% {\n",
              "      border-color: transparent;\n",
              "      border-left-color: var(--fill-color);\n",
              "      border-top-color: var(--fill-color);\n",
              "      border-right-color: var(--fill-color);\n",
              "    }\n",
              "    40% {\n",
              "      border-color: transparent;\n",
              "      border-right-color: var(--fill-color);\n",
              "      border-top-color: var(--fill-color);\n",
              "    }\n",
              "    60% {\n",
              "      border-color: transparent;\n",
              "      border-right-color: var(--fill-color);\n",
              "    }\n",
              "    80% {\n",
              "      border-color: transparent;\n",
              "      border-right-color: var(--fill-color);\n",
              "      border-bottom-color: var(--fill-color);\n",
              "    }\n",
              "    90% {\n",
              "      border-color: transparent;\n",
              "      border-bottom-color: var(--fill-color);\n",
              "    }\n",
              "  }\n",
              "</style>\n",
              "\n",
              "      <script>\n",
              "        async function quickchart(key) {\n",
              "          const quickchartButtonEl =\n",
              "            document.querySelector('#' + key + ' button');\n",
              "          quickchartButtonEl.disabled = true;  // To prevent multiple clicks.\n",
              "          quickchartButtonEl.classList.add('colab-df-spinner');\n",
              "          try {\n",
              "            const charts = await google.colab.kernel.invokeFunction(\n",
              "                'suggestCharts', [key], {});\n",
              "          } catch (error) {\n",
              "            console.error('Error during call to suggestCharts:', error);\n",
              "          }\n",
              "          quickchartButtonEl.classList.remove('colab-df-spinner');\n",
              "          quickchartButtonEl.classList.add('colab-df-quickchart-complete');\n",
              "        }\n",
              "        (() => {\n",
              "          let quickchartButtonEl =\n",
              "            document.querySelector('#df-25c7f3c7-e4e8-4246-bc50-d66119ae44a9 button');\n",
              "          quickchartButtonEl.style.display =\n",
              "            google.colab.kernel.accessAllowed ? 'block' : 'none';\n",
              "        })();\n",
              "      </script>\n",
              "    </div>\n",
              "\n",
              "    </div>\n",
              "  </div>\n"
            ],
            "application/vnd.google.colaboratory.intrinsic+json": {
              "type": "dataframe",
              "summary": "{\n  \"name\": \"ratings\",\n  \"rows\": 10,\n  \"fields\": [\n    {\n      \"column\": \"userId\",\n      \"properties\": {\n        \"dtype\": \"number\",\n        \"std\": 198,\n        \"min\": 77,\n        \"max\": 581,\n        \"num_unique_values\": 10,\n        \"samples\": [\n          152,\n          387,\n          220\n        ],\n        \"semantic_type\": \"\",\n        \"description\": \"\"\n      }\n    },\n    {\n      \"column\": \"rating\",\n      \"properties\": {\n        \"dtype\": \"number\",\n        \"std\": 1.3550317749451897,\n        \"min\": 0.5,\n        \"max\": 5.0,\n        \"num_unique_values\": 6,\n        \"samples\": [\n          0.5,\n          5.0,\n          4.5\n        ],\n        \"semantic_type\": \"\",\n        \"description\": \"\"\n      }\n    },\n    {\n      \"column\": \"title\",\n      \"properties\": {\n        \"dtype\": \"string\",\n        \"num_unique_values\": 10,\n        \"samples\": [\n          \"Blood Diamond\",\n          \"Mr. Smith Goes to Washington\",\n          \"Blair Witch Project, The\"\n        ],\n        \"semantic_type\": \"\",\n        \"description\": \"\"\n      }\n    },\n    {\n      \"column\": \"genres\",\n      \"properties\": {\n        \"dtype\": \"string\",\n        \"num_unique_values\": 6,\n        \"samples\": [\n          \"Comedy\",\n          \"Drama\",\n          \"Children\"\n        ],\n        \"semantic_type\": \"\",\n        \"description\": \"\"\n      }\n    },\n    {\n      \"column\": \"timestamp\",\n      \"properties\": {\n        \"dtype\": \"number\",\n        \"std\": 156237506,\n        \"min\": 970594863,\n        \"max\": 1475783796,\n        \"num_unique_values\": 10,\n        \"samples\": [\n          1335900652,\n          974682415,\n          970594863\n        ],\n        \"semantic_type\": \"\",\n        \"description\": \"\"\n      }\n    },\n    {\n      \"column\": \"year\",\n      \"properties\": {\n        \"dtype\": \"number\",\n        \"std\": 20,\n        \"min\": 1939,\n        \"max\": 2012,\n        \"num_unique_values\": 9,\n        \"samples\": [\n          2006,\n          1939,\n          1999\n        ],\n        \"semantic_type\": \"\",\n        \"description\": \"\"\n      }\n    }\n  ]\n}"
            }
          },
          "metadata": {},
          "execution_count": 2
        }
      ],
      "source": [
        "ratings = pd.read_csv('https://raw.githubusercontent.com/organisciak/Scripting-Course/master/data/movielens_small.csv')\n",
        "ratings.sample(10)"
      ]
    },
    {
      "cell_type": "markdown",
      "metadata": {
        "id": "niP4SNReJmCL"
      },
      "source": [
        "**Questions**\n",
        "\n",
        "**Q1)** Write the code to determine the median rating by each user. *(4 points)*"
      ]
    },
    {
      "cell_type": "code",
      "execution_count": 4,
      "metadata": {
        "id": "yvhxxnlheHkI"
      },
      "outputs": [],
      "source": [
        "# Answer-Q1\n"
      ]
    },
    {
      "cell_type": "markdown",
      "metadata": {
        "id": "9dW32Jeocbjs"
      },
      "source": [
        "**Q2)** Using groupby, write the code to count how many ratings there are in each genre. *(4 points)*"
      ]
    },
    {
      "cell_type": "code",
      "execution_count": 8,
      "metadata": {
        "id": "BOa7SLx3eJWe"
      },
      "outputs": [],
      "source": [
        "# Answer-Q2\n"
      ]
    },
    {
      "cell_type": "markdown",
      "metadata": {
        "id": "sgzftqKrKVbV"
      },
      "source": [
        "**Q3)** The previous question can be answered without groupby. How? *(4 points)*\n",
        "\n",
        "  *   a) ratings.genres.unique()\n",
        "  *   b) ratings['genres'].value_counts()\n",
        "  *   c) ratings[['genres']].unique()\n",
        "\n",
        "\n",
        "\n",
        "\n",
        "\n",
        "\n"
      ]
    },
    {
      "cell_type": "code",
      "execution_count": null,
      "metadata": {
        "cellView": "form",
        "id": "unCOCHwvQCdy"
      },
      "outputs": [],
      "source": [
        "q3_answer = \"\" #@param [\"\", \"a) ratings.genres.unique()\", \"b) ratings['genres'].value_counts()\", \"c) ratings[['genres']].unique()\"]"
      ]
    },
    {
      "cell_type": "markdown",
      "source": [
        "*Pandas* tip: The answer above is generally a good skill to remember. When you *group by* a single column and your *apply* is `size`, you can also do the function above - which performs a count of all unique values in a column and sorts them."
      ],
      "metadata": {
        "id": "5Su-Zyy5fz4l"
      }
    },
    {
      "cell_type": "markdown",
      "metadata": {
        "id": "EiubCWBRU8Lh"
      },
      "source": [
        "**Q4)** Which genre has the worst average ratings? *(4 points)*\n",
        "  *   a) Horror\n",
        "  *   b) Film-Noir\n",
        "  *   c) Mystery\n",
        "  *   d) Sci-Fi\n",
        "\n",
        "\n",
        "\n",
        "\n",
        "\n",
        "\n",
        "\n"
      ]
    },
    {
      "cell_type": "code",
      "execution_count": null,
      "metadata": {
        "cellView": "form",
        "id": "JXw5DiT_WzfZ"
      },
      "outputs": [],
      "source": [
        "q4_answer = \"\" #@param [\"\", \"a) Horror\", \"b) Film-Noir\", \"c) Mystery\", \"d) Sci-Fi\"]"
      ]
    },
    {
      "cell_type": "markdown",
      "metadata": {
        "id": "w_S6_sXOLS1k"
      },
      "source": [
        "**Q5)** Select the three most out-of-fashion film genres, defined by lowest median release year: *(4 points)*\n",
        "  *   Crime\n",
        "  *   Documentary\n",
        "  *   Film-Noir\n",
        "  *   Musical\n",
        "  *   Children\n",
        "  *   Adventure\n",
        "  *   War\n",
        "\n"
      ]
    },
    {
      "cell_type": "code",
      "execution_count": null,
      "metadata": {
        "cellView": "form",
        "id": "lDR5mdvRXdf4"
      },
      "outputs": [],
      "source": [
        "q5_first = \"\" #@param [\"\", 'Crime', 'Documentary', 'Film-Noir', 'Musical', 'Children', 'Adventure', 'War']\n",
        "q5_second = \"\" #@param [\"\", 'Crime', 'Documentary', 'Film-Noir', 'Musical', 'Children', 'Adventure', 'War']\n",
        "q5_third = \"\" #@param [\"\", 'Crime', 'Documentary', 'Film-Noir', 'Musical', 'Children', 'Adventure', 'War']\n",
        "q5_answer = sorted([q5_first, q5_second, q5_third])"
      ]
    },
    {
      "cell_type": "markdown",
      "metadata": {
        "id": "1MawERHXLS8s"
      },
      "source": [
        "**Q6)** Which post-2011 film has the most deviation among ratings? *(4 points)*\n",
        "    \n",
        "*   The Heat\n",
        "*   Twilight Saga: Breaking Dawn\n",
        "*   The Secret Life of Pets\n",
        "*  Drinking Buddies"
      ]
    },
    {
      "cell_type": "code",
      "execution_count": null,
      "metadata": {
        "cellView": "form",
        "id": "xWrvJFF6YBWT"
      },
      "outputs": [],
      "source": [
        "q6_answer = \"\" #@param [\"\", \"a) The Heat\", \"b) Twilight Saga: Breaking Dawn\", \"c) The Secret Life of Pets\", \"d) Driniking Buddies\"]"
      ]
    },
    {
      "cell_type": "markdown",
      "metadata": {
        "id": "2mzwYb_gLTwL"
      },
      "source": [
        "**Q7)** Get all the unique combinations of title+year. Submit the code. *(4 points)*"
      ]
    },
    {
      "cell_type": "code",
      "execution_count": null,
      "metadata": {
        "id": "ffCzC7ebbQnH"
      },
      "outputs": [],
      "source": [
        "# Answer-Q7\n"
      ]
    },
    {
      "cell_type": "markdown",
      "metadata": {
        "id": "P-unC6B1LT6E"
      },
      "source": [
        "**Q8)** Run `ratings['movie']`. What does the error mean? *(3 points)*"
      ]
    },
    {
      "cell_type": "code",
      "execution_count": null,
      "metadata": {
        "cellView": "form",
        "id": "HC_9NNIvX96b"
      },
      "outputs": [],
      "source": [
        "q8_answer = \"\" #@param {type:\"string\"}"
      ]
    },
    {
      "cell_type": "markdown",
      "metadata": {
        "id": "b2nZcJJRLUF7"
      },
      "source": [
        "**Q9)** What does the error message mean for the following code: `ratings['new_column'] = ratings[ratings.genres == 'Drama']` ? *(4 points)*"
      ]
    },
    {
      "cell_type": "code",
      "execution_count": null,
      "metadata": {
        "cellView": "form",
        "id": "cV3DR9TlX-Xj"
      },
      "outputs": [],
      "source": [
        "q9_answer = \"\" #@param {type:\"string\"}"
      ]
    },
    {
      "cell_type": "markdown",
      "metadata": {
        "id": "V6oVG9RPLUQE"
      },
      "source": [
        "**Q10)** Find all movie titles that are used by multiple movies. Consider a unique 'movie' as a unique title+year pair. Share your code. *(8 points)*\n",
        "\n",
        "(Hint - there should be 207 movie titles that you return)."
      ]
    },
    {
      "cell_type": "code",
      "execution_count": null,
      "metadata": {
        "id": "_-D88P4IbM1V"
      },
      "outputs": [],
      "source": [
        "# Answer-Q10\n"
      ]
    },
    {
      "cell_type": "markdown",
      "metadata": {
        "id": "SZcrfZv6EtrK"
      },
      "source": [
        "## Input / Output\n",
        "\n",
        "**Q11)** For the movie data: write the code to save a CSV of year/title/mean_rating. Save it in the default folder and call it `mean_ratings.csv`. *(5 points)*"
      ]
    },
    {
      "cell_type": "code",
      "execution_count": null,
      "metadata": {
        "id": "9psGwyHMernQ"
      },
      "outputs": [],
      "source": [
        "# Answer-Q11\n"
      ]
    },
    {
      "cell_type": "code",
      "execution_count": null,
      "metadata": {
        "cellView": "form",
        "id": "zsavBA1Ack8Y"
      },
      "outputs": [],
      "source": [
        "#@markdown **Q12)** Write the code to open our book circulation database from two weeks ago, and retrieve information on patrons that are at least 18 years old as a DataFrame. *(7 points)*\n",
        "\n",
        "#@markdown *Run this cell to download our circulation data sqlite database again*\n",
        "!wget -nv https://github.com/organisciak/Scripting-Course/blob/master/data/circulation.sqlite?raw=true -O circulation.sqlite\n",
        "\n",
        "#@markdown Tip - your database connection string will be `'sqlite:///circulation.sqlite'`"
      ]
    },
    {
      "cell_type": "code",
      "execution_count": null,
      "metadata": {
        "id": "6LZpVihyexFw"
      },
      "outputs": [],
      "source": [
        "# Answer-Q12\n"
      ]
    },
    {
      "cell_type": "markdown",
      "metadata": {
        "id": "B0FyBIVaex5P"
      },
      "source": [
        "**Q13)** For patrons 18 years old and older, what is the most common home city? *(5 points)*\n",
        "\n",
        "*   Thomasmouth\n",
        "*   New Hannah\n",
        "*   Michelefurt\n",
        "\n",
        "*Hint - the second most common city in your results should be a 3-way tie, between 'East Brookefort' and two other cities.*\n",
        "\n"
      ]
    },
    {
      "cell_type": "code",
      "execution_count": null,
      "metadata": {
        "cellView": "form",
        "id": "sgHEw6X0gOAt"
      },
      "outputs": [],
      "source": [
        "q13_answer = \"\" #@param [\"\", \"a) Thomasmouth\", \"b) New Hannah\", \"c) Michelefurt\"]"
      ]
    },
    {
      "cell_type": "markdown",
      "metadata": {
        "id": "0XSzpS3VfI3_"
      },
      "source": [
        "**Q14)** Write the code to determine the author with the most books checked out. Tip: remember joins! You can write a query for Pandas to retrieve a single, already joined table (you know how to do this). If you're adventurous and want to try an alternative that we didn't learn, it is also possible to do the join in Pandas. *(10 points)*\n",
        "\n",
        "*Hint*: The answer is J.K. Rowling with 63 books."
      ]
    },
    {
      "cell_type": "code",
      "execution_count": null,
      "metadata": {
        "id": "ASiCidJSfKeX"
      },
      "outputs": [],
      "source": [
        "# Answer-Q14\n"
      ]
    },
    {
      "cell_type": "markdown",
      "metadata": {
        "id": "rRTXgyq1e6xv"
      },
      "source": [
        "**Q15.**\n",
        "\n",
        "a) Write the code to retrieve the list of main songs recorded by the Beatles from Wikipedia. *(8 points)*\n",
        "\n",
        "*Hint*: The answer should have 213 rows (or close - Wikipedia is ever-changing!)."
      ]
    },
    {
      "cell_type": "code",
      "execution_count": 15,
      "metadata": {
        "id": "XvezMC2-fLBu"
      },
      "outputs": [],
      "source": [
        "# Answer-Q15a"
      ]
    },
    {
      "cell_type": "code",
      "execution_count": 14,
      "metadata": {
        "cellView": "form",
        "id": "2dZ_EQA94xs9"
      },
      "outputs": [],
      "source": [
        "#@markdown **b)** How many songs by Carl Perkins did the Beatles record? (*3pts*)\n",
        "\n",
        "q15b_answer = 0 #@param{type:'integer'}\n",
        "\n",
        "#@markdown **c)** What's the median year of a unique Beatles recording (i.e. the year where half of the songs were recorded before, and half after)? (*3pts*)\n",
        "\n",
        "q15c_answer = 0 #@param{type:'integer'}\n",
        "\n",
        "#@markdown **d)** From the typical songwriting combinations in the group (LennonMcCartney, Harrison, and Starkey), which one had the latest mean songwriting year? (*4pts*)\n",
        "q15d_answer = '' #@param [\"\", \"LennonMcCartney\", \"Harrison\", \"Starkey\"]"
      ]
    },
    {
      "cell_type": "markdown",
      "metadata": {
        "id": "oKJdOUuMEtrL"
      },
      "source": [
        "## Is In"
      ]
    },
    {
      "cell_type": "markdown",
      "metadata": {
        "id": "PeM1mquaEtrM"
      },
      "source": [
        "Not all selection is done with logical operators. One useful method for a `Series` is `isin()`.\n",
        "\n",
        "`isin()` takes a list or collection of values, and returns True/False for whether each item in the Series is in that set of values. Remember that DataFrame columns are Series'.\n",
        "\n",
        "Example: Find movies where the genre is one of the following: Drama, Action, Sci-Fi."
      ]
    },
    {
      "cell_type": "code",
      "execution_count": null,
      "metadata": {
        "colab": {
          "base_uri": "https://localhost:8080/",
          "height": 359
        },
        "id": "rSZ2-L5aEtrN",
        "outputId": "4701b1c1-49a2-4658-f1c0-362f3fb1f5d6"
      },
      "outputs": [
        {
          "data": {
            "text/html": [
              "<div>\n",
              "<style scoped>\n",
              "    .dataframe tbody tr th:only-of-type {\n",
              "        vertical-align: middle;\n",
              "    }\n",
              "\n",
              "    .dataframe tbody tr th {\n",
              "        vertical-align: top;\n",
              "    }\n",
              "\n",
              "    .dataframe thead th {\n",
              "        text-align: right;\n",
              "    }\n",
              "</style>\n",
              "<table border=\"1\" class=\"dataframe\">\n",
              "  <thead>\n",
              "    <tr style=\"text-align: right;\">\n",
              "      <th></th>\n",
              "      <th>userId</th>\n",
              "      <th>rating</th>\n",
              "      <th>title</th>\n",
              "      <th>genres</th>\n",
              "      <th>timestamp</th>\n",
              "      <th>year</th>\n",
              "    </tr>\n",
              "  </thead>\n",
              "  <tbody>\n",
              "    <tr>\n",
              "      <th>21514</th>\n",
              "      <td>509</td>\n",
              "      <td>3.0</td>\n",
              "      <td>Jerk, The</td>\n",
              "      <td>Comedy</td>\n",
              "      <td>940642681</td>\n",
              "      <td>1979</td>\n",
              "    </tr>\n",
              "    <tr>\n",
              "      <th>90017</th>\n",
              "      <td>529</td>\n",
              "      <td>1.0</td>\n",
              "      <td>Affair to Remember, An</td>\n",
              "      <td>Drama</td>\n",
              "      <td>959975472</td>\n",
              "      <td>1957</td>\n",
              "    </tr>\n",
              "    <tr>\n",
              "      <th>85306</th>\n",
              "      <td>192</td>\n",
              "      <td>2.0</td>\n",
              "      <td>Richie Rich</td>\n",
              "      <td>Children</td>\n",
              "      <td>843634385</td>\n",
              "      <td>1994</td>\n",
              "    </tr>\n",
              "    <tr>\n",
              "      <th>55865</th>\n",
              "      <td>311</td>\n",
              "      <td>4.0</td>\n",
              "      <td>Contender, The</td>\n",
              "      <td>Drama</td>\n",
              "      <td>1094585477</td>\n",
              "      <td>2000</td>\n",
              "    </tr>\n",
              "    <tr>\n",
              "      <th>9171</th>\n",
              "      <td>150</td>\n",
              "      <td>5.0</td>\n",
              "      <td>Shawshank Redemption, The</td>\n",
              "      <td>Crime</td>\n",
              "      <td>1113907633</td>\n",
              "      <td>1994</td>\n",
              "    </tr>\n",
              "    <tr>\n",
              "      <th>8755</th>\n",
              "      <td>435</td>\n",
              "      <td>4.0</td>\n",
              "      <td>Silence of the Lambs, The</td>\n",
              "      <td>Crime</td>\n",
              "      <td>891508567</td>\n",
              "      <td>1991</td>\n",
              "    </tr>\n",
              "    <tr>\n",
              "      <th>92537</th>\n",
              "      <td>190</td>\n",
              "      <td>3.0</td>\n",
              "      <td>Love Letter, The</td>\n",
              "      <td>Comedy</td>\n",
              "      <td>975694648</td>\n",
              "      <td>1999</td>\n",
              "    </tr>\n",
              "    <tr>\n",
              "      <th>26541</th>\n",
              "      <td>541</td>\n",
              "      <td>4.0</td>\n",
              "      <td>Being John Malkovich</td>\n",
              "      <td>Comedy</td>\n",
              "      <td>976829924</td>\n",
              "      <td>1999</td>\n",
              "    </tr>\n",
              "    <tr>\n",
              "      <th>86358</th>\n",
              "      <td>187</td>\n",
              "      <td>3.0</td>\n",
              "      <td>Tremors</td>\n",
              "      <td>Comedy</td>\n",
              "      <td>1241388708</td>\n",
              "      <td>1990</td>\n",
              "    </tr>\n",
              "    <tr>\n",
              "      <th>91129</th>\n",
              "      <td>132</td>\n",
              "      <td>2.5</td>\n",
              "      <td>Wind Will Carry Us, The (Bad ma ra khahad bord)</td>\n",
              "      <td>Drama</td>\n",
              "      <td>1283580984</td>\n",
              "      <td>1999</td>\n",
              "    </tr>\n",
              "  </tbody>\n",
              "</table>\n",
              "</div>"
            ],
            "text/plain": [
              "       userId  rating  ...   timestamp  year\n",
              "21514     509     3.0  ...   940642681  1979\n",
              "90017     529     1.0  ...   959975472  1957\n",
              "85306     192     2.0  ...   843634385  1994\n",
              "55865     311     4.0  ...  1094585477  2000\n",
              "9171      150     5.0  ...  1113907633  1994\n",
              "8755      435     4.0  ...   891508567  1991\n",
              "92537     190     3.0  ...   975694648  1999\n",
              "26541     541     4.0  ...   976829924  1999\n",
              "86358     187     3.0  ...  1241388708  1990\n",
              "91129     132     2.5  ...  1283580984  1999\n",
              "\n",
              "[10 rows x 6 columns]"
            ]
          },
          "execution_count": 6,
          "metadata": {
            "tags": []
          },
          "output_type": "execute_result"
        }
      ],
      "source": [
        "sample = ratings.sample(10)\n",
        "sample"
      ]
    },
    {
      "cell_type": "code",
      "execution_count": null,
      "metadata": {
        "colab": {
          "base_uri": "https://localhost:8080/",
          "height": 215
        },
        "id": "fOEzptHxEtrQ",
        "outputId": "7b42f0d1-6030-4a47-cb01-064f8265ee5e",
        "scrolled": true
      },
      "outputs": [
        {
          "data": {
            "text/plain": [
              "21514    False\n",
              "90017     True\n",
              "85306    False\n",
              "55865     True\n",
              "9171     False\n",
              "8755     False\n",
              "92537    False\n",
              "26541    False\n",
              "86358    False\n",
              "91129     True\n",
              "Name: genres, dtype: bool"
            ]
          },
          "execution_count": 7,
          "metadata": {
            "tags": []
          },
          "output_type": "execute_result"
        }
      ],
      "source": [
        "sample.genres.isin(['Action', 'Drama', 'Sci-Fi'])"
      ]
    },
    {
      "cell_type": "code",
      "execution_count": null,
      "metadata": {
        "colab": {
          "base_uri": "https://localhost:8080/",
          "height": 142
        },
        "id": "7FLG4bvSEtrT",
        "outputId": "ed174d2b-242e-4939-def7-48984c3f6d00"
      },
      "outputs": [
        {
          "data": {
            "text/html": [
              "<div>\n",
              "<style scoped>\n",
              "    .dataframe tbody tr th:only-of-type {\n",
              "        vertical-align: middle;\n",
              "    }\n",
              "\n",
              "    .dataframe tbody tr th {\n",
              "        vertical-align: top;\n",
              "    }\n",
              "\n",
              "    .dataframe thead th {\n",
              "        text-align: right;\n",
              "    }\n",
              "</style>\n",
              "<table border=\"1\" class=\"dataframe\">\n",
              "  <thead>\n",
              "    <tr style=\"text-align: right;\">\n",
              "      <th></th>\n",
              "      <th>userId</th>\n",
              "      <th>rating</th>\n",
              "      <th>title</th>\n",
              "      <th>genres</th>\n",
              "      <th>timestamp</th>\n",
              "      <th>year</th>\n",
              "    </tr>\n",
              "  </thead>\n",
              "  <tbody>\n",
              "    <tr>\n",
              "      <th>90017</th>\n",
              "      <td>529</td>\n",
              "      <td>1.0</td>\n",
              "      <td>Affair to Remember, An</td>\n",
              "      <td>Drama</td>\n",
              "      <td>959975472</td>\n",
              "      <td>1957</td>\n",
              "    </tr>\n",
              "    <tr>\n",
              "      <th>55865</th>\n",
              "      <td>311</td>\n",
              "      <td>4.0</td>\n",
              "      <td>Contender, The</td>\n",
              "      <td>Drama</td>\n",
              "      <td>1094585477</td>\n",
              "      <td>2000</td>\n",
              "    </tr>\n",
              "    <tr>\n",
              "      <th>91129</th>\n",
              "      <td>132</td>\n",
              "      <td>2.5</td>\n",
              "      <td>Wind Will Carry Us, The (Bad ma ra khahad bord)</td>\n",
              "      <td>Drama</td>\n",
              "      <td>1283580984</td>\n",
              "      <td>1999</td>\n",
              "    </tr>\n",
              "  </tbody>\n",
              "</table>\n",
              "</div>"
            ],
            "text/plain": [
              "       userId  rating  ...   timestamp  year\n",
              "90017     529     1.0  ...   959975472  1957\n",
              "55865     311     4.0  ...  1094585477  2000\n",
              "91129     132     2.5  ...  1283580984  1999\n",
              "\n",
              "[3 rows x 6 columns]"
            ]
          },
          "execution_count": 8,
          "metadata": {
            "tags": []
          },
          "output_type": "execute_result"
        }
      ],
      "source": [
        "sample[sample.genres.isin(['Action', 'Drama', 'Sci-Fi'])]"
      ]
    },
    {
      "cell_type": "markdown",
      "metadata": {
        "id": "troNEmkTEtrV"
      },
      "source": [
        "***Q16)***\n",
        "\n",
        "Practice using `isin()` yourself, then try the following bigger question:\n",
        "    \n",
        "- Write the code to select all ratings by the 10 most prolific users. It's fine if you manually write the list of prolific users' ids - but even so, you'll need to figure out how to get them! (*12 pts*)\n",
        "\n",
        "Common error: remember that you're processing *all* ratings, not the 10 row `sample` DataFrame."
      ]
    },
    {
      "cell_type": "code",
      "execution_count": null,
      "metadata": {
        "id": "9oazuMVqQ7LA"
      },
      "outputs": [],
      "source": [
        "# Answer-Q16\n"
      ]
    },
    {
      "cell_type": "markdown",
      "metadata": {
        "id": "DMeFdL1XVl4y"
      },
      "source": [
        "# Submission Instructions"
      ]
    },
    {
      "cell_type": "code",
      "execution_count": null,
      "metadata": {
        "cellView": "form",
        "id": "4QvQhFVlTyWy"
      },
      "outputs": [],
      "source": [
        "#@markdown ### First, Enter your name for grading\n",
        "my_name = \"\" #@param { type:'string' }\n",
        "\n",
        "#@markdown _Have you saved your work for yourself? Don't forget to Save a Copy in Drive so that you have your progress._"
      ]
    },
    {
      "cell_type": "code",
      "execution_count": null,
      "metadata": {
        "cellView": "form",
        "id": "Q6ku7nibRp4O"
      },
      "outputs": [],
      "source": [
        "#@markdown ### Second, check your work:\n",
        "\n",
        "#@markdown - have you answered all the questions?\n",
        "#@markdown - Does this notebook run from top to bottom?\n",
        "#@markdown     - Go to \"Runtime > Restart and run all...\" to check. Do all the cells run, to the very bottom, or is there a cell in the middle with an error?\n",
        "#@markdown - Have you completed all the answers where you entered code, keeping the `# Answer-Qx` line at the start of those cells?\n",
        "\n",
        "#@markdown *A lab that the professor has to fix manually will lose 10pts - run the checks!*\n",
        "\n",
        "#@markdown ### Finally, submit it\n",
        "\n",
        "#@markdown - Download the file with \"File > Download .ipynb\" and submit it to the Canvas assignment page."
      ]
    }
  ],
  "metadata": {
    "colab": {
      "name": "05-split-apply-combine-lab.ipynb",
      "provenance": [],
      "include_colab_link": true
    },
    "kernelspec": {
      "display_name": "Python 3",
      "language": "python",
      "name": "python3"
    },
    "language_info": {
      "codemirror_mode": {
        "name": "ipython",
        "version": 3
      },
      "file_extension": ".py",
      "mimetype": "text/x-python",
      "name": "python",
      "nbconvert_exporter": "python",
      "pygments_lexer": "ipython3",
      "version": "3.9.12"
    }
  },
  "nbformat": 4,
  "nbformat_minor": 0
}