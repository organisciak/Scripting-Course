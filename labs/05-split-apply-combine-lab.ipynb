{
  "cells": [
    {
      "cell_type": "markdown",
      "metadata": {
        "id": "view-in-github",
        "colab_type": "text"
      },
      "source": [
        "<a href=\"https://colab.research.google.com/github/organisciak/Scripting-Course/blob/master/labs/05-split-apply-combine-lab.ipynb\" target=\"_parent\"><img src=\"https://colab.research.google.com/assets/colab-badge.svg\" alt=\"Open In Colab\"/></a>"
      ]
    },
    {
      "cell_type": "markdown",
      "metadata": {
        "id": "GXA28AcEEtq-"
      },
      "source": [
        "## Lab 5: Split Apply Combine\n",
        "Reminder - save your work. Go to File > Save a Copy in Drive to ensure that you have your work saved.\n",
        "\n"
      ]
    },
    {
      "cell_type": "code",
      "execution_count": null,
      "metadata": {
        "id": "FqVctg0SEtq_",
        "outputId": "9bbe02f3-4a49-4ef2-afee-b505f137a3cb",
        "colab": {
          "base_uri": "https://localhost:8080/"
        }
      },
      "outputs": [
        {
          "output_type": "stream",
          "name": "stdout",
          "text": [
            "\u001b[2K     \u001b[90m━━━━━━━━━━━━━━━━━━━━━━━━━━━━━━━━━━━━━━━━\u001b[0m \u001b[32m7.4/7.4 MB\u001b[0m \u001b[31m16.9 MB/s\u001b[0m eta \u001b[36m0:00:00\u001b[0m\n",
            "\u001b[?25h  Preparing metadata (setup.py) ... \u001b[?25l\u001b[?25hdone\n",
            "  Building wheel for sqlalchemy (setup.py) ... \u001b[?25l\u001b[?25hdone\n"
          ]
        }
      ],
      "source": [
        "import pandas as pd\n",
        "# this bit of code is just for downgrading sqlalchemy, due to issues with the newest version\n",
        "!pip install -qq sqlalchemy==1.4"
      ]
    },
    {
      "cell_type": "markdown",
      "metadata": {
        "id": "VPRaS210EtrD"
      },
      "source": [
        "### Movie Dataset Questions"
      ]
    },
    {
      "cell_type": "code",
      "execution_count": null,
      "metadata": {
        "colab": {
          "base_uri": "https://localhost:8080/",
          "height": 359
        },
        "id": "T1ekcpI6EtrD",
        "outputId": "c3fb139f-7db0-47d4-944f-35da5ac077d1"
      },
      "outputs": [
        {
          "data": {
            "text/html": [
              "<div>\n",
              "<style scoped>\n",
              "    .dataframe tbody tr th:only-of-type {\n",
              "        vertical-align: middle;\n",
              "    }\n",
              "\n",
              "    .dataframe tbody tr th {\n",
              "        vertical-align: top;\n",
              "    }\n",
              "\n",
              "    .dataframe thead th {\n",
              "        text-align: right;\n",
              "    }\n",
              "</style>\n",
              "<table border=\"1\" class=\"dataframe\">\n",
              "  <thead>\n",
              "    <tr style=\"text-align: right;\">\n",
              "      <th></th>\n",
              "      <th>userId</th>\n",
              "      <th>rating</th>\n",
              "      <th>title</th>\n",
              "      <th>genres</th>\n",
              "      <th>timestamp</th>\n",
              "      <th>year</th>\n",
              "    </tr>\n",
              "  </thead>\n",
              "  <tbody>\n",
              "    <tr>\n",
              "      <th>19089</th>\n",
              "      <td>654</td>\n",
              "      <td>4.5</td>\n",
              "      <td>Indiana Jones and the Last Crusade</td>\n",
              "      <td>Action</td>\n",
              "      <td>1145390078</td>\n",
              "      <td>1989</td>\n",
              "    </tr>\n",
              "    <tr>\n",
              "      <th>21525</th>\n",
              "      <td>4</td>\n",
              "      <td>3.0</td>\n",
              "      <td>Dead Men Don't Wear Plaid</td>\n",
              "      <td>Comedy</td>\n",
              "      <td>949896309</td>\n",
              "      <td>1982</td>\n",
              "    </tr>\n",
              "    <tr>\n",
              "      <th>68129</th>\n",
              "      <td>213</td>\n",
              "      <td>2.5</td>\n",
              "      <td>John Wick</td>\n",
              "      <td>Action</td>\n",
              "      <td>1462634437</td>\n",
              "      <td>2014</td>\n",
              "    </tr>\n",
              "    <tr>\n",
              "      <th>1848</th>\n",
              "      <td>194</td>\n",
              "      <td>4.0</td>\n",
              "      <td>Braveheart</td>\n",
              "      <td>Action</td>\n",
              "      <td>848098284</td>\n",
              "      <td>1995</td>\n",
              "    </tr>\n",
              "    <tr>\n",
              "      <th>22855</th>\n",
              "      <td>202</td>\n",
              "      <td>5.0</td>\n",
              "      <td>Mosquito Coast, The</td>\n",
              "      <td>Adventure</td>\n",
              "      <td>1046143639</td>\n",
              "      <td>1986</td>\n",
              "    </tr>\n",
              "    <tr>\n",
              "      <th>32289</th>\n",
              "      <td>100</td>\n",
              "      <td>3.0</td>\n",
              "      <td>Independence Day (a.k.a. ID4)</td>\n",
              "      <td>Action</td>\n",
              "      <td>854193977</td>\n",
              "      <td>1996</td>\n",
              "    </tr>\n",
              "    <tr>\n",
              "      <th>89686</th>\n",
              "      <td>564</td>\n",
              "      <td>5.0</td>\n",
              "      <td>Decline of Western Civilization, The</td>\n",
              "      <td>Documentary</td>\n",
              "      <td>974714061</td>\n",
              "      <td>1981</td>\n",
              "    </tr>\n",
              "    <tr>\n",
              "      <th>4199</th>\n",
              "      <td>92</td>\n",
              "      <td>3.0</td>\n",
              "      <td>While You Were Sleeping</td>\n",
              "      <td>Comedy</td>\n",
              "      <td>848525694</td>\n",
              "      <td>1995</td>\n",
              "    </tr>\n",
              "    <tr>\n",
              "      <th>56398</th>\n",
              "      <td>353</td>\n",
              "      <td>3.5</td>\n",
              "      <td>O Brother, Where Art Thou?</td>\n",
              "      <td>Adventure</td>\n",
              "      <td>1157498637</td>\n",
              "      <td>2000</td>\n",
              "    </tr>\n",
              "    <tr>\n",
              "      <th>17926</th>\n",
              "      <td>268</td>\n",
              "      <td>4.5</td>\n",
              "      <td>Terminator, The</td>\n",
              "      <td>Action</td>\n",
              "      <td>1314894258</td>\n",
              "      <td>1984</td>\n",
              "    </tr>\n",
              "  </tbody>\n",
              "</table>\n",
              "</div>"
            ],
            "text/plain": [
              "       userId  rating  ...   timestamp  year\n",
              "19089     654     4.5  ...  1145390078  1989\n",
              "21525       4     3.0  ...   949896309  1982\n",
              "68129     213     2.5  ...  1462634437  2014\n",
              "1848      194     4.0  ...   848098284  1995\n",
              "22855     202     5.0  ...  1046143639  1986\n",
              "32289     100     3.0  ...   854193977  1996\n",
              "89686     564     5.0  ...   974714061  1981\n",
              "4199       92     3.0  ...   848525694  1995\n",
              "56398     353     3.5  ...  1157498637  2000\n",
              "17926     268     4.5  ...  1314894258  1984\n",
              "\n",
              "[10 rows x 6 columns]"
            ]
          },
          "execution_count": 2,
          "metadata": {
            "tags": []
          },
          "output_type": "execute_result"
        }
      ],
      "source": [
        "ratings = pd.read_csv('https://raw.githubusercontent.com/organisciak/Scripting-Course/master/data/movielens_small.csv')\n",
        "ratings.sample(10)"
      ]
    },
    {
      "cell_type": "markdown",
      "metadata": {
        "id": "niP4SNReJmCL"
      },
      "source": [
        "**Questions**\n",
        "\n",
        "**Q1)** Write the code to determine the median rating by each user. *(4 points)*"
      ]
    },
    {
      "cell_type": "code",
      "execution_count": null,
      "metadata": {
        "id": "yvhxxnlheHkI"
      },
      "outputs": [],
      "source": [
        "# Answer-Q1\n"
      ]
    },
    {
      "cell_type": "markdown",
      "metadata": {
        "id": "9dW32Jeocbjs"
      },
      "source": [
        "**Q2)** Using groupby, write the code to count how many ratings there are in each genre. *(4 points)*"
      ]
    },
    {
      "cell_type": "code",
      "execution_count": null,
      "metadata": {
        "id": "BOa7SLx3eJWe"
      },
      "outputs": [],
      "source": [
        "# Answer-Q2\n"
      ]
    },
    {
      "cell_type": "markdown",
      "metadata": {
        "id": "sgzftqKrKVbV"
      },
      "source": [
        "**Q3)** The previous question can be answered without groupby. How? *(4 points)*\n",
        "\n",
        "  *   a) ratings.genres.unique()\n",
        "  *   b) ratings['genres'].value_counts()\n",
        "  *   c) ratings[['genres']].unique()\n",
        "\n",
        "\n",
        "\n",
        "\n",
        "\n",
        "\n"
      ]
    },
    {
      "cell_type": "code",
      "execution_count": null,
      "metadata": {
        "cellView": "form",
        "id": "unCOCHwvQCdy"
      },
      "outputs": [],
      "source": [
        "q3_answer = \"\" #@param [\"\", \"a) ratings.genres.unique()\", \"b) ratings['genres'].value_counts()\", \"c) ratings[['genres']].unique()\"]"
      ]
    },
    {
      "cell_type": "markdown",
      "source": [
        "*Pandas* tip: The answer above is generally a good skill to remember. When you *group by* a single column and your *apply* is `count`, you can also do the function above - which performs a count of all unique values in a column and sorts them."
      ],
      "metadata": {
        "id": "5Su-Zyy5fz4l"
      }
    },
    {
      "cell_type": "markdown",
      "metadata": {
        "id": "EiubCWBRU8Lh"
      },
      "source": [
        "**Q4)** Which genre has the worst average ratings? *(4 points)*\n",
        "  *   a) Horror\n",
        "  *   b) Film-Noir\n",
        "  *   c) Mystery\n",
        "  *   d) Sci-Fi\n",
        "\n",
        "\n",
        "\n",
        "\n",
        "\n",
        "\n",
        "\n"
      ]
    },
    {
      "cell_type": "code",
      "execution_count": null,
      "metadata": {
        "cellView": "form",
        "id": "JXw5DiT_WzfZ"
      },
      "outputs": [],
      "source": [
        "q4_answer = \"\" #@param [\"\", \"a) Horror\", \"b) Film-Noir\", \"c) Mystery\", \"d) Sci-Fi\"]"
      ]
    },
    {
      "cell_type": "markdown",
      "metadata": {
        "id": "w_S6_sXOLS1k"
      },
      "source": [
        "**Q5)** Select the three most out-of-fashion film genres, defined by lowest median release year: *(4 points)*\n",
        "  *   Crime\n",
        "  *   Documentary\n",
        "  *   Film-Noir\n",
        "  *   Musical\n",
        "  *   Children\n",
        "  *   Adventure\n",
        "  *   War\n",
        "\n"
      ]
    },
    {
      "cell_type": "code",
      "execution_count": null,
      "metadata": {
        "cellView": "form",
        "id": "lDR5mdvRXdf4"
      },
      "outputs": [],
      "source": [
        "q5_first = \"\" #@param [\"\", 'Crime', 'Documentary', 'Film-Noir', 'Musical', 'Children', 'Adventure', 'War']\n",
        "q5_second = \"\" #@param [\"\", 'Crime', 'Documentary', 'Film-Noir', 'Musical', 'Children', 'Adventure', 'War']\n",
        "q5_third = \"\" #@param [\"\", 'Crime', 'Documentary', 'Film-Noir', 'Musical', 'Children', 'Adventure', 'War']\n",
        "q5_answer = sorted([q5_first, q5_second, q5_third])"
      ]
    },
    {
      "cell_type": "markdown",
      "metadata": {
        "id": "1MawERHXLS8s"
      },
      "source": [
        "**Q6)** Which post-2011 film has the most deviation among ratings? *(4 points)*\n",
        "    \n",
        "*   The Heat\n",
        "*   Twilight Saga: Breaking Dawn\n",
        "*   The Secret Life of Pets\n",
        "*  Drinking Buddies"
      ]
    },
    {
      "cell_type": "code",
      "execution_count": null,
      "metadata": {
        "cellView": "form",
        "id": "xWrvJFF6YBWT"
      },
      "outputs": [],
      "source": [
        "q6_answer = \"\" #@param [\"\", \"a) The Heat\", \"b) Twilight Saga: Breaking Dawn\", \"c) The Secret Life of Pets\", \"d) Driniking Buddies\"]"
      ]
    },
    {
      "cell_type": "markdown",
      "metadata": {
        "id": "2mzwYb_gLTwL"
      },
      "source": [
        "**Q7)** Get all the unique combinations of title+year. Submit the code. *(4 points)*"
      ]
    },
    {
      "cell_type": "code",
      "execution_count": null,
      "metadata": {
        "id": "ffCzC7ebbQnH"
      },
      "outputs": [],
      "source": [
        "# Answer-Q7\n"
      ]
    },
    {
      "cell_type": "markdown",
      "metadata": {
        "id": "P-unC6B1LT6E"
      },
      "source": [
        "**Q8)** Run `ratings['movie']`. What does the error mean? *(3 points)*"
      ]
    },
    {
      "cell_type": "code",
      "execution_count": null,
      "metadata": {
        "cellView": "form",
        "id": "HC_9NNIvX96b"
      },
      "outputs": [],
      "source": [
        "q8_answer = \"\" #@param {type:\"string\"}"
      ]
    },
    {
      "cell_type": "markdown",
      "metadata": {
        "id": "b2nZcJJRLUF7"
      },
      "source": [
        "**Q9)** What does the error message mean for the following code: `ratings['new_column'] = ratings[ratings.genres == 'Drama']` ? *(4 points)*"
      ]
    },
    {
      "cell_type": "code",
      "execution_count": null,
      "metadata": {
        "cellView": "form",
        "id": "cV3DR9TlX-Xj"
      },
      "outputs": [],
      "source": [
        "q9_answer = \"\" #@param {type:\"string\"}"
      ]
    },
    {
      "cell_type": "markdown",
      "metadata": {
        "id": "V6oVG9RPLUQE"
      },
      "source": [
        "**Q10)** Find all movie titles that are used by multiple movies. Consider a unique 'movie' as a unique title+year pair. Share your code. *(8 points)*\n",
        "\n",
        "(Hint - there should be 207 movie titles that you return)."
      ]
    },
    {
      "cell_type": "code",
      "execution_count": null,
      "metadata": {
        "id": "_-D88P4IbM1V"
      },
      "outputs": [],
      "source": [
        "# Answer-Q10\n"
      ]
    },
    {
      "cell_type": "markdown",
      "metadata": {
        "id": "SZcrfZv6EtrK"
      },
      "source": [
        "## Input / Output\n",
        "\n",
        "**Q11)** For the movie data: write the code to save a CSV of year/title/mean_rating. Save it in the default folder and call it `mean_ratings.csv`. *(5 points)*"
      ]
    },
    {
      "cell_type": "code",
      "execution_count": null,
      "metadata": {
        "id": "9psGwyHMernQ"
      },
      "outputs": [],
      "source": [
        "# Answer-Q11\n"
      ]
    },
    {
      "cell_type": "code",
      "execution_count": null,
      "metadata": {
        "cellView": "form",
        "id": "zsavBA1Ack8Y"
      },
      "outputs": [],
      "source": [
        "#@markdown **Q12)** Write the code to open our book circulation database from two weeks ago, and retrieve information on patrons that are at least 18 years old as a DataFrame. *(7 points)*\n",
        "\n",
        "#@markdown *Run this cell to download our circulation data sqlite database again*\n",
        "!wget -nv https://github.com/organisciak/Scripting-Course/blob/master/data/circulation.sqlite?raw=true -O circulation.sqlite\n",
        "\n",
        "#@markdown Tip - your database connection string will be `'sqlite:///circulation.sqlite'`"
      ]
    },
    {
      "cell_type": "code",
      "execution_count": null,
      "metadata": {
        "id": "6LZpVihyexFw"
      },
      "outputs": [],
      "source": [
        "# Answer-Q12\n"
      ]
    },
    {
      "cell_type": "markdown",
      "metadata": {
        "id": "B0FyBIVaex5P"
      },
      "source": [
        "**Q13)** For patrons 18 years old and older, what is the most common home city? *(5 points)*\n",
        "\n",
        "*   Thomasmouth\n",
        "*   New Hannah\n",
        "*   Michelefurt\n",
        "\n",
        "*Hint - the second most common city in your results should be a 3-way tie, between 'East Brookefort' and two other cities.*\n",
        "\n"
      ]
    },
    {
      "cell_type": "code",
      "execution_count": null,
      "metadata": {
        "cellView": "form",
        "id": "sgHEw6X0gOAt"
      },
      "outputs": [],
      "source": [
        "q13_answer = \"\" #@param [\"\", \"a) Thomasmouth\", \"b) New Hannah\", \"c) Michelefurt\"]"
      ]
    },
    {
      "cell_type": "markdown",
      "metadata": {
        "id": "0XSzpS3VfI3_"
      },
      "source": [
        "**Q14)** Write the code to determine the author with the most books checked out. Tip: remember joins! You can write a query for Pandas to retrieve a single, already joined table (you know how to do this). If you're adventurous and want to try an alternative that we didn't learn, it is also possible to do the join in Pandas. *(10 points)*\n",
        "\n",
        "*Hint*: The answer is J.K. Rowling with 63 books."
      ]
    },
    {
      "cell_type": "code",
      "execution_count": null,
      "metadata": {
        "id": "ASiCidJSfKeX"
      },
      "outputs": [],
      "source": [
        "# Answer-Q14\n"
      ]
    },
    {
      "cell_type": "markdown",
      "metadata": {
        "id": "rRTXgyq1e6xv"
      },
      "source": [
        "**Q15.** \n",
        "\n",
        "a) Write the code to retrieve the list of main songs recorded by the Beatles from Wikipedia. *(8 points)*\n",
        "\n",
        "*Hint*: The answer should have 213 rows (or close - Wikipedia is ever-changing!)."
      ]
    },
    {
      "cell_type": "code",
      "execution_count": null,
      "metadata": {
        "id": "XvezMC2-fLBu"
      },
      "outputs": [],
      "source": [
        "# Answer-Q15a\n"
      ]
    },
    {
      "cell_type": "code",
      "execution_count": null,
      "metadata": {
        "cellView": "form",
        "id": "2dZ_EQA94xs9"
      },
      "outputs": [],
      "source": [
        "#@markdown **b)** How many songs by Carl Perkins did the Beatles record? (*3pts*)\n",
        "\n",
        "q15b_answer = 0 #@param{type:'integer'}\n",
        "\n",
        "#@markdown **c)** What's the median year of a unique Beatles recording (i.e. the year where half of the songs were recorded before, and half after)? (*3pts*)\n",
        "\n",
        "q15c_answer = 0 #@param{type:'integer'}\n",
        "\n",
        "#@markdown **d)** From the typical songwriting combinations in the group (LennonMcCartney, Harrison, and Starkey), which one had the latest mean songwriting year?^ (*4pts*)\n",
        "q15d_answer = '' #@param [\"\", \"LennonMcCartney\", \"Harrison\", \"Starkey\"]"
      ]
    },
    {
      "cell_type": "markdown",
      "metadata": {
        "id": "oKJdOUuMEtrL"
      },
      "source": [
        "## Is In"
      ]
    },
    {
      "cell_type": "markdown",
      "metadata": {
        "id": "PeM1mquaEtrM"
      },
      "source": [
        "Not all selection is done with logical operators. One useful method for a `Series` is `isin()`.\n",
        "\n",
        "`isin()` takes a list or collection of values, and returns True/False for whether each item in the Series is in that set of values. Remember that DataFrame columns are Series'.\n",
        "\n",
        "Example: Find movies where the genre is one of the following: Drama, Action, Sci-Fi."
      ]
    },
    {
      "cell_type": "code",
      "execution_count": null,
      "metadata": {
        "colab": {
          "base_uri": "https://localhost:8080/",
          "height": 359
        },
        "id": "rSZ2-L5aEtrN",
        "outputId": "4701b1c1-49a2-4658-f1c0-362f3fb1f5d6"
      },
      "outputs": [
        {
          "data": {
            "text/html": [
              "<div>\n",
              "<style scoped>\n",
              "    .dataframe tbody tr th:only-of-type {\n",
              "        vertical-align: middle;\n",
              "    }\n",
              "\n",
              "    .dataframe tbody tr th {\n",
              "        vertical-align: top;\n",
              "    }\n",
              "\n",
              "    .dataframe thead th {\n",
              "        text-align: right;\n",
              "    }\n",
              "</style>\n",
              "<table border=\"1\" class=\"dataframe\">\n",
              "  <thead>\n",
              "    <tr style=\"text-align: right;\">\n",
              "      <th></th>\n",
              "      <th>userId</th>\n",
              "      <th>rating</th>\n",
              "      <th>title</th>\n",
              "      <th>genres</th>\n",
              "      <th>timestamp</th>\n",
              "      <th>year</th>\n",
              "    </tr>\n",
              "  </thead>\n",
              "  <tbody>\n",
              "    <tr>\n",
              "      <th>21514</th>\n",
              "      <td>509</td>\n",
              "      <td>3.0</td>\n",
              "      <td>Jerk, The</td>\n",
              "      <td>Comedy</td>\n",
              "      <td>940642681</td>\n",
              "      <td>1979</td>\n",
              "    </tr>\n",
              "    <tr>\n",
              "      <th>90017</th>\n",
              "      <td>529</td>\n",
              "      <td>1.0</td>\n",
              "      <td>Affair to Remember, An</td>\n",
              "      <td>Drama</td>\n",
              "      <td>959975472</td>\n",
              "      <td>1957</td>\n",
              "    </tr>\n",
              "    <tr>\n",
              "      <th>85306</th>\n",
              "      <td>192</td>\n",
              "      <td>2.0</td>\n",
              "      <td>Richie Rich</td>\n",
              "      <td>Children</td>\n",
              "      <td>843634385</td>\n",
              "      <td>1994</td>\n",
              "    </tr>\n",
              "    <tr>\n",
              "      <th>55865</th>\n",
              "      <td>311</td>\n",
              "      <td>4.0</td>\n",
              "      <td>Contender, The</td>\n",
              "      <td>Drama</td>\n",
              "      <td>1094585477</td>\n",
              "      <td>2000</td>\n",
              "    </tr>\n",
              "    <tr>\n",
              "      <th>9171</th>\n",
              "      <td>150</td>\n",
              "      <td>5.0</td>\n",
              "      <td>Shawshank Redemption, The</td>\n",
              "      <td>Crime</td>\n",
              "      <td>1113907633</td>\n",
              "      <td>1994</td>\n",
              "    </tr>\n",
              "    <tr>\n",
              "      <th>8755</th>\n",
              "      <td>435</td>\n",
              "      <td>4.0</td>\n",
              "      <td>Silence of the Lambs, The</td>\n",
              "      <td>Crime</td>\n",
              "      <td>891508567</td>\n",
              "      <td>1991</td>\n",
              "    </tr>\n",
              "    <tr>\n",
              "      <th>92537</th>\n",
              "      <td>190</td>\n",
              "      <td>3.0</td>\n",
              "      <td>Love Letter, The</td>\n",
              "      <td>Comedy</td>\n",
              "      <td>975694648</td>\n",
              "      <td>1999</td>\n",
              "    </tr>\n",
              "    <tr>\n",
              "      <th>26541</th>\n",
              "      <td>541</td>\n",
              "      <td>4.0</td>\n",
              "      <td>Being John Malkovich</td>\n",
              "      <td>Comedy</td>\n",
              "      <td>976829924</td>\n",
              "      <td>1999</td>\n",
              "    </tr>\n",
              "    <tr>\n",
              "      <th>86358</th>\n",
              "      <td>187</td>\n",
              "      <td>3.0</td>\n",
              "      <td>Tremors</td>\n",
              "      <td>Comedy</td>\n",
              "      <td>1241388708</td>\n",
              "      <td>1990</td>\n",
              "    </tr>\n",
              "    <tr>\n",
              "      <th>91129</th>\n",
              "      <td>132</td>\n",
              "      <td>2.5</td>\n",
              "      <td>Wind Will Carry Us, The (Bad ma ra khahad bord)</td>\n",
              "      <td>Drama</td>\n",
              "      <td>1283580984</td>\n",
              "      <td>1999</td>\n",
              "    </tr>\n",
              "  </tbody>\n",
              "</table>\n",
              "</div>"
            ],
            "text/plain": [
              "       userId  rating  ...   timestamp  year\n",
              "21514     509     3.0  ...   940642681  1979\n",
              "90017     529     1.0  ...   959975472  1957\n",
              "85306     192     2.0  ...   843634385  1994\n",
              "55865     311     4.0  ...  1094585477  2000\n",
              "9171      150     5.0  ...  1113907633  1994\n",
              "8755      435     4.0  ...   891508567  1991\n",
              "92537     190     3.0  ...   975694648  1999\n",
              "26541     541     4.0  ...   976829924  1999\n",
              "86358     187     3.0  ...  1241388708  1990\n",
              "91129     132     2.5  ...  1283580984  1999\n",
              "\n",
              "[10 rows x 6 columns]"
            ]
          },
          "execution_count": 6,
          "metadata": {
            "tags": []
          },
          "output_type": "execute_result"
        }
      ],
      "source": [
        "sample = ratings.sample(10)\n",
        "sample"
      ]
    },
    {
      "cell_type": "code",
      "execution_count": null,
      "metadata": {
        "colab": {
          "base_uri": "https://localhost:8080/",
          "height": 215
        },
        "id": "fOEzptHxEtrQ",
        "outputId": "7b42f0d1-6030-4a47-cb01-064f8265ee5e",
        "scrolled": true
      },
      "outputs": [
        {
          "data": {
            "text/plain": [
              "21514    False\n",
              "90017     True\n",
              "85306    False\n",
              "55865     True\n",
              "9171     False\n",
              "8755     False\n",
              "92537    False\n",
              "26541    False\n",
              "86358    False\n",
              "91129     True\n",
              "Name: genres, dtype: bool"
            ]
          },
          "execution_count": 7,
          "metadata": {
            "tags": []
          },
          "output_type": "execute_result"
        }
      ],
      "source": [
        "sample.genres.isin(['Action', 'Drama', 'Sci-Fi'])"
      ]
    },
    {
      "cell_type": "code",
      "execution_count": null,
      "metadata": {
        "colab": {
          "base_uri": "https://localhost:8080/",
          "height": 142
        },
        "id": "7FLG4bvSEtrT",
        "outputId": "ed174d2b-242e-4939-def7-48984c3f6d00"
      },
      "outputs": [
        {
          "data": {
            "text/html": [
              "<div>\n",
              "<style scoped>\n",
              "    .dataframe tbody tr th:only-of-type {\n",
              "        vertical-align: middle;\n",
              "    }\n",
              "\n",
              "    .dataframe tbody tr th {\n",
              "        vertical-align: top;\n",
              "    }\n",
              "\n",
              "    .dataframe thead th {\n",
              "        text-align: right;\n",
              "    }\n",
              "</style>\n",
              "<table border=\"1\" class=\"dataframe\">\n",
              "  <thead>\n",
              "    <tr style=\"text-align: right;\">\n",
              "      <th></th>\n",
              "      <th>userId</th>\n",
              "      <th>rating</th>\n",
              "      <th>title</th>\n",
              "      <th>genres</th>\n",
              "      <th>timestamp</th>\n",
              "      <th>year</th>\n",
              "    </tr>\n",
              "  </thead>\n",
              "  <tbody>\n",
              "    <tr>\n",
              "      <th>90017</th>\n",
              "      <td>529</td>\n",
              "      <td>1.0</td>\n",
              "      <td>Affair to Remember, An</td>\n",
              "      <td>Drama</td>\n",
              "      <td>959975472</td>\n",
              "      <td>1957</td>\n",
              "    </tr>\n",
              "    <tr>\n",
              "      <th>55865</th>\n",
              "      <td>311</td>\n",
              "      <td>4.0</td>\n",
              "      <td>Contender, The</td>\n",
              "      <td>Drama</td>\n",
              "      <td>1094585477</td>\n",
              "      <td>2000</td>\n",
              "    </tr>\n",
              "    <tr>\n",
              "      <th>91129</th>\n",
              "      <td>132</td>\n",
              "      <td>2.5</td>\n",
              "      <td>Wind Will Carry Us, The (Bad ma ra khahad bord)</td>\n",
              "      <td>Drama</td>\n",
              "      <td>1283580984</td>\n",
              "      <td>1999</td>\n",
              "    </tr>\n",
              "  </tbody>\n",
              "</table>\n",
              "</div>"
            ],
            "text/plain": [
              "       userId  rating  ...   timestamp  year\n",
              "90017     529     1.0  ...   959975472  1957\n",
              "55865     311     4.0  ...  1094585477  2000\n",
              "91129     132     2.5  ...  1283580984  1999\n",
              "\n",
              "[3 rows x 6 columns]"
            ]
          },
          "execution_count": 8,
          "metadata": {
            "tags": []
          },
          "output_type": "execute_result"
        }
      ],
      "source": [
        "sample[sample.genres.isin(['Action', 'Drama', 'Sci-Fi'])]"
      ]
    },
    {
      "cell_type": "markdown",
      "metadata": {
        "id": "troNEmkTEtrV"
      },
      "source": [
        "***Q16)***\n",
        "\n",
        "Practice using `isin()` yourself, then try the following bigger question:\n",
        "    \n",
        "- Write the code to select all ratings by the 10 most prolific users. It's fine if you manually write the list of prolific users' ids - but even so, you'll need to figure out how to get them! (*12 pts*)\n",
        "\n",
        "Common error: remember that you're processing *all* ratings, not the 10 row `sample` DataFrame."
      ]
    },
    {
      "cell_type": "code",
      "execution_count": null,
      "metadata": {
        "id": "9oazuMVqQ7LA"
      },
      "outputs": [],
      "source": [
        "# Answer-Q16\n"
      ]
    },
    {
      "cell_type": "markdown",
      "metadata": {
        "id": "DMeFdL1XVl4y"
      },
      "source": [
        "# Submission Instructions"
      ]
    },
    {
      "cell_type": "code",
      "execution_count": null,
      "metadata": {
        "cellView": "form",
        "id": "4QvQhFVlTyWy"
      },
      "outputs": [],
      "source": [
        "#@markdown ### First, Enter your name for grading\n",
        "my_name = \"\" #@param { type:'string' }\n",
        "\n",
        "#@markdown _Have you saved your work for yourself? Don't forget to Save a Copy in Drive so that you have your progress._"
      ]
    },
    {
      "cell_type": "code",
      "execution_count": null,
      "metadata": {
        "cellView": "form",
        "id": "Q6ku7nibRp4O"
      },
      "outputs": [],
      "source": [
        "#@markdown ### Second, check your work:\n",
        "\n",
        "#@markdown - have you answered all the questions?\n",
        "#@markdown - Does this notebook run from top to bottom?\n",
        "#@markdown     - Go to \"Runtime > Restart and run all...\" to check. Do all the cells run, to the very bottom, or is there a cell in the middle with an error?\n",
        "#@markdown - Have you completed all the answers where you entered code, keeping the `# Answer-Qx` line at the start of those cells?\n",
        "\n",
        "#@markdown *A lab that the professor has to fix manually will lose 10pts - run the checks!*\n",
        "\n",
        "#@markdown ### Finally, submit it\n",
        "\n",
        "#@markdown - Download the file with \"File > Download .ipynb\" and submit it to the Canvas assignment page."
      ]
    }
  ],
  "metadata": {
    "colab": {
      "name": "05-split-apply-combine-lab.ipynb",
      "provenance": [],
      "include_colab_link": true
    },
    "kernelspec": {
      "display_name": "Python 3",
      "language": "python",
      "name": "python3"
    },
    "language_info": {
      "codemirror_mode": {
        "name": "ipython",
        "version": 3
      },
      "file_extension": ".py",
      "mimetype": "text/x-python",
      "name": "python",
      "nbconvert_exporter": "python",
      "pygments_lexer": "ipython3",
      "version": "3.9.12"
    }
  },
  "nbformat": 4,
  "nbformat_minor": 0
}