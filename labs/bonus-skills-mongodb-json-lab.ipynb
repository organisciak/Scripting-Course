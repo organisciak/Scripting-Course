{
  "cells": [
    {
      "attachments": {},
      "cell_type": "markdown",
      "metadata": {
        "id": "rOvVo2HYWPoX"
      },
      "source": [
        "##  Bonus Lab: MongoDB Introduction\n",
        "\n",
        "This week's lab is a mini-lab.\n",
        "\n",
        "Reminder - save your work. Go to File > Save a Copy in Drive to ensure that you have your work saved."
      ]
    },
    {
      "attachments": {},
      "cell_type": "markdown",
      "metadata": {
        "id": "I85_khX8WPoZ"
      },
      "source": [
        "## DataFrame Selection\n",
        "\n",
        "This is here just for reference. Don't forget it!\n",
        "\n",
        "**Selecting rows by numeric index**\n",
        "\n",
        "Provide `x:y` notation in : `df[10:14]`\n",
        "\n",
        "**Selecting rows by index name**\n",
        "\n",
        "Provide the name to `.loc[]`: `df.loc['Sherlock Holmes']`\n",
        "\n",
        "**Selecting rows by inclusion criteria**\n",
        "\n",
        "Provide any collection (e.g. a list or Series) of True/False values:\n",
        "\n",
        "```\n",
        "df[[True, False, False, True, True]]\n",
        "```\n",
        "\n",
        "```\n",
        "df[df.year > 1996]\n",
        "```\n",
        "    \n",
        "**Selecting multiple columns**\n",
        "\n",
        "Provide a collection of strings, referencing the column names:\n",
        "\n",
        "```\n",
        "df[['genres', 'year']]\n",
        "```\n",
        "    \n",
        "**Selecting single column (as Series)**\n",
        "\n",
        "```\n",
        "df['year']\n",
        "```\n",
        "\n",
        "Or:\n",
        "\n",
        "```\n",
        "df.year\n",
        "```\n",
        "\n",
        "Consider the latter as the shortcut, not the main way.\n",
        "\n",
        "The output is a Series. To select a single column as a DataFrame, use list with only one value."
      ]
    },
    {
      "attachments": {},
      "cell_type": "markdown",
      "metadata": {
        "id": "kgS4xHrWWPob"
      },
      "source": [
        "## Opening JSON\n",
        "\n",
        "This code shows how you load JSON into Python. If you're not reading data from the internet, you don't need the `from smart_open` line."
      ]
    },
    {
      "cell_type": "code",
      "execution_count": 1,
      "metadata": {
        "cellView": "both",
        "colab": {
          "base_uri": "https://localhost:8080/"
        },
        "id": "-RdtjNj5WPoc",
        "outputId": "73ad54e9-47e6-45ec-8764-68155f0ab969"
      },
      "outputs": [
        {
          "name": "stdout",
          "output_type": "stream",
          "text": [
            "There are  39774 items.\n"
          ]
        }
      ],
      "source": [
        "import json\n",
        "from smart_open import open\n",
        "with open('https://raw.githubusercontent.com/organisciak/Scripting-Course/master/data/cooking.json') as f:\n",
        "    data = json.load(f)\n",
        "\n",
        "print(\"There are \", len(data), \"items.\")"
      ]
    },
    {
      "attachments": {},
      "cell_type": "markdown",
      "metadata": {
        "id": "aagwHx7xWPoh"
      },
      "source": [
        "What's done here? \n",
        "\n",
        "You load a text file, and 'parse' it for Python to understand that it is formatted as JSON.\n",
        "\n",
        "`with open(...) as f` syntax opens a file, setting it to a variable named `f`. That can read the raw text from the file, but the `json.load` function parses the text (one big string!) to a Python object.\n",
        "\n",
        "This particular data is a big list of foods: try printing the first few items:"
      ]
    },
    {
      "cell_type": "code",
      "execution_count": null,
      "metadata": {
        "colab": {
          "base_uri": "https://localhost:8080/"
        },
        "id": "3u-J46OAWPoh",
        "outputId": "51d65c2e-075f-4ed1-c46b-3bdb7760ba52"
      },
      "outputs": [
        {
          "data": {
            "text/plain": [
              "[{'cuisine': 'greek',\n",
              "  'id': 10259,\n",
              "  'ingredients': ['romaine lettuce',\n",
              "   'black olives',\n",
              "   'grape tomatoes',\n",
              "   'garlic',\n",
              "   'pepper',\n",
              "   'purple onion',\n",
              "   'seasoning',\n",
              "   'garbanzo beans',\n",
              "   'feta cheese crumbles']},\n",
              " {'cuisine': 'southern_us',\n",
              "  'id': 25693,\n",
              "  'ingredients': ['plain flour',\n",
              "   'ground pepper',\n",
              "   'salt',\n",
              "   'tomatoes',\n",
              "   'ground black pepper',\n",
              "   'thyme',\n",
              "   'eggs',\n",
              "   'green tomatoes',\n",
              "   'yellow corn meal',\n",
              "   'milk',\n",
              "   'vegetable oil']}]"
            ]
          },
          "execution_count": 2,
          "metadata": {},
          "output_type": "execute_result"
        }
      ],
      "source": [
        "data[:2]"
      ]
    },
    {
      "attachments": {},
      "cell_type": "markdown",
      "metadata": {
        "id": "_354L_4hWttH"
      },
      "source": [
        "### Questions\n",
        "\n",
        "Q1) What type of cuisine is the 300th item (index=299) in the dataset? (*5pts*)"
      ]
    },
    {
      "cell_type": "code",
      "execution_count": null,
      "metadata": {
        "cellView": "form",
        "id": "p_DAeg5GarnH"
      },
      "outputs": [],
      "source": [
        "q1_answer = \"\" #@param {type:\"string\"}"
      ]
    },
    {
      "attachments": {},
      "cell_type": "markdown",
      "metadata": {
        "id": "yx2_TW8hYBuF"
      },
      "source": [
        "Q2) What food is the tenth ingredient of the 200th item in the data? Tip: you can count by hand for the answer, but see if you can grab it with code. (*5pts*)"
      ]
    },
    {
      "cell_type": "code",
      "execution_count": null,
      "metadata": {
        "cellView": "form",
        "id": "iMiaDTWWapIo"
      },
      "outputs": [],
      "source": [
        "q2_answer = \"\" #@param {type:\"string\"}"
      ]
    },
    {
      "attachments": {},
      "cell_type": "markdown",
      "metadata": {
        "id": "zaw6NS2lYP2N"
      },
      "source": [
        "Q3) If you had run `data2 = f.read()` instead of `data = json.load(f)` in the loading code, what type of information would the `data2` variable hold? How or why is it different? (Tip: try running your code from Q1 on data2 to see what it looks like, or use the `type()` function to figure our the type of variable that `data2` is compared to `data`.) (*5pts*)"
      ]
    },
    {
      "cell_type": "code",
      "execution_count": null,
      "metadata": {
        "cellView": "form",
        "id": "vsd4tim6aflx"
      },
      "outputs": [],
      "source": [
        "q3_answer = \"\" #@param {type:\"string\"}"
      ]
    },
    {
      "attachments": {},
      "cell_type": "markdown",
      "metadata": {
        "id": "xamvL-fwWPom"
      },
      "source": [
        "\n",
        "Q4) What's the difference between running `print(data2[300:500])`, and having the notebook auto-print by running a cell with `data2[300:500]` on the last line? (*5pts*)"
      ]
    },
    {
      "cell_type": "code",
      "execution_count": null,
      "metadata": {
        "cellView": "form",
        "id": "CerWHVveauOm"
      },
      "outputs": [],
      "source": [
        "q4_answer = \"\" #@param {type:\"string\"}"
      ]
    },
    {
      "attachments": {},
      "cell_type": "markdown",
      "metadata": {
        "id": "TbKuGds2WPom"
      },
      "source": [
        "## Setting up MongoDB\n",
        "\n",
        "MongoDB is a separate database. If you work with Jupyter on your own computer, you have to install it. For this class, since we're using Colab online, we'll also use an online service that already has MongoDB installed.\n",
        "\n",
        "For this class, **Dr. Organisciak has created a read-only database that you can work with**, so you **don't have to create your own database**.\n",
        "\n",
        "*If* you would like to create your own online-hosted database *anyway*, you can do so with the following steps:\n",
        "- 1. Create an account with [MongoDB Atlas](https://www.mongodb.com/cloud/atlas), by clicking the Try Free button.\n",
        "- 2. Create a shared cluster in a free tier.\n",
        "- 3. Click 'Connect', then create a user, a password, and add `0.0.0.0` to the whitelist. (This whitelist setting means people can connect from anywhere if they have your username and password, so it's okay for a learning environment but less secure for critical applications).\n",
        "- 4. For 'Choose a Connection Method', select 'connect your application', then 'Python', then copy the connection string. This is the location to your server."
      ]
    },
    {
      "cell_type": "code",
      "execution_count": 7,
      "metadata": {
        "cellView": "form",
        "colab": {
          "base_uri": "https://localhost:8080/"
        },
        "id": "AONvjIskZzz5",
        "outputId": "d8196038-1843-45fb-99f8-a367f7c2aa56"
      },
      "outputs": [
        {
          "name": "stdout",
          "output_type": "stream",
          "text": [
            "Collecting dnspython\n",
            "  Downloading dnspython-2.2.1-py3-none-any.whl (269 kB)\n",
            "\u001b[?25l\r\u001b[K     |█▏                              | 10 kB 23.1 MB/s eta 0:00:01\r\u001b[K     |██▍                             | 20 kB 17.3 MB/s eta 0:00:01\r\u001b[K     |███▋                            | 30 kB 11.4 MB/s eta 0:00:01\r\u001b[K     |████▉                           | 40 kB 9.7 MB/s eta 0:00:01\r\u001b[K     |██████                          | 51 kB 4.6 MB/s eta 0:00:01\r\u001b[K     |███████▎                        | 61 kB 5.4 MB/s eta 0:00:01\r\u001b[K     |████████▌                       | 71 kB 5.8 MB/s eta 0:00:01\r\u001b[K     |█████████▊                      | 81 kB 4.4 MB/s eta 0:00:01\r\u001b[K     |███████████                     | 92 kB 4.9 MB/s eta 0:00:01\r\u001b[K     |████████████▏                   | 102 kB 5.4 MB/s eta 0:00:01\r\u001b[K     |█████████████▍                  | 112 kB 5.4 MB/s eta 0:00:01\r\u001b[K     |██████████████▋                 | 122 kB 5.4 MB/s eta 0:00:01\r\u001b[K     |███████████████▉                | 133 kB 5.4 MB/s eta 0:00:01\r\u001b[K     |█████████████████               | 143 kB 5.4 MB/s eta 0:00:01\r\u001b[K     |██████████████████▎             | 153 kB 5.4 MB/s eta 0:00:01\r\u001b[K     |███████████████████▌            | 163 kB 5.4 MB/s eta 0:00:01\r\u001b[K     |████████████████████▊           | 174 kB 5.4 MB/s eta 0:00:01\r\u001b[K     |██████████████████████          | 184 kB 5.4 MB/s eta 0:00:01\r\u001b[K     |███████████████████████▏        | 194 kB 5.4 MB/s eta 0:00:01\r\u001b[K     |████████████████████████▍       | 204 kB 5.4 MB/s eta 0:00:01\r\u001b[K     |█████████████████████████▋      | 215 kB 5.4 MB/s eta 0:00:01\r\u001b[K     |██████████████████████████▉     | 225 kB 5.4 MB/s eta 0:00:01\r\u001b[K     |████████████████████████████    | 235 kB 5.4 MB/s eta 0:00:01\r\u001b[K     |█████████████████████████████▎  | 245 kB 5.4 MB/s eta 0:00:01\r\u001b[K     |██████████████████████████████▍ | 256 kB 5.4 MB/s eta 0:00:01\r\u001b[K     |███████████████████████████████▋| 266 kB 5.4 MB/s eta 0:00:01\r\u001b[K     |████████████████████████████████| 269 kB 5.4 MB/s \n",
            "\u001b[?25hInstalling collected packages: dnspython\n",
            "Successfully installed dnspython-2.2.1\n",
            "Enter your MongoDB password for \"scriptingStudent\":\n",
            "··········\n"
          ]
        }
      ],
      "source": [
        "#@title Connect to a MongoDB database\n",
        "#@markdown This cell connects to a remote MongoDB instance.\n",
        "#@markdown When it asks your password, paste in the password posted to Canvas.\n",
        "!pip install dnspython\n",
        "from urllib.parse import quote_plus\n",
        "from pymongo import MongoClient\n",
        "import os\n",
        "from getpass import getpass\n",
        "\n",
        "if os.path.exists('credentials.txt'):\n",
        "    # Allow loading credentials for user, pw, url, one per line\n",
        "    with open('credentials.txt', mode='r') as f:\n",
        "        user, mongopw, cluster_url = [l.strip() for l in f.readlines()]\n",
        "else:\n",
        "    user = \"scriptingStudent\" #@param {type:\"string\"}\n",
        "    cluster_url = \"cluster0-ga5s0.mongodb.net\" #@param {type:\"string\"}\n",
        "    mongopw = getpass('Enter your MongoDB password for \"{}\":\\n'.format(user))\n",
        "    with open('credentials.txt', mode='w') as f:\n",
        "        f.write(\"{}\\n{}\\n{}\".format(user, mongopw, cluster_url))\n",
        "\n",
        "client = MongoClient(\"mongodb+srv://{}:{}@{}/test?retryWrites=true&w=majority\".format(quote_plus(user), quote_plus(mongopw), cluster_url))\n",
        "db = client.week9"
      ]
    },
    {
      "attachments": {},
      "cell_type": "markdown",
      "metadata": {
        "id": "yM2dGo4zcbkU"
      },
      "source": [
        "The database that we're using is called 'week9', and has been set to a variable called `db`:"
      ]
    },
    {
      "cell_type": "code",
      "execution_count": 8,
      "metadata": {
        "colab": {
          "base_uri": "https://localhost:8080/"
        },
        "id": "bJdn7nUqWPon",
        "outputId": "a02ece69-d07d-4c55-9600-005f30b94e03"
      },
      "outputs": [
        {
          "data": {
            "text/plain": [
              "Database(MongoClient(host=['cluster0-shard-00-02-ga5s0.mongodb.net:27017', 'cluster0-shard-00-00-ga5s0.mongodb.net:27017', 'cluster0-shard-00-01-ga5s0.mongodb.net:27017'], document_class=dict, tz_aware=False, connect=True, retrywrites=True, w='majority', authsource='admin', replicaset='Cluster0-shard-0', tls=True), 'week9')"
            ]
          },
          "execution_count": 8,
          "metadata": {},
          "output_type": "execute_result"
        }
      ],
      "source": [
        "db"
      ]
    },
    {
      "attachments": {},
      "cell_type": "markdown",
      "metadata": {
        "id": "ZeqWX71RWPoq"
      },
      "source": [
        "### Connecting to a Collection\n",
        "\n",
        "Here, I connect to the 'cooking' collection of `db`. If it doesn't exist, it will be created. (The account you're connecting is read-only, though, so you won't be able to create new collections in Dr. O's database!)"
      ]
    },
    {
      "cell_type": "code",
      "execution_count": 9,
      "metadata": {
        "id": "gmGAHGP6WPor"
      },
      "outputs": [],
      "source": [
        "collection = db.cooking"
      ]
    },
    {
      "attachments": {},
      "cell_type": "markdown",
      "metadata": {
        "id": "3TEn9o0sWPot"
      },
      "source": [
        "### Inserting Data\n",
        "\n",
        "Here's how you insert the `data` from before. It's a list - data[0] is one 'document', data[1] is another one, and so on - so we can use `insert_many`:\n",
        "\n",
        "```\n",
        "collection.insert_many(data)\n",
        "```\n",
        "\n",
        "**The data is already on our class database**, so you don't have to insert it (also, you don't have write acess, just so you can only read).\n",
        "\n",
        "To see a count of how many records we have, run:"
      ]
    },
    {
      "cell_type": "code",
      "execution_count": null,
      "metadata": {
        "id": "ZzzVPZ7LWPox"
      },
      "outputs": [],
      "source": [
        "collection.estimated_document_count()"
      ]
    },
    {
      "attachments": {},
      "cell_type": "markdown",
      "metadata": {
        "id": "Buuh0XYmWPo1"
      },
      "source": [
        "It's also possible to use `insert_one` for a single record:\n",
        "\n",
        "```collection.insert_one(your_record)```\n",
        "\n",
        "(Again, we're connected to our class database read-only, so you can't insert here unless you create your own DB)."
      ]
    },
    {
      "attachments": {},
      "cell_type": "markdown",
      "metadata": {
        "id": "j5m1TWTHWPo1"
      },
      "source": [
        "# Questions"
      ]
    },
    {
      "attachments": {},
      "cell_type": "markdown",
      "metadata": {
        "id": "oCBynbGuYlxH"
      },
      "source": [
        "Q5) How many documents are in the cooking collection? (*easiest 3pts of the class*)\n",
        "   - 7954\n",
        "   - 39774\n",
        "   - 79548"
      ]
    },
    {
      "cell_type": "code",
      "execution_count": null,
      "metadata": {
        "id": "0EVP4tfjhjRt"
      },
      "outputs": [],
      "source": []
    },
    {
      "cell_type": "code",
      "execution_count": null,
      "metadata": {
        "cellView": "form",
        "id": "n5eabNi3aGzP"
      },
      "outputs": [],
      "source": [
        "q5_answer = \"\" #@param [\"\", \"7954\", \"39774\", \"79548\"]"
      ]
    },
    {
      "attachments": {},
      "cell_type": "markdown",
      "metadata": {
        "id": "74LIMB9IYtp1"
      },
      "source": [
        "Q6) Match the cuisine to the number of documents that are that type of cuisine. Tip: You can run `collection.count_documents()` with the same input you would give to `collection.find()` (*9pts*).\n",
        "   - Cuisines: a) 'japanese', b) 'mexican', c) 'italian'\n",
        "   - Counts: 6438, 7838, 1423"
      ]
    },
    {
      "cell_type": "code",
      "execution_count": null,
      "metadata": {
        "cellView": "form",
        "id": "gk4bEy3_ZlLW"
      },
      "outputs": [],
      "source": [
        "q6a_answer = \"\" #@param [\"\", \"6438\", \"7838\", \"1423\"]"
      ]
    },
    {
      "cell_type": "code",
      "execution_count": null,
      "metadata": {
        "cellView": "form",
        "id": "CCjYEOBkZlTM"
      },
      "outputs": [],
      "source": [
        "q6b_answer = \"\" #@param [\"\", \"6438\", \"7838\", \"1423\"]"
      ]
    },
    {
      "cell_type": "code",
      "execution_count": null,
      "metadata": {
        "cellView": "form",
        "id": "rPU9zPz8ZlbE"
      },
      "outputs": [],
      "source": [
        "q6c_answer = \"\" #@param [\"\", \"6438\", \"7838\", \"1423\"]"
      ]
    },
    {
      "attachments": {},
      "cell_type": "markdown",
      "metadata": {
        "id": "s3oJ3XDqY3ql"
      },
      "source": [
        "Q7) How many results have liver as an ingredient? Tip: If you want to inspect the results to doublecheck but worry about printing a BFD (a 'big dataset'), you can try `find_one`. Remember that for the answer itself, you want to `count_documents`! (*6pts*)"
      ]
    },
    {
      "cell_type": "code",
      "execution_count": null,
      "metadata": {
        "cellView": "form",
        "id": "DZy9nn_QZh_F"
      },
      "outputs": [],
      "source": [
        "q7_answer = \"\" #@param {type:\"string\"}"
      ]
    },
    {
      "attachments": {},
      "cell_type": "markdown",
      "metadata": {
        "id": "zA6J0mZ3Y9vF"
      },
      "source": [
        "`$in` and `$all` questions:\n",
        "\n",
        "Q8) How many results have both 'duck' and 'chinese five-spice powder'? (*6pts*)"
      ]
    },
    {
      "cell_type": "code",
      "execution_count": 19,
      "metadata": {
        "id": "vtQY16s7UQRs"
      },
      "outputs": [],
      "source": []
    },
    {
      "cell_type": "code",
      "execution_count": null,
      "metadata": {
        "cellView": "form",
        "id": "tqSzlrsMZbJw"
      },
      "outputs": [],
      "source": [
        "q8_answer = \"\" #@param {type:\"string\"}"
      ]
    },
    {
      "attachments": {},
      "cell_type": "markdown",
      "metadata": {
        "id": "5UW2qdMqWPo2"
      },
      "source": [
        "\n",
        "Q9) How many results have either 'duck' or 'chinese five-spice powder'? (*6pts*)"
      ]
    },
    {
      "cell_type": "code",
      "execution_count": null,
      "metadata": {
        "id": "2LnTqo-6Ze92"
      },
      "outputs": [],
      "source": []
    },
    {
      "cell_type": "code",
      "execution_count": null,
      "metadata": {
        "cellView": "form",
        "id": "tVlRwEtkV2Jh"
      },
      "outputs": [],
      "source": [
        "q9_answer = \"\" #@param {type:\"string\"}"
      ]
    },
    {
      "attachments": {},
      "cell_type": "markdown",
      "metadata": {
        "id": "DMeFdL1XVl4y"
      },
      "source": [
        "# Submission Instructions"
      ]
    },
    {
      "cell_type": "code",
      "execution_count": null,
      "metadata": {
        "cellView": "form",
        "id": "4QvQhFVlTyWy"
      },
      "outputs": [],
      "source": [
        "#@markdown ### First, Enter your name for grading\n",
        "my_name = \"\" #@param { type:'string' }\n",
        "\n",
        "#@markdown _Have you saved your work for yourself? Don't forget to Save a Copy in Drive so that you have your progress._"
      ]
    },
    {
      "cell_type": "code",
      "execution_count": 20,
      "metadata": {
        "cellView": "form",
        "id": "Q6ku7nibRp4O"
      },
      "outputs": [],
      "source": [
        "#@markdown ### Second, check your work:\n",
        "\n",
        "#@markdown - have you answered all the questions?\n",
        "#@markdown     - Some answers can be checked automatically - just run this cell.\n",
        "#@markdown - Does this notebook run from top to bottom?\n",
        "#@markdown     - Go to \"Runtime > Restart and run all...\" to check. Do all the cells run, to the very bottom, or is there a cell in the middle with an error?\n",
        "#@markdown - Have you completed all the answers where you entered code, keeping the `# Answer-Qx` line at the start of those cells?\n",
        "\n",
        "#@markdown *A lab that the professor has to fix manually will lose 10pts - run the checks!*\n",
        "\n",
        "#@markdown ### Finally, submit it\n",
        "\n",
        "#@markdown - Download the file with \"File > Download .ipynb\" and submit it to the Canvas assignment page."
      ]
    }
  ],
  "metadata": {
    "colab": {
      "collapsed_sections": [],
      "include_colab_link": true,
      "name": "09-mongodb-json-lab.ipynb",
      "provenance": []
    },
    "kernelspec": {
      "display_name": "Python 3",
      "language": "python",
      "name": "python3"
    },
    "language_info": {
      "codemirror_mode": {
        "name": "ipython",
        "version": 3
      },
      "file_extension": ".py",
      "mimetype": "text/x-python",
      "name": "python",
      "nbconvert_exporter": "python",
      "pygments_lexer": "ipython3",
      "version": "3.6.7"
    }
  },
  "nbformat": 4,
  "nbformat_minor": 0
}
