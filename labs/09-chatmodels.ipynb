{
  "cells": [
    {
      "cell_type": "markdown",
      "metadata": {
        "colab_type": "text",
        "id": "view-in-github"
      },
      "source": [
        "<a href=\"https://colab.research.google.com/github/organisciak/Scripting-Course/blob/master/labs/09-chatmodels.ipynb\" target=\"_parent\"><img src=\"https://colab.research.google.com/assets/colab-badge.svg\" alt=\"Open In Colab\"/></a>"
      ]
    },
    {
      "cell_type": "markdown",
      "metadata": {
        "id": "Hg-9H18khHe8"
      },
      "source": [
        "## Mini-lab: Working with Chat Models\n",
        "\n",
        "The tools\n",
        "- [ChatGPT](https://chat.openai.com/)\n",
        "- [Gemini](https://gemini.google.com/)\n",
        "- [Claude](https://claude.ai/)\n",
        "\n",
        "For this lab, I'll be a bit more reticent about helping answer questions, since the goal of the lab is in exercising how to ask other resources for help. We'll start by doing the lab together, though.\n",
        "\n",
        "*Take note*: This mini-lab is worth 50 points - but the questions add up to 65! That means you don't need to complete them all (If you do, your grade will be up to 50)."
      ]
    },
    {
      "cell_type": "code",
      "execution_count": 2,
      "metadata": {
        "id": "4uH4jpbChHe9"
      },
      "outputs": [],
      "source": [
        "import pandas as pd"
      ]
    },
    {
      "cell_type": "markdown",
      "metadata": {
        "id": "s55EwJzThHe9"
      },
      "source": [
        "## Practice Questions\n",
        "\n",
        "**Practice Q1**: Load `libraries.csv` from the [Denver data site](https://stg-arcgisazurecdataprod1.az.arcgis.com/exportfiles-7647-189724/ODC_SVCS_LIBRARY_P_-8280429612745120030.csv?sv=2018-03-28&sr=b&sig=Mggx3zYOTubOIngP3LN9ZXocF5Mns9Dm1qG9me8OP%2BY%3D&se=2025-05-26T22%3A43%3A21Z&sp=r). There is a column with addresses (e.g. '5575 E 33RD Ave', '1500 S Dahlia St'). Extract just the street name (e.g. '33RD Ave', 'S Dahlia St') in a new column.\n",
        "\n",
        "**Practice Q2**: For the last question last week, which involved matching all tweets without hashtags, can you a) get an explanation of why the following code doesn't work, and b) get code that, *using regular expressions*, matches when the whole string in non-hashtags?\n",
        "\n",
        "Note: There's another solution where you match on tweets *with* a hashtag and then get the inverse of the results - you can get that solution too, but try the regex version first because it's a *tougher* question."
      ]
    },
    {
      "cell_type": "code",
      "execution_count": 3,
      "metadata": {
        "id": "7FnwJGgHhHe9"
      },
      "outputs": [
        {
          "data": {
            "text/html": [
              "<div>\n",
              "<style scoped>\n",
              "    .dataframe tbody tr th:only-of-type {\n",
              "        vertical-align: middle;\n",
              "    }\n",
              "\n",
              "    .dataframe tbody tr th {\n",
              "        vertical-align: top;\n",
              "    }\n",
              "\n",
              "    .dataframe thead th {\n",
              "        text-align: right;\n",
              "    }\n",
              "</style>\n",
              "<table border=\"1\" class=\"dataframe\">\n",
              "  <thead>\n",
              "    <tr style=\"text-align: right;\">\n",
              "      <th></th>\n",
              "      <th>id</th>\n",
              "      <th>favourites</th>\n",
              "      <th>retweets</th>\n",
              "      <th>created_at</th>\n",
              "      <th>text</th>\n",
              "      <th>is_quoted</th>\n",
              "    </tr>\n",
              "  </thead>\n",
              "  <tbody>\n",
              "    <tr>\n",
              "      <th>0</th>\n",
              "      <td>903664289411686400</td>\n",
              "      <td>1921</td>\n",
              "      <td>556</td>\n",
              "      <td>2017-09-01 17:02:10</td>\n",
              "      <td>#19YearsLater #BackToHogwarts</td>\n",
              "      <td>False</td>\n",
              "    </tr>\n",
              "    <tr>\n",
              "      <th>1</th>\n",
              "      <td>901217559860703234</td>\n",
              "      <td>2556</td>\n",
              "      <td>934</td>\n",
              "      <td>2017-08-25 22:59:44</td>\n",
              "      <td>\"I rose up from the dead, I do it all the time...</td>\n",
              "      <td>False</td>\n",
              "    </tr>\n",
              "    <tr>\n",
              "      <th>2</th>\n",
              "      <td>879505014422740994</td>\n",
              "      <td>3879</td>\n",
              "      <td>1578</td>\n",
              "      <td>2017-06-27 01:01:50</td>\n",
              "      <td>#HarryPotter20 There will always be magic.</td>\n",
              "      <td>False</td>\n",
              "    </tr>\n",
              "    <tr>\n",
              "      <th>3</th>\n",
              "      <td>818293342622650368</td>\n",
              "      <td>737</td>\n",
              "      <td>169</td>\n",
              "      <td>2017-01-09 03:08:30</td>\n",
              "      <td>Hermione tries to play Quidditch but hits her ...</td>\n",
              "      <td>False</td>\n",
              "    </tr>\n",
              "    <tr>\n",
              "      <th>4</th>\n",
              "      <td>815434344357625856</td>\n",
              "      <td>2719</td>\n",
              "      <td>1012</td>\n",
              "      <td>2017-01-01 05:47:52</td>\n",
              "      <td>2016 was channeling The Little Mermaid and end...</td>\n",
              "      <td>False</td>\n",
              "    </tr>\n",
              "    <tr>\n",
              "      <th>...</th>\n",
              "      <td>...</td>\n",
              "      <td>...</td>\n",
              "      <td>...</td>\n",
              "      <td>...</td>\n",
              "      <td>...</td>\n",
              "      <td>...</td>\n",
              "    </tr>\n",
              "    <tr>\n",
              "      <th>3071</th>\n",
              "      <td>72419463005351936</td>\n",
              "      <td>264</td>\n",
              "      <td>1019</td>\n",
              "      <td>2011-05-22 21:52:00</td>\n",
              "      <td>That awkward moment when Seventeen Again trend...</td>\n",
              "      <td>False</td>\n",
              "    </tr>\n",
              "    <tr>\n",
              "      <th>3072</th>\n",
              "      <td>72237059359780864</td>\n",
              "      <td>922</td>\n",
              "      <td>3847</td>\n",
              "      <td>2011-05-22 09:47:11</td>\n",
              "      <td>#endoftheworldconfessions I am Victoria's secr...</td>\n",
              "      <td>False</td>\n",
              "    </tr>\n",
              "    <tr>\n",
              "      <th>3073</th>\n",
              "      <td>72104934669168640</td>\n",
              "      <td>363</td>\n",
              "      <td>2230</td>\n",
              "      <td>2011-05-22 01:02:10</td>\n",
              "      <td>FACT: Tweeting the word 'fact' does not make s...</td>\n",
              "      <td>False</td>\n",
              "    </tr>\n",
              "    <tr>\n",
              "      <th>3074</th>\n",
              "      <td>72063479808405504</td>\n",
              "      <td>645</td>\n",
              "      <td>7009</td>\n",
              "      <td>2011-05-21 22:17:27</td>\n",
              "      <td>#50thingsIhate: people.</td>\n",
              "      <td>False</td>\n",
              "    </tr>\n",
              "    <tr>\n",
              "      <th>3075</th>\n",
              "      <td>72062933059895296</td>\n",
              "      <td>627</td>\n",
              "      <td>2305</td>\n",
              "      <td>2011-05-21 22:15:16</td>\n",
              "      <td>We must be in Professor Flitwick's class becau...</td>\n",
              "      <td>False</td>\n",
              "    </tr>\n",
              "  </tbody>\n",
              "</table>\n",
              "<p>3076 rows × 6 columns</p>\n",
              "</div>"
            ],
            "text/plain": [
              "                      id  favourites  retweets           created_at  \\\n",
              "0     903664289411686400        1921       556  2017-09-01 17:02:10   \n",
              "1     901217559860703234        2556       934  2017-08-25 22:59:44   \n",
              "2     879505014422740994        3879      1578  2017-06-27 01:01:50   \n",
              "3     818293342622650368         737       169  2017-01-09 03:08:30   \n",
              "4     815434344357625856        2719      1012  2017-01-01 05:47:52   \n",
              "...                  ...         ...       ...                  ...   \n",
              "3071   72419463005351936         264      1019  2011-05-22 21:52:00   \n",
              "3072   72237059359780864         922      3847  2011-05-22 09:47:11   \n",
              "3073   72104934669168640         363      2230  2011-05-22 01:02:10   \n",
              "3074   72063479808405504         645      7009  2011-05-21 22:17:27   \n",
              "3075   72062933059895296         627      2305  2011-05-21 22:15:16   \n",
              "\n",
              "                                                   text  is_quoted  \n",
              "0                         #19YearsLater #BackToHogwarts      False  \n",
              "1     \"I rose up from the dead, I do it all the time...      False  \n",
              "2            #HarryPotter20 There will always be magic.      False  \n",
              "3     Hermione tries to play Quidditch but hits her ...      False  \n",
              "4     2016 was channeling The Little Mermaid and end...      False  \n",
              "...                                                 ...        ...  \n",
              "3071  That awkward moment when Seventeen Again trend...      False  \n",
              "3072  #endoftheworldconfessions I am Victoria's secr...      False  \n",
              "3073  FACT: Tweeting the word 'fact' does not make s...      False  \n",
              "3074                            #50thingsIhate: people.      False  \n",
              "3075  We must be in Professor Flitwick's class becau...      False  \n",
              "\n",
              "[3076 rows x 6 columns]"
            ]
          },
          "execution_count": 3,
          "metadata": {},
          "output_type": "execute_result"
        }
      ],
      "source": [
        "tweets = pd.read_csv('https://raw.githubusercontent.com/organisciak/Scripting-Course/master/data/voldemort_tweets.csv')\n",
        "tweets[tweets.text.str.contains('[^#]')]"
      ]
    },
    {
      "cell_type": "markdown",
      "metadata": {
        "id": "E5-b0M-9hHe-"
      },
      "source": [
        "## Q1 - Movie Dataset questions\n",
        "\n",
        "Load the following dataset:"
      ]
    },
    {
      "cell_type": "code",
      "execution_count": null,
      "metadata": {
        "id": "_uBp7IEchHe-",
        "outputId": "34186195-7bdb-42b9-f05b-effc93f6f9d6"
      },
      "outputs": [
        {
          "data": {
            "text/html": [
              "<div>\n",
              "<style scoped>\n",
              "    .dataframe tbody tr th:only-of-type {\n",
              "        vertical-align: middle;\n",
              "    }\n",
              "\n",
              "    .dataframe tbody tr th {\n",
              "        vertical-align: top;\n",
              "    }\n",
              "\n",
              "    .dataframe thead th {\n",
              "        text-align: right;\n",
              "    }\n",
              "</style>\n",
              "<table border=\"1\" class=\"dataframe\">\n",
              "  <thead>\n",
              "    <tr style=\"text-align: right;\">\n",
              "      <th></th>\n",
              "      <th>userId</th>\n",
              "      <th>rating</th>\n",
              "      <th>title</th>\n",
              "      <th>genres</th>\n",
              "      <th>timestamp</th>\n",
              "      <th>year</th>\n",
              "    </tr>\n",
              "  </thead>\n",
              "  <tbody>\n",
              "    <tr>\n",
              "      <th>73763</th>\n",
              "      <td>353</td>\n",
              "      <td>3.0</td>\n",
              "      <td>Dawn of the Dead</td>\n",
              "      <td>Action</td>\n",
              "      <td>1142686775</td>\n",
              "      <td>2004</td>\n",
              "    </tr>\n",
              "    <tr>\n",
              "      <th>86033</th>\n",
              "      <td>564</td>\n",
              "      <td>4.0</td>\n",
              "      <td>Beyond, The (E tu vivrai nel terrore - L'aldilà)</td>\n",
              "      <td>Horror</td>\n",
              "      <td>974709973</td>\n",
              "      <td>1981</td>\n",
              "    </tr>\n",
              "    <tr>\n",
              "      <th>12680</th>\n",
              "      <td>271</td>\n",
              "      <td>5.0</td>\n",
              "      <td>Spider-Man 2</td>\n",
              "      <td>Action</td>\n",
              "      <td>1107785252</td>\n",
              "      <td>2004</td>\n",
              "    </tr>\n",
              "  </tbody>\n",
              "</table>\n",
              "</div>"
            ],
            "text/plain": [
              "       userId  rating                                             title  \\\n",
              "73763     353     3.0                                  Dawn of the Dead   \n",
              "86033     564     4.0  Beyond, The (E tu vivrai nel terrore - L'aldilà)   \n",
              "12680     271     5.0                                      Spider-Man 2   \n",
              "\n",
              "       genres   timestamp  year  \n",
              "73763  Action  1142686775  2004  \n",
              "86033  Horror   974709973  1981  \n",
              "12680  Action  1107785252  2004  "
            ]
          },
          "execution_count": 103,
          "metadata": {},
          "output_type": "execute_result"
        }
      ],
      "source": [
        "movies = pd.read_csv('https://raw.githubusercontent.com/organisciak/Scripting-Course/master/data/movielens_small.csv')\n",
        "movies.sample(3)"
      ]
    },
    {
      "cell_type": "markdown",
      "metadata": {
        "id": "VETW03SkhHe-"
      },
      "source": [
        "**Q1a**: Among prolific raters (those with more than 100 ratings), which user has the lowest average rating? (10pts)"
      ]
    },
    {
      "cell_type": "code",
      "execution_count": null,
      "metadata": {
        "id": "pMjHYp4whHe-"
      },
      "outputs": [],
      "source": [
        "q1a_answer = \"\" #@param {type:'int'}"
      ]
    },
    {
      "cell_type": "markdown",
      "metadata": {
        "id": "RgDCOxKchHe-"
      },
      "source": [
        "**Q1b**: Identify the user with the biggest discrepency in their love for Action movies over Drama movies. (min 5 ratings of each genre, either mean or median are fine) (10pts)"
      ]
    },
    {
      "cell_type": "code",
      "execution_count": null,
      "metadata": {
        "id": "oXODRxXWhHe_"
      },
      "outputs": [],
      "source": [
        "q1b_answer = \"\" #@param {type:'int'}"
      ]
    },
    {
      "cell_type": "markdown",
      "metadata": {
        "id": "Wq0mk820hHe_"
      },
      "source": [
        "**Q1c**: Create a DataFrame of the *worst* and *best* movie by year, focusing only on movies with at least 5 reviews and using the *mean* of user ratings as your measure of good or bad. Here's what the first 5 rows of your output should look like: (15pts)\n",
        "\n",
        "|   year | worst_movie                        |   worst_rating | best_movie   |   best_rating |\n",
        "|-------:|:-----------------------------------|---------------:|:-------------|--------------:|\n",
        "|   2016 | Batman v Superman: Dawn of Justice |         2.4375 | Zootopia     |       4       |\n",
        "|   2015 | Fantastic Four                     |         2      | Creed        |       4.16667 |\n",
        "|   2014 | 300: Rise of an Empire             |         2.1    | Interstellar |       4.15116 |\n",
        "|   2013 | After Earth                        |         1.2    | Rush         |       4.36364 |\n",
        "|   2012 | Snow White and the Huntsman        |         2      | Paperman     |       4.75    |"
      ]
    },
    {
      "cell_type": "code",
      "execution_count": null,
      "metadata": {
        "id": "0861EFG6hHe_"
      },
      "outputs": [],
      "source": [
        "# Answer-Q1c\n"
      ]
    },
    {
      "cell_type": "markdown",
      "metadata": {
        "id": "DNz2uFCUhHe_"
      },
      "source": [
        "## Q2 - Library and Education Funding"
      ]
    },
    {
      "cell_type": "markdown",
      "metadata": {
        "id": "ogvvM9LshHe_"
      },
      "source": [
        "Here are two datasets - Library Revenue by state, and education spender, per pupil, per state."
      ]
    },
    {
      "cell_type": "code",
      "execution_count": null,
      "metadata": {
        "id": "Owq3XLbGhHe_",
        "outputId": "883800ad-1aca-44d7-9cda-596a0798dd2a"
      },
      "outputs": [
        {
          "data": {
            "text/html": [
              "<div>\n",
              "<style scoped>\n",
              "    .dataframe tbody tr th:only-of-type {\n",
              "        vertical-align: middle;\n",
              "    }\n",
              "\n",
              "    .dataframe tbody tr th {\n",
              "        vertical-align: top;\n",
              "    }\n",
              "\n",
              "    .dataframe thead th {\n",
              "        text-align: right;\n",
              "    }\n",
              "</style>\n",
              "<table border=\"1\" class=\"dataframe\">\n",
              "  <thead>\n",
              "    <tr style=\"text-align: right;\">\n",
              "      <th></th>\n",
              "      <th>State</th>\n",
              "      <th>Population</th>\n",
              "      <th>Revenue</th>\n",
              "      <th>Mls Librarian Staff</th>\n",
              "    </tr>\n",
              "  </thead>\n",
              "  <tbody>\n",
              "    <tr>\n",
              "      <th>0</th>\n",
              "      <td>AK</td>\n",
              "      <td>647586</td>\n",
              "      <td>35984725</td>\n",
              "      <td>58.86</td>\n",
              "    </tr>\n",
              "    <tr>\n",
              "      <th>1</th>\n",
              "      <td>AL</td>\n",
              "      <td>4833722</td>\n",
              "      <td>104479197</td>\n",
              "      <td>328.08</td>\n",
              "    </tr>\n",
              "    <tr>\n",
              "      <th>2</th>\n",
              "      <td>AR</td>\n",
              "      <td>2643930</td>\n",
              "      <td>74999703</td>\n",
              "      <td>145.11</td>\n",
              "    </tr>\n",
              "    <tr>\n",
              "      <th>3</th>\n",
              "      <td>AS</td>\n",
              "      <td>60324</td>\n",
              "      <td>466525</td>\n",
              "      <td>1.00</td>\n",
              "    </tr>\n",
              "    <tr>\n",
              "      <th>4</th>\n",
              "      <td>AZ</td>\n",
              "      <td>6758252</td>\n",
              "      <td>179986697</td>\n",
              "      <td>473.98</td>\n",
              "    </tr>\n",
              "  </tbody>\n",
              "</table>\n",
              "</div>"
            ],
            "text/plain": [
              "  State  Population    Revenue  Mls Librarian Staff\n",
              "0    AK      647586   35984725                58.86\n",
              "1    AL     4833722  104479197               328.08\n",
              "2    AR     2643930   74999703               145.11\n",
              "3    AS       60324     466525                 1.00\n",
              "4    AZ     6758252  179986697               473.98"
            ]
          },
          "execution_count": 104,
          "metadata": {},
          "output_type": "execute_result"
        }
      ],
      "source": [
        "imls = pd.read_csv('https://raw.githubusercontent.com/organisciak/Scripting-Course/master/data/imls_mini_by_state.csv')\n",
        "education = pd.read_csv('https://raw.githubusercontent.com/organisciak/Scripting-Course/master/data/per_pupil_education_spending_2021.csv')\n",
        "imls.head()"
      ]
    },
    {
      "cell_type": "code",
      "execution_count": null,
      "metadata": {
        "id": "U0hLBvpUhHe_",
        "outputId": "41648b09-832b-4717-87a2-ed150641f6cb"
      },
      "outputs": [
        {
          "data": {
            "text/html": [
              "<div>\n",
              "<style scoped>\n",
              "    .dataframe tbody tr th:only-of-type {\n",
              "        vertical-align: middle;\n",
              "    }\n",
              "\n",
              "    .dataframe tbody tr th {\n",
              "        vertical-align: top;\n",
              "    }\n",
              "\n",
              "    .dataframe thead th {\n",
              "        text-align: right;\n",
              "    }\n",
              "</style>\n",
              "<table border=\"1\" class=\"dataframe\">\n",
              "  <thead>\n",
              "    <tr style=\"text-align: right;\">\n",
              "      <th></th>\n",
              "      <th>state</th>\n",
              "      <th>per_pupil_spending</th>\n",
              "    </tr>\n",
              "  </thead>\n",
              "  <tbody>\n",
              "    <tr>\n",
              "      <th>0</th>\n",
              "      <td>United States</td>\n",
              "      <td>14,347</td>\n",
              "    </tr>\n",
              "    <tr>\n",
              "      <th>1</th>\n",
              "      <td>Alabama</td>\n",
              "      <td>10,683</td>\n",
              "    </tr>\n",
              "    <tr>\n",
              "      <th>2</th>\n",
              "      <td>Alaska</td>\n",
              "      <td>19,540</td>\n",
              "    </tr>\n",
              "    <tr>\n",
              "      <th>3</th>\n",
              "      <td>Arizona</td>\n",
              "      <td>9,611</td>\n",
              "    </tr>\n",
              "    <tr>\n",
              "      <th>4</th>\n",
              "      <td>Arkansas</td>\n",
              "      <td>11,266</td>\n",
              "    </tr>\n",
              "  </tbody>\n",
              "</table>\n",
              "</div>"
            ],
            "text/plain": [
              "           state per_pupil_spending\n",
              "0  United States             14,347\n",
              "1        Alabama             10,683\n",
              "2         Alaska             19,540\n",
              "3        Arizona              9,611\n",
              "4       Arkansas             11,266"
            ]
          },
          "execution_count": 77,
          "metadata": {},
          "output_type": "execute_result"
        }
      ],
      "source": [
        "education.head()"
      ]
    },
    {
      "cell_type": "markdown",
      "metadata": {
        "id": "aOdMC6YDhHe_"
      },
      "source": [
        "**Q2**: Write the code to plot the per-capita library revenue next to the per-pupil spending. The chart should look like below. (15pts)\n",
        "\n",
        "Tips: 1) Your state columns use different values for states, 2) per_pupil_spending is initially loaded as a string because of the commas"
      ]
    },
    {
      "cell_type": "code",
      "execution_count": null,
      "metadata": {
        "id": "CG36YsQ_hHfA"
      },
      "outputs": [],
      "source": [
        "# Answer-Q2\n"
      ]
    },
    {
      "cell_type": "code",
      "execution_count": null,
      "metadata": {
        "id": "jKuYAmBJhHfA",
        "outputId": "d3ae26a0-359f-4847-8295-87cb5afc6209"
      },
      "outputs": [
        {
          "data": {
            "text/plain": [
              "<AxesSubplot:xlabel='Education spending (per pupil)', ylabel='Library Revenue (per capita)'>"
            ]
          },
          "execution_count": 95,
          "metadata": {},
          "output_type": "execute_result"
        },
        {
          "data": {
            "image/png": "[encoded data removed]",
            "text/plain": [
              "<Figure size 432x288 with 1 Axes>"
            ]
          },
          "metadata": {
            "needs_background": "light"
          },
          "output_type": "display_data"
        }
      ],
      "source": []
    },
    {
      "cell_type": "markdown",
      "metadata": {
        "id": "UOVo49gGhHfA"
      },
      "source": [
        "## Q3 - Pandas Data Prep with a Web Table"
      ]
    },
    {
      "cell_type": "markdown",
      "metadata": {
        "id": "VNDiYCdyhHfA"
      },
      "source": [
        "**Q3a**: Wikipedia's List of Sovereign States ('https://en.wikipedia.org/wiki/List_of_sovereign_states') has a column called `Common and formal names`, with entries such as `Albania – Republic of Albania`. Load that DataFrame and add a `common_name` (e.g. Albania) and `formal_name` (e.g. Republic of Albania) column. (10pts)"
      ]
    },
    {
      "cell_type": "code",
      "execution_count": null,
      "metadata": {
        "id": "IYwE9xpChHfA"
      },
      "outputs": [],
      "source": [
        "# Answer-Q3a\n"
      ]
    },
    {
      "cell_type": "markdown",
      "metadata": {
        "id": "lvak7nuwhHfA"
      },
      "source": [
        "**Q3b**: When there isn't a `formal_name` , copy the `common_name` value to the `formal_name` field. (5pts)"
      ]
    },
    {
      "cell_type": "code",
      "execution_count": null,
      "metadata": {
        "id": "BGFYSCvjhHfA"
      },
      "outputs": [],
      "source": [
        "# Answer-Q3b\n"
      ]
    },
    {
      "cell_type": "code",
      "execution_count": null,
      "metadata": {
        "id": "6bejn_WRhHfA"
      },
      "outputs": [],
      "source": [
        "#@markdown ### Enter your name for grading\n",
        "my_name = \"\" #@param { type:'string' }\n",
        "\n",
        "#@markdown _Have you saved your work for yourself? Don't forget to Save a Copy in Drive so that you have your progress._"
      ]
    }
  ],
  "metadata": {
    "colab": {
      "include_colab_link": true,
      "provenance": []
    },
    "kernelspec": {
      "display_name": "base",
      "language": "python",
      "name": "python3"
    },
    "language_info": {
      "codemirror_mode": {
        "name": "ipython",
        "version": 3
      },
      "file_extension": ".py",
      "mimetype": "text/x-python",
      "name": "python",
      "nbconvert_exporter": "python",
      "pygments_lexer": "ipython3",
      "version": "3.13.1"
    },
    "orig_nbformat": 4
  },
  "nbformat": 4,
  "nbformat_minor": 0
}
