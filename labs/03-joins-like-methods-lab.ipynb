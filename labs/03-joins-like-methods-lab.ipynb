{
  "cells": [
    {
      "cell_type": "markdown",
      "metadata": {
        "id": "view-in-github",
        "colab_type": "text"
      },
      "source": [
        "<a href=\"https://colab.research.google.com/github/organisciak/Scripting-Course/blob/master/labs/03-joins-like-methods-lab.ipynb\" target=\"_parent\"><img src=\"https://colab.research.google.com/assets/colab-badge.svg\" alt=\"Open In Colab\"/></a>"
      ]
    },
    {
      "cell_type": "markdown",
      "metadata": {
        "id": "B5oqq1uv4sxZ"
      },
      "source": [
        "## Lab Worksheet 3\n",
        "\n",
        "*Reminder - save your work. Go to* File > Save a Copy in Drive *to ensure that you have your work saved.*\n",
        "\n",
        "Hopefully by this week you're getting comfortable with Python and SQL, and understand the differences between the two. If not, ask questions and refer to our prior notes.\n",
        "\n",
        "This will be the last week where we talk about fundamental skills for Python and SQL - starting next week, we're putting them to use!"
      ]
    },
    {
      "cell_type": "markdown",
      "metadata": {
        "id": "CR27LElN4sxa"
      },
      "source": [
        "SQL Skills\n",
        "\n",
        "- `ORDER BY`\n",
        "- `LIMIT`\n",
        "- `AND` and `OR`\n",
        "- `LIKE` clause for `WHERE`\n",
        "- `JOIN`"
      ]
    },
    {
      "cell_type": "markdown",
      "metadata": {
        "id": "K9OgizKN4sxb"
      },
      "source": [
        "## Lab preparation\n",
        "\n",
        "Download [circulation.sqlite](https://github.com/organisciak/Scripting-Course/blob/master/data/circulation.sqlite?raw=true) and place in the same folder as this lab. You can run this command to do it automatically:"
      ]
    },
    {
      "cell_type": "code",
      "execution_count": null,
      "metadata": {
        "cellView": "form",
        "colab": {
          "base_uri": "https://localhost:8080/"
        },
        "id": "2ja4zfes453u",
        "outputId": "82c0ab3a-62cb-4ad1-f927-e24c51062ff2"
      },
      "outputs": [
        {
          "output_type": "stream",
          "name": "stdout",
          "text": [
            "2023-04-11 19:31:22 URL:https://raw.githubusercontent.com/organisciak/Scripting-Course/master/data/circulation.sqlite [577536/577536] -> \"circulation.sqlite\" [1]\n"
          ]
        }
      ],
      "source": [
        "#@markdown *Run me to download our circulation data sqlite database*\n",
        "!wget -nv 'https://github.com/organisciak/Scripting-Course/blob/master/data/circulation.sqlite?raw=true' -O circulation.sqlite"
      ]
    },
    {
      "cell_type": "code",
      "execution_count": null,
      "metadata": {
        "cellView": "form",
        "colab": {
          "base_uri": "https://localhost:8080/"
        },
        "id": "fvsaqNnE0Bvc",
        "outputId": "8dddeae6-bafb-41d0-8ae8-034a5d1159c0"
      },
      "outputs": [
        {
          "output_type": "stream",
          "name": "stdout",
          "text": [
            "  Preparing metadata (setup.py) ... \u001b[?25l\u001b[?25hdone\n",
            "\u001b[2K     \u001b[90m━━━━━━━━━━━━━━━━━━━━━━━━━━━━━━━━━━━━━━━━\u001b[0m \u001b[32m1.6/1.6 MB\u001b[0m \u001b[31m19.0 MB/s\u001b[0m eta \u001b[36m0:00:00\u001b[0m\n",
            "\u001b[?25h  Building wheel for scripting-grading (setup.py) ... \u001b[?25l\u001b[?25hdone\n"
          ]
        }
      ],
      "source": [
        "#@markdown *Lab Checking Code*: This lab has some answers provided - run this code to download them.\n",
        "!python -m pip install -q git+https://github.com/organisciak/Scripting-Course-Grading.git@master\n",
        "!pip -qq install sqlalchemy==1.4\n",
        "from scripting_grading import grading, lab3\n",
        "import pandas as pd"
      ]
    },
    {
      "cell_type": "markdown",
      "metadata": {
        "id": "9HOPtbkS6pzK"
      },
      "source": [
        "Remember that in Colab, the files that you save are temporary - they'll disappear\n",
        "after a few hours.\n",
        "\n",
        "Once you have your database, connect to it in this way:"
      ]
    },
    {
      "cell_type": "code",
      "execution_count": null,
      "metadata": {
        "colab": {
          "base_uri": "https://localhost:8080/"
        },
        "id": "AAsgwPxK4sxc",
        "outputId": "4266ce56-8742-408b-c78c-c46507d0fb27"
      },
      "outputs": [
        {
          "output_type": "stream",
          "name": "stdout",
          "text": [
            "The sql extension is already loaded. To reload it, use:\n",
            "  %reload_ext sql\n"
          ]
        }
      ],
      "source": [
        "%load_ext sql\n",
        "%sql sqlite:///circulation.sqlite"
      ]
    },
    {
      "cell_type": "markdown",
      "metadata": {
        "id": "dVcl_x8f4sxi"
      },
      "source": [
        "This is a generated dataset of library circulation information, with three tables: `patrons`, `books`, and `circulation`."
      ]
    },
    {
      "cell_type": "markdown",
      "metadata": {
        "id": "PYU-1h9i4sxj"
      },
      "source": [
        "## SQL\n",
        "\n",
        "Last week, we reviewed `CREATE TABLE`, `INSERT`, and `SELECT`. Today, we'll cover a bit more about clauses that allow us to modify how we SELECT results.\n",
        "\n",
        "\n",
        "## `LIMIT` and `ORDER BY`\n",
        "\n",
        "`LIMIT` can limit the number of results that `SELECT` returns. This is especially useful if there are many, many matches, and you only want to see some of them.\n",
        "\n",
        "`ORDER BY` allows you to specify a column to sort by, and whether it is sorted in ascending order (`ASC`) or descending order (`DESC`).\n",
        "\n",
        "These clauses are usually at the end of the statement - if using both the `LIMIT` should go later than `ORDER BY`. The best way to understand them is by example:"
      ]
    },
    {
      "cell_type": "markdown",
      "metadata": {
        "id": "29N_nk1J4sxj"
      },
      "source": [
        "*Example: Select 5 records from the patrons table.*"
      ]
    },
    {
      "cell_type": "code",
      "execution_count": null,
      "metadata": {
        "colab": {
          "base_uri": "https://localhost:8080/",
          "height": 179
        },
        "id": "Mdmso-C04sxk",
        "outputId": "bbca15da-06f5-461b-9b3a-5822161557e8"
      },
      "outputs": [
        {
          "name": "stdout",
          "output_type": "stream",
          "text": [
            " * sqlite:///circulation.sqlite\n",
            "Done.\n"
          ]
        },
        {
          "data": {
            "text/html": [
              "<table>\n",
              "    <thead>\n",
              "        <tr>\n",
              "            <th>id</th>\n",
              "            <th>name</th>\n",
              "            <th>age</th>\n",
              "            <th>email</th>\n",
              "            <th>zipcode</th>\n",
              "            <th>city</th>\n",
              "            <th>activity</th>\n",
              "        </tr>\n",
              "    </thead>\n",
              "    <tbody>\n",
              "        <tr>\n",
              "            <td>1</td>\n",
              "            <td>Jeremy Mata</td>\n",
              "            <td>30</td>\n",
              "            <td>timothymoore@gmail.com</td>\n",
              "            <td>52022</td>\n",
              "            <td>Thomasmouth</td>\n",
              "            <td>9</td>\n",
              "        </tr>\n",
              "        <tr>\n",
              "            <td>2</td>\n",
              "            <td>Daniel Garcia</td>\n",
              "            <td>55</td>\n",
              "            <td>mcdanielwilliam@sanchez-herrera.biz</td>\n",
              "            <td>09529</td>\n",
              "            <td>Deborahbury</td>\n",
              "            <td>3</td>\n",
              "        </tr>\n",
              "        <tr>\n",
              "            <td>3</td>\n",
              "            <td>Warren Green</td>\n",
              "            <td>17</td>\n",
              "            <td>janice81@flores.com</td>\n",
              "            <td>55036</td>\n",
              "            <td>Michelefurt</td>\n",
              "            <td>1</td>\n",
              "        </tr>\n",
              "        <tr>\n",
              "            <td>4</td>\n",
              "            <td>Erika Smith</td>\n",
              "            <td>4</td>\n",
              "            <td>tnichols@gregory.com</td>\n",
              "            <td>11235</td>\n",
              "            <td>Port Stephanie</td>\n",
              "            <td>3</td>\n",
              "        </tr>\n",
              "        <tr>\n",
              "            <td>5</td>\n",
              "            <td>Matthew Johnson</td>\n",
              "            <td>22</td>\n",
              "            <td>christina30@manning.info</td>\n",
              "            <td>52521</td>\n",
              "            <td>Jamesfort</td>\n",
              "            <td>4</td>\n",
              "        </tr>\n",
              "    </tbody>\n",
              "</table>"
            ],
            "text/plain": [
              "[(1, 'Jeremy Mata', 30, 'timothymoore@gmail.com', '52022', 'Thomasmouth', 9),\n",
              " (2, 'Daniel Garcia', 55, 'mcdanielwilliam@sanchez-herrera.biz', '09529', 'Deborahbury', 3),\n",
              " (3, 'Warren Green', 17, 'janice81@flores.com', '55036', 'Michelefurt', 1),\n",
              " (4, 'Erika Smith', 4, 'tnichols@gregory.com', '11235', 'Port Stephanie', 3),\n",
              " (5, 'Matthew Johnson', 22, 'christina30@manning.info', '52521', 'Jamesfort', 4)]"
            ]
          },
          "execution_count": 13,
          "metadata": {},
          "output_type": "execute_result"
        }
      ],
      "source": [
        "%%sql\n",
        "SELECT * FROM patrons\n",
        "    LIMIT 5;"
      ]
    },
    {
      "cell_type": "markdown",
      "metadata": {
        "id": "z1Hi_rJK4sxp"
      },
      "source": [
        "(*If this cell doesn't work, it means you didn't download *circulation.sqlite*)\n",
        "\n",
        "*Example: Select the five oldest patrons.*"
      ]
    },
    {
      "cell_type": "code",
      "execution_count": null,
      "metadata": {
        "colab": {
          "base_uri": "https://localhost:8080/",
          "height": 179
        },
        "id": "2lc3Bv0_4sxq",
        "outputId": "f3d7278d-f2e1-4c05-a4ec-44ab8bdfaf07"
      },
      "outputs": [
        {
          "name": "stdout",
          "output_type": "stream",
          "text": [
            " * sqlite:///circulation.sqlite\n",
            "Done.\n"
          ]
        },
        {
          "data": {
            "text/html": [
              "<table>\n",
              "    <thead>\n",
              "        <tr>\n",
              "            <th>id</th>\n",
              "            <th>name</th>\n",
              "            <th>age</th>\n",
              "            <th>email</th>\n",
              "            <th>zipcode</th>\n",
              "            <th>city</th>\n",
              "            <th>activity</th>\n",
              "        </tr>\n",
              "    </thead>\n",
              "    <tbody>\n",
              "        <tr>\n",
              "            <td>516</td>\n",
              "            <td>Latoya Clark</td>\n",
              "            <td>82</td>\n",
              "            <td>lanceosborne@hotmail.com</td>\n",
              "            <td>79851</td>\n",
              "            <td>Deborahbury</td>\n",
              "            <td>9</td>\n",
              "        </tr>\n",
              "        <tr>\n",
              "            <td>911</td>\n",
              "            <td>Jackie Arias</td>\n",
              "            <td>80</td>\n",
              "            <td>sandra83@ramirez-wheeler.com</td>\n",
              "            <td>53858</td>\n",
              "            <td>Michelefurt</td>\n",
              "            <td>9</td>\n",
              "        </tr>\n",
              "        <tr>\n",
              "            <td>89</td>\n",
              "            <td>Jennifer Bradley</td>\n",
              "            <td>79</td>\n",
              "            <td>jacquelinenoble@williams-ayala.com</td>\n",
              "            <td>63196</td>\n",
              "            <td>Port Stephanie</td>\n",
              "            <td>4</td>\n",
              "        </tr>\n",
              "        <tr>\n",
              "            <td>385</td>\n",
              "            <td>Shannon Smith</td>\n",
              "            <td>79</td>\n",
              "            <td>christinamullen@yahoo.com</td>\n",
              "            <td>24061</td>\n",
              "            <td>Walkerview</td>\n",
              "            <td>0</td>\n",
              "        </tr>\n",
              "        <tr>\n",
              "            <td>238</td>\n",
              "            <td>Christopher James</td>\n",
              "            <td>78</td>\n",
              "            <td>cookchristopher@yahoo.com</td>\n",
              "            <td>71849</td>\n",
              "            <td>Cooperton</td>\n",
              "            <td>4</td>\n",
              "        </tr>\n",
              "    </tbody>\n",
              "</table>"
            ],
            "text/plain": [
              "[(516, 'Latoya Clark', 82, 'lanceosborne@hotmail.com', '79851', 'Deborahbury', 9),\n",
              " (911, 'Jackie Arias', 80, 'sandra83@ramirez-wheeler.com', '53858', 'Michelefurt', 9),\n",
              " (89, 'Jennifer Bradley', 79, 'jacquelinenoble@williams-ayala.com', '63196', 'Port Stephanie', 4),\n",
              " (385, 'Shannon Smith', 79, 'christinamullen@yahoo.com', '24061', 'Walkerview', 0),\n",
              " (238, 'Christopher James', 78, 'cookchristopher@yahoo.com', '71849', 'Cooperton', 4)]"
            ]
          },
          "execution_count": 14,
          "metadata": {},
          "output_type": "execute_result"
        }
      ],
      "source": [
        "%%sql\n",
        "SELECT * FROM patrons\n",
        "    ORDER BY age DESC\n",
        "    LIMIT 5;"
      ]
    },
    {
      "cell_type": "markdown",
      "metadata": {
        "id": "tQNKFyYT4sxu"
      },
      "source": [
        "## More on `WHERE`\n",
        "\n",
        "### `OR`\n",
        "\n",
        "Multiple conditions can be combined with `AND`; e.g. `WHERE age > 10 AND first_name == 'Jack'`. It is also possible to say 'one of these conditions' by using `OR`. For example,\n",
        "\n",
        "```sql\n",
        "SELECT * FROM people\n",
        "    WHERE age > 10 OR first_name == 'Jack';\n",
        "```\n",
        "\n",
        "This will return all records where the person's age is >10 and all records where the first name is Jack.\n",
        "\n",
        "You can avoid ambiguity by using parentheses. The following is functionally identical, but slightly easier to read and tougher to accidentally do something you didn't intend:\n",
        "\n",
        "```sql\n",
        "SELECT * FROM people\n",
        "    WHERE (age > 10) OR (first_name == 'Jack');\n",
        "```\n",
        "\n",
        "### `LIKE`\n",
        "\n",
        "In addition to logical operators - e.g. `WHERE age > 10` or `WHERE first_name == 'Jack'` - you can also do a partial match on a string with `LIKE`.\n",
        "\n",
        "So, `WHERE first_name LIKE 'Ja%'` will match first names like James, Jack, Jan.\n",
        "\n",
        "`LIKE` tells SQL to look for special characters in the string. There are two special characters that you should know:\n",
        "\n",
        "- `%`, like in the example above, matched any number of random characters\n",
        "- `_` matches a single random character.\n",
        "\n",
        "*Example: match names that start with Jacob, followed by any other characters:*"
      ]
    },
    {
      "cell_type": "code",
      "execution_count": null,
      "metadata": {
        "colab": {
          "base_uri": "https://localhost:8080/",
          "height": 177
        },
        "id": "v-q97A1o4sxu",
        "outputId": "c74fcfc9-564d-4d76-e12a-d9e8b770f6f3"
      },
      "outputs": [
        {
          "name": "stdout",
          "output_type": "stream",
          "text": [
            " * sqlite:///circulation.sqlite\n",
            "Done.\n"
          ]
        },
        {
          "data": {
            "text/html": [
              "<table>\n",
              "    <thead>\n",
              "        <tr>\n",
              "            <th>id</th>\n",
              "            <th>name</th>\n",
              "            <th>age</th>\n",
              "            <th>email</th>\n",
              "            <th>zipcode</th>\n",
              "            <th>city</th>\n",
              "            <th>activity</th>\n",
              "        </tr>\n",
              "    </thead>\n",
              "    <tbody>\n",
              "        <tr>\n",
              "            <td>224</td>\n",
              "            <td>Jacob Conrad</td>\n",
              "            <td>34</td>\n",
              "            <td>racheldurham@king-downs.com</td>\n",
              "            <td>48807</td>\n",
              "            <td>New Hannah</td>\n",
              "            <td>5</td>\n",
              "        </tr>\n",
              "        <tr>\n",
              "            <td>248</td>\n",
              "            <td>Jacob Rivas</td>\n",
              "            <td>32</td>\n",
              "            <td>larry34@castillo-gibson.net</td>\n",
              "            <td>48618</td>\n",
              "            <td>East Pamelaburgh</td>\n",
              "            <td>8</td>\n",
              "        </tr>\n",
              "        <tr>\n",
              "            <td>287</td>\n",
              "            <td>Jacob Ross</td>\n",
              "            <td>53</td>\n",
              "            <td>phillipsvalerie@hudson.biz</td>\n",
              "            <td>98672</td>\n",
              "            <td>Cooperton</td>\n",
              "            <td>6</td>\n",
              "        </tr>\n",
              "        <tr>\n",
              "            <td>417</td>\n",
              "            <td>Jacob Palmer</td>\n",
              "            <td>44</td>\n",
              "            <td>willie34@hernandez-king.com</td>\n",
              "            <td>88821</td>\n",
              "            <td>Loganchester</td>\n",
              "            <td>1</td>\n",
              "        </tr>\n",
              "        <tr>\n",
              "            <td>428</td>\n",
              "            <td>Jacob Reid</td>\n",
              "            <td>34</td>\n",
              "            <td>dustin32@lawson-miller.biz</td>\n",
              "            <td>61655</td>\n",
              "            <td>Colechester</td>\n",
              "            <td>2</td>\n",
              "        </tr>\n",
              "        <tr>\n",
              "            <td>943</td>\n",
              "            <td>Jacob Garcia</td>\n",
              "            <td>50</td>\n",
              "            <td>vsalinas@gmail.com</td>\n",
              "            <td>62186</td>\n",
              "            <td>Romerofort</td>\n",
              "            <td>5</td>\n",
              "        </tr>\n",
              "    </tbody>\n",
              "</table>"
            ],
            "text/plain": [
              "[(224, 'Jacob Conrad', 34, 'racheldurham@king-downs.com', '48807', 'New Hannah', 5),\n",
              " (248, 'Jacob Rivas', 32, 'larry34@castillo-gibson.net', '48618', 'East Pamelaburgh', 8),\n",
              " (287, 'Jacob Ross', 53, 'phillipsvalerie@hudson.biz', '98672', 'Cooperton', 6),\n",
              " (417, 'Jacob Palmer', 44, 'willie34@hernandez-king.com', '88821', 'Loganchester', 1),\n",
              " (428, 'Jacob Reid', 34, 'dustin32@lawson-miller.biz', '61655', 'Colechester', 2),\n",
              " (943, 'Jacob Garcia', 50, 'vsalinas@gmail.com', '62186', 'Romerofort', 5)]"
            ]
          },
          "execution_count": 15,
          "metadata": {},
          "output_type": "execute_result"
        }
      ],
      "source": [
        "%%sql\n",
        "SELECT * FROM patrons\n",
        "    WHERE name LIKE 'Jacob%';"
      ]
    },
    {
      "cell_type": "markdown",
      "metadata": {
        "id": "Jydl2rj94sx0"
      },
      "source": [
        "*Example: [**Doing it wrong**] - Search for @gmail emails. Problem - this searches for strings starting with @gmail, but you need to say that there can be other characters before `@`*"
      ]
    },
    {
      "cell_type": "code",
      "execution_count": null,
      "metadata": {
        "colab": {
          "base_uri": "https://localhost:8080/",
          "height": 71
        },
        "id": "yGJJ0qUO4sx0",
        "outputId": "bc374e0f-2a13-45d4-c7d2-d976edc532fa"
      },
      "outputs": [
        {
          "name": "stdout",
          "output_type": "stream",
          "text": [
            " * sqlite:///circulation.sqlite\n",
            "Done.\n"
          ]
        },
        {
          "data": {
            "text/html": [
              "<table>\n",
              "    <thead>\n",
              "        <tr>\n",
              "            <th>id</th>\n",
              "            <th>name</th>\n",
              "            <th>age</th>\n",
              "            <th>email</th>\n",
              "            <th>zipcode</th>\n",
              "            <th>city</th>\n",
              "            <th>activity</th>\n",
              "        </tr>\n",
              "    </thead>\n",
              "    <tbody>\n",
              "    </tbody>\n",
              "</table>"
            ],
            "text/plain": [
              "[]"
            ]
          },
          "execution_count": 16,
          "metadata": {},
          "output_type": "execute_result"
        }
      ],
      "source": [
        "%%sql\n",
        "SELECT * FROM patrons\n",
        "    WHERE email LIKE '@gmail.com';"
      ]
    },
    {
      "cell_type": "markdown",
      "metadata": {
        "id": "bLYpsPav4sx9"
      },
      "source": [
        "*Example: [**Correct**] - Search for @gmail emails.*"
      ]
    },
    {
      "cell_type": "code",
      "execution_count": null,
      "metadata": {
        "colab": {
          "base_uri": "https://localhost:8080/",
          "height": 1000
        },
        "id": "JeTsD3Mp4sx9",
        "outputId": "3307dde7-c39d-442f-ea75-a06b5f6fa946"
      },
      "outputs": [
        {
          "name": "stdout",
          "output_type": "stream",
          "text": [
            " * sqlite:///circulation.sqlite\n",
            "Done.\n"
          ]
        },
        {
          "data": {
            "text/html": [
              "<table>\n",
              "    <thead>\n",
              "        <tr>\n",
              "            <th>id</th>\n",
              "            <th>name</th>\n",
              "            <th>age</th>\n",
              "            <th>email</th>\n",
              "            <th>zipcode</th>\n",
              "            <th>city</th>\n",
              "            <th>activity</th>\n",
              "        </tr>\n",
              "    </thead>\n",
              "    <tbody>\n",
              "        <tr>\n",
              "            <td>1</td>\n",
              "            <td>Jeremy Mata</td>\n",
              "            <td>30</td>\n",
              "            <td>timothymoore@gmail.com</td>\n",
              "            <td>52022</td>\n",
              "            <td>Thomasmouth</td>\n",
              "            <td>9</td>\n",
              "        </tr>\n",
              "        <tr>\n",
              "            <td>15</td>\n",
              "            <td>Brian Nixon</td>\n",
              "            <td>24</td>\n",
              "            <td>combslee@gmail.com</td>\n",
              "            <td>76117</td>\n",
              "            <td>Rothton</td>\n",
              "            <td>9</td>\n",
              "        </tr>\n",
              "        <tr>\n",
              "            <td>19</td>\n",
              "            <td>Shelly Roth</td>\n",
              "            <td>46</td>\n",
              "            <td>carloswalker@gmail.com</td>\n",
              "            <td>03442</td>\n",
              "            <td>Austinshire</td>\n",
              "            <td>6</td>\n",
              "        </tr>\n",
              "        <tr>\n",
              "            <td>21</td>\n",
              "            <td>James Arnold</td>\n",
              "            <td>22</td>\n",
              "            <td>faithchavez@gmail.com</td>\n",
              "            <td>15431</td>\n",
              "            <td>South Danielport</td>\n",
              "            <td>5</td>\n",
              "        </tr>\n",
              "        <tr>\n",
              "            <td>22</td>\n",
              "            <td>Jennifer Evans</td>\n",
              "            <td>49</td>\n",
              "            <td>ijackson@gmail.com</td>\n",
              "            <td>69375</td>\n",
              "            <td>East Pamelaburgh</td>\n",
              "            <td>6</td>\n",
              "        </tr>\n",
              "        <tr>\n",
              "            <td>23</td>\n",
              "            <td>Brittany Coleman</td>\n",
              "            <td>23</td>\n",
              "            <td>watsonscott@gmail.com</td>\n",
              "            <td>34912</td>\n",
              "            <td>North Stephenfort</td>\n",
              "            <td>7</td>\n",
              "        </tr>\n",
              "        <tr>\n",
              "            <td>29</td>\n",
              "            <td>Alyssa Williams DVM</td>\n",
              "            <td>33</td>\n",
              "            <td>tonya62@gmail.com</td>\n",
              "            <td>55420</td>\n",
              "            <td>Normanville</td>\n",
              "            <td>4</td>\n",
              "        </tr>\n",
              "        <tr>\n",
              "            <td>32</td>\n",
              "            <td>Tiffany Brooks</td>\n",
              "            <td>31</td>\n",
              "            <td>jeffreyburgess@gmail.com</td>\n",
              "            <td>10722</td>\n",
              "            <td>South Matthew</td>\n",
              "            <td>7</td>\n",
              "        </tr>\n",
              "        <tr>\n",
              "            <td>34</td>\n",
              "            <td>Victoria Carpenter</td>\n",
              "            <td>28</td>\n",
              "            <td>victoria72@gmail.com</td>\n",
              "            <td>20246</td>\n",
              "            <td>Thomasmouth</td>\n",
              "            <td>5</td>\n",
              "        </tr>\n",
              "        <tr>\n",
              "            <td>35</td>\n",
              "            <td>Allison Payne</td>\n",
              "            <td>31</td>\n",
              "            <td>thomas19@gmail.com</td>\n",
              "            <td>23188</td>\n",
              "            <td>Lake Michaelfort</td>\n",
              "            <td>4</td>\n",
              "        </tr>\n",
              "        <tr>\n",
              "            <td>37</td>\n",
              "            <td>Sharon Moore</td>\n",
              "            <td>21</td>\n",
              "            <td>elliottian@gmail.com</td>\n",
              "            <td>33605</td>\n",
              "            <td>Cooperton</td>\n",
              "            <td>9</td>\n",
              "        </tr>\n",
              "        <tr>\n",
              "            <td>45</td>\n",
              "            <td>Tammy Meyer</td>\n",
              "            <td>43</td>\n",
              "            <td>laceywilliams@gmail.com</td>\n",
              "            <td>73411</td>\n",
              "            <td>Romerofort</td>\n",
              "            <td>1</td>\n",
              "        </tr>\n",
              "        <tr>\n",
              "            <td>47</td>\n",
              "            <td>Cody Moore</td>\n",
              "            <td>13</td>\n",
              "            <td>annamaynard@gmail.com</td>\n",
              "            <td>53722</td>\n",
              "            <td>New Hannah</td>\n",
              "            <td>0</td>\n",
              "        </tr>\n",
              "        <tr>\n",
              "            <td>55</td>\n",
              "            <td>Nathan Guzman DVM</td>\n",
              "            <td>28</td>\n",
              "            <td>ivan11@gmail.com</td>\n",
              "            <td>23688</td>\n",
              "            <td>Brianchester</td>\n",
              "            <td>6</td>\n",
              "        </tr>\n",
              "        <tr>\n",
              "            <td>76</td>\n",
              "            <td>Elizabeth Contreras</td>\n",
              "            <td>4</td>\n",
              "            <td>nmolina@gmail.com</td>\n",
              "            <td>51577</td>\n",
              "            <td>Loganchester</td>\n",
              "            <td>7</td>\n",
              "        </tr>\n",
              "        <tr>\n",
              "            <td>81</td>\n",
              "            <td>Tyler Lopez</td>\n",
              "            <td>55</td>\n",
              "            <td>lisa89@gmail.com</td>\n",
              "            <td>12936</td>\n",
              "            <td>Port Stephanie</td>\n",
              "            <td>8</td>\n",
              "        </tr>\n",
              "        <tr>\n",
              "            <td>90</td>\n",
              "            <td>Kimberly Contreras</td>\n",
              "            <td>29</td>\n",
              "            <td>taraknight@gmail.com</td>\n",
              "            <td>97554</td>\n",
              "            <td>North Stephenfort</td>\n",
              "            <td>5</td>\n",
              "        </tr>\n",
              "        <tr>\n",
              "            <td>91</td>\n",
              "            <td>Jaime Taylor</td>\n",
              "            <td>15</td>\n",
              "            <td>lindsey20@gmail.com</td>\n",
              "            <td>94872</td>\n",
              "            <td>Deborahbury</td>\n",
              "            <td>6</td>\n",
              "        </tr>\n",
              "        <tr>\n",
              "            <td>97</td>\n",
              "            <td>Mr. Jesse Thomas</td>\n",
              "            <td>36</td>\n",
              "            <td>ewright@gmail.com</td>\n",
              "            <td>64152</td>\n",
              "            <td>New Terri</td>\n",
              "            <td>5</td>\n",
              "        </tr>\n",
              "        <tr>\n",
              "            <td>102</td>\n",
              "            <td>Jared Zuniga</td>\n",
              "            <td>46</td>\n",
              "            <td>david56@gmail.com</td>\n",
              "            <td>69391</td>\n",
              "            <td>North Stephenfort</td>\n",
              "            <td>3</td>\n",
              "        </tr>\n",
              "        <tr>\n",
              "            <td>111</td>\n",
              "            <td>Harold Singh</td>\n",
              "            <td>29</td>\n",
              "            <td>tamara80@gmail.com</td>\n",
              "            <td>75243</td>\n",
              "            <td>New Hannah</td>\n",
              "            <td>2</td>\n",
              "        </tr>\n",
              "        <tr>\n",
              "            <td>113</td>\n",
              "            <td>Michelle Gentry</td>\n",
              "            <td>33</td>\n",
              "            <td>bchapman@gmail.com</td>\n",
              "            <td>73576</td>\n",
              "            <td>Lake Marissa</td>\n",
              "            <td>6</td>\n",
              "        </tr>\n",
              "        <tr>\n",
              "            <td>118</td>\n",
              "            <td>Jessica Holmes</td>\n",
              "            <td>17</td>\n",
              "            <td>stephen17@gmail.com</td>\n",
              "            <td>55081</td>\n",
              "            <td>Cooperton</td>\n",
              "            <td>4</td>\n",
              "        </tr>\n",
              "        <tr>\n",
              "            <td>119</td>\n",
              "            <td>Lee Smith</td>\n",
              "            <td>51</td>\n",
              "            <td>darren54@gmail.com</td>\n",
              "            <td>28029</td>\n",
              "            <td>South Amandabury</td>\n",
              "            <td>9</td>\n",
              "        </tr>\n",
              "        <tr>\n",
              "            <td>129</td>\n",
              "            <td>Timothy Joseph</td>\n",
              "            <td>17</td>\n",
              "            <td>frankdecker@gmail.com</td>\n",
              "            <td>97045</td>\n",
              "            <td>South Amandabury</td>\n",
              "            <td>2</td>\n",
              "        </tr>\n",
              "        <tr>\n",
              "            <td>130</td>\n",
              "            <td>Alexander Hernandez</td>\n",
              "            <td>39</td>\n",
              "            <td>btodd@gmail.com</td>\n",
              "            <td>40984</td>\n",
              "            <td>Kevinmouth</td>\n",
              "            <td>4</td>\n",
              "        </tr>\n",
              "        <tr>\n",
              "            <td>135</td>\n",
              "            <td>Colton Simmons</td>\n",
              "            <td>21</td>\n",
              "            <td>kevin27@gmail.com</td>\n",
              "            <td>65544</td>\n",
              "            <td>North Melissabury</td>\n",
              "            <td>5</td>\n",
              "        </tr>\n",
              "        <tr>\n",
              "            <td>155</td>\n",
              "            <td>Martha Foley</td>\n",
              "            <td>12</td>\n",
              "            <td>mdavis@gmail.com</td>\n",
              "            <td>07669</td>\n",
              "            <td>Marystad</td>\n",
              "            <td>8</td>\n",
              "        </tr>\n",
              "        <tr>\n",
              "            <td>156</td>\n",
              "            <td>Connie Lawrence</td>\n",
              "            <td>40</td>\n",
              "            <td>xparker@gmail.com</td>\n",
              "            <td>93753</td>\n",
              "            <td>Brianchester</td>\n",
              "            <td>7</td>\n",
              "        </tr>\n",
              "        <tr>\n",
              "            <td>161</td>\n",
              "            <td>Linda Brown</td>\n",
              "            <td>39</td>\n",
              "            <td>davidsimpson@gmail.com</td>\n",
              "            <td>14634</td>\n",
              "            <td>Romerofort</td>\n",
              "            <td>8</td>\n",
              "        </tr>\n",
              "        <tr>\n",
              "            <td>166</td>\n",
              "            <td>Carla Roach</td>\n",
              "            <td>28</td>\n",
              "            <td>seth66@gmail.com</td>\n",
              "            <td>44781</td>\n",
              "            <td>New Terri</td>\n",
              "            <td>2</td>\n",
              "        </tr>\n",
              "        <tr>\n",
              "            <td>175</td>\n",
              "            <td>Sean Lane</td>\n",
              "            <td>40</td>\n",
              "            <td>joseph20@gmail.com</td>\n",
              "            <td>15764</td>\n",
              "            <td>Marystad</td>\n",
              "            <td>6</td>\n",
              "        </tr>\n",
              "        <tr>\n",
              "            <td>190</td>\n",
              "            <td>Diana Porter</td>\n",
              "            <td>21</td>\n",
              "            <td>bdonovan@gmail.com</td>\n",
              "            <td>83124</td>\n",
              "            <td>Marystad</td>\n",
              "            <td>6</td>\n",
              "        </tr>\n",
              "        <tr>\n",
              "            <td>196</td>\n",
              "            <td>Lisa Huber</td>\n",
              "            <td>16</td>\n",
              "            <td>beverly21@gmail.com</td>\n",
              "            <td>86245</td>\n",
              "            <td>Thomasmouth</td>\n",
              "            <td>8</td>\n",
              "        </tr>\n",
              "        <tr>\n",
              "            <td>213</td>\n",
              "            <td>Veronica Bryan</td>\n",
              "            <td>22</td>\n",
              "            <td>crystal09@gmail.com</td>\n",
              "            <td>74326</td>\n",
              "            <td>East Brookefort</td>\n",
              "            <td>6</td>\n",
              "        </tr>\n",
              "        <tr>\n",
              "            <td>215</td>\n",
              "            <td>Joseph Santiago</td>\n",
              "            <td>21</td>\n",
              "            <td>jennifer23@gmail.com</td>\n",
              "            <td>46510</td>\n",
              "            <td>South Amandabury</td>\n",
              "            <td>9</td>\n",
              "        </tr>\n",
              "        <tr>\n",
              "            <td>218</td>\n",
              "            <td>Lauren Robertson</td>\n",
              "            <td>33</td>\n",
              "            <td>rodriguezwesley@gmail.com</td>\n",
              "            <td>61142</td>\n",
              "            <td>Austinshire</td>\n",
              "            <td>3</td>\n",
              "        </tr>\n",
              "        <tr>\n",
              "            <td>225</td>\n",
              "            <td>Richard Baker</td>\n",
              "            <td>44</td>\n",
              "            <td>robert29@gmail.com</td>\n",
              "            <td>02682</td>\n",
              "            <td>Lake Jennifer</td>\n",
              "            <td>5</td>\n",
              "        </tr>\n",
              "        <tr>\n",
              "            <td>230</td>\n",
              "            <td>Richard Harris</td>\n",
              "            <td>32</td>\n",
              "            <td>shepardstephanie@gmail.com</td>\n",
              "            <td>46827</td>\n",
              "            <td>Brianchester</td>\n",
              "            <td>5</td>\n",
              "        </tr>\n",
              "        <tr>\n",
              "            <td>231</td>\n",
              "            <td>Darrell Herrera</td>\n",
              "            <td>62</td>\n",
              "            <td>danajohnson@gmail.com</td>\n",
              "            <td>64711</td>\n",
              "            <td>Rothton</td>\n",
              "            <td>6</td>\n",
              "        </tr>\n",
              "        <tr>\n",
              "            <td>234</td>\n",
              "            <td>Jason Johnson</td>\n",
              "            <td>60</td>\n",
              "            <td>iwells@gmail.com</td>\n",
              "            <td>52186</td>\n",
              "            <td>Normanville</td>\n",
              "            <td>9</td>\n",
              "        </tr>\n",
              "        <tr>\n",
              "            <td>235</td>\n",
              "            <td>Lisa Knight</td>\n",
              "            <td>42</td>\n",
              "            <td>heatherguzman@gmail.com</td>\n",
              "            <td>84405</td>\n",
              "            <td>Kevinmouth</td>\n",
              "            <td>6</td>\n",
              "        </tr>\n",
              "        <tr>\n",
              "            <td>242</td>\n",
              "            <td>Eric Williams</td>\n",
              "            <td>46</td>\n",
              "            <td>tanyarussell@gmail.com</td>\n",
              "            <td>22853</td>\n",
              "            <td>Colechester</td>\n",
              "            <td>2</td>\n",
              "        </tr>\n",
              "        <tr>\n",
              "            <td>245</td>\n",
              "            <td>Ana Cook</td>\n",
              "            <td>60</td>\n",
              "            <td>andrew35@gmail.com</td>\n",
              "            <td>37115</td>\n",
              "            <td>Kevinmouth</td>\n",
              "            <td>5</td>\n",
              "        </tr>\n",
              "        <tr>\n",
              "            <td>247</td>\n",
              "            <td>Brian Hubbard</td>\n",
              "            <td>62</td>\n",
              "            <td>daniellee@gmail.com</td>\n",
              "            <td>82307</td>\n",
              "            <td>Loganchester</td>\n",
              "            <td>5</td>\n",
              "        </tr>\n",
              "        <tr>\n",
              "            <td>257</td>\n",
              "            <td>Jennifer Roberts</td>\n",
              "            <td>43</td>\n",
              "            <td>ngomez@gmail.com</td>\n",
              "            <td>33791</td>\n",
              "            <td>East Sherylshire</td>\n",
              "            <td>3</td>\n",
              "        </tr>\n",
              "        <tr>\n",
              "            <td>259</td>\n",
              "            <td>Michael Ryan</td>\n",
              "            <td>49</td>\n",
              "            <td>roy11@gmail.com</td>\n",
              "            <td>48383</td>\n",
              "            <td>New Hannah</td>\n",
              "            <td>3</td>\n",
              "        </tr>\n",
              "        <tr>\n",
              "            <td>261</td>\n",
              "            <td>Tammie Rodriguez</td>\n",
              "            <td>0</td>\n",
              "            <td>karenhughes@gmail.com</td>\n",
              "            <td>54179</td>\n",
              "            <td>Deborahbury</td>\n",
              "            <td>7</td>\n",
              "        </tr>\n",
              "        <tr>\n",
              "            <td>264</td>\n",
              "            <td>Emily Leonard</td>\n",
              "            <td>40</td>\n",
              "            <td>jacobosborn@gmail.com</td>\n",
              "            <td>39492</td>\n",
              "            <td>Deborahbury</td>\n",
              "            <td>3</td>\n",
              "        </tr>\n",
              "        <tr>\n",
              "            <td>267</td>\n",
              "            <td>Anthony Diaz</td>\n",
              "            <td>49</td>\n",
              "            <td>jesse93@gmail.com</td>\n",
              "            <td>42516</td>\n",
              "            <td>Jamesfort</td>\n",
              "            <td>4</td>\n",
              "        </tr>\n",
              "        <tr>\n",
              "            <td>269</td>\n",
              "            <td>Vanessa Richardson</td>\n",
              "            <td>47</td>\n",
              "            <td>anthonymoreno@gmail.com</td>\n",
              "            <td>90679</td>\n",
              "            <td>East Brookefort</td>\n",
              "            <td>6</td>\n",
              "        </tr>\n",
              "        <tr>\n",
              "            <td>303</td>\n",
              "            <td>Dylan Woodard</td>\n",
              "            <td>15</td>\n",
              "            <td>richardsallison@gmail.com</td>\n",
              "            <td>54834</td>\n",
              "            <td>North Melinda</td>\n",
              "            <td>8</td>\n",
              "        </tr>\n",
              "        <tr>\n",
              "            <td>306</td>\n",
              "            <td>Jennifer Watson</td>\n",
              "            <td>36</td>\n",
              "            <td>jonathan60@gmail.com</td>\n",
              "            <td>79619</td>\n",
              "            <td>New Hannah</td>\n",
              "            <td>3</td>\n",
              "        </tr>\n",
              "        <tr>\n",
              "            <td>307</td>\n",
              "            <td>Debra Benson</td>\n",
              "            <td>24</td>\n",
              "            <td>kenneth00@gmail.com</td>\n",
              "            <td>52926</td>\n",
              "            <td>Thomasmouth</td>\n",
              "            <td>2</td>\n",
              "        </tr>\n",
              "        <tr>\n",
              "            <td>315</td>\n",
              "            <td>Andrew Suarez</td>\n",
              "            <td>27</td>\n",
              "            <td>welchwilliam@gmail.com</td>\n",
              "            <td>78625</td>\n",
              "            <td>Loganchester</td>\n",
              "            <td>6</td>\n",
              "        </tr>\n",
              "        <tr>\n",
              "            <td>321</td>\n",
              "            <td>Logan Matthews</td>\n",
              "            <td>55</td>\n",
              "            <td>igibson@gmail.com</td>\n",
              "            <td>43253</td>\n",
              "            <td>Romerofort</td>\n",
              "            <td>4</td>\n",
              "        </tr>\n",
              "        <tr>\n",
              "            <td>323</td>\n",
              "            <td>Chloe Lyons DVM</td>\n",
              "            <td>35</td>\n",
              "            <td>mary86@gmail.com</td>\n",
              "            <td>49853</td>\n",
              "            <td>Cooperton</td>\n",
              "            <td>3</td>\n",
              "        </tr>\n",
              "        <tr>\n",
              "            <td>338</td>\n",
              "            <td>Kyle Torres</td>\n",
              "            <td>23</td>\n",
              "            <td>gutierrezsharon@gmail.com</td>\n",
              "            <td>55577</td>\n",
              "            <td>Irwinside</td>\n",
              "            <td>3</td>\n",
              "        </tr>\n",
              "        <tr>\n",
              "            <td>352</td>\n",
              "            <td>Brandon Thompson</td>\n",
              "            <td>43</td>\n",
              "            <td>danielleturner@gmail.com</td>\n",
              "            <td>07214</td>\n",
              "            <td>Port Stephanie</td>\n",
              "            <td>2</td>\n",
              "        </tr>\n",
              "        <tr>\n",
              "            <td>368</td>\n",
              "            <td>Benjamin Davis</td>\n",
              "            <td>33</td>\n",
              "            <td>johnsonmelissa@gmail.com</td>\n",
              "            <td>81183</td>\n",
              "            <td>Deborahbury</td>\n",
              "            <td>2</td>\n",
              "        </tr>\n",
              "        <tr>\n",
              "            <td>376</td>\n",
              "            <td>Marvin Acosta</td>\n",
              "            <td>40</td>\n",
              "            <td>moorebrian@gmail.com</td>\n",
              "            <td>43603</td>\n",
              "            <td>North Melissabury</td>\n",
              "            <td>6</td>\n",
              "        </tr>\n",
              "        <tr>\n",
              "            <td>390</td>\n",
              "            <td>Elizabeth Serrano</td>\n",
              "            <td>17</td>\n",
              "            <td>thompsoncarlos@gmail.com</td>\n",
              "            <td>50059</td>\n",
              "            <td>Rothton</td>\n",
              "            <td>1</td>\n",
              "        </tr>\n",
              "        <tr>\n",
              "            <td>398</td>\n",
              "            <td>Gordon Gonzalez</td>\n",
              "            <td>18</td>\n",
              "            <td>ramoskevin@gmail.com</td>\n",
              "            <td>48775</td>\n",
              "            <td>North Cristinaview</td>\n",
              "            <td>2</td>\n",
              "        </tr>\n",
              "        <tr>\n",
              "            <td>401</td>\n",
              "            <td>Tanner Chan</td>\n",
              "            <td>20</td>\n",
              "            <td>fjones@gmail.com</td>\n",
              "            <td>78181</td>\n",
              "            <td>Thomasmouth</td>\n",
              "            <td>1</td>\n",
              "        </tr>\n",
              "        <tr>\n",
              "            <td>402</td>\n",
              "            <td>Jasmine Mendez</td>\n",
              "            <td>47</td>\n",
              "            <td>stacy64@gmail.com</td>\n",
              "            <td>42869</td>\n",
              "            <td>Kevinmouth</td>\n",
              "            <td>8</td>\n",
              "        </tr>\n",
              "        <tr>\n",
              "            <td>413</td>\n",
              "            <td>Timothy Cooper</td>\n",
              "            <td>32</td>\n",
              "            <td>xmurillo@gmail.com</td>\n",
              "            <td>66165</td>\n",
              "            <td>Port Stephanie</td>\n",
              "            <td>0</td>\n",
              "        </tr>\n",
              "        <tr>\n",
              "            <td>419</td>\n",
              "            <td>John Gomez</td>\n",
              "            <td>23</td>\n",
              "            <td>evansanthony@gmail.com</td>\n",
              "            <td>27498</td>\n",
              "            <td>East Pamelaburgh</td>\n",
              "            <td>8</td>\n",
              "        </tr>\n",
              "        <tr>\n",
              "            <td>423</td>\n",
              "            <td>Katherine Newton</td>\n",
              "            <td>32</td>\n",
              "            <td>gonzaleztimothy@gmail.com</td>\n",
              "            <td>36744</td>\n",
              "            <td>Lake Jennifer</td>\n",
              "            <td>0</td>\n",
              "        </tr>\n",
              "        <tr>\n",
              "            <td>431</td>\n",
              "            <td>Jennifer Henderson</td>\n",
              "            <td>30</td>\n",
              "            <td>nicholasstewart@gmail.com</td>\n",
              "            <td>01262</td>\n",
              "            <td>Walkerview</td>\n",
              "            <td>5</td>\n",
              "        </tr>\n",
              "        <tr>\n",
              "            <td>434</td>\n",
              "            <td>Edward Cox</td>\n",
              "            <td>21</td>\n",
              "            <td>lewismatthew@gmail.com</td>\n",
              "            <td>06201</td>\n",
              "            <td>Lake Jennifer</td>\n",
              "            <td>7</td>\n",
              "        </tr>\n",
              "        <tr>\n",
              "            <td>438</td>\n",
              "            <td>Austin Hatfield</td>\n",
              "            <td>26</td>\n",
              "            <td>qdunn@gmail.com</td>\n",
              "            <td>49843</td>\n",
              "            <td>Marystad</td>\n",
              "            <td>0</td>\n",
              "        </tr>\n",
              "        <tr>\n",
              "            <td>439</td>\n",
              "            <td>Ronald Johnson</td>\n",
              "            <td>28</td>\n",
              "            <td>brangel@gmail.com</td>\n",
              "            <td>81459</td>\n",
              "            <td>East Williamport</td>\n",
              "            <td>8</td>\n",
              "        </tr>\n",
              "        <tr>\n",
              "            <td>441</td>\n",
              "            <td>Andres Medina</td>\n",
              "            <td>11</td>\n",
              "            <td>martinezjames@gmail.com</td>\n",
              "            <td>46724</td>\n",
              "            <td>Loganchester</td>\n",
              "            <td>4</td>\n",
              "        </tr>\n",
              "        <tr>\n",
              "            <td>451</td>\n",
              "            <td>Jonathan Estes</td>\n",
              "            <td>42</td>\n",
              "            <td>joanna83@gmail.com</td>\n",
              "            <td>20362</td>\n",
              "            <td>Lake Michaelfort</td>\n",
              "            <td>5</td>\n",
              "        </tr>\n",
              "        <tr>\n",
              "            <td>454</td>\n",
              "            <td>Justin Vincent</td>\n",
              "            <td>47</td>\n",
              "            <td>parnold@gmail.com</td>\n",
              "            <td>60194</td>\n",
              "            <td>Colechester</td>\n",
              "            <td>2</td>\n",
              "        </tr>\n",
              "        <tr>\n",
              "            <td>460</td>\n",
              "            <td>David James</td>\n",
              "            <td>38</td>\n",
              "            <td>crichardson@gmail.com</td>\n",
              "            <td>50771</td>\n",
              "            <td>North Melissabury</td>\n",
              "            <td>4</td>\n",
              "        </tr>\n",
              "        <tr>\n",
              "            <td>461</td>\n",
              "            <td>Ashley Holmes</td>\n",
              "            <td>28</td>\n",
              "            <td>hwoods@gmail.com</td>\n",
              "            <td>38507</td>\n",
              "            <td>East Adam</td>\n",
              "            <td>4</td>\n",
              "        </tr>\n",
              "        <tr>\n",
              "            <td>473</td>\n",
              "            <td>Michelle Bennett</td>\n",
              "            <td>30</td>\n",
              "            <td>donald17@gmail.com</td>\n",
              "            <td>20547</td>\n",
              "            <td>Port Stephanie</td>\n",
              "            <td>5</td>\n",
              "        </tr>\n",
              "        <tr>\n",
              "            <td>475</td>\n",
              "            <td>Kimberly Schwartz</td>\n",
              "            <td>38</td>\n",
              "            <td>christophercarlson@gmail.com</td>\n",
              "            <td>01336</td>\n",
              "            <td>Thomasmouth</td>\n",
              "            <td>9</td>\n",
              "        </tr>\n",
              "        <tr>\n",
              "            <td>481</td>\n",
              "            <td>Jamie Wilkins</td>\n",
              "            <td>49</td>\n",
              "            <td>torresjohn@gmail.com</td>\n",
              "            <td>28358</td>\n",
              "            <td>Coxmouth</td>\n",
              "            <td>4</td>\n",
              "        </tr>\n",
              "        <tr>\n",
              "            <td>482</td>\n",
              "            <td>Beth Miller</td>\n",
              "            <td>4</td>\n",
              "            <td>zharris@gmail.com</td>\n",
              "            <td>92255</td>\n",
              "            <td>Loganchester</td>\n",
              "            <td>1</td>\n",
              "        </tr>\n",
              "        <tr>\n",
              "            <td>484</td>\n",
              "            <td>Wesley Price</td>\n",
              "            <td>61</td>\n",
              "            <td>munozkevin@gmail.com</td>\n",
              "            <td>48788</td>\n",
              "            <td>Loganchester</td>\n",
              "            <td>7</td>\n",
              "        </tr>\n",
              "        <tr>\n",
              "            <td>495</td>\n",
              "            <td>Carol Jones</td>\n",
              "            <td>36</td>\n",
              "            <td>rodriguezjennifer@gmail.com</td>\n",
              "            <td>14333</td>\n",
              "            <td>Port Stephanie</td>\n",
              "            <td>0</td>\n",
              "        </tr>\n",
              "        <tr>\n",
              "            <td>496</td>\n",
              "            <td>Ann Sharp</td>\n",
              "            <td>35</td>\n",
              "            <td>valdezjames@gmail.com</td>\n",
              "            <td>93801</td>\n",
              "            <td>Kevinmouth</td>\n",
              "            <td>2</td>\n",
              "        </tr>\n",
              "        <tr>\n",
              "            <td>502</td>\n",
              "            <td>Carly Robinson</td>\n",
              "            <td>10</td>\n",
              "            <td>john60@gmail.com</td>\n",
              "            <td>53964</td>\n",
              "            <td>Mckayborough</td>\n",
              "            <td>5</td>\n",
              "        </tr>\n",
              "        <tr>\n",
              "            <td>510</td>\n",
              "            <td>Tracey Perez</td>\n",
              "            <td>49</td>\n",
              "            <td>hjordan@gmail.com</td>\n",
              "            <td>63752</td>\n",
              "            <td>Kevinmouth</td>\n",
              "            <td>8</td>\n",
              "        </tr>\n",
              "        <tr>\n",
              "            <td>511</td>\n",
              "            <td>Donna Ellison</td>\n",
              "            <td>6</td>\n",
              "            <td>brett55@gmail.com</td>\n",
              "            <td>95277</td>\n",
              "            <td>Coxmouth</td>\n",
              "            <td>9</td>\n",
              "        </tr>\n",
              "        <tr>\n",
              "            <td>514</td>\n",
              "            <td>Lisa James</td>\n",
              "            <td>11</td>\n",
              "            <td>taylorcollins@gmail.com</td>\n",
              "            <td>77974</td>\n",
              "            <td>Kleinville</td>\n",
              "            <td>0</td>\n",
              "        </tr>\n",
              "        <tr>\n",
              "            <td>524</td>\n",
              "            <td>Jamie Pacheco</td>\n",
              "            <td>35</td>\n",
              "            <td>vangalicia@gmail.com</td>\n",
              "            <td>14136</td>\n",
              "            <td>Loganchester</td>\n",
              "            <td>9</td>\n",
              "        </tr>\n",
              "        <tr>\n",
              "            <td>537</td>\n",
              "            <td>Stephanie Harmon</td>\n",
              "            <td>10</td>\n",
              "            <td>elizabethhayes@gmail.com</td>\n",
              "            <td>69357</td>\n",
              "            <td>East Sherylshire</td>\n",
              "            <td>9</td>\n",
              "        </tr>\n",
              "        <tr>\n",
              "            <td>539</td>\n",
              "            <td>Kaitlyn Chambers</td>\n",
              "            <td>41</td>\n",
              "            <td>josephmichelle@gmail.com</td>\n",
              "            <td>06763</td>\n",
              "            <td>New Hannah</td>\n",
              "            <td>6</td>\n",
              "        </tr>\n",
              "        <tr>\n",
              "            <td>541</td>\n",
              "            <td>Ray Brown</td>\n",
              "            <td>14</td>\n",
              "            <td>danielle47@gmail.com</td>\n",
              "            <td>32898</td>\n",
              "            <td>North Cristinaview</td>\n",
              "            <td>0</td>\n",
              "        </tr>\n",
              "        <tr>\n",
              "            <td>542</td>\n",
              "            <td>Rebecca King</td>\n",
              "            <td>33</td>\n",
              "            <td>stephanie86@gmail.com</td>\n",
              "            <td>13910</td>\n",
              "            <td>North Cristinaview</td>\n",
              "            <td>4</td>\n",
              "        </tr>\n",
              "        <tr>\n",
              "            <td>551</td>\n",
              "            <td>Faith Patterson</td>\n",
              "            <td>39</td>\n",
              "            <td>ikim@gmail.com</td>\n",
              "            <td>89958</td>\n",
              "            <td>Loganchester</td>\n",
              "            <td>2</td>\n",
              "        </tr>\n",
              "        <tr>\n",
              "            <td>559</td>\n",
              "            <td>Martha Richards</td>\n",
              "            <td>28</td>\n",
              "            <td>lauracollins@gmail.com</td>\n",
              "            <td>15479</td>\n",
              "            <td>New Hannah</td>\n",
              "            <td>6</td>\n",
              "        </tr>\n",
              "        <tr>\n",
              "            <td>562</td>\n",
              "            <td>Hannah Moore MD</td>\n",
              "            <td>31</td>\n",
              "            <td>powelldiana@gmail.com</td>\n",
              "            <td>64392</td>\n",
              "            <td>Port Stephanie</td>\n",
              "            <td>1</td>\n",
              "        </tr>\n",
              "        <tr>\n",
              "            <td>584</td>\n",
              "            <td>Jasmine Vance</td>\n",
              "            <td>52</td>\n",
              "            <td>schmidtdavid@gmail.com</td>\n",
              "            <td>64609</td>\n",
              "            <td>Thomasmouth</td>\n",
              "            <td>4</td>\n",
              "        </tr>\n",
              "        <tr>\n",
              "            <td>594</td>\n",
              "            <td>Ashley Harris</td>\n",
              "            <td>21</td>\n",
              "            <td>stephenrivera@gmail.com</td>\n",
              "            <td>16219</td>\n",
              "            <td>Colechester</td>\n",
              "            <td>3</td>\n",
              "        </tr>\n",
              "        <tr>\n",
              "            <td>599</td>\n",
              "            <td>Travis Long</td>\n",
              "            <td>29</td>\n",
              "            <td>mannmorgan@gmail.com</td>\n",
              "            <td>58858</td>\n",
              "            <td>Romerofort</td>\n",
              "            <td>8</td>\n",
              "        </tr>\n",
              "        <tr>\n",
              "            <td>602</td>\n",
              "            <td>Brandon Brown</td>\n",
              "            <td>38</td>\n",
              "            <td>dawn62@gmail.com</td>\n",
              "            <td>32101</td>\n",
              "            <td>East Brookefort</td>\n",
              "            <td>5</td>\n",
              "        </tr>\n",
              "        <tr>\n",
              "            <td>606</td>\n",
              "            <td>Shirley Duncan</td>\n",
              "            <td>21</td>\n",
              "            <td>brandonwilliams@gmail.com</td>\n",
              "            <td>11455</td>\n",
              "            <td>East Brookefort</td>\n",
              "            <td>2</td>\n",
              "        </tr>\n",
              "        <tr>\n",
              "            <td>607</td>\n",
              "            <td>Wyatt Day</td>\n",
              "            <td>33</td>\n",
              "            <td>wellsnicholas@gmail.com</td>\n",
              "            <td>89653</td>\n",
              "            <td>South Amandabury</td>\n",
              "            <td>3</td>\n",
              "        </tr>\n",
              "        <tr>\n",
              "            <td>613</td>\n",
              "            <td>Kenneth Roman</td>\n",
              "            <td>46</td>\n",
              "            <td>ncalhoun@gmail.com</td>\n",
              "            <td>57697</td>\n",
              "            <td>Romerofort</td>\n",
              "            <td>6</td>\n",
              "        </tr>\n",
              "        <tr>\n",
              "            <td>628</td>\n",
              "            <td>Jay Cohen</td>\n",
              "            <td>59</td>\n",
              "            <td>brian06@gmail.com</td>\n",
              "            <td>67395</td>\n",
              "            <td>Deborahbury</td>\n",
              "            <td>7</td>\n",
              "        </tr>\n",
              "        <tr>\n",
              "            <td>629</td>\n",
              "            <td>Joseph Wall</td>\n",
              "            <td>23</td>\n",
              "            <td>jimmynichols@gmail.com</td>\n",
              "            <td>27272</td>\n",
              "            <td>East Brookefort</td>\n",
              "            <td>1</td>\n",
              "        </tr>\n",
              "        <tr>\n",
              "            <td>633</td>\n",
              "            <td>Kimberly Smith</td>\n",
              "            <td>21</td>\n",
              "            <td>nelsonjasmine@gmail.com</td>\n",
              "            <td>30088</td>\n",
              "            <td>Rothton</td>\n",
              "            <td>0</td>\n",
              "        </tr>\n",
              "        <tr>\n",
              "            <td>637</td>\n",
              "            <td>Kenneth Flores</td>\n",
              "            <td>37</td>\n",
              "            <td>fsoto@gmail.com</td>\n",
              "            <td>15970</td>\n",
              "            <td>North Cristinaview</td>\n",
              "            <td>1</td>\n",
              "        </tr>\n",
              "        <tr>\n",
              "            <td>642</td>\n",
              "            <td>Jake Baird</td>\n",
              "            <td>43</td>\n",
              "            <td>gmontes@gmail.com</td>\n",
              "            <td>26235</td>\n",
              "            <td>Colechester</td>\n",
              "            <td>4</td>\n",
              "        </tr>\n",
              "        <tr>\n",
              "            <td>646</td>\n",
              "            <td>Kenneth Hall</td>\n",
              "            <td>29</td>\n",
              "            <td>jonathan73@gmail.com</td>\n",
              "            <td>74443</td>\n",
              "            <td>Cooperton</td>\n",
              "            <td>6</td>\n",
              "        </tr>\n",
              "        <tr>\n",
              "            <td>664</td>\n",
              "            <td>Rhonda Ochoa</td>\n",
              "            <td>30</td>\n",
              "            <td>robertsbrenda@gmail.com</td>\n",
              "            <td>38488</td>\n",
              "            <td>South Danielport</td>\n",
              "            <td>0</td>\n",
              "        </tr>\n",
              "        <tr>\n",
              "            <td>677</td>\n",
              "            <td>Jonathan Price</td>\n",
              "            <td>37</td>\n",
              "            <td>riverajames@gmail.com</td>\n",
              "            <td>55636</td>\n",
              "            <td>New Hannah</td>\n",
              "            <td>0</td>\n",
              "        </tr>\n",
              "        <tr>\n",
              "            <td>683</td>\n",
              "            <td>Kathleen Jennings</td>\n",
              "            <td>44</td>\n",
              "            <td>tjones@gmail.com</td>\n",
              "            <td>11545</td>\n",
              "            <td>Lake Michaelfort</td>\n",
              "            <td>5</td>\n",
              "        </tr>\n",
              "        <tr>\n",
              "            <td>684</td>\n",
              "            <td>Dustin Santos</td>\n",
              "            <td>6</td>\n",
              "            <td>jmedina@gmail.com</td>\n",
              "            <td>69427</td>\n",
              "            <td>North Stephenfort</td>\n",
              "            <td>6</td>\n",
              "        </tr>\n",
              "        <tr>\n",
              "            <td>688</td>\n",
              "            <td>Brian Jensen</td>\n",
              "            <td>15</td>\n",
              "            <td>heatherrodriguez@gmail.com</td>\n",
              "            <td>76078</td>\n",
              "            <td>Port Stephanie</td>\n",
              "            <td>2</td>\n",
              "        </tr>\n",
              "        <tr>\n",
              "            <td>689</td>\n",
              "            <td>Darrell Pugh</td>\n",
              "            <td>13</td>\n",
              "            <td>pho@gmail.com</td>\n",
              "            <td>74983</td>\n",
              "            <td>Michelefurt</td>\n",
              "            <td>8</td>\n",
              "        </tr>\n",
              "        <tr>\n",
              "            <td>704</td>\n",
              "            <td>Melissa Owens</td>\n",
              "            <td>37</td>\n",
              "            <td>pbrown@gmail.com</td>\n",
              "            <td>14350</td>\n",
              "            <td>Cooperton</td>\n",
              "            <td>6</td>\n",
              "        </tr>\n",
              "        <tr>\n",
              "            <td>705</td>\n",
              "            <td>Ray Carr</td>\n",
              "            <td>29</td>\n",
              "            <td>ronald58@gmail.com</td>\n",
              "            <td>63249</td>\n",
              "            <td>Brianchester</td>\n",
              "            <td>0</td>\n",
              "        </tr>\n",
              "        <tr>\n",
              "            <td>706</td>\n",
              "            <td>Brent Ward</td>\n",
              "            <td>51</td>\n",
              "            <td>baileyrobin@gmail.com</td>\n",
              "            <td>60070</td>\n",
              "            <td>Lake Jennifer</td>\n",
              "            <td>0</td>\n",
              "        </tr>\n",
              "        <tr>\n",
              "            <td>712</td>\n",
              "            <td>Morgan Patton</td>\n",
              "            <td>50</td>\n",
              "            <td>jeffreybaker@gmail.com</td>\n",
              "            <td>12732</td>\n",
              "            <td>New Hannah</td>\n",
              "            <td>9</td>\n",
              "        </tr>\n",
              "        <tr>\n",
              "            <td>721</td>\n",
              "            <td>Juan Shepherd</td>\n",
              "            <td>32</td>\n",
              "            <td>brookstamara@gmail.com</td>\n",
              "            <td>84267</td>\n",
              "            <td>Michelefurt</td>\n",
              "            <td>1</td>\n",
              "        </tr>\n",
              "        <tr>\n",
              "            <td>724</td>\n",
              "            <td>Nathan Dalton</td>\n",
              "            <td>22</td>\n",
              "            <td>johnsonmaureen@gmail.com</td>\n",
              "            <td>09235</td>\n",
              "            <td>East Williamport</td>\n",
              "            <td>2</td>\n",
              "        </tr>\n",
              "        <tr>\n",
              "            <td>733</td>\n",
              "            <td>Carrie Williams</td>\n",
              "            <td>22</td>\n",
              "            <td>gatesmichael@gmail.com</td>\n",
              "            <td>04745</td>\n",
              "            <td>Deborahbury</td>\n",
              "            <td>0</td>\n",
              "        </tr>\n",
              "        <tr>\n",
              "            <td>735</td>\n",
              "            <td>Mariah Patrick</td>\n",
              "            <td>26</td>\n",
              "            <td>ashleynewman@gmail.com</td>\n",
              "            <td>55596</td>\n",
              "            <td>South Amandabury</td>\n",
              "            <td>7</td>\n",
              "        </tr>\n",
              "        <tr>\n",
              "            <td>772</td>\n",
              "            <td>Samuel Montgomery</td>\n",
              "            <td>26</td>\n",
              "            <td>erikwilson@gmail.com</td>\n",
              "            <td>39601</td>\n",
              "            <td>New Hannah</td>\n",
              "            <td>0</td>\n",
              "        </tr>\n",
              "        <tr>\n",
              "            <td>774</td>\n",
              "            <td>Erin Johnson</td>\n",
              "            <td>46</td>\n",
              "            <td>christopher48@gmail.com</td>\n",
              "            <td>71247</td>\n",
              "            <td>East Brookefort</td>\n",
              "            <td>3</td>\n",
              "        </tr>\n",
              "        <tr>\n",
              "            <td>776</td>\n",
              "            <td>Alyssa Clayton</td>\n",
              "            <td>22</td>\n",
              "            <td>hilleric@gmail.com</td>\n",
              "            <td>85157</td>\n",
              "            <td>Rothton</td>\n",
              "            <td>8</td>\n",
              "        </tr>\n",
              "        <tr>\n",
              "            <td>782</td>\n",
              "            <td>Calvin Dean</td>\n",
              "            <td>43</td>\n",
              "            <td>sandyingram@gmail.com</td>\n",
              "            <td>70082</td>\n",
              "            <td>East Sherylshire</td>\n",
              "            <td>6</td>\n",
              "        </tr>\n",
              "        <tr>\n",
              "            <td>799</td>\n",
              "            <td>Jennifer Walker</td>\n",
              "            <td>67</td>\n",
              "            <td>sstephens@gmail.com</td>\n",
              "            <td>73042</td>\n",
              "            <td>Loganchester</td>\n",
              "            <td>4</td>\n",
              "        </tr>\n",
              "        <tr>\n",
              "            <td>802</td>\n",
              "            <td>Tracie Roy</td>\n",
              "            <td>28</td>\n",
              "            <td>baldwinlee@gmail.com</td>\n",
              "            <td>41498</td>\n",
              "            <td>Michelefurt</td>\n",
              "            <td>4</td>\n",
              "        </tr>\n",
              "        <tr>\n",
              "            <td>803</td>\n",
              "            <td>Jaime Lee</td>\n",
              "            <td>8</td>\n",
              "            <td>robertsimmons@gmail.com</td>\n",
              "            <td>66412</td>\n",
              "            <td>New Hannah</td>\n",
              "            <td>6</td>\n",
              "        </tr>\n",
              "        <tr>\n",
              "            <td>806</td>\n",
              "            <td>Joseph Phillips</td>\n",
              "            <td>29</td>\n",
              "            <td>marissanguyen@gmail.com</td>\n",
              "            <td>83812</td>\n",
              "            <td>South Danielport</td>\n",
              "            <td>6</td>\n",
              "        </tr>\n",
              "        <tr>\n",
              "            <td>809</td>\n",
              "            <td>Alexis Boyd</td>\n",
              "            <td>23</td>\n",
              "            <td>amanda14@gmail.com</td>\n",
              "            <td>67210</td>\n",
              "            <td>Kevinmouth</td>\n",
              "            <td>5</td>\n",
              "        </tr>\n",
              "        <tr>\n",
              "            <td>810</td>\n",
              "            <td>Claudia King</td>\n",
              "            <td>29</td>\n",
              "            <td>ppatel@gmail.com</td>\n",
              "            <td>16840</td>\n",
              "            <td>East Leslieton</td>\n",
              "            <td>1</td>\n",
              "        </tr>\n",
              "        <tr>\n",
              "            <td>812</td>\n",
              "            <td>David Parks</td>\n",
              "            <td>19</td>\n",
              "            <td>jacksonryan@gmail.com</td>\n",
              "            <td>93160</td>\n",
              "            <td>North Stephenfort</td>\n",
              "            <td>3</td>\n",
              "        </tr>\n",
              "        <tr>\n",
              "            <td>822</td>\n",
              "            <td>Erika Garcia</td>\n",
              "            <td>41</td>\n",
              "            <td>melissaknox@gmail.com</td>\n",
              "            <td>60640</td>\n",
              "            <td>Marystad</td>\n",
              "            <td>1</td>\n",
              "        </tr>\n",
              "        <tr>\n",
              "            <td>849</td>\n",
              "            <td>William Monroe</td>\n",
              "            <td>52</td>\n",
              "            <td>cody61@gmail.com</td>\n",
              "            <td>81685</td>\n",
              "            <td>Deborahbury</td>\n",
              "            <td>3</td>\n",
              "        </tr>\n",
              "        <tr>\n",
              "            <td>857</td>\n",
              "            <td>Kristy Johnson</td>\n",
              "            <td>57</td>\n",
              "            <td>kathy87@gmail.com</td>\n",
              "            <td>58399</td>\n",
              "            <td>Port Stephanie</td>\n",
              "            <td>6</td>\n",
              "        </tr>\n",
              "        <tr>\n",
              "            <td>860</td>\n",
              "            <td>Anna Trevino</td>\n",
              "            <td>44</td>\n",
              "            <td>gregory47@gmail.com</td>\n",
              "            <td>10359</td>\n",
              "            <td>South Danielport</td>\n",
              "            <td>4</td>\n",
              "        </tr>\n",
              "        <tr>\n",
              "            <td>870</td>\n",
              "            <td>Jeffery Allen</td>\n",
              "            <td>60</td>\n",
              "            <td>cristina80@gmail.com</td>\n",
              "            <td>97916</td>\n",
              "            <td>New Hannah</td>\n",
              "            <td>5</td>\n",
              "        </tr>\n",
              "        <tr>\n",
              "            <td>871</td>\n",
              "            <td>John Lee</td>\n",
              "            <td>47</td>\n",
              "            <td>natalie86@gmail.com</td>\n",
              "            <td>42317</td>\n",
              "            <td>Michelefurt</td>\n",
              "            <td>8</td>\n",
              "        </tr>\n",
              "        <tr>\n",
              "            <td>877</td>\n",
              "            <td>Brianna Anderson</td>\n",
              "            <td>17</td>\n",
              "            <td>icoleman@gmail.com</td>\n",
              "            <td>64782</td>\n",
              "            <td>Kleinville</td>\n",
              "            <td>2</td>\n",
              "        </tr>\n",
              "        <tr>\n",
              "            <td>880</td>\n",
              "            <td>Laura Combs</td>\n",
              "            <td>19</td>\n",
              "            <td>joshuacrane@gmail.com</td>\n",
              "            <td>59511</td>\n",
              "            <td>Cooperton</td>\n",
              "            <td>4</td>\n",
              "        </tr>\n",
              "        <tr>\n",
              "            <td>882</td>\n",
              "            <td>Nicholas Harmon</td>\n",
              "            <td>39</td>\n",
              "            <td>savannah36@gmail.com</td>\n",
              "            <td>59812</td>\n",
              "            <td>Lake Michaelfort</td>\n",
              "            <td>9</td>\n",
              "        </tr>\n",
              "        <tr>\n",
              "            <td>883</td>\n",
              "            <td>Kenneth Savage</td>\n",
              "            <td>34</td>\n",
              "            <td>millerchristian@gmail.com</td>\n",
              "            <td>45896</td>\n",
              "            <td>East Pamelaburgh</td>\n",
              "            <td>8</td>\n",
              "        </tr>\n",
              "        <tr>\n",
              "            <td>891</td>\n",
              "            <td>Kevin Bartlett</td>\n",
              "            <td>29</td>\n",
              "            <td>gevans@gmail.com</td>\n",
              "            <td>42105</td>\n",
              "            <td>Port Stephanie</td>\n",
              "            <td>7</td>\n",
              "        </tr>\n",
              "        <tr>\n",
              "            <td>892</td>\n",
              "            <td>Sean Macias</td>\n",
              "            <td>77</td>\n",
              "            <td>jonathan35@gmail.com</td>\n",
              "            <td>94666</td>\n",
              "            <td>North Stephenfort</td>\n",
              "            <td>6</td>\n",
              "        </tr>\n",
              "        <tr>\n",
              "            <td>895</td>\n",
              "            <td>Rachel Carr</td>\n",
              "            <td>53</td>\n",
              "            <td>christopherfranco@gmail.com</td>\n",
              "            <td>70277</td>\n",
              "            <td>Colechester</td>\n",
              "            <td>2</td>\n",
              "        </tr>\n",
              "        <tr>\n",
              "            <td>903</td>\n",
              "            <td>Roy Davis</td>\n",
              "            <td>30</td>\n",
              "            <td>williamgiles@gmail.com</td>\n",
              "            <td>78202</td>\n",
              "            <td>East Leslieton</td>\n",
              "            <td>5</td>\n",
              "        </tr>\n",
              "        <tr>\n",
              "            <td>908</td>\n",
              "            <td>Ashley Medina</td>\n",
              "            <td>24</td>\n",
              "            <td>dawn86@gmail.com</td>\n",
              "            <td>95418</td>\n",
              "            <td>South Amandabury</td>\n",
              "            <td>1</td>\n",
              "        </tr>\n",
              "        <tr>\n",
              "            <td>910</td>\n",
              "            <td>Christopher West</td>\n",
              "            <td>28</td>\n",
              "            <td>yvettehuber@gmail.com</td>\n",
              "            <td>38809</td>\n",
              "            <td>New Hannah</td>\n",
              "            <td>6</td>\n",
              "        </tr>\n",
              "        <tr>\n",
              "            <td>919</td>\n",
              "            <td>Leslie Perez</td>\n",
              "            <td>41</td>\n",
              "            <td>brandtkatherine@gmail.com</td>\n",
              "            <td>67621</td>\n",
              "            <td>Cooperton</td>\n",
              "            <td>8</td>\n",
              "        </tr>\n",
              "        <tr>\n",
              "            <td>921</td>\n",
              "            <td>Grant Forbes</td>\n",
              "            <td>27</td>\n",
              "            <td>thomas57@gmail.com</td>\n",
              "            <td>22352</td>\n",
              "            <td>Kevinmouth</td>\n",
              "            <td>6</td>\n",
              "        </tr>\n",
              "        <tr>\n",
              "            <td>927</td>\n",
              "            <td>Jessica Robinson</td>\n",
              "            <td>29</td>\n",
              "            <td>ashleygarcia@gmail.com</td>\n",
              "            <td>20314</td>\n",
              "            <td>Port Stephanie</td>\n",
              "            <td>2</td>\n",
              "        </tr>\n",
              "        <tr>\n",
              "            <td>936</td>\n",
              "            <td>Micheal Jones</td>\n",
              "            <td>34</td>\n",
              "            <td>elizabethrobertson@gmail.com</td>\n",
              "            <td>15889</td>\n",
              "            <td>Kevinmouth</td>\n",
              "            <td>1</td>\n",
              "        </tr>\n",
              "        <tr>\n",
              "            <td>939</td>\n",
              "            <td>Angela Walters</td>\n",
              "            <td>39</td>\n",
              "            <td>yatesbryan@gmail.com</td>\n",
              "            <td>45005</td>\n",
              "            <td>Jamesfort</td>\n",
              "            <td>4</td>\n",
              "        </tr>\n",
              "        <tr>\n",
              "            <td>941</td>\n",
              "            <td>Tamara Mcintosh</td>\n",
              "            <td>31</td>\n",
              "            <td>ipowell@gmail.com</td>\n",
              "            <td>74004</td>\n",
              "            <td>Marystad</td>\n",
              "            <td>7</td>\n",
              "        </tr>\n",
              "        <tr>\n",
              "            <td>943</td>\n",
              "            <td>Jacob Garcia</td>\n",
              "            <td>50</td>\n",
              "            <td>vsalinas@gmail.com</td>\n",
              "            <td>62186</td>\n",
              "            <td>Romerofort</td>\n",
              "            <td>5</td>\n",
              "        </tr>\n",
              "        <tr>\n",
              "            <td>946</td>\n",
              "            <td>Daniel Johnson</td>\n",
              "            <td>32</td>\n",
              "            <td>norrisjoseph@gmail.com</td>\n",
              "            <td>80135</td>\n",
              "            <td>Lake Marissa</td>\n",
              "            <td>9</td>\n",
              "        </tr>\n",
              "        <tr>\n",
              "            <td>948</td>\n",
              "            <td>Elizabeth Smith</td>\n",
              "            <td>26</td>\n",
              "            <td>zwilliams@gmail.com</td>\n",
              "            <td>99403</td>\n",
              "            <td>Cooperton</td>\n",
              "            <td>8</td>\n",
              "        </tr>\n",
              "        <tr>\n",
              "            <td>953</td>\n",
              "            <td>Miss Jennifer Meyer</td>\n",
              "            <td>37</td>\n",
              "            <td>hamiltongary@gmail.com</td>\n",
              "            <td>22308</td>\n",
              "            <td>Cooperton</td>\n",
              "            <td>3</td>\n",
              "        </tr>\n",
              "        <tr>\n",
              "            <td>960</td>\n",
              "            <td>Shari Ruiz</td>\n",
              "            <td>34</td>\n",
              "            <td>campbellpaul@gmail.com</td>\n",
              "            <td>62387</td>\n",
              "            <td>South Amandabury</td>\n",
              "            <td>0</td>\n",
              "        </tr>\n",
              "        <tr>\n",
              "            <td>966</td>\n",
              "            <td>Mary Newman</td>\n",
              "            <td>51</td>\n",
              "            <td>dylanrodriguez@gmail.com</td>\n",
              "            <td>23685</td>\n",
              "            <td>Kevinmouth</td>\n",
              "            <td>4</td>\n",
              "        </tr>\n",
              "        <tr>\n",
              "            <td>971</td>\n",
              "            <td>Amanda Myers</td>\n",
              "            <td>43</td>\n",
              "            <td>fscott@gmail.com</td>\n",
              "            <td>24638</td>\n",
              "            <td>New Terri</td>\n",
              "            <td>9</td>\n",
              "        </tr>\n",
              "        <tr>\n",
              "            <td>974</td>\n",
              "            <td>Benjamin Rodgers</td>\n",
              "            <td>24</td>\n",
              "            <td>tom97@gmail.com</td>\n",
              "            <td>28016</td>\n",
              "            <td>Irwinside</td>\n",
              "            <td>0</td>\n",
              "        </tr>\n",
              "        <tr>\n",
              "            <td>977</td>\n",
              "            <td>Steven Meyer</td>\n",
              "            <td>28</td>\n",
              "            <td>pedro84@gmail.com</td>\n",
              "            <td>60992</td>\n",
              "            <td>North Stephenfort</td>\n",
              "            <td>8</td>\n",
              "        </tr>\n",
              "        <tr>\n",
              "            <td>986</td>\n",
              "            <td>Robert Simmons</td>\n",
              "            <td>31</td>\n",
              "            <td>hudsonpaul@gmail.com</td>\n",
              "            <td>99849</td>\n",
              "            <td>Michelefurt</td>\n",
              "            <td>9</td>\n",
              "        </tr>\n",
              "        <tr>\n",
              "            <td>990</td>\n",
              "            <td>Duane Simmons</td>\n",
              "            <td>0</td>\n",
              "            <td>donna76@gmail.com</td>\n",
              "            <td>78653</td>\n",
              "            <td>Colechester</td>\n",
              "            <td>5</td>\n",
              "        </tr>\n",
              "        <tr>\n",
              "            <td>998</td>\n",
              "            <td>Calvin Mejia</td>\n",
              "            <td>48</td>\n",
              "            <td>egilbert@gmail.com</td>\n",
              "            <td>55266</td>\n",
              "            <td>South Amandabury</td>\n",
              "            <td>7</td>\n",
              "        </tr>\n",
              "    </tbody>\n",
              "</table>"
            ],
            "text/plain": [
              "[(1, 'Jeremy Mata', 30, 'timothymoore@gmail.com', '52022', 'Thomasmouth', 9),\n",
              " (15, 'Brian Nixon', 24, 'combslee@gmail.com', '76117', 'Rothton', 9),\n",
              " (19, 'Shelly Roth', 46, 'carloswalker@gmail.com', '03442', 'Austinshire', 6),\n",
              " (21, 'James Arnold', 22, 'faithchavez@gmail.com', '15431', 'South Danielport', 5),\n",
              " (22, 'Jennifer Evans', 49, 'ijackson@gmail.com', '69375', 'East Pamelaburgh', 6),\n",
              " (23, 'Brittany Coleman', 23, 'watsonscott@gmail.com', '34912', 'North Stephenfort', 7),\n",
              " (29, 'Alyssa Williams DVM', 33, 'tonya62@gmail.com', '55420', 'Normanville', 4),\n",
              " (32, 'Tiffany Brooks', 31, 'jeffreyburgess@gmail.com', '10722', 'South Matthew', 7),\n",
              " (34, 'Victoria Carpenter', 28, 'victoria72@gmail.com', '20246', 'Thomasmouth', 5),\n",
              " (35, 'Allison Payne', 31, 'thomas19@gmail.com', '23188', 'Lake Michaelfort', 4),\n",
              " (37, 'Sharon Moore', 21, 'elliottian@gmail.com', '33605', 'Cooperton', 9),\n",
              " (45, 'Tammy Meyer', 43, 'laceywilliams@gmail.com', '73411', 'Romerofort', 1),\n",
              " (47, 'Cody Moore', 13, 'annamaynard@gmail.com', '53722', 'New Hannah', 0),\n",
              " (55, 'Nathan Guzman DVM', 28, 'ivan11@gmail.com', '23688', 'Brianchester', 6),\n",
              " (76, 'Elizabeth Contreras', 4, 'nmolina@gmail.com', '51577', 'Loganchester', 7),\n",
              " (81, 'Tyler Lopez', 55, 'lisa89@gmail.com', '12936', 'Port Stephanie', 8),\n",
              " (90, 'Kimberly Contreras', 29, 'taraknight@gmail.com', '97554', 'North Stephenfort', 5),\n",
              " (91, 'Jaime Taylor', 15, 'lindsey20@gmail.com', '94872', 'Deborahbury', 6),\n",
              " (97, 'Mr. Jesse Thomas', 36, 'ewright@gmail.com', '64152', 'New Terri', 5),\n",
              " (102, 'Jared Zuniga', 46, 'david56@gmail.com', '69391', 'North Stephenfort', 3),\n",
              " (111, 'Harold Singh', 29, 'tamara80@gmail.com', '75243', 'New Hannah', 2),\n",
              " (113, 'Michelle Gentry', 33, 'bchapman@gmail.com', '73576', 'Lake Marissa', 6),\n",
              " (118, 'Jessica Holmes', 17, 'stephen17@gmail.com', '55081', 'Cooperton', 4),\n",
              " (119, 'Lee Smith', 51, 'darren54@gmail.com', '28029', 'South Amandabury', 9),\n",
              " (129, 'Timothy Joseph', 17, 'frankdecker@gmail.com', '97045', 'South Amandabury', 2),\n",
              " (130, 'Alexander Hernandez', 39, 'btodd@gmail.com', '40984', 'Kevinmouth', 4),\n",
              " (135, 'Colton Simmons', 21, 'kevin27@gmail.com', '65544', 'North Melissabury', 5),\n",
              " (155, 'Martha Foley', 12, 'mdavis@gmail.com', '07669', 'Marystad', 8),\n",
              " (156, 'Connie Lawrence', 40, 'xparker@gmail.com', '93753', 'Brianchester', 7),\n",
              " (161, 'Linda Brown', 39, 'davidsimpson@gmail.com', '14634', 'Romerofort', 8),\n",
              " (166, 'Carla Roach', 28, 'seth66@gmail.com', '44781', 'New Terri', 2),\n",
              " (175, 'Sean Lane', 40, 'joseph20@gmail.com', '15764', 'Marystad', 6),\n",
              " (190, 'Diana Porter', 21, 'bdonovan@gmail.com', '83124', 'Marystad', 6),\n",
              " (196, 'Lisa Huber', 16, 'beverly21@gmail.com', '86245', 'Thomasmouth', 8),\n",
              " (213, 'Veronica Bryan', 22, 'crystal09@gmail.com', '74326', 'East Brookefort', 6),\n",
              " (215, 'Joseph Santiago', 21, 'jennifer23@gmail.com', '46510', 'South Amandabury', 9),\n",
              " (218, 'Lauren Robertson', 33, 'rodriguezwesley@gmail.com', '61142', 'Austinshire', 3),\n",
              " (225, 'Richard Baker', 44, 'robert29@gmail.com', '02682', 'Lake Jennifer', 5),\n",
              " (230, 'Richard Harris', 32, 'shepardstephanie@gmail.com', '46827', 'Brianchester', 5),\n",
              " (231, 'Darrell Herrera', 62, 'danajohnson@gmail.com', '64711', 'Rothton', 6),\n",
              " (234, 'Jason Johnson', 60, 'iwells@gmail.com', '52186', 'Normanville', 9),\n",
              " (235, 'Lisa Knight', 42, 'heatherguzman@gmail.com', '84405', 'Kevinmouth', 6),\n",
              " (242, 'Eric Williams', 46, 'tanyarussell@gmail.com', '22853', 'Colechester', 2),\n",
              " (245, 'Ana Cook', 60, 'andrew35@gmail.com', '37115', 'Kevinmouth', 5),\n",
              " (247, 'Brian Hubbard', 62, 'daniellee@gmail.com', '82307', 'Loganchester', 5),\n",
              " (257, 'Jennifer Roberts', 43, 'ngomez@gmail.com', '33791', 'East Sherylshire', 3),\n",
              " (259, 'Michael Ryan', 49, 'roy11@gmail.com', '48383', 'New Hannah', 3),\n",
              " (261, 'Tammie Rodriguez', 0, 'karenhughes@gmail.com', '54179', 'Deborahbury', 7),\n",
              " (264, 'Emily Leonard', 40, 'jacobosborn@gmail.com', '39492', 'Deborahbury', 3),\n",
              " (267, 'Anthony Diaz', 49, 'jesse93@gmail.com', '42516', 'Jamesfort', 4),\n",
              " (269, 'Vanessa Richardson', 47, 'anthonymoreno@gmail.com', '90679', 'East Brookefort', 6),\n",
              " (303, 'Dylan Woodard', 15, 'richardsallison@gmail.com', '54834', 'North Melinda', 8),\n",
              " (306, 'Jennifer Watson', 36, 'jonathan60@gmail.com', '79619', 'New Hannah', 3),\n",
              " (307, 'Debra Benson', 24, 'kenneth00@gmail.com', '52926', 'Thomasmouth', 2),\n",
              " (315, 'Andrew Suarez', 27, 'welchwilliam@gmail.com', '78625', 'Loganchester', 6),\n",
              " (321, 'Logan Matthews', 55, 'igibson@gmail.com', '43253', 'Romerofort', 4),\n",
              " (323, 'Chloe Lyons DVM', 35, 'mary86@gmail.com', '49853', 'Cooperton', 3),\n",
              " (338, 'Kyle Torres', 23, 'gutierrezsharon@gmail.com', '55577', 'Irwinside', 3),\n",
              " (352, 'Brandon Thompson', 43, 'danielleturner@gmail.com', '07214', 'Port Stephanie', 2),\n",
              " (368, 'Benjamin Davis', 33, 'johnsonmelissa@gmail.com', '81183', 'Deborahbury', 2),\n",
              " (376, 'Marvin Acosta', 40, 'moorebrian@gmail.com', '43603', 'North Melissabury', 6),\n",
              " (390, 'Elizabeth Serrano', 17, 'thompsoncarlos@gmail.com', '50059', 'Rothton', 1),\n",
              " (398, 'Gordon Gonzalez', 18, 'ramoskevin@gmail.com', '48775', 'North Cristinaview', 2),\n",
              " (401, 'Tanner Chan', 20, 'fjones@gmail.com', '78181', 'Thomasmouth', 1),\n",
              " (402, 'Jasmine Mendez', 47, 'stacy64@gmail.com', '42869', 'Kevinmouth', 8),\n",
              " (413, 'Timothy Cooper', 32, 'xmurillo@gmail.com', '66165', 'Port Stephanie', 0),\n",
              " (419, 'John Gomez', 23, 'evansanthony@gmail.com', '27498', 'East Pamelaburgh', 8),\n",
              " (423, 'Katherine Newton', 32, 'gonzaleztimothy@gmail.com', '36744', 'Lake Jennifer', 0),\n",
              " (431, 'Jennifer Henderson', 30, 'nicholasstewart@gmail.com', '01262', 'Walkerview', 5),\n",
              " (434, 'Edward Cox', 21, 'lewismatthew@gmail.com', '06201', 'Lake Jennifer', 7),\n",
              " (438, 'Austin Hatfield', 26, 'qdunn@gmail.com', '49843', 'Marystad', 0),\n",
              " (439, 'Ronald Johnson', 28, 'brangel@gmail.com', '81459', 'East Williamport', 8),\n",
              " (441, 'Andres Medina', 11, 'martinezjames@gmail.com', '46724', 'Loganchester', 4),\n",
              " (451, 'Jonathan Estes', 42, 'joanna83@gmail.com', '20362', 'Lake Michaelfort', 5),\n",
              " (454, 'Justin Vincent', 47, 'parnold@gmail.com', '60194', 'Colechester', 2),\n",
              " (460, 'David James', 38, 'crichardson@gmail.com', '50771', 'North Melissabury', 4),\n",
              " (461, 'Ashley Holmes', 28, 'hwoods@gmail.com', '38507', 'East Adam', 4),\n",
              " (473, 'Michelle Bennett', 30, 'donald17@gmail.com', '20547', 'Port Stephanie', 5),\n",
              " (475, 'Kimberly Schwartz', 38, 'christophercarlson@gmail.com', '01336', 'Thomasmouth', 9),\n",
              " (481, 'Jamie Wilkins', 49, 'torresjohn@gmail.com', '28358', 'Coxmouth', 4),\n",
              " (482, 'Beth Miller', 4, 'zharris@gmail.com', '92255', 'Loganchester', 1),\n",
              " (484, 'Wesley Price', 61, 'munozkevin@gmail.com', '48788', 'Loganchester', 7),\n",
              " (495, 'Carol Jones', 36, 'rodriguezjennifer@gmail.com', '14333', 'Port Stephanie', 0),\n",
              " (496, 'Ann Sharp', 35, 'valdezjames@gmail.com', '93801', 'Kevinmouth', 2),\n",
              " (502, 'Carly Robinson', 10, 'john60@gmail.com', '53964', 'Mckayborough', 5),\n",
              " (510, 'Tracey Perez', 49, 'hjordan@gmail.com', '63752', 'Kevinmouth', 8),\n",
              " (511, 'Donna Ellison', 6, 'brett55@gmail.com', '95277', 'Coxmouth', 9),\n",
              " (514, 'Lisa James', 11, 'taylorcollins@gmail.com', '77974', 'Kleinville', 0),\n",
              " (524, 'Jamie Pacheco', 35, 'vangalicia@gmail.com', '14136', 'Loganchester', 9),\n",
              " (537, 'Stephanie Harmon', 10, 'elizabethhayes@gmail.com', '69357', 'East Sherylshire', 9),\n",
              " (539, 'Kaitlyn Chambers', 41, 'josephmichelle@gmail.com', '06763', 'New Hannah', 6),\n",
              " (541, 'Ray Brown', 14, 'danielle47@gmail.com', '32898', 'North Cristinaview', 0),\n",
              " (542, 'Rebecca King', 33, 'stephanie86@gmail.com', '13910', 'North Cristinaview', 4),\n",
              " (551, 'Faith Patterson', 39, 'ikim@gmail.com', '89958', 'Loganchester', 2),\n",
              " (559, 'Martha Richards', 28, 'lauracollins@gmail.com', '15479', 'New Hannah', 6),\n",
              " (562, 'Hannah Moore MD', 31, 'powelldiana@gmail.com', '64392', 'Port Stephanie', 1),\n",
              " (584, 'Jasmine Vance', 52, 'schmidtdavid@gmail.com', '64609', 'Thomasmouth', 4),\n",
              " (594, 'Ashley Harris', 21, 'stephenrivera@gmail.com', '16219', 'Colechester', 3),\n",
              " (599, 'Travis Long', 29, 'mannmorgan@gmail.com', '58858', 'Romerofort', 8),\n",
              " (602, 'Brandon Brown', 38, 'dawn62@gmail.com', '32101', 'East Brookefort', 5),\n",
              " (606, 'Shirley Duncan', 21, 'brandonwilliams@gmail.com', '11455', 'East Brookefort', 2),\n",
              " (607, 'Wyatt Day', 33, 'wellsnicholas@gmail.com', '89653', 'South Amandabury', 3),\n",
              " (613, 'Kenneth Roman', 46, 'ncalhoun@gmail.com', '57697', 'Romerofort', 6),\n",
              " (628, 'Jay Cohen', 59, 'brian06@gmail.com', '67395', 'Deborahbury', 7),\n",
              " (629, 'Joseph Wall', 23, 'jimmynichols@gmail.com', '27272', 'East Brookefort', 1),\n",
              " (633, 'Kimberly Smith', 21, 'nelsonjasmine@gmail.com', '30088', 'Rothton', 0),\n",
              " (637, 'Kenneth Flores', 37, 'fsoto@gmail.com', '15970', 'North Cristinaview', 1),\n",
              " (642, 'Jake Baird', 43, 'gmontes@gmail.com', '26235', 'Colechester', 4),\n",
              " (646, 'Kenneth Hall', 29, 'jonathan73@gmail.com', '74443', 'Cooperton', 6),\n",
              " (664, 'Rhonda Ochoa', 30, 'robertsbrenda@gmail.com', '38488', 'South Danielport', 0),\n",
              " (677, 'Jonathan Price', 37, 'riverajames@gmail.com', '55636', 'New Hannah', 0),\n",
              " (683, 'Kathleen Jennings', 44, 'tjones@gmail.com', '11545', 'Lake Michaelfort', 5),\n",
              " (684, 'Dustin Santos', 6, 'jmedina@gmail.com', '69427', 'North Stephenfort', 6),\n",
              " (688, 'Brian Jensen', 15, 'heatherrodriguez@gmail.com', '76078', 'Port Stephanie', 2),\n",
              " (689, 'Darrell Pugh', 13, 'pho@gmail.com', '74983', 'Michelefurt', 8),\n",
              " (704, 'Melissa Owens', 37, 'pbrown@gmail.com', '14350', 'Cooperton', 6),\n",
              " (705, 'Ray Carr', 29, 'ronald58@gmail.com', '63249', 'Brianchester', 0),\n",
              " (706, 'Brent Ward', 51, 'baileyrobin@gmail.com', '60070', 'Lake Jennifer', 0),\n",
              " (712, 'Morgan Patton', 50, 'jeffreybaker@gmail.com', '12732', 'New Hannah', 9),\n",
              " (721, 'Juan Shepherd', 32, 'brookstamara@gmail.com', '84267', 'Michelefurt', 1),\n",
              " (724, 'Nathan Dalton', 22, 'johnsonmaureen@gmail.com', '09235', 'East Williamport', 2),\n",
              " (733, 'Carrie Williams', 22, 'gatesmichael@gmail.com', '04745', 'Deborahbury', 0),\n",
              " (735, 'Mariah Patrick', 26, 'ashleynewman@gmail.com', '55596', 'South Amandabury', 7),\n",
              " (772, 'Samuel Montgomery', 26, 'erikwilson@gmail.com', '39601', 'New Hannah', 0),\n",
              " (774, 'Erin Johnson', 46, 'christopher48@gmail.com', '71247', 'East Brookefort', 3),\n",
              " (776, 'Alyssa Clayton', 22, 'hilleric@gmail.com', '85157', 'Rothton', 8),\n",
              " (782, 'Calvin Dean', 43, 'sandyingram@gmail.com', '70082', 'East Sherylshire', 6),\n",
              " (799, 'Jennifer Walker', 67, 'sstephens@gmail.com', '73042', 'Loganchester', 4),\n",
              " (802, 'Tracie Roy', 28, 'baldwinlee@gmail.com', '41498', 'Michelefurt', 4),\n",
              " (803, 'Jaime Lee', 8, 'robertsimmons@gmail.com', '66412', 'New Hannah', 6),\n",
              " (806, 'Joseph Phillips', 29, 'marissanguyen@gmail.com', '83812', 'South Danielport', 6),\n",
              " (809, 'Alexis Boyd', 23, 'amanda14@gmail.com', '67210', 'Kevinmouth', 5),\n",
              " (810, 'Claudia King', 29, 'ppatel@gmail.com', '16840', 'East Leslieton', 1),\n",
              " (812, 'David Parks', 19, 'jacksonryan@gmail.com', '93160', 'North Stephenfort', 3),\n",
              " (822, 'Erika Garcia', 41, 'melissaknox@gmail.com', '60640', 'Marystad', 1),\n",
              " (849, 'William Monroe', 52, 'cody61@gmail.com', '81685', 'Deborahbury', 3),\n",
              " (857, 'Kristy Johnson', 57, 'kathy87@gmail.com', '58399', 'Port Stephanie', 6),\n",
              " (860, 'Anna Trevino', 44, 'gregory47@gmail.com', '10359', 'South Danielport', 4),\n",
              " (870, 'Jeffery Allen', 60, 'cristina80@gmail.com', '97916', 'New Hannah', 5),\n",
              " (871, 'John Lee', 47, 'natalie86@gmail.com', '42317', 'Michelefurt', 8),\n",
              " (877, 'Brianna Anderson', 17, 'icoleman@gmail.com', '64782', 'Kleinville', 2),\n",
              " (880, 'Laura Combs', 19, 'joshuacrane@gmail.com', '59511', 'Cooperton', 4),\n",
              " (882, 'Nicholas Harmon', 39, 'savannah36@gmail.com', '59812', 'Lake Michaelfort', 9),\n",
              " (883, 'Kenneth Savage', 34, 'millerchristian@gmail.com', '45896', 'East Pamelaburgh', 8),\n",
              " (891, 'Kevin Bartlett', 29, 'gevans@gmail.com', '42105', 'Port Stephanie', 7),\n",
              " (892, 'Sean Macias', 77, 'jonathan35@gmail.com', '94666', 'North Stephenfort', 6),\n",
              " (895, 'Rachel Carr', 53, 'christopherfranco@gmail.com', '70277', 'Colechester', 2),\n",
              " (903, 'Roy Davis', 30, 'williamgiles@gmail.com', '78202', 'East Leslieton', 5),\n",
              " (908, 'Ashley Medina', 24, 'dawn86@gmail.com', '95418', 'South Amandabury', 1),\n",
              " (910, 'Christopher West', 28, 'yvettehuber@gmail.com', '38809', 'New Hannah', 6),\n",
              " (919, 'Leslie Perez', 41, 'brandtkatherine@gmail.com', '67621', 'Cooperton', 8),\n",
              " (921, 'Grant Forbes', 27, 'thomas57@gmail.com', '22352', 'Kevinmouth', 6),\n",
              " (927, 'Jessica Robinson', 29, 'ashleygarcia@gmail.com', '20314', 'Port Stephanie', 2),\n",
              " (936, 'Micheal Jones', 34, 'elizabethrobertson@gmail.com', '15889', 'Kevinmouth', 1),\n",
              " (939, 'Angela Walters', 39, 'yatesbryan@gmail.com', '45005', 'Jamesfort', 4),\n",
              " (941, 'Tamara Mcintosh', 31, 'ipowell@gmail.com', '74004', 'Marystad', 7),\n",
              " (943, 'Jacob Garcia', 50, 'vsalinas@gmail.com', '62186', 'Romerofort', 5),\n",
              " (946, 'Daniel Johnson', 32, 'norrisjoseph@gmail.com', '80135', 'Lake Marissa', 9),\n",
              " (948, 'Elizabeth Smith', 26, 'zwilliams@gmail.com', '99403', 'Cooperton', 8),\n",
              " (953, 'Miss Jennifer Meyer', 37, 'hamiltongary@gmail.com', '22308', 'Cooperton', 3),\n",
              " (960, 'Shari Ruiz', 34, 'campbellpaul@gmail.com', '62387', 'South Amandabury', 0),\n",
              " (966, 'Mary Newman', 51, 'dylanrodriguez@gmail.com', '23685', 'Kevinmouth', 4),\n",
              " (971, 'Amanda Myers', 43, 'fscott@gmail.com', '24638', 'New Terri', 9),\n",
              " (974, 'Benjamin Rodgers', 24, 'tom97@gmail.com', '28016', 'Irwinside', 0),\n",
              " (977, 'Steven Meyer', 28, 'pedro84@gmail.com', '60992', 'North Stephenfort', 8),\n",
              " (986, 'Robert Simmons', 31, 'hudsonpaul@gmail.com', '99849', 'Michelefurt', 9),\n",
              " (990, 'Duane Simmons', 0, 'donna76@gmail.com', '78653', 'Colechester', 5),\n",
              " (998, 'Calvin Mejia', 48, 'egilbert@gmail.com', '55266', 'South Amandabury', 7)]"
            ]
          },
          "execution_count": 17,
          "metadata": {},
          "output_type": "execute_result"
        }
      ],
      "source": [
        "%%sql\n",
        "SELECT * FROM patrons\n",
        "    WHERE email LIKE '%@gmail.com';"
      ]
    },
    {
      "cell_type": "markdown",
      "metadata": {
        "id": "evRYAn0q4syB"
      },
      "source": [
        "*Example: Find names that start with a two-character prefix, followed by a period and space*"
      ]
    },
    {
      "cell_type": "code",
      "execution_count": null,
      "metadata": {
        "colab": {
          "base_uri": "https://localhost:8080/",
          "height": 346
        },
        "id": "CDWTc2HH4syC",
        "outputId": "456b189e-3d93-4ffb-bd5a-706388fcc59a"
      },
      "outputs": [
        {
          "name": "stdout",
          "output_type": "stream",
          "text": [
            " * sqlite:///circulation.sqlite\n",
            "Done.\n"
          ]
        },
        {
          "data": {
            "text/html": [
              "<table>\n",
              "    <thead>\n",
              "        <tr>\n",
              "            <th>id</th>\n",
              "            <th>name</th>\n",
              "            <th>age</th>\n",
              "            <th>email</th>\n",
              "            <th>zipcode</th>\n",
              "            <th>city</th>\n",
              "            <th>activity</th>\n",
              "        </tr>\n",
              "    </thead>\n",
              "    <tbody>\n",
              "        <tr>\n",
              "            <td>66</td>\n",
              "            <td>Mr. Andrew Hahn</td>\n",
              "            <td>23</td>\n",
              "            <td>showard@lee.com</td>\n",
              "            <td>50404</td>\n",
              "            <td>Colechester</td>\n",
              "            <td>0</td>\n",
              "        </tr>\n",
              "        <tr>\n",
              "            <td>85</td>\n",
              "            <td>Dr. Sarah Yates</td>\n",
              "            <td>21</td>\n",
              "            <td>angelasmith@hotmail.com</td>\n",
              "            <td>68316</td>\n",
              "            <td>Jamesfort</td>\n",
              "            <td>5</td>\n",
              "        </tr>\n",
              "        <tr>\n",
              "            <td>97</td>\n",
              "            <td>Mr. Jesse Thomas</td>\n",
              "            <td>36</td>\n",
              "            <td>ewright@gmail.com</td>\n",
              "            <td>64152</td>\n",
              "            <td>New Terri</td>\n",
              "            <td>5</td>\n",
              "        </tr>\n",
              "        <tr>\n",
              "            <td>164</td>\n",
              "            <td>Mr. Nathan Murphy</td>\n",
              "            <td>46</td>\n",
              "            <td>sharon88@miller.com</td>\n",
              "            <td>87025</td>\n",
              "            <td>New Terri</td>\n",
              "            <td>8</td>\n",
              "        </tr>\n",
              "        <tr>\n",
              "            <td>179</td>\n",
              "            <td>Mr. Kevin Lewis</td>\n",
              "            <td>32</td>\n",
              "            <td>zamoratiffany@yahoo.com</td>\n",
              "            <td>53680</td>\n",
              "            <td>Lake Marissa</td>\n",
              "            <td>7</td>\n",
              "        </tr>\n",
              "        <tr>\n",
              "            <td>372</td>\n",
              "            <td>Dr. Brian Chavez</td>\n",
              "            <td>28</td>\n",
              "            <td>emilyshah@erickson-ellison.com</td>\n",
              "            <td>09276</td>\n",
              "            <td>Lake Michaelfort</td>\n",
              "            <td>4</td>\n",
              "        </tr>\n",
              "        <tr>\n",
              "            <td>386</td>\n",
              "            <td>Mr. Philip Allen</td>\n",
              "            <td>49</td>\n",
              "            <td>djohnson@hotmail.com</td>\n",
              "            <td>06663</td>\n",
              "            <td>Jaredville</td>\n",
              "            <td>1</td>\n",
              "        </tr>\n",
              "        <tr>\n",
              "            <td>462</td>\n",
              "            <td>Mr. Gabriel Martin</td>\n",
              "            <td>34</td>\n",
              "            <td>jennifer02@murphy.biz</td>\n",
              "            <td>48427</td>\n",
              "            <td>Colechester</td>\n",
              "            <td>6</td>\n",
              "        </tr>\n",
              "        <tr>\n",
              "            <td>574</td>\n",
              "            <td>Ms. Cheryl Ruiz</td>\n",
              "            <td>31</td>\n",
              "            <td>sgrimes@morales.com</td>\n",
              "            <td>02481</td>\n",
              "            <td>North Stephenfort</td>\n",
              "            <td>9</td>\n",
              "        </tr>\n",
              "        <tr>\n",
              "            <td>630</td>\n",
              "            <td>Ms. Erin Walsh DDS</td>\n",
              "            <td>8</td>\n",
              "            <td>richardlowery@duncan.biz</td>\n",
              "            <td>49044</td>\n",
              "            <td>Marystad</td>\n",
              "            <td>9</td>\n",
              "        </tr>\n",
              "        <tr>\n",
              "            <td>657</td>\n",
              "            <td>Mr. James Jennings DVM</td>\n",
              "            <td>54</td>\n",
              "            <td>gwebb@hotmail.com</td>\n",
              "            <td>39491</td>\n",
              "            <td>Michelefurt</td>\n",
              "            <td>9</td>\n",
              "        </tr>\n",
              "        <tr>\n",
              "            <td>824</td>\n",
              "            <td>Dr. Robert Silva</td>\n",
              "            <td>24</td>\n",
              "            <td>brettschaefer@hotmail.com</td>\n",
              "            <td>18459</td>\n",
              "            <td>North Melissabury</td>\n",
              "            <td>2</td>\n",
              "        </tr>\n",
              "        <tr>\n",
              "            <td>978</td>\n",
              "            <td>Mr. Dakota Salazar</td>\n",
              "            <td>40</td>\n",
              "            <td>aguilarchristine@williams-brady.com</td>\n",
              "            <td>86674</td>\n",
              "            <td>Colechester</td>\n",
              "            <td>7</td>\n",
              "        </tr>\n",
              "    </tbody>\n",
              "</table>"
            ],
            "text/plain": [
              "[(66, 'Mr. Andrew Hahn', 23, 'showard@lee.com', '50404', 'Colechester', 0),\n",
              " (85, 'Dr. Sarah Yates', 21, 'angelasmith@hotmail.com', '68316', 'Jamesfort', 5),\n",
              " (97, 'Mr. Jesse Thomas', 36, 'ewright@gmail.com', '64152', 'New Terri', 5),\n",
              " (164, 'Mr. Nathan Murphy', 46, 'sharon88@miller.com', '87025', 'New Terri', 8),\n",
              " (179, 'Mr. Kevin Lewis', 32, 'zamoratiffany@yahoo.com', '53680', 'Lake Marissa', 7),\n",
              " (372, 'Dr. Brian Chavez', 28, 'emilyshah@erickson-ellison.com', '09276', 'Lake Michaelfort', 4),\n",
              " (386, 'Mr. Philip Allen', 49, 'djohnson@hotmail.com', '06663', 'Jaredville', 1),\n",
              " (462, 'Mr. Gabriel Martin', 34, 'jennifer02@murphy.biz', '48427', 'Colechester', 6),\n",
              " (574, 'Ms. Cheryl Ruiz', 31, 'sgrimes@morales.com', '02481', 'North Stephenfort', 9),\n",
              " (630, 'Ms. Erin Walsh DDS', 8, 'richardlowery@duncan.biz', '49044', 'Marystad', 9),\n",
              " (657, 'Mr. James Jennings DVM', 54, 'gwebb@hotmail.com', '39491', 'Michelefurt', 9),\n",
              " (824, 'Dr. Robert Silva', 24, 'brettschaefer@hotmail.com', '18459', 'North Melissabury', 2),\n",
              " (978, 'Mr. Dakota Salazar', 40, 'aguilarchristine@williams-brady.com', '86674', 'Colechester', 7)]"
            ]
          },
          "execution_count": 18,
          "metadata": {},
          "output_type": "execute_result"
        }
      ],
      "source": [
        "%%sql\n",
        "SELECT * FROM patrons\n",
        "    WHERE name LIKE '__. %';"
      ]
    },
    {
      "cell_type": "markdown",
      "metadata": {
        "id": "nIU8Y0Rc7I0V"
      },
      "source": [
        "### SQL Questions 1\n",
        "\n",
        "**Q1**: (*4pts*) Write the SQL to select the first 10 records of the `books` table."
      ]
    },
    {
      "cell_type": "code",
      "execution_count": null,
      "metadata": {
        "id": "ZNdWgyofBJMb"
      },
      "outputs": [],
      "source": [
        "# Answer-Q1\n",
        "%%sql\n"
      ]
    },
    {
      "cell_type": "code",
      "execution_count": null,
      "metadata": {
        "cellView": "form",
        "id": "9ZSMvzE5uS7s"
      },
      "outputs": [],
      "source": [
        "#@markdown *Run this cell to see the expected output*\n",
        "pd.DataFrame(lab3.L3_Q1_Answers.output)"
      ]
    },
    {
      "cell_type": "markdown",
      "metadata": {
        "id": "ODn6ITnx7IjI"
      },
      "source": [
        "**Q2**: (*4pts*) Write the SQL to select the `patrons` that are equal to or over 65 years old."
      ]
    },
    {
      "cell_type": "code",
      "execution_count": null,
      "metadata": {
        "id": "4cgz91c9BLq_"
      },
      "outputs": [],
      "source": [
        "# Answer-Q2\n",
        "%%sql \n",
        "\n"
      ]
    },
    {
      "cell_type": "code",
      "execution_count": null,
      "metadata": {
        "cellView": "form",
        "id": "hAvnbsHXxC2f"
      },
      "outputs": [],
      "source": [
        "#@markdown *Run this cell to see the expected output*\n",
        "pd.DataFrame(lab3.L3_Q2_Answers.output)"
      ]
    },
    {
      "cell_type": "markdown",
      "metadata": {
        "id": "8oTBsDTe7IVs"
      },
      "source": [
        "**Q3**: Write the SQL to select any patrons that are 8 years old and have the zip code 49044."
      ]
    },
    {
      "cell_type": "code",
      "execution_count": null,
      "metadata": {
        "id": "AD_Y8u6LCAVJ"
      },
      "outputs": [],
      "source": [
        "# Answer-Q3\n",
        "%%sql \n"
      ]
    },
    {
      "cell_type": "code",
      "execution_count": null,
      "metadata": {
        "cellView": "form",
        "id": "c1o1oMTByInj"
      },
      "outputs": [],
      "source": [
        "#@markdown *Run this cell to see the expected output*\n",
        "print(\"Impressive Dentist!\")\n",
        "pd.DataFrame(lab3.L3_Q3_Answers.output)"
      ]
    },
    {
      "cell_type": "code",
      "execution_count": null,
      "metadata": {
        "cellView": "form",
        "id": "RTFBYVOg7WPX"
      },
      "outputs": [],
      "source": [
        "#@markdown **Q4**: (*4pts*) What is the id of the most recently returned book listed in the `circulation` table?\n",
        "\n",
        "q4_answer = 0 #@param {type:'integer'}\n",
        "#@markdown Tip: you'll want to first check the columns in the table to know what to sort on."
      ]
    },
    {
      "cell_type": "code",
      "execution_count": null,
      "metadata": {
        "cellView": "form",
        "id": "U5QIRvuy7h1K"
      },
      "outputs": [],
      "source": [
        "#@markdown **Q5**: (*4pts*) How many records are listed in `books` with `George Orwell` as the author?\n",
        "\n",
        "q5_answer = 0 #@param {type:'integer'}"
      ]
    },
    {
      "cell_type": "code",
      "execution_count": null,
      "metadata": {
        "cellView": "form",
        "id": "u2ZuVCCK7wL8"
      },
      "outputs": [],
      "source": [
        "#@markdown **Q6**: Complete the `WHERE .. LIKE` search for the following searches against the `books` table:\n",
        "\n",
        "#@markdown  - a) (*4pts*) Written by an author with the middle initial `C`, like in `Arthur C. Clarke`: `WHERE author LIKE ....`\n",
        "q6a_answer = '' #@param {type:'string'}\n",
        "#@markdown  - b) (*4pts*) Title starting with the word `The`: `WHERE title LIKE ...`\n",
        "\n",
        "q6b_answer = '' #@param {type:'string'}\n",
        "\n",
        "#@markdown  - c) (*5pts*) Written by authors named like `Tim` or `Tom` (starts with a `T`, three characters, ends with an `m`): `WHERE author LIKE ...`\n",
        "q6c_answer = '' #@param {type:'string'}"
      ]
    },
    {
      "cell_type": "markdown",
      "metadata": {
        "id": "O2rKLHJn4syG"
      },
      "source": [
        "**Q7**: (*5pts*) Write the SQL for the last question, matching *only* Tim or Tom (e.g. no 'Tam'). Tip: Don't get fancy, try an `or` statement."
      ]
    },
    {
      "cell_type": "code",
      "execution_count": null,
      "metadata": {
        "id": "iIhllttaCsVf"
      },
      "outputs": [],
      "source": [
        "# Answer-Q7\n",
        "%%sql\n"
      ]
    },
    {
      "cell_type": "markdown",
      "metadata": {
        "id": "HhVkqsDZCftd"
      },
      "source": [
        "**Q8**: (*5pts*) How would you retrieve emails from `.org` domains? Write the SQL."
      ]
    },
    {
      "cell_type": "code",
      "execution_count": null,
      "metadata": {
        "id": "_J1mPeq9CvS7"
      },
      "outputs": [],
      "source": [
        "# Answer-Q8\n",
        "%%sql\n"
      ]
    },
    {
      "cell_type": "markdown",
      "metadata": {
        "id": "PS69rTjqCj26"
      },
      "source": [
        "**Q9**: (*5pts*) Write the SQL to retrieve any people whose last name starts with `Ta`. Hint: the results should look like:\n",
        "\n",
        "![](https://github.com/organisciak/Scripting-Course/blob/master/images/sql-select-ta.png?raw=1)"
      ]
    },
    {
      "cell_type": "code",
      "execution_count": null,
      "metadata": {
        "id": "1bjZGSzhC2tJ"
      },
      "outputs": [],
      "source": [
        "# Answer-Q9\n",
        "%%sql\n"
      ]
    },
    {
      "cell_type": "markdown",
      "metadata": {
        "id": "DxP-5ucf4syH"
      },
      "source": [
        "## SQL Joins\n",
        "\n",
        "Review the lecture materials from this week to learn about JOINs. e.g."
      ]
    },
    {
      "cell_type": "code",
      "execution_count": null,
      "metadata": {
        "id": "ueoYsiEI4syI"
      },
      "outputs": [],
      "source": [
        "%%sql\n",
        "SELECT books.title, patrons.name, patrons.age, circulation.checkout_time FROM circulation\n",
        "    JOIN books ON (circulation.book_id == books.id)\n",
        "    JOIN patrons ON (circulation.patron_id == patrons.id)\n",
        "LIMIT 10;"
      ]
    },
    {
      "cell_type": "markdown",
      "metadata": {
        "id": "9MjPq8CU4syN"
      },
      "source": [
        "### SQL Questions 2:\n",
        "\n",
        "Consider the following two tables: `Pets` and `Owners`. We don't have this database, but based on the structure, you should be able to answer the questions.\n",
        "\n",
        "![](https://github.com/organisciak/Scripting-Course/blob/master/images/pets-table.png?raw=1)"
      ]
    },
    {
      "cell_type": "markdown",
      "metadata": {
        "id": "ig4fb6cBC6S2"
      },
      "source": [
        "**Q10**: (*7pts*) Write the SQL to retrieve the email addresses for all pets where the species is 'cat'.\n",
        "\n",
        "*Because we're not working with a real database, you  won't actually run it (there's nothing to run against!) - just correct and finish what I put in between the triple-quotes below*:"
      ]
    },
    {
      "cell_type": "code",
      "execution_count": null,
      "metadata": {
        "id": "I1A38vUfDNgU"
      },
      "outputs": [],
      "source": [
        "q10_answer = '''\n",
        "SELECT something FROM somewhere\n",
        "WHERE something\n",
        "\n",
        "'''"
      ]
    },
    {
      "cell_type": "markdown",
      "metadata": {
        "id": "rKeH94TSC5s5"
      },
      "source": [
        "**Q11**: (*5pts*) Write the SQL to retrieve all the owners with a missing (i.e. null) email.\n",
        "\n",
        "Consider the following tables for online comments: `Comments` and `Users`. Tip: remember `IS NULL` from the slides!"
      ]
    },
    {
      "cell_type": "code",
      "execution_count": null,
      "metadata": {
        "id": "BPUZDQFGNlEA"
      },
      "outputs": [],
      "source": [
        "q11_answer = '''\n",
        "SELECT something FROM somewhere\n",
        "WHERE something\n",
        "\n",
        "'''"
      ]
    },
    {
      "cell_type": "markdown",
      "metadata": {
        "id": "hS-LCpowDLTM"
      },
      "source": [
        "Look at the following table:\n",
        "![](https://github.com/organisciak/Scripting-Course/blob/master/images/comment-er.png?raw=1)\n",
        "\n",
        "**Q12**: (*7pts*) Some users are banned in a way that they can see their own comments, but nobody else can see their comments. This is signified with a `TRUE` in the shadow_ban field. Write the SQL to retrieve all comments with information on whether the comment is shadow banned."
      ]
    },
    {
      "cell_type": "code",
      "execution_count": null,
      "metadata": {
        "id": "vkArrJ6sNwQR"
      },
      "outputs": [],
      "source": [
        "q12_answer = '''\n",
        "SELECT something FROM somewhere\n",
        "WHERE something\n",
        "\n",
        "'''"
      ]
    },
    {
      "cell_type": "code",
      "execution_count": null,
      "metadata": {
        "cellView": "form",
        "id": "gY1K-McADNcb"
      },
      "outputs": [],
      "source": [
        "#@markdown **Q13**: Multiple Choice. Sometimes, a user deletes their account, but the comment is in the system. Assume `comments` is the left table.\n",
        "\n",
        "#@markdown - 1) (*3pts*) What type of JOIN is necessary to retrieve all the comments, with user names and images if available?\n",
        "q13a_answer = \"\" #@param [\"\", \"INNER JOIN\", \"LEFT OUTER JOIN\", \"FULL OUTER JOIN\", \"Not possible.\"]\n",
        "#@markdown - 2) (*3pts*) What type of JOIN is necessary to retrieve all the comments by active users, with user names included?\n",
        "q13b_answer = \"\" #@param [\"\", \"INNER JOIN\", \"LEFT OUTER JOIN\", \"FULL OUTER JOIN\", \"Not possible.\"]\n",
        "#@markdown - 3) (*4pts*) What type of JOIN is necessary to retrieve all the active and deleted comments by a user?\n",
        "q13c_answer = \"\" #@param [\"\", \"INNER JOIN\", \"LEFT OUTER JOIN\", \"FULL OUTER JOIN\", \"Not possible.\"]"
      ]
    },
    {
      "cell_type": "markdown",
      "metadata": {
        "id": "w8mz6_it4syN"
      },
      "source": [
        "## Python\n",
        "\n",
        "### *methods* and *functions*\n",
        "\n",
        "In Python and most programming languages, it is possible to create a 'recipe' of multiple instructions that you may want to repeat.\n",
        "\n",
        "You can recognize a function by its parentheses. We've seen one function already:"
      ]
    },
    {
      "cell_type": "code",
      "execution_count": null,
      "metadata": {
        "colab": {
          "base_uri": "https://localhost:8080/",
          "height": 35
        },
        "id": "HHOwvTo44syO",
        "outputId": "00fab03d-b9f7-4ef3-8b38-812c370bdf2e"
      },
      "outputs": [
        {
          "name": "stdout",
          "output_type": "stream",
          "text": [
            "\n"
          ]
        }
      ],
      "source": [
        "print()"
      ]
    },
    {
      "cell_type": "markdown",
      "metadata": {
        "id": "7giprp8g4syT"
      },
      "source": [
        "Of course, running the `print` function alone isn't interesting - we want to tell it *what* to print! This brings us to an important feature of functions: *arguments*. Functions aren't simply a recipe, bundling the same lines of code - they can be given arguments to modify the code in some way.\n",
        "\n",
        "For `print`, the first argument is a value: _what is it that you want to print?_ Very basically:"
      ]
    },
    {
      "cell_type": "code",
      "execution_count": null,
      "metadata": {
        "colab": {
          "base_uri": "https://localhost:8080/",
          "height": 35
        },
        "id": "cLO9d3Ql4syT",
        "outputId": "e2a0bfc0-19de-4a70-98f0-faa6a343f92a"
      },
      "outputs": [
        {
          "name": "stdout",
          "output_type": "stream",
          "text": [
            "test\n"
          ]
        }
      ],
      "source": [
        "print('test')"
      ]
    },
    {
      "cell_type": "markdown",
      "metadata": {
        "id": "O4Y07Sla4syX"
      },
      "source": [
        "Recall from last week that we can look up code documentation by running code with a question mark at the start. So if you run:\n",
        "\n",
        "`?print`\n",
        "\n",
        "You'll see:\n",
        "\n",
        "```\n",
        "Docstring:\n",
        "print(value, ..., sep=' ', end='\\n', file=sys.stdout, flush=False)\n",
        "\n",
        "Prints the values to a stream, or to sys.stdout by default.\n",
        "Optional keyword arguments:\n",
        "file:  a file-like object (stream); defaults to the current sys.stdout.\n",
        "sep:   string inserted between values, default a space.\n",
        "end:   string appended after the last value, default a newline.\n",
        "flush: whether to forcibly flush the stream.\n",
        "```\n",
        "\n",
        "There are more arguments that you can supply! \n",
        "\n",
        "First, you can provide *multiple* values:"
      ]
    },
    {
      "cell_type": "code",
      "execution_count": null,
      "metadata": {
        "colab": {
          "base_uri": "https://localhost:8080/",
          "height": 34
        },
        "id": "ktUD04yo4syY",
        "outputId": "cce0bad1-7710-4cb8-9c2b-2242ed455a29"
      },
      "outputs": [
        {
          "name": "stdout",
          "output_type": "stream",
          "text": [
            "Hello World\n"
          ]
        }
      ],
      "source": [
        "print(\"Hello\", \"World\")"
      ]
    },
    {
      "cell_type": "markdown",
      "metadata": {
        "id": "dehif5Xy4syb"
      },
      "source": [
        "Note that there are some weird looking arguments, like `sep=' '` and `end='\\n'`.\n",
        "\n",
        "Those are _named arguments_: you can change the argument by referring to it by name. They also have a default: so if you don't tell `print` what the separator between values (`sep`) is, it will simply be a `' '` (string comprised of just one space character).\n",
        "\n",
        "When we ran `print(\"Hello\", \"World\")`, it put a space between the two worlds because that's the default. To change what's put between the values, consider this example and it's output:"
      ]
    },
    {
      "cell_type": "code",
      "execution_count": null,
      "metadata": {
        "colab": {
          "base_uri": "https://localhost:8080/",
          "height": 34
        },
        "id": "mgQ7IvO44syc",
        "outputId": "4947d1be-5290-4449-8aaa-6b840e9d44bb"
      },
      "outputs": [
        {
          "name": "stdout",
          "output_type": "stream",
          "text": [
            "Hello#World\n"
          ]
        }
      ],
      "source": [
        "print(\"Hello\", \"World\", sep=\"#\")"
      ]
    },
    {
      "cell_type": "markdown",
      "metadata": {
        "id": "hj03uwVN4syf"
      },
      "source": [
        "Some objects in Python have build-in functions, called `methods`. These look the same, but are run from the object, with a period denoting that 'this method belongs to this object'.\n",
        "\n",
        "We saw this briefly in last week's lab, when we used code autocomplete to see what a string can do. For example, we can use the `upper` method of strings to make them uppercase:"
      ]
    },
    {
      "cell_type": "code",
      "execution_count": null,
      "metadata": {
        "colab": {
          "base_uri": "https://localhost:8080/",
          "height": 34
        },
        "id": "TMyePXCk4syf",
        "outputId": "669c70eb-0931-4395-ed60-87b5a44afc04"
      },
      "outputs": [
        {
          "data": {
            "text/plain": [
              "'HELLO WORLD'"
            ]
          },
          "execution_count": 16,
          "metadata": {
            "tags": []
          },
          "output_type": "execute_result"
        }
      ],
      "source": [
        "teststring = \"Hello world\"\n",
        "teststring.upper()"
      ]
    },
    {
      "cell_type": "markdown",
      "metadata": {
        "id": "p0BAu-yM4syi"
      },
      "source": [
        "Or the `replace` method to replace parts of the string with something else, just like Find & Replace in many programs:"
      ]
    },
    {
      "cell_type": "code",
      "execution_count": null,
      "metadata": {
        "colab": {
          "base_uri": "https://localhost:8080/",
          "height": 34
        },
        "id": "OU4h1PnZ4syj",
        "outputId": "d8248b9c-07db-4650-c4d6-ce2b534963a8",
        "scrolled": true
      },
      "outputs": [
        {
          "data": {
            "text/plain": [
              "'Goodbye world'"
            ]
          },
          "execution_count": 17,
          "metadata": {
            "tags": []
          },
          "output_type": "execute_result"
        }
      ],
      "source": [
        "teststring.replace('Hello', 'Goodbye')"
      ]
    },
    {
      "cell_type": "markdown",
      "metadata": {
        "id": "sokLTCJI4sym"
      },
      "source": [
        "### Tip:\n",
        "\n",
        "Think about what type of object is returned by a method like `teststring.replace()`. It returns a new string, with your replacements. That new string has the same methods, so you could 'chain' multiple methods:"
      ]
    },
    {
      "cell_type": "code",
      "execution_count": null,
      "metadata": {
        "colab": {
          "base_uri": "https://localhost:8080/",
          "height": 34
        },
        "id": "ysWt2Rcj4syn",
        "outputId": "006aa94a-44e8-41bd-eb97-e0d0a03cb1b8"
      },
      "outputs": [
        {
          "data": {
            "text/plain": [
              "'GOODBYE WORLD'"
            ]
          },
          "execution_count": 18,
          "metadata": {
            "tags": []
          },
          "output_type": "execute_result"
        }
      ],
      "source": [
        "teststring.replace('Hello', 'Goodbye').upper()"
      ]
    },
    {
      "cell_type": "markdown",
      "metadata": {
        "id": "YovzdTMk4sys"
      },
      "source": [
        "This only works because the result of `replace` was a string. The important distinction: `upper()` is not run on the output of `teststring.replace`, not on `teststring` itself!\n",
        "\n",
        "When in doubt, set objects to multiple variables on multiple lines, though chaining will be useful for multi-step analyses later in the course. This is the more clear version of the above:"
      ]
    },
    {
      "cell_type": "code",
      "execution_count": null,
      "metadata": {
        "colab": {
          "base_uri": "https://localhost:8080/",
          "height": 34
        },
        "id": "ywMgZ5WY4syt",
        "outputId": "69dc6f35-0b1e-4b3a-e830-14cb9b7f7c1b"
      },
      "outputs": [
        {
          "data": {
            "text/plain": [
              "'GOODBYE WORLD'"
            ]
          },
          "execution_count": 19,
          "metadata": {
            "tags": []
          },
          "output_type": "execute_result"
        }
      ],
      "source": [
        "replaced = teststring.replace('Hello', 'Goodbye')\n",
        "uppercased = replaced.upper()\n",
        "uppercased"
      ]
    },
    {
      "cell_type": "markdown",
      "metadata": {
        "id": "E3TZwWBU4syw"
      },
      "source": [
        "### Import Statements"
      ]
    },
    {
      "cell_type": "markdown",
      "metadata": {
        "id": "iDcy316Q4syw"
      },
      "source": [
        "In week 1, we discussed 'libraries': importable collections of code. These are tools that make your life easier. To import a library, you write:\n",
        "\n",
        "`import libraryname`\n",
        "\n",
        "Then you can use the `libraryname` code. \n",
        "\n",
        "For a real example: we'll be using Pandas a lot in this class, which you can import as `import pandas`. Since we'll be refering to it a *lot*, we can rename it to something shorter by saying 'import ... as ...'. The pandas convention is to import it with the name `pd`, like this:"
      ]
    },
    {
      "cell_type": "code",
      "execution_count": null,
      "metadata": {
        "id": "9alb8xGi4syx"
      },
      "outputs": [],
      "source": [
        "import pandas as pd"
      ]
    },
    {
      "cell_type": "markdown",
      "metadata": {
        "id": "c--lxPVz4syz"
      },
      "source": [
        "Did it work for you? Try tab auto-complete to see the methods it offers:"
      ]
    },
    {
      "cell_type": "markdown",
      "metadata": {
        "id": "t-6DoL1f4sy0"
      },
      "source": [
        "![](https://github.com/organisciak/Scripting-Course/blob/master/images/pd-tab.png?raw=1)"
      ]
    },
    {
      "cell_type": "markdown",
      "metadata": {
        "id": "HcUHgKi44sy1"
      },
      "source": [
        "#### Python Questions\n",
        "\n",
        "We'll practice importing, using methods, and looking up documentation.\n",
        "\n",
        "**Q14**: (*7pts*) Write the Python code to do two things: import the Pandas library, then use the `read_csv` method from the library to load the following data: https://raw.githubusercontent.com/organisciak/Scripting-Course/master/data/cat_data.tsv. Note that it's separated by tabs (represent in code by a special character written as '\\t') rather than commas. Set the resulting output to a variable, `data`.\n",
        "\n",
        "Tip: Tinker, read the documentation, and don't worry about breaking stuff: you can try again!"
      ]
    },
    {
      "cell_type": "code",
      "execution_count": null,
      "metadata": {
        "id": "8rLOOUk9OVXA"
      },
      "outputs": [],
      "source": [
        "# Answer-Q14\n"
      ]
    },
    {
      "cell_type": "markdown",
      "metadata": {
        "id": "wlmKH-90Eb8R"
      },
      "source": [
        "**Q15**: (*4pts*) What's the code for getting the means of all the columns for `data` (that are able to have a mean)? It's a method - see if autocomplete can help find it."
      ]
    },
    {
      "cell_type": "code",
      "execution_count": null,
      "metadata": {
        "id": "iR-Te0y3OaL4"
      },
      "outputs": [],
      "source": [
        "# Answer-Q15\n"
      ]
    },
    {
      "cell_type": "markdown",
      "metadata": {
        "id": "nzOXfTXoVGe4"
      },
      "source": [
        "`data` is a table-like structure for cat measurements, listing sex, body weight (`Bwt`), and heart weight (`Hwt`). Inspect the data to see what it looks like, and compare that to the following code:"
      ]
    },
    {
      "cell_type": "code",
      "execution_count": null,
      "metadata": {
        "cellView": "form",
        "id": "xDWhPJYnOo3K"
      },
      "outputs": [],
      "source": [
        "#@markdown **Q16**: (*4pts*) What does this code do:\n",
        "\n",
        "#@markdown ```\n",
        "#@markdown data[:5]\n",
        "#@markdown ```\n",
        "\n",
        "q16_answer = \"\" #@param {type:'string'}"
      ]
    },
    {
      "cell_type": "code",
      "execution_count": null,
      "metadata": {
        "cellView": "form",
        "id": "eddHuOW4UYLV"
      },
      "outputs": [],
      "source": [
        "#@markdown **Q17**: (*4pts*) What does this code do:\n",
        "\n",
        "#@markdown ```\n",
        "#@markdown data[['Sex', 'Bwt']]\n",
        "#@markdown ```\n",
        "\n",
        "q17_answer = \"\" #@param {type:'string'}"
      ]
    },
    {
      "cell_type": "code",
      "execution_count": null,
      "metadata": {
        "cellView": "form",
        "id": "Tbf9k6rkOwZJ"
      },
      "outputs": [],
      "source": [
        "#@markdown **Q18**: (*4pts*) What does this code do:\n",
        "\n",
        "#@markdown ```\n",
        "#@markdown data.query('Hwt > 13')\n",
        "#@markdown ```\n",
        "\n",
        "q18_answer = \"\" #@param {type:'string'}"
      ]
    },
    {
      "cell_type": "markdown",
      "metadata": {
        "id": "wWvzLPPAUnsa"
      },
      "source": [
        "# Submission Instructions"
      ]
    },
    {
      "cell_type": "code",
      "execution_count": null,
      "metadata": {
        "cellView": "form",
        "id": "ioRgfrjuUuZ9"
      },
      "outputs": [],
      "source": [
        "#@markdown ### First, Enter your name for grading\n",
        "my_name = \"\" #@param { type:'string' }\n",
        "\n",
        "#@markdown _Have you saved your work for yourself? Don't forget to Save a Copy in Drive so that you have your progress._\n",
        "\n",
        "#@markdown ### Second, check your work:\n",
        "\n",
        "#@markdown - have you answered all the questions?\n",
        "#@markdown     - Some answers can be checked automatically - just run this cell.\n",
        "#@markdown - Does this notebook run from top to bottom?\n",
        "#@markdown     - Go to \"Runtime > Restart and run all...\" to check. Do all the cells run, to the very bottom, or is there a cell in the middle with an error?\n",
        "#@markdown - Have you completed all the answers where you entered code, keeping the `# Answer-Qx` line at the start of those cells?\n",
        "\n",
        "#@markdown *A lab that the professor has to fix manually will lose 10pts - run the checks!*\n",
        "\n",
        "#@markdown ### Finally, submit it.\n",
        "\n",
        "#@markdown - Download the file with \"File > Download .ipynb\" and submit it to the Canvas assignment page."
      ]
    }
  ],
  "metadata": {
    "colab": {
      "name": "03-joins-like-methods-lab.ipynb",
      "provenance": [],
      "include_colab_link": true
    },
    "kernelspec": {
      "display_name": "Python 3",
      "language": "python",
      "name": "python3"
    },
    "language_info": {
      "codemirror_mode": {
        "name": "ipython",
        "version": 3
      },
      "file_extension": ".py",
      "mimetype": "text/x-python",
      "name": "python",
      "nbconvert_exporter": "python",
      "pygments_lexer": "ipython3",
      "version": "3.9.12"
    }
  },
  "nbformat": 4,
  "nbformat_minor": 0
}