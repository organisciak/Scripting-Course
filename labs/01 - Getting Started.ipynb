{
  "cells": [
    {
      "cell_type": "markdown",
      "metadata": {
        "id": "Ls3oBoSylKJG"
      },
      "source": [
        "# Week 1 Lab Task\n",
        "*This lab is ungraded and has no submission*\n",
        "\n",
        "This week is about getting started with powerful tools that will underlie many of the skills you learn in the course. \n",
        "\n",
        "Much of the effort today is in setting up your tools.\n",
        "\n",
        "In this course we'll be using the Python programming language, using a style of interaction called a *notebook*. That's what you're looking at now: a notebook hosted on a service called *Colaboratory*. This will be your window to most of our work in databases.\n",
        "\n",
        "Your _environment_ is similar to your local workspace. Look at your desk: how do you organize your pens, paper, mouse, monitor? Or maybe you have a barebones workspace, working at a coffee shop or kitchen table with only a cup of coffee. In the same way, you can have many different environments for how you work with Python: working on a command line, or running scripts. Colaboratory is an environment that gives you an interactive, browser-based version of Python. It allows you to play with code in a way that gives you immediate feedback, and allows you to break, tinker, and retry. \n",
        "\n",
        "Colaboratory, or 'Colab' for short, is Google's spinoff of a notebook tool called Jupyter. The main difference is that Jupyter is usually installed on your own computer, but Google has installed Colab on their servers and made it accessible to anybody with a Google account. Past versions of this class used Jupyter - so you may still references to it - and it is *very* common in all manner of information science, data science, and machine learning industries. Just know that Colab is a spin-off of that.\n",
        "\n",
        "When programming, you're usually not writing everything from scratch. Some code is needed by many other people, so most languages have a concept of a _library_: code written and distributed by other people that you can easily use in your own work.\n",
        "\n",
        "In this class, we work with a specific set of libraries for Python that people have created for working with data and dataset. In code, when you see `import X`, that is you loading a library - somebody elses code that make your life easier.\n",
        "\n",
        "So, let's take stock:\n",
        "\n",
        "- *Python* is a programming language, which can take code and run it.\n",
        "- *Colaboratory* or *Colab* is a tool (a cousin of *Jupyter*) for interacting with Python in the browser.\n",
        "- A *library* is somebody else's Python code that you can use. For example, we'll be using libraries for working with data and visualizing it."
      ]
    },
    {
      "cell_type": "markdown",
      "metadata": {
        "id": "sYLIPPT_lKJM"
      },
      "source": [
        "### Today's Goals\n",
        "\n",
        "- Sign into Colaboratory. (*In past years, you had to install Python on your computer - this is much easier!*)\n",
        "- Become familiar with notebooks.\n",
        "- Try some basic Python.\n",
        "- Practice tinkering!"
      ]
    },
    {
      "cell_type": "markdown",
      "metadata": {
        "id": "gx_BM85mlKJP"
      },
      "source": [
        "### Keywords\n",
        "\n",
        "- Python\n",
        "- Colaboratory\n",
        "- Jupyter\n",
        "- data types\n",
        "  - string\n",
        "  - number\n",
        "  - list"
      ]
    },
    {
      "cell_type": "markdown",
      "metadata": {
        "id": "L6ctJ6LJlKJR"
      },
      "source": [
        "## 1. Accessing Colab\n",
        "\n",
        "Colab is available at https://colab.research.google.com/. It's is our window into Python and our databases. You need a Google account to run and save your code.\n",
        "\n",
        "**Save your own version of this lab worksheet, or create a new notebook for the exercises**. If you're not already reading this document (this *notebook*) on Colab, you can click the following button to open it: [![Open in Colab](https://colab.research.google.com/assets/colab-badge.svg)](https://colab.research.google.com/github/organisciak/Scripting-Course/blob/master/labs/01%20-%20Getting%20Started). When you open somebody else's notebook, like this lab worksheet, it won't be saved for you - it's in 'playground mode' so that you can just play with it. If you want to save your own code, press `Ctrl+S` then \n",
        "'SAVE A COPY IN DRIVE'.\n",
        "\n",
        "You can also create a new notebook in File -> New Notebook.\n",
        "\n",
        "**Activity:** Follow along with the [Overview of Colaboratory Features](https://colab.research.google.com/notebooks/basic_features_overview.ipynb). You can skip or skim past the *Working With Python* section. Then, read the very short section on the [Modal Editor](https://jupyter-notebook.readthedocs.io/en/stable/examples/Notebook/Notebook%20Basics.html#Modal-editor).\n",
        "\n",
        "Once you're done, talk over these questions with your colleagues. These are fundamental questions - you'll need to know the answers well for the rest of the class!\n",
        "\n",
        "_Questions_\n",
        "\n",
        "- 1) What's the different between a code cell and a text cell?\n",
        "- 2) What are the two modes of a notebook? How do you know which mode you're in?\n",
        "- 3) What do you press to leave edit mode while in a cell?\n",
        "- 4) You can see Keyboard Shotcuts listed by pressing `Ctrl/⌘+M+H` (that is, press M then H while holding Ctrl/⌘). What are the Keyboard Shortcuts for:\n",
        " - a) Run the focused cell\n",
        " - b) Run the cell and move focus to the next cell\n",
        " - c) Insert cell below\n",
        " - d) Insert cell above"
      ]
    },
    {
      "cell_type": "markdown",
      "metadata": {
        "id": "Qly_zscIlKJS"
      },
      "source": [
        "## 2. A Little bit of code\n",
        "\n",
        "Create a new cell in your notebook with the '+ Code' button in the toolbar (or one of the keyboard shortcuts from the previous question).  If you have this lab worksheet open in Colab, you don't even need to create a new notebook - you can work right here.\n",
        "\n",
        "We're going to try two simple Python commands: setting a variable, and splitting it by whitespace. In the process, we'll encounter two types of data that Python can hold: a string, and a list.\n",
        "\n",
        "Add the following code to the cell and 'run' it. If it runs properly, it should look like below, with the 'In' and 'Out' information."
      ]
    },
    {
      "cell_type": "code",
      "execution_count": null,
      "metadata": {
        "colab": {
          "base_uri": "https://localhost:8080/",
          "height": 35
        },
        "id": "Idf13t0clKJV",
        "outputId": "c2230c28-f9db-4ace-ed7e-33c404ee7144"
      },
      "outputs": [
        {
          "data": {
            "application/vnd.google.colaboratory.intrinsic+json": {
              "type": "string"
            },
            "text/plain": [
              "'Hello world.'"
            ]
          },
          "execution_count": 1,
          "metadata": {},
          "output_type": "execute_result"
        }
      ],
      "source": [
        "sentence = \"Hello world.\"\n",
        "sentence"
      ]
    },
    {
      "cell_type": "markdown",
      "metadata": {
        "id": "EqkvHexGlKJc"
      },
      "source": [
        "Here, we set a string to a variable, then we called that variable.\n",
        "\n",
        "When we say `x = y`, the *left side* is a variable name. Variables hold any manner of information , letting you to refer back to it. The *right side* is what you're setting the vaiable to. In our case, we said, 'Take a string that says \"Hello World\", and save that string to a variable named `sentence`.\n",
        "\n",
        "In Colab, the value of the information on the last line of your cell is printed out, if it's not being set to any variable.\n",
        "\n",
        "_Questions_\n",
        "- 5) How does the computer tell the difference between a variable and a string?\n",
        "- 6) What output is there if you run the cell without the second line (which simply says `sentence`)?\n",
        "- 7) Try to change the code to better understand setting variables. Try changing the string text or the variable name. Can you use 'single quotes' instead of \"double quotes\"? Can a variable name have a space in it?\n",
        "\n",
        "A string is a type of data in Python. By setting it to the variable `sentence`, everywhere you use `sentence` is the exact same as simply writing `\"Hello world.\"` Consider the following examples, or even try them out, which show that the way of joining two strings works the same with a variable or directly with a string:"
      ]
    },
    {
      "cell_type": "code",
      "execution_count": null,
      "metadata": {
        "colab": {
          "base_uri": "https://localhost:8080/",
          "height": 35
        },
        "id": "3RKyaDXjlKJf",
        "outputId": "973b158b-db6a-4bc1-905d-e45c4fc36c81"
      },
      "outputs": [
        {
          "data": {
            "text/plain": [
              "'Hello world. Hello moon.'"
            ]
          },
          "execution_count": 4,
          "metadata": {
            "tags": []
          },
          "output_type": "execute_result"
        }
      ],
      "source": [
        "\"Hello world.\" + \" Hello moon.\""
      ]
    },
    {
      "cell_type": "code",
      "execution_count": null,
      "metadata": {
        "colab": {
          "base_uri": "https://localhost:8080/",
          "height": 35
        },
        "id": "-jJeMO5WlKJm",
        "outputId": "6300fc2a-a8ae-4b7c-9757-ca600b51421b"
      },
      "outputs": [
        {
          "data": {
            "text/plain": [
              "'Hello world. Hello moon.'"
            ]
          },
          "execution_count": 5,
          "metadata": {
            "tags": []
          },
          "output_type": "execute_result"
        }
      ],
      "source": [
        "sentence + \" Hello moon.\""
      ]
    },
    {
      "cell_type": "code",
      "execution_count": null,
      "metadata": {
        "colab": {
          "base_uri": "https://localhost:8080/",
          "height": 35
        },
        "id": "lFlSGodSlKJr",
        "outputId": "14749336-1115-40ad-dd75-5d4fc4c72112"
      },
      "outputs": [
        {
          "data": {
            "text/plain": [
              "'Hello world.Hello world.'"
            ]
          },
          "execution_count": 3,
          "metadata": {
            "tags": []
          },
          "output_type": "execute_result"
        }
      ],
      "source": [
        "sentence + sentence"
      ]
    },
    {
      "cell_type": "markdown",
      "metadata": {
        "id": "DORQL0WblKJ0"
      },
      "source": [
        "We can even see the datatype of a variable with `type()`:"
      ]
    },
    {
      "cell_type": "code",
      "execution_count": null,
      "metadata": {
        "colab": {
          "base_uri": "https://localhost:8080/",
          "height": 35
        },
        "id": "H9kOkrvnlKJ1",
        "outputId": "6497611b-9c43-42b5-eea2-38c97d108ef7",
        "scrolled": true
      },
      "outputs": [
        {
          "data": {
            "text/plain": [
              "str"
            ]
          },
          "execution_count": 2,
          "metadata": {
            "tags": []
          },
          "output_type": "execute_result"
        }
      ],
      "source": [
        "type(sentence)"
      ]
    },
    {
      "cell_type": "markdown",
      "metadata": {
        "id": "0iHCGxxSlKJ5"
      },
      "source": [
        "If you have a really long string that needs to go across lines, you can use `\\` before the line break to tell Python that _this line of code is not done yet_. Set this famously long sentence from the book _Paul Clifton_ to the variable `paragraph` in your notebook:"
      ]
    },
    {
      "cell_type": "code",
      "execution_count": null,
      "metadata": {
        "colab": {
          "base_uri": "https://localhost:8080/",
          "height": 55
        },
        "id": "hjkrJiaKlKJ6",
        "outputId": "8a9feba6-91f2-4f44-daec-7f5a8c2c9860"
      },
      "outputs": [
        {
          "data": {
            "text/plain": [
              "'It was a dark and stormy night; the rain fell in torrents — except at occasional intervals, when it was checked by a violent gust of wind which swept up the streets (for it is in London that our scene lies), rattling along the housetops, and fiercely agitating the scanty flame of the lamps that struggled against the darkness.'"
            ]
          },
          "execution_count": 10,
          "metadata": {
            "tags": []
          },
          "output_type": "execute_result"
        }
      ],
      "source": [
        "paragraph = \"It was a dark and stormy night; the rain fell in torrents — \" + \\\n",
        "            \"except at occasional intervals, when it was checked by a \" + \\\n",
        "            \"violent gust of wind which swept up the streets (for it is in \" + \\\n",
        "            \"London that our scene lies), rattling along the housetops, \" + \\\n",
        "            \"and fiercely agitating the scanty flame of the lamps that \" + \\\n",
        "            \"struggled against the darkness.\"\n",
        "paragraph"
      ]
    },
    {
      "cell_type": "markdown",
      "metadata": {
        "id": "MKb9-8bulKJ-"
      },
      "source": [
        "_Questions_ \n",
        "- 8) For the code block above, \n",
        "  - a) Are the indents necessary for the code to run?\n",
        "  - b) Are the pluses (+) necessary for the code to run?\n",
        "  - c) Are the backslashes (\\\\) necessary for the code to run?\n",
        "  \n",
        "_tinker with the code and re-run as necessary_"
      ]
    },
    {
      "cell_type": "markdown",
      "metadata": {
        "id": "WV1NLNFZlKJ_"
      },
      "source": [
        "Another important datatype in Python is the `list`. This is a way to hold multiple things together: strings, numbers, etc. For example:"
      ]
    },
    {
      "cell_type": "code",
      "execution_count": null,
      "metadata": {
        "colab": {
          "base_uri": "https://localhost:8080/",
          "height": 35
        },
        "id": "ihXECERClKKB",
        "outputId": "1e03ecbc-4561-43ab-9f4c-a303235e48ba"
      },
      "outputs": [
        {
          "data": {
            "text/plain": [
              "['Never', 'gonna', 'give', 'you', 'up']"
            ]
          },
          "execution_count": 11,
          "metadata": {
            "tags": []
          },
          "output_type": "execute_result"
        }
      ],
      "source": [
        "list_of_strings = [\"Never\", \"gonna\", \"give\", \"you\", \"up\"]\n",
        "list_of_strings"
      ]
    },
    {
      "cell_type": "code",
      "execution_count": null,
      "metadata": {
        "colab": {
          "base_uri": "https://localhost:8080/",
          "height": 35
        },
        "id": "vHwFupwXlKKI",
        "outputId": "a60dac07-1f60-4865-e8b9-89e9cca18ac2",
        "scrolled": true
      },
      "outputs": [
        {
          "data": {
            "text/plain": [
              "[4, 8, 15, 16, 23, 42]"
            ]
          },
          "execution_count": 12,
          "metadata": {
            "tags": []
          },
          "output_type": "execute_result"
        }
      ],
      "source": [
        "list_of_numbers = [ 4, 8, 15, 16, 23, 42]\n",
        "list_of_numbers"
      ]
    },
    {
      "cell_type": "markdown",
      "metadata": {
        "id": "fLyDipwSlKKN"
      },
      "source": [
        "Individual objects from a list can be retrieved using a square bracket referencing the place in the list (starting with 0):"
      ]
    },
    {
      "cell_type": "code",
      "execution_count": null,
      "metadata": {
        "colab": {
          "base_uri": "https://localhost:8080/",
          "height": 35
        },
        "id": "Xk6UQ5EXlKKO",
        "outputId": "4e5b890e-7b83-4e28-899f-5fbbfc0f3cf4"
      },
      "outputs": [
        {
          "data": {
            "text/plain": [
              "'Never'"
            ]
          },
          "execution_count": 13,
          "metadata": {
            "tags": []
          },
          "output_type": "execute_result"
        }
      ],
      "source": [
        "list_of_strings[0]"
      ]
    },
    {
      "cell_type": "code",
      "execution_count": null,
      "metadata": {
        "colab": {
          "base_uri": "https://localhost:8080/",
          "height": 35
        },
        "id": "GreKwRCKlKKS",
        "outputId": "76e1c626-faea-4745-854d-9b56d9a7acef"
      },
      "outputs": [
        {
          "data": {
            "text/plain": [
              "8"
            ]
          },
          "execution_count": 14,
          "metadata": {
            "tags": []
          },
          "output_type": "execute_result"
        }
      ],
      "source": [
        "list_of_numbers[1]"
      ]
    },
    {
      "cell_type": "markdown",
      "metadata": {
        "id": "rsZBZNgclKKa"
      },
      "source": [
        "You can select a list range by specify two numbers in the square brackets with a colon in-between:"
      ]
    },
    {
      "cell_type": "code",
      "execution_count": null,
      "metadata": {
        "colab": {
          "base_uri": "https://localhost:8080/",
          "height": 35
        },
        "id": "qzR9yO23lKKb",
        "outputId": "0dde8f3e-fc14-42f3-e58a-ccff283b13bb"
      },
      "outputs": [
        {
          "data": {
            "text/plain": [
              "['gonna', 'give', 'you']"
            ]
          },
          "execution_count": 15,
          "metadata": {
            "tags": []
          },
          "output_type": "execute_result"
        }
      ],
      "source": [
        "list_of_strings[1:4]"
      ]
    },
    {
      "cell_type": "markdown",
      "metadata": {
        "id": "GnxoggSvlKKh"
      },
      "source": [
        "Using the colon without a number means _from the very start_ or _until the very end_:"
      ]
    },
    {
      "cell_type": "code",
      "execution_count": null,
      "metadata": {
        "colab": {
          "base_uri": "https://localhost:8080/",
          "height": 35
        },
        "id": "FfFoGBqclKKq",
        "outputId": "671dff13-422e-47e5-961e-f1a70c346d41"
      },
      "outputs": [
        {
          "data": {
            "text/plain": [
              "['Never', 'gonna', 'give', 'you']"
            ]
          },
          "execution_count": 16,
          "metadata": {
            "tags": []
          },
          "output_type": "execute_result"
        }
      ],
      "source": [
        "list_of_strings[:4]"
      ]
    },
    {
      "cell_type": "code",
      "execution_count": null,
      "metadata": {
        "colab": {
          "base_uri": "https://localhost:8080/",
          "height": 35
        },
        "id": "dGpp5mqHlKKt",
        "outputId": "e83da3ef-c886-4174-a5d0-8713bc099a26"
      },
      "outputs": [
        {
          "data": {
            "text/plain": [
              "['gonna', 'give', 'you', 'up']"
            ]
          },
          "execution_count": 17,
          "metadata": {
            "tags": []
          },
          "output_type": "execute_result"
        }
      ],
      "source": [
        "list_of_strings[1:]"
      ]
    },
    {
      "cell_type": "markdown",
      "metadata": {
        "id": "4rAVnNWRlKKw"
      },
      "source": [
        "You can add to a list with `list.append()`:"
      ]
    },
    {
      "cell_type": "code",
      "execution_count": null,
      "metadata": {
        "colab": {
          "base_uri": "https://localhost:8080/",
          "height": 35
        },
        "id": "tGg0GUg9lKKx",
        "outputId": "7149cd2e-1e47-4f8b-f7e6-4ad8b96c3102"
      },
      "outputs": [
        {
          "data": {
            "text/plain": [
              "['Never', 'gonna', 'give', 'you', 'up', 'Word']"
            ]
          },
          "execution_count": 18,
          "metadata": {
            "tags": []
          },
          "output_type": "execute_result"
        }
      ],
      "source": [
        "list_of_strings.append(\"Word\")\n",
        "list_of_strings"
      ]
    },
    {
      "cell_type": "markdown",
      "metadata": {
        "id": "MXImtzV1lKK1"
      },
      "source": [
        "_Questions_\n",
        "\n",
        "- 9) Can a list have a mix of numbers and strings?\n",
        "- 10) We joined strings with '+'. What happens if you try to use '+' on two lists?"
      ]
    },
    {
      "cell_type": "markdown",
      "metadata": {
        "id": "AEeBcapxcfxs"
      },
      "source": [
        "That's it! Try saving your notebook in your Google Drive with `Ctrl-S`. If you're having trouble, ask your classmates."
      ]
    },
    {
      "cell_type": "code",
      "execution_count": null,
      "metadata": {
        "id": "hcS4f39IQi6F"
      },
      "outputs": [],
      "source": []
    }
  ],
  "metadata": {
    "celltoolbar": "Slideshow",
    "colab": {
      "name": "01 - Getting Started.ipynb",
      "provenance": [],
      "toc_visible": true
    },
    "kernelspec": {
      "display_name": "Python 3",
      "language": "python",
      "name": "python3"
    },
    "language_info": {
      "codemirror_mode": {
        "name": "ipython",
        "version": 3
      },
      "file_extension": ".py",
      "mimetype": "text/x-python",
      "name": "python",
      "nbconvert_exporter": "python",
      "pygments_lexer": "ipython3",
      "version": "3.6.8"
    }
  },
  "nbformat": 4,
  "nbformat_minor": 0
}
