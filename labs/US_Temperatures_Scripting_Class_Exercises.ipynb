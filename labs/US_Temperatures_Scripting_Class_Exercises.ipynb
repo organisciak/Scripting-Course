{
  "nbformat": 4,
  "nbformat_minor": 0,
  "metadata": {
    "colab": {
      "name": "US Temperatures - Scripting Class Exercises",
      "provenance": [],
      "authorship_tag": "ABX9TyPdEPHpsBaRjFmOflu0PRlj",
      "include_colab_link": true
    },
    "kernelspec": {
      "name": "python3",
      "display_name": "Python 3"
    },
    "language_info": {
      "name": "python"
    }
  },
  "cells": [
    {
      "cell_type": "markdown",
      "metadata": {
        "id": "view-in-github",
        "colab_type": "text"
      },
      "source": [
        "<a href=\"https://colab.research.google.com/github/organisciak/Scripting-Course/blob/master/labs/US_Temperatures_Scripting_Class_Exercises.ipynb\" target=\"_parent\"><img src=\"https://colab.research.google.com/assets/colab-badge.svg\" alt=\"Open In Colab\"/></a>"
      ]
    },
    {
      "cell_type": "markdown",
      "metadata": {
        "id": "TItY37KekUQX"
      },
      "source": [
        "# Group Activity: Exploring US Average Temperatures\n",
        "\n",
        "In groups of two or three, you'll work with a dataset of average daily temperatures in major US cities since 1995.\n",
        "\n",
        "## Step 1: Set up\n",
        "\n",
        "You'll be working with a classmate on the same notebook. One group member should copy this notebook, then use the 'Share' button to invite other group members: either directly or by sharing a link.\n",
        "\n",
        "## Step 2: Loading the dataset\n",
        "\n",
        "The data is at `https://github.com/organisciak/Scripting-Course/blob/master/data/us-temps.csv.gz?raw=true`.\n",
        "\n",
        "Load it to a variable called `temps`. Note the file name, `us-temps.csv.gz` - it is in `csv` format, but *compressed* with gzip compression to keep the file size small. How do you tell Pandas to decompress it? (This isn't a 'refer to slides' question, it's a 'read the docs or go online' question)."
      ]
    },
    {
      "cell_type": "code",
      "metadata": {
        "id": "2yVzWwSAkOd7"
      },
      "source": [
        "import pandas as pd"
      ],
      "execution_count": null,
      "outputs": []
    },
    {
      "cell_type": "markdown",
      "metadata": {
        "id": "g8qTdrRXl_0j"
      },
      "source": [
        "If your data works correctly, it will look like this:"
      ]
    },
    {
      "cell_type": "code",
      "metadata": {
        "colab": {
          "base_uri": "https://localhost:8080/",
          "height": 195
        },
        "id": "IaykP_rPkTld",
        "outputId": "e1d642a8-0ce9-4a16-9e20-01289d43a086"
      },
      "source": [
        "temps.head()"
      ],
      "execution_count": null,
      "outputs": [
        {
          "output_type": "execute_result",
          "data": {
            "text/html": [
              "<div>\n",
              "<style scoped>\n",
              "    .dataframe tbody tr th:only-of-type {\n",
              "        vertical-align: middle;\n",
              "    }\n",
              "\n",
              "    .dataframe tbody tr th {\n",
              "        vertical-align: top;\n",
              "    }\n",
              "\n",
              "    .dataframe thead th {\n",
              "        text-align: right;\n",
              "    }\n",
              "</style>\n",
              "<table border=\"1\" class=\"dataframe\">\n",
              "  <thead>\n",
              "    <tr style=\"text-align: right;\">\n",
              "      <th></th>\n",
              "      <th>State</th>\n",
              "      <th>City</th>\n",
              "      <th>Month</th>\n",
              "      <th>Day</th>\n",
              "      <th>Year</th>\n",
              "      <th>AvgTemperature</th>\n",
              "    </tr>\n",
              "  </thead>\n",
              "  <tbody>\n",
              "    <tr>\n",
              "      <th>0</th>\n",
              "      <td>Alabama</td>\n",
              "      <td>Birmingham</td>\n",
              "      <td>1</td>\n",
              "      <td>1</td>\n",
              "      <td>1995</td>\n",
              "      <td>50.7</td>\n",
              "    </tr>\n",
              "    <tr>\n",
              "      <th>1</th>\n",
              "      <td>Alabama</td>\n",
              "      <td>Birmingham</td>\n",
              "      <td>1</td>\n",
              "      <td>2</td>\n",
              "      <td>1995</td>\n",
              "      <td>37.2</td>\n",
              "    </tr>\n",
              "    <tr>\n",
              "      <th>2</th>\n",
              "      <td>Alabama</td>\n",
              "      <td>Birmingham</td>\n",
              "      <td>1</td>\n",
              "      <td>3</td>\n",
              "      <td>1995</td>\n",
              "      <td>33.2</td>\n",
              "    </tr>\n",
              "    <tr>\n",
              "      <th>3</th>\n",
              "      <td>Alabama</td>\n",
              "      <td>Birmingham</td>\n",
              "      <td>1</td>\n",
              "      <td>4</td>\n",
              "      <td>1995</td>\n",
              "      <td>33.3</td>\n",
              "    </tr>\n",
              "    <tr>\n",
              "      <th>4</th>\n",
              "      <td>Alabama</td>\n",
              "      <td>Birmingham</td>\n",
              "      <td>1</td>\n",
              "      <td>5</td>\n",
              "      <td>1995</td>\n",
              "      <td>26.4</td>\n",
              "    </tr>\n",
              "  </tbody>\n",
              "</table>\n",
              "</div>"
            ],
            "text/plain": [
              "     State        City  Month  Day  Year  AvgTemperature\n",
              "0  Alabama  Birmingham      1    1  1995            50.7\n",
              "1  Alabama  Birmingham      1    2  1995            37.2\n",
              "2  Alabama  Birmingham      1    3  1995            33.2\n",
              "3  Alabama  Birmingham      1    4  1995            33.3\n",
              "4  Alabama  Birmingham      1    5  1995            26.4"
            ]
          },
          "metadata": {
            "tags": []
          },
          "execution_count": 6
        }
      ]
    },
    {
      "cell_type": "markdown",
      "metadata": {
        "id": "-pfI9sBtzfkT"
      },
      "source": [
        "## Step 3: Data Cleaning\n",
        "\n",
        "Days with missing data have an average temperature of -99. Updates your `temps` variable to exclude those."
      ]
    },
    {
      "cell_type": "markdown",
      "metadata": {
        "id": "V5-aG0pdnIhC"
      },
      "source": [
        "## Step 4: Answering questions from the data. You need the code to answer these questions.\n",
        "\n",
        "1pt questions:\n",
        "- What unique cities are represented in the dataset?\n",
        "- How do you get a subset focused just on Denver?\n",
        "- Which cities in Colorado are represented?\n",
        "- What was the overall mean temperature in 2010, across all cities and months of that year?\n",
        "\n",
        "2pt questions:\n",
        "- Which state has the most cities represented?\n",
        "- What's the hottest year on record?\n",
        "- Plot average temperatures by year.\n",
        "- Which year had the most fluctuations in temperature (i.e. standard deviation)?\n",
        "- How do you get per city annual averages?\n",
        "- How do you get the minimum recorded full-day temperature per state?\n",
        "\n",
        "3pt questions:\n",
        "- Plot the average monthly temperatures in Denver.\n",
        "- Which state as the least deviation in temperature through a year? Which three states have the most? (Tip: you have multiple years of data, so get the answer per year, then get the average across years)\n",
        "\n",
        "4pt questions:\n",
        "- Which date in Denver was the coldest compared to what that day of the year usually is? (tip: you can use joins to combine actual temperatures to avg temperatures)\n",
        "- Which month, usually has the greatest change between the first day and 28th day of the month? (Why 28th? Easier than 'last day')\n",
        "- Plot the average monthly temperatures for the four cities in CO as a grouped bar chart, as shown below. (tip: this is a reshaping question more than a viz question! A grouped bar chart plots multiple columns...)"
      ]
    },
    {
      "cell_type": "code",
      "metadata": {
        "colab": {
          "base_uri": "https://localhost:8080/",
          "height": 299
        },
        "id": "cN24hSVI-7ai",
        "outputId": "f9df9ed3-dd19-4f4e-e7c6-67d4da69d7ba"
      },
      "source": [
        "# Example of viz, with original code deleted :)"
      ],
      "execution_count": null,
      "outputs": [
        {
          "output_type": "execute_result",
          "data": {
            "text/plain": [
              "<matplotlib.axes._subplots.AxesSubplot at 0x7f78e181add0>"
            ]
          },
          "metadata": {
            "tags": []
          },
          "execution_count": 108
        },
        {
          "output_type": "display_data",
          "data": {
            "image/png": "[encoded data removed]",
            "text/plain": [
              "<Figure size 432x288 with 1 Axes>"
            ]
          },
          "metadata": {
            "tags": [],
            "needs_background": "light"
          }
        }
      ]
    },
    {
      "cell_type": "markdown",
      "metadata": {
        "id": "7pa7q-poBfwS"
      },
      "source": [
        "\n",
        "5pt questions:\n",
        "- Which city has the highest flunctuation in annual temperatures across four years? (this uses rolling standard deviations combined with groupby!)\n",
        "- Which month in which city has the greatest change between the first and last day of the month? "
      ]
    },
    {
      "cell_type": "markdown",
      "metadata": {
        "id": "a8dWpgPc8hb_"
      },
      "source": [
        "## Reminder of skills:\n",
        "\n",
        "On a Series (also a column of a DataFrame)\n",
        "- `s.unique()` returns unique values\n",
        "- `s.value_counts()` counts each unique value and sorts descending\n",
        "- `s.rolling(window).function()` where `window` is a number specifying how many values go into the rolling window and `function` is what you want to apply on a rolling basis (e.g. `mean`, `median`, `std`, etc.)\n",
        "\n",
        "On a DataFrame:\n",
        "- `df.drop_duplicates()` to remove duplicate columns.\n",
        "- `df.sort_values('columnName')` to sort a DataFrame by a column.\n",
        "    - `df.sort_values('columnName', ascending=False)` to sort a DataFrame by a column is descending order.\n",
        "- `groupby(['list', 'of', 'columns']).function()` - for split apply combine, where `function` is what you're applying (e.g. `mean`, `std`, `min`, `max`, `median`)\n",
        "    - `groupby(['list', 'of', 'columns'], as_index=False)` to *not* make the grouping columns into an index. (This is useful if you want to do a join later)\n",
        "    - `groupby(['list', 'of', 'columns'])[['columnNames']].function()` if you want to Apply just on a column or a few\n",
        "- `left.merge(right, on='column_name')` to do a join (by default, an inner join)\n",
        "- `df.plot()` to plot.\n",
        "    - `df.plot(kind='plot_type')` where `plot_type` is `bar`, `hist`, `scatter`, etc.\n",
        "    - `df.plot(x='column1', y='column2')` to bind values to axes."
      ]
    },
    {
      "cell_type": "code",
      "metadata": {
        "colab": {
          "base_uri": "https://localhost:8080/",
          "height": 452
        },
        "id": "Ye3flA_oAuMn",
        "outputId": "0353c3f2-5b43-4f46-c93a-0cf3eb5db535"
      },
      "source": [
        "wide"
      ],
      "execution_count": null,
      "outputs": [
        {
          "output_type": "execute_result",
          "data": {
            "text/html": [
              "<div>\n",
              "<style scoped>\n",
              "    .dataframe tbody tr th:only-of-type {\n",
              "        vertical-align: middle;\n",
              "    }\n",
              "\n",
              "    .dataframe tbody tr th {\n",
              "        vertical-align: top;\n",
              "    }\n",
              "\n",
              "    .dataframe thead th {\n",
              "        text-align: right;\n",
              "    }\n",
              "</style>\n",
              "<table border=\"1\" class=\"dataframe\">\n",
              "  <thead>\n",
              "    <tr style=\"text-align: right;\">\n",
              "      <th>City</th>\n",
              "      <th>Colorado Springs</th>\n",
              "      <th>Denver</th>\n",
              "      <th>Grand Junction</th>\n",
              "      <th>Pueblo</th>\n",
              "    </tr>\n",
              "    <tr>\n",
              "      <th>Month</th>\n",
              "      <th></th>\n",
              "      <th></th>\n",
              "      <th></th>\n",
              "      <th></th>\n",
              "    </tr>\n",
              "  </thead>\n",
              "  <tbody>\n",
              "    <tr>\n",
              "      <th>1</th>\n",
              "      <td>31.464472</td>\n",
              "      <td>31.422768</td>\n",
              "      <td>27.603975</td>\n",
              "      <td>31.188944</td>\n",
              "    </tr>\n",
              "    <tr>\n",
              "      <th>2</th>\n",
              "      <td>32.655252</td>\n",
              "      <td>32.152401</td>\n",
              "      <td>34.756871</td>\n",
              "      <td>34.205450</td>\n",
              "    </tr>\n",
              "    <tr>\n",
              "      <th>3</th>\n",
              "      <td>40.508075</td>\n",
              "      <td>41.021491</td>\n",
              "      <td>44.758882</td>\n",
              "      <td>43.516398</td>\n",
              "    </tr>\n",
              "    <tr>\n",
              "      <th>4</th>\n",
              "      <td>46.994737</td>\n",
              "      <td>47.380873</td>\n",
              "      <td>52.184211</td>\n",
              "      <td>51.238126</td>\n",
              "    </tr>\n",
              "    <tr>\n",
              "      <th>5</th>\n",
              "      <td>56.057614</td>\n",
              "      <td>56.368274</td>\n",
              "      <td>62.286023</td>\n",
              "      <td>60.895305</td>\n",
              "    </tr>\n",
              "    <tr>\n",
              "      <th>6</th>\n",
              "      <td>66.790214</td>\n",
              "      <td>67.735925</td>\n",
              "      <td>73.876944</td>\n",
              "      <td>71.771582</td>\n",
              "    </tr>\n",
              "    <tr>\n",
              "      <th>7</th>\n",
              "      <td>71.672258</td>\n",
              "      <td>74.408387</td>\n",
              "      <td>79.774065</td>\n",
              "      <td>76.909161</td>\n",
              "    </tr>\n",
              "    <tr>\n",
              "      <th>8</th>\n",
              "      <td>69.016279</td>\n",
              "      <td>71.924935</td>\n",
              "      <td>76.266537</td>\n",
              "      <td>74.029457</td>\n",
              "    </tr>\n",
              "    <tr>\n",
              "      <th>9</th>\n",
              "      <td>62.463770</td>\n",
              "      <td>64.050401</td>\n",
              "      <td>67.168182</td>\n",
              "      <td>66.521658</td>\n",
              "    </tr>\n",
              "    <tr>\n",
              "      <th>10</th>\n",
              "      <td>49.995484</td>\n",
              "      <td>50.603742</td>\n",
              "      <td>52.875613</td>\n",
              "      <td>52.490968</td>\n",
              "    </tr>\n",
              "    <tr>\n",
              "      <th>11</th>\n",
              "      <td>39.420267</td>\n",
              "      <td>39.622000</td>\n",
              "      <td>39.623733</td>\n",
              "      <td>40.044933</td>\n",
              "    </tr>\n",
              "    <tr>\n",
              "      <th>12</th>\n",
              "      <td>30.854793</td>\n",
              "      <td>30.648249</td>\n",
              "      <td>28.302853</td>\n",
              "      <td>30.585733</td>\n",
              "    </tr>\n",
              "  </tbody>\n",
              "</table>\n",
              "</div>"
            ],
            "text/plain": [
              "City   Colorado Springs     Denver  Grand Junction     Pueblo\n",
              "Month                                                        \n",
              "1             31.464472  31.422768       27.603975  31.188944\n",
              "2             32.655252  32.152401       34.756871  34.205450\n",
              "3             40.508075  41.021491       44.758882  43.516398\n",
              "4             46.994737  47.380873       52.184211  51.238126\n",
              "5             56.057614  56.368274       62.286023  60.895305\n",
              "6             66.790214  67.735925       73.876944  71.771582\n",
              "7             71.672258  74.408387       79.774065  76.909161\n",
              "8             69.016279  71.924935       76.266537  74.029457\n",
              "9             62.463770  64.050401       67.168182  66.521658\n",
              "10            49.995484  50.603742       52.875613  52.490968\n",
              "11            39.420267  39.622000       39.623733  40.044933\n",
              "12            30.854793  30.648249       28.302853  30.585733"
            ]
          },
          "metadata": {
            "tags": []
          },
          "execution_count": 107
        }
      ]
    }
  ]
}