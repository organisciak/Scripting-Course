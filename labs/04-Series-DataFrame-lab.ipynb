{
  "cells": [
    {
      "cell_type": "markdown",
      "metadata": {
        "id": "view-in-github",
        "colab_type": "text"
      },
      "source": [
        "<a href=\"https://colab.research.google.com/github/organisciak/Scripting-Course/blob/master/labs/04-Series-DataFrame-lab.ipynb\" target=\"_parent\"><img src=\"https://colab.research.google.com/assets/colab-badge.svg\" alt=\"Open In Colab\"/></a>"
      ]
    },
    {
      "cell_type": "markdown",
      "metadata": {
        "id": "lWgptgCW9m4P"
      },
      "source": [
        "## Lab Worksheet 4: Series and DataFrame\n",
        "\n",
        "*Reminder - save your work. Go to* File > Save a Copy in Drive *to ensure that you have your work saved.*"
      ]
    },
    {
      "cell_type": "code",
      "execution_count": 1,
      "metadata": {
        "cellView": "form",
        "colab": {
          "base_uri": "https://localhost:8080/"
        },
        "id": "3y4itQPWLIdP",
        "outputId": "80b49196-2575-4d7f-b7ff-a4e6b5cd7176"
      },
      "outputs": [
        {
          "output_type": "stream",
          "name": "stdout",
          "text": [
            "  Preparing metadata (setup.py) ... \u001b[?25l\u001b[?25hdone\n",
            "\u001b[2K     \u001b[90m━━━━━━━━━━━━━━━━━━━━━━━━━━━━━━━━━━━━━━━━\u001b[0m \u001b[32m1.6/1.6 MB\u001b[0m \u001b[31m14.9 MB/s\u001b[0m eta \u001b[36m0:00:00\u001b[0m\n",
            "\u001b[?25h  Building wheel for scripting-grading (setup.py) ... \u001b[?25l\u001b[?25hdone\n"
          ]
        }
      ],
      "source": [
        "#@markdown *Lab Checking Code*: This lab has some answers provided - run this code to download them.\n",
        "!python -m pip install -qq git+https://github.com/organisciak/Scripting-Course-Grading.git@master\n",
        "from scripting_grading import grading, lab4\n",
        "import pandas as pd"
      ]
    },
    {
      "cell_type": "code",
      "execution_count": 2,
      "metadata": {
        "id": "IfCZFqSD9m4R"
      },
      "outputs": [],
      "source": [
        "import pandas as pd"
      ]
    },
    {
      "cell_type": "markdown",
      "metadata": {
        "id": "Z7JIHob09m4V"
      },
      "source": [
        "Create a Series with the following code:"
      ]
    },
    {
      "cell_type": "code",
      "execution_count": 5,
      "metadata": {
        "id": "cbsMluBf9m4W"
      },
      "outputs": [],
      "source": [
        "titles = ['Dumb and Dumber To', 'Alien 3', 'Moonraker', 'Shall We Dance', 'Top Gun', 'Quantum of Solace', 'Wild Hogs', 'Apollo 13', 'Cloudy with a Chance of Meatballs 2', 'Hook', \"Bridget Jones's Diary\", 'Sense and Sensibility', 'Save the Last Dance', 'Finding Neverland', 'Life Is Beautiful', 'Les Miserables (2012)', 'Memoirs of a Geisha', 'Raiders of the Lost Ark (IMAX)', \"A Knight's Tale\", 'Where the Wild Things Are', 'Donnie Brasco', 'Star Trek', 'Dances with Wolves', 'Total Recall (2012)', 'Alexander', 'Sister Act', 'X-Men:First Class', 'My Big Fat Greek Wedding', 'Red', 'Shark Tale']\n",
        "boxoffice = [169837010, 159814498, 210308099, 170128460, 356830601, 586090727, 253625427, 355237933, 274325949, 300854823, 281929795, 134582776, 131706809, 116766556, 229163264, 441809770, 162242962, 248159971, 117487473, 100086793, 124909762, 385680446, 424208848, 198467168, 167298192, 231605150, 353624124, 368744044, 199006387, 367275019]\n",
        "bodf = pd.Series(boxoffice, index=titles)"
      ]
    },
    {
      "cell_type": "markdown",
      "metadata": {
        "id": "_DNFseMW9m4a"
      },
      "source": [
        "`bodf` is a Series with 30 box office takes, with the movie names as the index."
      ]
    },
    {
      "cell_type": "code",
      "execution_count": 6,
      "metadata": {
        "colab": {
          "base_uri": "https://localhost:8080/"
        },
        "id": "B0Hgd7Es9m4a",
        "outputId": "dac51c60-138f-4ba0-b78c-5596e244c6b2"
      },
      "outputs": [
        {
          "output_type": "execute_result",
          "data": {
            "text/plain": [
              "Dumb and Dumber To                     169837010\n",
              "Alien 3                                159814498\n",
              "Moonraker                              210308099\n",
              "Shall We Dance                         170128460\n",
              "Top Gun                                356830601\n",
              "Quantum of Solace                      586090727\n",
              "Wild Hogs                              253625427\n",
              "Apollo 13                              355237933\n",
              "Cloudy with a Chance of Meatballs 2    274325949\n",
              "Hook                                   300854823\n",
              "Bridget Jones's Diary                  281929795\n",
              "Sense and Sensibility                  134582776\n",
              "Save the Last Dance                    131706809\n",
              "Finding Neverland                      116766556\n",
              "Life Is Beautiful                      229163264\n",
              "Les Miserables (2012)                  441809770\n",
              "Memoirs of a Geisha                    162242962\n",
              "Raiders of the Lost Ark (IMAX)         248159971\n",
              "A Knight's Tale                        117487473\n",
              "Where the Wild Things Are              100086793\n",
              "Donnie Brasco                          124909762\n",
              "Star Trek                              385680446\n",
              "Dances with Wolves                     424208848\n",
              "Total Recall (2012)                    198467168\n",
              "Alexander                              167298192\n",
              "Sister Act                             231605150\n",
              "X-Men:First Class                      353624124\n",
              "My Big Fat Greek Wedding               368744044\n",
              "Red                                    199006387\n",
              "Shark Tale                             367275019\n",
              "dtype: int64"
            ]
          },
          "metadata": {},
          "execution_count": 6
        }
      ],
      "source": [
        "bodf"
      ]
    },
    {
      "cell_type": "markdown",
      "metadata": {
        "id": "pyDJPsgg9m4e"
      },
      "source": [
        "**Questions**\n",
        "\n",
        "- **Q1**: (*4pts*): Write the code to return the first 7 rows of `bodf`. (Make sure the cell output prints the rows.)"
      ]
    },
    {
      "cell_type": "code",
      "execution_count": null,
      "metadata": {
        "id": "n8DEceB2-pH7"
      },
      "outputs": [],
      "source": [
        "# Answer-Q1\n"
      ]
    },
    {
      "cell_type": "code",
      "execution_count": 9,
      "metadata": {
        "cellView": "form",
        "id": "5GIfrfVtLRkJ",
        "outputId": "96014f6e-7151-4aad-ab34-e4f8a0f88c50",
        "colab": {
          "base_uri": "https://localhost:8080/"
        }
      },
      "outputs": [
        {
          "output_type": "execute_result",
          "data": {
            "text/plain": [
              "Dumb and Dumber To    169837010\n",
              "Alien 3               159814498\n",
              "Moonraker             210308099\n",
              "Shall We Dance        170128460\n",
              "Top Gun               356830601\n",
              "Quantum of Solace     586090727\n",
              "Wild Hogs             253625427\n",
              "dtype: int64"
            ]
          },
          "metadata": {},
          "execution_count": 9
        }
      ],
      "source": [
        "#@markdown *Check your work - run this cell to see expected Q1 output and compare to what you have.*\n",
        "lab4.L4_Q1_Answers().show_output()"
      ]
    },
    {
      "cell_type": "code",
      "execution_count": 14,
      "metadata": {
        "cellView": "form",
        "id": "A_JyAxwl_iWS"
      },
      "outputs": [],
      "source": [
        "#@markdown - **Q2**: (*4pts*) What is the average box office take in the full sample of films, to the nearest dollar?\n",
        "q2_answer = \"\" #@param [\"\", 254060295, 230384207, 248159971]\n",
        "\n"
      ]
    },
    {
      "cell_type": "markdown",
      "metadata": {
        "id": "lZlISpzS-8_9"
      },
      "source": [
        "- **Q3** (*4pts*) Write the code to return just the movies that have made more than $250m."
      ]
    },
    {
      "cell_type": "code",
      "execution_count": 17,
      "metadata": {
        "id": "HX8tU8PT-0Xq"
      },
      "outputs": [],
      "source": [
        "# Answer-Q3\n"
      ]
    },
    {
      "cell_type": "code",
      "execution_count": null,
      "metadata": {
        "cellView": "form",
        "id": "VrLk7-fSLi-H"
      },
      "outputs": [],
      "source": [
        "#@markdown *Check your work - run this cell to see expected Q3 output*\n",
        "lab4.L4_Q3_Answers().show_output()"
      ]
    },
    {
      "cell_type": "code",
      "execution_count": 22,
      "metadata": {
        "cellView": "form",
        "id": "91wwz_K0-1pM"
      },
      "outputs": [],
      "source": [
        "#@markdown - **Q4** (*4pts*) What does `bodf.cumsum()` do?\n",
        "q4_answer = \"\" #@param {type: 'string'}\n",
        "\n",
        "#@markdown Tip: remember how we look up documentation from past three weeks."
      ]
    },
    {
      "cell_type": "markdown",
      "metadata": {
        "id": "Lmr-5kuv-_4t"
      },
      "source": [
        "- **Q5** (*4pts*) Write the code to return the Box Office take for *Dances with Wolves*. Remember that case matters, so capitalize the title exactly as seen!"
      ]
    },
    {
      "cell_type": "code",
      "execution_count": 29,
      "metadata": {
        "id": "W590PRGf-217"
      },
      "outputs": [],
      "source": [
        "# Answer-Q5\n"
      ]
    },
    {
      "cell_type": "code",
      "execution_count": null,
      "metadata": {
        "cellView": "form",
        "id": "_9SAnFjoL4yF"
      },
      "outputs": [],
      "source": [
        "#@markdown *Check your work - run this cell to see expected Q5 output*\n",
        "lab4.L4_Q5_Answers.val_answers"
      ]
    },
    {
      "cell_type": "code",
      "execution_count": null,
      "metadata": {
        "cellView": "form",
        "id": "-kMe8uIO-5hl"
      },
      "outputs": [],
      "source": [
        "#@markdown - **Q6** (*4pts*) What SQL clause is comparable to `bodf.sort_values()`?\n",
        "q6_answer = \"\" #@param [\"\", \"WHERE\", \"LIMIT\", \"ORDER BY\"]\n",
        "\n"
      ]
    },
    {
      "cell_type": "markdown",
      "metadata": {
        "id": "aWMPDDZ3_CAE"
      },
      "source": [
        "- **Q7** (*4pts*) Write the code to sort `bodf` in descending order."
      ]
    },
    {
      "cell_type": "code",
      "execution_count": null,
      "metadata": {
        "id": "oCxDMh1kEyFr"
      },
      "outputs": [],
      "source": [
        "# Answer-Q7\n"
      ]
    },
    {
      "cell_type": "markdown",
      "metadata": {
        "id": "41X3RPe79m4f"
      },
      "source": [
        "## DataFrame"
      ]
    },
    {
      "cell_type": "markdown",
      "metadata": {
        "id": "NccJnoR79m4g"
      },
      "source": [
        "Use the following code to read a CSV of fuel economies to a Dataframe."
      ]
    },
    {
      "cell_type": "code",
      "execution_count": 32,
      "metadata": {
        "id": "4HnS7Oqo9m4h"
      },
      "outputs": [],
      "source": [
        "mpg = pd.read_csv('http://vincentarelbundock.github.io/Rdatasets/csv/ggplot2/mpg.csv', index_col=0)\n",
        "# the following line renumbers the index because the original data was peculiar\n",
        "mpg = mpg.reset_index(drop=True)"
      ]
    },
    {
      "cell_type": "markdown",
      "metadata": {
        "id": "tpTHNHVv9m4n"
      },
      "source": [
        "Here's what the data looks like:"
      ]
    },
    {
      "cell_type": "code",
      "execution_count": 33,
      "metadata": {
        "colab": {
          "base_uri": "https://localhost:8080/",
          "height": 206
        },
        "id": "bcQAx7zI9m4n",
        "outputId": "10973652-65f8-4e7e-ee82-ae791e1e71e6"
      },
      "outputs": [
        {
          "output_type": "execute_result",
          "data": {
            "text/plain": [
              "  manufacturer model  displ  year  cyl       trans drv  cty  hwy fl    class\n",
              "0         audi    a4    1.8  1999    4    auto(l5)   f   18   29  p  compact\n",
              "1         audi    a4    1.8  1999    4  manual(m5)   f   21   29  p  compact\n",
              "2         audi    a4    2.0  2008    4  manual(m6)   f   20   31  p  compact\n",
              "3         audi    a4    2.0  2008    4    auto(av)   f   21   30  p  compact\n",
              "4         audi    a4    2.8  1999    6    auto(l5)   f   16   26  p  compact"
            ],
            "text/html": [
              "\n",
              "  <div id=\"df-cd626ef7-8396-4644-903f-709275af8fc5\">\n",
              "    <div class=\"colab-df-container\">\n",
              "      <div>\n",
              "<style scoped>\n",
              "    .dataframe tbody tr th:only-of-type {\n",
              "        vertical-align: middle;\n",
              "    }\n",
              "\n",
              "    .dataframe tbody tr th {\n",
              "        vertical-align: top;\n",
              "    }\n",
              "\n",
              "    .dataframe thead th {\n",
              "        text-align: right;\n",
              "    }\n",
              "</style>\n",
              "<table border=\"1\" class=\"dataframe\">\n",
              "  <thead>\n",
              "    <tr style=\"text-align: right;\">\n",
              "      <th></th>\n",
              "      <th>manufacturer</th>\n",
              "      <th>model</th>\n",
              "      <th>displ</th>\n",
              "      <th>year</th>\n",
              "      <th>cyl</th>\n",
              "      <th>trans</th>\n",
              "      <th>drv</th>\n",
              "      <th>cty</th>\n",
              "      <th>hwy</th>\n",
              "      <th>fl</th>\n",
              "      <th>class</th>\n",
              "    </tr>\n",
              "  </thead>\n",
              "  <tbody>\n",
              "    <tr>\n",
              "      <th>0</th>\n",
              "      <td>audi</td>\n",
              "      <td>a4</td>\n",
              "      <td>1.8</td>\n",
              "      <td>1999</td>\n",
              "      <td>4</td>\n",
              "      <td>auto(l5)</td>\n",
              "      <td>f</td>\n",
              "      <td>18</td>\n",
              "      <td>29</td>\n",
              "      <td>p</td>\n",
              "      <td>compact</td>\n",
              "    </tr>\n",
              "    <tr>\n",
              "      <th>1</th>\n",
              "      <td>audi</td>\n",
              "      <td>a4</td>\n",
              "      <td>1.8</td>\n",
              "      <td>1999</td>\n",
              "      <td>4</td>\n",
              "      <td>manual(m5)</td>\n",
              "      <td>f</td>\n",
              "      <td>21</td>\n",
              "      <td>29</td>\n",
              "      <td>p</td>\n",
              "      <td>compact</td>\n",
              "    </tr>\n",
              "    <tr>\n",
              "      <th>2</th>\n",
              "      <td>audi</td>\n",
              "      <td>a4</td>\n",
              "      <td>2.0</td>\n",
              "      <td>2008</td>\n",
              "      <td>4</td>\n",
              "      <td>manual(m6)</td>\n",
              "      <td>f</td>\n",
              "      <td>20</td>\n",
              "      <td>31</td>\n",
              "      <td>p</td>\n",
              "      <td>compact</td>\n",
              "    </tr>\n",
              "    <tr>\n",
              "      <th>3</th>\n",
              "      <td>audi</td>\n",
              "      <td>a4</td>\n",
              "      <td>2.0</td>\n",
              "      <td>2008</td>\n",
              "      <td>4</td>\n",
              "      <td>auto(av)</td>\n",
              "      <td>f</td>\n",
              "      <td>21</td>\n",
              "      <td>30</td>\n",
              "      <td>p</td>\n",
              "      <td>compact</td>\n",
              "    </tr>\n",
              "    <tr>\n",
              "      <th>4</th>\n",
              "      <td>audi</td>\n",
              "      <td>a4</td>\n",
              "      <td>2.8</td>\n",
              "      <td>1999</td>\n",
              "      <td>6</td>\n",
              "      <td>auto(l5)</td>\n",
              "      <td>f</td>\n",
              "      <td>16</td>\n",
              "      <td>26</td>\n",
              "      <td>p</td>\n",
              "      <td>compact</td>\n",
              "    </tr>\n",
              "  </tbody>\n",
              "</table>\n",
              "</div>\n",
              "      <button class=\"colab-df-convert\" onclick=\"convertToInteractive('df-cd626ef7-8396-4644-903f-709275af8fc5')\"\n",
              "              title=\"Convert this dataframe to an interactive table.\"\n",
              "              style=\"display:none;\">\n",
              "        \n",
              "  <svg xmlns=\"http://www.w3.org/2000/svg\" height=\"24px\"viewBox=\"0 0 24 24\"\n",
              "       width=\"24px\">\n",
              "    <path d=\"M0 0h24v24H0V0z\" fill=\"none\"/>\n",
              "    <path d=\"M18.56 5.44l.94 2.06.94-2.06 2.06-.94-2.06-.94-.94-2.06-.94 2.06-2.06.94zm-11 1L8.5 8.5l.94-2.06 2.06-.94-2.06-.94L8.5 2.5l-.94 2.06-2.06.94zm10 10l.94 2.06.94-2.06 2.06-.94-2.06-.94-.94-2.06-.94 2.06-2.06.94z\"/><path d=\"M17.41 7.96l-1.37-1.37c-.4-.4-.92-.59-1.43-.59-.52 0-1.04.2-1.43.59L10.3 9.45l-7.72 7.72c-.78.78-.78 2.05 0 2.83L4 21.41c.39.39.9.59 1.41.59.51 0 1.02-.2 1.41-.59l7.78-7.78 2.81-2.81c.8-.78.8-2.07 0-2.86zM5.41 20L4 18.59l7.72-7.72 1.47 1.35L5.41 20z\"/>\n",
              "  </svg>\n",
              "      </button>\n",
              "      \n",
              "  <style>\n",
              "    .colab-df-container {\n",
              "      display:flex;\n",
              "      flex-wrap:wrap;\n",
              "      gap: 12px;\n",
              "    }\n",
              "\n",
              "    .colab-df-convert {\n",
              "      background-color: #E8F0FE;\n",
              "      border: none;\n",
              "      border-radius: 50%;\n",
              "      cursor: pointer;\n",
              "      display: none;\n",
              "      fill: #1967D2;\n",
              "      height: 32px;\n",
              "      padding: 0 0 0 0;\n",
              "      width: 32px;\n",
              "    }\n",
              "\n",
              "    .colab-df-convert:hover {\n",
              "      background-color: #E2EBFA;\n",
              "      box-shadow: 0px 1px 2px rgba(60, 64, 67, 0.3), 0px 1px 3px 1px rgba(60, 64, 67, 0.15);\n",
              "      fill: #174EA6;\n",
              "    }\n",
              "\n",
              "    [theme=dark] .colab-df-convert {\n",
              "      background-color: #3B4455;\n",
              "      fill: #D2E3FC;\n",
              "    }\n",
              "\n",
              "    [theme=dark] .colab-df-convert:hover {\n",
              "      background-color: #434B5C;\n",
              "      box-shadow: 0px 1px 3px 1px rgba(0, 0, 0, 0.15);\n",
              "      filter: drop-shadow(0px 1px 2px rgba(0, 0, 0, 0.3));\n",
              "      fill: #FFFFFF;\n",
              "    }\n",
              "  </style>\n",
              "\n",
              "      <script>\n",
              "        const buttonEl =\n",
              "          document.querySelector('#df-cd626ef7-8396-4644-903f-709275af8fc5 button.colab-df-convert');\n",
              "        buttonEl.style.display =\n",
              "          google.colab.kernel.accessAllowed ? 'block' : 'none';\n",
              "\n",
              "        async function convertToInteractive(key) {\n",
              "          const element = document.querySelector('#df-cd626ef7-8396-4644-903f-709275af8fc5');\n",
              "          const dataTable =\n",
              "            await google.colab.kernel.invokeFunction('convertToInteractive',\n",
              "                                                     [key], {});\n",
              "          if (!dataTable) return;\n",
              "\n",
              "          const docLinkHtml = 'Like what you see? Visit the ' +\n",
              "            '<a target=\"_blank\" href=https://colab.research.google.com/notebooks/data_table.ipynb>data table notebook</a>'\n",
              "            + ' to learn more about interactive tables.';\n",
              "          element.innerHTML = '';\n",
              "          dataTable['output_type'] = 'display_data';\n",
              "          await google.colab.output.renderOutput(dataTable, element);\n",
              "          const docLink = document.createElement('div');\n",
              "          docLink.innerHTML = docLinkHtml;\n",
              "          element.appendChild(docLink);\n",
              "        }\n",
              "      </script>\n",
              "    </div>\n",
              "  </div>\n",
              "  "
            ]
          },
          "metadata": {},
          "execution_count": 33
        }
      ],
      "source": [
        "mpg.head(5)"
      ]
    },
    {
      "cell_type": "markdown",
      "metadata": {
        "id": "nmK9lZA39m4r"
      },
      "source": [
        "**Questions**:\n",
        "\n",
        "- **Q8** (*4pts*) Write the code to select a range of five rows starting with row 5 of `mpg` (Using Python parlance, where the 'row 5' is the 6th row in the data - that is, rows 0-4 aren't included)."
      ]
    },
    {
      "cell_type": "code",
      "execution_count": null,
      "metadata": {
        "id": "GDeEMZYxGIb4"
      },
      "outputs": [],
      "source": [
        "# Answer-Q8\n"
      ]
    },
    {
      "cell_type": "code",
      "execution_count": null,
      "metadata": {
        "cellView": "form",
        "id": "A3pBf2vUMgdr"
      },
      "outputs": [],
      "source": [
        "#@markdown *Check your work - run this cell to see expected Q8 output*\n",
        "lab4.L4_Q8_Answers().show_output()"
      ]
    },
    {
      "cell_type": "markdown",
      "metadata": {
        "id": "xf-GWExMFK8L"
      },
      "source": [
        "- **Q9** (*5pts*) Write the code to select all rows with a class of 'midsize'."
      ]
    },
    {
      "cell_type": "code",
      "execution_count": null,
      "metadata": {
        "id": "mdLCcYytGN0T"
      },
      "outputs": [],
      "source": [
        "# Answer-Q9\n"
      ]
    },
    {
      "cell_type": "markdown",
      "metadata": {
        "id": "4s-a5iHuFLYa"
      },
      "source": [
        "- **Q10** (*5pts*) Write the code to select all rows with a class of 'midsize' and `hwy` economy of 24 miles per gallon?\n",
        "    - Tips: You can split the answer into multiple steps - first select a smaller DataFrame based on one comparison, then select a smaller version of *that* DataFrame. Another way is to combine the criteria with `&` - but use brackets so that the computer knows the order of operations. i.e. mpg[(comparison1) & (comparison2)]"
      ]
    },
    {
      "cell_type": "code",
      "execution_count": null,
      "metadata": {
        "id": "X2C4JyUQGQhl"
      },
      "outputs": [],
      "source": [
        "# Answer-Q10\n"
      ]
    },
    {
      "cell_type": "code",
      "execution_count": null,
      "metadata": {
        "cellView": "form",
        "id": "LBwHVejzQXc4"
      },
      "outputs": [],
      "source": [
        "#@markdown *Check your work - run this cell to see expected Q8 output*\n",
        "lab4.L4_Q10_Answers().show_output()"
      ]
    },
    {
      "cell_type": "code",
      "execution_count": null,
      "metadata": {
        "cellView": "form",
        "id": "50IJgrldGl56"
      },
      "outputs": [],
      "source": [
        "#@markdown - **Q11**: (*5pts*) What is the average city fuel economy for compact cars?\n",
        "q11_answer = \"\" #@param [\"\", 16.9, 28.3, 23.4, 20.1]"
      ]
    },
    {
      "cell_type": "markdown",
      "metadata": {
        "id": "xR-Hy-t0FLxd"
      },
      "source": [
        "- **Q12** (*7pts*) Convert this SQL to the equivalent in Pandas:\n",
        "\n",
        "```sql\n",
        "SELECT model, manufacturer FROM mpg\n",
        "WHERE year > 2005\n",
        "ORDER BY hwy DESC\n",
        "```"
      ]
    },
    {
      "cell_type": "code",
      "execution_count": null,
      "metadata": {
        "id": "0yhx6R8DGsPM"
      },
      "outputs": [],
      "source": [
        "# Answer-Q12\n"
      ]
    },
    {
      "cell_type": "code",
      "execution_count": null,
      "metadata": {
        "cellView": "form",
        "id": "9o3AxJd1G1qr"
      },
      "outputs": [],
      "source": [
        "#@markdown - **Q13** (*6pts*) Which car had the best city fuel economy in 1999?\n",
        "q13_answer = \"\" #@param [\"\", \"Toyota Corolla\", \"Nissan Altima\", \"Volkswagen New Beetle\", \"Toyota Camry Solara\"]"
      ]
    },
    {
      "cell_type": "code",
      "execution_count": null,
      "metadata": {
        "cellView": "form",
        "id": "-crV2Z-yHG9v"
      },
      "outputs": [],
      "source": [
        "#@markdown - **Q14** (*6pts*) How many cars have a highway economy that's more than 10 MPG better on highways than in cities?\n",
        "q14_answer = 0 #@param {type: 'number'}"
      ]
    },
    {
      "cell_type": "markdown",
      "metadata": {
        "id": "FPixzyo29m4w"
      },
      "source": [
        "## Split Apply Combine - Initial Questions"
      ]
    },
    {
      "cell_type": "code",
      "execution_count": null,
      "metadata": {
        "cellView": "form",
        "id": "IhSmmq-8HZi6"
      },
      "outputs": [],
      "source": [
        "#@markdown - **Q15** In plain English, what would I *split* on, and what type of code would I *apply* for the following questions:\n",
        "#@markdown    - **a** (*4pts*) Get the number of cars from each manufacturer.\n",
        "#@markdown    - **b** (*4pts*) Figure out how cylinders affect fuel economy.\n",
        "\n",
        "q15a_answer = \"\" #@param {type: 'string'}\n",
        "q15b_answer = \"\" #@param {type: 'string'}"
      ]
    },
    {
      "cell_type": "markdown",
      "metadata": {
        "id": "M5qZ4bpUPVnc"
      },
      "source": [
        "## Review"
      ]
    },
    {
      "cell_type": "code",
      "execution_count": null,
      "metadata": {
        "cellView": "form",
        "id": "wLhV8_IpHmY7"
      },
      "outputs": [],
      "source": [
        "#@markdown **Q16** (26pt): Match the concept to the example of the concept.\n",
        "#@markdown - a) Method\n",
        "q16a_answer = \"\" #@param [\"\", \"print()\", \"pd.read_csv()\", \"sep=' ', as in print(\\\"hello world\\\", sep=' ')\", 3.1415, 42, [1, 2, 3], \"WHERE\", \"SELECT * FROM heights;\", \">\", \"SQLite\", \"Pandas\", \"Python\", \"_\"]\n",
        "#@markdown - b) Float\n",
        "q16b_answer = \"\" #@param [\"\", \"print()\", \"pd.read_csv()\", \"sep=' ', as in print(\\\"hello world\\\", sep=' ')\", 3.1415, 42, [1, 2, 3], \"WHERE\", \"SELECT * FROM heights;\", \">\", \"SQLite\", \"Pandas\", \"Python\", \"_\"]\n",
        "#@markdown - c) Programming Language\n",
        "q16c_answer = \"\" #@param [\"\", \"print()\", \"pd.read_csv()\", \"sep=' ', as in print(\\\"hello world\\\", sep=' ')\", 3.1415, 42, [1, 2, 3], \"WHERE\", \"SELECT * FROM heights;\", \">\", \"SQLite\", \"Pandas\", \"Python\", \"_\"]\n",
        "#@markdown - d) SQL Statement\n",
        "q16d_answer = \"\" #@param [\"\", \"print()\", \"pd.read_csv()\", \"sep=' ', as in print(\\\"hello world\\\", sep=' ')\", 3.1415, 42, [1, 2, 3], \"WHERE\", \"SELECT * FROM heights;\", \">\", \"SQLite\", \"Pandas\", \"Python\", \"_\"]\n",
        "#@markdown - e) Logical Operator\n",
        "q16e_answer = \"\" #@param [\"\", \"print()\", \"pd.read_csv()\", \"sep=' ', as in print(\\\"hello world\\\", sep=' ')\", 3.1415, 42, [1, 2, 3], \"WHERE\", \"SELECT * FROM heights;\", \">\", \"SQLite\", \"Pandas\", \"Python\", \"_\"]\n",
        "#@markdown - f) List\n",
        "q16f_answer = \"\" #@param [\"\", \"print()\", \"pd.read_csv()\", \"sep=' ', as in print(\\\"hello world\\\", sep=' ')\", 3.1415, 42, [1, 2, 3], \"WHERE\", \"SELECT * FROM heights;\", \">\", \"SQLite\", \"Pandas\", \"Python\", \"_\"]\n",
        "#@markdown - g) Named Argument\n",
        "q16g_answer = \"\" #@param [\"\", \"print()\", \"pd.read_csv()\", \"sep=' ', as in print(\\\"hello world\\\", sep=' ')\", 3.1415, 42, [1, 2, 3], \"WHERE\", \"SELECT * FROM heights;\", \">\", \"SQLite\", \"Pandas\", \"Python\", \"_\"]\n",
        "#@markdown - h) Integer\n",
        "q16h_answer = \"\" #@param [\"\", \"print()\", \"pd.read_csv()\", \"sep=' ', as in print(\\\"hello world\\\", sep=' ')\", 3.1415, 42, [1, 2, 3], \"WHERE\", \"SELECT * FROM heights;\", \">\", \"SQLite\", \"Pandas\", \"Python\", \"_\"]\n",
        "#@markdown - i) SQL Clause\n",
        "q16i_answer = \"\" #@param [\"\", \"print()\", \"pd.read_csv()\", \"sep=' ', as in print(\\\"hello world\\\", sep=' ')\", 3.1415, 42, [1, 2, 3], \"WHERE\", \"SELECT * FROM heights;\", \">\", \"SQLite\", \"Pandas\", \"Python\", \"_\"]\n",
        "#@markdown - j) LIKE wildcard\n",
        "q16j_answer = \"\" #@param [\"\", \"print()\", \"pd.read_csv()\", \"sep=' ', as in print(\\\"hello world\\\", sep=' ')\", 3.1415, 42, [1, 2, 3], \"WHERE\", \"SELECT * FROM heights;\", \">\", \"SQLite\", \"Pandas\", \"Python\", \"_\"]\n",
        "#@markdown - k) DBMS\n",
        "q16k_answer = \"\" #@param [\"\", \"print()\", \"pd.read_csv()\", \"sep=' ', as in print(\\\"hello world\\\", sep=' ')\", 3.1415, 42, [1, 2, 3], \"WHERE\", \"SELECT * FROM heights;\", \">\", \"SQLite\", \"Pandas\", \"Python\", \"_\"]\n",
        "#@markdown - l) Function\n",
        "q16l_answer = \"\" #@param [\"\", \"print()\", \"pd.read_csv()\", \"sep=' ', as in print(\\\"hello world\\\", sep=' ')\", 3.1415, 42, [1, 2, 3], \"WHERE\", \"SELECT * FROM heights;\", \">\", \"SQLite\", \"Pandas\", \"Python\", \"_\"]\n",
        "#@markdown - m) Library\n",
        "q16m_answer = \"\" #@param [\"\", \"print()\", \"pd.read_csv()\", \"sep=' ', as in print(\\\"hello world\\\", sep=' ')\", 3.1415, 42, [1, 2, 3], \"WHERE\", \"SELECT * FROM heights;\", \">\", \"SQLite\", \"Pandas\", \"Python\", \"_\"]\n",
        "\n",
        "#@markdown *Run this cell to doublecheck that you used all the responses.*\n",
        "response_options = [\"\", \"print()\", \"pd.read_csv()\", \"sep=' ', as in print(\\\"hello world\\\", sep=' ')\", 3.1415, 42, [1, 2, 3], \"WHERE\", \"SELECT * FROM heights;\", \">\", \"SQLite\", \"Pandas\", \"Python\", \"_\"]\n",
        "responses = [q16a_answer, q16b_answer, q16c_answer, q16d_answer, q16e_answer, q16f_answer, \n",
        "            q16g_answer, q16h_answer, q16i_answer, q16j_answer, q16k_answer, q16l_answer, q16m_answer]\n",
        "diff = set([str(a) for a in response_options]).difference([str(a) for a in responses])\n",
        "if len(diff) > 0:\n",
        "  print(\"You haven't used the following possible responses:\")\n",
        "  print(diff)\n",
        "\n",
        "#@markdown *To check if your answer is correct - talk to your classmates!*"
      ]
    },
    {
      "cell_type": "markdown",
      "metadata": {
        "id": "5qwxJlQgUul0"
      },
      "source": [
        "# Submission Instructions"
      ]
    },
    {
      "cell_type": "code",
      "execution_count": null,
      "metadata": {
        "cellView": "form",
        "id": "AEsi4nbuILBs"
      },
      "outputs": [],
      "source": [
        "#@markdown ### First, Enter your name for grading\n",
        "my_name = \"\" #@param { type:'string' }\n",
        "\n",
        "#@markdown _Have you saved your work for yourself? Don't forget to Save a Copy in Drive so that you have your progress._\n",
        "\n",
        "#@markdown ### Second, check your work:\n",
        "\n",
        "#@markdown - have you answered all the questions?\n",
        "#@markdown - Does this notebook run from top to bottom?\n",
        "#@markdown     - Go to \"Runtime > Restart and run all...\" to check. Do all the cells run, to the very bottom, or is there a cell in the middle with an error?\n",
        "#@markdown - Have you completed all the answers where you entered code, keeping the `# Answer-Qx` line at the start of those cells?\n",
        "\n",
        "#@markdown *A lab that the professor has to fix manually will lose 10pts - doublecheck!*\n",
        "\n",
        "#@markdown ### Finally, submit it.\n",
        "\n",
        "#@markdown - Download the file with \"File > Download .ipynb\" and submit it to the Canvas assignment page."
      ]
    }
  ],
  "metadata": {
    "colab": {
      "name": "04-Series-DataFrame-lab.ipynb",
      "provenance": [],
      "include_colab_link": true
    },
    "kernelspec": {
      "display_name": "Python 3",
      "language": "python",
      "name": "python3"
    },
    "language_info": {
      "codemirror_mode": {
        "name": "ipython",
        "version": 3
      },
      "file_extension": ".py",
      "mimetype": "text/x-python",
      "name": "python",
      "nbconvert_exporter": "python",
      "pygments_lexer": "ipython3",
      "version": "3.8.10"
    }
  },
  "nbformat": 4,
  "nbformat_minor": 0
}